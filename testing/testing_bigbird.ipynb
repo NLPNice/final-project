{
  "cells": [
    {
      "cell_type": "code",
      "execution_count": 1,
      "id": "580a2652-8eb4-4ab4-9c86-2a6f6ae631bd",
      "metadata": {
        "colab": {
          "base_uri": "https://localhost:8080/"
        },
        "id": "580a2652-8eb4-4ab4-9c86-2a6f6ae631bd",
        "outputId": "c286e265-ea76-4532-dc71-c3668fe3f015"
      },
      "outputs": [
        {
          "output_type": "stream",
          "name": "stdout",
          "text": [
            "Tue Apr 19 20:25:20 2022       \n",
            "+-----------------------------------------------------------------------------+\n",
            "| NVIDIA-SMI 460.32.03    Driver Version: 460.32.03    CUDA Version: 11.2     |\n",
            "|-------------------------------+----------------------+----------------------+\n",
            "| GPU  Name        Persistence-M| Bus-Id        Disp.A | Volatile Uncorr. ECC |\n",
            "| Fan  Temp  Perf  Pwr:Usage/Cap|         Memory-Usage | GPU-Util  Compute M. |\n",
            "|                               |                      |               MIG M. |\n",
            "|===============================+======================+======================|\n",
            "|   0  Tesla T4            Off  | 00000000:00:04.0 Off |                    0 |\n",
            "| N/A   67C    P8    12W /  70W |      0MiB / 15109MiB |      0%      Default |\n",
            "|                               |                      |                  N/A |\n",
            "+-------------------------------+----------------------+----------------------+\n",
            "                                                                               \n",
            "+-----------------------------------------------------------------------------+\n",
            "| Processes:                                                                  |\n",
            "|  GPU   GI   CI        PID   Type   Process name                  GPU Memory |\n",
            "|        ID   ID                                                   Usage      |\n",
            "|=============================================================================|\n",
            "|  No running processes found                                                 |\n",
            "+-----------------------------------------------------------------------------+\n"
          ]
        }
      ],
      "source": [
        "!nvidia-smi"
      ]
    },
    {
      "cell_type": "code",
      "execution_count": 2,
      "id": "045d4ac6-b7a5-4dca-a9a3-06e5c5da1087",
      "metadata": {
        "id": "045d4ac6-b7a5-4dca-a9a3-06e5c5da1087",
        "colab": {
          "base_uri": "https://localhost:8080/"
        },
        "outputId": "0ff58a13-d2fc-4d7b-a435-714dada5f086"
      },
      "outputs": [
        {
          "output_type": "stream",
          "name": "stdout",
          "text": [
            "\u001b[K     |████████████████████████████████| 4.0 MB 7.3 MB/s \n",
            "\u001b[K     |████████████████████████████████| 325 kB 2.9 MB/s \n",
            "\u001b[K     |████████████████████████████████| 352 kB 50.9 MB/s \n",
            "\u001b[K     |████████████████████████████████| 1.2 MB 55.6 MB/s \n",
            "\u001b[K     |████████████████████████████████| 6.6 MB 48.1 MB/s \n",
            "\u001b[K     |████████████████████████████████| 596 kB 58.5 MB/s \n",
            "\u001b[K     |████████████████████████████████| 77 kB 6.7 MB/s \n",
            "\u001b[K     |████████████████████████████████| 895 kB 59.4 MB/s \n",
            "\u001b[K     |████████████████████████████████| 136 kB 65.3 MB/s \n",
            "\u001b[K     |████████████████████████████████| 212 kB 65.9 MB/s \n",
            "\u001b[K     |████████████████████████████████| 1.1 MB 52.2 MB/s \n",
            "\u001b[K     |████████████████████████████████| 127 kB 67.6 MB/s \n",
            "\u001b[K     |████████████████████████████████| 271 kB 70.1 MB/s \n",
            "\u001b[K     |████████████████████████████████| 94 kB 3.0 MB/s \n",
            "\u001b[K     |████████████████████████████████| 144 kB 68.7 MB/s \n",
            "\u001b[K     |████████████████████████████████| 462 kB 68.6 MB/s \n",
            "\u001b[?25h  Building wheel for BLEURT (setup.py) ... \u001b[?25l\u001b[?25hdone\n",
            "\u001b[31mERROR: pip's dependency resolver does not currently take into account all the packages that are installed. This behaviour is the source of the following dependency conflicts.\n",
            "datascience 0.10.6 requires folium==0.2.1, but you have folium 0.8.3 which is incompatible.\u001b[0m\n"
          ]
        }
      ],
      "source": [
        "!pip install -q transformers datasets torchinfo rouge_score git+https://github.com/google-research/bleurt.git"
      ]
    },
    {
      "cell_type": "code",
      "execution_count": 1,
      "id": "59481c37-6984-4434-b17e-5e46ec73dc78",
      "metadata": {
        "colab": {
          "base_uri": "https://localhost:8080/"
        },
        "id": "59481c37-6984-4434-b17e-5e46ec73dc78",
        "outputId": "60d6fcb8-8b9d-4166-d1b9-468bd35ad17f"
      },
      "outputs": [
        {
          "output_type": "stream",
          "name": "stdout",
          "text": [
            "Drive already mounted at /gdrive; to attempt to forcibly remount, call drive.mount(\"/gdrive\", force_remount=True).\n"
          ]
        }
      ],
      "source": [
        "from google.colab import drive\n",
        "drive.mount('/gdrive')"
      ]
    },
    {
      "cell_type": "code",
      "execution_count": 2,
      "id": "a5abec24-acc7-45fd-a9d7-e1edd2044333",
      "metadata": {
        "id": "a5abec24-acc7-45fd-a9d7-e1edd2044333"
      },
      "outputs": [],
      "source": [
        "RANDOM_SEED = 42"
      ]
    },
    {
      "cell_type": "code",
      "source": [
        "DATA_PATH = \"/gdrive/MyDrive/final-project/post-refactor/data/\"\n",
        "DEVICE = \"cuda\""
      ],
      "metadata": {
        "id": "ZXGm8gEgp-Y7"
      },
      "id": "ZXGm8gEgp-Y7",
      "execution_count": 20,
      "outputs": []
    },
    {
      "cell_type": "markdown",
      "id": "7a42d1c9-cda7-4d2b-8461-2f52c5c32b41",
      "metadata": {
        "id": "7a42d1c9-cda7-4d2b-8461-2f52c5c32b41"
      },
      "source": [
        "# Dataset loading"
      ]
    },
    {
      "cell_type": "code",
      "execution_count": 3,
      "id": "0184c82a-8b59-4147-976a-5a94b1e8f314",
      "metadata": {
        "colab": {
          "base_uri": "https://localhost:8080/"
        },
        "id": "0184c82a-8b59-4147-976a-5a94b1e8f314",
        "outputId": "5abd9f17-e68e-4bc2-8658-ec3ae053a316"
      },
      "outputs": [
        {
          "output_type": "stream",
          "name": "stderr",
          "text": [
            "Loading cached split indices for dataset at /gdrive/MyDrive/final-project/post-refactor/data/tokenized_bigbird_dataset/cache-4e4df3dc8633de75.arrow and /gdrive/MyDrive/final-project/post-refactor/data/tokenized_bigbird_dataset/cache-5bc3cdbcb3bdc05b.arrow\n"
          ]
        }
      ],
      "source": [
        "# load already tokenized dataset\n",
        "from datasets import load_dataset, load_from_disk\n",
        "import os\n",
        "\n",
        "TOKENIZED_DATASET_PATH = os.path.join(DATA_PATH, \"tokenized_bigbird_dataset\")\n",
        "\n",
        "dataset = load_from_disk(TOKENIZED_DATASET_PATH)\n",
        "\n",
        "# split dataset into test and train\n",
        "dataset = dataset.train_test_split(test_size=0.10, seed=RANDOM_SEED)"
      ]
    },
    {
      "cell_type": "markdown",
      "id": "3ca27760-f6d1-4753-99a4-5957fce5a2c9",
      "metadata": {
        "id": "3ca27760-f6d1-4753-99a4-5957fce5a2c9"
      },
      "source": [
        "# Model loading"
      ]
    },
    {
      "cell_type": "code",
      "execution_count": 8,
      "id": "6d1ce6cf-6474-4c6e-ac6d-afbb1a042995",
      "metadata": {
        "colab": {
          "base_uri": "https://localhost:8080/"
        },
        "id": "6d1ce6cf-6474-4c6e-ac6d-afbb1a042995",
        "outputId": "eca0246d-2b2c-43f1-b780-2ea4773d2175"
      },
      "outputs": [
        {
          "output_type": "execute_result",
          "data": {
            "text/plain": [
              "====================================================================================================\n",
              "Layer (type:depth-idx)                                                      Param #\n",
              "====================================================================================================\n",
              "BigBirdPegasusForConditionalGeneration                                      --\n",
              "├─BigBirdPegasusModel: 1-1                                                  --\n",
              "│    └─Embedding: 2-1                                                       98,409,472\n",
              "│    └─BigBirdPegasusEncoder: 2-2                                           --\n",
              "│    │    └─Embedding: 3-1                                                  (recursive)\n",
              "│    │    └─BigBirdPegasusLearnedPositionalEmbedding: 3-2                   4,194,304\n",
              "│    │    └─ModuleList: 3-3                                                 201,474,048\n",
              "│    │    └─LayerNorm: 3-4                                                  2,048\n",
              "│    └─BigBirdPegasusDecoder: 2-3                                           --\n",
              "│    │    └─Embedding: 3-5                                                  (recursive)\n",
              "│    │    └─BigBirdPegasusLearnedPositionalEmbedding: 3-6                   4,194,304\n",
              "│    │    └─ModuleList: 3-7                                                 268,615,680\n",
              "│    │    └─LayerNorm: 3-8                                                  2,048\n",
              "├─Linear: 1-2                                                               98,409,472\n",
              "====================================================================================================\n",
              "Total params: 675,301,376\n",
              "Trainable params: 675,301,376\n",
              "Non-trainable params: 0\n",
              "===================================================================================================="
            ]
          },
          "metadata": {},
          "execution_count": 8
        }
      ],
      "source": [
        "from transformers import BigBirdPegasusForConditionalGeneration\n",
        "from torchinfo import summary\n",
        "\n",
        "FINETUNE_MODEL_PATH = os.path.join(DATA_PATH, \"BigBirdModelFineTune/\", \"final/\")\n",
        "model = BigBirdPegasusForConditionalGeneration.from_pretrained(\n",
        "    FINETUNE_MODEL_PATH,\n",
        "    block_size=16,\n",
        "    num_random_blocks=3,\n",
        "    attention_type=\"block_sparse\",\n",
        "    use_cache=True)\n",
        "model.gradient_checkpointing_enable()\n",
        "summary(model, dtypes=[\"torch.IntTensor\"])"
      ]
    },
    {
      "cell_type": "markdown",
      "id": "83d5e1f8-6c38-40ae-8c8e-a9bcc67a258f",
      "metadata": {
        "id": "83d5e1f8-6c38-40ae-8c8e-a9bcc67a258f"
      },
      "source": [
        "# Generation\n",
        "\n",
        "We have different methods which can be used to genetate text, mainly Greedy search, Beam search, Top-K sampling and Top-p sampling.\n",
        "\n",
        "We will test those on a random sample first, to get an idea of the capabilities of the model."
      ]
    },
    {
      "cell_type": "code",
      "source": [
        "from IPython.display import HTML, display\n",
        "from transformers import AutoTokenizer\n",
        "import torch\n",
        "\n",
        "tokenizer = AutoTokenizer.from_pretrained(\"google/bigbird-pegasus-large-bigpatent\")\n",
        "\n",
        "def show_patent(summary, claim, generated_claim=\"\", title=\"\"):\n",
        "  html = f\"\"\"\n",
        "    <div>\n",
        "      <h1>{ title }</h1>\n",
        "      <hr/>\n",
        "      <h2>Summary</h2>\n",
        "      <p>{ summary }</p>\n",
        "      <hr/>\n",
        "      <h2>Claim</h2>\n",
        "      <p>{ claim }</p>\n",
        "      <hr/>\n",
        "      <h2>Generated claim</h2>\n",
        "      <p>{ generated_claim }</p>\n",
        "    </div>\n",
        "  \"\"\" \n",
        "  return HTML(html)"
      ],
      "metadata": {
        "id": "sq7VGml1iM2z"
      },
      "id": "sq7VGml1iM2z",
      "execution_count": 15,
      "outputs": []
    },
    {
      "cell_type": "code",
      "source": [
        "sample_summary = dataset[\"test\"][\"input_ids\"][4]\n",
        "sample_summary_batched = torch.unsqueeze(torch.tensor(sample_summary), 0).to(DEVICE)\n",
        "sample_claim = dataset[\"test\"][\"decoder_input_ids\"][4]\n",
        "sample_claim_batched = torch.unsqueeze(torch.tensor(sample_claim), 0).to(DEVICE)\n",
        "\n",
        "text_summary_sample = tokenizer.decode(sample_summary, skip_special_tokens=True)\n",
        "text_claim_sample = tokenizer.decode(sample_claim, skip_special_tokens=True)\n",
        "show_patent(text_summary_sample, text_claim_sample, generated_claim=\"TODO\", title=\"Original sample\")"
      ],
      "metadata": {
        "colab": {
          "base_uri": "https://localhost:8080/",
          "height": 773
        },
        "id": "H09vt7j2hhaK",
        "outputId": "9d16eb1a-5514-4240-9bec-9755276241a6"
      },
      "id": "H09vt7j2hhaK",
      "execution_count": 16,
      "outputs": [
        {
          "output_type": "execute_result",
          "data": {
            "text/plain": [
              "<IPython.core.display.HTML object>"
            ],
            "text/html": [
              "\n",
              "    <div>\n",
              "      <h1>Original sample</h1>\n",
              "      <hr/>\n",
              "      <h2>Summary</h2>\n",
              "      <p>the invention is defined by the amended claims. providedherein is a method of identifying olfactory receptors that are activated by an odorant or aroma compound comprising: a dissociating an isolated olfactory epithelium containing native olfactory neurons into single cells from a non-human mammal species wherein each neuron expresses an olfactory receptor;b loading the olfactory cells with an indicator dye that allows for the measurement of odorant or aroma receptor binding activity of the olfactory receptors;c contacting the olfactory receptors with odorant or aroma compounds sequentially;d measuring changes of odorant or aroma-induced neuronal activity;e isolating one or more olfactory neurons that were activated by a odorant or aroma compound;f amplifying the mrna of the isolated olfactory receptors;g sequencing at least a portion of the transcriptome of the mrna by next-generation sequencing; andh determining the identity of a group of olfactory receptors selected from the group consisting of odorant and aroma receptors by comparing the sequence of the transcriptome to a reference genome sequence of the same species and other vertebrate species. further provided herein is a method of identifying olfactory receptors that are activated by a malodor compound comprising: a dissociating an isolated olfactory epithelium containing native olfactory neurons into single cells from a non-human mammal species wherein each neuron expresses an olfactory receptor;b loading the olfactory cells with an indicator dye that allows for the measurement of malodor receptor binding activity of the olfactory receptors;c contacting the olfactory receptors with malodor compounds sequentially;d measuring changes of odorant-induced neuronal activity;e isolating one or more olfactory neurons that were activated by a malodor compound;f amplifying the mrna of the isolated olfactory receptors;g sequencing at least a portion of the transcriptome of the mrna by next-generation sequencing; andh determining the identity of a group of malodor olfactory receptors by comparing the sequence of the transcriptome to a reference genome sequence of the same species and other vertebrate species. further provided herein is an isolated nucleic acid sequence having at least 60 sequence identity with a nucleic acid sequence selected from the group consisting of seq id no: 1, seq id no: 3, seq id no: 5, seq id no: 7, seq id no: 9, seq id no: 11, seq id no: 13, seq id no: 15, seq id no: 27, seq id no: 29, seq id no: 31, seq id no: 33, seq id no: 35, seq id no: 37, seq id no: 39, seq id no: 41, seq id no: 43, seq id no: 45, seq id no: 47, seq id no: 49, seq id no: 51, seq id no: 53, seq id no: 55, seq id no: 57, seq id no: 59, seq id no: 61, seq id no: 63, seq id no: 65, seq id no: 67, seq id no: 69, seq id no: 71, seq id no: 73, seq id no: 75, seq id no: 77, seq id no: 79, seq id no: 81, seq id no: 83 and seq id no: 85. also provided herein is an isolated nucleic acid sequence as describe above which encodes a polypeptide having at least 60 sequence identify with a polypeptide having an amino acid sequence selected from the group consisting of: seq id no: 2, seq id no: 4, seq id no: 6, seq id no: 8, seq id no: 10, seq id no: 12, seq id no: 14 seq id no: 16, seq id no: 28, seq id no: 30, seq id no: 32, seq id no: 34, seq id no: 36, seq id no: 38, seq id no: 40, seq id no: 42, seq id no: 44, seq id no: 46, seq id no: 48, seq id no: 50, seq id no: 52, seq id no: 54, seq id no: 56, seq id no: 58, seq id no: 60, seq id no: 62, seq id no: 64, seq id no: 66, seq id no: 68, seq id no: 70, seq id no: 72, seq id no: 74, seq id no: 76, seq id no: 78, seq id no: 80, seq id no: 82, seq id no: 84 and seq id no: 86. further provided herein is an isolated polypeptide comprising an amino acid sequence having at least 60 sequence identify with an amino acid sequence selected from the group consisting of seq id no: 2, seq id no: 4, seq id no: 6, seq id no: 8, seq id no: 10, seq id no: 12, seq id no: 14 seq id no: 16, seq id no: 28, seq id no: 30, seq id no: 32, seq id no: 34, seq id no: 36, seq id no: 38, seq id no: 40, seq id no: 42, seq id no: 44, seq id no: 46, seq id no: 48, seq id no: 50, seq id no: 52, seq id no: 54, seq id no: 56, seq id no: 58, seq id no: 60, seq id no: 62, seq id no: 64, seq id no: 66, seq id no: 68, seq id no: 70, seq id no: 72, seq id no: 74, seq id no: 76, seq id no: 78, seq id no: 80, seq id no: 82, seq id no: 84 and seq id no: 86. still yet further provided is a cell that is recombinantly modified to express a polypeptide, described above. further provided are assays for identifying compounds that bind to indole andor skatole odorant receptors. in particular, provided herein is a method for identifying a compound that blocks, inhibits, modulates, andor enhances the activity of an olfactory receptor that is activated by a compound selected from the group consisting of indole and skatole comprising a contacting the receptor, or a chimera or fragment with a compound;b assaying whether the compound has an effect on the activity of the receptor; wherein the receptor is a polypeptide described above. in a further embodiment, provided herein, when a functional assay is used to measuring binding activity, the step of measuring a signaling activity of receptors provided herein may comprise detecting a change in the level of a second messenger. in another embodiment, the measurement of a signalling activity is provided wherein the step of measuring a signaling activity comprises the measurement of guanine nucleotide bindingcoupling or exchange, adenylate cyclase activity, camp, protein kinase c activity, protein kinase a activity phosphatidylinosotol breakdown, diacylglycerol, inositol triphosphate, intracellular calcium, calcium flux, arachidonic acid, map kinase activity, tyrosine kinase activity, melanophore assay, receptor initialization assay, or reporter gene expression. in a particular embodiment provided herein, the measuring of signaling activity comprises using a fluorescence or luminescence assay. fluorescence and luminescence assays may comprise the use ofca2 sensitive fluorophores including 00flu03flu04 15 or fura, molecular probesprobes; ca3-kit family molecular device and aequorin.</p>\n",
              "      <hr/>\n",
              "      <h2>Claim</h2>\n",
              "      <p>an in vitro method for identifying a compound that blocks, inhibits, modulates, andor enhances the activity of an olfactory receptor selected from the group consisting of odorant or aroma receptors that is activated by a compound selected from the group consisting of indole and skatole comprisinga contacting at least one receptor, or a chimera or fragment thereof, with a compound, wherein the receptor is a polypeptide comprising an amino acid sequence having at least 60 sequence identity with the amino acid sequence of seq id no: 2;b measuring the extent to which the compound blocks, inhibits, modulates, or enhances the activity of the receptor; andc identifying a compound that blocks, inhibits, modulates or enhances the response of the olfactory receptor.</p>\n",
              "      <hr/>\n",
              "      <h2>Generated claim</h2>\n",
              "      <p>TODO</p>\n",
              "    </div>\n",
              "  "
            ]
          },
          "metadata": {},
          "execution_count": 16
        }
      ]
    },
    {
      "cell_type": "code",
      "source": [
        "#@title Greedy search\n",
        "\n",
        "greedy_output = model.generate(sample_summary_batched, max_length=500)\n",
        "\n",
        "generated_claim_sample = tokenizer.decode(greedy_output.squeeze(0), \n",
        "                                          skip_special_tokens=True, \n",
        "                                          truncation=True)\n",
        "\n",
        "show_patent(text_summary_sample, text_claim_sample, \n",
        "            generated_claim=generated_claim_sample, \n",
        "            title=\"Greedy search generation\")"
      ],
      "metadata": {
        "colab": {
          "base_uri": "https://localhost:8080/",
          "height": 1000
        },
        "cellView": "form",
        "id": "EGDE13cDjbsI",
        "outputId": "a372d49f-6b62-4db7-ad5d-2c1726aeca62"
      },
      "id": "EGDE13cDjbsI",
      "execution_count": 42,
      "outputs": [
        {
          "output_type": "stream",
          "name": "stderr",
          "text": [
            "/usr/local/lib/python3.7/dist-packages/transformers/models/bigbird_pegasus/modeling_bigbird_pegasus.py:805: UserWarning: __floordiv__ is deprecated, and its behavior will change in a future version of pytorch. It currently rounds toward 0 (like the 'trunc' function NOT 'floor'). This results in incorrect rounding for negative values. To keep the current behavior, use torch.div(a, b, rounding_mode='trunc'), or for actual floor division, use torch.div(a, b, rounding_mode='floor').\n",
            "  * num_indices_to_pick_from\n"
          ]
        },
        {
          "output_type": "execute_result",
          "data": {
            "text/plain": [
              "<IPython.core.display.HTML object>"
            ],
            "text/html": [
              "\n",
              "    <div>\n",
              "      <h1>Original sample</h1>\n",
              "      <hr/>\n",
              "      <h2>Summary</h2>\n",
              "      <p>the invention is defined by the amended claims. providedherein is a method of identifying olfactory receptors that are activated by an odorant or aroma compound comprising: a dissociating an isolated olfactory epithelium containing native olfactory neurons into single cells from a non-human mammal species wherein each neuron expresses an olfactory receptor;b loading the olfactory cells with an indicator dye that allows for the measurement of odorant or aroma receptor binding activity of the olfactory receptors;c contacting the olfactory receptors with odorant or aroma compounds sequentially;d measuring changes of odorant or aroma-induced neuronal activity;e isolating one or more olfactory neurons that were activated by a odorant or aroma compound;f amplifying the mrna of the isolated olfactory receptors;g sequencing at least a portion of the transcriptome of the mrna by next-generation sequencing; andh determining the identity of a group of olfactory receptors selected from the group consisting of odorant and aroma receptors by comparing the sequence of the transcriptome to a reference genome sequence of the same species and other vertebrate species. further provided herein is a method of identifying olfactory receptors that are activated by a malodor compound comprising: a dissociating an isolated olfactory epithelium containing native olfactory neurons into single cells from a non-human mammal species wherein each neuron expresses an olfactory receptor;b loading the olfactory cells with an indicator dye that allows for the measurement of malodor receptor binding activity of the olfactory receptors;c contacting the olfactory receptors with malodor compounds sequentially;d measuring changes of odorant-induced neuronal activity;e isolating one or more olfactory neurons that were activated by a malodor compound;f amplifying the mrna of the isolated olfactory receptors;g sequencing at least a portion of the transcriptome of the mrna by next-generation sequencing; andh determining the identity of a group of malodor olfactory receptors by comparing the sequence of the transcriptome to a reference genome sequence of the same species and other vertebrate species. further provided herein is an isolated nucleic acid sequence having at least 60 sequence identity with a nucleic acid sequence selected from the group consisting of seq id no: 1, seq id no: 3, seq id no: 5, seq id no: 7, seq id no: 9, seq id no: 11, seq id no: 13, seq id no: 15, seq id no: 27, seq id no: 29, seq id no: 31, seq id no: 33, seq id no: 35, seq id no: 37, seq id no: 39, seq id no: 41, seq id no: 43, seq id no: 45, seq id no: 47, seq id no: 49, seq id no: 51, seq id no: 53, seq id no: 55, seq id no: 57, seq id no: 59, seq id no: 61, seq id no: 63, seq id no: 65, seq id no: 67, seq id no: 69, seq id no: 71, seq id no: 73, seq id no: 75, seq id no: 77, seq id no: 79, seq id no: 81, seq id no: 83 and seq id no: 85. also provided herein is an isolated nucleic acid sequence as describe above which encodes a polypeptide having at least 60 sequence identify with a polypeptide having an amino acid sequence selected from the group consisting of: seq id no: 2, seq id no: 4, seq id no: 6, seq id no: 8, seq id no: 10, seq id no: 12, seq id no: 14 seq id no: 16, seq id no: 28, seq id no: 30, seq id no: 32, seq id no: 34, seq id no: 36, seq id no: 38, seq id no: 40, seq id no: 42, seq id no: 44, seq id no: 46, seq id no: 48, seq id no: 50, seq id no: 52, seq id no: 54, seq id no: 56, seq id no: 58, seq id no: 60, seq id no: 62, seq id no: 64, seq id no: 66, seq id no: 68, seq id no: 70, seq id no: 72, seq id no: 74, seq id no: 76, seq id no: 78, seq id no: 80, seq id no: 82, seq id no: 84 and seq id no: 86. further provided herein is an isolated polypeptide comprising an amino acid sequence having at least 60 sequence identify with an amino acid sequence selected from the group consisting of seq id no: 2, seq id no: 4, seq id no: 6, seq id no: 8, seq id no: 10, seq id no: 12, seq id no: 14 seq id no: 16, seq id no: 28, seq id no: 30, seq id no: 32, seq id no: 34, seq id no: 36, seq id no: 38, seq id no: 40, seq id no: 42, seq id no: 44, seq id no: 46, seq id no: 48, seq id no: 50, seq id no: 52, seq id no: 54, seq id no: 56, seq id no: 58, seq id no: 60, seq id no: 62, seq id no: 64, seq id no: 66, seq id no: 68, seq id no: 70, seq id no: 72, seq id no: 74, seq id no: 76, seq id no: 78, seq id no: 80, seq id no: 82, seq id no: 84 and seq id no: 86. still yet further provided is a cell that is recombinantly modified to express a polypeptide, described above. further provided are assays for identifying compounds that bind to indole andor skatole odorant receptors. in particular, provided herein is a method for identifying a compound that blocks, inhibits, modulates, andor enhances the activity of an olfactory receptor that is activated by a compound selected from the group consisting of indole and skatole comprising a contacting the receptor, or a chimera or fragment with a compound;b assaying whether the compound has an effect on the activity of the receptor; wherein the receptor is a polypeptide described above. in a further embodiment, provided herein, when a functional assay is used to measuring binding activity, the step of measuring a signaling activity of receptors provided herein may comprise detecting a change in the level of a second messenger. in another embodiment, the measurement of a signalling activity is provided wherein the step of measuring a signaling activity comprises the measurement of guanine nucleotide bindingcoupling or exchange, adenylate cyclase activity, camp, protein kinase c activity, protein kinase a activity phosphatidylinosotol breakdown, diacylglycerol, inositol triphosphate, intracellular calcium, calcium flux, arachidonic acid, map kinase activity, tyrosine kinase activity, melanophore assay, receptor initialization assay, or reporter gene expression. in a particular embodiment provided herein, the measuring of signaling activity comprises using a fluorescence or luminescence assay. fluorescence and luminescence assays may comprise the use ofca2 sensitive fluorophores including 00flu03flu04 15 or fura, molecular probesprobes; ca3-kit family molecular device and aequorin.</p>\n",
              "      <hr/>\n",
              "      <h2>Claim</h2>\n",
              "      <p>an in vitro method for identifying a compound that blocks, inhibits, modulates, andor enhances the activity of an olfactory receptor selected from the group consisting of odorant or aroma receptors that is activated by a compound selected from the group consisting of indole and skatole comprisinga contacting at least one receptor, or a chimera or fragment thereof, with a compound, wherein the receptor is a polypeptide comprising an amino acid sequence having at least 60 sequence identity with the amino acid sequence of seq id no: 2;b measuring the extent to which the compound blocks, inhibits, modulates, or enhances the activity of the receptor; andc identifying a compound that blocks, inhibits, modulates or enhances the response of the olfactory receptor.</p>\n",
              "      <hr/>\n",
              "      <h2>Generated claim</h2>\n",
              "      <p>Disclosed herein is an isolated isolated isolated isolated isolated isolated isolated isolated isolated isolated isolated isolated isolated isolated isolated isolated isolated isolated isolated isolated isolated isolated isolated isolated isolated isolated isolated isolated isolated isolated isolated isolated isolated isolated isolated isolated isolated isolated isolated isolated isolated isolated isolated isolated isolated isolated isolated isolated isolated isolated isolated isolated isolated isolated isolated isolated isolated isolated isolated isolated isolated isolated isolated isolated isolated isolated isolated isolated isolated isolated isolated isolated isolated isolated isolated isolated isolated isolated isolated isolated isolated isolated isolated isolated isolated isolated isolated isolated isolated isolated isolated isolated isolated isolated isolated isolated isolated isolated isolated isolated isolated isolated isolated isolated isolated isolated isolated isolated isolated isolated isolated isolated isolated isolated isolated isolated isolated isolated isolated isolated isolated isolated isolated isolated isolated isolated isolated isolated isolated isolated isolated isolated isolated isolated isolated isolated isolated isolated isolated isolated isolated isolated isolated isolated isolated isolated isolated isolated isolated isolated isolated isolated isolated isolated isolated isolated isolated isolated isolated isolated isolated isolated isolated isolated isolated isolated isolated isolated isolated isolated isolated isolated isolated isolated isolated isolated isolated isolated isolated isolated isolated isolated isolated isolated isolated isolated isolated isolated isolated isolated isolated isolated isolated isolated isolated isolated isolated isolated isolated isolated isolated isolated isolated isolated isolated isolated isolated isolated isolated isolated isolated isolated isolated isolated isolated isolated isolated isolated isolated isolated isolated isolated isolated isolated isolated isolated isolated isolated isolated isolated isolated isolated isolated isolated isolated isolated isolated isolated isolated isolated isolated isolated isolated isolated isolated isolated isolated isolated isolated isolated isolated isolated isolated isolated isolated isolated isolated isolated isolated isolated isolated isolated isolated isolated isolated isolated isolated isolated isolated isolated isolated isolated isolated isolated isolated isolated isolated isolated isolated isolated isolated isolated isolated isolated isolated isolated isolated isolated isolated isolated isolated isolated isolated isolated isolated isolated isolated isolated isolated isolated isolated isolated isolated isolated isolated isolated isolated isolated isolated isolated isolated isolated isolated isolated isolated isolated isolated isolated isolated isolated isolated isolated isolated isolated isolated isolated isolated isolated isolated isolated isolated isolated isolated isolated isolated isolated isolated isolated isolated isolated isolated isolated isolated isolated isolated isolated isolated isolated isolated isolated isolated isolated isolated isolated isolated isolated isolated isolated isolated isolated isolated isolated isolated isolated isolated isolated isolated isolated isolated isolated isolated isolated isolated isolated isolated isolated isolated isolated isolated isolated isolated isolated isolated isolated isolated isolated isolated isolated isolated isolated isolated isolated isolated isolated isolated isolated isolated isolated isolated isolated isolated isolated isolated isolated isolated isolated isolated isolated isolated isolated isolated isolated isolated isolated isolated isolated isolated isolated isolated isolated isolated isolated isolated isolated isolated isolated isolated isolated isolated isolated isolated isolated isolated isolated isolated isolated isolated isolated isolated isolated isolated isolated isolated isolated isolated isolated isolated isolated isolated isolated isolated isolated isolated isolated isolated isolated isolated isolated isolated isolated isolated isolated isolated isolated isolated isolated isolated isolated isolated isolated isolated isolated isolated isolated isolated isolated isolated isolated isolated isolated isolated isolated isolated isolated isolated isolated isolated isolated isolated isolated isolated isolated isolated isolated</p>\n",
              "    </div>\n",
              "  "
            ]
          },
          "metadata": {},
          "execution_count": 42
        }
      ]
    },
    {
      "cell_type": "code",
      "source": [
        "#@title Beam search\n",
        "\n",
        "beam_outputs = model.generate(\n",
        "    sample_summary_batched, \n",
        "    max_length=500, \n",
        "    num_beams=5, \n",
        "    no_repeat_ngram_size=2, \n",
        "    num_return_sequences=5, \n",
        "    early_stopping=True\n",
        ")\n",
        "\n",
        "for beam in range(beam_outputs.shape[0]):\n",
        "  t = beam_outputs[beam]\n",
        "\n",
        "  generated_claim_sample = tokenizer.decode(t, \n",
        "                                          skip_special_tokens=True, \n",
        "                                          truncation=True)\n",
        "\n",
        "  display(show_patent(text_summary_sample, text_claim_sample, \n",
        "                      generated_claim=generated_claim_sample, \n",
        "                      title=f\"Beam {beam}\"))"
      ],
      "metadata": {
        "colab": {
          "base_uri": "https://localhost:8080/"
        },
        "cellView": "form",
        "id": "E_2CloG5mX2m",
        "outputId": "b13cf9b9-1b4f-4543-e409-4807fb1a155d"
      },
      "id": "E_2CloG5mX2m",
      "execution_count": 43,
      "outputs": [
        {
          "output_type": "stream",
          "name": "stderr",
          "text": [
            "/usr/local/lib/python3.7/dist-packages/transformers/models/bigbird_pegasus/modeling_bigbird_pegasus.py:805: UserWarning: __floordiv__ is deprecated, and its behavior will change in a future version of pytorch. It currently rounds toward 0 (like the 'trunc' function NOT 'floor'). This results in incorrect rounding for negative values. To keep the current behavior, use torch.div(a, b, rounding_mode='trunc'), or for actual floor division, use torch.div(a, b, rounding_mode='floor').\n",
            "  * num_indices_to_pick_from\n"
          ]
        }
      ]
    },
    {
      "cell_type": "markdown",
      "source": [
        "# Catastrophic forgetting\n",
        "\n",
        "It's pretty easy to see how the model is generating useless text.\n",
        "Fine tuning is an extremely delicate task and, although we only finetuned the model for $1$ epoch on $\\approx 600$ samples, we can see that catastrophic forgetting is happening and the model is overfitting on the output we provide.\n",
        "\n",
        "Let's try and see how the text looks like without even finetuning the model."
      ],
      "metadata": {
        "id": "Ae0Lqhy3oEVZ"
      },
      "id": "Ae0Lqhy3oEVZ"
    },
    {
      "cell_type": "code",
      "source": [
        "from transformers import BigBirdPegasusForConditionalGeneration\n",
        "\n",
        "if \"model\" in vars(): del model\n",
        "model = BigBirdPegasusForConditionalGeneration.from_pretrained(\n",
        "    \"google/bigbird-pegasus-large-bigpatent\",\n",
        "    block_size=16,\n",
        "    num_random_blocks=3,\n",
        "    attention_type=\"block_sparse\",\n",
        "    use_cache=True).to(DEVICE)"
      ],
      "metadata": {
        "id": "_x3y22RmpY8l"
      },
      "id": "_x3y22RmpY8l",
      "execution_count": 10,
      "outputs": []
    },
    {
      "cell_type": "code",
      "source": [
        "#@title Greedy search\n",
        "\n",
        "greedy_output = model.generate(sample_summary_batched, max_length=500)\n",
        "\n",
        "generated_claim_sample = tokenizer.decode(greedy_output.squeeze(0), \n",
        "                                          skip_special_tokens=True, \n",
        "                                          truncation=True)\n",
        "\n",
        "show_patent(text_summary_sample, text_claim_sample, \n",
        "            generated_claim=generated_claim_sample, \n",
        "            title=\"Greedy search generation\")"
      ],
      "metadata": {
        "colab": {
          "base_uri": "https://localhost:8080/",
          "height": 897
        },
        "cellView": "form",
        "id": "5pa7ZGfcpmja",
        "outputId": "8117c567-e3ea-4fb2-bd24-d0302633484f"
      },
      "id": "5pa7ZGfcpmja",
      "execution_count": 17,
      "outputs": [
        {
          "output_type": "stream",
          "name": "stderr",
          "text": [
            "/usr/local/lib/python3.7/dist-packages/transformers/models/bigbird_pegasus/modeling_bigbird_pegasus.py:805: UserWarning: __floordiv__ is deprecated, and its behavior will change in a future version of pytorch. It currently rounds toward 0 (like the 'trunc' function NOT 'floor'). This results in incorrect rounding for negative values. To keep the current behavior, use torch.div(a, b, rounding_mode='trunc'), or for actual floor division, use torch.div(a, b, rounding_mode='floor').\n",
            "  * num_indices_to_pick_from\n"
          ]
        },
        {
          "output_type": "execute_result",
          "data": {
            "text/plain": [
              "<IPython.core.display.HTML object>"
            ],
            "text/html": [
              "\n",
              "    <div>\n",
              "      <h1>Greedy search generation</h1>\n",
              "      <hr/>\n",
              "      <h2>Summary</h2>\n",
              "      <p>the invention is defined by the amended claims. providedherein is a method of identifying olfactory receptors that are activated by an odorant or aroma compound comprising: a dissociating an isolated olfactory epithelium containing native olfactory neurons into single cells from a non-human mammal species wherein each neuron expresses an olfactory receptor;b loading the olfactory cells with an indicator dye that allows for the measurement of odorant or aroma receptor binding activity of the olfactory receptors;c contacting the olfactory receptors with odorant or aroma compounds sequentially;d measuring changes of odorant or aroma-induced neuronal activity;e isolating one or more olfactory neurons that were activated by a odorant or aroma compound;f amplifying the mrna of the isolated olfactory receptors;g sequencing at least a portion of the transcriptome of the mrna by next-generation sequencing; andh determining the identity of a group of olfactory receptors selected from the group consisting of odorant and aroma receptors by comparing the sequence of the transcriptome to a reference genome sequence of the same species and other vertebrate species. further provided herein is a method of identifying olfactory receptors that are activated by a malodor compound comprising: a dissociating an isolated olfactory epithelium containing native olfactory neurons into single cells from a non-human mammal species wherein each neuron expresses an olfactory receptor;b loading the olfactory cells with an indicator dye that allows for the measurement of malodor receptor binding activity of the olfactory receptors;c contacting the olfactory receptors with malodor compounds sequentially;d measuring changes of odorant-induced neuronal activity;e isolating one or more olfactory neurons that were activated by a malodor compound;f amplifying the mrna of the isolated olfactory receptors;g sequencing at least a portion of the transcriptome of the mrna by next-generation sequencing; andh determining the identity of a group of malodor olfactory receptors by comparing the sequence of the transcriptome to a reference genome sequence of the same species and other vertebrate species. further provided herein is an isolated nucleic acid sequence having at least 60 sequence identity with a nucleic acid sequence selected from the group consisting of seq id no: 1, seq id no: 3, seq id no: 5, seq id no: 7, seq id no: 9, seq id no: 11, seq id no: 13, seq id no: 15, seq id no: 27, seq id no: 29, seq id no: 31, seq id no: 33, seq id no: 35, seq id no: 37, seq id no: 39, seq id no: 41, seq id no: 43, seq id no: 45, seq id no: 47, seq id no: 49, seq id no: 51, seq id no: 53, seq id no: 55, seq id no: 57, seq id no: 59, seq id no: 61, seq id no: 63, seq id no: 65, seq id no: 67, seq id no: 69, seq id no: 71, seq id no: 73, seq id no: 75, seq id no: 77, seq id no: 79, seq id no: 81, seq id no: 83 and seq id no: 85. also provided herein is an isolated nucleic acid sequence as describe above which encodes a polypeptide having at least 60 sequence identify with a polypeptide having an amino acid sequence selected from the group consisting of: seq id no: 2, seq id no: 4, seq id no: 6, seq id no: 8, seq id no: 10, seq id no: 12, seq id no: 14 seq id no: 16, seq id no: 28, seq id no: 30, seq id no: 32, seq id no: 34, seq id no: 36, seq id no: 38, seq id no: 40, seq id no: 42, seq id no: 44, seq id no: 46, seq id no: 48, seq id no: 50, seq id no: 52, seq id no: 54, seq id no: 56, seq id no: 58, seq id no: 60, seq id no: 62, seq id no: 64, seq id no: 66, seq id no: 68, seq id no: 70, seq id no: 72, seq id no: 74, seq id no: 76, seq id no: 78, seq id no: 80, seq id no: 82, seq id no: 84 and seq id no: 86. further provided herein is an isolated polypeptide comprising an amino acid sequence having at least 60 sequence identify with an amino acid sequence selected from the group consisting of seq id no: 2, seq id no: 4, seq id no: 6, seq id no: 8, seq id no: 10, seq id no: 12, seq id no: 14 seq id no: 16, seq id no: 28, seq id no: 30, seq id no: 32, seq id no: 34, seq id no: 36, seq id no: 38, seq id no: 40, seq id no: 42, seq id no: 44, seq id no: 46, seq id no: 48, seq id no: 50, seq id no: 52, seq id no: 54, seq id no: 56, seq id no: 58, seq id no: 60, seq id no: 62, seq id no: 64, seq id no: 66, seq id no: 68, seq id no: 70, seq id no: 72, seq id no: 74, seq id no: 76, seq id no: 78, seq id no: 80, seq id no: 82, seq id no: 84 and seq id no: 86. still yet further provided is a cell that is recombinantly modified to express a polypeptide, described above. further provided are assays for identifying compounds that bind to indole andor skatole odorant receptors. in particular, provided herein is a method for identifying a compound that blocks, inhibits, modulates, andor enhances the activity of an olfactory receptor that is activated by a compound selected from the group consisting of indole and skatole comprising a contacting the receptor, or a chimera or fragment with a compound;b assaying whether the compound has an effect on the activity of the receptor; wherein the receptor is a polypeptide described above. in a further embodiment, provided herein, when a functional assay is used to measuring binding activity, the step of measuring a signaling activity of receptors provided herein may comprise detecting a change in the level of a second messenger. in another embodiment, the measurement of a signalling activity is provided wherein the step of measuring a signaling activity comprises the measurement of guanine nucleotide bindingcoupling or exchange, adenylate cyclase activity, camp, protein kinase c activity, protein kinase a activity phosphatidylinosotol breakdown, diacylglycerol, inositol triphosphate, intracellular calcium, calcium flux, arachidonic acid, map kinase activity, tyrosine kinase activity, melanophore assay, receptor initialization assay, or reporter gene expression. in a particular embodiment provided herein, the measuring of signaling activity comprises using a fluorescence or luminescence assay. fluorescence and luminescence assays may comprise the use ofca2 sensitive fluorophores including 00flu03flu04 15 or fura, molecular probesprobes; ca3-kit family molecular device and aequorin.</p>\n",
              "      <hr/>\n",
              "      <h2>Claim</h2>\n",
              "      <p>an in vitro method for identifying a compound that blocks, inhibits, modulates, andor enhances the activity of an olfactory receptor selected from the group consisting of odorant or aroma receptors that is activated by a compound selected from the group consisting of indole and skatole comprisinga contacting at least one receptor, or a chimera or fragment thereof, with a compound, wherein the receptor is a polypeptide comprising an amino acid sequence having at least 60 sequence identity with the amino acid sequence of seq id no: 2;b measuring the extent to which the compound blocks, inhibits, modulates, or enhances the activity of the receptor; andc identifying a compound that blocks, inhibits, modulates or enhances the response of the olfactory receptor.</p>\n",
              "      <hr/>\n",
              "      <h2>Generated claim</h2>\n",
              "      <p>Provided herein is a method of identifying olfactory receptors that are activated by a malodor compound comprising: a dissociating an isolated olfactory epithelium containing native olfactory neurons into single cells from a non-human mammal species wherein each neuron expresses an olfactory receptor; b loading the olfactory cells with an indicator dye that allows for the measurement of odorant or aroma receptor binding activity of the olfactory receptors; c contacting the olfactory receptors with odorant or aroma compounds sequentially; d measuring changes of odorant or aroma-induced neuronal activity; e isolating one or more olfactory neurons that were activated by a malodor compound; f amplifying the mrna of the isolated olfactory receptors; g sequencing at least a portion of the transcriptome of the mrna by next-generation sequencing; andh determining the identity of a group of olfactory receptors selected from the group consisting of odorant and aroma receptors by comparing the sequence of the transcriptome to a reference genome sequence of the same species and other vertebrate species.</p>\n",
              "    </div>\n",
              "  "
            ]
          },
          "metadata": {},
          "execution_count": 17
        }
      ]
    },
    {
      "cell_type": "code",
      "source": [
        "#@title Beam search\n",
        "\n",
        "beam_outputs = model.generate(\n",
        "    sample_summary_batched, \n",
        "    max_length=500, \n",
        "    num_beams=5, \n",
        "    no_repeat_ngram_size=2, \n",
        "    num_return_sequences=5, \n",
        "    early_stopping=True\n",
        ")\n",
        "\n",
        "for beam in range(beam_outputs.shape[0]):\n",
        "  t = beam_outputs[beam]\n",
        "\n",
        "  generated_claim_sample = tokenizer.decode(t, \n",
        "                                          skip_special_tokens=True, \n",
        "                                          truncation=True)\n",
        "\n",
        "  display(show_patent(text_summary_sample, text_claim_sample, \n",
        "                      generated_claim=generated_claim_sample, \n",
        "                      title=f\"Beam {beam}\"))"
      ],
      "metadata": {
        "cellView": "form",
        "colab": {
          "base_uri": "https://localhost:8080/",
          "height": 1000
        },
        "id": "oKGOy_OsrFys",
        "outputId": "314ff3d8-6ce8-47ac-e63d-ff38c7653048"
      },
      "id": "oKGOy_OsrFys",
      "execution_count": 19,
      "outputs": [
        {
          "output_type": "stream",
          "name": "stderr",
          "text": [
            "/usr/local/lib/python3.7/dist-packages/transformers/models/bigbird_pegasus/modeling_bigbird_pegasus.py:805: UserWarning: __floordiv__ is deprecated, and its behavior will change in a future version of pytorch. It currently rounds toward 0 (like the 'trunc' function NOT 'floor'). This results in incorrect rounding for negative values. To keep the current behavior, use torch.div(a, b, rounding_mode='trunc'), or for actual floor division, use torch.div(a, b, rounding_mode='floor').\n",
            "  * num_indices_to_pick_from\n"
          ]
        },
        {
          "output_type": "display_data",
          "data": {
            "text/plain": [
              "<IPython.core.display.HTML object>"
            ],
            "text/html": [
              "\n",
              "    <div>\n",
              "      <h1>Beam 0</h1>\n",
              "      <hr/>\n",
              "      <h2>Summary</h2>\n",
              "      <p>the invention is defined by the amended claims. providedherein is a method of identifying olfactory receptors that are activated by an odorant or aroma compound comprising: a dissociating an isolated olfactory epithelium containing native olfactory neurons into single cells from a non-human mammal species wherein each neuron expresses an olfactory receptor;b loading the olfactory cells with an indicator dye that allows for the measurement of odorant or aroma receptor binding activity of the olfactory receptors;c contacting the olfactory receptors with odorant or aroma compounds sequentially;d measuring changes of odorant or aroma-induced neuronal activity;e isolating one or more olfactory neurons that were activated by a odorant or aroma compound;f amplifying the mrna of the isolated olfactory receptors;g sequencing at least a portion of the transcriptome of the mrna by next-generation sequencing; andh determining the identity of a group of olfactory receptors selected from the group consisting of odorant and aroma receptors by comparing the sequence of the transcriptome to a reference genome sequence of the same species and other vertebrate species. further provided herein is a method of identifying olfactory receptors that are activated by a malodor compound comprising: a dissociating an isolated olfactory epithelium containing native olfactory neurons into single cells from a non-human mammal species wherein each neuron expresses an olfactory receptor;b loading the olfactory cells with an indicator dye that allows for the measurement of malodor receptor binding activity of the olfactory receptors;c contacting the olfactory receptors with malodor compounds sequentially;d measuring changes of odorant-induced neuronal activity;e isolating one or more olfactory neurons that were activated by a malodor compound;f amplifying the mrna of the isolated olfactory receptors;g sequencing at least a portion of the transcriptome of the mrna by next-generation sequencing; andh determining the identity of a group of malodor olfactory receptors by comparing the sequence of the transcriptome to a reference genome sequence of the same species and other vertebrate species. further provided herein is an isolated nucleic acid sequence having at least 60 sequence identity with a nucleic acid sequence selected from the group consisting of seq id no: 1, seq id no: 3, seq id no: 5, seq id no: 7, seq id no: 9, seq id no: 11, seq id no: 13, seq id no: 15, seq id no: 27, seq id no: 29, seq id no: 31, seq id no: 33, seq id no: 35, seq id no: 37, seq id no: 39, seq id no: 41, seq id no: 43, seq id no: 45, seq id no: 47, seq id no: 49, seq id no: 51, seq id no: 53, seq id no: 55, seq id no: 57, seq id no: 59, seq id no: 61, seq id no: 63, seq id no: 65, seq id no: 67, seq id no: 69, seq id no: 71, seq id no: 73, seq id no: 75, seq id no: 77, seq id no: 79, seq id no: 81, seq id no: 83 and seq id no: 85. also provided herein is an isolated nucleic acid sequence as describe above which encodes a polypeptide having at least 60 sequence identify with a polypeptide having an amino acid sequence selected from the group consisting of: seq id no: 2, seq id no: 4, seq id no: 6, seq id no: 8, seq id no: 10, seq id no: 12, seq id no: 14 seq id no: 16, seq id no: 28, seq id no: 30, seq id no: 32, seq id no: 34, seq id no: 36, seq id no: 38, seq id no: 40, seq id no: 42, seq id no: 44, seq id no: 46, seq id no: 48, seq id no: 50, seq id no: 52, seq id no: 54, seq id no: 56, seq id no: 58, seq id no: 60, seq id no: 62, seq id no: 64, seq id no: 66, seq id no: 68, seq id no: 70, seq id no: 72, seq id no: 74, seq id no: 76, seq id no: 78, seq id no: 80, seq id no: 82, seq id no: 84 and seq id no: 86. further provided herein is an isolated polypeptide comprising an amino acid sequence having at least 60 sequence identify with an amino acid sequence selected from the group consisting of seq id no: 2, seq id no: 4, seq id no: 6, seq id no: 8, seq id no: 10, seq id no: 12, seq id no: 14 seq id no: 16, seq id no: 28, seq id no: 30, seq id no: 32, seq id no: 34, seq id no: 36, seq id no: 38, seq id no: 40, seq id no: 42, seq id no: 44, seq id no: 46, seq id no: 48, seq id no: 50, seq id no: 52, seq id no: 54, seq id no: 56, seq id no: 58, seq id no: 60, seq id no: 62, seq id no: 64, seq id no: 66, seq id no: 68, seq id no: 70, seq id no: 72, seq id no: 74, seq id no: 76, seq id no: 78, seq id no: 80, seq id no: 82, seq id no: 84 and seq id no: 86. still yet further provided is a cell that is recombinantly modified to express a polypeptide, described above. further provided are assays for identifying compounds that bind to indole andor skatole odorant receptors. in particular, provided herein is a method for identifying a compound that blocks, inhibits, modulates, andor enhances the activity of an olfactory receptor that is activated by a compound selected from the group consisting of indole and skatole comprising a contacting the receptor, or a chimera or fragment with a compound;b assaying whether the compound has an effect on the activity of the receptor; wherein the receptor is a polypeptide described above. in a further embodiment, provided herein, when a functional assay is used to measuring binding activity, the step of measuring a signaling activity of receptors provided herein may comprise detecting a change in the level of a second messenger. in another embodiment, the measurement of a signalling activity is provided wherein the step of measuring a signaling activity comprises the measurement of guanine nucleotide bindingcoupling or exchange, adenylate cyclase activity, camp, protein kinase c activity, protein kinase a activity phosphatidylinosotol breakdown, diacylglycerol, inositol triphosphate, intracellular calcium, calcium flux, arachidonic acid, map kinase activity, tyrosine kinase activity, melanophore assay, receptor initialization assay, or reporter gene expression. in a particular embodiment provided herein, the measuring of signaling activity comprises using a fluorescence or luminescence assay. fluorescence and luminescence assays may comprise the use ofca2 sensitive fluorophores including 00flu03flu04 15 or fura, molecular probesprobes; ca3-kit family molecular device and aequorin.</p>\n",
              "      <hr/>\n",
              "      <h2>Claim</h2>\n",
              "      <p>an in vitro method for identifying a compound that blocks, inhibits, modulates, andor enhances the activity of an olfactory receptor selected from the group consisting of odorant or aroma receptors that is activated by a compound selected from the group consisting of indole and skatole comprisinga contacting at least one receptor, or a chimera or fragment thereof, with a compound, wherein the receptor is a polypeptide comprising an amino acid sequence having at least 60 sequence identity with the amino acid sequence of seq id no: 2;b measuring the extent to which the compound blocks, inhibits, modulates, or enhances the activity of the receptor; andc identifying a compound that blocks, inhibits, modulates or enhances the response of the olfactory receptor.</p>\n",
              "      <hr/>\n",
              "      <h2>Generated claim</h2>\n",
              "      <p>Provided herein is a method of identifying olfactory receptors that are activated by a malodor compound comprising: a dissociating an isolated olfactory epithelium containing native olfactory neurons into single cells from a non-human mammal species wherein each neuron expresses an olfactory receptor.</p>\n",
              "    </div>\n",
              "  "
            ]
          },
          "metadata": {}
        },
        {
          "output_type": "display_data",
          "data": {
            "text/plain": [
              "<IPython.core.display.HTML object>"
            ],
            "text/html": [
              "\n",
              "    <div>\n",
              "      <h1>Beam 1</h1>\n",
              "      <hr/>\n",
              "      <h2>Summary</h2>\n",
              "      <p>the invention is defined by the amended claims. providedherein is a method of identifying olfactory receptors that are activated by an odorant or aroma compound comprising: a dissociating an isolated olfactory epithelium containing native olfactory neurons into single cells from a non-human mammal species wherein each neuron expresses an olfactory receptor;b loading the olfactory cells with an indicator dye that allows for the measurement of odorant or aroma receptor binding activity of the olfactory receptors;c contacting the olfactory receptors with odorant or aroma compounds sequentially;d measuring changes of odorant or aroma-induced neuronal activity;e isolating one or more olfactory neurons that were activated by a odorant or aroma compound;f amplifying the mrna of the isolated olfactory receptors;g sequencing at least a portion of the transcriptome of the mrna by next-generation sequencing; andh determining the identity of a group of olfactory receptors selected from the group consisting of odorant and aroma receptors by comparing the sequence of the transcriptome to a reference genome sequence of the same species and other vertebrate species. further provided herein is a method of identifying olfactory receptors that are activated by a malodor compound comprising: a dissociating an isolated olfactory epithelium containing native olfactory neurons into single cells from a non-human mammal species wherein each neuron expresses an olfactory receptor;b loading the olfactory cells with an indicator dye that allows for the measurement of malodor receptor binding activity of the olfactory receptors;c contacting the olfactory receptors with malodor compounds sequentially;d measuring changes of odorant-induced neuronal activity;e isolating one or more olfactory neurons that were activated by a malodor compound;f amplifying the mrna of the isolated olfactory receptors;g sequencing at least a portion of the transcriptome of the mrna by next-generation sequencing; andh determining the identity of a group of malodor olfactory receptors by comparing the sequence of the transcriptome to a reference genome sequence of the same species and other vertebrate species. further provided herein is an isolated nucleic acid sequence having at least 60 sequence identity with a nucleic acid sequence selected from the group consisting of seq id no: 1, seq id no: 3, seq id no: 5, seq id no: 7, seq id no: 9, seq id no: 11, seq id no: 13, seq id no: 15, seq id no: 27, seq id no: 29, seq id no: 31, seq id no: 33, seq id no: 35, seq id no: 37, seq id no: 39, seq id no: 41, seq id no: 43, seq id no: 45, seq id no: 47, seq id no: 49, seq id no: 51, seq id no: 53, seq id no: 55, seq id no: 57, seq id no: 59, seq id no: 61, seq id no: 63, seq id no: 65, seq id no: 67, seq id no: 69, seq id no: 71, seq id no: 73, seq id no: 75, seq id no: 77, seq id no: 79, seq id no: 81, seq id no: 83 and seq id no: 85. also provided herein is an isolated nucleic acid sequence as describe above which encodes a polypeptide having at least 60 sequence identify with a polypeptide having an amino acid sequence selected from the group consisting of: seq id no: 2, seq id no: 4, seq id no: 6, seq id no: 8, seq id no: 10, seq id no: 12, seq id no: 14 seq id no: 16, seq id no: 28, seq id no: 30, seq id no: 32, seq id no: 34, seq id no: 36, seq id no: 38, seq id no: 40, seq id no: 42, seq id no: 44, seq id no: 46, seq id no: 48, seq id no: 50, seq id no: 52, seq id no: 54, seq id no: 56, seq id no: 58, seq id no: 60, seq id no: 62, seq id no: 64, seq id no: 66, seq id no: 68, seq id no: 70, seq id no: 72, seq id no: 74, seq id no: 76, seq id no: 78, seq id no: 80, seq id no: 82, seq id no: 84 and seq id no: 86. further provided herein is an isolated polypeptide comprising an amino acid sequence having at least 60 sequence identify with an amino acid sequence selected from the group consisting of seq id no: 2, seq id no: 4, seq id no: 6, seq id no: 8, seq id no: 10, seq id no: 12, seq id no: 14 seq id no: 16, seq id no: 28, seq id no: 30, seq id no: 32, seq id no: 34, seq id no: 36, seq id no: 38, seq id no: 40, seq id no: 42, seq id no: 44, seq id no: 46, seq id no: 48, seq id no: 50, seq id no: 52, seq id no: 54, seq id no: 56, seq id no: 58, seq id no: 60, seq id no: 62, seq id no: 64, seq id no: 66, seq id no: 68, seq id no: 70, seq id no: 72, seq id no: 74, seq id no: 76, seq id no: 78, seq id no: 80, seq id no: 82, seq id no: 84 and seq id no: 86. still yet further provided is a cell that is recombinantly modified to express a polypeptide, described above. further provided are assays for identifying compounds that bind to indole andor skatole odorant receptors. in particular, provided herein is a method for identifying a compound that blocks, inhibits, modulates, andor enhances the activity of an olfactory receptor that is activated by a compound selected from the group consisting of indole and skatole comprising a contacting the receptor, or a chimera or fragment with a compound;b assaying whether the compound has an effect on the activity of the receptor; wherein the receptor is a polypeptide described above. in a further embodiment, provided herein, when a functional assay is used to measuring binding activity, the step of measuring a signaling activity of receptors provided herein may comprise detecting a change in the level of a second messenger. in another embodiment, the measurement of a signalling activity is provided wherein the step of measuring a signaling activity comprises the measurement of guanine nucleotide bindingcoupling or exchange, adenylate cyclase activity, camp, protein kinase c activity, protein kinase a activity phosphatidylinosotol breakdown, diacylglycerol, inositol triphosphate, intracellular calcium, calcium flux, arachidonic acid, map kinase activity, tyrosine kinase activity, melanophore assay, receptor initialization assay, or reporter gene expression. in a particular embodiment provided herein, the measuring of signaling activity comprises using a fluorescence or luminescence assay. fluorescence and luminescence assays may comprise the use ofca2 sensitive fluorophores including 00flu03flu04 15 or fura, molecular probesprobes; ca3-kit family molecular device and aequorin.</p>\n",
              "      <hr/>\n",
              "      <h2>Claim</h2>\n",
              "      <p>an in vitro method for identifying a compound that blocks, inhibits, modulates, andor enhances the activity of an olfactory receptor selected from the group consisting of odorant or aroma receptors that is activated by a compound selected from the group consisting of indole and skatole comprisinga contacting at least one receptor, or a chimera or fragment thereof, with a compound, wherein the receptor is a polypeptide comprising an amino acid sequence having at least 60 sequence identity with the amino acid sequence of seq id no: 2;b measuring the extent to which the compound blocks, inhibits, modulates, or enhances the activity of the receptor; andc identifying a compound that blocks, inhibits, modulates or enhances the response of the olfactory receptor.</p>\n",
              "      <hr/>\n",
              "      <h2>Generated claim</h2>\n",
              "      <p>Provided herein is a method of identifying a compound that blocks, inhibits, modulates, and or enhances the activity of an olfactory receptor.</p>\n",
              "    </div>\n",
              "  "
            ]
          },
          "metadata": {}
        },
        {
          "output_type": "display_data",
          "data": {
            "text/plain": [
              "<IPython.core.display.HTML object>"
            ],
            "text/html": [
              "\n",
              "    <div>\n",
              "      <h1>Beam 2</h1>\n",
              "      <hr/>\n",
              "      <h2>Summary</h2>\n",
              "      <p>the invention is defined by the amended claims. providedherein is a method of identifying olfactory receptors that are activated by an odorant or aroma compound comprising: a dissociating an isolated olfactory epithelium containing native olfactory neurons into single cells from a non-human mammal species wherein each neuron expresses an olfactory receptor;b loading the olfactory cells with an indicator dye that allows for the measurement of odorant or aroma receptor binding activity of the olfactory receptors;c contacting the olfactory receptors with odorant or aroma compounds sequentially;d measuring changes of odorant or aroma-induced neuronal activity;e isolating one or more olfactory neurons that were activated by a odorant or aroma compound;f amplifying the mrna of the isolated olfactory receptors;g sequencing at least a portion of the transcriptome of the mrna by next-generation sequencing; andh determining the identity of a group of olfactory receptors selected from the group consisting of odorant and aroma receptors by comparing the sequence of the transcriptome to a reference genome sequence of the same species and other vertebrate species. further provided herein is a method of identifying olfactory receptors that are activated by a malodor compound comprising: a dissociating an isolated olfactory epithelium containing native olfactory neurons into single cells from a non-human mammal species wherein each neuron expresses an olfactory receptor;b loading the olfactory cells with an indicator dye that allows for the measurement of malodor receptor binding activity of the olfactory receptors;c contacting the olfactory receptors with malodor compounds sequentially;d measuring changes of odorant-induced neuronal activity;e isolating one or more olfactory neurons that were activated by a malodor compound;f amplifying the mrna of the isolated olfactory receptors;g sequencing at least a portion of the transcriptome of the mrna by next-generation sequencing; andh determining the identity of a group of malodor olfactory receptors by comparing the sequence of the transcriptome to a reference genome sequence of the same species and other vertebrate species. further provided herein is an isolated nucleic acid sequence having at least 60 sequence identity with a nucleic acid sequence selected from the group consisting of seq id no: 1, seq id no: 3, seq id no: 5, seq id no: 7, seq id no: 9, seq id no: 11, seq id no: 13, seq id no: 15, seq id no: 27, seq id no: 29, seq id no: 31, seq id no: 33, seq id no: 35, seq id no: 37, seq id no: 39, seq id no: 41, seq id no: 43, seq id no: 45, seq id no: 47, seq id no: 49, seq id no: 51, seq id no: 53, seq id no: 55, seq id no: 57, seq id no: 59, seq id no: 61, seq id no: 63, seq id no: 65, seq id no: 67, seq id no: 69, seq id no: 71, seq id no: 73, seq id no: 75, seq id no: 77, seq id no: 79, seq id no: 81, seq id no: 83 and seq id no: 85. also provided herein is an isolated nucleic acid sequence as describe above which encodes a polypeptide having at least 60 sequence identify with a polypeptide having an amino acid sequence selected from the group consisting of: seq id no: 2, seq id no: 4, seq id no: 6, seq id no: 8, seq id no: 10, seq id no: 12, seq id no: 14 seq id no: 16, seq id no: 28, seq id no: 30, seq id no: 32, seq id no: 34, seq id no: 36, seq id no: 38, seq id no: 40, seq id no: 42, seq id no: 44, seq id no: 46, seq id no: 48, seq id no: 50, seq id no: 52, seq id no: 54, seq id no: 56, seq id no: 58, seq id no: 60, seq id no: 62, seq id no: 64, seq id no: 66, seq id no: 68, seq id no: 70, seq id no: 72, seq id no: 74, seq id no: 76, seq id no: 78, seq id no: 80, seq id no: 82, seq id no: 84 and seq id no: 86. further provided herein is an isolated polypeptide comprising an amino acid sequence having at least 60 sequence identify with an amino acid sequence selected from the group consisting of seq id no: 2, seq id no: 4, seq id no: 6, seq id no: 8, seq id no: 10, seq id no: 12, seq id no: 14 seq id no: 16, seq id no: 28, seq id no: 30, seq id no: 32, seq id no: 34, seq id no: 36, seq id no: 38, seq id no: 40, seq id no: 42, seq id no: 44, seq id no: 46, seq id no: 48, seq id no: 50, seq id no: 52, seq id no: 54, seq id no: 56, seq id no: 58, seq id no: 60, seq id no: 62, seq id no: 64, seq id no: 66, seq id no: 68, seq id no: 70, seq id no: 72, seq id no: 74, seq id no: 76, seq id no: 78, seq id no: 80, seq id no: 82, seq id no: 84 and seq id no: 86. still yet further provided is a cell that is recombinantly modified to express a polypeptide, described above. further provided are assays for identifying compounds that bind to indole andor skatole odorant receptors. in particular, provided herein is a method for identifying a compound that blocks, inhibits, modulates, andor enhances the activity of an olfactory receptor that is activated by a compound selected from the group consisting of indole and skatole comprising a contacting the receptor, or a chimera or fragment with a compound;b assaying whether the compound has an effect on the activity of the receptor; wherein the receptor is a polypeptide described above. in a further embodiment, provided herein, when a functional assay is used to measuring binding activity, the step of measuring a signaling activity of receptors provided herein may comprise detecting a change in the level of a second messenger. in another embodiment, the measurement of a signalling activity is provided wherein the step of measuring a signaling activity comprises the measurement of guanine nucleotide bindingcoupling or exchange, adenylate cyclase activity, camp, protein kinase c activity, protein kinase a activity phosphatidylinosotol breakdown, diacylglycerol, inositol triphosphate, intracellular calcium, calcium flux, arachidonic acid, map kinase activity, tyrosine kinase activity, melanophore assay, receptor initialization assay, or reporter gene expression. in a particular embodiment provided herein, the measuring of signaling activity comprises using a fluorescence or luminescence assay. fluorescence and luminescence assays may comprise the use ofca2 sensitive fluorophores including 00flu03flu04 15 or fura, molecular probesprobes; ca3-kit family molecular device and aequorin.</p>\n",
              "      <hr/>\n",
              "      <h2>Claim</h2>\n",
              "      <p>an in vitro method for identifying a compound that blocks, inhibits, modulates, andor enhances the activity of an olfactory receptor selected from the group consisting of odorant or aroma receptors that is activated by a compound selected from the group consisting of indole and skatole comprisinga contacting at least one receptor, or a chimera or fragment thereof, with a compound, wherein the receptor is a polypeptide comprising an amino acid sequence having at least 60 sequence identity with the amino acid sequence of seq id no: 2;b measuring the extent to which the compound blocks, inhibits, modulates, or enhances the activity of the receptor; andc identifying a compound that blocks, inhibits, modulates or enhances the response of the olfactory receptor.</p>\n",
              "      <hr/>\n",
              "      <h2>Generated claim</h2>\n",
              "      <p>Provided herein is a method of identifying a compound that blocks, inhibits, modulates, and or enhances the activity of an olfactory receptor that is activated by an odorant or aroma compound.</p>\n",
              "    </div>\n",
              "  "
            ]
          },
          "metadata": {}
        },
        {
          "output_type": "display_data",
          "data": {
            "text/plain": [
              "<IPython.core.display.HTML object>"
            ],
            "text/html": [
              "\n",
              "    <div>\n",
              "      <h1>Beam 3</h1>\n",
              "      <hr/>\n",
              "      <h2>Summary</h2>\n",
              "      <p>the invention is defined by the amended claims. providedherein is a method of identifying olfactory receptors that are activated by an odorant or aroma compound comprising: a dissociating an isolated olfactory epithelium containing native olfactory neurons into single cells from a non-human mammal species wherein each neuron expresses an olfactory receptor;b loading the olfactory cells with an indicator dye that allows for the measurement of odorant or aroma receptor binding activity of the olfactory receptors;c contacting the olfactory receptors with odorant or aroma compounds sequentially;d measuring changes of odorant or aroma-induced neuronal activity;e isolating one or more olfactory neurons that were activated by a odorant or aroma compound;f amplifying the mrna of the isolated olfactory receptors;g sequencing at least a portion of the transcriptome of the mrna by next-generation sequencing; andh determining the identity of a group of olfactory receptors selected from the group consisting of odorant and aroma receptors by comparing the sequence of the transcriptome to a reference genome sequence of the same species and other vertebrate species. further provided herein is a method of identifying olfactory receptors that are activated by a malodor compound comprising: a dissociating an isolated olfactory epithelium containing native olfactory neurons into single cells from a non-human mammal species wherein each neuron expresses an olfactory receptor;b loading the olfactory cells with an indicator dye that allows for the measurement of malodor receptor binding activity of the olfactory receptors;c contacting the olfactory receptors with malodor compounds sequentially;d measuring changes of odorant-induced neuronal activity;e isolating one or more olfactory neurons that were activated by a malodor compound;f amplifying the mrna of the isolated olfactory receptors;g sequencing at least a portion of the transcriptome of the mrna by next-generation sequencing; andh determining the identity of a group of malodor olfactory receptors by comparing the sequence of the transcriptome to a reference genome sequence of the same species and other vertebrate species. further provided herein is an isolated nucleic acid sequence having at least 60 sequence identity with a nucleic acid sequence selected from the group consisting of seq id no: 1, seq id no: 3, seq id no: 5, seq id no: 7, seq id no: 9, seq id no: 11, seq id no: 13, seq id no: 15, seq id no: 27, seq id no: 29, seq id no: 31, seq id no: 33, seq id no: 35, seq id no: 37, seq id no: 39, seq id no: 41, seq id no: 43, seq id no: 45, seq id no: 47, seq id no: 49, seq id no: 51, seq id no: 53, seq id no: 55, seq id no: 57, seq id no: 59, seq id no: 61, seq id no: 63, seq id no: 65, seq id no: 67, seq id no: 69, seq id no: 71, seq id no: 73, seq id no: 75, seq id no: 77, seq id no: 79, seq id no: 81, seq id no: 83 and seq id no: 85. also provided herein is an isolated nucleic acid sequence as describe above which encodes a polypeptide having at least 60 sequence identify with a polypeptide having an amino acid sequence selected from the group consisting of: seq id no: 2, seq id no: 4, seq id no: 6, seq id no: 8, seq id no: 10, seq id no: 12, seq id no: 14 seq id no: 16, seq id no: 28, seq id no: 30, seq id no: 32, seq id no: 34, seq id no: 36, seq id no: 38, seq id no: 40, seq id no: 42, seq id no: 44, seq id no: 46, seq id no: 48, seq id no: 50, seq id no: 52, seq id no: 54, seq id no: 56, seq id no: 58, seq id no: 60, seq id no: 62, seq id no: 64, seq id no: 66, seq id no: 68, seq id no: 70, seq id no: 72, seq id no: 74, seq id no: 76, seq id no: 78, seq id no: 80, seq id no: 82, seq id no: 84 and seq id no: 86. further provided herein is an isolated polypeptide comprising an amino acid sequence having at least 60 sequence identify with an amino acid sequence selected from the group consisting of seq id no: 2, seq id no: 4, seq id no: 6, seq id no: 8, seq id no: 10, seq id no: 12, seq id no: 14 seq id no: 16, seq id no: 28, seq id no: 30, seq id no: 32, seq id no: 34, seq id no: 36, seq id no: 38, seq id no: 40, seq id no: 42, seq id no: 44, seq id no: 46, seq id no: 48, seq id no: 50, seq id no: 52, seq id no: 54, seq id no: 56, seq id no: 58, seq id no: 60, seq id no: 62, seq id no: 64, seq id no: 66, seq id no: 68, seq id no: 70, seq id no: 72, seq id no: 74, seq id no: 76, seq id no: 78, seq id no: 80, seq id no: 82, seq id no: 84 and seq id no: 86. still yet further provided is a cell that is recombinantly modified to express a polypeptide, described above. further provided are assays for identifying compounds that bind to indole andor skatole odorant receptors. in particular, provided herein is a method for identifying a compound that blocks, inhibits, modulates, andor enhances the activity of an olfactory receptor that is activated by a compound selected from the group consisting of indole and skatole comprising a contacting the receptor, or a chimera or fragment with a compound;b assaying whether the compound has an effect on the activity of the receptor; wherein the receptor is a polypeptide described above. in a further embodiment, provided herein, when a functional assay is used to measuring binding activity, the step of measuring a signaling activity of receptors provided herein may comprise detecting a change in the level of a second messenger. in another embodiment, the measurement of a signalling activity is provided wherein the step of measuring a signaling activity comprises the measurement of guanine nucleotide bindingcoupling or exchange, adenylate cyclase activity, camp, protein kinase c activity, protein kinase a activity phosphatidylinosotol breakdown, diacylglycerol, inositol triphosphate, intracellular calcium, calcium flux, arachidonic acid, map kinase activity, tyrosine kinase activity, melanophore assay, receptor initialization assay, or reporter gene expression. in a particular embodiment provided herein, the measuring of signaling activity comprises using a fluorescence or luminescence assay. fluorescence and luminescence assays may comprise the use ofca2 sensitive fluorophores including 00flu03flu04 15 or fura, molecular probesprobes; ca3-kit family molecular device and aequorin.</p>\n",
              "      <hr/>\n",
              "      <h2>Claim</h2>\n",
              "      <p>an in vitro method for identifying a compound that blocks, inhibits, modulates, andor enhances the activity of an olfactory receptor selected from the group consisting of odorant or aroma receptors that is activated by a compound selected from the group consisting of indole and skatole comprisinga contacting at least one receptor, or a chimera or fragment thereof, with a compound, wherein the receptor is a polypeptide comprising an amino acid sequence having at least 60 sequence identity with the amino acid sequence of seq id no: 2;b measuring the extent to which the compound blocks, inhibits, modulates, or enhances the activity of the receptor; andc identifying a compound that blocks, inhibits, modulates or enhances the response of the olfactory receptor.</p>\n",
              "      <hr/>\n",
              "      <h2>Generated claim</h2>\n",
              "      <p>Provided herein is a method of identifying a compound that blocks, inhibits, modulates, and or enhances the activity of an olfactory receptor that is activated by a malodor compound.</p>\n",
              "    </div>\n",
              "  "
            ]
          },
          "metadata": {}
        },
        {
          "output_type": "display_data",
          "data": {
            "text/plain": [
              "<IPython.core.display.HTML object>"
            ],
            "text/html": [
              "\n",
              "    <div>\n",
              "      <h1>Beam 4</h1>\n",
              "      <hr/>\n",
              "      <h2>Summary</h2>\n",
              "      <p>the invention is defined by the amended claims. providedherein is a method of identifying olfactory receptors that are activated by an odorant or aroma compound comprising: a dissociating an isolated olfactory epithelium containing native olfactory neurons into single cells from a non-human mammal species wherein each neuron expresses an olfactory receptor;b loading the olfactory cells with an indicator dye that allows for the measurement of odorant or aroma receptor binding activity of the olfactory receptors;c contacting the olfactory receptors with odorant or aroma compounds sequentially;d measuring changes of odorant or aroma-induced neuronal activity;e isolating one or more olfactory neurons that were activated by a odorant or aroma compound;f amplifying the mrna of the isolated olfactory receptors;g sequencing at least a portion of the transcriptome of the mrna by next-generation sequencing; andh determining the identity of a group of olfactory receptors selected from the group consisting of odorant and aroma receptors by comparing the sequence of the transcriptome to a reference genome sequence of the same species and other vertebrate species. further provided herein is a method of identifying olfactory receptors that are activated by a malodor compound comprising: a dissociating an isolated olfactory epithelium containing native olfactory neurons into single cells from a non-human mammal species wherein each neuron expresses an olfactory receptor;b loading the olfactory cells with an indicator dye that allows for the measurement of malodor receptor binding activity of the olfactory receptors;c contacting the olfactory receptors with malodor compounds sequentially;d measuring changes of odorant-induced neuronal activity;e isolating one or more olfactory neurons that were activated by a malodor compound;f amplifying the mrna of the isolated olfactory receptors;g sequencing at least a portion of the transcriptome of the mrna by next-generation sequencing; andh determining the identity of a group of malodor olfactory receptors by comparing the sequence of the transcriptome to a reference genome sequence of the same species and other vertebrate species. further provided herein is an isolated nucleic acid sequence having at least 60 sequence identity with a nucleic acid sequence selected from the group consisting of seq id no: 1, seq id no: 3, seq id no: 5, seq id no: 7, seq id no: 9, seq id no: 11, seq id no: 13, seq id no: 15, seq id no: 27, seq id no: 29, seq id no: 31, seq id no: 33, seq id no: 35, seq id no: 37, seq id no: 39, seq id no: 41, seq id no: 43, seq id no: 45, seq id no: 47, seq id no: 49, seq id no: 51, seq id no: 53, seq id no: 55, seq id no: 57, seq id no: 59, seq id no: 61, seq id no: 63, seq id no: 65, seq id no: 67, seq id no: 69, seq id no: 71, seq id no: 73, seq id no: 75, seq id no: 77, seq id no: 79, seq id no: 81, seq id no: 83 and seq id no: 85. also provided herein is an isolated nucleic acid sequence as describe above which encodes a polypeptide having at least 60 sequence identify with a polypeptide having an amino acid sequence selected from the group consisting of: seq id no: 2, seq id no: 4, seq id no: 6, seq id no: 8, seq id no: 10, seq id no: 12, seq id no: 14 seq id no: 16, seq id no: 28, seq id no: 30, seq id no: 32, seq id no: 34, seq id no: 36, seq id no: 38, seq id no: 40, seq id no: 42, seq id no: 44, seq id no: 46, seq id no: 48, seq id no: 50, seq id no: 52, seq id no: 54, seq id no: 56, seq id no: 58, seq id no: 60, seq id no: 62, seq id no: 64, seq id no: 66, seq id no: 68, seq id no: 70, seq id no: 72, seq id no: 74, seq id no: 76, seq id no: 78, seq id no: 80, seq id no: 82, seq id no: 84 and seq id no: 86. further provided herein is an isolated polypeptide comprising an amino acid sequence having at least 60 sequence identify with an amino acid sequence selected from the group consisting of seq id no: 2, seq id no: 4, seq id no: 6, seq id no: 8, seq id no: 10, seq id no: 12, seq id no: 14 seq id no: 16, seq id no: 28, seq id no: 30, seq id no: 32, seq id no: 34, seq id no: 36, seq id no: 38, seq id no: 40, seq id no: 42, seq id no: 44, seq id no: 46, seq id no: 48, seq id no: 50, seq id no: 52, seq id no: 54, seq id no: 56, seq id no: 58, seq id no: 60, seq id no: 62, seq id no: 64, seq id no: 66, seq id no: 68, seq id no: 70, seq id no: 72, seq id no: 74, seq id no: 76, seq id no: 78, seq id no: 80, seq id no: 82, seq id no: 84 and seq id no: 86. still yet further provided is a cell that is recombinantly modified to express a polypeptide, described above. further provided are assays for identifying compounds that bind to indole andor skatole odorant receptors. in particular, provided herein is a method for identifying a compound that blocks, inhibits, modulates, andor enhances the activity of an olfactory receptor that is activated by a compound selected from the group consisting of indole and skatole comprising a contacting the receptor, or a chimera or fragment with a compound;b assaying whether the compound has an effect on the activity of the receptor; wherein the receptor is a polypeptide described above. in a further embodiment, provided herein, when a functional assay is used to measuring binding activity, the step of measuring a signaling activity of receptors provided herein may comprise detecting a change in the level of a second messenger. in another embodiment, the measurement of a signalling activity is provided wherein the step of measuring a signaling activity comprises the measurement of guanine nucleotide bindingcoupling or exchange, adenylate cyclase activity, camp, protein kinase c activity, protein kinase a activity phosphatidylinosotol breakdown, diacylglycerol, inositol triphosphate, intracellular calcium, calcium flux, arachidonic acid, map kinase activity, tyrosine kinase activity, melanophore assay, receptor initialization assay, or reporter gene expression. in a particular embodiment provided herein, the measuring of signaling activity comprises using a fluorescence or luminescence assay. fluorescence and luminescence assays may comprise the use ofca2 sensitive fluorophores including 00flu03flu04 15 or fura, molecular probesprobes; ca3-kit family molecular device and aequorin.</p>\n",
              "      <hr/>\n",
              "      <h2>Claim</h2>\n",
              "      <p>an in vitro method for identifying a compound that blocks, inhibits, modulates, andor enhances the activity of an olfactory receptor selected from the group consisting of odorant or aroma receptors that is activated by a compound selected from the group consisting of indole and skatole comprisinga contacting at least one receptor, or a chimera or fragment thereof, with a compound, wherein the receptor is a polypeptide comprising an amino acid sequence having at least 60 sequence identity with the amino acid sequence of seq id no: 2;b measuring the extent to which the compound blocks, inhibits, modulates, or enhances the activity of the receptor; andc identifying a compound that blocks, inhibits, modulates or enhances the response of the olfactory receptor.</p>\n",
              "      <hr/>\n",
              "      <h2>Generated claim</h2>\n",
              "      <p>A method of identifying a compound that blocks, inhibits, modulates, and or enhances the activity of an olfactory receptor that is activated by an odorant or aroma compound is provided.</p>\n",
              "    </div>\n",
              "  "
            ]
          },
          "metadata": {}
        }
      ]
    },
    {
      "cell_type": "markdown",
      "source": [
        "The generated text is now much more human-like. However, we can clearly see how the network is mostly summarizing the summary in a shorter text instead of actively trying to extract text that is meaningful for the claim.\n",
        "\n",
        "We **do** need some finetuning in order to change this behaviour."
      ],
      "metadata": {
        "id": "oqW7DqoIrRug"
      },
      "id": "oqW7DqoIrRug"
    },
    {
      "cell_type": "markdown",
      "source": [
        "# Few samples finetuning\n",
        "\n",
        "Let's load the checkpoint in which the model has been trained with only $250$ examples and see if it behaves better."
      ],
      "metadata": {
        "id": "UFag9NcXryse"
      },
      "id": "UFag9NcXryse"
    },
    {
      "cell_type": "code",
      "source": [
        "from transformers import BigBirdPegasusForConditionalGeneration\n",
        "\n",
        "if \"model\" in vars(): del model\n",
        "model = BigBirdPegasusForConditionalGeneration.from_pretrained(\n",
        "    os.path.join(DATA_PATH, \"BigBirdModelFineTune/\", \"checkpoint-250/\"),\n",
        "    block_size=16,\n",
        "    num_random_blocks=3,\n",
        "    attention_type=\"block_sparse\",\n",
        "    use_cache=True).to(DEVICE)"
      ],
      "metadata": {
        "id": "v1_YuDJ4rxyF"
      },
      "id": "v1_YuDJ4rxyF",
      "execution_count": 21,
      "outputs": []
    },
    {
      "cell_type": "code",
      "source": [
        "#@title Greedy search\n",
        "\n",
        "greedy_output = model.generate(sample_summary_batched, max_length=500)\n",
        "\n",
        "generated_claim_sample = tokenizer.decode(greedy_output.squeeze(0), \n",
        "                                          skip_special_tokens=True, \n",
        "                                          truncation=True)\n",
        "\n",
        "show_patent(text_summary_sample, text_claim_sample, \n",
        "            generated_claim=generated_claim_sample, \n",
        "            title=\"Greedy search generation\")"
      ],
      "metadata": {
        "colab": {
          "base_uri": "https://localhost:8080/",
          "height": 1000
        },
        "cellView": "form",
        "id": "BZmytsiZsbqE",
        "outputId": "23dd05d3-258b-4628-d029-609e6b05fdd4"
      },
      "id": "BZmytsiZsbqE",
      "execution_count": 22,
      "outputs": [
        {
          "output_type": "stream",
          "name": "stderr",
          "text": [
            "/usr/local/lib/python3.7/dist-packages/transformers/models/bigbird_pegasus/modeling_bigbird_pegasus.py:805: UserWarning: __floordiv__ is deprecated, and its behavior will change in a future version of pytorch. It currently rounds toward 0 (like the 'trunc' function NOT 'floor'). This results in incorrect rounding for negative values. To keep the current behavior, use torch.div(a, b, rounding_mode='trunc'), or for actual floor division, use torch.div(a, b, rounding_mode='floor').\n",
            "  * num_indices_to_pick_from\n"
          ]
        },
        {
          "output_type": "execute_result",
          "data": {
            "text/plain": [
              "<IPython.core.display.HTML object>"
            ],
            "text/html": [
              "\n",
              "    <div>\n",
              "      <h1>Greedy search generation</h1>\n",
              "      <hr/>\n",
              "      <h2>Summary</h2>\n",
              "      <p>the invention is defined by the amended claims. providedherein is a method of identifying olfactory receptors that are activated by an odorant or aroma compound comprising: a dissociating an isolated olfactory epithelium containing native olfactory neurons into single cells from a non-human mammal species wherein each neuron expresses an olfactory receptor;b loading the olfactory cells with an indicator dye that allows for the measurement of odorant or aroma receptor binding activity of the olfactory receptors;c contacting the olfactory receptors with odorant or aroma compounds sequentially;d measuring changes of odorant or aroma-induced neuronal activity;e isolating one or more olfactory neurons that were activated by a odorant or aroma compound;f amplifying the mrna of the isolated olfactory receptors;g sequencing at least a portion of the transcriptome of the mrna by next-generation sequencing; andh determining the identity of a group of olfactory receptors selected from the group consisting of odorant and aroma receptors by comparing the sequence of the transcriptome to a reference genome sequence of the same species and other vertebrate species. further provided herein is a method of identifying olfactory receptors that are activated by a malodor compound comprising: a dissociating an isolated olfactory epithelium containing native olfactory neurons into single cells from a non-human mammal species wherein each neuron expresses an olfactory receptor;b loading the olfactory cells with an indicator dye that allows for the measurement of malodor receptor binding activity of the olfactory receptors;c contacting the olfactory receptors with malodor compounds sequentially;d measuring changes of odorant-induced neuronal activity;e isolating one or more olfactory neurons that were activated by a malodor compound;f amplifying the mrna of the isolated olfactory receptors;g sequencing at least a portion of the transcriptome of the mrna by next-generation sequencing; andh determining the identity of a group of malodor olfactory receptors by comparing the sequence of the transcriptome to a reference genome sequence of the same species and other vertebrate species. further provided herein is an isolated nucleic acid sequence having at least 60 sequence identity with a nucleic acid sequence selected from the group consisting of seq id no: 1, seq id no: 3, seq id no: 5, seq id no: 7, seq id no: 9, seq id no: 11, seq id no: 13, seq id no: 15, seq id no: 27, seq id no: 29, seq id no: 31, seq id no: 33, seq id no: 35, seq id no: 37, seq id no: 39, seq id no: 41, seq id no: 43, seq id no: 45, seq id no: 47, seq id no: 49, seq id no: 51, seq id no: 53, seq id no: 55, seq id no: 57, seq id no: 59, seq id no: 61, seq id no: 63, seq id no: 65, seq id no: 67, seq id no: 69, seq id no: 71, seq id no: 73, seq id no: 75, seq id no: 77, seq id no: 79, seq id no: 81, seq id no: 83 and seq id no: 85. also provided herein is an isolated nucleic acid sequence as describe above which encodes a polypeptide having at least 60 sequence identify with a polypeptide having an amino acid sequence selected from the group consisting of: seq id no: 2, seq id no: 4, seq id no: 6, seq id no: 8, seq id no: 10, seq id no: 12, seq id no: 14 seq id no: 16, seq id no: 28, seq id no: 30, seq id no: 32, seq id no: 34, seq id no: 36, seq id no: 38, seq id no: 40, seq id no: 42, seq id no: 44, seq id no: 46, seq id no: 48, seq id no: 50, seq id no: 52, seq id no: 54, seq id no: 56, seq id no: 58, seq id no: 60, seq id no: 62, seq id no: 64, seq id no: 66, seq id no: 68, seq id no: 70, seq id no: 72, seq id no: 74, seq id no: 76, seq id no: 78, seq id no: 80, seq id no: 82, seq id no: 84 and seq id no: 86. further provided herein is an isolated polypeptide comprising an amino acid sequence having at least 60 sequence identify with an amino acid sequence selected from the group consisting of seq id no: 2, seq id no: 4, seq id no: 6, seq id no: 8, seq id no: 10, seq id no: 12, seq id no: 14 seq id no: 16, seq id no: 28, seq id no: 30, seq id no: 32, seq id no: 34, seq id no: 36, seq id no: 38, seq id no: 40, seq id no: 42, seq id no: 44, seq id no: 46, seq id no: 48, seq id no: 50, seq id no: 52, seq id no: 54, seq id no: 56, seq id no: 58, seq id no: 60, seq id no: 62, seq id no: 64, seq id no: 66, seq id no: 68, seq id no: 70, seq id no: 72, seq id no: 74, seq id no: 76, seq id no: 78, seq id no: 80, seq id no: 82, seq id no: 84 and seq id no: 86. still yet further provided is a cell that is recombinantly modified to express a polypeptide, described above. further provided are assays for identifying compounds that bind to indole andor skatole odorant receptors. in particular, provided herein is a method for identifying a compound that blocks, inhibits, modulates, andor enhances the activity of an olfactory receptor that is activated by a compound selected from the group consisting of indole and skatole comprising a contacting the receptor, or a chimera or fragment with a compound;b assaying whether the compound has an effect on the activity of the receptor; wherein the receptor is a polypeptide described above. in a further embodiment, provided herein, when a functional assay is used to measuring binding activity, the step of measuring a signaling activity of receptors provided herein may comprise detecting a change in the level of a second messenger. in another embodiment, the measurement of a signalling activity is provided wherein the step of measuring a signaling activity comprises the measurement of guanine nucleotide bindingcoupling or exchange, adenylate cyclase activity, camp, protein kinase c activity, protein kinase a activity phosphatidylinosotol breakdown, diacylglycerol, inositol triphosphate, intracellular calcium, calcium flux, arachidonic acid, map kinase activity, tyrosine kinase activity, melanophore assay, receptor initialization assay, or reporter gene expression. in a particular embodiment provided herein, the measuring of signaling activity comprises using a fluorescence or luminescence assay. fluorescence and luminescence assays may comprise the use ofca2 sensitive fluorophores including 00flu03flu04 15 or fura, molecular probesprobes; ca3-kit family molecular device and aequorin.</p>\n",
              "      <hr/>\n",
              "      <h2>Claim</h2>\n",
              "      <p>an in vitro method for identifying a compound that blocks, inhibits, modulates, andor enhances the activity of an olfactory receptor selected from the group consisting of odorant or aroma receptors that is activated by a compound selected from the group consisting of indole and skatole comprisinga contacting at least one receptor, or a chimera or fragment thereof, with a compound, wherein the receptor is a polypeptide comprising an amino acid sequence having at least 60 sequence identity with the amino acid sequence of seq id no: 2;b measuring the extent to which the compound blocks, inhibits, modulates, or enhances the activity of the receptor; andc identifying a compound that blocks, inhibits, modulates or enhances the response of the olfactory receptor.</p>\n",
              "      <hr/>\n",
              "      <h2>Generated claim</h2>\n",
              "      <p>Provided herein is an isolated isolated isolated isolated isolated isolated isolated isolated isolated isolated isolated isolated isolated isolated isolated isolated isolated isolated isolated isolated isolated isolated isolated isolated isolated isolated isolated isolated isolated isolated isolated isolated isolated isolated isolated isolated isolated isolated isolated isolated isolated isolated isolated isolated isolated isolated isolated isolated isolated isolated isolated isolated isolated isolated isolated isolated isolated isolated isolated isolated isolated isolated isolated isolated isolated isolated isolated isolated isolated isolated isolated isolated isolated isolated isolated isolated isolated isolated isolated isolated isolated isolated isolated isolated isolated isolated isolated isolated isolated isolated isolated isolated isolated isolated isolated isolated isolated isolated isolated isolated isolated isolated isolated isolated isolated isolated isolated isolated isolated isolated isolated isolated isolated isolated isolated isolated isolated isolated isolated isolated isolated isolated isolated isolated isolated isolated isolated isolated isolated isolated isolated isolated isolated isolated isolated isolated isolated isolated isolated isolated isolated isolated isolated isolated isolated isolated isolated isolated isolated isolated isolated isolated isolated isolated isolated isolated isolated isolated isolated isolated isolated isolated isolated isolated isolated isolated isolated isolated isolated isolated isolated isolated isolated isolated isolated isolated isolated isolated isolated isolated isolated isolated isolated isolated isolated isolated isolated isolated isolated isolated isolated isolated isolated isolated isolated isolated isolated isolated isolated isolated isolated isolated isolated isolated isolated isolated isolated isolated isolated isolated isolated isolated isolated isolated isolated isolated isolated isolated isolated isolated isolated isolated isolated isolated isolated isolated isolated isolated isolated isolated isolated isolated isolated isolated isolated isolated isolated isolated isolated isolated isolated isolated isolated isolated isolated isolated isolated isolated isolated isolated isolated isolated isolated isolated isolated isolated isolated isolated isolated isolated isolated isolated isolated isolated isolated isolated isolated isolated isolated isolated isolated isolated isolated isolated isolated isolated isolated isolated isolated isolated isolated isolated isolated isolated isolated isolated isolated isolated isolated isolated isolated isolated isolated isolated isolated isolated isolated isolated isolated isolated isolated isolated isolated isolated isolated isolated isolated isolated isolated isolated isolated isolated isolated isolated isolated isolated isolated isolated isolated isolated isolated isolated isolated isolated isolated isolated isolated isolated isolated isolated isolated isolated isolated isolated isolated isolated isolated isolated isolated isolated isolated isolated isolated isolated isolated isolated isolated isolated isolated isolated isolated isolated isolated isolated isolated isolated isolated isolated isolated isolated isolated isolated isolated isolated isolated isolated isolated isolated isolated isolated isolated isolated isolated isolated isolated isolated isolated isolated isolated isolated isolated isolated isolated isolated isolated isolated isolated isolated isolated isolated isolated isolated isolated isolated isolated isolated isolated isolated isolated isolated isolated isolated isolated isolated isolated isolated isolated isolated isolated isolated isolated isolated isolated isolated isolated isolated isolated isolated isolated isolated isolated isolated isolated isolated isolated isolated isolated isolated isolated isolated isolated isolated isolated isolated isolated isolated isolated isolated isolated isolated isolated isolated isolated isolated isolated isolated isolated isolated isolated isolated isolated isolated isolated isolated isolated isolated isolated isolated isolated isolated isolated isolated isolated isolated isolated isolated isolated isolated isolated isolated isolated isolated isolated isolated isolated isolated isolated isolated isolated isolated isolated isolated isolated isolated isolated isolated isolated isolated isolated isolated isolated isolated isolated isolated isolated</p>\n",
              "    </div>\n",
              "  "
            ]
          },
          "metadata": {},
          "execution_count": 22
        }
      ]
    }
  ],
  "metadata": {
    "kernelspec": {
      "display_name": "Python 3 (ipykernel)",
      "language": "python",
      "name": "python3"
    },
    "language_info": {
      "codemirror_mode": {
        "name": "ipython",
        "version": 3
      },
      "file_extension": ".py",
      "mimetype": "text/x-python",
      "name": "python",
      "nbconvert_exporter": "python",
      "pygments_lexer": "ipython3",
      "version": "3.9.7"
    },
    "colab": {
      "name": "testing.ipynb",
      "provenance": []
    },
    "accelerator": "GPU"
  },
  "nbformat": 4,
  "nbformat_minor": 5
}