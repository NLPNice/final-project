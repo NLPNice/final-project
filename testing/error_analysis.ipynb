{
  "cells": [
    {
      "cell_type": "code",
      "source": [
        "from google.colab import drive\n",
        "drive.mount('/gdrive')\n"
      ],
      "metadata": {
        "id": "nB-Dnf-I626v",
        "colab": {
          "base_uri": "https://localhost:8080/"
        },
        "outputId": "1f7a11ec-ae60-4498-ecfc-2cb2e8f8ca9b"
      },
      "id": "nB-Dnf-I626v",
      "execution_count": 1,
      "outputs": [
        {
          "metadata": {
            "tags": null
          },
          "name": "stdout",
          "output_type": "stream",
          "text": [
            "Mounted at /gdrive\n"
          ]
        }
      ]
    },
    {
      "cell_type": "code",
      "source": [
        "import os\n",
        "import sys\n",
        "import pandas as pd\n",
        "\n",
        "DATA_PATH = \"/gdrive/MyDrive/final-project/post-refactor/data/metrics/\"\n",
        "\n",
        "metrics = {\n",
        "    \"bart\": pd.read_csv(os.path.join(DATA_PATH, \"bart_metric.csv\")).drop(columns=[\"Unnamed: 0\"]),\n",
        "    \"bigbird\": pd.read_csv(os.path.join(DATA_PATH, \"bigbird_metric.csv\")).drop(columns=[\"Unnamed: 0\"]),\n",
        "    \"bigbird balanced\": pd.read_csv(os.path.join(DATA_PATH, \"bigbird_balanced_metric.csv\")).drop(columns=[\"Unnamed: 0\"]),\n",
        "    \"bigbird less samples\": pd.read_csv(os.path.join(DATA_PATH, \"bigbird_less_samples_metric.csv\")).drop(columns=[\"Unnamed: 0\"])\n",
        "}"
      ],
      "metadata": {
        "id": "iWkMBJI66etE"
      },
      "id": "iWkMBJI66etE",
      "execution_count": 2,
      "outputs": []
    },
    {
      "cell_type": "markdown",
      "source": [
        "# Error analysis"
      ],
      "metadata": {
        "id": "iCgzDjDYvWn6"
      },
      "id": "iCgzDjDYvWn6"
    },
    {
      "cell_type": "markdown",
      "source": [
        "We will first compute the ratio between the expected output length and the actual claim length. this will give us a measure on how good the generation is with respect to the rigth length of the claim.\n",
        "If the ratio is close to $1$ then the lengths matches, if it's $< 1$ the generated text is shorter, if it's $> 1$ the generated text is longer."
      ],
      "metadata": {
        "id": "4080U7l8zLn7"
      },
      "id": "4080U7l8zLn7"
    },
    {
      "cell_type": "code",
      "source": [
        "import matplotlib.pyplot as plt\n",
        "import matplotlib.colors as mcolors\n",
        "\n",
        "fig, ax = plt.subplots(nrows=4, ncols=2, figsize=(15, 10))\n",
        "\n",
        "colors = list(mcolors.TABLEAU_COLORS.keys())\n",
        "\n",
        "for idx, (model, metric) in enumerate(metrics.items()):\n",
        "  claim_len = metric[\"claim\"].apply(lambda x: len(x.split()))\n",
        "  greedy_len = metric[\"greedy_gen\"].apply(lambda x: len(x.split()))\n",
        "  beam_len = metric[\"beam1_gen\"].apply(lambda x: len(x.split()))\n",
        "\n",
        "  ax[idx, 0].hist(1 - (greedy_len / claim_len), bins=30, label=model, color=colors[idx])\n",
        "  ax[idx, 0].set_xlim(-3, 3)\n",
        "  ax[idx, 0].set_ylim(0, 30)\n",
        "  ax[idx, 0].legend()\n",
        "  ax[idx, 1].hist(1 - (beam_len / claim_len), bins=30, label=model, color=colors[idx])\n",
        "  ax[idx, 1].set_xlim(-3, 3)\n",
        "  ax[idx, 1].set_ylim(0, 30)\n",
        "\n",
        "ax[0, 0].set_title(\"Greedy search\")\n",
        "ax[0, 1].set_title(\"Beam search\")\n",
        "plt.show()"
      ],
      "metadata": {
        "colab": {
          "base_uri": "https://localhost:8080/",
          "height": 608
        },
        "id": "nahMT_4N7oPj",
        "outputId": "698739f5-17e0-4f96-f252-5d235999ce36"
      },
      "id": "nahMT_4N7oPj",
      "execution_count": 155,
      "outputs": [
        {
          "output_type": "display_data",
          "data": {
            "text/plain": [
              "<Figure size 1080x720 with 8 Axes>"
            ],
            "image/png": "[encoded data removed]"
          },
          "metadata": {
            "needs_background": "light"
          }
        }
      ]
    },
    {
      "cell_type": "markdown",
      "source": [
        "It's clear how bigbird outperforms bart and even the smaller datasets perform better than it.\n",
        "In particular we can see that the bigbird model whose being trained on most data performs better than the other model, with the one being trained on the balanced dataset being close.\n",
        "\n",
        "There doesn't seem to be much difference wether generating by means of greedy search or beam search."
      ],
      "metadata": {
        "id": "xrfb_bQMBSim"
      },
      "id": "xrfb_bQMBSim"
    },
    {
      "cell_type": "markdown",
      "source": [
        "We will then compute the mean of each metric."
      ],
      "metadata": {
        "id": "TUoDk79K1rQq"
      },
      "id": "TUoDk79K1rQq"
    },
    {
      "cell_type": "code",
      "source": [
        "mean_metrics = None\n",
        "\n",
        "for model, metric in metrics.items():\n",
        "  df = pd.DataFrame.from_dict(metric.mean()).transpose()\n",
        "  df[\"model\"] = model\n",
        "\n",
        "  if mean_metrics is None:\n",
        "    mean_metrics = df\n",
        "  else:\n",
        "    mean_metrics = pd.concat([mean_metrics, df])\n",
        "\n",
        "mean_metrics = mean_metrics.set_index(\"model\")\n",
        "mean_metrics"
      ],
      "metadata": {
        "colab": {
          "base_uri": "https://localhost:8080/",
          "height": 357
        },
        "id": "iQ6ICieavE7c",
        "outputId": "a1316089-9e3a-4df7-b737-78a1317c2456"
      },
      "execution_count": 4,
      "outputs": [
        {
          "output_type": "stream",
          "name": "stderr",
          "text": [
            "/usr/local/lib/python3.7/dist-packages/ipykernel_launcher.py:4: FutureWarning: Dropping of nuisance columns in DataFrame reductions (with 'numeric_only=None') is deprecated; in a future version this will raise TypeError.  Select only valid columns before calling the reduction.\n",
            "  after removing the cwd from sys.path.\n"
          ]
        },
        {
          "output_type": "execute_result",
          "data": {
            "text/plain": [
              "                      greedy_gen_sacrebleu  greedy_gen_rouge1  \\\n",
              "model                                                           \n",
              "bart                             25.682172          55.295771   \n",
              "bigbird                          47.686036          69.631047   \n",
              "bigbird balanced                 46.727662          69.489898   \n",
              "bigbird less samples             42.439327          66.649710   \n",
              "\n",
              "                      greedy_gen_rouge2  greedy_gen_rougeL  \\\n",
              "model                                                        \n",
              "bart                          41.299502          48.161742   \n",
              "bigbird                       59.806778          64.057692   \n",
              "bigbird balanced              60.039280          65.022450   \n",
              "bigbird less samples          55.813466          59.868082   \n",
              "\n",
              "                      greedy_gen_rougeLsum  greedy_gen_bleurt  \\\n",
              "model                                                           \n",
              "bart                             48.161742         -48.926802   \n",
              "bigbird                          64.057692          -8.898689   \n",
              "bigbird balanced                 65.022450         -10.830294   \n",
              "bigbird less samples             59.868082         -13.977185   \n",
              "\n",
              "                      greedy_gen_sari  beam1_gen_sacrebleu  beam1_gen_rouge1  \\\n",
              "model                                                                          \n",
              "bart                        48.238751            31.005953         59.471034   \n",
              "bigbird                     57.869623            47.521966         69.219416   \n",
              "bigbird balanced            57.366568            45.298207         68.976390   \n",
              "bigbird less samples        54.028545            42.026834         66.693147   \n",
              "\n",
              "                      beam1_gen_rouge2  beam1_gen_rougeL  beam1_gen_rougeLsum  \\\n",
              "model                                                                           \n",
              "bart                         44.905557         51.586766            51.586766   \n",
              "bigbird                      59.650675         63.877764            63.877764   \n",
              "bigbird balanced             59.369910         63.854720            63.854720   \n",
              "bigbird less samples         55.791639         59.929249            59.929249   \n",
              "\n",
              "                      beam1_gen_bleurt  beam1_gen_sari  \n",
              "model                                                   \n",
              "bart                        -39.772452       49.512342  \n",
              "bigbird                      -8.235154       57.981764  \n",
              "bigbird balanced            -15.837058       57.238878  \n",
              "bigbird less samples        -15.862092       54.265686  "
            ],
            "text/html": [
              "\n",
              "  <div id=\"df-a663e4f6-265a-46ba-98b3-8836b9bb15a6\">\n",
              "    <div class=\"colab-df-container\">\n",
              "      <div>\n",
              "<style scoped>\n",
              "    .dataframe tbody tr th:only-of-type {\n",
              "        vertical-align: middle;\n",
              "    }\n",
              "\n",
              "    .dataframe tbody tr th {\n",
              "        vertical-align: top;\n",
              "    }\n",
              "\n",
              "    .dataframe thead th {\n",
              "        text-align: right;\n",
              "    }\n",
              "</style>\n",
              "<table border=\"1\" class=\"dataframe\">\n",
              "  <thead>\n",
              "    <tr style=\"text-align: right;\">\n",
              "      <th></th>\n",
              "      <th>greedy_gen_sacrebleu</th>\n",
              "      <th>greedy_gen_rouge1</th>\n",
              "      <th>greedy_gen_rouge2</th>\n",
              "      <th>greedy_gen_rougeL</th>\n",
              "      <th>greedy_gen_rougeLsum</th>\n",
              "      <th>greedy_gen_bleurt</th>\n",
              "      <th>greedy_gen_sari</th>\n",
              "      <th>beam1_gen_sacrebleu</th>\n",
              "      <th>beam1_gen_rouge1</th>\n",
              "      <th>beam1_gen_rouge2</th>\n",
              "      <th>beam1_gen_rougeL</th>\n",
              "      <th>beam1_gen_rougeLsum</th>\n",
              "      <th>beam1_gen_bleurt</th>\n",
              "      <th>beam1_gen_sari</th>\n",
              "    </tr>\n",
              "    <tr>\n",
              "      <th>model</th>\n",
              "      <th></th>\n",
              "      <th></th>\n",
              "      <th></th>\n",
              "      <th></th>\n",
              "      <th></th>\n",
              "      <th></th>\n",
              "      <th></th>\n",
              "      <th></th>\n",
              "      <th></th>\n",
              "      <th></th>\n",
              "      <th></th>\n",
              "      <th></th>\n",
              "      <th></th>\n",
              "      <th></th>\n",
              "    </tr>\n",
              "  </thead>\n",
              "  <tbody>\n",
              "    <tr>\n",
              "      <th>bart</th>\n",
              "      <td>25.682172</td>\n",
              "      <td>55.295771</td>\n",
              "      <td>41.299502</td>\n",
              "      <td>48.161742</td>\n",
              "      <td>48.161742</td>\n",
              "      <td>-48.926802</td>\n",
              "      <td>48.238751</td>\n",
              "      <td>31.005953</td>\n",
              "      <td>59.471034</td>\n",
              "      <td>44.905557</td>\n",
              "      <td>51.586766</td>\n",
              "      <td>51.586766</td>\n",
              "      <td>-39.772452</td>\n",
              "      <td>49.512342</td>\n",
              "    </tr>\n",
              "    <tr>\n",
              "      <th>bigbird</th>\n",
              "      <td>47.686036</td>\n",
              "      <td>69.631047</td>\n",
              "      <td>59.806778</td>\n",
              "      <td>64.057692</td>\n",
              "      <td>64.057692</td>\n",
              "      <td>-8.898689</td>\n",
              "      <td>57.869623</td>\n",
              "      <td>47.521966</td>\n",
              "      <td>69.219416</td>\n",
              "      <td>59.650675</td>\n",
              "      <td>63.877764</td>\n",
              "      <td>63.877764</td>\n",
              "      <td>-8.235154</td>\n",
              "      <td>57.981764</td>\n",
              "    </tr>\n",
              "    <tr>\n",
              "      <th>bigbird balanced</th>\n",
              "      <td>46.727662</td>\n",
              "      <td>69.489898</td>\n",
              "      <td>60.039280</td>\n",
              "      <td>65.022450</td>\n",
              "      <td>65.022450</td>\n",
              "      <td>-10.830294</td>\n",
              "      <td>57.366568</td>\n",
              "      <td>45.298207</td>\n",
              "      <td>68.976390</td>\n",
              "      <td>59.369910</td>\n",
              "      <td>63.854720</td>\n",
              "      <td>63.854720</td>\n",
              "      <td>-15.837058</td>\n",
              "      <td>57.238878</td>\n",
              "    </tr>\n",
              "    <tr>\n",
              "      <th>bigbird less samples</th>\n",
              "      <td>42.439327</td>\n",
              "      <td>66.649710</td>\n",
              "      <td>55.813466</td>\n",
              "      <td>59.868082</td>\n",
              "      <td>59.868082</td>\n",
              "      <td>-13.977185</td>\n",
              "      <td>54.028545</td>\n",
              "      <td>42.026834</td>\n",
              "      <td>66.693147</td>\n",
              "      <td>55.791639</td>\n",
              "      <td>59.929249</td>\n",
              "      <td>59.929249</td>\n",
              "      <td>-15.862092</td>\n",
              "      <td>54.265686</td>\n",
              "    </tr>\n",
              "  </tbody>\n",
              "</table>\n",
              "</div>\n",
              "      <button class=\"colab-df-convert\" onclick=\"convertToInteractive('df-a663e4f6-265a-46ba-98b3-8836b9bb15a6')\"\n",
              "              title=\"Convert this dataframe to an interactive table.\"\n",
              "              style=\"display:none;\">\n",
              "        \n",
              "  <svg xmlns=\"http://www.w3.org/2000/svg\" height=\"24px\"viewBox=\"0 0 24 24\"\n",
              "       width=\"24px\">\n",
              "    <path d=\"M0 0h24v24H0V0z\" fill=\"none\"/>\n",
              "    <path d=\"M18.56 5.44l.94 2.06.94-2.06 2.06-.94-2.06-.94-.94-2.06-.94 2.06-2.06.94zm-11 1L8.5 8.5l.94-2.06 2.06-.94-2.06-.94L8.5 2.5l-.94 2.06-2.06.94zm10 10l.94 2.06.94-2.06 2.06-.94-2.06-.94-.94-2.06-.94 2.06-2.06.94z\"/><path d=\"M17.41 7.96l-1.37-1.37c-.4-.4-.92-.59-1.43-.59-.52 0-1.04.2-1.43.59L10.3 9.45l-7.72 7.72c-.78.78-.78 2.05 0 2.83L4 21.41c.39.39.9.59 1.41.59.51 0 1.02-.2 1.41-.59l7.78-7.78 2.81-2.81c.8-.78.8-2.07 0-2.86zM5.41 20L4 18.59l7.72-7.72 1.47 1.35L5.41 20z\"/>\n",
              "  </svg>\n",
              "      </button>\n",
              "      \n",
              "  <style>\n",
              "    .colab-df-container {\n",
              "      display:flex;\n",
              "      flex-wrap:wrap;\n",
              "      gap: 12px;\n",
              "    }\n",
              "\n",
              "    .colab-df-convert {\n",
              "      background-color: #E8F0FE;\n",
              "      border: none;\n",
              "      border-radius: 50%;\n",
              "      cursor: pointer;\n",
              "      display: none;\n",
              "      fill: #1967D2;\n",
              "      height: 32px;\n",
              "      padding: 0 0 0 0;\n",
              "      width: 32px;\n",
              "    }\n",
              "\n",
              "    .colab-df-convert:hover {\n",
              "      background-color: #E2EBFA;\n",
              "      box-shadow: 0px 1px 2px rgba(60, 64, 67, 0.3), 0px 1px 3px 1px rgba(60, 64, 67, 0.15);\n",
              "      fill: #174EA6;\n",
              "    }\n",
              "\n",
              "    [theme=dark] .colab-df-convert {\n",
              "      background-color: #3B4455;\n",
              "      fill: #D2E3FC;\n",
              "    }\n",
              "\n",
              "    [theme=dark] .colab-df-convert:hover {\n",
              "      background-color: #434B5C;\n",
              "      box-shadow: 0px 1px 3px 1px rgba(0, 0, 0, 0.15);\n",
              "      filter: drop-shadow(0px 1px 2px rgba(0, 0, 0, 0.3));\n",
              "      fill: #FFFFFF;\n",
              "    }\n",
              "  </style>\n",
              "\n",
              "      <script>\n",
              "        const buttonEl =\n",
              "          document.querySelector('#df-a663e4f6-265a-46ba-98b3-8836b9bb15a6 button.colab-df-convert');\n",
              "        buttonEl.style.display =\n",
              "          google.colab.kernel.accessAllowed ? 'block' : 'none';\n",
              "\n",
              "        async function convertToInteractive(key) {\n",
              "          const element = document.querySelector('#df-a663e4f6-265a-46ba-98b3-8836b9bb15a6');\n",
              "          const dataTable =\n",
              "            await google.colab.kernel.invokeFunction('convertToInteractive',\n",
              "                                                     [key], {});\n",
              "          if (!dataTable) return;\n",
              "\n",
              "          const docLinkHtml = 'Like what you see? Visit the ' +\n",
              "            '<a target=\"_blank\" href=https://colab.research.google.com/notebooks/data_table.ipynb>data table notebook</a>'\n",
              "            + ' to learn more about interactive tables.';\n",
              "          element.innerHTML = '';\n",
              "          dataTable['output_type'] = 'display_data';\n",
              "          await google.colab.output.renderOutput(dataTable, element);\n",
              "          const docLink = document.createElement('div');\n",
              "          docLink.innerHTML = docLinkHtml;\n",
              "          element.appendChild(docLink);\n",
              "        }\n",
              "      </script>\n",
              "    </div>\n",
              "  </div>\n",
              "  "
            ]
          },
          "metadata": {},
          "execution_count": 4
        }
      ],
      "id": "iQ6ICieavE7c"
    },
    {
      "cell_type": "markdown",
      "source": [
        "## BLEU and ROUGE analysis\n",
        "\n",
        "In the following we will take into account BLEU and ROUGE metrics. We used two different variations of BLEU: sacreBLEU (traditional one) and BLEURT (based on BERT embeddings).\n",
        "\n",
        "BLEU can be considered similar to the precision metric while ROUGE is the equivalent of recall. For this very reason we can think of BLEU score as *the amount of generated text whose present on the real one* while we can think of ROUGE as *the amount of real text whose present on the generated one*.\n",
        "\n",
        "Those are two important aspect of getting an accurate generation and can be combined by building an F-score as $F1 = 2 \\cdot \\frac{BLEU \\cdot ROUGE}{BLEU + ROUGE}$."
      ],
      "metadata": {
        "id": "E76zDvOTCQqo"
      },
      "id": "E76zDvOTCQqo"
    },
    {
      "cell_type": "code",
      "source": [
        "bleu_rouge = mean_metrics[[\"greedy_gen_sacrebleu\", \"greedy_gen_bleurt\", \"greedy_gen_rougeL\",\n",
        "                           \"beam1_gen_sacrebleu\", \"beam1_gen_bleurt\", \"beam1_gen_rougeL\"]]\n",
        "\n",
        "bleu_rouge[\"greedy_f1\"] = 2 * (bleu_rouge[\"greedy_gen_sacrebleu\"] * bleu_rouge[\"greedy_gen_rougeL\"]) / (bleu_rouge[\"greedy_gen_sacrebleu\"] + bleu_rouge[\"greedy_gen_rougeL\"])\n",
        "bleu_rouge[\"beam_f1\"] = 2 * (bleu_rouge[\"beam1_gen_sacrebleu\"] * bleu_rouge[\"beam1_gen_rougeL\"]) / (bleu_rouge[\"beam1_gen_sacrebleu\"] + bleu_rouge[\"beam1_gen_rougeL\"])\n",
        "\n",
        "bleu_rouge"
      ],
      "metadata": {
        "id": "GvwcrSE7DdU2",
        "outputId": "4f76a3fb-10b4-487c-a8a6-45cb62dc2bb9",
        "colab": {
          "base_uri": "https://localhost:8080/",
          "height": 415
        }
      },
      "id": "GvwcrSE7DdU2",
      "execution_count": 5,
      "outputs": [
        {
          "output_type": "stream",
          "name": "stderr",
          "text": [
            "/usr/local/lib/python3.7/dist-packages/ipykernel_launcher.py:4: SettingWithCopyWarning: \n",
            "A value is trying to be set on a copy of a slice from a DataFrame.\n",
            "Try using .loc[row_indexer,col_indexer] = value instead\n",
            "\n",
            "See the caveats in the documentation: https://pandas.pydata.org/pandas-docs/stable/user_guide/indexing.html#returning-a-view-versus-a-copy\n",
            "  after removing the cwd from sys.path.\n",
            "/usr/local/lib/python3.7/dist-packages/ipykernel_launcher.py:5: SettingWithCopyWarning: \n",
            "A value is trying to be set on a copy of a slice from a DataFrame.\n",
            "Try using .loc[row_indexer,col_indexer] = value instead\n",
            "\n",
            "See the caveats in the documentation: https://pandas.pydata.org/pandas-docs/stable/user_guide/indexing.html#returning-a-view-versus-a-copy\n",
            "  \"\"\"\n"
          ]
        },
        {
          "output_type": "execute_result",
          "data": {
            "text/plain": [
              "                      greedy_gen_sacrebleu  greedy_gen_bleurt  \\\n",
              "model                                                           \n",
              "bart                             25.682172         -48.926802   \n",
              "bigbird                          47.686036          -8.898689   \n",
              "bigbird balanced                 46.727662         -10.830294   \n",
              "bigbird less samples             42.439327         -13.977185   \n",
              "\n",
              "                      greedy_gen_rougeL  beam1_gen_sacrebleu  \\\n",
              "model                                                          \n",
              "bart                          48.161742            31.005953   \n",
              "bigbird                       64.057692            47.521966   \n",
              "bigbird balanced              65.022450            45.298207   \n",
              "bigbird less samples          59.868082            42.026834   \n",
              "\n",
              "                      beam1_gen_bleurt  beam1_gen_rougeL  greedy_f1    beam_f1  \n",
              "model                                                                           \n",
              "bart                        -39.772452         51.586766  33.500341  38.732151  \n",
              "bigbird                      -8.235154         63.877764  54.672552  54.499179  \n",
              "bigbird balanced            -15.837058         63.854720  54.377521  52.999116  \n",
              "bigbird less samples        -15.862092         59.929249  49.669151  49.406303  "
            ],
            "text/html": [
              "\n",
              "  <div id=\"df-8f8c4d50-3095-4751-aa94-e05336533593\">\n",
              "    <div class=\"colab-df-container\">\n",
              "      <div>\n",
              "<style scoped>\n",
              "    .dataframe tbody tr th:only-of-type {\n",
              "        vertical-align: middle;\n",
              "    }\n",
              "\n",
              "    .dataframe tbody tr th {\n",
              "        vertical-align: top;\n",
              "    }\n",
              "\n",
              "    .dataframe thead th {\n",
              "        text-align: right;\n",
              "    }\n",
              "</style>\n",
              "<table border=\"1\" class=\"dataframe\">\n",
              "  <thead>\n",
              "    <tr style=\"text-align: right;\">\n",
              "      <th></th>\n",
              "      <th>greedy_gen_sacrebleu</th>\n",
              "      <th>greedy_gen_bleurt</th>\n",
              "      <th>greedy_gen_rougeL</th>\n",
              "      <th>beam1_gen_sacrebleu</th>\n",
              "      <th>beam1_gen_bleurt</th>\n",
              "      <th>beam1_gen_rougeL</th>\n",
              "      <th>greedy_f1</th>\n",
              "      <th>beam_f1</th>\n",
              "    </tr>\n",
              "    <tr>\n",
              "      <th>model</th>\n",
              "      <th></th>\n",
              "      <th></th>\n",
              "      <th></th>\n",
              "      <th></th>\n",
              "      <th></th>\n",
              "      <th></th>\n",
              "      <th></th>\n",
              "      <th></th>\n",
              "    </tr>\n",
              "  </thead>\n",
              "  <tbody>\n",
              "    <tr>\n",
              "      <th>bart</th>\n",
              "      <td>25.682172</td>\n",
              "      <td>-48.926802</td>\n",
              "      <td>48.161742</td>\n",
              "      <td>31.005953</td>\n",
              "      <td>-39.772452</td>\n",
              "      <td>51.586766</td>\n",
              "      <td>33.500341</td>\n",
              "      <td>38.732151</td>\n",
              "    </tr>\n",
              "    <tr>\n",
              "      <th>bigbird</th>\n",
              "      <td>47.686036</td>\n",
              "      <td>-8.898689</td>\n",
              "      <td>64.057692</td>\n",
              "      <td>47.521966</td>\n",
              "      <td>-8.235154</td>\n",
              "      <td>63.877764</td>\n",
              "      <td>54.672552</td>\n",
              "      <td>54.499179</td>\n",
              "    </tr>\n",
              "    <tr>\n",
              "      <th>bigbird balanced</th>\n",
              "      <td>46.727662</td>\n",
              "      <td>-10.830294</td>\n",
              "      <td>65.022450</td>\n",
              "      <td>45.298207</td>\n",
              "      <td>-15.837058</td>\n",
              "      <td>63.854720</td>\n",
              "      <td>54.377521</td>\n",
              "      <td>52.999116</td>\n",
              "    </tr>\n",
              "    <tr>\n",
              "      <th>bigbird less samples</th>\n",
              "      <td>42.439327</td>\n",
              "      <td>-13.977185</td>\n",
              "      <td>59.868082</td>\n",
              "      <td>42.026834</td>\n",
              "      <td>-15.862092</td>\n",
              "      <td>59.929249</td>\n",
              "      <td>49.669151</td>\n",
              "      <td>49.406303</td>\n",
              "    </tr>\n",
              "  </tbody>\n",
              "</table>\n",
              "</div>\n",
              "      <button class=\"colab-df-convert\" onclick=\"convertToInteractive('df-8f8c4d50-3095-4751-aa94-e05336533593')\"\n",
              "              title=\"Convert this dataframe to an interactive table.\"\n",
              "              style=\"display:none;\">\n",
              "        \n",
              "  <svg xmlns=\"http://www.w3.org/2000/svg\" height=\"24px\"viewBox=\"0 0 24 24\"\n",
              "       width=\"24px\">\n",
              "    <path d=\"M0 0h24v24H0V0z\" fill=\"none\"/>\n",
              "    <path d=\"M18.56 5.44l.94 2.06.94-2.06 2.06-.94-2.06-.94-.94-2.06-.94 2.06-2.06.94zm-11 1L8.5 8.5l.94-2.06 2.06-.94-2.06-.94L8.5 2.5l-.94 2.06-2.06.94zm10 10l.94 2.06.94-2.06 2.06-.94-2.06-.94-.94-2.06-.94 2.06-2.06.94z\"/><path d=\"M17.41 7.96l-1.37-1.37c-.4-.4-.92-.59-1.43-.59-.52 0-1.04.2-1.43.59L10.3 9.45l-7.72 7.72c-.78.78-.78 2.05 0 2.83L4 21.41c.39.39.9.59 1.41.59.51 0 1.02-.2 1.41-.59l7.78-7.78 2.81-2.81c.8-.78.8-2.07 0-2.86zM5.41 20L4 18.59l7.72-7.72 1.47 1.35L5.41 20z\"/>\n",
              "  </svg>\n",
              "      </button>\n",
              "      \n",
              "  <style>\n",
              "    .colab-df-container {\n",
              "      display:flex;\n",
              "      flex-wrap:wrap;\n",
              "      gap: 12px;\n",
              "    }\n",
              "\n",
              "    .colab-df-convert {\n",
              "      background-color: #E8F0FE;\n",
              "      border: none;\n",
              "      border-radius: 50%;\n",
              "      cursor: pointer;\n",
              "      display: none;\n",
              "      fill: #1967D2;\n",
              "      height: 32px;\n",
              "      padding: 0 0 0 0;\n",
              "      width: 32px;\n",
              "    }\n",
              "\n",
              "    .colab-df-convert:hover {\n",
              "      background-color: #E2EBFA;\n",
              "      box-shadow: 0px 1px 2px rgba(60, 64, 67, 0.3), 0px 1px 3px 1px rgba(60, 64, 67, 0.15);\n",
              "      fill: #174EA6;\n",
              "    }\n",
              "\n",
              "    [theme=dark] .colab-df-convert {\n",
              "      background-color: #3B4455;\n",
              "      fill: #D2E3FC;\n",
              "    }\n",
              "\n",
              "    [theme=dark] .colab-df-convert:hover {\n",
              "      background-color: #434B5C;\n",
              "      box-shadow: 0px 1px 3px 1px rgba(0, 0, 0, 0.15);\n",
              "      filter: drop-shadow(0px 1px 2px rgba(0, 0, 0, 0.3));\n",
              "      fill: #FFFFFF;\n",
              "    }\n",
              "  </style>\n",
              "\n",
              "      <script>\n",
              "        const buttonEl =\n",
              "          document.querySelector('#df-8f8c4d50-3095-4751-aa94-e05336533593 button.colab-df-convert');\n",
              "        buttonEl.style.display =\n",
              "          google.colab.kernel.accessAllowed ? 'block' : 'none';\n",
              "\n",
              "        async function convertToInteractive(key) {\n",
              "          const element = document.querySelector('#df-8f8c4d50-3095-4751-aa94-e05336533593');\n",
              "          const dataTable =\n",
              "            await google.colab.kernel.invokeFunction('convertToInteractive',\n",
              "                                                     [key], {});\n",
              "          if (!dataTable) return;\n",
              "\n",
              "          const docLinkHtml = 'Like what you see? Visit the ' +\n",
              "            '<a target=\"_blank\" href=https://colab.research.google.com/notebooks/data_table.ipynb>data table notebook</a>'\n",
              "            + ' to learn more about interactive tables.';\n",
              "          element.innerHTML = '';\n",
              "          dataTable['output_type'] = 'display_data';\n",
              "          await google.colab.output.renderOutput(dataTable, element);\n",
              "          const docLink = document.createElement('div');\n",
              "          docLink.innerHTML = docLinkHtml;\n",
              "          element.appendChild(docLink);\n",
              "        }\n",
              "      </script>\n",
              "    </div>\n",
              "  </div>\n",
              "  "
            ]
          },
          "metadata": {},
          "execution_count": 5
        }
      ]
    },
    {
      "cell_type": "markdown",
      "source": [
        "When taking into consideration the BLEU metric bigbird outperforms BART on both traditional and BERT-based. Again generation using greedy search or beam search doesn't seem to improve much the metrics. Moreover BigBird on all dataset performs better than the other BigBird models, even though the loss of performance compared to the balanced one isn't as big as when compared to the less samples dataset.\n",
        "The main difference can be seen on the BLEURT score, which take into account the contextual embedding of a token instead of the ngram and, in fact, the all dataset proves to be the most reliable and effective model we trained.\n",
        "\n",
        "On the other hand if we take a look at ROUGE metrics then we can see that both again BigBird performs better than BART but the difference between the balanced and all dataset is closer. In fact the one trained on the balanced dataset ends up performing even better than the one trained on all the dataset.\n",
        "The same arguments as above holds even if we take into account the F1-score.\n",
        "\n",
        "Overall the best model seems to be BigBird trained on all data. ROUGE metric seems to indicate that the model is indeed effective at generating text whose content is the same as the target task, but it does so with a lower precision, probably because it ends up being more verbose rather than the human generated counterpart."
      ],
      "metadata": {
        "id": "8cRD6zFTCr0s"
      },
      "id": "8cRD6zFTCr0s"
    },
    {
      "cell_type": "markdown",
      "source": [
        "## SARI Analysis\n",
        "\n",
        "SARI is a metric defined to quantiy the performance of a system in a simplification task. The goodness of removed, added or modified terms is evaluated.\n",
        "\n",
        "With the following metric we assess how good the model is at extracting relevant information from the summary and manipulating them in a meaningful way.\n",
        "\n",
        "An higher SARI measure might help to interpret the low BLEU score of a model: if the model has high SARI and ROUGE score but a low BLEU score then chances are the model is actually extracting relevant information from the summary but the generated claim is of a different style with respect to the one written by the expert and as such uses different terms to link important concept."
      ],
      "metadata": {
        "id": "GPm9wDL6KDwN"
      },
      "id": "GPm9wDL6KDwN"
    },
    {
      "cell_type": "code",
      "source": [
        "mean_metrics[[\"greedy_gen_sari\", \"beam1_gen_sari\"]]"
      ],
      "metadata": {
        "id": "mTEqL2M-I34o",
        "outputId": "0edbb2d5-32ae-42cc-f231-0294760df373",
        "colab": {
          "base_uri": "https://localhost:8080/",
          "height": 206
        }
      },
      "id": "mTEqL2M-I34o",
      "execution_count": 6,
      "outputs": [
        {
          "output_type": "execute_result",
          "data": {
            "text/plain": [
              "                      greedy_gen_sari  beam1_gen_sari\n",
              "model                                                \n",
              "bart                        48.238751       49.512342\n",
              "bigbird                     57.869623       57.981764\n",
              "bigbird balanced            57.366568       57.238878\n",
              "bigbird less samples        54.028545       54.265686"
            ],
            "text/html": [
              "\n",
              "  <div id=\"df-ba620222-c942-485f-bf27-56e5ec42d2ad\">\n",
              "    <div class=\"colab-df-container\">\n",
              "      <div>\n",
              "<style scoped>\n",
              "    .dataframe tbody tr th:only-of-type {\n",
              "        vertical-align: middle;\n",
              "    }\n",
              "\n",
              "    .dataframe tbody tr th {\n",
              "        vertical-align: top;\n",
              "    }\n",
              "\n",
              "    .dataframe thead th {\n",
              "        text-align: right;\n",
              "    }\n",
              "</style>\n",
              "<table border=\"1\" class=\"dataframe\">\n",
              "  <thead>\n",
              "    <tr style=\"text-align: right;\">\n",
              "      <th></th>\n",
              "      <th>greedy_gen_sari</th>\n",
              "      <th>beam1_gen_sari</th>\n",
              "    </tr>\n",
              "    <tr>\n",
              "      <th>model</th>\n",
              "      <th></th>\n",
              "      <th></th>\n",
              "    </tr>\n",
              "  </thead>\n",
              "  <tbody>\n",
              "    <tr>\n",
              "      <th>bart</th>\n",
              "      <td>48.238751</td>\n",
              "      <td>49.512342</td>\n",
              "    </tr>\n",
              "    <tr>\n",
              "      <th>bigbird</th>\n",
              "      <td>57.869623</td>\n",
              "      <td>57.981764</td>\n",
              "    </tr>\n",
              "    <tr>\n",
              "      <th>bigbird balanced</th>\n",
              "      <td>57.366568</td>\n",
              "      <td>57.238878</td>\n",
              "    </tr>\n",
              "    <tr>\n",
              "      <th>bigbird less samples</th>\n",
              "      <td>54.028545</td>\n",
              "      <td>54.265686</td>\n",
              "    </tr>\n",
              "  </tbody>\n",
              "</table>\n",
              "</div>\n",
              "      <button class=\"colab-df-convert\" onclick=\"convertToInteractive('df-ba620222-c942-485f-bf27-56e5ec42d2ad')\"\n",
              "              title=\"Convert this dataframe to an interactive table.\"\n",
              "              style=\"display:none;\">\n",
              "        \n",
              "  <svg xmlns=\"http://www.w3.org/2000/svg\" height=\"24px\"viewBox=\"0 0 24 24\"\n",
              "       width=\"24px\">\n",
              "    <path d=\"M0 0h24v24H0V0z\" fill=\"none\"/>\n",
              "    <path d=\"M18.56 5.44l.94 2.06.94-2.06 2.06-.94-2.06-.94-.94-2.06-.94 2.06-2.06.94zm-11 1L8.5 8.5l.94-2.06 2.06-.94-2.06-.94L8.5 2.5l-.94 2.06-2.06.94zm10 10l.94 2.06.94-2.06 2.06-.94-2.06-.94-.94-2.06-.94 2.06-2.06.94z\"/><path d=\"M17.41 7.96l-1.37-1.37c-.4-.4-.92-.59-1.43-.59-.52 0-1.04.2-1.43.59L10.3 9.45l-7.72 7.72c-.78.78-.78 2.05 0 2.83L4 21.41c.39.39.9.59 1.41.59.51 0 1.02-.2 1.41-.59l7.78-7.78 2.81-2.81c.8-.78.8-2.07 0-2.86zM5.41 20L4 18.59l7.72-7.72 1.47 1.35L5.41 20z\"/>\n",
              "  </svg>\n",
              "      </button>\n",
              "      \n",
              "  <style>\n",
              "    .colab-df-container {\n",
              "      display:flex;\n",
              "      flex-wrap:wrap;\n",
              "      gap: 12px;\n",
              "    }\n",
              "\n",
              "    .colab-df-convert {\n",
              "      background-color: #E8F0FE;\n",
              "      border: none;\n",
              "      border-radius: 50%;\n",
              "      cursor: pointer;\n",
              "      display: none;\n",
              "      fill: #1967D2;\n",
              "      height: 32px;\n",
              "      padding: 0 0 0 0;\n",
              "      width: 32px;\n",
              "    }\n",
              "\n",
              "    .colab-df-convert:hover {\n",
              "      background-color: #E2EBFA;\n",
              "      box-shadow: 0px 1px 2px rgba(60, 64, 67, 0.3), 0px 1px 3px 1px rgba(60, 64, 67, 0.15);\n",
              "      fill: #174EA6;\n",
              "    }\n",
              "\n",
              "    [theme=dark] .colab-df-convert {\n",
              "      background-color: #3B4455;\n",
              "      fill: #D2E3FC;\n",
              "    }\n",
              "\n",
              "    [theme=dark] .colab-df-convert:hover {\n",
              "      background-color: #434B5C;\n",
              "      box-shadow: 0px 1px 3px 1px rgba(0, 0, 0, 0.15);\n",
              "      filter: drop-shadow(0px 1px 2px rgba(0, 0, 0, 0.3));\n",
              "      fill: #FFFFFF;\n",
              "    }\n",
              "  </style>\n",
              "\n",
              "      <script>\n",
              "        const buttonEl =\n",
              "          document.querySelector('#df-ba620222-c942-485f-bf27-56e5ec42d2ad button.colab-df-convert');\n",
              "        buttonEl.style.display =\n",
              "          google.colab.kernel.accessAllowed ? 'block' : 'none';\n",
              "\n",
              "        async function convertToInteractive(key) {\n",
              "          const element = document.querySelector('#df-ba620222-c942-485f-bf27-56e5ec42d2ad');\n",
              "          const dataTable =\n",
              "            await google.colab.kernel.invokeFunction('convertToInteractive',\n",
              "                                                     [key], {});\n",
              "          if (!dataTable) return;\n",
              "\n",
              "          const docLinkHtml = 'Like what you see? Visit the ' +\n",
              "            '<a target=\"_blank\" href=https://colab.research.google.com/notebooks/data_table.ipynb>data table notebook</a>'\n",
              "            + ' to learn more about interactive tables.';\n",
              "          element.innerHTML = '';\n",
              "          dataTable['output_type'] = 'display_data';\n",
              "          await google.colab.output.renderOutput(dataTable, element);\n",
              "          const docLink = document.createElement('div');\n",
              "          docLink.innerHTML = docLinkHtml;\n",
              "          element.appendChild(docLink);\n",
              "        }\n",
              "      </script>\n",
              "    </div>\n",
              "  </div>\n",
              "  "
            ]
          },
          "metadata": {},
          "execution_count": 6
        }
      ]
    },
    {
      "cell_type": "markdown",
      "source": [
        "SARI metric brings BART closer to BigBird performances. Again we can see that training BigBird on a bigger dataset yields the most important results.\n",
        "\n",
        "SOTA text simplification methods obtains a SARI score of $\\approx 42$ so we can safely say that all of our models are indeed good models at retrieving information from the summary and changing them to obtain a reasonable FIC."
      ],
      "metadata": {
        "id": "PkH2mK2KLn2n"
      },
      "id": "PkH2mK2KLn2n"
    },
    {
      "cell_type": "markdown",
      "source": [
        "## Visually inspecting results\n",
        "\n",
        "Let's check manually badly generated claims to better insights from them.\n",
        "\n",
        "First, let's see those who have a low BLEU score."
      ],
      "metadata": {
        "id": "xavrT6RZqOo-"
      },
      "id": "xavrT6RZqOo-"
    },
    {
      "cell_type": "code",
      "source": [
        "from IPython.display import display, HTML\n",
        "\n",
        "for model, metric in metrics.items():\n",
        "  display(HTML(f\"<h1>{model}</h1>\"))\n",
        "  display(HTML(f\"<h2>Greedy search gen</h1>\"))\n",
        "  badly_generated = metric.sort_values([\"greedy_gen_sacrebleu\"]).iloc[:5]\n",
        "  for idx, bg in badly_generated.iterrows():\n",
        "    display(HTML(f\"<h3>Original claim</h3>\"))\n",
        "    display(HTML(f\"<p>{ bg.claim }</p>\"))\n",
        "    display(HTML(f\"<h3>Greedy search claim (sacreBLEU = {bg.greedy_gen_sacrebleu})</h3>\"))\n",
        "    display(HTML(f\"<p>{ bg.greedy_gen }</p>\"))\n",
        "    display(HTML(f\"<hr/>\"))\n",
        "\n",
        "  display(HTML(f\"<h2>Beam search gen</h1>\"))\n",
        "  badly_generated = metric.sort_values([\"beam1_gen_sacrebleu\"]).iloc[:5]\n",
        "  for idx, bg in badly_generated.iterrows():\n",
        "    display(HTML(f\"<h3>Original claim</h3>\"))\n",
        "    display(HTML(f\"<p>{ bg.claim }</p>\"))\n",
        "    display(HTML(f\"<h3>Beam search claim (sacreBLEU = {bg.beam1_gen_sacrebleu})</h3>\"))\n",
        "    display(HTML(f\"<p>{ bg.beam1_gen }</p>\"))\n",
        "    display(HTML(f\"<hr/>\"))"
      ],
      "metadata": {
        "colab": {
          "base_uri": "https://localhost:8080/",
          "height": 1000
        },
        "id": "Bm2M-ua-qTWY",
        "outputId": "d1992cd9-9882-48e7-9d73-9c9054c91085"
      },
      "id": "Bm2M-ua-qTWY",
      "execution_count": 152,
      "outputs": [
        {
          "output_type": "display_data",
          "data": {
            "text/plain": [
              "<IPython.core.display.HTML object>"
            ],
            "text/html": [
              "<h1>bart</h1>"
            ]
          },
          "metadata": {}
        },
        {
          "output_type": "display_data",
          "data": {
            "text/plain": [
              "<IPython.core.display.HTML object>"
            ],
            "text/html": [
              "<h2>Greedy search gen</h1>"
            ]
          },
          "metadata": {}
        },
        {
          "output_type": "display_data",
          "data": {
            "text/plain": [
              "<IPython.core.display.HTML object>"
            ],
            "text/html": [
              "<h3>Original claim</h3>"
            ]
          },
          "metadata": {}
        },
        {
          "output_type": "display_data",
          "data": {
            "text/plain": [
              "<IPython.core.display.HTML object>"
            ],
            "text/html": [
              "<p>a semiconductor light emitting element comprising: a first semiconductor layer  of a first conductivity type; a pit formation layer  formed on said first semiconductor layer  and having a pyramidal pit pt caused by a threading dislocation td generated in said first semiconductor layer ; an active layer  formed on said pit formation layer  and made of ingan-based semiconductor materials, said active layer  having a multi-quantum well structure having well layers wn and barrier layers bn that are laminated alternately in which each well layer and each barrier layer lie one upon another, and said active layer  having an embedded portion 14a formed so as to embed said pit pt; an electron blocking layer  formed on said active layer  to cover said embedded portion 14a; and a second semiconductor layer  formed on said electron blocking layer  and having a second conductivity type which is opposite to said first conductivity type, characterized in that said embedded portion 14a has embedded well portions iwn corresponding to said well layers wn respectively and embedded barrier portions ibn corresponding to said barrier layers bn respectively, each of said embedded well portions iwn and said embedded barrier portions ibn is configured such that, with respect to each iw, iw of said embedded well portions iwn and each ib, ib of said embedded barrier portions ibn which are situated adjacent to each other, a second apex angle y1,y2 of an apex pw, pw of said each of said embedded well portions iwn is smaller than a first apex angle x1, x2 of an apex pb , pb  of said each of said embedded barrier portions ibn wherein said each of said embedded well portions iwn is subsequently formed on said each of said embedded barrier portions ibn, said embedded well portions iwn are configured so as to have apex angles which are gradually increased respectively as the embedded well portions iwn approach said second semiconductor layer , said embedded barrier portions ibn are configured so as to have apex angles which are gradually increased respectively as the embedded barrier portions ibn approach said second semiconductor layer , so that said embedded portion 14a has a recess portion rc placed on an upper interface with said electron blocking layer  above said pyramidal pit pt, said recess portion rc has an apex 14p placed at a position existing in a layered direction of said active layer  within said active layer , the depth d of the apex 14p of said recess rc with regard to the interface between the active layer  and the electron blocking layer  outside the embedded portion 14a exceeding the well layer wn the nearest to said electron blocking layer  outside the embedded portion 14a.</p>"
            ]
          },
          "metadata": {}
        },
        {
          "output_type": "display_data",
          "data": {
            "text/plain": [
              "<IPython.core.display.HTML object>"
            ],
            "text/html": [
              "<h3>Greedy search claim (sacreBLEU = 0.0004970931883878)</h3>"
            ]
          },
          "metadata": {}
        },
        {
          "output_type": "display_data",
          "data": {
            "text/plain": [
              "<IPython.core.display.HTML object>"
            ],
            "text/html": [
              "<p>a semiconductor light emitting element  of a high luminous efficiency which has an electron blocking layer  reliably exerting the electron blocking function in case of having pits, when driven by a large current or driven at high temperature.</p>"
            ]
          },
          "metadata": {}
        },
        {
          "output_type": "display_data",
          "data": {
            "text/plain": [
              "<IPython.core.display.HTML object>"
            ],
            "text/html": [
              "<hr/>"
            ]
          },
          "metadata": {}
        },
        {
          "output_type": "display_data",
          "data": {
            "text/plain": [
              "<IPython.core.display.HTML object>"
            ],
            "text/html": [
              "<h3>Original claim</h3>"
            ]
          },
          "metadata": {}
        },
        {
          "output_type": "display_data",
          "data": {
            "text/plain": [
              "<IPython.core.display.HTML object>"
            ],
            "text/html": [
              "<p>a control system for controlling radiation direction of an antenna beam of an antenna unit , wherein the radiation direction is adjustable in accordance with an actuating signal, the control system comprising: a filtering means 403, 502 connected to a feeder cable 401, 501 configured to carry rf signals and a modulated control signal, wherein said filtering means 403, 502 is arranged to filter out said modulated control signal; an external control unit , attachable to said antenna unit , wherein said external control unit includes a detecting means 406, 602 and a control means , said detecting means 406, 602 is arranged to detect and demodulate said filtered out modulated control signal, and said control means  is arranged to produce the actuating signal in accordance with the detected and demodulated control signal, wherein said filtering means 403, 502 is directly connected to said detecting means 406, 602 located within said external control unit  so as to provide the filtered out modulated control signal directly to said detecting means 406, 602, and wherein said detecting means 406, 602 is arranged to provide said detected and demodulated control signal to said control means  in a format readable by said control means .</p>"
            ]
          },
          "metadata": {}
        },
        {
          "output_type": "display_data",
          "data": {
            "text/plain": [
              "<IPython.core.display.HTML object>"
            ],
            "text/html": [
              "<h3>Greedy search claim (sacreBLEU = 0.0091670710727923)</h3>"
            ]
          },
          "metadata": {}
        },
        {
          "output_type": "display_data",
          "data": {
            "text/plain": [
              "<IPython.core.display.HTML object>"
            ],
            "text/html": [
              "<p>a method for controlling the radiation direction of an antenna beam  that solves, or at least relieves, the above stated problem.</p>"
            ]
          },
          "metadata": {}
        },
        {
          "output_type": "display_data",
          "data": {
            "text/plain": [
              "<IPython.core.display.HTML object>"
            ],
            "text/html": [
              "<hr/>"
            ]
          },
          "metadata": {}
        },
        {
          "output_type": "display_data",
          "data": {
            "text/plain": [
              "<IPython.core.display.HTML object>"
            ],
            "text/html": [
              "<h3>Original claim</h3>"
            ]
          },
          "metadata": {}
        },
        {
          "output_type": "display_data",
          "data": {
            "text/plain": [
              "<IPython.core.display.HTML object>"
            ],
            "text/html": [
              "<p>a semiconductor light emitting element comprising: a first semiconductor layer  of a first conductivity type; a pit formation layer  formed on said first semiconductor layer  and having a pyramidal pit pt caused by a threading dislocation td generated in said first semiconductor layer  ; an active layer  formed on said pit formation layer  and made of ingan-based semiconductor materials, said active layer  having a multi-quantum well structure having well layers wn and barrier layers bn that are laminated alternately in which each well layer and each barrier layer lie one upon another, and said active layer  having a flat portion 14a and an embedded portion 14b which is formed so as to embed said pit; and a second semiconductor layer  formed on said active layer  and having a second conductivity type which is opposite to the first conductivity type, characterized in that said flat portion 14a has flat well portions fwn corresponding to said well layers wn, said embedded portion 14b has embedded well portions iwn corresponding to said well layers wn, each of said embedded well portions iwn has ring portions rwn each of which is formed in an interface with each of said flat well portions fwn so as to surround said threading dislocation td, each of said ring portions rwn has a band gap smaller than that of each of said flat well portions fwn, each of said ring portions rwn has a thickness d1 larger than a thickness d2 of each of said flat well portions fwn corresponding to each of said ring portions rwn, said embedded portion 14b has embedded barrier portions ibn corresponding to said barrier layers bn, said embedded well portions iwn and said embedded barrier portions ibn are configured such that a facet upper end p12 of one of said embedded well portions iwn is formed at a position closer to a center cp of said pit pt than a facet upper end p11 of an adjacent one of said embedded barrier portions ibn, wherein the one embedded well portion iwn is subsequently formed on the adjacent embedded barrier portion ibn.</p>"
            ]
          },
          "metadata": {}
        },
        {
          "output_type": "display_data",
          "data": {
            "text/plain": [
              "<IPython.core.display.HTML object>"
            ],
            "text/html": [
              "<h3>Greedy search claim (sacreBLEU = 0.039508911474653)</h3>"
            ]
          },
          "metadata": {}
        },
        {
          "output_type": "display_data",
          "data": {
            "text/plain": [
              "<IPython.core.display.HTML object>"
            ],
            "text/html": [
              "<p>a semiconductor light emitting element  fabricated such that a nitride semiconductor layer  is grown on a substrate  made of a material different from the nitride, semiconductor such as a sapphire substrate, crystal defects  misfit dislocations occur at an interface between the substrate  and the semiconductor  due to their lattice mismatch.</p>"
            ]
          },
          "metadata": {}
        },
        {
          "output_type": "display_data",
          "data": {
            "text/plain": [
              "<IPython.core.display.HTML object>"
            ],
            "text/html": [
              "<hr/>"
            ]
          },
          "metadata": {}
        },
        {
          "output_type": "display_data",
          "data": {
            "text/plain": [
              "<IPython.core.display.HTML object>"
            ],
            "text/html": [
              "<h3>Original claim</h3>"
            ]
          },
          "metadata": {}
        },
        {
          "output_type": "display_data",
          "data": {
            "text/plain": [
              "<IPython.core.display.HTML object>"
            ],
            "text/html": [
              "<p>a method for producing a squirrel-cage rotor  of an electric induction machine  comprising the steps of  making two circumferentially separated cuts 30, 31 in each of a plurality of steel sheets  from each of a plurality of openings  uniformly distributed around said sheet and separated from a periphery  of said sheet by a sheet portion , said cuts being made substantially radially into said sheet portion towards said periphery of the sheet while ending at a predetermined distance to said periphery,  stacking said sheets  onto each other while aligning said openings  so as to form rotor slots extending substantially axially,  die casting a rotor body while filling each said rotor slot with material forming a rotor conductor , and  machining said rotor body by peripherally removing material of said stack of sheets to a depth of at least said predetermined distance so as to, for each rotor conductor  and therealong, form a slot  extending substantially radially from the periphery  of the rotor body to said rotor conductor .</p>"
            ]
          },
          "metadata": {}
        },
        {
          "output_type": "display_data",
          "data": {
            "text/plain": [
              "<IPython.core.display.HTML object>"
            ],
            "text/html": [
              "<h3>Greedy search claim (sacreBLEU = 0.2106274888580417)</h3>"
            ]
          },
          "metadata": {}
        },
        {
          "output_type": "display_data",
          "data": {
            "text/plain": [
              "<IPython.core.display.HTML object>"
            ],
            "text/html": [
              "<p>a method for producing a squirrel-cage rotor of an electric induction machine being improved in at least some aspect with respect to such methods already known.</p>"
            ]
          },
          "metadata": {}
        },
        {
          "output_type": "display_data",
          "data": {
            "text/plain": [
              "<IPython.core.display.HTML object>"
            ],
            "text/html": [
              "<hr/>"
            ]
          },
          "metadata": {}
        },
        {
          "output_type": "display_data",
          "data": {
            "text/plain": [
              "<IPython.core.display.HTML object>"
            ],
            "text/html": [
              "<h3>Original claim</h3>"
            ]
          },
          "metadata": {}
        },
        {
          "output_type": "display_data",
          "data": {
            "text/plain": [
              "<IPython.core.display.HTML object>"
            ],
            "text/html": [
              "<p>a method for increasing variable optical channel bandwidth, comprising: adding, by a first network node, a timeslot increase indication to an ho odu frame and sending  the ho odu frame to which the timeslot increase indication is added to a second network node, wherein the timeslot increase indication is used to instruct a timeslot, occupied by an oduflex bit stream, of the ho odu frame, starting from a next ho odu frame of the ho odu frame, to increase from x timeslots to y timeslots, x is greater than zero and less than y, and the second network node is a downstream network node of the first network node in a link through which a service stream flows; starting  from the next ho odu frame of the ho odu frame to which the timeslot increase indication is added, mapping, by the first network node, a bit stream at a third rate formed by an oduflex bit stream at a first rate and an idle data bit stream at a second rate to the y timeslots of the ho odu frame and sending the ho odu frame to the second network node, wherein a rate corresponding to the y timeslots of the ho odu frame is greater than or equal to the third rate, both the first rate and the second rate are less than the third rate, and the second rate is a difference value between the third rate and the first rate; after each network node in the link receives the ho odu frame to which the timeslot increase indication is added, mapping , by the first network node, an oduflex frame to which a rate increase indication is added to the ho odu frame and sending the ho odu frame to the second network node, wherein the oduflex frame to which the rate increase indication is added is an oduflex frame bearing the oduflex bit stream, and the rate increase indication is used to instruct a rate of the oduflex bit stream, starting from a next oduflex frame of the oduflex frame to which the rate increase indication is added, to increase from the first rate to the third rate; and starting  from the next oduflex frame of the oduflex frame to which the rate increase indication is added, mapping, by the first network node, the oduflex bit stream at the third rate to the y timeslots of the ho odu frame and sending the ho odu frame to the second network node.</p>"
            ]
          },
          "metadata": {}
        },
        {
          "output_type": "display_data",
          "data": {
            "text/plain": [
              "<IPython.core.display.HTML object>"
            ],
            "text/html": [
              "<h3>Greedy search claim (sacreBLEU = 0.4269690903937551)</h3>"
            ]
          },
          "metadata": {}
        },
        {
          "output_type": "display_data",
          "data": {
            "text/plain": [
              "<IPython.core.display.HTML object>"
            ],
            "text/html": [
              "<p>a first ne sends, in a current ho odu frame, a timeslot increase indication of an oduflex bit stream  to a downstream ne, that is, a second ne, and starting from a next ho odd frame, sending, in an increased timeslot in the ho od frame, a bit stream at a high rate formed by an odflex bitstream  at an original rate and an idle data bit stream to the second ne.</p>"
            ]
          },
          "metadata": {}
        },
        {
          "output_type": "display_data",
          "data": {
            "text/plain": [
              "<IPython.core.display.HTML object>"
            ],
            "text/html": [
              "<hr/>"
            ]
          },
          "metadata": {}
        },
        {
          "output_type": "display_data",
          "data": {
            "text/plain": [
              "<IPython.core.display.HTML object>"
            ],
            "text/html": [
              "<h2>Beam search gen</h1>"
            ]
          },
          "metadata": {}
        },
        {
          "output_type": "display_data",
          "data": {
            "text/plain": [
              "<IPython.core.display.HTML object>"
            ],
            "text/html": [
              "<h3>Original claim</h3>"
            ]
          },
          "metadata": {}
        },
        {
          "output_type": "display_data",
          "data": {
            "text/plain": [
              "<IPython.core.display.HTML object>"
            ],
            "text/html": [
              "<p>a control system for controlling radiation direction of an antenna beam of an antenna unit , wherein the radiation direction is adjustable in accordance with an actuating signal, the control system comprising: a filtering means 403, 502 connected to a feeder cable 401, 501 configured to carry rf signals and a modulated control signal, wherein said filtering means 403, 502 is arranged to filter out said modulated control signal; an external control unit , attachable to said antenna unit , wherein said external control unit includes a detecting means 406, 602 and a control means , said detecting means 406, 602 is arranged to detect and demodulate said filtered out modulated control signal, and said control means  is arranged to produce the actuating signal in accordance with the detected and demodulated control signal, wherein said filtering means 403, 502 is directly connected to said detecting means 406, 602 located within said external control unit  so as to provide the filtered out modulated control signal directly to said detecting means 406, 602, and wherein said detecting means 406, 602 is arranged to provide said detected and demodulated control signal to said control means  in a format readable by said control means .</p>"
            ]
          },
          "metadata": {}
        },
        {
          "output_type": "display_data",
          "data": {
            "text/plain": [
              "<IPython.core.display.HTML object>"
            ],
            "text/html": [
              "<h3>Beam search claim (sacreBLEU = 0.0091670710727923)</h3>"
            ]
          },
          "metadata": {}
        },
        {
          "output_type": "display_data",
          "data": {
            "text/plain": [
              "<IPython.core.display.HTML object>"
            ],
            "text/html": [
              "<p>a method for controlling the radiation direction of an antenna beam  that solves, or at least relieves, the above stated problem.</p>"
            ]
          },
          "metadata": {}
        },
        {
          "output_type": "display_data",
          "data": {
            "text/plain": [
              "<IPython.core.display.HTML object>"
            ],
            "text/html": [
              "<hr/>"
            ]
          },
          "metadata": {}
        },
        {
          "output_type": "display_data",
          "data": {
            "text/plain": [
              "<IPython.core.display.HTML object>"
            ],
            "text/html": [
              "<h3>Original claim</h3>"
            ]
          },
          "metadata": {}
        },
        {
          "output_type": "display_data",
          "data": {
            "text/plain": [
              "<IPython.core.display.HTML object>"
            ],
            "text/html": [
              "<p>a semiconductor light emitting element comprising: a first semiconductor layer  of a first conductivity type; a pit formation layer  formed on said first semiconductor layer  and having a pyramidal pit pt caused by a threading dislocation td generated in said first semiconductor layer  ; an active layer  formed on said pit formation layer  and made of ingan-based semiconductor materials, said active layer  having a multi-quantum well structure having well layers wn and barrier layers bn that are laminated alternately in which each well layer and each barrier layer lie one upon another, and said active layer  having a flat portion 14a and an embedded portion 14b which is formed so as to embed said pit; and a second semiconductor layer  formed on said active layer  and having a second conductivity type which is opposite to the first conductivity type, characterized in that said flat portion 14a has flat well portions fwn corresponding to said well layers wn, said embedded portion 14b has embedded well portions iwn corresponding to said well layers wn, each of said embedded well portions iwn has ring portions rwn each of which is formed in an interface with each of said flat well portions fwn so as to surround said threading dislocation td, each of said ring portions rwn has a band gap smaller than that of each of said flat well portions fwn, each of said ring portions rwn has a thickness d1 larger than a thickness d2 of each of said flat well portions fwn corresponding to each of said ring portions rwn, said embedded portion 14b has embedded barrier portions ibn corresponding to said barrier layers bn, said embedded well portions iwn and said embedded barrier portions ibn are configured such that a facet upper end p12 of one of said embedded well portions iwn is formed at a position closer to a center cp of said pit pt than a facet upper end p11 of an adjacent one of said embedded barrier portions ibn, wherein the one embedded well portion iwn is subsequently formed on the adjacent embedded barrier portion ibn.</p>"
            ]
          },
          "metadata": {}
        },
        {
          "output_type": "display_data",
          "data": {
            "text/plain": [
              "<IPython.core.display.HTML object>"
            ],
            "text/html": [
              "<h3>Beam search claim (sacreBLEU = 0.039508911474653)</h3>"
            ]
          },
          "metadata": {}
        },
        {
          "output_type": "display_data",
          "data": {
            "text/plain": [
              "<IPython.core.display.HTML object>"
            ],
            "text/html": [
              "<p>a semiconductor light emitting element  fabricated such that a nitride semiconductor layer  is grown on a substrate  made of a material different from the nitride, semiconductor such as a sapphire substrate, crystal defects  misfit dislocations occur at an interface between the substrate  and the semiconductor  due to their lattice mismatch.</p>"
            ]
          },
          "metadata": {}
        },
        {
          "output_type": "display_data",
          "data": {
            "text/plain": [
              "<IPython.core.display.HTML object>"
            ],
            "text/html": [
              "<hr/>"
            ]
          },
          "metadata": {}
        },
        {
          "output_type": "display_data",
          "data": {
            "text/plain": [
              "<IPython.core.display.HTML object>"
            ],
            "text/html": [
              "<h3>Original claim</h3>"
            ]
          },
          "metadata": {}
        },
        {
          "output_type": "display_data",
          "data": {
            "text/plain": [
              "<IPython.core.display.HTML object>"
            ],
            "text/html": [
              "<p>a semiconductor light emitting element comprising: a first semiconductor layer  of a first conductivity type; a pit formation layer  formed on said first semiconductor layer  and having a pyramidal pit pt caused by a threading dislocation td generated in said first semiconductor layer ; an active layer  formed on said pit formation layer  and made of ingan-based semiconductor materials, said active layer  having a multi-quantum well structure having well layers wn and barrier layers bn that are laminated alternately in which each well layer and each barrier layer lie one upon another, and said active layer  having an embedded portion 14a formed so as to embed said pit pt; an electron blocking layer  formed on said active layer  to cover said embedded portion 14a; and a second semiconductor layer  formed on said electron blocking layer  and having a second conductivity type which is opposite to said first conductivity type, characterized in that said embedded portion 14a has embedded well portions iwn corresponding to said well layers wn respectively and embedded barrier portions ibn corresponding to said barrier layers bn respectively, each of said embedded well portions iwn and said embedded barrier portions ibn is configured such that, with respect to each iw, iw of said embedded well portions iwn and each ib, ib of said embedded barrier portions ibn which are situated adjacent to each other, a second apex angle y1,y2 of an apex pw, pw of said each of said embedded well portions iwn is smaller than a first apex angle x1, x2 of an apex pb , pb  of said each of said embedded barrier portions ibn wherein said each of said embedded well portions iwn is subsequently formed on said each of said embedded barrier portions ibn, said embedded well portions iwn are configured so as to have apex angles which are gradually increased respectively as the embedded well portions iwn approach said second semiconductor layer , said embedded barrier portions ibn are configured so as to have apex angles which are gradually increased respectively as the embedded barrier portions ibn approach said second semiconductor layer , so that said embedded portion 14a has a recess portion rc placed on an upper interface with said electron blocking layer  above said pyramidal pit pt, said recess portion rc has an apex 14p placed at a position existing in a layered direction of said active layer  within said active layer , the depth d of the apex 14p of said recess rc with regard to the interface between the active layer  and the electron blocking layer  outside the embedded portion 14a exceeding the well layer wn the nearest to said electron blocking layer  outside the embedded portion 14a.</p>"
            ]
          },
          "metadata": {}
        },
        {
          "output_type": "display_data",
          "data": {
            "text/plain": [
              "<IPython.core.display.HTML object>"
            ],
            "text/html": [
              "<h3>Beam search claim (sacreBLEU = 0.0672687905238044)</h3>"
            ]
          },
          "metadata": {}
        },
        {
          "output_type": "display_data",
          "data": {
            "text/plain": [
              "<IPython.core.display.HTML object>"
            ],
            "text/html": [
              "<p>a semiconductor light emitting element  comprising:a substrate  made of a material different from the nitride semiconductor such as a sapphire substrate, crystal defects  misfit dislocations occur at an interface between the substrate  and the semiconductor layer  due to their lattice mismatch; anda fiber layer  formed so as to penetrate the fiber layer in the layered direction of said semiconductor material during crystal growth.</p>"
            ]
          },
          "metadata": {}
        },
        {
          "output_type": "display_data",
          "data": {
            "text/plain": [
              "<IPython.core.display.HTML object>"
            ],
            "text/html": [
              "<hr/>"
            ]
          },
          "metadata": {}
        },
        {
          "output_type": "display_data",
          "data": {
            "text/plain": [
              "<IPython.core.display.HTML object>"
            ],
            "text/html": [
              "<h3>Original claim</h3>"
            ]
          },
          "metadata": {}
        },
        {
          "output_type": "display_data",
          "data": {
            "text/plain": [
              "<IPython.core.display.HTML object>"
            ],
            "text/html": [
              "<p>a method for producing a squirrel-cage rotor  of an electric induction machine  comprising the steps of  making two circumferentially separated cuts 30, 31 in each of a plurality of steel sheets  from each of a plurality of openings  uniformly distributed around said sheet and separated from a periphery  of said sheet by a sheet portion , said cuts being made substantially radially into said sheet portion towards said periphery of the sheet while ending at a predetermined distance to said periphery,  stacking said sheets  onto each other while aligning said openings  so as to form rotor slots extending substantially axially,  die casting a rotor body while filling each said rotor slot with material forming a rotor conductor , and  machining said rotor body by peripherally removing material of said stack of sheets to a depth of at least said predetermined distance so as to, for each rotor conductor  and therealong, form a slot  extending substantially radially from the periphery  of the rotor body to said rotor conductor .</p>"
            ]
          },
          "metadata": {}
        },
        {
          "output_type": "display_data",
          "data": {
            "text/plain": [
              "<IPython.core.display.HTML object>"
            ],
            "text/html": [
              "<h3>Beam search claim (sacreBLEU = 0.2106274888580417)</h3>"
            ]
          },
          "metadata": {}
        },
        {
          "output_type": "display_data",
          "data": {
            "text/plain": [
              "<IPython.core.display.HTML object>"
            ],
            "text/html": [
              "<p>a method for producing a squirrel-cage rotor of an electric induction machine being improved in at least some aspect with respect to such methods already known.</p>"
            ]
          },
          "metadata": {}
        },
        {
          "output_type": "display_data",
          "data": {
            "text/plain": [
              "<IPython.core.display.HTML object>"
            ],
            "text/html": [
              "<hr/>"
            ]
          },
          "metadata": {}
        },
        {
          "output_type": "display_data",
          "data": {
            "text/plain": [
              "<IPython.core.display.HTML object>"
            ],
            "text/html": [
              "<h3>Original claim</h3>"
            ]
          },
          "metadata": {}
        },
        {
          "output_type": "display_data",
          "data": {
            "text/plain": [
              "<IPython.core.display.HTML object>"
            ],
            "text/html": [
              "<p>a method for increasing variable optical channel bandwidth, comprising: adding, by a first network node, a timeslot increase indication to an ho odu frame and sending  the ho odu frame to which the timeslot increase indication is added to a second network node, wherein the timeslot increase indication is used to instruct a timeslot, occupied by an oduflex bit stream, of the ho odu frame, starting from a next ho odu frame of the ho odu frame, to increase from x timeslots to y timeslots, x is greater than zero and less than y, and the second network node is a downstream network node of the first network node in a link through which a service stream flows; starting  from the next ho odu frame of the ho odu frame to which the timeslot increase indication is added, mapping, by the first network node, a bit stream at a third rate formed by an oduflex bit stream at a first rate and an idle data bit stream at a second rate to the y timeslots of the ho odu frame and sending the ho odu frame to the second network node, wherein a rate corresponding to the y timeslots of the ho odu frame is greater than or equal to the third rate, both the first rate and the second rate are less than the third rate, and the second rate is a difference value between the third rate and the first rate; after each network node in the link receives the ho odu frame to which the timeslot increase indication is added, mapping , by the first network node, an oduflex frame to which a rate increase indication is added to the ho odu frame and sending the ho odu frame to the second network node, wherein the oduflex frame to which the rate increase indication is added is an oduflex frame bearing the oduflex bit stream, and the rate increase indication is used to instruct a rate of the oduflex bit stream, starting from a next oduflex frame of the oduflex frame to which the rate increase indication is added, to increase from the first rate to the third rate; and starting  from the next oduflex frame of the oduflex frame to which the rate increase indication is added, mapping, by the first network node, the oduflex bit stream at the third rate to the y timeslots of the ho odu frame and sending the ho odu frame to the second network node.</p>"
            ]
          },
          "metadata": {}
        },
        {
          "output_type": "display_data",
          "data": {
            "text/plain": [
              "<IPython.core.display.HTML object>"
            ],
            "text/html": [
              "<h3>Beam search claim (sacreBLEU = 0.4269690903937551)</h3>"
            ]
          },
          "metadata": {}
        },
        {
          "output_type": "display_data",
          "data": {
            "text/plain": [
              "<IPython.core.display.HTML object>"
            ],
            "text/html": [
              "<p>a first ne sends, in a current ho odu frame, a timeslot increase indication of an oduflex bit stream  to a downstream ne, that is, a second ne, and starting from a next ho odd frame, sending, in an increased timeslot in the ho od frame, a bit stream at a high rate formed by an odflex bitstream  at an original rate and an idle data bit stream to the second ne.</p>"
            ]
          },
          "metadata": {}
        },
        {
          "output_type": "display_data",
          "data": {
            "text/plain": [
              "<IPython.core.display.HTML object>"
            ],
            "text/html": [
              "<hr/>"
            ]
          },
          "metadata": {}
        },
        {
          "output_type": "display_data",
          "data": {
            "text/plain": [
              "<IPython.core.display.HTML object>"
            ],
            "text/html": [
              "<h1>bigbird</h1>"
            ]
          },
          "metadata": {}
        },
        {
          "output_type": "display_data",
          "data": {
            "text/plain": [
              "<IPython.core.display.HTML object>"
            ],
            "text/html": [
              "<h2>Greedy search gen</h1>"
            ]
          },
          "metadata": {}
        },
        {
          "output_type": "display_data",
          "data": {
            "text/plain": [
              "<IPython.core.display.HTML object>"
            ],
            "text/html": [
              "<h3>Original claim</h3>"
            ]
          },
          "metadata": {}
        },
        {
          "output_type": "display_data",
          "data": {
            "text/plain": [
              "<IPython.core.display.HTML object>"
            ],
            "text/html": [
              "<p>a secondary battery comprising: an electrode assembly; and an exterior member which seals the electrode assembly, wherein the exterior member comprises: a pouch which is flexible; and a can which is connected to the pouch and is formed of a material having a greater hardness than that of the pouch; the said pouch comprising a first sealing portion; a pouch body which is connected to the first sealing portion; and a second sealing portion which is arranged to face the first sealing portion and is connected to the pouch body; characterised in that the can is inserted into the pouch body and is connected to the first sealing portion, the second sealing portion, and the pouch body.</p>"
            ]
          },
          "metadata": {}
        },
        {
          "output_type": "display_data",
          "data": {
            "text/plain": [
              "<IPython.core.display.HTML object>"
            ],
            "text/html": [
              "<h3>Greedy search claim (sacreBLEU = 0.8476121867878743)</h3>"
            ]
          },
          "metadata": {}
        },
        {
          "output_type": "display_data",
          "data": {
            "text/plain": [
              "<IPython.core.display.HTML object>"
            ],
            "text/html": [
              "<p>a secondary battery, comprising:a battery housing, the battery housing including a battery compartment ;a battery cell, the battery cell including a battery compartment and a battery cell housing, the battery cell including a battery cell housing and a battery cell housing, the battery cell including a battery cell housing and a battery cell housing, the battery cell including a battery cell housing and a battery cell housing, the battery cell including a battery cell housing and a battery cell housing, the battery cell including a battery cell housing and a battery cell housing, the battery cell including a battery cell housing and a battery cell housing, the battery cell including a battery cell housing and a battery cell housing, the battery cell including a battery cell housing and a battery cell housing, the battery cell including a battery cell housing and a battery cell housing, the battery cell including a battery cell housing and a battery cell housing, the battery cell including a battery cell housing and a battery cell housing, the battery cell including a battery cell housing and a battery cell housing, the battery cell including a battery cell housing and a battery cell housing, the battery cell including a battery cell housing and a battery cell housing, the battery cell including a battery cell housing and a battery cell housing, the battery cell including a battery cell housing and a battery cell housing, the battery cell including a battery cell housing and a battery cell housing, the battery cell including a battery cell housing and a battery cell housing, the battery cell including a battery cell housing and a battery cell housing, the battery cell including a battery cell housing and a battery cell housing, the battery cell including a battery cell housing and a battery cell housing, the battery cell including a battery cell housing and a battery cell housing, the battery cell including a battery cell housing and a battery cell housing, the battery cell including a battery cell housing and a battery cell housing, the battery cell including a battery cell housing and a battery cell housing, the battery cell including a battery cell housing and a battery cell housing, the battery cell including a battery cell housing and a battery cell housing.</p>"
            ]
          },
          "metadata": {}
        },
        {
          "output_type": "display_data",
          "data": {
            "text/plain": [
              "<IPython.core.display.HTML object>"
            ],
            "text/html": [
              "<hr/>"
            ]
          },
          "metadata": {}
        },
        {
          "output_type": "display_data",
          "data": {
            "text/plain": [
              "<IPython.core.display.HTML object>"
            ],
            "text/html": [
              "<h3>Original claim</h3>"
            ]
          },
          "metadata": {}
        },
        {
          "output_type": "display_data",
          "data": {
            "text/plain": [
              "<IPython.core.display.HTML object>"
            ],
            "text/html": [
              "<p>a power supply apparatus  comprising: a power supply means  that wirelessly supplies power to an electronic apparatus ; a communication means  that communicates with the electronic apparatus ; and a control means  configured to determine s508 whether information regarding the electronic apparatus  that is received from the electronic apparatus  is updated by the electronic apparatus , wherein, in a case where the information regarding the electronic apparatus  that is received from the electronic apparatus  is not updated by the electronic apparatus , the control means  controls power to be supplied from the power supply apparatus  to the electronic apparatus  to a first power s513, and, in a case where the information regarding the electronic apparatus  that is received from the electronic apparatus  is updated by the electronic apparatus , the control means  controls the power to be supplied from the power supply apparatus  to the electronic apparatus  to a second power greater than the first power s510.</p>"
            ]
          },
          "metadata": {}
        },
        {
          "output_type": "display_data",
          "data": {
            "text/plain": [
              "<IPython.core.display.HTML object>"
            ],
            "text/html": [
              "<h3>Greedy search claim (sacreBLEU = 1.662905024282112)</h3>"
            ]
          },
          "metadata": {}
        },
        {
          "output_type": "display_data",
          "data": {
            "text/plain": [
              "<IPython.core.display.HTML object>"
            ],
            "text/html": [
              "<p>a power supply apparatus, comprising:a plurality of power supply units, each of the plurality of power supply units being configured to supply power to a respective one of the plurality of power supply units, wherein each of the plurality of power supply units is configured to supply power to a respective one of the plurality of power supply units ; anda control unit configured to control the plurality of power supply units, wherein the control unit is configured to control the plurality of power supply units, wherein each of the plurality of power supply units is configured to supply power to a respective one of the plurality of power supply units, and wherein each of the plurality of power supply units is configured to supply power to a respective one of the plurality of power supply units, and wherein each of the plurality of power supply units is configured to supply power to a respective one of the plurality of power supply units, and wherein each of the plurality of power supply units is configured to supply power to a respective one of the plurality of power supply units, and wherein each of the plurality of power supply units is configured to supply power to a respective one of the plurality of power supply units, and wherein each of the plurality of power supply units is configured to supply power to a respective one of the plurality of power supply units, and wherein each of the plurality of power supply units is configured to supply power to a respective one of the plurality of power supply units, and wherein each of the plurality of power supply units is configured to supply power to a respective one of the plurality of power supply units, and wherein each of the plurality of power supply units is configured to supply power to a respective one of the plurality of power supply units, and wherein each of the plurality of power supply units is configured to supply power to a respective one of the plurality of power supply units, and wherein each of the plurality of power supply units is configured to supply power to a respective one of the plurality of power supply units, and wherein each of the plurality of power supply units is configured to supply power to a respective one of the plurality of power supply units, and wherein each of the plurality of power supply units is configured to supply power to a respective one of the plurality of power supply units, and wherein each of the plurality of power supply units is configured to supply power to a respective one of the plurality of power supply units, and wherein each of the plurality of power</p>"
            ]
          },
          "metadata": {}
        },
        {
          "output_type": "display_data",
          "data": {
            "text/plain": [
              "<IPython.core.display.HTML object>"
            ],
            "text/html": [
              "<hr/>"
            ]
          },
          "metadata": {}
        },
        {
          "output_type": "display_data",
          "data": {
            "text/plain": [
              "<IPython.core.display.HTML object>"
            ],
            "text/html": [
              "<h3>Original claim</h3>"
            ]
          },
          "metadata": {}
        },
        {
          "output_type": "display_data",
          "data": {
            "text/plain": [
              "<IPython.core.display.HTML object>"
            ],
            "text/html": [
              "<p>a semiconductor light emitting element comprising: a first semiconductor layer  of a first conductivity type; a pit formation layer  formed on said first semiconductor layer  and having a pyramidal pit pt caused by a threading dislocation td generated in said first semiconductor layer ; an active layer  formed on said pit formation layer  and made of ingan-based semiconductor materials, said active layer  having a multi-quantum well structure having well layers wn and barrier layers bn that are laminated alternately in which each well layer and each barrier layer lie one upon another, and said active layer  having an embedded portion 14a formed so as to embed said pit pt; an electron blocking layer  formed on said active layer  to cover said embedded portion 14a; and a second semiconductor layer  formed on said electron blocking layer  and having a second conductivity type which is opposite to said first conductivity type, characterized in that said embedded portion 14a has embedded well portions iwn corresponding to said well layers wn respectively and embedded barrier portions ibn corresponding to said barrier layers bn respectively, each of said embedded well portions iwn and said embedded barrier portions ibn is configured such that, with respect to each iw, iw of said embedded well portions iwn and each ib, ib of said embedded barrier portions ibn which are situated adjacent to each other, a second apex angle y1,y2 of an apex pw, pw of said each of said embedded well portions iwn is smaller than a first apex angle x1, x2 of an apex pb , pb  of said each of said embedded barrier portions ibn wherein said each of said embedded well portions iwn is subsequently formed on said each of said embedded barrier portions ibn, said embedded well portions iwn are configured so as to have apex angles which are gradually increased respectively as the embedded well portions iwn approach said second semiconductor layer , said embedded barrier portions ibn are configured so as to have apex angles which are gradually increased respectively as the embedded barrier portions ibn approach said second semiconductor layer , so that said embedded portion 14a has a recess portion rc placed on an upper interface with said electron blocking layer  above said pyramidal pit pt, said recess portion rc has an apex 14p placed at a position existing in a layered direction of said active layer  within said active layer , the depth d of the apex 14p of said recess rc with regard to the interface between the active layer  and the electron blocking layer  outside the embedded portion 14a exceeding the well layer wn the nearest to said electron blocking layer  outside the embedded portion 14a.</p>"
            ]
          },
          "metadata": {}
        },
        {
          "output_type": "display_data",
          "data": {
            "text/plain": [
              "<IPython.core.display.HTML object>"
            ],
            "text/html": [
              "<h3>Greedy search claim (sacreBLEU = 2.160592875709639)</h3>"
            ]
          },
          "metadata": {}
        },
        {
          "output_type": "display_data",
          "data": {
            "text/plain": [
              "<IPython.core.display.HTML object>"
            ],
            "text/html": [
              "<p>a semiconductor light emitting element comprising:a p-type semiconductor layer grown on a substrate made of a material different from a nitride semiconductor such as a sapphire substrate;an n-type semiconductor layer grown on the p-type semiconductor layer ;a p-type semiconductor layer grown on the n-type semiconductor layer ;an electron blocking layer grown on the p-type semiconductor layer ; andan n-type active layer grown on the electron blocking layer,wherein the electron blocking layer comprises a first portion formed on the p-type semiconductor layer and a second portion formed on the n-type semiconductor layer,wherein the first portion and the second portion are different from each other, andwherein the first portion has a thickness smaller than that of the second portion, andwherein the second portion has a thickness smaller than that of the first portion.</p>"
            ]
          },
          "metadata": {}
        },
        {
          "output_type": "display_data",
          "data": {
            "text/plain": [
              "<IPython.core.display.HTML object>"
            ],
            "text/html": [
              "<hr/>"
            ]
          },
          "metadata": {}
        },
        {
          "output_type": "display_data",
          "data": {
            "text/plain": [
              "<IPython.core.display.HTML object>"
            ],
            "text/html": [
              "<h3>Original claim</h3>"
            ]
          },
          "metadata": {}
        },
        {
          "output_type": "display_data",
          "data": {
            "text/plain": [
              "<IPython.core.display.HTML object>"
            ],
            "text/html": [
              "<p>a semiconductor light emitting element comprising: a first semiconductor layer  of a first conductivity type; a pit formation layer  formed on said first semiconductor layer  and having a pyramidal pit pt caused by a threading dislocation td generated in said first semiconductor layer  ; an active layer  formed on said pit formation layer  and made of ingan-based semiconductor materials, said active layer  having a multi-quantum well structure having well layers wn and barrier layers bn that are laminated alternately in which each well layer and each barrier layer lie one upon another, and said active layer  having a flat portion 14a and an embedded portion 14b which is formed so as to embed said pit; and a second semiconductor layer  formed on said active layer  and having a second conductivity type which is opposite to the first conductivity type, characterized in that said flat portion 14a has flat well portions fwn corresponding to said well layers wn, said embedded portion 14b has embedded well portions iwn corresponding to said well layers wn, each of said embedded well portions iwn has ring portions rwn each of which is formed in an interface with each of said flat well portions fwn so as to surround said threading dislocation td, each of said ring portions rwn has a band gap smaller than that of each of said flat well portions fwn, each of said ring portions rwn has a thickness d1 larger than a thickness d2 of each of said flat well portions fwn corresponding to each of said ring portions rwn, said embedded portion 14b has embedded barrier portions ibn corresponding to said barrier layers bn, said embedded well portions iwn and said embedded barrier portions ibn are configured such that a facet upper end p12 of one of said embedded well portions iwn is formed at a position closer to a center cp of said pit pt than a facet upper end p11 of an adjacent one of said embedded barrier portions ibn, wherein the one embedded well portion iwn is subsequently formed on the adjacent embedded barrier portion ibn.</p>"
            ]
          },
          "metadata": {}
        },
        {
          "output_type": "display_data",
          "data": {
            "text/plain": [
              "<IPython.core.display.HTML object>"
            ],
            "text/html": [
              "<h3>Greedy search claim (sacreBLEU = 2.795108915744291)</h3>"
            ]
          },
          "metadata": {}
        },
        {
          "output_type": "display_data",
          "data": {
            "text/plain": [
              "<IPython.core.display.HTML object>"
            ],
            "text/html": [
              "<p>a semiconductor light emitting element comprising:a substrate made of a material different from a nitride semiconductor such as a sapphire substrate ;a nitride semiconductor layer grown on the substrate ; andan active layer grown on the nitride semiconductor layer,wherein the nitride semiconductor layer is grown on the substrate such that the nitride semiconductor layer is grown on the substrate such that the nitride semiconductor layer is grown on the substrate such that the nitride semiconductor layer is grown on the substrate such that the nitride semiconductor layer is grown on the substrate such that the nitride semiconductor layer is grown on the substrate such that the nitride semiconductor layer is grown on the substrate such that the nitride semiconductor layer is grown on the substrate such that the nitride semiconductor layer is grown on the substrate such that the nitride semiconductor layer is grown on the substrate such that the nitride semiconductor layer is grown on the substrate such that the nitride semiconductor layer is grown on the substrate such that the nitride semiconductor layer is grown on the substrate such that the nitride semiconductor layer is grown on the substrate such that the nitride semiconductor layer is grown on the substrate such that the nitride semiconductor layer is grown on the substrate such that the nitride semiconductor layer is grown on the substrate such that the nitride semiconductor layer is grown on the substrate such that the nitride semiconductor layer is grown on the substrate such that the nitride semiconductor layer is grown on the substrate such that the nitride semiconductor layer is grown on the substrate such that the nitride semiconductor layer is grown on the substrate such that the nitride semiconductor layer is grown on the substrate such that the nitride semiconductor layer is grown on the substrate such that the nitride semiconductor layer is grown on the substrate such that the nitride semiconductor layer is grown on the substrate such that the nitride semiconductor layer is grown on the substrate such that the nitride semiconductor layer is grown on the substrate such that the nitride semiconductor layer is grown on the substrate such that the nitride semiconductor layer is grown on the substrate such that the nitride semiconductor layer is grown on the substrate such that the nitride semiconductor layer is grown on the substrate such that the nitride semiconductor layer is grown on the substrate such that the substrate such that the nitride semiconductor layer is grown on the substrate such that the nitride semiconductor layer is grown on the substrate such that the nitride semiconductor layer is grown on the substrate such that the nitride semiconductor layer is grown on the substrate such that the nitride semiconductor layer is grown on the substrate such that the nitride semiconductor layer is grown on the substrate such that the nitride semiconductor layer is grown on the substrate such that the nitride semiconductor layer is grown</p>"
            ]
          },
          "metadata": {}
        },
        {
          "output_type": "display_data",
          "data": {
            "text/plain": [
              "<IPython.core.display.HTML object>"
            ],
            "text/html": [
              "<hr/>"
            ]
          },
          "metadata": {}
        },
        {
          "output_type": "display_data",
          "data": {
            "text/plain": [
              "<IPython.core.display.HTML object>"
            ],
            "text/html": [
              "<h3>Original claim</h3>"
            ]
          },
          "metadata": {}
        },
        {
          "output_type": "display_data",
          "data": {
            "text/plain": [
              "<IPython.core.display.HTML object>"
            ],
            "text/html": [
              "<p>a method of charging a battery 150, 450, 550, 850, 1150, 1250 using a switching regulator 410, 510, 803, 1110, 1210, 1303, 1601 comprising: storing a plurality of charging parameters in one or more programmable data storage elements ; supplying a controlled current from said switching regulator via a filter 104, 804, 1103, 1104 to said battery during a first time period, wherein the controlled current supplied is based at least in part on a control signal applied to the switching regulator, and further wherein the control signal is based at least in part on a first parameter of said stored charging parameters and the first parameter is variable across a range of values to program the controlled current across a corresponding range of current values; and supplying a constant voltage from said switching regulator via said filter to said battery during a second time period following the first time period if a voltage on the battery is above a first threshold, wherein the constant voltage is based at least in part on the control signal applied to the switching regulator, and further wherein the control signal is based at least in part on a second parameter of said stored charging parameters and the second parameter is variable across a range of values to program the constant voltage across a corresponding range of voltage values.</p>"
            ]
          },
          "metadata": {}
        },
        {
          "output_type": "display_data",
          "data": {
            "text/plain": [
              "<IPython.core.display.HTML object>"
            ],
            "text/html": [
              "<h3>Greedy search claim (sacreBLEU = 2.895976026853876)</h3>"
            ]
          },
          "metadata": {}
        },
        {
          "output_type": "display_data",
          "data": {
            "text/plain": [
              "<IPython.core.display.HTML object>"
            ],
            "text/html": [
              "<p>a universal serial bus battery charger comprising a switching regulator having at least one switching transistor, the switching transistor having first input and a first output, wherein the first input of the switching transistor is coupled to a usb power source, a filter having a first input and a first output, wherein the first input of the filter is coupled to the first output of the switching transistor, and a battery coupled to the first output of the filter, wherein the switching regulator is configured to receive a usb voltage, and in accordance therewith, generate a switching signal to the control terminal of the switching transistor, and wherein a switching current and switching voltage at the output of the switching transistor are coupled through the filter to generate a filtered current and a filtered voltage to charge the battery.</p>"
            ]
          },
          "metadata": {}
        },
        {
          "output_type": "display_data",
          "data": {
            "text/plain": [
              "<IPython.core.display.HTML object>"
            ],
            "text/html": [
              "<hr/>"
            ]
          },
          "metadata": {}
        },
        {
          "output_type": "display_data",
          "data": {
            "text/plain": [
              "<IPython.core.display.HTML object>"
            ],
            "text/html": [
              "<h2>Beam search gen</h1>"
            ]
          },
          "metadata": {}
        },
        {
          "output_type": "display_data",
          "data": {
            "text/plain": [
              "<IPython.core.display.HTML object>"
            ],
            "text/html": [
              "<h3>Original claim</h3>"
            ]
          },
          "metadata": {}
        },
        {
          "output_type": "display_data",
          "data": {
            "text/plain": [
              "<IPython.core.display.HTML object>"
            ],
            "text/html": [
              "<p>a control system for controlling radiation direction of an antenna beam of an antenna unit , wherein the radiation direction is adjustable in accordance with an actuating signal, the control system comprising: a filtering means 403, 502 connected to a feeder cable 401, 501 configured to carry rf signals and a modulated control signal, wherein said filtering means 403, 502 is arranged to filter out said modulated control signal; an external control unit , attachable to said antenna unit , wherein said external control unit includes a detecting means 406, 602 and a control means , said detecting means 406, 602 is arranged to detect and demodulate said filtered out modulated control signal, and said control means  is arranged to produce the actuating signal in accordance with the detected and demodulated control signal, wherein said filtering means 403, 502 is directly connected to said detecting means 406, 602 located within said external control unit  so as to provide the filtered out modulated control signal directly to said detecting means 406, 602, and wherein said detecting means 406, 602 is arranged to provide said detected and demodulated control signal to said control means  in a format readable by said control means .</p>"
            ]
          },
          "metadata": {}
        },
        {
          "output_type": "display_data",
          "data": {
            "text/plain": [
              "<IPython.core.display.HTML object>"
            ],
            "text/html": [
              "<h3>Beam search claim (sacreBLEU = 1.7990450931010646)</h3>"
            ]
          },
          "metadata": {}
        },
        {
          "output_type": "display_data",
          "data": {
            "text/plain": [
              "<IPython.core.display.HTML object>"
            ],
            "text/html": [
              "<p>an antenna beam radiation direction control system for controlling radiation direction of an antenna beam, comprising:a filtering means for filtering the radiation direction of the antenna beam ; andan external control unit, wherein the filtering means and the external control unit are directly connected to each other.</p>"
            ]
          },
          "metadata": {}
        },
        {
          "output_type": "display_data",
          "data": {
            "text/plain": [
              "<IPython.core.display.HTML object>"
            ],
            "text/html": [
              "<hr/>"
            ]
          },
          "metadata": {}
        },
        {
          "output_type": "display_data",
          "data": {
            "text/plain": [
              "<IPython.core.display.HTML object>"
            ],
            "text/html": [
              "<h3>Original claim</h3>"
            ]
          },
          "metadata": {}
        },
        {
          "output_type": "display_data",
          "data": {
            "text/plain": [
              "<IPython.core.display.HTML object>"
            ],
            "text/html": [
              "<p>a secondary battery comprising: an electrode assembly; and an exterior member which seals the electrode assembly, wherein the exterior member comprises: a pouch which is flexible; and a can which is connected to the pouch and is formed of a material having a greater hardness than that of the pouch; the said pouch comprising a first sealing portion; a pouch body which is connected to the first sealing portion; and a second sealing portion which is arranged to face the first sealing portion and is connected to the pouch body; characterised in that the can is inserted into the pouch body and is connected to the first sealing portion, the second sealing portion, and the pouch body.</p>"
            ]
          },
          "metadata": {}
        },
        {
          "output_type": "display_data",
          "data": {
            "text/plain": [
              "<IPython.core.display.HTML object>"
            ],
            "text/html": [
              "<h3>Beam search claim (sacreBLEU = 1.815155267573719)</h3>"
            ]
          },
          "metadata": {}
        },
        {
          "output_type": "display_data",
          "data": {
            "text/plain": [
              "<IPython.core.display.HTML object>"
            ],
            "text/html": [
              "<p>a secondary battery, comprising:a battery housing ;a battery electrode ; anda battery cell, wherein the battery electrode comprises:a first electrode ; anda second electrode, wherein the battery cell comprises:a first battery electrode ; anda second battery electrode, wherein the first battery electrode comprises:a first battery electrode ; anda second battery electrode, wherein the second battery electrode comprises:a first battery electrode ; anda second battery electrode, wherein the first battery electrode comprises:a first battery electrode ; anda second battery electrode, wherein the second battery electrode comprises:a first battery electrode ; anda second battery electrode, wherein the first battery electrode comprises:a first battery electrode ; anda second battery electrode, wherein the second battery electrode comprises:a first battery electrode ; anda second battery electrode, wherein the first battery electrode comprises:a first battery electrode ; anda second battery electrode, wherein the second battery electrode comprises:a first battery electrode ; anda second battery electrode, wherein the first battery electrode comprises:a first battery electrode ; anda second battery electrode, wherein the second battery electrode comprises:a first battery electrode ; anda second battery electrode, wherein the first battery electrode comprises:a first battery electrode ; anda second battery electrode, wherein the second battery electrode comprises:a first battery electrode ; anda second battery electrode, wherein the first battery electrode comprises:a first battery electrode ; anda second battery electrode, wherein the first battery electrode comprises:a first battery electrode ; anda second battery electrode, wherein the first battery electrode comprises:a first battery electrode ; anda second battery electrode.</p>"
            ]
          },
          "metadata": {}
        },
        {
          "output_type": "display_data",
          "data": {
            "text/plain": [
              "<IPython.core.display.HTML object>"
            ],
            "text/html": [
              "<hr/>"
            ]
          },
          "metadata": {}
        },
        {
          "output_type": "display_data",
          "data": {
            "text/plain": [
              "<IPython.core.display.HTML object>"
            ],
            "text/html": [
              "<h3>Original claim</h3>"
            ]
          },
          "metadata": {}
        },
        {
          "output_type": "display_data",
          "data": {
            "text/plain": [
              "<IPython.core.display.HTML object>"
            ],
            "text/html": [
              "<p>a power supply apparatus  comprising: a power supply means  that wirelessly supplies power to an electronic apparatus ; a communication means  that communicates with the electronic apparatus ; and a control means  configured to determine s508 whether information regarding the electronic apparatus  that is received from the electronic apparatus  is updated by the electronic apparatus , wherein, in a case where the information regarding the electronic apparatus  that is received from the electronic apparatus  is not updated by the electronic apparatus , the control means  controls power to be supplied from the power supply apparatus  to the electronic apparatus  to a first power s513, and, in a case where the information regarding the electronic apparatus  that is received from the electronic apparatus  is updated by the electronic apparatus , the control means  controls the power to be supplied from the power supply apparatus  to the electronic apparatus  to a second power greater than the first power s510.</p>"
            ]
          },
          "metadata": {}
        },
        {
          "output_type": "display_data",
          "data": {
            "text/plain": [
              "<IPython.core.display.HTML object>"
            ],
            "text/html": [
              "<h3>Beam search claim (sacreBLEU = 2.3091647662244505)</h3>"
            ]
          },
          "metadata": {}
        },
        {
          "output_type": "display_data",
          "data": {
            "text/plain": [
              "<IPython.core.display.HTML object>"
            ],
            "text/html": [
              "<p>a power supply apparatus, comprising:a plurality of power supply terminals, each power supply terminal configured to receive a power supply voltage;a plurality of power supply power lines, each power supply power line configured to supply a power supply voltage to a corresponding power supply terminal ;a plurality of power supply current lines, each power supply current line configured to supply a corresponding power supply current to a corresponding power supply terminal ;a plurality of power supply current control lines, each power supply current control line configured to supply a corresponding power supply current to a corresponding power supply current control line ;a plurality of power supply current sensing lines, each power supply current sensing line configured to sense a power supply current flowing through a corresponding power supply current control line ;a plurality of power supply current control lines, each power supply current control line configured to sense a corresponding power supply current flowing through a corresponding power supply current control line ;a plurality of power supply current control lines, each power supply current control line configured to sense a corresponding power supply current flowing through a corresponding power supply current control line ; anda plurality of power supply current control lines, each power supply current control line configured to sense a corresponding power supply current flowing through a corresponding power supply current control line,wherein each power supply current control line is configured to control a corresponding power supply current flowing through a corresponding power supply current control line, andwherein each power supply current control line is configured to control a corresponding power supply current flowing through a corresponding power supply current control line, andwherein each power supply current control line is configured to control a corresponding power supply current flowing through a corresponding power supply current control line.</p>"
            ]
          },
          "metadata": {}
        },
        {
          "output_type": "display_data",
          "data": {
            "text/plain": [
              "<IPython.core.display.HTML object>"
            ],
            "text/html": [
              "<hr/>"
            ]
          },
          "metadata": {}
        },
        {
          "output_type": "display_data",
          "data": {
            "text/plain": [
              "<IPython.core.display.HTML object>"
            ],
            "text/html": [
              "<h3>Original claim</h3>"
            ]
          },
          "metadata": {}
        },
        {
          "output_type": "display_data",
          "data": {
            "text/plain": [
              "<IPython.core.display.HTML object>"
            ],
            "text/html": [
              "<p>a method of charging a battery 150, 450, 550, 850, 1150, 1250 using a switching regulator 410, 510, 803, 1110, 1210, 1303, 1601 comprising: storing a plurality of charging parameters in one or more programmable data storage elements ; supplying a controlled current from said switching regulator via a filter 104, 804, 1103, 1104 to said battery during a first time period, wherein the controlled current supplied is based at least in part on a control signal applied to the switching regulator, and further wherein the control signal is based at least in part on a first parameter of said stored charging parameters and the first parameter is variable across a range of values to program the controlled current across a corresponding range of current values; and supplying a constant voltage from said switching regulator via said filter to said battery during a second time period following the first time period if a voltage on the battery is above a first threshold, wherein the constant voltage is based at least in part on the control signal applied to the switching regulator, and further wherein the control signal is based at least in part on a second parameter of said stored charging parameters and the second parameter is variable across a range of values to program the constant voltage across a corresponding range of voltage values.</p>"
            ]
          },
          "metadata": {}
        },
        {
          "output_type": "display_data",
          "data": {
            "text/plain": [
              "<IPython.core.display.HTML object>"
            ],
            "text/html": [
              "<h3>Beam search claim (sacreBLEU = 2.920400762881676)</h3>"
            ]
          },
          "metadata": {}
        },
        {
          "output_type": "display_data",
          "data": {
            "text/plain": [
              "<IPython.core.display.HTML object>"
            ],
            "text/html": [
              "<p>a universal serial bus battery charger comprising a switching regulator having at least one switching transistor, the switching transistor having first input and a first output, wherein the first input of the switching transistor is coupled to a universal serial bus power source, a filter having a first input and a first output, wherein the first input of the filter is coupled to the first output of the switching transistor, and a battery coupled to the first output of the filter, wherein the switching regulator is configured to receive a usb voltage, and in accordance therewith, generate a switching signal to the control terminal of the switching transistor, and wherein a switching current and switching voltage at the output of the switching transistor are coupled through the filter to generate a filtered current and a filtered voltage to charge the battery.</p>"
            ]
          },
          "metadata": {}
        },
        {
          "output_type": "display_data",
          "data": {
            "text/plain": [
              "<IPython.core.display.HTML object>"
            ],
            "text/html": [
              "<hr/>"
            ]
          },
          "metadata": {}
        },
        {
          "output_type": "display_data",
          "data": {
            "text/plain": [
              "<IPython.core.display.HTML object>"
            ],
            "text/html": [
              "<h3>Original claim</h3>"
            ]
          },
          "metadata": {}
        },
        {
          "output_type": "display_data",
          "data": {
            "text/plain": [
              "<IPython.core.display.HTML object>"
            ],
            "text/html": [
              "<p>a semiconductor light emitting element comprising: a first semiconductor layer  of a first conductivity type; a pit formation layer  formed on said first semiconductor layer  and having a pyramidal pit pt caused by a threading dislocation td generated in said first semiconductor layer  ; an active layer  formed on said pit formation layer  and made of ingan-based semiconductor materials, said active layer  having a multi-quantum well structure having well layers wn and barrier layers bn that are laminated alternately in which each well layer and each barrier layer lie one upon another, and said active layer  having a flat portion 14a and an embedded portion 14b which is formed so as to embed said pit; and a second semiconductor layer  formed on said active layer  and having a second conductivity type which is opposite to the first conductivity type, characterized in that said flat portion 14a has flat well portions fwn corresponding to said well layers wn, said embedded portion 14b has embedded well portions iwn corresponding to said well layers wn, each of said embedded well portions iwn has ring portions rwn each of which is formed in an interface with each of said flat well portions fwn so as to surround said threading dislocation td, each of said ring portions rwn has a band gap smaller than that of each of said flat well portions fwn, each of said ring portions rwn has a thickness d1 larger than a thickness d2 of each of said flat well portions fwn corresponding to each of said ring portions rwn, said embedded portion 14b has embedded barrier portions ibn corresponding to said barrier layers bn, said embedded well portions iwn and said embedded barrier portions ibn are configured such that a facet upper end p12 of one of said embedded well portions iwn is formed at a position closer to a center cp of said pit pt than a facet upper end p11 of an adjacent one of said embedded barrier portions ibn, wherein the one embedded well portion iwn is subsequently formed on the adjacent embedded barrier portion ibn.</p>"
            ]
          },
          "metadata": {}
        },
        {
          "output_type": "display_data",
          "data": {
            "text/plain": [
              "<IPython.core.display.HTML object>"
            ],
            "text/html": [
              "<h3>Beam search claim (sacreBLEU = 3.5268350969857067)</h3>"
            ]
          },
          "metadata": {}
        },
        {
          "output_type": "display_data",
          "data": {
            "text/plain": [
              "<IPython.core.display.HTML object>"
            ],
            "text/html": [
              "<p>a semiconductor light emitting element comprising:a substrate made of a material different from a nitride semiconductor;a nitride semiconductor layer grown on the substrate ; andan active layer grown on the nitride semiconductor layer,wherein the nitride semiconductor layer is grown on the substrate such that the nitride semiconductor layer is grown on the substrate such that the nitride semiconductor layer is grown on the substrate such that the nitride semiconductor layer is grown on the substrate such that the nitride semiconductor layer is grown on the substrate such that the nitride semiconductor layer is grown on the substrate such that the nitride semiconductor layer is grown on the substrate such that the nitride semiconductor layer is grown on the substrate such that the nitride semiconductor layer is grown on the substrate such that the nitride semiconductor layer is grown on the substrate such that the nitride semiconductor layer is grown on the substrate such that the nitride semiconductor layer is grown on the substrate such that the nitride semiconductor layer is grown on the substrate such that the nitride semiconductor layer is grown on the substrate such that the nitride semiconductor layer is grown on the substrate such that the nitride semiconductor layer is grown on the substrate such that the nitride semiconductor layer is grown on the substrate such that the nitride semiconductor layer is grown on the substrate such that the nitride semiconductor layer is grown on the substrate such that the nitride semiconductor layer is grown on the substrate such that the nitride semiconductor layer is grown on the substrate such that the nitride semiconductor layer is grown on the substrate such that the nitride semiconductor layer is grown on the substrate such that the nitride semiconductor layer is grown on the substrate such that the nitride semiconductor layer is grown on the substrate such that the nitride semiconductor layer is grown on the substrate such that the nitride semiconductor layer is grown on the substrate such that the nitride semiconductor layer is grown on the substrate such that the nitride semiconductor layer is grown on the substrate such that the nitride semiconductor layer is grown on the substrate such that the nitride semiconductor layer is grown on the substrate such that the nitride semiconductor layer is grown on the substrate.</p>"
            ]
          },
          "metadata": {}
        },
        {
          "output_type": "display_data",
          "data": {
            "text/plain": [
              "<IPython.core.display.HTML object>"
            ],
            "text/html": [
              "<hr/>"
            ]
          },
          "metadata": {}
        },
        {
          "output_type": "display_data",
          "data": {
            "text/plain": [
              "<IPython.core.display.HTML object>"
            ],
            "text/html": [
              "<h1>bigbird balanced</h1>"
            ]
          },
          "metadata": {}
        },
        {
          "output_type": "display_data",
          "data": {
            "text/plain": [
              "<IPython.core.display.HTML object>"
            ],
            "text/html": [
              "<h2>Greedy search gen</h1>"
            ]
          },
          "metadata": {}
        },
        {
          "output_type": "display_data",
          "data": {
            "text/plain": [
              "<IPython.core.display.HTML object>"
            ],
            "text/html": [
              "<h3>Original claim</h3>"
            ]
          },
          "metadata": {}
        },
        {
          "output_type": "display_data",
          "data": {
            "text/plain": [
              "<IPython.core.display.HTML object>"
            ],
            "text/html": [
              "<p>a semiconductor light emitting element comprising: a first semiconductor layer  of a first conductivity type; a pit formation layer  formed on said first semiconductor layer  and having a pyramidal pit pt caused by a threading dislocation td generated in said first semiconductor layer  ; an active layer  formed on said pit formation layer  and made of ingan-based semiconductor materials, said active layer  having a multi-quantum well structure having well layers wn and barrier layers bn that are laminated alternately in which each well layer and each barrier layer lie one upon another, and said active layer  having a flat portion 14a and an embedded portion 14b which is formed so as to embed said pit; and a second semiconductor layer  formed on said active layer  and having a second conductivity type which is opposite to the first conductivity type, characterized in that said flat portion 14a has flat well portions fwn corresponding to said well layers wn, said embedded portion 14b has embedded well portions iwn corresponding to said well layers wn, each of said embedded well portions iwn has ring portions rwn each of which is formed in an interface with each of said flat well portions fwn so as to surround said threading dislocation td, each of said ring portions rwn has a band gap smaller than that of each of said flat well portions fwn, each of said ring portions rwn has a thickness d1 larger than a thickness d2 of each of said flat well portions fwn corresponding to each of said ring portions rwn, said embedded portion 14b has embedded barrier portions ibn corresponding to said barrier layers bn, said embedded well portions iwn and said embedded barrier portions ibn are configured such that a facet upper end p12 of one of said embedded well portions iwn is formed at a position closer to a center cp of said pit pt than a facet upper end p11 of an adjacent one of said embedded barrier portions ibn, wherein the one embedded well portion iwn is subsequently formed on the adjacent embedded barrier portion ibn.</p>"
            ]
          },
          "metadata": {}
        },
        {
          "output_type": "display_data",
          "data": {
            "text/plain": [
              "<IPython.core.display.HTML object>"
            ],
            "text/html": [
              "<h3>Greedy search claim (sacreBLEU = 1.011860847961756)</h3>"
            ]
          },
          "metadata": {}
        },
        {
          "output_type": "display_data",
          "data": {
            "text/plain": [
              "<IPython.core.display.HTML object>"
            ],
            "text/html": [
              "<p>a semiconductor light emitting element comprising:a nitride semiconductor layer grown on a substrate made of a material different from a nitride semiconductor;a threading dislocation extending in a layered direction of the nitride semiconductor layer;a pit surrounding the threading dislocation, the pit having inclined side surfaces surrounding the threading dislocation; andan active layer grown on the pit after pit formation, the active layer being layered on the inclined side surface of the pit at a growth rate slower than that on the other portion flat portion.</p>"
            ]
          },
          "metadata": {}
        },
        {
          "output_type": "display_data",
          "data": {
            "text/plain": [
              "<IPython.core.display.HTML object>"
            ],
            "text/html": [
              "<hr/>"
            ]
          },
          "metadata": {}
        },
        {
          "output_type": "display_data",
          "data": {
            "text/plain": [
              "<IPython.core.display.HTML object>"
            ],
            "text/html": [
              "<h3>Original claim</h3>"
            ]
          },
          "metadata": {}
        },
        {
          "output_type": "display_data",
          "data": {
            "text/plain": [
              "<IPython.core.display.HTML object>"
            ],
            "text/html": [
              "<p>a compound selected from the group consisting of:</p>"
            ]
          },
          "metadata": {}
        },
        {
          "output_type": "display_data",
          "data": {
            "text/plain": [
              "<IPython.core.display.HTML object>"
            ],
            "text/html": [
              "<h3>Greedy search claim (sacreBLEU = 1.389736936231864)</h3>"
            ]
          },
          "metadata": {}
        },
        {
          "output_type": "display_data",
          "data": {
            "text/plain": [
              "<IPython.core.display.HTML object>"
            ],
            "text/html": [
              "<p>an organic light emitting device comprising an anode, a cathode, and an organic layer disposed between the anode and the cathode, the organic layer comprising one or more of the compounds.</p>"
            ]
          },
          "metadata": {}
        },
        {
          "output_type": "display_data",
          "data": {
            "text/plain": [
              "<IPython.core.display.HTML object>"
            ],
            "text/html": [
              "<hr/>"
            ]
          },
          "metadata": {}
        },
        {
          "output_type": "display_data",
          "data": {
            "text/plain": [
              "<IPython.core.display.HTML object>"
            ],
            "text/html": [
              "<h3>Original claim</h3>"
            ]
          },
          "metadata": {}
        },
        {
          "output_type": "display_data",
          "data": {
            "text/plain": [
              "<IPython.core.display.HTML object>"
            ],
            "text/html": [
              "<p>a secondary battery comprising: an electrode assembly; and an exterior member which seals the electrode assembly, wherein the exterior member comprises: a pouch which is flexible; and a can which is connected to the pouch and is formed of a material having a greater hardness than that of the pouch; the said pouch comprising a first sealing portion; a pouch body which is connected to the first sealing portion; and a second sealing portion which is arranged to face the first sealing portion and is connected to the pouch body; characterised in that the can is inserted into the pouch body and is connected to the first sealing portion, the second sealing portion, and the pouch body.</p>"
            ]
          },
          "metadata": {}
        },
        {
          "output_type": "display_data",
          "data": {
            "text/plain": [
              "<IPython.core.display.HTML object>"
            ],
            "text/html": [
              "<h3>Greedy search claim (sacreBLEU = 2.579625484084914)</h3>"
            ]
          },
          "metadata": {}
        },
        {
          "output_type": "display_data",
          "data": {
            "text/plain": [
              "<IPython.core.display.HTML object>"
            ],
            "text/html": [
              "<p>a secondary battery comprising:a housing ;a battery cell housed within the housing, the battery cell having a first end and a second end, the first end of the battery cell being connected to the housing and the second end of the battery cell being connected to the battery cell at the second end of the battery cell, the battery cell having a first shape when the battery cell is in the first end of the battery cell and a second shape when the battery cell is in the second end of the battery cell, the battery cell having a second shape when the battery cell is in the first end of the battery cell and the battery cell being in the second shape when the battery cell is in the second end of the battery cell, the battery cell having a third shape when the battery cell is in the first end of the battery cell and the battery cell being in the second shape when the battery cell is in the second end of the battery cell, the battery cell having a fourth shape when the battery cell is in the first end of the battery cell and the battery cell being in the third shape when the battery cell is in the second end of the battery cell, characterized in that the battery cell has a fourth shape when the battery cell is in the first end of the battery cell and the battery cell is in the third shape when the battery cell is in the second end of the battery cell, and the battery cell has a fifth shape when the battery cell is in the first end of the battery cell and the battery cell is in the third shape when the battery cell is in the second end of the battery cell, characterized in that the battery cell has a sixth shape when the battery cell is in the first end of the battery cell and the battery cell is in the third shape when the battery cell is in the second end of the battery cell, characterized in that the battery cell has a seventh shape when the battery cell is in the first end of the battery cell, characterized in that the battery cell has a eighth shape when the battery cell is in the second end of the battery, characterized in that the battery has a ninth shape when the battery is in the third end of the battery, characterized in that the battery has a tenth shape when the battery is in the third end of the battery, characterized in that the battery has a twelfth shape when the battery is in the fourth end of the battery, characterized in that the secondary battery has a</p>"
            ]
          },
          "metadata": {}
        },
        {
          "output_type": "display_data",
          "data": {
            "text/plain": [
              "<IPython.core.display.HTML object>"
            ],
            "text/html": [
              "<hr/>"
            ]
          },
          "metadata": {}
        },
        {
          "output_type": "display_data",
          "data": {
            "text/plain": [
              "<IPython.core.display.HTML object>"
            ],
            "text/html": [
              "<h3>Original claim</h3>"
            ]
          },
          "metadata": {}
        },
        {
          "output_type": "display_data",
          "data": {
            "text/plain": [
              "<IPython.core.display.HTML object>"
            ],
            "text/html": [
              "<p>a method of charging a battery 150, 450, 550, 850, 1150, 1250 using a switching regulator 410, 510, 803, 1110, 1210, 1303, 1601 comprising: storing a plurality of charging parameters in one or more programmable data storage elements ; supplying a controlled current from said switching regulator via a filter 104, 804, 1103, 1104 to said battery during a first time period, wherein the controlled current supplied is based at least in part on a control signal applied to the switching regulator, and further wherein the control signal is based at least in part on a first parameter of said stored charging parameters and the first parameter is variable across a range of values to program the controlled current across a corresponding range of current values; and supplying a constant voltage from said switching regulator via said filter to said battery during a second time period following the first time period if a voltage on the battery is above a first threshold, wherein the constant voltage is based at least in part on the control signal applied to the switching regulator, and further wherein the control signal is based at least in part on a second parameter of said stored charging parameters and the second parameter is variable across a range of values to program the constant voltage across a corresponding range of voltage values.</p>"
            ]
          },
          "metadata": {}
        },
        {
          "output_type": "display_data",
          "data": {
            "text/plain": [
              "<IPython.core.display.HTML object>"
            ],
            "text/html": [
              "<h3>Greedy search claim (sacreBLEU = 2.920400762881676)</h3>"
            ]
          },
          "metadata": {}
        },
        {
          "output_type": "display_data",
          "data": {
            "text/plain": [
              "<IPython.core.display.HTML object>"
            ],
            "text/html": [
              "<p>a universal serial bus battery charger comprising a switching regulator having at least one switching transistor, the switching transistor having first input and a first output, wherein the first input of the switching transistor is coupled to a universal serial bus power source, a filter having a first input and a first output, wherein the first input of the filter is coupled to the first output of the switching transistor, and a battery coupled to the first output of the filter, wherein the switching regulator is configured to receive a usb voltage, and in accordance therewith, generate a switching signal to the control terminal of the switching transistor, and wherein a switching current and switching voltage at the output of the switching transistor are coupled through the filter to generate a filtered current and a filtered voltage to charge the battery.</p>"
            ]
          },
          "metadata": {}
        },
        {
          "output_type": "display_data",
          "data": {
            "text/plain": [
              "<IPython.core.display.HTML object>"
            ],
            "text/html": [
              "<hr/>"
            ]
          },
          "metadata": {}
        },
        {
          "output_type": "display_data",
          "data": {
            "text/plain": [
              "<IPython.core.display.HTML object>"
            ],
            "text/html": [
              "<h3>Original claim</h3>"
            ]
          },
          "metadata": {}
        },
        {
          "output_type": "display_data",
          "data": {
            "text/plain": [
              "<IPython.core.display.HTML object>"
            ],
            "text/html": [
              "<p>a power supply apparatus  comprising: a power supply means  that wirelessly supplies power to an electronic apparatus ; a communication means  that communicates with the electronic apparatus ; and a control means  configured to determine s508 whether information regarding the electronic apparatus  that is received from the electronic apparatus  is updated by the electronic apparatus , wherein, in a case where the information regarding the electronic apparatus  that is received from the electronic apparatus  is not updated by the electronic apparatus , the control means  controls power to be supplied from the power supply apparatus  to the electronic apparatus  to a first power s513, and, in a case where the information regarding the electronic apparatus  that is received from the electronic apparatus  is updated by the electronic apparatus , the control means  controls the power to be supplied from the power supply apparatus  to the electronic apparatus  to a second power greater than the first power s510.</p>"
            ]
          },
          "metadata": {}
        },
        {
          "output_type": "display_data",
          "data": {
            "text/plain": [
              "<IPython.core.display.HTML object>"
            ],
            "text/html": [
              "<h3>Greedy search claim (sacreBLEU = 2.9284672988540925)</h3>"
            ]
          },
          "metadata": {}
        },
        {
          "output_type": "display_data",
          "data": {
            "text/plain": [
              "<IPython.core.display.HTML object>"
            ],
            "text/html": [
              "<p>a power supply apparatus, comprising:a power supply unit for supplying a power to a load, wherein the power supply unit comprises a first power supply and a second power supply, and wherein the first power supply and the second power supply are connected to each other in series, and wherein the first power supply and the second power supply are connected to each other in parallel, and wherein the first power supply and the second power supply are connected to each other in parallel, and wherein the first power supply and the second power supply are connected to each other in parallel, and wherein the first power supply and the second power supply are connected to each other in parallel, and wherein the first power supply and the second power supply are connected to each other in parallel, and wherein the first power supply and the second power supply are connected to each other in parallel, and wherein the first power supply and the second power supply are connected to each other in parallel, and wherein the first power supply and the second power supply are connected to each other in parallel, and wherein the first power supply and the second power supply are connected to each other in parallel, and wherein the first power supply and the second power supply are connected to each other in parallel, and wherein the first power supply and the second power supply are connected to each other in parallel, and wherein the first power supply and the second power supply are connected to each other in parallel, and wherein the first power supply and the second power supply are connected to each other in parallel, and wherein the first power supply and the second power supply are connected to each other in parallel, and wherein the first power supply and the second power supply are connected to each other in parallel, and wherein the first power supply and the second power supply are connected to each other in parallel, and wherein the first power supply and the second power supply are connected to each other in parallel, and wherein the first power supply and the second power supply are connected to each other in parallel, and wherein the first power supply and the first power supply and the second power supply are connected to each other in parallel, and wherein the first power supply and the second power supply are connected to each other in parallel, and wherein the first power supply and the second power supply are connected to each other in parallel, and wherein the first power supply and the first power supply and the second power supply are connected to each other in parallel.</p>"
            ]
          },
          "metadata": {}
        },
        {
          "output_type": "display_data",
          "data": {
            "text/plain": [
              "<IPython.core.display.HTML object>"
            ],
            "text/html": [
              "<hr/>"
            ]
          },
          "metadata": {}
        },
        {
          "output_type": "display_data",
          "data": {
            "text/plain": [
              "<IPython.core.display.HTML object>"
            ],
            "text/html": [
              "<h2>Beam search gen</h1>"
            ]
          },
          "metadata": {}
        },
        {
          "output_type": "display_data",
          "data": {
            "text/plain": [
              "<IPython.core.display.HTML object>"
            ],
            "text/html": [
              "<h3>Original claim</h3>"
            ]
          },
          "metadata": {}
        },
        {
          "output_type": "display_data",
          "data": {
            "text/plain": [
              "<IPython.core.display.HTML object>"
            ],
            "text/html": [
              "<p>a semiconductor light emitting element comprising: a first semiconductor layer  of a first conductivity type; a pit formation layer  formed on said first semiconductor layer  and having a pyramidal pit pt caused by a threading dislocation td generated in said first semiconductor layer  ; an active layer  formed on said pit formation layer  and made of ingan-based semiconductor materials, said active layer  having a multi-quantum well structure having well layers wn and barrier layers bn that are laminated alternately in which each well layer and each barrier layer lie one upon another, and said active layer  having a flat portion 14a and an embedded portion 14b which is formed so as to embed said pit; and a second semiconductor layer  formed on said active layer  and having a second conductivity type which is opposite to the first conductivity type, characterized in that said flat portion 14a has flat well portions fwn corresponding to said well layers wn, said embedded portion 14b has embedded well portions iwn corresponding to said well layers wn, each of said embedded well portions iwn has ring portions rwn each of which is formed in an interface with each of said flat well portions fwn so as to surround said threading dislocation td, each of said ring portions rwn has a band gap smaller than that of each of said flat well portions fwn, each of said ring portions rwn has a thickness d1 larger than a thickness d2 of each of said flat well portions fwn corresponding to each of said ring portions rwn, said embedded portion 14b has embedded barrier portions ibn corresponding to said barrier layers bn, said embedded well portions iwn and said embedded barrier portions ibn are configured such that a facet upper end p12 of one of said embedded well portions iwn is formed at a position closer to a center cp of said pit pt than a facet upper end p11 of an adjacent one of said embedded barrier portions ibn, wherein the one embedded well portion iwn is subsequently formed on the adjacent embedded barrier portion ibn.</p>"
            ]
          },
          "metadata": {}
        },
        {
          "output_type": "display_data",
          "data": {
            "text/plain": [
              "<IPython.core.display.HTML object>"
            ],
            "text/html": [
              "<h3>Beam search claim (sacreBLEU = 0.5455890871371512)</h3>"
            ]
          },
          "metadata": {}
        },
        {
          "output_type": "display_data",
          "data": {
            "text/plain": [
              "<IPython.core.display.HTML object>"
            ],
            "text/html": [
              "<p>a semiconductor light emitting element comprising:a nitride semiconductor layer grown on a substrate;a threading dislocation formed in the nitride semiconductor layer;a pit having inclined side surfaces surrounding the threading dislocation; andan active layer grown on the pit after pit formation, wherein the active layer is layered on the inclined side surface of the pit at a growth rate slower than that on the other portion of the active layer.</p>"
            ]
          },
          "metadata": {}
        },
        {
          "output_type": "display_data",
          "data": {
            "text/plain": [
              "<IPython.core.display.HTML object>"
            ],
            "text/html": [
              "<hr/>"
            ]
          },
          "metadata": {}
        },
        {
          "output_type": "display_data",
          "data": {
            "text/plain": [
              "<IPython.core.display.HTML object>"
            ],
            "text/html": [
              "<h3>Original claim</h3>"
            ]
          },
          "metadata": {}
        },
        {
          "output_type": "display_data",
          "data": {
            "text/plain": [
              "<IPython.core.display.HTML object>"
            ],
            "text/html": [
              "<p>a compound selected from the group consisting of:</p>"
            ]
          },
          "metadata": {}
        },
        {
          "output_type": "display_data",
          "data": {
            "text/plain": [
              "<IPython.core.display.HTML object>"
            ],
            "text/html": [
              "<h3>Beam search claim (sacreBLEU = 1.34941169475663)</h3>"
            ]
          },
          "metadata": {}
        },
        {
          "output_type": "display_data",
          "data": {
            "text/plain": [
              "<IPython.core.display.HTML object>"
            ],
            "text/html": [
              "<p>an organic light emitting device comprising an anode, a cathode, and an organic layer disposed between the anode and the cathode, wherein the organic layer comprises one or more of the compounds.</p>"
            ]
          },
          "metadata": {}
        },
        {
          "output_type": "display_data",
          "data": {
            "text/plain": [
              "<IPython.core.display.HTML object>"
            ],
            "text/html": [
              "<hr/>"
            ]
          },
          "metadata": {}
        },
        {
          "output_type": "display_data",
          "data": {
            "text/plain": [
              "<IPython.core.display.HTML object>"
            ],
            "text/html": [
              "<h3>Original claim</h3>"
            ]
          },
          "metadata": {}
        },
        {
          "output_type": "display_data",
          "data": {
            "text/plain": [
              "<IPython.core.display.HTML object>"
            ],
            "text/html": [
              "<p>a secondary battery comprising: an electrode assembly; and an exterior member which seals the electrode assembly, wherein the exterior member comprises: a pouch which is flexible; and a can which is connected to the pouch and is formed of a material having a greater hardness than that of the pouch; the said pouch comprising a first sealing portion; a pouch body which is connected to the first sealing portion; and a second sealing portion which is arranged to face the first sealing portion and is connected to the pouch body; characterised in that the can is inserted into the pouch body and is connected to the first sealing portion, the second sealing portion, and the pouch body.</p>"
            ]
          },
          "metadata": {}
        },
        {
          "output_type": "display_data",
          "data": {
            "text/plain": [
              "<IPython.core.display.HTML object>"
            ],
            "text/html": [
              "<h3>Beam search claim (sacreBLEU = 1.367431117088992)</h3>"
            ]
          },
          "metadata": {}
        },
        {
          "output_type": "display_data",
          "data": {
            "text/plain": [
              "<IPython.core.display.HTML object>"
            ],
            "text/html": [
              "<p>a secondary battery comprising:a battery cell ; anda battery housing, the battery housing comprising a plurality of battery cell housing sections, each of the plurality of battery cell housing sections comprising a plurality of battery cell housing sections, each of the plurality of battery cell housing sections comprising a plurality of battery cell housing sections, each of the plurality of battery cell housing sections comprising a plurality of battery cell housing sections, each of the plurality of battery cell housing sections comprising a plurality of battery cell housing sections, each of the plurality of battery cell housing sections comprising a plurality of battery cell housing sections, each of the plurality of battery cell housing sections comprising a plurality of battery cell housing sections, each of the plurality of battery cell housing sections comprising a plurality of battery cell housing sections, each of the plurality of battery cell housing sections comprising a plurality of battery cell housing sections, each of the plurality of battery cell housing sections comprising a plurality of battery cell housing sections, each of the plurality of battery cell housing sections comprising a plurality of battery cell housing sections, each of the plurality of battery cell housing sections comprising a plurality of battery cell housing sections, each of the plurality of battery cell housing sections comprising a plurality of battery cell housing sections, each of the plurality of battery cell housing sections comprising a plurality of battery cell housing sections, each of the plurality of battery cell housing sections comprising a plurality of battery cell housing sections, each of the plurality of battery cell housing sections comprising a plurality of battery cell housing sections, each of the plurality of battery cell housing sections comprising a plurality of battery cell housing sections, each of the plurality of battery cell housing sections comprising a plurality of battery cell housing sections, each of the plurality of battery cell housing sections comprising a plurality of battery cell housing section, each of the plurality of battery cell housing sections comprising a plurality of battery cell housing section comprising a plurality of battery cell housing section, each of the battery cell housing sections comprising a plurality of battery cell housing section comprising a plurality of battery cell housing section, each of the plurality of battery cell housing sections comprising a plurality of battery cell section comprising a plurality of battery cell housing section, each of the battery cell housing comprising a plurality of battery cell section comprising a plurality of battery cell, each of the battery cell comprising a plurality of battery cell housing section comprising a plurality of battery cell housing section of a plurality of battery cell of battery</p>"
            ]
          },
          "metadata": {}
        },
        {
          "output_type": "display_data",
          "data": {
            "text/plain": [
              "<IPython.core.display.HTML object>"
            ],
            "text/html": [
              "<hr/>"
            ]
          },
          "metadata": {}
        },
        {
          "output_type": "display_data",
          "data": {
            "text/plain": [
              "<IPython.core.display.HTML object>"
            ],
            "text/html": [
              "<h3>Original claim</h3>"
            ]
          },
          "metadata": {}
        },
        {
          "output_type": "display_data",
          "data": {
            "text/plain": [
              "<IPython.core.display.HTML object>"
            ],
            "text/html": [
              "<p>a radio system  comprising: a radio unit  comprising a modulator  configured to modulate a digital data signal and a signal interface ; an antenna unit  comprising a signal interface , the antenna unit being physically separate from the radio unit and located remote from the radio unit; and a cable  coupling the signal interface of the radio unit to the signal interface of the antenna unit; wherein the antenna unit further comprises: a digital pre-distortion engine  configured to receive the modulated digital data signal and to pre-distort the modulated digital data signal; a digital to analog converter  configured to convert the pre-distorted digital data signal to a pre-distorted analog data signal; and a power amplifier  configured to amplify the pre-distorted analog data signal, wherein the power amplifier distorts the pre-distorted analog data signal, the distortion introduced by the power amplifier being opposite to the pre-distortion introduced by the digital pre-distortion engine such that the pre-distortion introduced by the digital pre-distortion engine cancels the distortion introduced by the power amplifier; wherein the radio unit further comprises a coefficient computation engine  configured to calculate coefficients used by the digital pre-distortion engine to pre-distort the modulated digital data signal; wherein the digital pre-distortion engine  is configured to receive a feedback signal and the antenna unit further comprises a feedback loop comprising a down converter and an ad converter and wherein the output of the power amplifier is connected to the input of the down converter and the output of the ad converter is connected to the digital pre-distortion engine, the output of the ad converter having a sampling rate wherein the digital pre-distortion engine  is configured to compute feedback data based on the feedback signal and to output the feedback data to the coefficient computation engine  in the radio unit  for use in re-calculating the coefficients, wherein the data rate of the feedback data is less than the sampling rate</p>"
            ]
          },
          "metadata": {}
        },
        {
          "output_type": "display_data",
          "data": {
            "text/plain": [
              "<IPython.core.display.HTML object>"
            ],
            "text/html": [
              "<h3>Beam search claim (sacreBLEU = 1.990327396569082)</h3>"
            ]
          },
          "metadata": {}
        },
        {
          "output_type": "display_data",
          "data": {
            "text/plain": [
              "<IPython.core.display.HTML object>"
            ],
            "text/html": [
              "<p>a radio system comprising:a radio unit comprising a modulator configured to modulate a digital data signal and a signal interface; andan antenna unit comprising a signal interface and a cable coupling the signal interface of the radio unit to the signal interface of the antenna unit, wherein the antenna unit is physically separate from the radio unit and located remote from the radio unit.</p>"
            ]
          },
          "metadata": {}
        },
        {
          "output_type": "display_data",
          "data": {
            "text/plain": [
              "<IPython.core.display.HTML object>"
            ],
            "text/html": [
              "<hr/>"
            ]
          },
          "metadata": {}
        },
        {
          "output_type": "display_data",
          "data": {
            "text/plain": [
              "<IPython.core.display.HTML object>"
            ],
            "text/html": [
              "<h3>Original claim</h3>"
            ]
          },
          "metadata": {}
        },
        {
          "output_type": "display_data",
          "data": {
            "text/plain": [
              "<IPython.core.display.HTML object>"
            ],
            "text/html": [
              "<p>a control system for controlling radiation direction of an antenna beam of an antenna unit , wherein the radiation direction is adjustable in accordance with an actuating signal, the control system comprising: a filtering means 403, 502 connected to a feeder cable 401, 501 configured to carry rf signals and a modulated control signal, wherein said filtering means 403, 502 is arranged to filter out said modulated control signal; an external control unit , attachable to said antenna unit , wherein said external control unit includes a detecting means 406, 602 and a control means , said detecting means 406, 602 is arranged to detect and demodulate said filtered out modulated control signal, and said control means  is arranged to produce the actuating signal in accordance with the detected and demodulated control signal, wherein said filtering means 403, 502 is directly connected to said detecting means 406, 602 located within said external control unit  so as to provide the filtered out modulated control signal directly to said detecting means 406, 602, and wherein said detecting means 406, 602 is arranged to provide said detected and demodulated control signal to said control means  in a format readable by said control means .</p>"
            ]
          },
          "metadata": {}
        },
        {
          "output_type": "display_data",
          "data": {
            "text/plain": [
              "<IPython.core.display.HTML object>"
            ],
            "text/html": [
              "<h3>Beam search claim (sacreBLEU = 2.5272333447814503)</h3>"
            ]
          },
          "metadata": {}
        },
        {
          "output_type": "display_data",
          "data": {
            "text/plain": [
              "<IPython.core.display.HTML object>"
            ],
            "text/html": [
              "<p>an antenna beam radiation direction control system for controlling radiation direction of an antenna beam, comprising:- a ret remote-controlled electrical down-tilt unit ;- a filtering means ;- an external control unit ; and- a ret remote-controlled electrical down-tilt unit, characterized in that- the filtering means and the external control unit are directly connected to each other.</p>"
            ]
          },
          "metadata": {}
        },
        {
          "output_type": "display_data",
          "data": {
            "text/plain": [
              "<IPython.core.display.HTML object>"
            ],
            "text/html": [
              "<hr/>"
            ]
          },
          "metadata": {}
        },
        {
          "output_type": "display_data",
          "data": {
            "text/plain": [
              "<IPython.core.display.HTML object>"
            ],
            "text/html": [
              "<h1>bigbird less samples</h1>"
            ]
          },
          "metadata": {}
        },
        {
          "output_type": "display_data",
          "data": {
            "text/plain": [
              "<IPython.core.display.HTML object>"
            ],
            "text/html": [
              "<h2>Greedy search gen</h1>"
            ]
          },
          "metadata": {}
        },
        {
          "output_type": "display_data",
          "data": {
            "text/plain": [
              "<IPython.core.display.HTML object>"
            ],
            "text/html": [
              "<h3>Original claim</h3>"
            ]
          },
          "metadata": {}
        },
        {
          "output_type": "display_data",
          "data": {
            "text/plain": [
              "<IPython.core.display.HTML object>"
            ],
            "text/html": [
              "<p>a semiconductor light emitting element comprising: a first semiconductor layer  of a first conductivity type; a pit formation layer  formed on said first semiconductor layer  and having a pyramidal pit pt caused by a threading dislocation td generated in said first semiconductor layer  ; an active layer  formed on said pit formation layer  and made of ingan-based semiconductor materials, said active layer  having a multi-quantum well structure having well layers wn and barrier layers bn that are laminated alternately in which each well layer and each barrier layer lie one upon another, and said active layer  having a flat portion 14a and an embedded portion 14b which is formed so as to embed said pit; and a second semiconductor layer  formed on said active layer  and having a second conductivity type which is opposite to the first conductivity type, characterized in that said flat portion 14a has flat well portions fwn corresponding to said well layers wn, said embedded portion 14b has embedded well portions iwn corresponding to said well layers wn, each of said embedded well portions iwn has ring portions rwn each of which is formed in an interface with each of said flat well portions fwn so as to surround said threading dislocation td, each of said ring portions rwn has a band gap smaller than that of each of said flat well portions fwn, each of said ring portions rwn has a thickness d1 larger than a thickness d2 of each of said flat well portions fwn corresponding to each of said ring portions rwn, said embedded portion 14b has embedded barrier portions ibn corresponding to said barrier layers bn, said embedded well portions iwn and said embedded barrier portions ibn are configured such that a facet upper end p12 of one of said embedded well portions iwn is formed at a position closer to a center cp of said pit pt than a facet upper end p11 of an adjacent one of said embedded barrier portions ibn, wherein the one embedded well portion iwn is subsequently formed on the adjacent embedded barrier portion ibn.</p>"
            ]
          },
          "metadata": {}
        },
        {
          "output_type": "display_data",
          "data": {
            "text/plain": [
              "<IPython.core.display.HTML object>"
            ],
            "text/html": [
              "<h3>Greedy search claim (sacreBLEU = 0.0272613942534874)</h3>"
            ]
          },
          "metadata": {}
        },
        {
          "output_type": "display_data",
          "data": {
            "text/plain": [
              "<IPython.core.display.HTML object>"
            ],
            "text/html": [
              "<p>a semiconductor light emitting element comprising: a nitride semiconductor layer grown on a substrate made of a material different from a nitride semiconductor; and crystal defects misfit dislocations occur at an interface between the substrate and the semiconductor layer due to their lattice mismatch.</p>"
            ]
          },
          "metadata": {}
        },
        {
          "output_type": "display_data",
          "data": {
            "text/plain": [
              "<IPython.core.display.HTML object>"
            ],
            "text/html": [
              "<hr/>"
            ]
          },
          "metadata": {}
        },
        {
          "output_type": "display_data",
          "data": {
            "text/plain": [
              "<IPython.core.display.HTML object>"
            ],
            "text/html": [
              "<h3>Original claim</h3>"
            ]
          },
          "metadata": {}
        },
        {
          "output_type": "display_data",
          "data": {
            "text/plain": [
              "<IPython.core.display.HTML object>"
            ],
            "text/html": [
              "<p>a radio system  comprising: a radio unit  comprising a modulator  configured to modulate a digital data signal and a signal interface ; an antenna unit  comprising a signal interface , the antenna unit being physically separate from the radio unit and located remote from the radio unit; and a cable  coupling the signal interface of the radio unit to the signal interface of the antenna unit; wherein the antenna unit further comprises: a digital pre-distortion engine  configured to receive the modulated digital data signal and to pre-distort the modulated digital data signal; a digital to analog converter  configured to convert the pre-distorted digital data signal to a pre-distorted analog data signal; and a power amplifier  configured to amplify the pre-distorted analog data signal, wherein the power amplifier distorts the pre-distorted analog data signal, the distortion introduced by the power amplifier being opposite to the pre-distortion introduced by the digital pre-distortion engine such that the pre-distortion introduced by the digital pre-distortion engine cancels the distortion introduced by the power amplifier; wherein the radio unit further comprises a coefficient computation engine  configured to calculate coefficients used by the digital pre-distortion engine to pre-distort the modulated digital data signal; wherein the digital pre-distortion engine  is configured to receive a feedback signal and the antenna unit further comprises a feedback loop comprising a down converter and an ad converter and wherein the output of the power amplifier is connected to the input of the down converter and the output of the ad converter is connected to the digital pre-distortion engine, the output of the ad converter having a sampling rate wherein the digital pre-distortion engine  is configured to compute feedback data based on the feedback signal and to output the feedback data to the coefficient computation engine  in the radio unit  for use in re-calculating the coefficients, wherein the data rate of the feedback data is less than the sampling rate</p>"
            ]
          },
          "metadata": {}
        },
        {
          "output_type": "display_data",
          "data": {
            "text/plain": [
              "<IPython.core.display.HTML object>"
            ],
            "text/html": [
              "<h3>Greedy search claim (sacreBLEU = 0.332027919091108)</h3>"
            ]
          },
          "metadata": {}
        },
        {
          "output_type": "display_data",
          "data": {
            "text/plain": [
              "<IPython.core.display.HTML object>"
            ],
            "text/html": [
              "<p>a radio system comprising a radio unit comprising a modulator configured to modulate a digital data signal and a signal interface; and an antenna unit comprising a signal interface and a cable coupling the signal interface of the radio unit to the signal interface of the antenna unit.</p>"
            ]
          },
          "metadata": {}
        },
        {
          "output_type": "display_data",
          "data": {
            "text/plain": [
              "<IPython.core.display.HTML object>"
            ],
            "text/html": [
              "<hr/>"
            ]
          },
          "metadata": {}
        },
        {
          "output_type": "display_data",
          "data": {
            "text/plain": [
              "<IPython.core.display.HTML object>"
            ],
            "text/html": [
              "<h3>Original claim</h3>"
            ]
          },
          "metadata": {}
        },
        {
          "output_type": "display_data",
          "data": {
            "text/plain": [
              "<IPython.core.display.HTML object>"
            ],
            "text/html": [
              "<p>a communication system comprising: a connection control apparatus  configured to receive a connection request message that requests a connection to a network  from a first communication apparatus  included in a plurality of communication apparatuses in which a synchronous communication is limited and allow the first communication apparatus  to be temporarily connected to the network  when the connection request message corresponds to a message that requests a temporary communication; and a communication timing control apparatus  configured to transmit, when the communication timing control apparatus  receives a communication timing request message that requests acquisition of the communication timing from the first communication apparatus  while the first communication apparatus  is allowed to be temporarily connected to the network , a communication allowable timing notification message indicating a communication timing to the first communication apparatus  while the first communication apparatus  is allowed to be temporarily connected to the network ; wherein the communication timing control apparatus  is configured to start a collective accept timer when the communication timing control apparatus  receives the communication timing request message from the first communication apparatus , and when the communication timing control apparatus  receives the communication timing request message from a second communication apparatus  included in the plurality of communication apparatuses while the collective accept timer is being activated, calculate a communication timing of the second communication apparatus  and update the communication timing of the first communication apparatus .</p>"
            ]
          },
          "metadata": {}
        },
        {
          "output_type": "display_data",
          "data": {
            "text/plain": [
              "<IPython.core.display.HTML object>"
            ],
            "text/html": [
              "<h3>Greedy search claim (sacreBLEU = 0.4094701739428715)</h3>"
            ]
          },
          "metadata": {}
        },
        {
          "output_type": "display_data",
          "data": {
            "text/plain": [
              "<IPython.core.display.HTML object>"
            ],
            "text/html": [
              "<p>a communication system comprising a connection control apparatus configured to control a connection between a mobile device and a core network, wherein the connection control apparatus is configured to send a notification of a communication timing to the core network.</p>"
            ]
          },
          "metadata": {}
        },
        {
          "output_type": "display_data",
          "data": {
            "text/plain": [
              "<IPython.core.display.HTML object>"
            ],
            "text/html": [
              "<hr/>"
            ]
          },
          "metadata": {}
        },
        {
          "output_type": "display_data",
          "data": {
            "text/plain": [
              "<IPython.core.display.HTML object>"
            ],
            "text/html": [
              "<h3>Original claim</h3>"
            ]
          },
          "metadata": {}
        },
        {
          "output_type": "display_data",
          "data": {
            "text/plain": [
              "<IPython.core.display.HTML object>"
            ],
            "text/html": [
              "<p>a secondary battery comprising: an electrode assembly; and an exterior member which seals the electrode assembly, wherein the exterior member comprises: a pouch which is flexible; and a can which is connected to the pouch and is formed of a material having a greater hardness than that of the pouch; the said pouch comprising a first sealing portion; a pouch body which is connected to the first sealing portion; and a second sealing portion which is arranged to face the first sealing portion and is connected to the pouch body; characterised in that the can is inserted into the pouch body and is connected to the first sealing portion, the second sealing portion, and the pouch body.</p>"
            ]
          },
          "metadata": {}
        },
        {
          "output_type": "display_data",
          "data": {
            "text/plain": [
              "<IPython.core.display.HTML object>"
            ],
            "text/html": [
              "<h3>Greedy search claim (sacreBLEU = 0.6514677181069619)</h3>"
            ]
          },
          "metadata": {}
        },
        {
          "output_type": "display_data",
          "data": {
            "text/plain": [
              "<IPython.core.display.HTML object>"
            ],
            "text/html": [
              "<p>according to the invention, a secondary battery comprises a battery cell and a battery cover, wherein said battery cell comprises a plurality of battery cells and said battery cover comprises a plurality of battery cells, and wherein said battery cells comprise a plurality of battery cells, and wherein said battery cells comprise a plurality of battery cells, and wherein said battery cells comprise a plurality of battery cells, and wherein said battery cells comprise a plurality of battery cells, and wherein said battery cells comprise a plurality of battery cells, and wherein said battery cells comprise a plurality of battery cells, and wherein said battery cells comprise a plurality of battery cells, and wherein said battery cells comprise a plurality of battery cells, and wherein said battery cells comprise a plurality of battery cells, and wherein said battery cells comprise a plurality of battery cells, and wherein said battery cells comprise a plurality of battery cells, and wherein said battery cells comprise a plurality of battery cells, and wherein said battery cells comprise a plurality of battery cells, and wherein said battery cells comprise a plurality of battery cells, and wherein said battery cells comprise a plurality of battery cells, and wherein said battery cells comprise a plurality of battery cells, and wherein said battery cells comprise a plurality of battery cells, and wherein said battery cells comprise a plurality of battery cells, and wherein said battery cells comprise a plurality of battery cells, and wherein said battery cells comprise a plurality of battery cells, and wherein said battery cells comprise a plurality of battery cells, and wherein said battery cells comprise a plurality of battery cells, and wherein said battery cells comprise a plurality of battery cells, and wherein said battery cell comprises a plurality of battery cells, and wherein said battery cell comprises a plurality of battery cell cover, and wherein said battery cell comprises a plurality of battery cells, and wherein said battery cell comprises a plurality of battery cells, and wherein said battery cover comprises a plurality of battery cover, and wherein said battery cover comprises a plurality of battery cover, and wherein said battery cover comprises a plurality of battery cell, and wherein said battery cover comprises a plurality of battery cell, and wherein said battery cover comprises a plurality of battery cell, and wherein said battery cell, and wherein said battery cells comprise a plurality of battery cell, and wherein said battery cover comprises a plurality of battery cell, and wherein said battery cover comprises a plurality of</p>"
            ]
          },
          "metadata": {}
        },
        {
          "output_type": "display_data",
          "data": {
            "text/plain": [
              "<IPython.core.display.HTML object>"
            ],
            "text/html": [
              "<hr/>"
            ]
          },
          "metadata": {}
        },
        {
          "output_type": "display_data",
          "data": {
            "text/plain": [
              "<IPython.core.display.HTML object>"
            ],
            "text/html": [
              "<h3>Original claim</h3>"
            ]
          },
          "metadata": {}
        },
        {
          "output_type": "display_data",
          "data": {
            "text/plain": [
              "<IPython.core.display.HTML object>"
            ],
            "text/html": [
              "<p>a semiconductor light emitting element comprising: a first semiconductor layer  of a first conductivity type; a pit formation layer  formed on said first semiconductor layer  and having a pyramidal pit pt caused by a threading dislocation td generated in said first semiconductor layer ; an active layer  formed on said pit formation layer  and made of ingan-based semiconductor materials, said active layer  having a multi-quantum well structure having well layers wn and barrier layers bn that are laminated alternately in which each well layer and each barrier layer lie one upon another, and said active layer  having an embedded portion 14a formed so as to embed said pit pt; an electron blocking layer  formed on said active layer  to cover said embedded portion 14a; and a second semiconductor layer  formed on said electron blocking layer  and having a second conductivity type which is opposite to said first conductivity type, characterized in that said embedded portion 14a has embedded well portions iwn corresponding to said well layers wn respectively and embedded barrier portions ibn corresponding to said barrier layers bn respectively, each of said embedded well portions iwn and said embedded barrier portions ibn is configured such that, with respect to each iw, iw of said embedded well portions iwn and each ib, ib of said embedded barrier portions ibn which are situated adjacent to each other, a second apex angle y1,y2 of an apex pw, pw of said each of said embedded well portions iwn is smaller than a first apex angle x1, x2 of an apex pb , pb  of said each of said embedded barrier portions ibn wherein said each of said embedded well portions iwn is subsequently formed on said each of said embedded barrier portions ibn, said embedded well portions iwn are configured so as to have apex angles which are gradually increased respectively as the embedded well portions iwn approach said second semiconductor layer , said embedded barrier portions ibn are configured so as to have apex angles which are gradually increased respectively as the embedded barrier portions ibn approach said second semiconductor layer , so that said embedded portion 14a has a recess portion rc placed on an upper interface with said electron blocking layer  above said pyramidal pit pt, said recess portion rc has an apex 14p placed at a position existing in a layered direction of said active layer  within said active layer , the depth d of the apex 14p of said recess rc with regard to the interface between the active layer  and the electron blocking layer  outside the embedded portion 14a exceeding the well layer wn the nearest to said electron blocking layer  outside the embedded portion 14a.</p>"
            ]
          },
          "metadata": {}
        },
        {
          "output_type": "display_data",
          "data": {
            "text/plain": [
              "<IPython.core.display.HTML object>"
            ],
            "text/html": [
              "<h3>Greedy search claim (sacreBLEU = 1.227276084156328)</h3>"
            ]
          },
          "metadata": {}
        },
        {
          "output_type": "display_data",
          "data": {
            "text/plain": [
              "<IPython.core.display.HTML object>"
            ],
            "text/html": [
              "<p>a semiconductor light emitting element, comprising: a p-type semiconductor layer grown on a substrate made of a material different from a nitride semiconductor; a p-type semiconductor layer grown on the p-type semiconductor layer; a threading dislocation extending in a layered direction of the p-type semiconductor layer; and a threading dislocation misfit dislocation occurring at an interface between the substrate and the p-type semiconductor layer due to a lattice mismatch between the p-type semiconductor layer and the p-type semiconductor layer; and an electron blocking layer grown on the threading dislocation misfit dislocation, wherein the electron blocking layer is layered on the threading dislocation misfit dislocation at a growth rate slower than that on the other portion flat portion.</p>"
            ]
          },
          "metadata": {}
        },
        {
          "output_type": "display_data",
          "data": {
            "text/plain": [
              "<IPython.core.display.HTML object>"
            ],
            "text/html": [
              "<hr/>"
            ]
          },
          "metadata": {}
        },
        {
          "output_type": "display_data",
          "data": {
            "text/plain": [
              "<IPython.core.display.HTML object>"
            ],
            "text/html": [
              "<h2>Beam search gen</h1>"
            ]
          },
          "metadata": {}
        },
        {
          "output_type": "display_data",
          "data": {
            "text/plain": [
              "<IPython.core.display.HTML object>"
            ],
            "text/html": [
              "<h3>Original claim</h3>"
            ]
          },
          "metadata": {}
        },
        {
          "output_type": "display_data",
          "data": {
            "text/plain": [
              "<IPython.core.display.HTML object>"
            ],
            "text/html": [
              "<p>a power supply  comprising: a plurality of power modules pm1-pmn, input terminals of the plurality of power modules pm1-pmn being electrically connected in series, output terminals of the plurality of power modules pm1-pmn being electrically connected in parallel; wherein each of the plurality of power modules pm1-pmn comprises: a first converter  configured to convert an input voltage into an intermediate voltage, wherein the intermediate voltage is dc; and a second converter  configured to output a dc supply voltage according to the intermediate voltage, wherein the first converters  in the power modules pm1-pmn are configured to be controlled with at least one first common control signal having a common duty cycle, wherein the second converters  in the power modules pm1-pmn are configured to be controlled with at least one second common control signal having a common duty cycle, wherein the at least one first common control signal is determined according to the input voltage, an input current corresponding to the input voltage, and the intermediate voltages in the power modules pm1-pmn, and wherein the at least one second common control signal is determined according to the dc supply voltage.</p>"
            ]
          },
          "metadata": {}
        },
        {
          "output_type": "display_data",
          "data": {
            "text/plain": [
              "<IPython.core.display.HTML object>"
            ],
            "text/html": [
              "<h3>Beam search claim (sacreBLEU = 0.0368731684654685)</h3>"
            ]
          },
          "metadata": {}
        },
        {
          "output_type": "display_data",
          "data": {
            "text/plain": [
              "<IPython.core.display.HTML object>"
            ],
            "text/html": [
              "<p>a power supply includes a plurality of power modules. each of the plurality of power modules includes a first converter and a second converter.</p>"
            ]
          },
          "metadata": {}
        },
        {
          "output_type": "display_data",
          "data": {
            "text/plain": [
              "<IPython.core.display.HTML object>"
            ],
            "text/html": [
              "<hr/>"
            ]
          },
          "metadata": {}
        },
        {
          "output_type": "display_data",
          "data": {
            "text/plain": [
              "<IPython.core.display.HTML object>"
            ],
            "text/html": [
              "<h3>Original claim</h3>"
            ]
          },
          "metadata": {}
        },
        {
          "output_type": "display_data",
          "data": {
            "text/plain": [
              "<IPython.core.display.HTML object>"
            ],
            "text/html": [
              "<p>a communication system comprising: a connection control apparatus  configured to receive a connection request message that requests a connection to a network  from a first communication apparatus  included in a plurality of communication apparatuses in which a synchronous communication is limited and allow the first communication apparatus  to be temporarily connected to the network  when the connection request message corresponds to a message that requests a temporary communication; and a communication timing control apparatus  configured to transmit, when the communication timing control apparatus  receives a communication timing request message that requests acquisition of the communication timing from the first communication apparatus  while the first communication apparatus  is allowed to be temporarily connected to the network , a communication allowable timing notification message indicating a communication timing to the first communication apparatus  while the first communication apparatus  is allowed to be temporarily connected to the network ; wherein the communication timing control apparatus  is configured to start a collective accept timer when the communication timing control apparatus  receives the communication timing request message from the first communication apparatus , and when the communication timing control apparatus  receives the communication timing request message from a second communication apparatus  included in the plurality of communication apparatuses while the collective accept timer is being activated, calculate a communication timing of the second communication apparatus  and update the communication timing of the first communication apparatus .</p>"
            ]
          },
          "metadata": {}
        },
        {
          "output_type": "display_data",
          "data": {
            "text/plain": [
              "<IPython.core.display.HTML object>"
            ],
            "text/html": [
              "<h3>Beam search claim (sacreBLEU = 0.4094701739428715)</h3>"
            ]
          },
          "metadata": {}
        },
        {
          "output_type": "display_data",
          "data": {
            "text/plain": [
              "<IPython.core.display.HTML object>"
            ],
            "text/html": [
              "<p>a communication system comprising a connection control apparatus configured to control a connection between a mobile device and a core network, wherein the connection control apparatus is configured to send a notification of a communication timing to the core network.</p>"
            ]
          },
          "metadata": {}
        },
        {
          "output_type": "display_data",
          "data": {
            "text/plain": [
              "<IPython.core.display.HTML object>"
            ],
            "text/html": [
              "<hr/>"
            ]
          },
          "metadata": {}
        },
        {
          "output_type": "display_data",
          "data": {
            "text/plain": [
              "<IPython.core.display.HTML object>"
            ],
            "text/html": [
              "<h3>Original claim</h3>"
            ]
          },
          "metadata": {}
        },
        {
          "output_type": "display_data",
          "data": {
            "text/plain": [
              "<IPython.core.display.HTML object>"
            ],
            "text/html": [
              "<p>a secondary battery comprising: an electrode assembly; and an exterior member which seals the electrode assembly, wherein the exterior member comprises: a pouch which is flexible; and a can which is connected to the pouch and is formed of a material having a greater hardness than that of the pouch; the said pouch comprising a first sealing portion; a pouch body which is connected to the first sealing portion; and a second sealing portion which is arranged to face the first sealing portion and is connected to the pouch body; characterised in that the can is inserted into the pouch body and is connected to the first sealing portion, the second sealing portion, and the pouch body.</p>"
            ]
          },
          "metadata": {}
        },
        {
          "output_type": "display_data",
          "data": {
            "text/plain": [
              "<IPython.core.display.HTML object>"
            ],
            "text/html": [
              "<h3>Beam search claim (sacreBLEU = 0.6514677181069619)</h3>"
            ]
          },
          "metadata": {}
        },
        {
          "output_type": "display_data",
          "data": {
            "text/plain": [
              "<IPython.core.display.HTML object>"
            ],
            "text/html": [
              "<p>according to the invention, a secondary battery comprises a battery cell and a battery cover, wherein said battery cell comprises a plurality of battery cells and said battery cover comprises a plurality of battery cells, and wherein said battery cells comprise a plurality of battery cells, and wherein said battery cells comprise a plurality of battery cells, and wherein said battery cells comprise a plurality of battery cells, and wherein said battery cells comprise a plurality of battery cells, and wherein said battery cells comprise a plurality of battery cells, and wherein said battery cells comprise a plurality of battery cells, and wherein said battery cells comprise a plurality of battery cells, and wherein said battery cells comprise a plurality of battery cells, and wherein said battery cells comprise a plurality of battery cells, and wherein said battery cells comprise a plurality of battery cells, and wherein said battery cells comprise a plurality of battery cells, and wherein said battery cells comprise a plurality of battery cells, and wherein said battery cells comprise a plurality of battery cells, and wherein said battery cells comprise a plurality of battery cells, and wherein said battery cells comprise a plurality of battery cells, and wherein said battery cells comprise a plurality of battery cells, and wherein said battery cells comprise a plurality of battery cells, and wherein said battery cells comprise a plurality of battery cells, and wherein said battery cells comprise a plurality of battery cells, and wherein said battery cells comprise a plurality of battery cells, and wherein said battery cells comprise a plurality of battery cells, and wherein said battery cells comprise a plurality of battery cells, and wherein said battery cells comprise a plurality of battery cells, and wherein said battery cell comprises a plurality of battery cell cover, and wherein said battery cover comprises a plurality of battery cell cell cell cover, and wherein said battery cover comprises a plurality of battery cells, and wherein said battery cover comprises a plurality of battery cell, and wherein said battery cover comprises a plurality of battery cover, and wherein said battery cover comprises a plurality of battery cell, and wherein said battery cover comprises a plurality of battery cell, and wherein said battery cover comprises a plurality of battery cell, and said battery cover, and wherein said battery cover comprises a plurality of battery cell, and wherein said battery cover comprises a plurality of battery cell, and wherein said battery cover comprises a plurality of battery cell, and wherein said battery cover comprises a</p>"
            ]
          },
          "metadata": {}
        },
        {
          "output_type": "display_data",
          "data": {
            "text/plain": [
              "<IPython.core.display.HTML object>"
            ],
            "text/html": [
              "<hr/>"
            ]
          },
          "metadata": {}
        },
        {
          "output_type": "display_data",
          "data": {
            "text/plain": [
              "<IPython.core.display.HTML object>"
            ],
            "text/html": [
              "<h3>Original claim</h3>"
            ]
          },
          "metadata": {}
        },
        {
          "output_type": "display_data",
          "data": {
            "text/plain": [
              "<IPython.core.display.HTML object>"
            ],
            "text/html": [
              "<p>a semiconductor light emitting element comprising: a first semiconductor layer  of a first conductivity type; a pit formation layer  formed on said first semiconductor layer  and having a pyramidal pit pt caused by a threading dislocation td generated in said first semiconductor layer  ; an active layer  formed on said pit formation layer  and made of ingan-based semiconductor materials, said active layer  having a multi-quantum well structure having well layers wn and barrier layers bn that are laminated alternately in which each well layer and each barrier layer lie one upon another, and said active layer  having a flat portion 14a and an embedded portion 14b which is formed so as to embed said pit; and a second semiconductor layer  formed on said active layer  and having a second conductivity type which is opposite to the first conductivity type, characterized in that said flat portion 14a has flat well portions fwn corresponding to said well layers wn, said embedded portion 14b has embedded well portions iwn corresponding to said well layers wn, each of said embedded well portions iwn has ring portions rwn each of which is formed in an interface with each of said flat well portions fwn so as to surround said threading dislocation td, each of said ring portions rwn has a band gap smaller than that of each of said flat well portions fwn, each of said ring portions rwn has a thickness d1 larger than a thickness d2 of each of said flat well portions fwn corresponding to each of said ring portions rwn, said embedded portion 14b has embedded barrier portions ibn corresponding to said barrier layers bn, said embedded well portions iwn and said embedded barrier portions ibn are configured such that a facet upper end p12 of one of said embedded well portions iwn is formed at a position closer to a center cp of said pit pt than a facet upper end p11 of an adjacent one of said embedded barrier portions ibn, wherein the one embedded well portion iwn is subsequently formed on the adjacent embedded barrier portion ibn.</p>"
            ]
          },
          "metadata": {}
        },
        {
          "output_type": "display_data",
          "data": {
            "text/plain": [
              "<IPython.core.display.HTML object>"
            ],
            "text/html": [
              "<h3>Beam search claim (sacreBLEU = 0.9174085845645186)</h3>"
            ]
          },
          "metadata": {}
        },
        {
          "output_type": "display_data",
          "data": {
            "text/plain": [
              "<IPython.core.display.HTML object>"
            ],
            "text/html": [
              "<p>a semiconductor light emitting element comprising: a nitride semiconductor layer grown on a substrate made of a material different from a nitride semiconductor; a threading dislocation extending in a layered direction of the nitride semiconductor layer; and crystal defects misfit dislocations occurring at an interface between the substrate and the semiconductor layer due to their lattice mismatch, wherein the crystal defects misfit dislocations are formed so as to penetrate the nitride semiconductor layer in the layered direction of the nitride semiconductor layer during crystal growth.</p>"
            ]
          },
          "metadata": {}
        },
        {
          "output_type": "display_data",
          "data": {
            "text/plain": [
              "<IPython.core.display.HTML object>"
            ],
            "text/html": [
              "<hr/>"
            ]
          },
          "metadata": {}
        },
        {
          "output_type": "display_data",
          "data": {
            "text/plain": [
              "<IPython.core.display.HTML object>"
            ],
            "text/html": [
              "<h3>Original claim</h3>"
            ]
          },
          "metadata": {}
        },
        {
          "output_type": "display_data",
          "data": {
            "text/plain": [
              "<IPython.core.display.HTML object>"
            ],
            "text/html": [
              "<p>a semiconductor light emitting element comprising: a first semiconductor layer  of a first conductivity type; a pit formation layer  formed on said first semiconductor layer  and having a pyramidal pit pt caused by a threading dislocation td generated in said first semiconductor layer ; an active layer  formed on said pit formation layer  and made of ingan-based semiconductor materials, said active layer  having a multi-quantum well structure having well layers wn and barrier layers bn that are laminated alternately in which each well layer and each barrier layer lie one upon another, and said active layer  having an embedded portion 14a formed so as to embed said pit pt; an electron blocking layer  formed on said active layer  to cover said embedded portion 14a; and a second semiconductor layer  formed on said electron blocking layer  and having a second conductivity type which is opposite to said first conductivity type, characterized in that said embedded portion 14a has embedded well portions iwn corresponding to said well layers wn respectively and embedded barrier portions ibn corresponding to said barrier layers bn respectively, each of said embedded well portions iwn and said embedded barrier portions ibn is configured such that, with respect to each iw, iw of said embedded well portions iwn and each ib, ib of said embedded barrier portions ibn which are situated adjacent to each other, a second apex angle y1,y2 of an apex pw, pw of said each of said embedded well portions iwn is smaller than a first apex angle x1, x2 of an apex pb , pb  of said each of said embedded barrier portions ibn wherein said each of said embedded well portions iwn is subsequently formed on said each of said embedded barrier portions ibn, said embedded well portions iwn are configured so as to have apex angles which are gradually increased respectively as the embedded well portions iwn approach said second semiconductor layer , said embedded barrier portions ibn are configured so as to have apex angles which are gradually increased respectively as the embedded barrier portions ibn approach said second semiconductor layer , so that said embedded portion 14a has a recess portion rc placed on an upper interface with said electron blocking layer  above said pyramidal pit pt, said recess portion rc has an apex 14p placed at a position existing in a layered direction of said active layer  within said active layer , the depth d of the apex 14p of said recess rc with regard to the interface between the active layer  and the electron blocking layer  outside the embedded portion 14a exceeding the well layer wn the nearest to said electron blocking layer  outside the embedded portion 14a.</p>"
            ]
          },
          "metadata": {}
        },
        {
          "output_type": "display_data",
          "data": {
            "text/plain": [
              "<IPython.core.display.HTML object>"
            ],
            "text/html": [
              "<h3>Beam search claim (sacreBLEU = 1.0768639635312969)</h3>"
            ]
          },
          "metadata": {}
        },
        {
          "output_type": "display_data",
          "data": {
            "text/plain": [
              "<IPython.core.display.HTML object>"
            ],
            "text/html": [
              "<p>a semiconductor light emitting element, comprising: a p-type semiconductor layer grown on a substrate made of a material different from a nitride semiconductor; a p-type semiconductor layer grown on the p-type semiconductor layer; a threading dislocation formed in the p-type semiconductor layer; and a threading dislocation misfit dislocation occurring at an interface between the substrate and the p-type semiconductor layer due to a lattice mismatch between the p-type semiconductor layer and the p-type semiconductor layer; and an electron blocking layer formed on the threading dislocation misfit dislocation, wherein the electron blocking layer is layered on the threading dislocation misfit dislocation at a growth rate slower than that on the other portion flat portion.</p>"
            ]
          },
          "metadata": {}
        },
        {
          "output_type": "display_data",
          "data": {
            "text/plain": [
              "<IPython.core.display.HTML object>"
            ],
            "text/html": [
              "<hr/>"
            ]
          },
          "metadata": {}
        }
      ]
    },
    {
      "cell_type": "markdown",
      "source": [
        "It's difficult to assess errors manually but we can already see the biggest problem of BART: it seems to be difficult for it to generalize enough to interpret the summary and build a claim from it instead of just building a few lines summary of the summary itself.\n",
        "\n",
        "BigBird instead seems to be capable of performing such a task, however the most common error is repetitive text.\n",
        "This might be a sign of overfitting of the model on the dataset we provided or not enough time spent on training, hence additional training would help generalize even further.\n",
        "\n",
        "While the former case would be harder to diagnose, the latter is more probable. We made use of a model with reduced capabilities by setting its hyperparameters in such a way that we would be able to train it on the resources at our disposale and we couldn't even finish one epoch without getting restricted access by Google Colab.\n",
        "It's safe to say that, with more resource available and additional time spent into training the model, we would be able to obtain better results.\n",
        "We could try to tamper this problem by tweaking the generation process and avoiding the generation of repeated ngrams.\n",
        "The generation method doesn't seem to play any role."
      ],
      "metadata": {
        "id": "PvT61gRtu-wx"
      },
      "id": "PvT61gRtu-wx"
    },
    {
      "cell_type": "code",
      "source": [
        "from IPython.display import display, HTML\n",
        "\n",
        "for model, metric in metrics.items():\n",
        "  display(HTML(f\"<h1>{model}</h1>\"))\n",
        "  display(HTML(f\"<h2>Greedy search gen</h1>\"))\n",
        "  badly_generated = metric.sort_values([\"greedy_gen_bleurt\"]).iloc[:5]\n",
        "  for idx, bg in badly_generated.iterrows():\n",
        "    display(HTML(f\"<h3>Original claim</h3>\"))\n",
        "    display(HTML(f\"<p>{ bg.claim }</p>\"))\n",
        "    display(HTML(f\"<h3>Greedy search claim (BLEURT = {bg.greedy_gen_bleurt})</h3>\"))\n",
        "    display(HTML(f\"<p>{ bg.greedy_gen }</p>\"))\n",
        "    display(HTML(f\"<hr/>\"))\n",
        "\n",
        "  display(HTML(f\"<h2>Beam search gen</h1>\"))\n",
        "  badly_generated = metric.sort_values([\"beam1_gen_bleurt\"]).iloc[:5]\n",
        "  for idx, bg in badly_generated.iterrows():\n",
        "    display(HTML(f\"<h3>Original claim</h3>\"))\n",
        "    display(HTML(f\"<p>{ bg.claim }</p>\"))\n",
        "    display(HTML(f\"<h3>Beam search claim (BLEURT = {bg.beam1_gen_bleurt})</h3>\"))\n",
        "    display(HTML(f\"<p>{ bg.beam1_gen }</p>\"))\n",
        "    display(HTML(f\"<hr/>\"))"
      ],
      "metadata": {
        "colab": {
          "base_uri": "https://localhost:8080/",
          "height": 1000
        },
        "id": "VlRdwrFzCE5v",
        "outputId": "0d47bc7a-0d45-4495-a633-a615e63cbc96"
      },
      "id": "VlRdwrFzCE5v",
      "execution_count": 153,
      "outputs": [
        {
          "output_type": "display_data",
          "data": {
            "text/plain": [
              "<IPython.core.display.HTML object>"
            ],
            "text/html": [
              "<h1>bart</h1>"
            ]
          },
          "metadata": {}
        },
        {
          "output_type": "display_data",
          "data": {
            "text/plain": [
              "<IPython.core.display.HTML object>"
            ],
            "text/html": [
              "<h2>Greedy search gen</h1>"
            ]
          },
          "metadata": {}
        },
        {
          "output_type": "display_data",
          "data": {
            "text/plain": [
              "<IPython.core.display.HTML object>"
            ],
            "text/html": [
              "<h3>Original claim</h3>"
            ]
          },
          "metadata": {}
        },
        {
          "output_type": "display_data",
          "data": {
            "text/plain": [
              "<IPython.core.display.HTML object>"
            ],
            "text/html": [
              "<p>a semiconductor light emitting element comprising: a first semiconductor layer  of a first conductivity type; a pit formation layer  formed on said first semiconductor layer  and having a pyramidal pit pt caused by a threading dislocation td generated in said first semiconductor layer ; an active layer  formed on said pit formation layer  and made of ingan-based semiconductor materials, said active layer  having a multi-quantum well structure having well layers wn and barrier layers bn that are laminated alternately in which each well layer and each barrier layer lie one upon another, and said active layer  having an embedded portion 14a formed so as to embed said pit pt; an electron blocking layer  formed on said active layer  to cover said embedded portion 14a; and a second semiconductor layer  formed on said electron blocking layer  and having a second conductivity type which is opposite to said first conductivity type, characterized in that said embedded portion 14a has embedded well portions iwn corresponding to said well layers wn respectively and embedded barrier portions ibn corresponding to said barrier layers bn respectively, each of said embedded well portions iwn and said embedded barrier portions ibn is configured such that, with respect to each iw, iw of said embedded well portions iwn and each ib, ib of said embedded barrier portions ibn which are situated adjacent to each other, a second apex angle y1,y2 of an apex pw, pw of said each of said embedded well portions iwn is smaller than a first apex angle x1, x2 of an apex pb , pb  of said each of said embedded barrier portions ibn wherein said each of said embedded well portions iwn is subsequently formed on said each of said embedded barrier portions ibn, said embedded well portions iwn are configured so as to have apex angles which are gradually increased respectively as the embedded well portions iwn approach said second semiconductor layer , said embedded barrier portions ibn are configured so as to have apex angles which are gradually increased respectively as the embedded barrier portions ibn approach said second semiconductor layer , so that said embedded portion 14a has a recess portion rc placed on an upper interface with said electron blocking layer  above said pyramidal pit pt, said recess portion rc has an apex 14p placed at a position existing in a layered direction of said active layer  within said active layer , the depth d of the apex 14p of said recess rc with regard to the interface between the active layer  and the electron blocking layer  outside the embedded portion 14a exceeding the well layer wn the nearest to said electron blocking layer  outside the embedded portion 14a.</p>"
            ]
          },
          "metadata": {}
        },
        {
          "output_type": "display_data",
          "data": {
            "text/plain": [
              "<IPython.core.display.HTML object>"
            ],
            "text/html": [
              "<h3>Greedy search claim (BLEURT = -141.93906784057617)</h3>"
            ]
          },
          "metadata": {}
        },
        {
          "output_type": "display_data",
          "data": {
            "text/plain": [
              "<IPython.core.display.HTML object>"
            ],
            "text/html": [
              "<p>a semiconductor light emitting element  of a high luminous efficiency which has an electron blocking layer  reliably exerting the electron blocking function in case of having pits, when driven by a large current or driven at high temperature.</p>"
            ]
          },
          "metadata": {}
        },
        {
          "output_type": "display_data",
          "data": {
            "text/plain": [
              "<IPython.core.display.HTML object>"
            ],
            "text/html": [
              "<hr/>"
            ]
          },
          "metadata": {}
        },
        {
          "output_type": "display_data",
          "data": {
            "text/plain": [
              "<IPython.core.display.HTML object>"
            ],
            "text/html": [
              "<h3>Original claim</h3>"
            ]
          },
          "metadata": {}
        },
        {
          "output_type": "display_data",
          "data": {
            "text/plain": [
              "<IPython.core.display.HTML object>"
            ],
            "text/html": [
              "<p>a method for increasing variable optical channel bandwidth, comprising: adding, by a first network node, a timeslot increase indication to an ho odu frame and sending  the ho odu frame to which the timeslot increase indication is added to a second network node, wherein the timeslot increase indication is used to instruct a timeslot, occupied by an oduflex bit stream, of the ho odu frame, starting from a next ho odu frame of the ho odu frame, to increase from x timeslots to y timeslots, x is greater than zero and less than y, and the second network node is a downstream network node of the first network node in a link through which a service stream flows; starting  from the next ho odu frame of the ho odu frame to which the timeslot increase indication is added, mapping, by the first network node, a bit stream at a third rate formed by an oduflex bit stream at a first rate and an idle data bit stream at a second rate to the y timeslots of the ho odu frame and sending the ho odu frame to the second network node, wherein a rate corresponding to the y timeslots of the ho odu frame is greater than or equal to the third rate, both the first rate and the second rate are less than the third rate, and the second rate is a difference value between the third rate and the first rate; after each network node in the link receives the ho odu frame to which the timeslot increase indication is added, mapping , by the first network node, an oduflex frame to which a rate increase indication is added to the ho odu frame and sending the ho odu frame to the second network node, wherein the oduflex frame to which the rate increase indication is added is an oduflex frame bearing the oduflex bit stream, and the rate increase indication is used to instruct a rate of the oduflex bit stream, starting from a next oduflex frame of the oduflex frame to which the rate increase indication is added, to increase from the first rate to the third rate; and starting  from the next oduflex frame of the oduflex frame to which the rate increase indication is added, mapping, by the first network node, the oduflex bit stream at the third rate to the y timeslots of the ho odu frame and sending the ho odu frame to the second network node.</p>"
            ]
          },
          "metadata": {}
        },
        {
          "output_type": "display_data",
          "data": {
            "text/plain": [
              "<IPython.core.display.HTML object>"
            ],
            "text/html": [
              "<h3>Greedy search claim (BLEURT = -138.57474327087402)</h3>"
            ]
          },
          "metadata": {}
        },
        {
          "output_type": "display_data",
          "data": {
            "text/plain": [
              "<IPython.core.display.HTML object>"
            ],
            "text/html": [
              "<p>a first ne sends, in a current ho odu frame, a timeslot increase indication of an oduflex bit stream  to a downstream ne, that is, a second ne, and starting from a next ho odd frame, sending, in an increased timeslot in the ho od frame, a bit stream at a high rate formed by an odflex bitstream  at an original rate and an idle data bit stream to the second ne.</p>"
            ]
          },
          "metadata": {}
        },
        {
          "output_type": "display_data",
          "data": {
            "text/plain": [
              "<IPython.core.display.HTML object>"
            ],
            "text/html": [
              "<hr/>"
            ]
          },
          "metadata": {}
        },
        {
          "output_type": "display_data",
          "data": {
            "text/plain": [
              "<IPython.core.display.HTML object>"
            ],
            "text/html": [
              "<h3>Original claim</h3>"
            ]
          },
          "metadata": {}
        },
        {
          "output_type": "display_data",
          "data": {
            "text/plain": [
              "<IPython.core.display.HTML object>"
            ],
            "text/html": [
              "<p>a method for producing a squirrel-cage rotor  of an electric induction machine  comprising the steps of  making two circumferentially separated cuts 30, 31 in each of a plurality of steel sheets  from each of a plurality of openings  uniformly distributed around said sheet and separated from a periphery  of said sheet by a sheet portion , said cuts being made substantially radially into said sheet portion towards said periphery of the sheet while ending at a predetermined distance to said periphery,  stacking said sheets  onto each other while aligning said openings  so as to form rotor slots extending substantially axially,  die casting a rotor body while filling each said rotor slot with material forming a rotor conductor , and  machining said rotor body by peripherally removing material of said stack of sheets to a depth of at least said predetermined distance so as to, for each rotor conductor  and therealong, form a slot  extending substantially radially from the periphery  of the rotor body to said rotor conductor .</p>"
            ]
          },
          "metadata": {}
        },
        {
          "output_type": "display_data",
          "data": {
            "text/plain": [
              "<IPython.core.display.HTML object>"
            ],
            "text/html": [
              "<h3>Greedy search claim (BLEURT = -136.38626337051392)</h3>"
            ]
          },
          "metadata": {}
        },
        {
          "output_type": "display_data",
          "data": {
            "text/plain": [
              "<IPython.core.display.HTML object>"
            ],
            "text/html": [
              "<p>a method for producing a squirrel-cage rotor of an electric induction machine being improved in at least some aspect with respect to such methods already known.</p>"
            ]
          },
          "metadata": {}
        },
        {
          "output_type": "display_data",
          "data": {
            "text/plain": [
              "<IPython.core.display.HTML object>"
            ],
            "text/html": [
              "<hr/>"
            ]
          },
          "metadata": {}
        },
        {
          "output_type": "display_data",
          "data": {
            "text/plain": [
              "<IPython.core.display.HTML object>"
            ],
            "text/html": [
              "<h3>Original claim</h3>"
            ]
          },
          "metadata": {}
        },
        {
          "output_type": "display_data",
          "data": {
            "text/plain": [
              "<IPython.core.display.HTML object>"
            ],
            "text/html": [
              "<p>a semiconductor light emitting element comprising: a first semiconductor layer  of a first conductivity type; a pit formation layer  formed on said first semiconductor layer  and having a pyramidal pit pt caused by a threading dislocation td generated in said first semiconductor layer  ; an active layer  formed on said pit formation layer  and made of ingan-based semiconductor materials, said active layer  having a multi-quantum well structure having well layers wn and barrier layers bn that are laminated alternately in which each well layer and each barrier layer lie one upon another, and said active layer  having a flat portion 14a and an embedded portion 14b which is formed so as to embed said pit; and a second semiconductor layer  formed on said active layer  and having a second conductivity type which is opposite to the first conductivity type, characterized in that said flat portion 14a has flat well portions fwn corresponding to said well layers wn, said embedded portion 14b has embedded well portions iwn corresponding to said well layers wn, each of said embedded well portions iwn has ring portions rwn each of which is formed in an interface with each of said flat well portions fwn so as to surround said threading dislocation td, each of said ring portions rwn has a band gap smaller than that of each of said flat well portions fwn, each of said ring portions rwn has a thickness d1 larger than a thickness d2 of each of said flat well portions fwn corresponding to each of said ring portions rwn, said embedded portion 14b has embedded barrier portions ibn corresponding to said barrier layers bn, said embedded well portions iwn and said embedded barrier portions ibn are configured such that a facet upper end p12 of one of said embedded well portions iwn is formed at a position closer to a center cp of said pit pt than a facet upper end p11 of an adjacent one of said embedded barrier portions ibn, wherein the one embedded well portion iwn is subsequently formed on the adjacent embedded barrier portion ibn.</p>"
            ]
          },
          "metadata": {}
        },
        {
          "output_type": "display_data",
          "data": {
            "text/plain": [
              "<IPython.core.display.HTML object>"
            ],
            "text/html": [
              "<h3>Greedy search claim (BLEURT = -135.23746728897095)</h3>"
            ]
          },
          "metadata": {}
        },
        {
          "output_type": "display_data",
          "data": {
            "text/plain": [
              "<IPython.core.display.HTML object>"
            ],
            "text/html": [
              "<p>a semiconductor light emitting element  fabricated such that a nitride semiconductor layer  is grown on a substrate  made of a material different from the nitride, semiconductor such as a sapphire substrate, crystal defects  misfit dislocations occur at an interface between the substrate  and the semiconductor  due to their lattice mismatch.</p>"
            ]
          },
          "metadata": {}
        },
        {
          "output_type": "display_data",
          "data": {
            "text/plain": [
              "<IPython.core.display.HTML object>"
            ],
            "text/html": [
              "<hr/>"
            ]
          },
          "metadata": {}
        },
        {
          "output_type": "display_data",
          "data": {
            "text/plain": [
              "<IPython.core.display.HTML object>"
            ],
            "text/html": [
              "<h3>Original claim</h3>"
            ]
          },
          "metadata": {}
        },
        {
          "output_type": "display_data",
          "data": {
            "text/plain": [
              "<IPython.core.display.HTML object>"
            ],
            "text/html": [
              "<p>method to certify a trusted path n1-n2-n3-n4 for transferring a given sensitive data flow sdf in a software defined network comprising a plurality of nodes n1, n2, n3, n4, n5, a trusted path enforcer tpe, and a trusted path certifier tpc; characterized in that it comprises the following steps: - sending  at least one enforced flow rule efr, for configuring said trusted path, from the trusted path enforcer tpe to flow rule certifiers frc1, frc2, frc3, frc4 respectively embedded in or connected to all the nodes of the trusted path n1, n2, n3, n4; - sending from each said flow rule certifier frc1, frc2, frc3, frc4 to the trusted path certifier tpc: -- a flow rule certificate frca, if said flow rule certifier detects that an enforced flow rule efr it has received is actually satisfied by the configuration of the node where it is embedded in or connected to; -- a sensitive flow traces certificate sftc, if said flow rule certifier detects that the given sensitive data flow sdf is actually crossing the node where it is embedded in or connected to; - collecting all the flow rule certificates frca sent, by the flow rule certifiers frc1, frc2, frc3, frc4 respectively embedded in or connected to all the nodes of the trusted path n1, n2, n3, n4, to the trusted path certifier tpc, and deducing from them whether each enforced flow rule is satisfied, or not; - and collecting all the sensitive flow trace certificate sftc sent, by the flow rule certifiers frc1, frc2, frc3, frc4 respectively embedded in or connected to all the nodes of the trusted path n1, n2, n3, n4, to the trusted path certifier tpc and deducing from them whether the sensitive data flow has been correctly routed along the whole trusted path, or not.</p>"
            ]
          },
          "metadata": {}
        },
        {
          "output_type": "display_data",
          "data": {
            "text/plain": [
              "<IPython.core.display.HTML object>"
            ],
            "text/html": [
              "<h3>Greedy search claim (BLEURT = -128.96851301193237)</h3>"
            ]
          },
          "metadata": {}
        },
        {
          "output_type": "display_data",
          "data": {
            "text/plain": [
              "<IPython.core.display.HTML object>"
            ],
            "text/html": [
              "<p>a method to certify a trusted path for transferring a given sensitive data flow in a software defined network comprising a plurality of nodes, a trusted, enforcer, and a trusted and certifier, the method comprising the following steps:    sending at least one enforced flow rule, for configuring said trusted path, from the trusted path enforcer to flow rule certifiers respectively embedded in or connected to all the nodes of the trusted, and sending from each said flow rule certificate to the trusted.</p>"
            ]
          },
          "metadata": {}
        },
        {
          "output_type": "display_data",
          "data": {
            "text/plain": [
              "<IPython.core.display.HTML object>"
            ],
            "text/html": [
              "<hr/>"
            ]
          },
          "metadata": {}
        },
        {
          "output_type": "display_data",
          "data": {
            "text/plain": [
              "<IPython.core.display.HTML object>"
            ],
            "text/html": [
              "<h2>Beam search gen</h1>"
            ]
          },
          "metadata": {}
        },
        {
          "output_type": "display_data",
          "data": {
            "text/plain": [
              "<IPython.core.display.HTML object>"
            ],
            "text/html": [
              "<h3>Original claim</h3>"
            ]
          },
          "metadata": {}
        },
        {
          "output_type": "display_data",
          "data": {
            "text/plain": [
              "<IPython.core.display.HTML object>"
            ],
            "text/html": [
              "<p>a method for increasing variable optical channel bandwidth, comprising: adding, by a first network node, a timeslot increase indication to an ho odu frame and sending  the ho odu frame to which the timeslot increase indication is added to a second network node, wherein the timeslot increase indication is used to instruct a timeslot, occupied by an oduflex bit stream, of the ho odu frame, starting from a next ho odu frame of the ho odu frame, to increase from x timeslots to y timeslots, x is greater than zero and less than y, and the second network node is a downstream network node of the first network node in a link through which a service stream flows; starting  from the next ho odu frame of the ho odu frame to which the timeslot increase indication is added, mapping, by the first network node, a bit stream at a third rate formed by an oduflex bit stream at a first rate and an idle data bit stream at a second rate to the y timeslots of the ho odu frame and sending the ho odu frame to the second network node, wherein a rate corresponding to the y timeslots of the ho odu frame is greater than or equal to the third rate, both the first rate and the second rate are less than the third rate, and the second rate is a difference value between the third rate and the first rate; after each network node in the link receives the ho odu frame to which the timeslot increase indication is added, mapping , by the first network node, an oduflex frame to which a rate increase indication is added to the ho odu frame and sending the ho odu frame to the second network node, wherein the oduflex frame to which the rate increase indication is added is an oduflex frame bearing the oduflex bit stream, and the rate increase indication is used to instruct a rate of the oduflex bit stream, starting from a next oduflex frame of the oduflex frame to which the rate increase indication is added, to increase from the first rate to the third rate; and starting  from the next oduflex frame of the oduflex frame to which the rate increase indication is added, mapping, by the first network node, the oduflex bit stream at the third rate to the y timeslots of the ho odu frame and sending the ho odu frame to the second network node.</p>"
            ]
          },
          "metadata": {}
        },
        {
          "output_type": "display_data",
          "data": {
            "text/plain": [
              "<IPython.core.display.HTML object>"
            ],
            "text/html": [
              "<h3>Beam search claim (BLEURT = -138.57474327087402)</h3>"
            ]
          },
          "metadata": {}
        },
        {
          "output_type": "display_data",
          "data": {
            "text/plain": [
              "<IPython.core.display.HTML object>"
            ],
            "text/html": [
              "<p>a first ne sends, in a current ho odu frame, a timeslot increase indication of an oduflex bit stream  to a downstream ne, that is, a second ne, and starting from a next ho odd frame, sending, in an increased timeslot in the ho od frame, a bit stream at a high rate formed by an odflex bitstream  at an original rate and an idle data bit stream to the second ne.</p>"
            ]
          },
          "metadata": {}
        },
        {
          "output_type": "display_data",
          "data": {
            "text/plain": [
              "<IPython.core.display.HTML object>"
            ],
            "text/html": [
              "<hr/>"
            ]
          },
          "metadata": {}
        },
        {
          "output_type": "display_data",
          "data": {
            "text/plain": [
              "<IPython.core.display.HTML object>"
            ],
            "text/html": [
              "<h3>Original claim</h3>"
            ]
          },
          "metadata": {}
        },
        {
          "output_type": "display_data",
          "data": {
            "text/plain": [
              "<IPython.core.display.HTML object>"
            ],
            "text/html": [
              "<p>a method for producing a squirrel-cage rotor  of an electric induction machine  comprising the steps of  making two circumferentially separated cuts 30, 31 in each of a plurality of steel sheets  from each of a plurality of openings  uniformly distributed around said sheet and separated from a periphery  of said sheet by a sheet portion , said cuts being made substantially radially into said sheet portion towards said periphery of the sheet while ending at a predetermined distance to said periphery,  stacking said sheets  onto each other while aligning said openings  so as to form rotor slots extending substantially axially,  die casting a rotor body while filling each said rotor slot with material forming a rotor conductor , and  machining said rotor body by peripherally removing material of said stack of sheets to a depth of at least said predetermined distance so as to, for each rotor conductor  and therealong, form a slot  extending substantially radially from the periphery  of the rotor body to said rotor conductor .</p>"
            ]
          },
          "metadata": {}
        },
        {
          "output_type": "display_data",
          "data": {
            "text/plain": [
              "<IPython.core.display.HTML object>"
            ],
            "text/html": [
              "<h3>Beam search claim (BLEURT = -136.38626337051392)</h3>"
            ]
          },
          "metadata": {}
        },
        {
          "output_type": "display_data",
          "data": {
            "text/plain": [
              "<IPython.core.display.HTML object>"
            ],
            "text/html": [
              "<p>a method for producing a squirrel-cage rotor of an electric induction machine being improved in at least some aspect with respect to such methods already known.</p>"
            ]
          },
          "metadata": {}
        },
        {
          "output_type": "display_data",
          "data": {
            "text/plain": [
              "<IPython.core.display.HTML object>"
            ],
            "text/html": [
              "<hr/>"
            ]
          },
          "metadata": {}
        },
        {
          "output_type": "display_data",
          "data": {
            "text/plain": [
              "<IPython.core.display.HTML object>"
            ],
            "text/html": [
              "<h3>Original claim</h3>"
            ]
          },
          "metadata": {}
        },
        {
          "output_type": "display_data",
          "data": {
            "text/plain": [
              "<IPython.core.display.HTML object>"
            ],
            "text/html": [
              "<p>a semiconductor light emitting element comprising: a first semiconductor layer  of a first conductivity type; a pit formation layer  formed on said first semiconductor layer  and having a pyramidal pit pt caused by a threading dislocation td generated in said first semiconductor layer  ; an active layer  formed on said pit formation layer  and made of ingan-based semiconductor materials, said active layer  having a multi-quantum well structure having well layers wn and barrier layers bn that are laminated alternately in which each well layer and each barrier layer lie one upon another, and said active layer  having a flat portion 14a and an embedded portion 14b which is formed so as to embed said pit; and a second semiconductor layer  formed on said active layer  and having a second conductivity type which is opposite to the first conductivity type, characterized in that said flat portion 14a has flat well portions fwn corresponding to said well layers wn, said embedded portion 14b has embedded well portions iwn corresponding to said well layers wn, each of said embedded well portions iwn has ring portions rwn each of which is formed in an interface with each of said flat well portions fwn so as to surround said threading dislocation td, each of said ring portions rwn has a band gap smaller than that of each of said flat well portions fwn, each of said ring portions rwn has a thickness d1 larger than a thickness d2 of each of said flat well portions fwn corresponding to each of said ring portions rwn, said embedded portion 14b has embedded barrier portions ibn corresponding to said barrier layers bn, said embedded well portions iwn and said embedded barrier portions ibn are configured such that a facet upper end p12 of one of said embedded well portions iwn is formed at a position closer to a center cp of said pit pt than a facet upper end p11 of an adjacent one of said embedded barrier portions ibn, wherein the one embedded well portion iwn is subsequently formed on the adjacent embedded barrier portion ibn.</p>"
            ]
          },
          "metadata": {}
        },
        {
          "output_type": "display_data",
          "data": {
            "text/plain": [
              "<IPython.core.display.HTML object>"
            ],
            "text/html": [
              "<h3>Beam search claim (BLEURT = -135.23746728897095)</h3>"
            ]
          },
          "metadata": {}
        },
        {
          "output_type": "display_data",
          "data": {
            "text/plain": [
              "<IPython.core.display.HTML object>"
            ],
            "text/html": [
              "<p>a semiconductor light emitting element  fabricated such that a nitride semiconductor layer  is grown on a substrate  made of a material different from the nitride, semiconductor such as a sapphire substrate, crystal defects  misfit dislocations occur at an interface between the substrate  and the semiconductor  due to their lattice mismatch.</p>"
            ]
          },
          "metadata": {}
        },
        {
          "output_type": "display_data",
          "data": {
            "text/plain": [
              "<IPython.core.display.HTML object>"
            ],
            "text/html": [
              "<hr/>"
            ]
          },
          "metadata": {}
        },
        {
          "output_type": "display_data",
          "data": {
            "text/plain": [
              "<IPython.core.display.HTML object>"
            ],
            "text/html": [
              "<h3>Original claim</h3>"
            ]
          },
          "metadata": {}
        },
        {
          "output_type": "display_data",
          "data": {
            "text/plain": [
              "<IPython.core.display.HTML object>"
            ],
            "text/html": [
              "<p>method to certify a trusted path n1-n2-n3-n4 for transferring a given sensitive data flow sdf in a software defined network comprising a plurality of nodes n1, n2, n3, n4, n5, a trusted path enforcer tpe, and a trusted path certifier tpc; characterized in that it comprises the following steps: - sending  at least one enforced flow rule efr, for configuring said trusted path, from the trusted path enforcer tpe to flow rule certifiers frc1, frc2, frc3, frc4 respectively embedded in or connected to all the nodes of the trusted path n1, n2, n3, n4; - sending from each said flow rule certifier frc1, frc2, frc3, frc4 to the trusted path certifier tpc: -- a flow rule certificate frca, if said flow rule certifier detects that an enforced flow rule efr it has received is actually satisfied by the configuration of the node where it is embedded in or connected to; -- a sensitive flow traces certificate sftc, if said flow rule certifier detects that the given sensitive data flow sdf is actually crossing the node where it is embedded in or connected to; - collecting all the flow rule certificates frca sent, by the flow rule certifiers frc1, frc2, frc3, frc4 respectively embedded in or connected to all the nodes of the trusted path n1, n2, n3, n4, to the trusted path certifier tpc, and deducing from them whether each enforced flow rule is satisfied, or not; - and collecting all the sensitive flow trace certificate sftc sent, by the flow rule certifiers frc1, frc2, frc3, frc4 respectively embedded in or connected to all the nodes of the trusted path n1, n2, n3, n4, to the trusted path certifier tpc and deducing from them whether the sensitive data flow has been correctly routed along the whole trusted path, or not.</p>"
            ]
          },
          "metadata": {}
        },
        {
          "output_type": "display_data",
          "data": {
            "text/plain": [
              "<IPython.core.display.HTML object>"
            ],
            "text/html": [
              "<h3>Beam search claim (BLEURT = -128.96851301193237)</h3>"
            ]
          },
          "metadata": {}
        },
        {
          "output_type": "display_data",
          "data": {
            "text/plain": [
              "<IPython.core.display.HTML object>"
            ],
            "text/html": [
              "<p>a method to certify a trusted path for transferring a given sensitive data flow in a software defined network comprising a plurality of nodes, a trusted, enforcer, and a trusted and certifier, the method comprising the following steps:    sending at least one enforced flow rule, for configuring said trusted path, from the trusted path enforcer to flow rule certifiers respectively embedded in or connected to all the nodes of the trusted, and sending from each said flow rule certificate to the trusted.</p>"
            ]
          },
          "metadata": {}
        },
        {
          "output_type": "display_data",
          "data": {
            "text/plain": [
              "<IPython.core.display.HTML object>"
            ],
            "text/html": [
              "<hr/>"
            ]
          },
          "metadata": {}
        },
        {
          "output_type": "display_data",
          "data": {
            "text/plain": [
              "<IPython.core.display.HTML object>"
            ],
            "text/html": [
              "<h3>Original claim</h3>"
            ]
          },
          "metadata": {}
        },
        {
          "output_type": "display_data",
          "data": {
            "text/plain": [
              "<IPython.core.display.HTML object>"
            ],
            "text/html": [
              "<p>a battery assembly , comprising: a first battery frame assembly  having a first plastic frame member  and a first thermally conductive plate ; the first plastic frame member  having a first rectangular ring-shaped peripheral wall  and a first plurality of cross-members ; the first rectangular ring-shaped peripheral wall  having first, second, third and fourth wall portions 84, 86, 88, 90 defining a first central space , the first plurality of cross-members  extending between the first and second wall portions 84, 86 and extending across the first central space , the first plurality of cross-members  defining a first plurality of open spaces 160, 162, 164, 166, 168, 170 therebetween in the first central space ; the first rectangular ring-shaped peripheral wall  further having a first plurality of channels  extending into the first wall portion  proximate to the first plurality of open spaces 160, 162, 164, 166, 168, 170, and a second plurality of channels  extending into the second wall portion  proximate to the first plurality of open spaces 160, 162, 164, 166, 168, 170; the first thermally conductive plate  having peripheral edges 180, 182, 184, 186 encapsulated within the first rectangular ring-shaped peripheral wall ,; a first battery cell  configured to contact the first thermally conductive plate ; and a second battery frame assembly  configured to be coupled to the first battery frame assembly  such that the first battery cell  is disposed between the first and second battery frame assemblies 20, 22, characterized in that the first thermally conductive plate  further have exposed portions 190, 191, 192, 193, 194, 195 disposed in the first plurality of open spaces 160, 162, 164, 166, 168, 170 configured to contact air passing through the first plurality of channels  and past the first thermally conductive plate  and through the second plurality of channels  to extract heat energy from the first thermally conductive plate .</p>"
            ]
          },
          "metadata": {}
        },
        {
          "output_type": "display_data",
          "data": {
            "text/plain": [
              "<IPython.core.display.HTML object>"
            ],
            "text/html": [
              "<h3>Beam search claim (BLEURT = -127.61656045913696)</h3>"
            ]
          },
          "metadata": {}
        },
        {
          "output_type": "display_data",
          "data": {
            "text/plain": [
              "<IPython.core.display.HTML object>"
            ],
            "text/html": [
              "<p>a battery assembly  comprising:a first battery frame assembly  having a first plastic frame member  and a first thermally conductive plate ;a first plurality of cross-members  including a first rectangular ring-shaped peripheral wall ;a second plurality  defining a first central space, the first plurality  extending between the first and second wall portions  and extending across the first central spaces ; anda plurality  cross- members  defining an open spaces  therebetween in the second central space.</p>"
            ]
          },
          "metadata": {}
        },
        {
          "output_type": "display_data",
          "data": {
            "text/plain": [
              "<IPython.core.display.HTML object>"
            ],
            "text/html": [
              "<hr/>"
            ]
          },
          "metadata": {}
        },
        {
          "output_type": "display_data",
          "data": {
            "text/plain": [
              "<IPython.core.display.HTML object>"
            ],
            "text/html": [
              "<h1>bigbird</h1>"
            ]
          },
          "metadata": {}
        },
        {
          "output_type": "display_data",
          "data": {
            "text/plain": [
              "<IPython.core.display.HTML object>"
            ],
            "text/html": [
              "<h2>Greedy search gen</h1>"
            ]
          },
          "metadata": {}
        },
        {
          "output_type": "display_data",
          "data": {
            "text/plain": [
              "<IPython.core.display.HTML object>"
            ],
            "text/html": [
              "<h3>Original claim</h3>"
            ]
          },
          "metadata": {}
        },
        {
          "output_type": "display_data",
          "data": {
            "text/plain": [
              "<IPython.core.display.HTML object>"
            ],
            "text/html": [
              "<p>a collaboration method in a distributed resilient network interconnect system, the method comprising: after receiving system parameters notified by a distributed relay control protocol, drcp, system, a link aggregation control protocol, lacp, system taking the system parameters of the drcp system as system negotiation parameters of the lacp system; the method being characterized in that it further comprises: when a receiving state machine of the lacp system is in a port disabled state and meets a first preset condition, the receiving state machine jumping to a negotiation state after receiving the system parameters notified by the drcp system, and jumping to an expired state after taking the system parameters of the drcp system as the system negotiation parameters of the lacp system; when the receiving state machine of the lacp system is in the port disabled state, when the lacp system supports the distributed resilient network interconnected, drni, system and has not received the system parameters notified by the drcp system, the receiving state machine remaining in the port disabled state.</p>"
            ]
          },
          "metadata": {}
        },
        {
          "output_type": "display_data",
          "data": {
            "text/plain": [
              "<IPython.core.display.HTML object>"
            ],
            "text/html": [
              "<h3>Greedy search claim (BLEURT = -102.6331067085266)</h3>"
            ]
          },
          "metadata": {}
        },
        {
          "output_type": "display_data",
          "data": {
            "text/plain": [
              "<IPython.core.display.HTML object>"
            ],
            "text/html": [
              "<p>a collaboration method in a distributed resilient network interconnected system, comprising:after receiving system parameters notified by a distributed relay control protocol drcp system, a link aggregation control protocol lacp system taking the system parameters of the drcp system as system negotiation parameters of the lacp system.</p>"
            ]
          },
          "metadata": {}
        },
        {
          "output_type": "display_data",
          "data": {
            "text/plain": [
              "<IPython.core.display.HTML object>"
            ],
            "text/html": [
              "<hr/>"
            ]
          },
          "metadata": {}
        },
        {
          "output_type": "display_data",
          "data": {
            "text/plain": [
              "<IPython.core.display.HTML object>"
            ],
            "text/html": [
              "<h3>Original claim</h3>"
            ]
          },
          "metadata": {}
        },
        {
          "output_type": "display_data",
          "data": {
            "text/plain": [
              "<IPython.core.display.HTML object>"
            ],
            "text/html": [
              "<p>a method for generating a simulated interference, comprising: separately configuring  interference characteristic parameters on one or more simulated load templates, wherein the interference characteristic parameters are used to simulate one interference source or a type of interference source that has a same interference characteristic, and the interference characteristic parameters comprise a transmission mode, a rank, a precoding matrix indicator, pmi, a resource utilization rate and a modulation and coding scheme, mcs; wherein the configuring interference characteristic parameters comprises: configuring the transmission mode, the rank, the pmi, the resource utilization rate and the mcs; wherein the configuring the mcs comprises: setting the mcs to a specific value or a preset value range; and generating  a simulated interference by using the interference characteristic parameters configured on the one or more simulated load templates; characterized in that the configuring the resource utilization rate comprises: configuring a resource block, rb, utilization rate and a transmit power utilization rate of an interference cell, wherein if an rb utilization rate or a transmit power utilization rate that is scheduled by the interference cell is lower than a preset threshold, simulated load is scheduled; or if an rb utilization rate or a transmit power utilization rate that is scheduled by the interference cell is higher than a preset threshold, simulated load is invalid.</p>"
            ]
          },
          "metadata": {}
        },
        {
          "output_type": "display_data",
          "data": {
            "text/plain": [
              "<IPython.core.display.HTML object>"
            ],
            "text/html": [
              "<h3>Greedy search claim (BLEURT = -98.81774187088013)</h3>"
            ]
          },
          "metadata": {}
        },
        {
          "output_type": "display_data",
          "data": {
            "text/plain": [
              "<IPython.core.display.HTML object>"
            ],
            "text/html": [
              "<p>a method for generating a simulated interference, comprising:setting one or more simulated load templates and separately configuring interference characteristic parameters on the one or more simulated load templates, where one simulated load template is used to simulate one interference or a type of interference that has a same interference characteristic; andgenerating a simulated interference by using the interference characteristic parameters configured on the one or more simulated load templates, where if multiple simulated load templates are set, polling is performed, in a time domain andor a frequency domain, on interferences generated by the multiple simulated load templates by means of simulation.</p>"
            ]
          },
          "metadata": {}
        },
        {
          "output_type": "display_data",
          "data": {
            "text/plain": [
              "<IPython.core.display.HTML object>"
            ],
            "text/html": [
              "<hr/>"
            ]
          },
          "metadata": {}
        },
        {
          "output_type": "display_data",
          "data": {
            "text/plain": [
              "<IPython.core.display.HTML object>"
            ],
            "text/html": [
              "<h3>Original claim</h3>"
            ]
          },
          "metadata": {}
        },
        {
          "output_type": "display_data",
          "data": {
            "text/plain": [
              "<IPython.core.display.HTML object>"
            ],
            "text/html": [
              "<p>a signal cancellation method for a wireless communication system, carried out by a transmitter, the method comprises: splitting s11 a signal to obtain a main channel signal transmitted on a main channel and an auxiliary channel signal transmitted on an auxiliary channel, performing s12 digital domain channel characteristic matching processing on the main channel signal and the auxiliary channel signal respectively to obtain a main channel characteristic matched signal and an auxiliary channel characteristic matched signal, wherein channel characteristics of the main channel and the auxiliary channel are calculated, and the digital domain channel characteristic matching is executed according to the channel characteristics of the main channel and the auxiliary channel, wherein the digital domain channel characteristic matching processing adjusts the amplitude, phase and delay parameters of the main channel and the auxiliary channel so that the main channel signal and the auxiliary channel signal have a same amplitude and a same delay and opposite phases; and combining s13 the main channel characteristic matched signal and the auxiliary channel characteristic matched signal and inputting the combined signal into a channel characteristic calculation control module for controlling the matching processing of the main channel signal and the auxiliary channel signal to carry out signal cancellation, the method being characterized in that: the main channel and the auxiliary channel share a local oscillator, and a spectrum density of a non-linear component generated on the auxiliary channel by a carrier signal energy filtered by a carrier suppression filter is over 10db lower than a thermal bottom noise spectrum density.</p>"
            ]
          },
          "metadata": {}
        },
        {
          "output_type": "display_data",
          "data": {
            "text/plain": [
              "<IPython.core.display.HTML object>"
            ],
            "text/html": [
              "<h3>Greedy search claim (BLEURT = -89.86223340034485)</h3>"
            ]
          },
          "metadata": {}
        },
        {
          "output_type": "display_data",
          "data": {
            "text/plain": [
              "<IPython.core.display.HTML object>"
            ],
            "text/html": [
              "<p>a signal cancellation method for a wireless communication system, comprising:a transmitted signal is split to obtain a main channel signal transmitted on a main channel and an auxiliary channel signal transmitted on an auxiliary channel;the main channel signal and the auxiliary channel signal are subjected to digital domain channel characteristic matching processing respectively to obtain a main channel characteristic matched signal and an auxiliary channel characteristic matched signal; andthe main channel characteristic matched signal and the auxiliary channel characteristic matched signal which are coupled to a receiving channel are combined in order for signal cancellation.</p>"
            ]
          },
          "metadata": {}
        },
        {
          "output_type": "display_data",
          "data": {
            "text/plain": [
              "<IPython.core.display.HTML object>"
            ],
            "text/html": [
              "<hr/>"
            ]
          },
          "metadata": {}
        },
        {
          "output_type": "display_data",
          "data": {
            "text/plain": [
              "<IPython.core.display.HTML object>"
            ],
            "text/html": [
              "<h3>Original claim</h3>"
            ]
          },
          "metadata": {}
        },
        {
          "output_type": "display_data",
          "data": {
            "text/plain": [
              "<IPython.core.display.HTML object>"
            ],
            "text/html": [
              "<p>a semiconductor light emitting element comprising: a first semiconductor layer  of a first conductivity type; a pit formation layer  formed on said first semiconductor layer  and having a pyramidal pit pt caused by a threading dislocation td generated in said first semiconductor layer ; an active layer  formed on said pit formation layer  and made of ingan-based semiconductor materials, said active layer  having a multi-quantum well structure having well layers wn and barrier layers bn that are laminated alternately in which each well layer and each barrier layer lie one upon another, and said active layer  having an embedded portion 14a formed so as to embed said pit pt; an electron blocking layer  formed on said active layer  to cover said embedded portion 14a; and a second semiconductor layer  formed on said electron blocking layer  and having a second conductivity type which is opposite to said first conductivity type, characterized in that said embedded portion 14a has embedded well portions iwn corresponding to said well layers wn respectively and embedded barrier portions ibn corresponding to said barrier layers bn respectively, each of said embedded well portions iwn and said embedded barrier portions ibn is configured such that, with respect to each iw, iw of said embedded well portions iwn and each ib, ib of said embedded barrier portions ibn which are situated adjacent to each other, a second apex angle y1,y2 of an apex pw, pw of said each of said embedded well portions iwn is smaller than a first apex angle x1, x2 of an apex pb , pb  of said each of said embedded barrier portions ibn wherein said each of said embedded well portions iwn is subsequently formed on said each of said embedded barrier portions ibn, said embedded well portions iwn are configured so as to have apex angles which are gradually increased respectively as the embedded well portions iwn approach said second semiconductor layer , said embedded barrier portions ibn are configured so as to have apex angles which are gradually increased respectively as the embedded barrier portions ibn approach said second semiconductor layer , so that said embedded portion 14a has a recess portion rc placed on an upper interface with said electron blocking layer  above said pyramidal pit pt, said recess portion rc has an apex 14p placed at a position existing in a layered direction of said active layer  within said active layer , the depth d of the apex 14p of said recess rc with regard to the interface between the active layer  and the electron blocking layer  outside the embedded portion 14a exceeding the well layer wn the nearest to said electron blocking layer  outside the embedded portion 14a.</p>"
            ]
          },
          "metadata": {}
        },
        {
          "output_type": "display_data",
          "data": {
            "text/plain": [
              "<IPython.core.display.HTML object>"
            ],
            "text/html": [
              "<h3>Greedy search claim (BLEURT = -80.4173469543457)</h3>"
            ]
          },
          "metadata": {}
        },
        {
          "output_type": "display_data",
          "data": {
            "text/plain": [
              "<IPython.core.display.HTML object>"
            ],
            "text/html": [
              "<p>a semiconductor light emitting element comprising:a p-type semiconductor layer grown on a substrate made of a material different from a nitride semiconductor such as a sapphire substrate;an n-type semiconductor layer grown on the p-type semiconductor layer ;a p-type semiconductor layer grown on the n-type semiconductor layer ;an electron blocking layer grown on the p-type semiconductor layer ; andan n-type active layer grown on the electron blocking layer,wherein the electron blocking layer comprises a first portion formed on the p-type semiconductor layer and a second portion formed on the n-type semiconductor layer,wherein the first portion and the second portion are different from each other, andwherein the first portion has a thickness smaller than that of the second portion, andwherein the second portion has a thickness smaller than that of the first portion.</p>"
            ]
          },
          "metadata": {}
        },
        {
          "output_type": "display_data",
          "data": {
            "text/plain": [
              "<IPython.core.display.HTML object>"
            ],
            "text/html": [
              "<hr/>"
            ]
          },
          "metadata": {}
        },
        {
          "output_type": "display_data",
          "data": {
            "text/plain": [
              "<IPython.core.display.HTML object>"
            ],
            "text/html": [
              "<h3>Original claim</h3>"
            ]
          },
          "metadata": {}
        },
        {
          "output_type": "display_data",
          "data": {
            "text/plain": [
              "<IPython.core.display.HTML object>"
            ],
            "text/html": [
              "<p>a method of charging a battery 150, 450, 550, 850, 1150, 1250 using a switching regulator 410, 510, 803, 1110, 1210, 1303, 1601 comprising: storing a plurality of charging parameters in one or more programmable data storage elements ; supplying a controlled current from said switching regulator via a filter 104, 804, 1103, 1104 to said battery during a first time period, wherein the controlled current supplied is based at least in part on a control signal applied to the switching regulator, and further wherein the control signal is based at least in part on a first parameter of said stored charging parameters and the first parameter is variable across a range of values to program the controlled current across a corresponding range of current values; and supplying a constant voltage from said switching regulator via said filter to said battery during a second time period following the first time period if a voltage on the battery is above a first threshold, wherein the constant voltage is based at least in part on the control signal applied to the switching regulator, and further wherein the control signal is based at least in part on a second parameter of said stored charging parameters and the second parameter is variable across a range of values to program the constant voltage across a corresponding range of voltage values.</p>"
            ]
          },
          "metadata": {}
        },
        {
          "output_type": "display_data",
          "data": {
            "text/plain": [
              "<IPython.core.display.HTML object>"
            ],
            "text/html": [
              "<h3>Greedy search claim (BLEURT = -76.4091968536377)</h3>"
            ]
          },
          "metadata": {}
        },
        {
          "output_type": "display_data",
          "data": {
            "text/plain": [
              "<IPython.core.display.HTML object>"
            ],
            "text/html": [
              "<p>a universal serial bus battery charger comprising a switching regulator having at least one switching transistor, the switching transistor having first input and a first output, wherein the first input of the switching transistor is coupled to a usb power source, a filter having a first input and a first output, wherein the first input of the filter is coupled to the first output of the switching transistor, and a battery coupled to the first output of the filter, wherein the switching regulator is configured to receive a usb voltage, and in accordance therewith, generate a switching signal to the control terminal of the switching transistor, and wherein a switching current and switching voltage at the output of the switching transistor are coupled through the filter to generate a filtered current and a filtered voltage to charge the battery.</p>"
            ]
          },
          "metadata": {}
        },
        {
          "output_type": "display_data",
          "data": {
            "text/plain": [
              "<IPython.core.display.HTML object>"
            ],
            "text/html": [
              "<hr/>"
            ]
          },
          "metadata": {}
        },
        {
          "output_type": "display_data",
          "data": {
            "text/plain": [
              "<IPython.core.display.HTML object>"
            ],
            "text/html": [
              "<h2>Beam search gen</h1>"
            ]
          },
          "metadata": {}
        },
        {
          "output_type": "display_data",
          "data": {
            "text/plain": [
              "<IPython.core.display.HTML object>"
            ],
            "text/html": [
              "<h3>Original claim</h3>"
            ]
          },
          "metadata": {}
        },
        {
          "output_type": "display_data",
          "data": {
            "text/plain": [
              "<IPython.core.display.HTML object>"
            ],
            "text/html": [
              "<p>a control system for controlling radiation direction of an antenna beam of an antenna unit , wherein the radiation direction is adjustable in accordance with an actuating signal, the control system comprising: a filtering means 403, 502 connected to a feeder cable 401, 501 configured to carry rf signals and a modulated control signal, wherein said filtering means 403, 502 is arranged to filter out said modulated control signal; an external control unit , attachable to said antenna unit , wherein said external control unit includes a detecting means 406, 602 and a control means , said detecting means 406, 602 is arranged to detect and demodulate said filtered out modulated control signal, and said control means  is arranged to produce the actuating signal in accordance with the detected and demodulated control signal, wherein said filtering means 403, 502 is directly connected to said detecting means 406, 602 located within said external control unit  so as to provide the filtered out modulated control signal directly to said detecting means 406, 602, and wherein said detecting means 406, 602 is arranged to provide said detected and demodulated control signal to said control means  in a format readable by said control means .</p>"
            ]
          },
          "metadata": {}
        },
        {
          "output_type": "display_data",
          "data": {
            "text/plain": [
              "<IPython.core.display.HTML object>"
            ],
            "text/html": [
              "<h3>Beam search claim (BLEURT = -106.401264667511)</h3>"
            ]
          },
          "metadata": {}
        },
        {
          "output_type": "display_data",
          "data": {
            "text/plain": [
              "<IPython.core.display.HTML object>"
            ],
            "text/html": [
              "<p>an antenna beam radiation direction control system for controlling radiation direction of an antenna beam, comprising:a filtering means for filtering the radiation direction of the antenna beam ; andan external control unit, wherein the filtering means and the external control unit are directly connected to each other.</p>"
            ]
          },
          "metadata": {}
        },
        {
          "output_type": "display_data",
          "data": {
            "text/plain": [
              "<IPython.core.display.HTML object>"
            ],
            "text/html": [
              "<hr/>"
            ]
          },
          "metadata": {}
        },
        {
          "output_type": "display_data",
          "data": {
            "text/plain": [
              "<IPython.core.display.HTML object>"
            ],
            "text/html": [
              "<h3>Original claim</h3>"
            ]
          },
          "metadata": {}
        },
        {
          "output_type": "display_data",
          "data": {
            "text/plain": [
              "<IPython.core.display.HTML object>"
            ],
            "text/html": [
              "<p>a collaboration method in a distributed resilient network interconnect system, the method comprising: after receiving system parameters notified by a distributed relay control protocol, drcp, system, a link aggregation control protocol, lacp, system taking the system parameters of the drcp system as system negotiation parameters of the lacp system; the method being characterized in that it further comprises: when a receiving state machine of the lacp system is in a port disabled state and meets a first preset condition, the receiving state machine jumping to a negotiation state after receiving the system parameters notified by the drcp system, and jumping to an expired state after taking the system parameters of the drcp system as the system negotiation parameters of the lacp system; when the receiving state machine of the lacp system is in the port disabled state, when the lacp system supports the distributed resilient network interconnected, drni, system and has not received the system parameters notified by the drcp system, the receiving state machine remaining in the port disabled state.</p>"
            ]
          },
          "metadata": {}
        },
        {
          "output_type": "display_data",
          "data": {
            "text/plain": [
              "<IPython.core.display.HTML object>"
            ],
            "text/html": [
              "<h3>Beam search claim (BLEURT = -102.6331067085266)</h3>"
            ]
          },
          "metadata": {}
        },
        {
          "output_type": "display_data",
          "data": {
            "text/plain": [
              "<IPython.core.display.HTML object>"
            ],
            "text/html": [
              "<p>a collaboration method in a distributed resilient network interconnected system, comprising:after receiving system parameters notified by a distributed relay control protocol drcp system, a link aggregation control protocol lacp system taking the system parameters of the drcp system as system negotiation parameters of the lacp system.</p>"
            ]
          },
          "metadata": {}
        },
        {
          "output_type": "display_data",
          "data": {
            "text/plain": [
              "<IPython.core.display.HTML object>"
            ],
            "text/html": [
              "<hr/>"
            ]
          },
          "metadata": {}
        },
        {
          "output_type": "display_data",
          "data": {
            "text/plain": [
              "<IPython.core.display.HTML object>"
            ],
            "text/html": [
              "<h3>Original claim</h3>"
            ]
          },
          "metadata": {}
        },
        {
          "output_type": "display_data",
          "data": {
            "text/plain": [
              "<IPython.core.display.HTML object>"
            ],
            "text/html": [
              "<p>a method for generating a simulated interference, comprising: separately configuring  interference characteristic parameters on one or more simulated load templates, wherein the interference characteristic parameters are used to simulate one interference source or a type of interference source that has a same interference characteristic, and the interference characteristic parameters comprise a transmission mode, a rank, a precoding matrix indicator, pmi, a resource utilization rate and a modulation and coding scheme, mcs; wherein the configuring interference characteristic parameters comprises: configuring the transmission mode, the rank, the pmi, the resource utilization rate and the mcs; wherein the configuring the mcs comprises: setting the mcs to a specific value or a preset value range; and generating  a simulated interference by using the interference characteristic parameters configured on the one or more simulated load templates; characterized in that the configuring the resource utilization rate comprises: configuring a resource block, rb, utilization rate and a transmit power utilization rate of an interference cell, wherein if an rb utilization rate or a transmit power utilization rate that is scheduled by the interference cell is lower than a preset threshold, simulated load is scheduled; or if an rb utilization rate or a transmit power utilization rate that is scheduled by the interference cell is higher than a preset threshold, simulated load is invalid.</p>"
            ]
          },
          "metadata": {}
        },
        {
          "output_type": "display_data",
          "data": {
            "text/plain": [
              "<IPython.core.display.HTML object>"
            ],
            "text/html": [
              "<h3>Beam search claim (BLEURT = -98.81774187088013)</h3>"
            ]
          },
          "metadata": {}
        },
        {
          "output_type": "display_data",
          "data": {
            "text/plain": [
              "<IPython.core.display.HTML object>"
            ],
            "text/html": [
              "<p>a method for generating a simulated interference, comprising:setting one or more simulated load templates and separately configuring interference characteristic parameters on the one or more simulated load templates, where one simulated load template is used to simulate one interference or a type of interference that has a same interference characteristic; andgenerating a simulated interference by using the interference characteristic parameters configured on the one or more simulated load templates, where if multiple simulated load templates are set, polling is performed, in a time domain andor a frequency domain, on interferences generated by the multiple simulated load templates by means of simulation.</p>"
            ]
          },
          "metadata": {}
        },
        {
          "output_type": "display_data",
          "data": {
            "text/plain": [
              "<IPython.core.display.HTML object>"
            ],
            "text/html": [
              "<hr/>"
            ]
          },
          "metadata": {}
        },
        {
          "output_type": "display_data",
          "data": {
            "text/plain": [
              "<IPython.core.display.HTML object>"
            ],
            "text/html": [
              "<h3>Original claim</h3>"
            ]
          },
          "metadata": {}
        },
        {
          "output_type": "display_data",
          "data": {
            "text/plain": [
              "<IPython.core.display.HTML object>"
            ],
            "text/html": [
              "<p>a signal cancellation method for a wireless communication system, carried out by a transmitter, the method comprises: splitting s11 a signal to obtain a main channel signal transmitted on a main channel and an auxiliary channel signal transmitted on an auxiliary channel, performing s12 digital domain channel characteristic matching processing on the main channel signal and the auxiliary channel signal respectively to obtain a main channel characteristic matched signal and an auxiliary channel characteristic matched signal, wherein channel characteristics of the main channel and the auxiliary channel are calculated, and the digital domain channel characteristic matching is executed according to the channel characteristics of the main channel and the auxiliary channel, wherein the digital domain channel characteristic matching processing adjusts the amplitude, phase and delay parameters of the main channel and the auxiliary channel so that the main channel signal and the auxiliary channel signal have a same amplitude and a same delay and opposite phases; and combining s13 the main channel characteristic matched signal and the auxiliary channel characteristic matched signal and inputting the combined signal into a channel characteristic calculation control module for controlling the matching processing of the main channel signal and the auxiliary channel signal to carry out signal cancellation, the method being characterized in that: the main channel and the auxiliary channel share a local oscillator, and a spectrum density of a non-linear component generated on the auxiliary channel by a carrier signal energy filtered by a carrier suppression filter is over 10db lower than a thermal bottom noise spectrum density.</p>"
            ]
          },
          "metadata": {}
        },
        {
          "output_type": "display_data",
          "data": {
            "text/plain": [
              "<IPython.core.display.HTML object>"
            ],
            "text/html": [
              "<h3>Beam search claim (BLEURT = -89.86223340034485)</h3>"
            ]
          },
          "metadata": {}
        },
        {
          "output_type": "display_data",
          "data": {
            "text/plain": [
              "<IPython.core.display.HTML object>"
            ],
            "text/html": [
              "<p>a signal cancellation method for a wireless communication system, comprising:a transmitted signal is split to obtain a main channel signal transmitted on a main channel and an auxiliary channel signal transmitted on an auxiliary channel;the main channel signal and the auxiliary channel signal are subjected to digital domain channel characteristic matching processing respectively to obtain a main channel characteristic matched signal and an auxiliary channel characteristic matched signal; andthe main channel characteristic matched signal and the auxiliary channel characteristic matched signal which are coupled to a receiving channel are combined in order for signal cancellation.</p>"
            ]
          },
          "metadata": {}
        },
        {
          "output_type": "display_data",
          "data": {
            "text/plain": [
              "<IPython.core.display.HTML object>"
            ],
            "text/html": [
              "<hr/>"
            ]
          },
          "metadata": {}
        },
        {
          "output_type": "display_data",
          "data": {
            "text/plain": [
              "<IPython.core.display.HTML object>"
            ],
            "text/html": [
              "<h3>Original claim</h3>"
            ]
          },
          "metadata": {}
        },
        {
          "output_type": "display_data",
          "data": {
            "text/plain": [
              "<IPython.core.display.HTML object>"
            ],
            "text/html": [
              "<p>a method of charging a battery 150, 450, 550, 850, 1150, 1250 using a switching regulator 410, 510, 803, 1110, 1210, 1303, 1601 comprising: storing a plurality of charging parameters in one or more programmable data storage elements ; supplying a controlled current from said switching regulator via a filter 104, 804, 1103, 1104 to said battery during a first time period, wherein the controlled current supplied is based at least in part on a control signal applied to the switching regulator, and further wherein the control signal is based at least in part on a first parameter of said stored charging parameters and the first parameter is variable across a range of values to program the controlled current across a corresponding range of current values; and supplying a constant voltage from said switching regulator via said filter to said battery during a second time period following the first time period if a voltage on the battery is above a first threshold, wherein the constant voltage is based at least in part on the control signal applied to the switching regulator, and further wherein the control signal is based at least in part on a second parameter of said stored charging parameters and the second parameter is variable across a range of values to program the constant voltage across a corresponding range of voltage values.</p>"
            ]
          },
          "metadata": {}
        },
        {
          "output_type": "display_data",
          "data": {
            "text/plain": [
              "<IPython.core.display.HTML object>"
            ],
            "text/html": [
              "<h3>Beam search claim (BLEURT = -80.06778359413147)</h3>"
            ]
          },
          "metadata": {}
        },
        {
          "output_type": "display_data",
          "data": {
            "text/plain": [
              "<IPython.core.display.HTML object>"
            ],
            "text/html": [
              "<p>a universal serial bus battery charger comprising a switching regulator having at least one switching transistor, the switching transistor having first input and a first output, wherein the first input of the switching transistor is coupled to a universal serial bus power source, a filter having a first input and a first output, wherein the first input of the filter is coupled to the first output of the switching transistor, and a battery coupled to the first output of the filter, wherein the switching regulator is configured to receive a usb voltage, and in accordance therewith, generate a switching signal to the control terminal of the switching transistor, and wherein a switching current and switching voltage at the output of the switching transistor are coupled through the filter to generate a filtered current and a filtered voltage to charge the battery.</p>"
            ]
          },
          "metadata": {}
        },
        {
          "output_type": "display_data",
          "data": {
            "text/plain": [
              "<IPython.core.display.HTML object>"
            ],
            "text/html": [
              "<hr/>"
            ]
          },
          "metadata": {}
        },
        {
          "output_type": "display_data",
          "data": {
            "text/plain": [
              "<IPython.core.display.HTML object>"
            ],
            "text/html": [
              "<h1>bigbird balanced</h1>"
            ]
          },
          "metadata": {}
        },
        {
          "output_type": "display_data",
          "data": {
            "text/plain": [
              "<IPython.core.display.HTML object>"
            ],
            "text/html": [
              "<h2>Greedy search gen</h1>"
            ]
          },
          "metadata": {}
        },
        {
          "output_type": "display_data",
          "data": {
            "text/plain": [
              "<IPython.core.display.HTML object>"
            ],
            "text/html": [
              "<h3>Original claim</h3>"
            ]
          },
          "metadata": {}
        },
        {
          "output_type": "display_data",
          "data": {
            "text/plain": [
              "<IPython.core.display.HTML object>"
            ],
            "text/html": [
              "<p>a semiconductor light emitting element comprising: a first semiconductor layer  of a first conductivity type; a pit formation layer  formed on said first semiconductor layer  and having a pyramidal pit pt caused by a threading dislocation td generated in said first semiconductor layer  ; an active layer  formed on said pit formation layer  and made of ingan-based semiconductor materials, said active layer  having a multi-quantum well structure having well layers wn and barrier layers bn that are laminated alternately in which each well layer and each barrier layer lie one upon another, and said active layer  having a flat portion 14a and an embedded portion 14b which is formed so as to embed said pit; and a second semiconductor layer  formed on said active layer  and having a second conductivity type which is opposite to the first conductivity type, characterized in that said flat portion 14a has flat well portions fwn corresponding to said well layers wn, said embedded portion 14b has embedded well portions iwn corresponding to said well layers wn, each of said embedded well portions iwn has ring portions rwn each of which is formed in an interface with each of said flat well portions fwn so as to surround said threading dislocation td, each of said ring portions rwn has a band gap smaller than that of each of said flat well portions fwn, each of said ring portions rwn has a thickness d1 larger than a thickness d2 of each of said flat well portions fwn corresponding to each of said ring portions rwn, said embedded portion 14b has embedded barrier portions ibn corresponding to said barrier layers bn, said embedded well portions iwn and said embedded barrier portions ibn are configured such that a facet upper end p12 of one of said embedded well portions iwn is formed at a position closer to a center cp of said pit pt than a facet upper end p11 of an adjacent one of said embedded barrier portions ibn, wherein the one embedded well portion iwn is subsequently formed on the adjacent embedded barrier portion ibn.</p>"
            ]
          },
          "metadata": {}
        },
        {
          "output_type": "display_data",
          "data": {
            "text/plain": [
              "<IPython.core.display.HTML object>"
            ],
            "text/html": [
              "<h3>Greedy search claim (BLEURT = -121.4269995689392)</h3>"
            ]
          },
          "metadata": {}
        },
        {
          "output_type": "display_data",
          "data": {
            "text/plain": [
              "<IPython.core.display.HTML object>"
            ],
            "text/html": [
              "<p>a semiconductor light emitting element comprising:a nitride semiconductor layer grown on a substrate made of a material different from a nitride semiconductor;a threading dislocation extending in a layered direction of the nitride semiconductor layer;a pit surrounding the threading dislocation, the pit having inclined side surfaces surrounding the threading dislocation; andan active layer grown on the pit after pit formation, the active layer being layered on the inclined side surface of the pit at a growth rate slower than that on the other portion flat portion.</p>"
            ]
          },
          "metadata": {}
        },
        {
          "output_type": "display_data",
          "data": {
            "text/plain": [
              "<IPython.core.display.HTML object>"
            ],
            "text/html": [
              "<hr/>"
            ]
          },
          "metadata": {}
        },
        {
          "output_type": "display_data",
          "data": {
            "text/plain": [
              "<IPython.core.display.HTML object>"
            ],
            "text/html": [
              "<h3>Original claim</h3>"
            ]
          },
          "metadata": {}
        },
        {
          "output_type": "display_data",
          "data": {
            "text/plain": [
              "<IPython.core.display.HTML object>"
            ],
            "text/html": [
              "<p>a collaboration method in a distributed resilient network interconnect system, the method comprising: after receiving system parameters notified by a distributed relay control protocol, drcp, system, a link aggregation control protocol, lacp, system taking the system parameters of the drcp system as system negotiation parameters of the lacp system; the method being characterized in that it further comprises: when a receiving state machine of the lacp system is in a port disabled state and meets a first preset condition, the receiving state machine jumping to a negotiation state after receiving the system parameters notified by the drcp system, and jumping to an expired state after taking the system parameters of the drcp system as the system negotiation parameters of the lacp system; when the receiving state machine of the lacp system is in the port disabled state, when the lacp system supports the distributed resilient network interconnected, drni, system and has not received the system parameters notified by the drcp system, the receiving state machine remaining in the port disabled state.</p>"
            ]
          },
          "metadata": {}
        },
        {
          "output_type": "display_data",
          "data": {
            "text/plain": [
              "<IPython.core.display.HTML object>"
            ],
            "text/html": [
              "<h3>Greedy search claim (BLEURT = -102.6331067085266)</h3>"
            ]
          },
          "metadata": {}
        },
        {
          "output_type": "display_data",
          "data": {
            "text/plain": [
              "<IPython.core.display.HTML object>"
            ],
            "text/html": [
              "<p>a collaboration method in a distributed resilient network interconnected system, comprising:after receiving system parameters notified by a distributed relay control protocol drcp system, a link aggregation control protocol lacp system taking the system parameters of the drcp system as system negotiation parameters of the lacp system.</p>"
            ]
          },
          "metadata": {}
        },
        {
          "output_type": "display_data",
          "data": {
            "text/plain": [
              "<IPython.core.display.HTML object>"
            ],
            "text/html": [
              "<hr/>"
            ]
          },
          "metadata": {}
        },
        {
          "output_type": "display_data",
          "data": {
            "text/plain": [
              "<IPython.core.display.HTML object>"
            ],
            "text/html": [
              "<h3>Original claim</h3>"
            ]
          },
          "metadata": {}
        },
        {
          "output_type": "display_data",
          "data": {
            "text/plain": [
              "<IPython.core.display.HTML object>"
            ],
            "text/html": [
              "<p>a method for generating a simulated interference, comprising: separately configuring  interference characteristic parameters on one or more simulated load templates, wherein the interference characteristic parameters are used to simulate one interference source or a type of interference source that has a same interference characteristic, and the interference characteristic parameters comprise a transmission mode, a rank, a precoding matrix indicator, pmi, a resource utilization rate and a modulation and coding scheme, mcs; wherein the configuring interference characteristic parameters comprises: configuring the transmission mode, the rank, the pmi, the resource utilization rate and the mcs; wherein the configuring the mcs comprises: setting the mcs to a specific value or a preset value range; and generating  a simulated interference by using the interference characteristic parameters configured on the one or more simulated load templates; characterized in that the configuring the resource utilization rate comprises: configuring a resource block, rb, utilization rate and a transmit power utilization rate of an interference cell, wherein if an rb utilization rate or a transmit power utilization rate that is scheduled by the interference cell is lower than a preset threshold, simulated load is scheduled; or if an rb utilization rate or a transmit power utilization rate that is scheduled by the interference cell is higher than a preset threshold, simulated load is invalid.</p>"
            ]
          },
          "metadata": {}
        },
        {
          "output_type": "display_data",
          "data": {
            "text/plain": [
              "<IPython.core.display.HTML object>"
            ],
            "text/html": [
              "<h3>Greedy search claim (BLEURT = -97.67787456512453)</h3>"
            ]
          },
          "metadata": {}
        },
        {
          "output_type": "display_data",
          "data": {
            "text/plain": [
              "<IPython.core.display.HTML object>"
            ],
            "text/html": [
              "<p>a method for generating a simulated interference, the method comprising:setting one or more simulated load templates and separately configuring interference characteristic parameters on the one or more simulated load templates, wherein one simulated load template is used to simulate one interference or a type of interference that has a same interference characteristic; andgenerating a simulated interference by using the interference characteristic parameters configured on the one or more simulated load templates, wherein if multiple simulated load templates are set, polling is performed, in a time domain andor a frequency domain, on interferences generated by the multiple simulated load templates by means of simulation.</p>"
            ]
          },
          "metadata": {}
        },
        {
          "output_type": "display_data",
          "data": {
            "text/plain": [
              "<IPython.core.display.HTML object>"
            ],
            "text/html": [
              "<hr/>"
            ]
          },
          "metadata": {}
        },
        {
          "output_type": "display_data",
          "data": {
            "text/plain": [
              "<IPython.core.display.HTML object>"
            ],
            "text/html": [
              "<h3>Original claim</h3>"
            ]
          },
          "metadata": {}
        },
        {
          "output_type": "display_data",
          "data": {
            "text/plain": [
              "<IPython.core.display.HTML object>"
            ],
            "text/html": [
              "<p>a signal cancellation method for a wireless communication system, carried out by a transmitter, the method comprises: splitting s11 a signal to obtain a main channel signal transmitted on a main channel and an auxiliary channel signal transmitted on an auxiliary channel, performing s12 digital domain channel characteristic matching processing on the main channel signal and the auxiliary channel signal respectively to obtain a main channel characteristic matched signal and an auxiliary channel characteristic matched signal, wherein channel characteristics of the main channel and the auxiliary channel are calculated, and the digital domain channel characteristic matching is executed according to the channel characteristics of the main channel and the auxiliary channel, wherein the digital domain channel characteristic matching processing adjusts the amplitude, phase and delay parameters of the main channel and the auxiliary channel so that the main channel signal and the auxiliary channel signal have a same amplitude and a same delay and opposite phases; and combining s13 the main channel characteristic matched signal and the auxiliary channel characteristic matched signal and inputting the combined signal into a channel characteristic calculation control module for controlling the matching processing of the main channel signal and the auxiliary channel signal to carry out signal cancellation, the method being characterized in that: the main channel and the auxiliary channel share a local oscillator, and a spectrum density of a non-linear component generated on the auxiliary channel by a carrier signal energy filtered by a carrier suppression filter is over 10db lower than a thermal bottom noise spectrum density.</p>"
            ]
          },
          "metadata": {}
        },
        {
          "output_type": "display_data",
          "data": {
            "text/plain": [
              "<IPython.core.display.HTML object>"
            ],
            "text/html": [
              "<h3>Greedy search claim (BLEURT = -89.86223340034485)</h3>"
            ]
          },
          "metadata": {}
        },
        {
          "output_type": "display_data",
          "data": {
            "text/plain": [
              "<IPython.core.display.HTML object>"
            ],
            "text/html": [
              "<p>a signal cancellation method for a wireless communication system, comprising:a transmitted signal is split to obtain a main channel signal transmitted on a main channel and an auxiliary channel signal transmitted on an auxiliary channel;the main channel signal and the auxiliary channel signal are subjected to digital domain channel characteristic matching processing respectively to obtain a main channel characteristic matched signal and an auxiliary channel characteristic matched signal; andthe main channel characteristic matched signal and the auxiliary channel characteristic matched signal which are coupled to a receiving channel are combined in order for signal cancellation.</p>"
            ]
          },
          "metadata": {}
        },
        {
          "output_type": "display_data",
          "data": {
            "text/plain": [
              "<IPython.core.display.HTML object>"
            ],
            "text/html": [
              "<hr/>"
            ]
          },
          "metadata": {}
        },
        {
          "output_type": "display_data",
          "data": {
            "text/plain": [
              "<IPython.core.display.HTML object>"
            ],
            "text/html": [
              "<h3>Original claim</h3>"
            ]
          },
          "metadata": {}
        },
        {
          "output_type": "display_data",
          "data": {
            "text/plain": [
              "<IPython.core.display.HTML object>"
            ],
            "text/html": [
              "<p>a method of charging a battery 150, 450, 550, 850, 1150, 1250 using a switching regulator 410, 510, 803, 1110, 1210, 1303, 1601 comprising: storing a plurality of charging parameters in one or more programmable data storage elements ; supplying a controlled current from said switching regulator via a filter 104, 804, 1103, 1104 to said battery during a first time period, wherein the controlled current supplied is based at least in part on a control signal applied to the switching regulator, and further wherein the control signal is based at least in part on a first parameter of said stored charging parameters and the first parameter is variable across a range of values to program the controlled current across a corresponding range of current values; and supplying a constant voltage from said switching regulator via said filter to said battery during a second time period following the first time period if a voltage on the battery is above a first threshold, wherein the constant voltage is based at least in part on the control signal applied to the switching regulator, and further wherein the control signal is based at least in part on a second parameter of said stored charging parameters and the second parameter is variable across a range of values to program the constant voltage across a corresponding range of voltage values.</p>"
            ]
          },
          "metadata": {}
        },
        {
          "output_type": "display_data",
          "data": {
            "text/plain": [
              "<IPython.core.display.HTML object>"
            ],
            "text/html": [
              "<h3>Greedy search claim (BLEURT = -80.06778359413147)</h3>"
            ]
          },
          "metadata": {}
        },
        {
          "output_type": "display_data",
          "data": {
            "text/plain": [
              "<IPython.core.display.HTML object>"
            ],
            "text/html": [
              "<p>a universal serial bus battery charger comprising a switching regulator having at least one switching transistor, the switching transistor having first input and a first output, wherein the first input of the switching transistor is coupled to a universal serial bus power source, a filter having a first input and a first output, wherein the first input of the filter is coupled to the first output of the switching transistor, and a battery coupled to the first output of the filter, wherein the switching regulator is configured to receive a usb voltage, and in accordance therewith, generate a switching signal to the control terminal of the switching transistor, and wherein a switching current and switching voltage at the output of the switching transistor are coupled through the filter to generate a filtered current and a filtered voltage to charge the battery.</p>"
            ]
          },
          "metadata": {}
        },
        {
          "output_type": "display_data",
          "data": {
            "text/plain": [
              "<IPython.core.display.HTML object>"
            ],
            "text/html": [
              "<hr/>"
            ]
          },
          "metadata": {}
        },
        {
          "output_type": "display_data",
          "data": {
            "text/plain": [
              "<IPython.core.display.HTML object>"
            ],
            "text/html": [
              "<h2>Beam search gen</h1>"
            ]
          },
          "metadata": {}
        },
        {
          "output_type": "display_data",
          "data": {
            "text/plain": [
              "<IPython.core.display.HTML object>"
            ],
            "text/html": [
              "<h3>Original claim</h3>"
            ]
          },
          "metadata": {}
        },
        {
          "output_type": "display_data",
          "data": {
            "text/plain": [
              "<IPython.core.display.HTML object>"
            ],
            "text/html": [
              "<p>a radio system  comprising: a radio unit  comprising a modulator  configured to modulate a digital data signal and a signal interface ; an antenna unit  comprising a signal interface , the antenna unit being physically separate from the radio unit and located remote from the radio unit; and a cable  coupling the signal interface of the radio unit to the signal interface of the antenna unit; wherein the antenna unit further comprises: a digital pre-distortion engine  configured to receive the modulated digital data signal and to pre-distort the modulated digital data signal; a digital to analog converter  configured to convert the pre-distorted digital data signal to a pre-distorted analog data signal; and a power amplifier  configured to amplify the pre-distorted analog data signal, wherein the power amplifier distorts the pre-distorted analog data signal, the distortion introduced by the power amplifier being opposite to the pre-distortion introduced by the digital pre-distortion engine such that the pre-distortion introduced by the digital pre-distortion engine cancels the distortion introduced by the power amplifier; wherein the radio unit further comprises a coefficient computation engine  configured to calculate coefficients used by the digital pre-distortion engine to pre-distort the modulated digital data signal; wherein the digital pre-distortion engine  is configured to receive a feedback signal and the antenna unit further comprises a feedback loop comprising a down converter and an ad converter and wherein the output of the power amplifier is connected to the input of the down converter and the output of the ad converter is connected to the digital pre-distortion engine, the output of the ad converter having a sampling rate wherein the digital pre-distortion engine  is configured to compute feedback data based on the feedback signal and to output the feedback data to the coefficient computation engine  in the radio unit  for use in re-calculating the coefficients, wherein the data rate of the feedback data is less than the sampling rate</p>"
            ]
          },
          "metadata": {}
        },
        {
          "output_type": "display_data",
          "data": {
            "text/plain": [
              "<IPython.core.display.HTML object>"
            ],
            "text/html": [
              "<h3>Beam search claim (BLEURT = -135.2315902709961)</h3>"
            ]
          },
          "metadata": {}
        },
        {
          "output_type": "display_data",
          "data": {
            "text/plain": [
              "<IPython.core.display.HTML object>"
            ],
            "text/html": [
              "<p>a radio system comprising:a radio unit comprising a modulator configured to modulate a digital data signal and a signal interface; andan antenna unit comprising a signal interface and a cable coupling the signal interface of the radio unit to the signal interface of the antenna unit, wherein the antenna unit is physically separate from the radio unit and located remote from the radio unit.</p>"
            ]
          },
          "metadata": {}
        },
        {
          "output_type": "display_data",
          "data": {
            "text/plain": [
              "<IPython.core.display.HTML object>"
            ],
            "text/html": [
              "<hr/>"
            ]
          },
          "metadata": {}
        },
        {
          "output_type": "display_data",
          "data": {
            "text/plain": [
              "<IPython.core.display.HTML object>"
            ],
            "text/html": [
              "<h3>Original claim</h3>"
            ]
          },
          "metadata": {}
        },
        {
          "output_type": "display_data",
          "data": {
            "text/plain": [
              "<IPython.core.display.HTML object>"
            ],
            "text/html": [
              "<p>a semiconductor light emitting element comprising: a first semiconductor layer  of a first conductivity type; a pit formation layer  formed on said first semiconductor layer  and having a pyramidal pit pt caused by a threading dislocation td generated in said first semiconductor layer  ; an active layer  formed on said pit formation layer  and made of ingan-based semiconductor materials, said active layer  having a multi-quantum well structure having well layers wn and barrier layers bn that are laminated alternately in which each well layer and each barrier layer lie one upon another, and said active layer  having a flat portion 14a and an embedded portion 14b which is formed so as to embed said pit; and a second semiconductor layer  formed on said active layer  and having a second conductivity type which is opposite to the first conductivity type, characterized in that said flat portion 14a has flat well portions fwn corresponding to said well layers wn, said embedded portion 14b has embedded well portions iwn corresponding to said well layers wn, each of said embedded well portions iwn has ring portions rwn each of which is formed in an interface with each of said flat well portions fwn so as to surround said threading dislocation td, each of said ring portions rwn has a band gap smaller than that of each of said flat well portions fwn, each of said ring portions rwn has a thickness d1 larger than a thickness d2 of each of said flat well portions fwn corresponding to each of said ring portions rwn, said embedded portion 14b has embedded barrier portions ibn corresponding to said barrier layers bn, said embedded well portions iwn and said embedded barrier portions ibn are configured such that a facet upper end p12 of one of said embedded well portions iwn is formed at a position closer to a center cp of said pit pt than a facet upper end p11 of an adjacent one of said embedded barrier portions ibn, wherein the one embedded well portion iwn is subsequently formed on the adjacent embedded barrier portion ibn.</p>"
            ]
          },
          "metadata": {}
        },
        {
          "output_type": "display_data",
          "data": {
            "text/plain": [
              "<IPython.core.display.HTML object>"
            ],
            "text/html": [
              "<h3>Beam search claim (BLEURT = -130.30153512954712)</h3>"
            ]
          },
          "metadata": {}
        },
        {
          "output_type": "display_data",
          "data": {
            "text/plain": [
              "<IPython.core.display.HTML object>"
            ],
            "text/html": [
              "<p>a semiconductor light emitting element comprising:a nitride semiconductor layer grown on a substrate;a threading dislocation formed in the nitride semiconductor layer;a pit having inclined side surfaces surrounding the threading dislocation; andan active layer grown on the pit after pit formation, wherein the active layer is layered on the inclined side surface of the pit at a growth rate slower than that on the other portion of the active layer.</p>"
            ]
          },
          "metadata": {}
        },
        {
          "output_type": "display_data",
          "data": {
            "text/plain": [
              "<IPython.core.display.HTML object>"
            ],
            "text/html": [
              "<hr/>"
            ]
          },
          "metadata": {}
        },
        {
          "output_type": "display_data",
          "data": {
            "text/plain": [
              "<IPython.core.display.HTML object>"
            ],
            "text/html": [
              "<h3>Original claim</h3>"
            ]
          },
          "metadata": {}
        },
        {
          "output_type": "display_data",
          "data": {
            "text/plain": [
              "<IPython.core.display.HTML object>"
            ],
            "text/html": [
              "<p>a control system for controlling radiation direction of an antenna beam of an antenna unit , wherein the radiation direction is adjustable in accordance with an actuating signal, the control system comprising: a filtering means 403, 502 connected to a feeder cable 401, 501 configured to carry rf signals and a modulated control signal, wherein said filtering means 403, 502 is arranged to filter out said modulated control signal; an external control unit , attachable to said antenna unit , wherein said external control unit includes a detecting means 406, 602 and a control means , said detecting means 406, 602 is arranged to detect and demodulate said filtered out modulated control signal, and said control means  is arranged to produce the actuating signal in accordance with the detected and demodulated control signal, wherein said filtering means 403, 502 is directly connected to said detecting means 406, 602 located within said external control unit  so as to provide the filtered out modulated control signal directly to said detecting means 406, 602, and wherein said detecting means 406, 602 is arranged to provide said detected and demodulated control signal to said control means  in a format readable by said control means .</p>"
            ]
          },
          "metadata": {}
        },
        {
          "output_type": "display_data",
          "data": {
            "text/plain": [
              "<IPython.core.display.HTML object>"
            ],
            "text/html": [
              "<h3>Beam search claim (BLEURT = -103.04440259933472)</h3>"
            ]
          },
          "metadata": {}
        },
        {
          "output_type": "display_data",
          "data": {
            "text/plain": [
              "<IPython.core.display.HTML object>"
            ],
            "text/html": [
              "<p>an antenna beam radiation direction control system for controlling radiation direction of an antenna beam, comprising:- a ret remote-controlled electrical down-tilt unit ;- a filtering means ;- an external control unit ; and- a ret remote-controlled electrical down-tilt unit, characterized in that- the filtering means and the external control unit are directly connected to each other.</p>"
            ]
          },
          "metadata": {}
        },
        {
          "output_type": "display_data",
          "data": {
            "text/plain": [
              "<IPython.core.display.HTML object>"
            ],
            "text/html": [
              "<hr/>"
            ]
          },
          "metadata": {}
        },
        {
          "output_type": "display_data",
          "data": {
            "text/plain": [
              "<IPython.core.display.HTML object>"
            ],
            "text/html": [
              "<h3>Original claim</h3>"
            ]
          },
          "metadata": {}
        },
        {
          "output_type": "display_data",
          "data": {
            "text/plain": [
              "<IPython.core.display.HTML object>"
            ],
            "text/html": [
              "<p>a collaboration method in a distributed resilient network interconnect system, the method comprising: after receiving system parameters notified by a distributed relay control protocol, drcp, system, a link aggregation control protocol, lacp, system taking the system parameters of the drcp system as system negotiation parameters of the lacp system; the method being characterized in that it further comprises: when a receiving state machine of the lacp system is in a port disabled state and meets a first preset condition, the receiving state machine jumping to a negotiation state after receiving the system parameters notified by the drcp system, and jumping to an expired state after taking the system parameters of the drcp system as the system negotiation parameters of the lacp system; when the receiving state machine of the lacp system is in the port disabled state, when the lacp system supports the distributed resilient network interconnected, drni, system and has not received the system parameters notified by the drcp system, the receiving state machine remaining in the port disabled state.</p>"
            ]
          },
          "metadata": {}
        },
        {
          "output_type": "display_data",
          "data": {
            "text/plain": [
              "<IPython.core.display.HTML object>"
            ],
            "text/html": [
              "<h3>Beam search claim (BLEURT = -102.6331067085266)</h3>"
            ]
          },
          "metadata": {}
        },
        {
          "output_type": "display_data",
          "data": {
            "text/plain": [
              "<IPython.core.display.HTML object>"
            ],
            "text/html": [
              "<p>a collaboration method in a distributed resilient network interconnected system, comprising:after receiving system parameters notified by a distributed relay control protocol drcp system, a link aggregation control protocol lacp system taking the system parameters of the drcp system as system negotiation parameters of the lacp system.</p>"
            ]
          },
          "metadata": {}
        },
        {
          "output_type": "display_data",
          "data": {
            "text/plain": [
              "<IPython.core.display.HTML object>"
            ],
            "text/html": [
              "<hr/>"
            ]
          },
          "metadata": {}
        },
        {
          "output_type": "display_data",
          "data": {
            "text/plain": [
              "<IPython.core.display.HTML object>"
            ],
            "text/html": [
              "<h3>Original claim</h3>"
            ]
          },
          "metadata": {}
        },
        {
          "output_type": "display_data",
          "data": {
            "text/plain": [
              "<IPython.core.display.HTML object>"
            ],
            "text/html": [
              "<p>a method for generating a simulated interference, comprising: separately configuring  interference characteristic parameters on one or more simulated load templates, wherein the interference characteristic parameters are used to simulate one interference source or a type of interference source that has a same interference characteristic, and the interference characteristic parameters comprise a transmission mode, a rank, a precoding matrix indicator, pmi, a resource utilization rate and a modulation and coding scheme, mcs; wherein the configuring interference characteristic parameters comprises: configuring the transmission mode, the rank, the pmi, the resource utilization rate and the mcs; wherein the configuring the mcs comprises: setting the mcs to a specific value or a preset value range; and generating  a simulated interference by using the interference characteristic parameters configured on the one or more simulated load templates; characterized in that the configuring the resource utilization rate comprises: configuring a resource block, rb, utilization rate and a transmit power utilization rate of an interference cell, wherein if an rb utilization rate or a transmit power utilization rate that is scheduled by the interference cell is lower than a preset threshold, simulated load is scheduled; or if an rb utilization rate or a transmit power utilization rate that is scheduled by the interference cell is higher than a preset threshold, simulated load is invalid.</p>"
            ]
          },
          "metadata": {}
        },
        {
          "output_type": "display_data",
          "data": {
            "text/plain": [
              "<IPython.core.display.HTML object>"
            ],
            "text/html": [
              "<h3>Beam search claim (BLEURT = -97.67787456512453)</h3>"
            ]
          },
          "metadata": {}
        },
        {
          "output_type": "display_data",
          "data": {
            "text/plain": [
              "<IPython.core.display.HTML object>"
            ],
            "text/html": [
              "<p>a method for generating a simulated interference, the method comprising:setting one or more simulated load templates and separately configuring interference characteristic parameters on the one or more simulated load templates, wherein one simulated load template is used to simulate one interference or a type of interference that has a same interference characteristic; andgenerating a simulated interference by using the interference characteristic parameters configured on the one or more simulated load templates, wherein if multiple simulated load templates are set, polling is performed, in a time domain andor a frequency domain, on interferences generated by the multiple simulated load templates by means of simulation.</p>"
            ]
          },
          "metadata": {}
        },
        {
          "output_type": "display_data",
          "data": {
            "text/plain": [
              "<IPython.core.display.HTML object>"
            ],
            "text/html": [
              "<hr/>"
            ]
          },
          "metadata": {}
        },
        {
          "output_type": "display_data",
          "data": {
            "text/plain": [
              "<IPython.core.display.HTML object>"
            ],
            "text/html": [
              "<h1>bigbird less samples</h1>"
            ]
          },
          "metadata": {}
        },
        {
          "output_type": "display_data",
          "data": {
            "text/plain": [
              "<IPython.core.display.HTML object>"
            ],
            "text/html": [
              "<h2>Greedy search gen</h1>"
            ]
          },
          "metadata": {}
        },
        {
          "output_type": "display_data",
          "data": {
            "text/plain": [
              "<IPython.core.display.HTML object>"
            ],
            "text/html": [
              "<h3>Original claim</h3>"
            ]
          },
          "metadata": {}
        },
        {
          "output_type": "display_data",
          "data": {
            "text/plain": [
              "<IPython.core.display.HTML object>"
            ],
            "text/html": [
              "<p>a radio system  comprising: a radio unit  comprising a modulator  configured to modulate a digital data signal and a signal interface ; an antenna unit  comprising a signal interface , the antenna unit being physically separate from the radio unit and located remote from the radio unit; and a cable  coupling the signal interface of the radio unit to the signal interface of the antenna unit; wherein the antenna unit further comprises: a digital pre-distortion engine  configured to receive the modulated digital data signal and to pre-distort the modulated digital data signal; a digital to analog converter  configured to convert the pre-distorted digital data signal to a pre-distorted analog data signal; and a power amplifier  configured to amplify the pre-distorted analog data signal, wherein the power amplifier distorts the pre-distorted analog data signal, the distortion introduced by the power amplifier being opposite to the pre-distortion introduced by the digital pre-distortion engine such that the pre-distortion introduced by the digital pre-distortion engine cancels the distortion introduced by the power amplifier; wherein the radio unit further comprises a coefficient computation engine  configured to calculate coefficients used by the digital pre-distortion engine to pre-distort the modulated digital data signal; wherein the digital pre-distortion engine  is configured to receive a feedback signal and the antenna unit further comprises a feedback loop comprising a down converter and an ad converter and wherein the output of the power amplifier is connected to the input of the down converter and the output of the ad converter is connected to the digital pre-distortion engine, the output of the ad converter having a sampling rate wherein the digital pre-distortion engine  is configured to compute feedback data based on the feedback signal and to output the feedback data to the coefficient computation engine  in the radio unit  for use in re-calculating the coefficients, wherein the data rate of the feedback data is less than the sampling rate</p>"
            ]
          },
          "metadata": {}
        },
        {
          "output_type": "display_data",
          "data": {
            "text/plain": [
              "<IPython.core.display.HTML object>"
            ],
            "text/html": [
              "<h3>Greedy search claim (BLEURT = -155.3918719291687)</h3>"
            ]
          },
          "metadata": {}
        },
        {
          "output_type": "display_data",
          "data": {
            "text/plain": [
              "<IPython.core.display.HTML object>"
            ],
            "text/html": [
              "<p>a radio system comprising a radio unit comprising a modulator configured to modulate a digital data signal and a signal interface; and an antenna unit comprising a signal interface and a cable coupling the signal interface of the radio unit to the signal interface of the antenna unit.</p>"
            ]
          },
          "metadata": {}
        },
        {
          "output_type": "display_data",
          "data": {
            "text/plain": [
              "<IPython.core.display.HTML object>"
            ],
            "text/html": [
              "<hr/>"
            ]
          },
          "metadata": {}
        },
        {
          "output_type": "display_data",
          "data": {
            "text/plain": [
              "<IPython.core.display.HTML object>"
            ],
            "text/html": [
              "<h3>Original claim</h3>"
            ]
          },
          "metadata": {}
        },
        {
          "output_type": "display_data",
          "data": {
            "text/plain": [
              "<IPython.core.display.HTML object>"
            ],
            "text/html": [
              "<p>a semiconductor light emitting element comprising: a first semiconductor layer  of a first conductivity type; a pit formation layer  formed on said first semiconductor layer  and having a pyramidal pit pt caused by a threading dislocation td generated in said first semiconductor layer  ; an active layer  formed on said pit formation layer  and made of ingan-based semiconductor materials, said active layer  having a multi-quantum well structure having well layers wn and barrier layers bn that are laminated alternately in which each well layer and each barrier layer lie one upon another, and said active layer  having a flat portion 14a and an embedded portion 14b which is formed so as to embed said pit; and a second semiconductor layer  formed on said active layer  and having a second conductivity type which is opposite to the first conductivity type, characterized in that said flat portion 14a has flat well portions fwn corresponding to said well layers wn, said embedded portion 14b has embedded well portions iwn corresponding to said well layers wn, each of said embedded well portions iwn has ring portions rwn each of which is formed in an interface with each of said flat well portions fwn so as to surround said threading dislocation td, each of said ring portions rwn has a band gap smaller than that of each of said flat well portions fwn, each of said ring portions rwn has a thickness d1 larger than a thickness d2 of each of said flat well portions fwn corresponding to each of said ring portions rwn, said embedded portion 14b has embedded barrier portions ibn corresponding to said barrier layers bn, said embedded well portions iwn and said embedded barrier portions ibn are configured such that a facet upper end p12 of one of said embedded well portions iwn is formed at a position closer to a center cp of said pit pt than a facet upper end p11 of an adjacent one of said embedded barrier portions ibn, wherein the one embedded well portion iwn is subsequently formed on the adjacent embedded barrier portion ibn.</p>"
            ]
          },
          "metadata": {}
        },
        {
          "output_type": "display_data",
          "data": {
            "text/plain": [
              "<IPython.core.display.HTML object>"
            ],
            "text/html": [
              "<h3>Greedy search claim (BLEURT = -134.78679656982422)</h3>"
            ]
          },
          "metadata": {}
        },
        {
          "output_type": "display_data",
          "data": {
            "text/plain": [
              "<IPython.core.display.HTML object>"
            ],
            "text/html": [
              "<p>a semiconductor light emitting element comprising: a nitride semiconductor layer grown on a substrate made of a material different from a nitride semiconductor; and crystal defects misfit dislocations occur at an interface between the substrate and the semiconductor layer due to their lattice mismatch.</p>"
            ]
          },
          "metadata": {}
        },
        {
          "output_type": "display_data",
          "data": {
            "text/plain": [
              "<IPython.core.display.HTML object>"
            ],
            "text/html": [
              "<hr/>"
            ]
          },
          "metadata": {}
        },
        {
          "output_type": "display_data",
          "data": {
            "text/plain": [
              "<IPython.core.display.HTML object>"
            ],
            "text/html": [
              "<h3>Original claim</h3>"
            ]
          },
          "metadata": {}
        },
        {
          "output_type": "display_data",
          "data": {
            "text/plain": [
              "<IPython.core.display.HTML object>"
            ],
            "text/html": [
              "<p>a system comprising a battery pack  and a battery pack discharging device  for discharging a battery pack, the battery pack comprising battery modules  and having a positive voltage terminal  and a negative voltage terminal , the battery modules having a positive terminal and a negative terminal, the battery pack discharging device comprising: a hand-held member  having first and second conductive members 106, 107 and a resistor  electrically coupled between the first and second conductive members; and a docking station  having a housing  and first and second contact members 260, 262 disposed in the housing, the housing having first and second apertures extending therethrough 290, 292, the hand-held member configured to be at least partially disposed in the first and second apertures, respectively, of the housing such that the first and second conductive members contact the first and second contact members, respectively, the system being characterized in that the docking station is assembled onto the battery pack and that the first and second contact members of the docking station are configured to be connected to the terminals  of the battery modules.</p>"
            ]
          },
          "metadata": {}
        },
        {
          "output_type": "display_data",
          "data": {
            "text/plain": [
              "<IPython.core.display.HTML object>"
            ],
            "text/html": [
              "<h3>Greedy search claim (BLEURT = -109.15277004241943)</h3>"
            ]
          },
          "metadata": {}
        },
        {
          "output_type": "display_data",
          "data": {
            "text/plain": [
              "<IPython.core.display.HTML object>"
            ],
            "text/html": [
              "<p>a battery pack discharging device includes a hand-held member having first and second conductive members and a resistor electrically coupled between the first and second conductive members and a docking station having a housing and first and second contact members disposed in the housing.</p>"
            ]
          },
          "metadata": {}
        },
        {
          "output_type": "display_data",
          "data": {
            "text/plain": [
              "<IPython.core.display.HTML object>"
            ],
            "text/html": [
              "<hr/>"
            ]
          },
          "metadata": {}
        },
        {
          "output_type": "display_data",
          "data": {
            "text/plain": [
              "<IPython.core.display.HTML object>"
            ],
            "text/html": [
              "<h3>Original claim</h3>"
            ]
          },
          "metadata": {}
        },
        {
          "output_type": "display_data",
          "data": {
            "text/plain": [
              "<IPython.core.display.HTML object>"
            ],
            "text/html": [
              "<p>a communication system comprising: a connection control apparatus  configured to receive a connection request message that requests a connection to a network  from a first communication apparatus  included in a plurality of communication apparatuses in which a synchronous communication is limited and allow the first communication apparatus  to be temporarily connected to the network  when the connection request message corresponds to a message that requests a temporary communication; and a communication timing control apparatus  configured to transmit, when the communication timing control apparatus  receives a communication timing request message that requests acquisition of the communication timing from the first communication apparatus  while the first communication apparatus  is allowed to be temporarily connected to the network , a communication allowable timing notification message indicating a communication timing to the first communication apparatus  while the first communication apparatus  is allowed to be temporarily connected to the network ; wherein the communication timing control apparatus  is configured to start a collective accept timer when the communication timing control apparatus  receives the communication timing request message from the first communication apparatus , and when the communication timing control apparatus  receives the communication timing request message from a second communication apparatus  included in the plurality of communication apparatuses while the collective accept timer is being activated, calculate a communication timing of the second communication apparatus  and update the communication timing of the first communication apparatus .</p>"
            ]
          },
          "metadata": {}
        },
        {
          "output_type": "display_data",
          "data": {
            "text/plain": [
              "<IPython.core.display.HTML object>"
            ],
            "text/html": [
              "<h3>Greedy search claim (BLEURT = -101.33968591690063)</h3>"
            ]
          },
          "metadata": {}
        },
        {
          "output_type": "display_data",
          "data": {
            "text/plain": [
              "<IPython.core.display.HTML object>"
            ],
            "text/html": [
              "<p>a communication system comprising a connection control apparatus configured to control a connection between a mobile device and a core network, wherein the connection control apparatus is configured to send a notification of a communication timing to the core network.</p>"
            ]
          },
          "metadata": {}
        },
        {
          "output_type": "display_data",
          "data": {
            "text/plain": [
              "<IPython.core.display.HTML object>"
            ],
            "text/html": [
              "<hr/>"
            ]
          },
          "metadata": {}
        },
        {
          "output_type": "display_data",
          "data": {
            "text/plain": [
              "<IPython.core.display.HTML object>"
            ],
            "text/html": [
              "<h3>Original claim</h3>"
            ]
          },
          "metadata": {}
        },
        {
          "output_type": "display_data",
          "data": {
            "text/plain": [
              "<IPython.core.display.HTML object>"
            ],
            "text/html": [
              "<p>a signal cancellation method for a wireless communication system, carried out by a transmitter, the method comprises: splitting s11 a signal to obtain a main channel signal transmitted on a main channel and an auxiliary channel signal transmitted on an auxiliary channel, performing s12 digital domain channel characteristic matching processing on the main channel signal and the auxiliary channel signal respectively to obtain a main channel characteristic matched signal and an auxiliary channel characteristic matched signal, wherein channel characteristics of the main channel and the auxiliary channel are calculated, and the digital domain channel characteristic matching is executed according to the channel characteristics of the main channel and the auxiliary channel, wherein the digital domain channel characteristic matching processing adjusts the amplitude, phase and delay parameters of the main channel and the auxiliary channel so that the main channel signal and the auxiliary channel signal have a same amplitude and a same delay and opposite phases; and combining s13 the main channel characteristic matched signal and the auxiliary channel characteristic matched signal and inputting the combined signal into a channel characteristic calculation control module for controlling the matching processing of the main channel signal and the auxiliary channel signal to carry out signal cancellation, the method being characterized in that: the main channel and the auxiliary channel share a local oscillator, and a spectrum density of a non-linear component generated on the auxiliary channel by a carrier signal energy filtered by a carrier suppression filter is over 10db lower than a thermal bottom noise spectrum density.</p>"
            ]
          },
          "metadata": {}
        },
        {
          "output_type": "display_data",
          "data": {
            "text/plain": [
              "<IPython.core.display.HTML object>"
            ],
            "text/html": [
              "<h3>Greedy search claim (BLEURT = -89.44777846336365)</h3>"
            ]
          },
          "metadata": {}
        },
        {
          "output_type": "display_data",
          "data": {
            "text/plain": [
              "<IPython.core.display.HTML object>"
            ],
            "text/html": [
              "<p>a signal cancellation method for a wireless communication system, comprising: splitting a transmitted signal to obtain a main channel signal transmitted on a main channel and an auxiliary channel signal transmitted on an auxiliary channel; subjecting the main channel signal and the auxiliary channel signal to digital domain channel characteristic matching processing respectively to obtain a main channel characteristic matched signal and an auxiliary channel characteristic matched signal; and combining the main channel characteristic matched signal and the auxiliary channel characteristic matched signal which are coupled to a receiving channel in order for signal cancellation.</p>"
            ]
          },
          "metadata": {}
        },
        {
          "output_type": "display_data",
          "data": {
            "text/plain": [
              "<IPython.core.display.HTML object>"
            ],
            "text/html": [
              "<hr/>"
            ]
          },
          "metadata": {}
        },
        {
          "output_type": "display_data",
          "data": {
            "text/plain": [
              "<IPython.core.display.HTML object>"
            ],
            "text/html": [
              "<h2>Beam search gen</h1>"
            ]
          },
          "metadata": {}
        },
        {
          "output_type": "display_data",
          "data": {
            "text/plain": [
              "<IPython.core.display.HTML object>"
            ],
            "text/html": [
              "<h3>Original claim</h3>"
            ]
          },
          "metadata": {}
        },
        {
          "output_type": "display_data",
          "data": {
            "text/plain": [
              "<IPython.core.display.HTML object>"
            ],
            "text/html": [
              "<p>a power supply  comprising: a plurality of power modules pm1-pmn, input terminals of the plurality of power modules pm1-pmn being electrically connected in series, output terminals of the plurality of power modules pm1-pmn being electrically connected in parallel; wherein each of the plurality of power modules pm1-pmn comprises: a first converter  configured to convert an input voltage into an intermediate voltage, wherein the intermediate voltage is dc; and a second converter  configured to output a dc supply voltage according to the intermediate voltage, wherein the first converters  in the power modules pm1-pmn are configured to be controlled with at least one first common control signal having a common duty cycle, wherein the second converters  in the power modules pm1-pmn are configured to be controlled with at least one second common control signal having a common duty cycle, wherein the at least one first common control signal is determined according to the input voltage, an input current corresponding to the input voltage, and the intermediate voltages in the power modules pm1-pmn, and wherein the at least one second common control signal is determined according to the dc supply voltage.</p>"
            ]
          },
          "metadata": {}
        },
        {
          "output_type": "display_data",
          "data": {
            "text/plain": [
              "<IPython.core.display.HTML object>"
            ],
            "text/html": [
              "<h3>Beam search claim (BLEURT = -127.0541787147522)</h3>"
            ]
          },
          "metadata": {}
        },
        {
          "output_type": "display_data",
          "data": {
            "text/plain": [
              "<IPython.core.display.HTML object>"
            ],
            "text/html": [
              "<p>a power supply includes a plurality of power modules. each of the plurality of power modules includes a first converter and a second converter.</p>"
            ]
          },
          "metadata": {}
        },
        {
          "output_type": "display_data",
          "data": {
            "text/plain": [
              "<IPython.core.display.HTML object>"
            ],
            "text/html": [
              "<hr/>"
            ]
          },
          "metadata": {}
        },
        {
          "output_type": "display_data",
          "data": {
            "text/plain": [
              "<IPython.core.display.HTML object>"
            ],
            "text/html": [
              "<h3>Original claim</h3>"
            ]
          },
          "metadata": {}
        },
        {
          "output_type": "display_data",
          "data": {
            "text/plain": [
              "<IPython.core.display.HTML object>"
            ],
            "text/html": [
              "<p>a radio system  comprising: a radio unit  comprising a modulator  configured to modulate a digital data signal and a signal interface ; an antenna unit  comprising a signal interface , the antenna unit being physically separate from the radio unit and located remote from the radio unit; and a cable  coupling the signal interface of the radio unit to the signal interface of the antenna unit; wherein the antenna unit further comprises: a digital pre-distortion engine  configured to receive the modulated digital data signal and to pre-distort the modulated digital data signal; a digital to analog converter  configured to convert the pre-distorted digital data signal to a pre-distorted analog data signal; and a power amplifier  configured to amplify the pre-distorted analog data signal, wherein the power amplifier distorts the pre-distorted analog data signal, the distortion introduced by the power amplifier being opposite to the pre-distortion introduced by the digital pre-distortion engine such that the pre-distortion introduced by the digital pre-distortion engine cancels the distortion introduced by the power amplifier; wherein the radio unit further comprises a coefficient computation engine  configured to calculate coefficients used by the digital pre-distortion engine to pre-distort the modulated digital data signal; wherein the digital pre-distortion engine  is configured to receive a feedback signal and the antenna unit further comprises a feedback loop comprising a down converter and an ad converter and wherein the output of the power amplifier is connected to the input of the down converter and the output of the ad converter is connected to the digital pre-distortion engine, the output of the ad converter having a sampling rate wherein the digital pre-distortion engine  is configured to compute feedback data based on the feedback signal and to output the feedback data to the coefficient computation engine  in the radio unit  for use in re-calculating the coefficients, wherein the data rate of the feedback data is less than the sampling rate</p>"
            ]
          },
          "metadata": {}
        },
        {
          "output_type": "display_data",
          "data": {
            "text/plain": [
              "<IPython.core.display.HTML object>"
            ],
            "text/html": [
              "<h3>Beam search claim (BLEURT = -116.0746455192566)</h3>"
            ]
          },
          "metadata": {}
        },
        {
          "output_type": "display_data",
          "data": {
            "text/plain": [
              "<IPython.core.display.HTML object>"
            ],
            "text/html": [
              "<p>a radio system comprising a radio unit comprising a modulator configured to modulate a digital data signal and a signal interface; and an antenna unit comprising a signal interface and a cable coupling the signal interface of the radio unit to the signal interface of the antenna unit; and wherein the radio system comprises a coefficient computation engine configured to calculate coefficients used by the digital pre-distortion engine to pre-distort the modulated digital data signal.</p>"
            ]
          },
          "metadata": {}
        },
        {
          "output_type": "display_data",
          "data": {
            "text/plain": [
              "<IPython.core.display.HTML object>"
            ],
            "text/html": [
              "<hr/>"
            ]
          },
          "metadata": {}
        },
        {
          "output_type": "display_data",
          "data": {
            "text/plain": [
              "<IPython.core.display.HTML object>"
            ],
            "text/html": [
              "<h3>Original claim</h3>"
            ]
          },
          "metadata": {}
        },
        {
          "output_type": "display_data",
          "data": {
            "text/plain": [
              "<IPython.core.display.HTML object>"
            ],
            "text/html": [
              "<p>a manufacturing method of a battery pack  having: battery cells ; a battery holder  holding the battery cells ; a waterproof bag  storing the battery holder  holding the battery cells  as a waterproof structure; and a potting resin  being injected in the waterproof bag ,wherein the waterproof bag  has a check valve  which opens only at the time of exhausting an inner air, the method comprising: an injecting step injecting the uncured pasty or liquid potting resin  into the waterproof bag  storing the battery holder , in a state that a circuit board  is located on an upper surface of the battery holder  holding the battery cells , characterizing in that: in the injecting step, the waterproof bag  is partially pushed from outside, and in this state the potting resin  is injected into the waterproof bag .</p>"
            ]
          },
          "metadata": {}
        },
        {
          "output_type": "display_data",
          "data": {
            "text/plain": [
              "<IPython.core.display.HTML object>"
            ],
            "text/html": [
              "<h3>Beam search claim (BLEURT = -115.71072340011597)</h3>"
            ]
          },
          "metadata": {}
        },
        {
          "output_type": "display_data",
          "data": {
            "text/plain": [
              "<IPython.core.display.HTML object>"
            ],
            "text/html": [
              "<p>a battery pack and the manufacturing method of the battery pack in which while a volume of an injected potting resin is a minimum, the potting resin tightly contacts a battery cell, and heat of the battery cell can be appropriately radiated.</p>"
            ]
          },
          "metadata": {}
        },
        {
          "output_type": "display_data",
          "data": {
            "text/plain": [
              "<IPython.core.display.HTML object>"
            ],
            "text/html": [
              "<hr/>"
            ]
          },
          "metadata": {}
        },
        {
          "output_type": "display_data",
          "data": {
            "text/plain": [
              "<IPython.core.display.HTML object>"
            ],
            "text/html": [
              "<h3>Original claim</h3>"
            ]
          },
          "metadata": {}
        },
        {
          "output_type": "display_data",
          "data": {
            "text/plain": [
              "<IPython.core.display.HTML object>"
            ],
            "text/html": [
              "<p>a semiconductor light emitting element comprising: a first semiconductor layer  of a first conductivity type; a pit formation layer  formed on said first semiconductor layer  and having a pyramidal pit pt caused by a threading dislocation td generated in said first semiconductor layer  ; an active layer  formed on said pit formation layer  and made of ingan-based semiconductor materials, said active layer  having a multi-quantum well structure having well layers wn and barrier layers bn that are laminated alternately in which each well layer and each barrier layer lie one upon another, and said active layer  having a flat portion 14a and an embedded portion 14b which is formed so as to embed said pit; and a second semiconductor layer  formed on said active layer  and having a second conductivity type which is opposite to the first conductivity type, characterized in that said flat portion 14a has flat well portions fwn corresponding to said well layers wn, said embedded portion 14b has embedded well portions iwn corresponding to said well layers wn, each of said embedded well portions iwn has ring portions rwn each of which is formed in an interface with each of said flat well portions fwn so as to surround said threading dislocation td, each of said ring portions rwn has a band gap smaller than that of each of said flat well portions fwn, each of said ring portions rwn has a thickness d1 larger than a thickness d2 of each of said flat well portions fwn corresponding to each of said ring portions rwn, said embedded portion 14b has embedded barrier portions ibn corresponding to said barrier layers bn, said embedded well portions iwn and said embedded barrier portions ibn are configured such that a facet upper end p12 of one of said embedded well portions iwn is formed at a position closer to a center cp of said pit pt than a facet upper end p11 of an adjacent one of said embedded barrier portions ibn, wherein the one embedded well portion iwn is subsequently formed on the adjacent embedded barrier portion ibn.</p>"
            ]
          },
          "metadata": {}
        },
        {
          "output_type": "display_data",
          "data": {
            "text/plain": [
              "<IPython.core.display.HTML object>"
            ],
            "text/html": [
              "<h3>Beam search claim (BLEURT = -111.07983589172365)</h3>"
            ]
          },
          "metadata": {}
        },
        {
          "output_type": "display_data",
          "data": {
            "text/plain": [
              "<IPython.core.display.HTML object>"
            ],
            "text/html": [
              "<p>a semiconductor light emitting element comprising: a nitride semiconductor layer grown on a substrate made of a material different from a nitride semiconductor; a threading dislocation extending in a layered direction of the nitride semiconductor layer; and crystal defects misfit dislocations occurring at an interface between the substrate and the semiconductor layer due to their lattice mismatch, wherein the crystal defects misfit dislocations are formed so as to penetrate the nitride semiconductor layer in the layered direction of the nitride semiconductor layer during crystal growth.</p>"
            ]
          },
          "metadata": {}
        },
        {
          "output_type": "display_data",
          "data": {
            "text/plain": [
              "<IPython.core.display.HTML object>"
            ],
            "text/html": [
              "<hr/>"
            ]
          },
          "metadata": {}
        },
        {
          "output_type": "display_data",
          "data": {
            "text/plain": [
              "<IPython.core.display.HTML object>"
            ],
            "text/html": [
              "<h3>Original claim</h3>"
            ]
          },
          "metadata": {}
        },
        {
          "output_type": "display_data",
          "data": {
            "text/plain": [
              "<IPython.core.display.HTML object>"
            ],
            "text/html": [
              "<p>a communication system comprising: a connection control apparatus  configured to receive a connection request message that requests a connection to a network  from a first communication apparatus  included in a plurality of communication apparatuses in which a synchronous communication is limited and allow the first communication apparatus  to be temporarily connected to the network  when the connection request message corresponds to a message that requests a temporary communication; and a communication timing control apparatus  configured to transmit, when the communication timing control apparatus  receives a communication timing request message that requests acquisition of the communication timing from the first communication apparatus  while the first communication apparatus  is allowed to be temporarily connected to the network , a communication allowable timing notification message indicating a communication timing to the first communication apparatus  while the first communication apparatus  is allowed to be temporarily connected to the network ; wherein the communication timing control apparatus  is configured to start a collective accept timer when the communication timing control apparatus  receives the communication timing request message from the first communication apparatus , and when the communication timing control apparatus  receives the communication timing request message from a second communication apparatus  included in the plurality of communication apparatuses while the collective accept timer is being activated, calculate a communication timing of the second communication apparatus  and update the communication timing of the first communication apparatus .</p>"
            ]
          },
          "metadata": {}
        },
        {
          "output_type": "display_data",
          "data": {
            "text/plain": [
              "<IPython.core.display.HTML object>"
            ],
            "text/html": [
              "<h3>Beam search claim (BLEURT = -101.33968591690063)</h3>"
            ]
          },
          "metadata": {}
        },
        {
          "output_type": "display_data",
          "data": {
            "text/plain": [
              "<IPython.core.display.HTML object>"
            ],
            "text/html": [
              "<p>a communication system comprising a connection control apparatus configured to control a connection between a mobile device and a core network, wherein the connection control apparatus is configured to send a notification of a communication timing to the core network.</p>"
            ]
          },
          "metadata": {}
        },
        {
          "output_type": "display_data",
          "data": {
            "text/plain": [
              "<IPython.core.display.HTML object>"
            ],
            "text/html": [
              "<hr/>"
            ]
          },
          "metadata": {}
        }
      ]
    },
    {
      "cell_type": "markdown",
      "source": [
        "On the other hand, we can see that BLEURT mostly penalizes short summaries. This is probably because missing information and contextually similar words are perceived as important by the metric."
      ],
      "metadata": {
        "id": "LT5A_znRChxy"
      },
      "id": "LT5A_znRChxy"
    },
    {
      "cell_type": "code",
      "source": [
        "from IPython.display import display, HTML\n",
        "\n",
        "for model, metric in metrics.items():\n",
        "  display(HTML(f\"<h1>{model}</h1>\"))\n",
        "  display(HTML(f\"<h2>Greedy search gen</h1>\"))\n",
        "  badly_generated = metric.sort_values([\"greedy_gen_rougeL\"]).iloc[:5]\n",
        "  for idx, bg in badly_generated.iterrows():\n",
        "    display(HTML(f\"<h3>Original claim</h3>\"))\n",
        "    display(HTML(f\"<p>{ bg.claim }</p>\"))\n",
        "    display(HTML(f\"<h3>Greedy search claim (ROUGE-L = {bg.greedy_gen_rougeL})</h3>\"))\n",
        "    display(HTML(f\"<p>{ bg.greedy_gen }</p>\"))\n",
        "    display(HTML(f\"<hr/>\"))\n",
        "\n",
        "  display(HTML(f\"<h2>Beam search gen</h1>\"))\n",
        "  badly_generated = metric.sort_values([\"beam1_gen_rougeL\"]).iloc[:5]\n",
        "  for idx, bg in badly_generated.iterrows():\n",
        "    display(HTML(f\"<h3>Original claim</h3>\"))\n",
        "    display(HTML(f\"<p>{ bg.claim }</p>\"))\n",
        "    display(HTML(f\"<h3>Beam search claim (ROUGE-L = {bg.beam1_gen_rougeL})</h3>\"))\n",
        "    display(HTML(f\"<p>{ bg.beam1_gen }</p>\"))\n",
        "    display(HTML(f\"<hr/>\"))"
      ],
      "metadata": {
        "colab": {
          "base_uri": "https://localhost:8080/",
          "height": 1000
        },
        "id": "a1PT3za0DIuR",
        "outputId": "44295832-1958-4947-baac-2c1cda90d215"
      },
      "id": "a1PT3za0DIuR",
      "execution_count": 154,
      "outputs": [
        {
          "output_type": "display_data",
          "data": {
            "text/plain": [
              "<IPython.core.display.HTML object>"
            ],
            "text/html": [
              "<h1>bart</h1>"
            ]
          },
          "metadata": {}
        },
        {
          "output_type": "display_data",
          "data": {
            "text/plain": [
              "<IPython.core.display.HTML object>"
            ],
            "text/html": [
              "<h2>Greedy search gen</h1>"
            ]
          },
          "metadata": {}
        },
        {
          "output_type": "display_data",
          "data": {
            "text/plain": [
              "<IPython.core.display.HTML object>"
            ],
            "text/html": [
              "<h3>Original claim</h3>"
            ]
          },
          "metadata": {}
        },
        {
          "output_type": "display_data",
          "data": {
            "text/plain": [
              "<IPython.core.display.HTML object>"
            ],
            "text/html": [
              "<p>a semiconductor light emitting element comprising: a first semiconductor layer  of a first conductivity type; a pit formation layer  formed on said first semiconductor layer  and having a pyramidal pit pt caused by a threading dislocation td generated in said first semiconductor layer ; an active layer  formed on said pit formation layer  and made of ingan-based semiconductor materials, said active layer  having a multi-quantum well structure having well layers wn and barrier layers bn that are laminated alternately in which each well layer and each barrier layer lie one upon another, and said active layer  having an embedded portion 14a formed so as to embed said pit pt; an electron blocking layer  formed on said active layer  to cover said embedded portion 14a; and a second semiconductor layer  formed on said electron blocking layer  and having a second conductivity type which is opposite to said first conductivity type, characterized in that said embedded portion 14a has embedded well portions iwn corresponding to said well layers wn respectively and embedded barrier portions ibn corresponding to said barrier layers bn respectively, each of said embedded well portions iwn and said embedded barrier portions ibn is configured such that, with respect to each iw, iw of said embedded well portions iwn and each ib, ib of said embedded barrier portions ibn which are situated adjacent to each other, a second apex angle y1,y2 of an apex pw, pw of said each of said embedded well portions iwn is smaller than a first apex angle x1, x2 of an apex pb , pb  of said each of said embedded barrier portions ibn wherein said each of said embedded well portions iwn is subsequently formed on said each of said embedded barrier portions ibn, said embedded well portions iwn are configured so as to have apex angles which are gradually increased respectively as the embedded well portions iwn approach said second semiconductor layer , said embedded barrier portions ibn are configured so as to have apex angles which are gradually increased respectively as the embedded barrier portions ibn approach said second semiconductor layer , so that said embedded portion 14a has a recess portion rc placed on an upper interface with said electron blocking layer  above said pyramidal pit pt, said recess portion rc has an apex 14p placed at a position existing in a layered direction of said active layer  within said active layer , the depth d of the apex 14p of said recess rc with regard to the interface between the active layer  and the electron blocking layer  outside the embedded portion 14a exceeding the well layer wn the nearest to said electron blocking layer  outside the embedded portion 14a.</p>"
            ]
          },
          "metadata": {}
        },
        {
          "output_type": "display_data",
          "data": {
            "text/plain": [
              "<IPython.core.display.HTML object>"
            ],
            "text/html": [
              "<h3>Greedy search claim (ROUGE-L = 7.4226804123711325)</h3>"
            ]
          },
          "metadata": {}
        },
        {
          "output_type": "display_data",
          "data": {
            "text/plain": [
              "<IPython.core.display.HTML object>"
            ],
            "text/html": [
              "<p>a semiconductor light emitting element  of a high luminous efficiency which has an electron blocking layer  reliably exerting the electron blocking function in case of having pits, when driven by a large current or driven at high temperature.</p>"
            ]
          },
          "metadata": {}
        },
        {
          "output_type": "display_data",
          "data": {
            "text/plain": [
              "<IPython.core.display.HTML object>"
            ],
            "text/html": [
              "<hr/>"
            ]
          },
          "metadata": {}
        },
        {
          "output_type": "display_data",
          "data": {
            "text/plain": [
              "<IPython.core.display.HTML object>"
            ],
            "text/html": [
              "<h3>Original claim</h3>"
            ]
          },
          "metadata": {}
        },
        {
          "output_type": "display_data",
          "data": {
            "text/plain": [
              "<IPython.core.display.HTML object>"
            ],
            "text/html": [
              "<p>a control system for controlling radiation direction of an antenna beam of an antenna unit , wherein the radiation direction is adjustable in accordance with an actuating signal, the control system comprising: a filtering means 403, 502 connected to a feeder cable 401, 501 configured to carry rf signals and a modulated control signal, wherein said filtering means 403, 502 is arranged to filter out said modulated control signal; an external control unit , attachable to said antenna unit , wherein said external control unit includes a detecting means 406, 602 and a control means , said detecting means 406, 602 is arranged to detect and demodulate said filtered out modulated control signal, and said control means  is arranged to produce the actuating signal in accordance with the detected and demodulated control signal, wherein said filtering means 403, 502 is directly connected to said detecting means 406, 602 located within said external control unit  so as to provide the filtered out modulated control signal directly to said detecting means 406, 602, and wherein said detecting means 406, 602 is arranged to provide said detected and demodulated control signal to said control means  in a format readable by said control means .</p>"
            ]
          },
          "metadata": {}
        },
        {
          "output_type": "display_data",
          "data": {
            "text/plain": [
              "<IPython.core.display.HTML object>"
            ],
            "text/html": [
              "<h3>Greedy search claim (ROUGE-L = 9.216589861751151)</h3>"
            ]
          },
          "metadata": {}
        },
        {
          "output_type": "display_data",
          "data": {
            "text/plain": [
              "<IPython.core.display.HTML object>"
            ],
            "text/html": [
              "<p>a method for controlling the radiation direction of an antenna beam  that solves, or at least relieves, the above stated problem.</p>"
            ]
          },
          "metadata": {}
        },
        {
          "output_type": "display_data",
          "data": {
            "text/plain": [
              "<IPython.core.display.HTML object>"
            ],
            "text/html": [
              "<hr/>"
            ]
          },
          "metadata": {}
        },
        {
          "output_type": "display_data",
          "data": {
            "text/plain": [
              "<IPython.core.display.HTML object>"
            ],
            "text/html": [
              "<h3>Original claim</h3>"
            ]
          },
          "metadata": {}
        },
        {
          "output_type": "display_data",
          "data": {
            "text/plain": [
              "<IPython.core.display.HTML object>"
            ],
            "text/html": [
              "<p>a semiconductor light emitting element comprising: a first semiconductor layer  of a first conductivity type; a pit formation layer  formed on said first semiconductor layer  and having a pyramidal pit pt caused by a threading dislocation td generated in said first semiconductor layer  ; an active layer  formed on said pit formation layer  and made of ingan-based semiconductor materials, said active layer  having a multi-quantum well structure having well layers wn and barrier layers bn that are laminated alternately in which each well layer and each barrier layer lie one upon another, and said active layer  having a flat portion 14a and an embedded portion 14b which is formed so as to embed said pit; and a second semiconductor layer  formed on said active layer  and having a second conductivity type which is opposite to the first conductivity type, characterized in that said flat portion 14a has flat well portions fwn corresponding to said well layers wn, said embedded portion 14b has embedded well portions iwn corresponding to said well layers wn, each of said embedded well portions iwn has ring portions rwn each of which is formed in an interface with each of said flat well portions fwn so as to surround said threading dislocation td, each of said ring portions rwn has a band gap smaller than that of each of said flat well portions fwn, each of said ring portions rwn has a thickness d1 larger than a thickness d2 of each of said flat well portions fwn corresponding to each of said ring portions rwn, said embedded portion 14b has embedded barrier portions ibn corresponding to said barrier layers bn, said embedded well portions iwn and said embedded barrier portions ibn are configured such that a facet upper end p12 of one of said embedded well portions iwn is formed at a position closer to a center cp of said pit pt than a facet upper end p11 of an adjacent one of said embedded barrier portions ibn, wherein the one embedded well portion iwn is subsequently formed on the adjacent embedded barrier portion ibn.</p>"
            ]
          },
          "metadata": {}
        },
        {
          "output_type": "display_data",
          "data": {
            "text/plain": [
              "<IPython.core.display.HTML object>"
            ],
            "text/html": [
              "<h3>Greedy search claim (ROUGE-L = 10.0)</h3>"
            ]
          },
          "metadata": {}
        },
        {
          "output_type": "display_data",
          "data": {
            "text/plain": [
              "<IPython.core.display.HTML object>"
            ],
            "text/html": [
              "<p>a semiconductor light emitting element  fabricated such that a nitride semiconductor layer  is grown on a substrate  made of a material different from the nitride, semiconductor such as a sapphire substrate, crystal defects  misfit dislocations occur at an interface between the substrate  and the semiconductor  due to their lattice mismatch.</p>"
            ]
          },
          "metadata": {}
        },
        {
          "output_type": "display_data",
          "data": {
            "text/plain": [
              "<IPython.core.display.HTML object>"
            ],
            "text/html": [
              "<hr/>"
            ]
          },
          "metadata": {}
        },
        {
          "output_type": "display_data",
          "data": {
            "text/plain": [
              "<IPython.core.display.HTML object>"
            ],
            "text/html": [
              "<h3>Original claim</h3>"
            ]
          },
          "metadata": {}
        },
        {
          "output_type": "display_data",
          "data": {
            "text/plain": [
              "<IPython.core.display.HTML object>"
            ],
            "text/html": [
              "<p>a compound selected from the group consisting of:</p>"
            ]
          },
          "metadata": {}
        },
        {
          "output_type": "display_data",
          "data": {
            "text/plain": [
              "<IPython.core.display.HTML object>"
            ],
            "text/html": [
              "<h3>Greedy search claim (ROUGE-L = 13.79310344827586)</h3>"
            ]
          },
          "metadata": {}
        },
        {
          "output_type": "display_data",
          "data": {
            "text/plain": [
              "<IPython.core.display.HTML object>"
            ],
            "text/html": [
              "<p>an organic light emitting device  comprising:an anode, a cathode, and an organic layer disposed between the anode and the cathode.</p>"
            ]
          },
          "metadata": {}
        },
        {
          "output_type": "display_data",
          "data": {
            "text/plain": [
              "<IPython.core.display.HTML object>"
            ],
            "text/html": [
              "<hr/>"
            ]
          },
          "metadata": {}
        },
        {
          "output_type": "display_data",
          "data": {
            "text/plain": [
              "<IPython.core.display.HTML object>"
            ],
            "text/html": [
              "<h3>Original claim</h3>"
            ]
          },
          "metadata": {}
        },
        {
          "output_type": "display_data",
          "data": {
            "text/plain": [
              "<IPython.core.display.HTML object>"
            ],
            "text/html": [
              "<p>a method for producing a squirrel-cage rotor  of an electric induction machine  comprising the steps of  making two circumferentially separated cuts 30, 31 in each of a plurality of steel sheets  from each of a plurality of openings  uniformly distributed around said sheet and separated from a periphery  of said sheet by a sheet portion , said cuts being made substantially radially into said sheet portion towards said periphery of the sheet while ending at a predetermined distance to said periphery,  stacking said sheets  onto each other while aligning said openings  so as to form rotor slots extending substantially axially,  die casting a rotor body while filling each said rotor slot with material forming a rotor conductor , and  machining said rotor body by peripherally removing material of said stack of sheets to a depth of at least said predetermined distance so as to, for each rotor conductor  and therealong, form a slot  extending substantially radially from the periphery  of the rotor body to said rotor conductor .</p>"
            ]
          },
          "metadata": {}
        },
        {
          "output_type": "display_data",
          "data": {
            "text/plain": [
              "<IPython.core.display.HTML object>"
            ],
            "text/html": [
              "<h3>Greedy search claim (ROUGE-L = 17.616580310880828)</h3>"
            ]
          },
          "metadata": {}
        },
        {
          "output_type": "display_data",
          "data": {
            "text/plain": [
              "<IPython.core.display.HTML object>"
            ],
            "text/html": [
              "<p>a method for producing a squirrel-cage rotor of an electric induction machine being improved in at least some aspect with respect to such methods already known.</p>"
            ]
          },
          "metadata": {}
        },
        {
          "output_type": "display_data",
          "data": {
            "text/plain": [
              "<IPython.core.display.HTML object>"
            ],
            "text/html": [
              "<hr/>"
            ]
          },
          "metadata": {}
        },
        {
          "output_type": "display_data",
          "data": {
            "text/plain": [
              "<IPython.core.display.HTML object>"
            ],
            "text/html": [
              "<h2>Beam search gen</h1>"
            ]
          },
          "metadata": {}
        },
        {
          "output_type": "display_data",
          "data": {
            "text/plain": [
              "<IPython.core.display.HTML object>"
            ],
            "text/html": [
              "<h3>Original claim</h3>"
            ]
          },
          "metadata": {}
        },
        {
          "output_type": "display_data",
          "data": {
            "text/plain": [
              "<IPython.core.display.HTML object>"
            ],
            "text/html": [
              "<p>a control system for controlling radiation direction of an antenna beam of an antenna unit , wherein the radiation direction is adjustable in accordance with an actuating signal, the control system comprising: a filtering means 403, 502 connected to a feeder cable 401, 501 configured to carry rf signals and a modulated control signal, wherein said filtering means 403, 502 is arranged to filter out said modulated control signal; an external control unit , attachable to said antenna unit , wherein said external control unit includes a detecting means 406, 602 and a control means , said detecting means 406, 602 is arranged to detect and demodulate said filtered out modulated control signal, and said control means  is arranged to produce the actuating signal in accordance with the detected and demodulated control signal, wherein said filtering means 403, 502 is directly connected to said detecting means 406, 602 located within said external control unit  so as to provide the filtered out modulated control signal directly to said detecting means 406, 602, and wherein said detecting means 406, 602 is arranged to provide said detected and demodulated control signal to said control means  in a format readable by said control means .</p>"
            ]
          },
          "metadata": {}
        },
        {
          "output_type": "display_data",
          "data": {
            "text/plain": [
              "<IPython.core.display.HTML object>"
            ],
            "text/html": [
              "<h3>Beam search claim (ROUGE-L = 9.216589861751151)</h3>"
            ]
          },
          "metadata": {}
        },
        {
          "output_type": "display_data",
          "data": {
            "text/plain": [
              "<IPython.core.display.HTML object>"
            ],
            "text/html": [
              "<p>a method for controlling the radiation direction of an antenna beam  that solves, or at least relieves, the above stated problem.</p>"
            ]
          },
          "metadata": {}
        },
        {
          "output_type": "display_data",
          "data": {
            "text/plain": [
              "<IPython.core.display.HTML object>"
            ],
            "text/html": [
              "<hr/>"
            ]
          },
          "metadata": {}
        },
        {
          "output_type": "display_data",
          "data": {
            "text/plain": [
              "<IPython.core.display.HTML object>"
            ],
            "text/html": [
              "<h3>Original claim</h3>"
            ]
          },
          "metadata": {}
        },
        {
          "output_type": "display_data",
          "data": {
            "text/plain": [
              "<IPython.core.display.HTML object>"
            ],
            "text/html": [
              "<p>a semiconductor light emitting element comprising: a first semiconductor layer  of a first conductivity type; a pit formation layer  formed on said first semiconductor layer  and having a pyramidal pit pt caused by a threading dislocation td generated in said first semiconductor layer  ; an active layer  formed on said pit formation layer  and made of ingan-based semiconductor materials, said active layer  having a multi-quantum well structure having well layers wn and barrier layers bn that are laminated alternately in which each well layer and each barrier layer lie one upon another, and said active layer  having a flat portion 14a and an embedded portion 14b which is formed so as to embed said pit; and a second semiconductor layer  formed on said active layer  and having a second conductivity type which is opposite to the first conductivity type, characterized in that said flat portion 14a has flat well portions fwn corresponding to said well layers wn, said embedded portion 14b has embedded well portions iwn corresponding to said well layers wn, each of said embedded well portions iwn has ring portions rwn each of which is formed in an interface with each of said flat well portions fwn so as to surround said threading dislocation td, each of said ring portions rwn has a band gap smaller than that of each of said flat well portions fwn, each of said ring portions rwn has a thickness d1 larger than a thickness d2 of each of said flat well portions fwn corresponding to each of said ring portions rwn, said embedded portion 14b has embedded barrier portions ibn corresponding to said barrier layers bn, said embedded well portions iwn and said embedded barrier portions ibn are configured such that a facet upper end p12 of one of said embedded well portions iwn is formed at a position closer to a center cp of said pit pt than a facet upper end p11 of an adjacent one of said embedded barrier portions ibn, wherein the one embedded well portion iwn is subsequently formed on the adjacent embedded barrier portion ibn.</p>"
            ]
          },
          "metadata": {}
        },
        {
          "output_type": "display_data",
          "data": {
            "text/plain": [
              "<IPython.core.display.HTML object>"
            ],
            "text/html": [
              "<h3>Beam search claim (ROUGE-L = 10.0)</h3>"
            ]
          },
          "metadata": {}
        },
        {
          "output_type": "display_data",
          "data": {
            "text/plain": [
              "<IPython.core.display.HTML object>"
            ],
            "text/html": [
              "<p>a semiconductor light emitting element  fabricated such that a nitride semiconductor layer  is grown on a substrate  made of a material different from the nitride, semiconductor such as a sapphire substrate, crystal defects  misfit dislocations occur at an interface between the substrate  and the semiconductor  due to their lattice mismatch.</p>"
            ]
          },
          "metadata": {}
        },
        {
          "output_type": "display_data",
          "data": {
            "text/plain": [
              "<IPython.core.display.HTML object>"
            ],
            "text/html": [
              "<hr/>"
            ]
          },
          "metadata": {}
        },
        {
          "output_type": "display_data",
          "data": {
            "text/plain": [
              "<IPython.core.display.HTML object>"
            ],
            "text/html": [
              "<h3>Original claim</h3>"
            ]
          },
          "metadata": {}
        },
        {
          "output_type": "display_data",
          "data": {
            "text/plain": [
              "<IPython.core.display.HTML object>"
            ],
            "text/html": [
              "<p>a semiconductor light emitting element comprising: a first semiconductor layer  of a first conductivity type; a pit formation layer  formed on said first semiconductor layer  and having a pyramidal pit pt caused by a threading dislocation td generated in said first semiconductor layer ; an active layer  formed on said pit formation layer  and made of ingan-based semiconductor materials, said active layer  having a multi-quantum well structure having well layers wn and barrier layers bn that are laminated alternately in which each well layer and each barrier layer lie one upon another, and said active layer  having an embedded portion 14a formed so as to embed said pit pt; an electron blocking layer  formed on said active layer  to cover said embedded portion 14a; and a second semiconductor layer  formed on said electron blocking layer  and having a second conductivity type which is opposite to said first conductivity type, characterized in that said embedded portion 14a has embedded well portions iwn corresponding to said well layers wn respectively and embedded barrier portions ibn corresponding to said barrier layers bn respectively, each of said embedded well portions iwn and said embedded barrier portions ibn is configured such that, with respect to each iw, iw of said embedded well portions iwn and each ib, ib of said embedded barrier portions ibn which are situated adjacent to each other, a second apex angle y1,y2 of an apex pw, pw of said each of said embedded well portions iwn is smaller than a first apex angle x1, x2 of an apex pb , pb  of said each of said embedded barrier portions ibn wherein said each of said embedded well portions iwn is subsequently formed on said each of said embedded barrier portions ibn, said embedded well portions iwn are configured so as to have apex angles which are gradually increased respectively as the embedded well portions iwn approach said second semiconductor layer , said embedded barrier portions ibn are configured so as to have apex angles which are gradually increased respectively as the embedded barrier portions ibn approach said second semiconductor layer , so that said embedded portion 14a has a recess portion rc placed on an upper interface with said electron blocking layer  above said pyramidal pit pt, said recess portion rc has an apex 14p placed at a position existing in a layered direction of said active layer  within said active layer , the depth d of the apex 14p of said recess rc with regard to the interface between the active layer  and the electron blocking layer  outside the embedded portion 14a exceeding the well layer wn the nearest to said electron blocking layer  outside the embedded portion 14a.</p>"
            ]
          },
          "metadata": {}
        },
        {
          "output_type": "display_data",
          "data": {
            "text/plain": [
              "<IPython.core.display.HTML object>"
            ],
            "text/html": [
              "<h3>Beam search claim (ROUGE-L = 10.95890410958904)</h3>"
            ]
          },
          "metadata": {}
        },
        {
          "output_type": "display_data",
          "data": {
            "text/plain": [
              "<IPython.core.display.HTML object>"
            ],
            "text/html": [
              "<p>a semiconductor light emitting element  comprising:a substrate  made of a material different from the nitride semiconductor such as a sapphire substrate, crystal defects  misfit dislocations occur at an interface between the substrate  and the semiconductor layer  due to their lattice mismatch; anda fiber layer  formed so as to penetrate the fiber layer in the layered direction of said semiconductor material during crystal growth.</p>"
            ]
          },
          "metadata": {}
        },
        {
          "output_type": "display_data",
          "data": {
            "text/plain": [
              "<IPython.core.display.HTML object>"
            ],
            "text/html": [
              "<hr/>"
            ]
          },
          "metadata": {}
        },
        {
          "output_type": "display_data",
          "data": {
            "text/plain": [
              "<IPython.core.display.HTML object>"
            ],
            "text/html": [
              "<h3>Original claim</h3>"
            ]
          },
          "metadata": {}
        },
        {
          "output_type": "display_data",
          "data": {
            "text/plain": [
              "<IPython.core.display.HTML object>"
            ],
            "text/html": [
              "<p>a compound selected from the group consisting of:</p>"
            ]
          },
          "metadata": {}
        },
        {
          "output_type": "display_data",
          "data": {
            "text/plain": [
              "<IPython.core.display.HTML object>"
            ],
            "text/html": [
              "<h3>Beam search claim (ROUGE-L = 13.79310344827586)</h3>"
            ]
          },
          "metadata": {}
        },
        {
          "output_type": "display_data",
          "data": {
            "text/plain": [
              "<IPython.core.display.HTML object>"
            ],
            "text/html": [
              "<p>an organic light emitting device  comprising:an anode, a cathode, and an organic layer disposed between the anode and the cathode.</p>"
            ]
          },
          "metadata": {}
        },
        {
          "output_type": "display_data",
          "data": {
            "text/plain": [
              "<IPython.core.display.HTML object>"
            ],
            "text/html": [
              "<hr/>"
            ]
          },
          "metadata": {}
        },
        {
          "output_type": "display_data",
          "data": {
            "text/plain": [
              "<IPython.core.display.HTML object>"
            ],
            "text/html": [
              "<h3>Original claim</h3>"
            ]
          },
          "metadata": {}
        },
        {
          "output_type": "display_data",
          "data": {
            "text/plain": [
              "<IPython.core.display.HTML object>"
            ],
            "text/html": [
              "<p>a method for producing a squirrel-cage rotor  of an electric induction machine  comprising the steps of  making two circumferentially separated cuts 30, 31 in each of a plurality of steel sheets  from each of a plurality of openings  uniformly distributed around said sheet and separated from a periphery  of said sheet by a sheet portion , said cuts being made substantially radially into said sheet portion towards said periphery of the sheet while ending at a predetermined distance to said periphery,  stacking said sheets  onto each other while aligning said openings  so as to form rotor slots extending substantially axially,  die casting a rotor body while filling each said rotor slot with material forming a rotor conductor , and  machining said rotor body by peripherally removing material of said stack of sheets to a depth of at least said predetermined distance so as to, for each rotor conductor  and therealong, form a slot  extending substantially radially from the periphery  of the rotor body to said rotor conductor .</p>"
            ]
          },
          "metadata": {}
        },
        {
          "output_type": "display_data",
          "data": {
            "text/plain": [
              "<IPython.core.display.HTML object>"
            ],
            "text/html": [
              "<h3>Beam search claim (ROUGE-L = 17.616580310880828)</h3>"
            ]
          },
          "metadata": {}
        },
        {
          "output_type": "display_data",
          "data": {
            "text/plain": [
              "<IPython.core.display.HTML object>"
            ],
            "text/html": [
              "<p>a method for producing a squirrel-cage rotor of an electric induction machine being improved in at least some aspect with respect to such methods already known.</p>"
            ]
          },
          "metadata": {}
        },
        {
          "output_type": "display_data",
          "data": {
            "text/plain": [
              "<IPython.core.display.HTML object>"
            ],
            "text/html": [
              "<hr/>"
            ]
          },
          "metadata": {}
        },
        {
          "output_type": "display_data",
          "data": {
            "text/plain": [
              "<IPython.core.display.HTML object>"
            ],
            "text/html": [
              "<h1>bigbird</h1>"
            ]
          },
          "metadata": {}
        },
        {
          "output_type": "display_data",
          "data": {
            "text/plain": [
              "<IPython.core.display.HTML object>"
            ],
            "text/html": [
              "<h2>Greedy search gen</h1>"
            ]
          },
          "metadata": {}
        },
        {
          "output_type": "display_data",
          "data": {
            "text/plain": [
              "<IPython.core.display.HTML object>"
            ],
            "text/html": [
              "<h3>Original claim</h3>"
            ]
          },
          "metadata": {}
        },
        {
          "output_type": "display_data",
          "data": {
            "text/plain": [
              "<IPython.core.display.HTML object>"
            ],
            "text/html": [
              "<p>a semiconductor light emitting element comprising: a first semiconductor layer  of a first conductivity type; a pit formation layer  formed on said first semiconductor layer  and having a pyramidal pit pt caused by a threading dislocation td generated in said first semiconductor layer  ; an active layer  formed on said pit formation layer  and made of ingan-based semiconductor materials, said active layer  having a multi-quantum well structure having well layers wn and barrier layers bn that are laminated alternately in which each well layer and each barrier layer lie one upon another, and said active layer  having a flat portion 14a and an embedded portion 14b which is formed so as to embed said pit; and a second semiconductor layer  formed on said active layer  and having a second conductivity type which is opposite to the first conductivity type, characterized in that said flat portion 14a has flat well portions fwn corresponding to said well layers wn, said embedded portion 14b has embedded well portions iwn corresponding to said well layers wn, each of said embedded well portions iwn has ring portions rwn each of which is formed in an interface with each of said flat well portions fwn so as to surround said threading dislocation td, each of said ring portions rwn has a band gap smaller than that of each of said flat well portions fwn, each of said ring portions rwn has a thickness d1 larger than a thickness d2 of each of said flat well portions fwn corresponding to each of said ring portions rwn, said embedded portion 14b has embedded barrier portions ibn corresponding to said barrier layers bn, said embedded well portions iwn and said embedded barrier portions ibn are configured such that a facet upper end p12 of one of said embedded well portions iwn is formed at a position closer to a center cp of said pit pt than a facet upper end p11 of an adjacent one of said embedded barrier portions ibn, wherein the one embedded well portion iwn is subsequently formed on the adjacent embedded barrier portion ibn.</p>"
            ]
          },
          "metadata": {}
        },
        {
          "output_type": "display_data",
          "data": {
            "text/plain": [
              "<IPython.core.display.HTML object>"
            ],
            "text/html": [
              "<h3>Greedy search claim (ROUGE-L = 10.0)</h3>"
            ]
          },
          "metadata": {}
        },
        {
          "output_type": "display_data",
          "data": {
            "text/plain": [
              "<IPython.core.display.HTML object>"
            ],
            "text/html": [
              "<p>a semiconductor light emitting element comprising:a substrate made of a material different from a nitride semiconductor such as a sapphire substrate ;a nitride semiconductor layer grown on the substrate ; andan active layer grown on the nitride semiconductor layer,wherein the nitride semiconductor layer is grown on the substrate such that the nitride semiconductor layer is grown on the substrate such that the nitride semiconductor layer is grown on the substrate such that the nitride semiconductor layer is grown on the substrate such that the nitride semiconductor layer is grown on the substrate such that the nitride semiconductor layer is grown on the substrate such that the nitride semiconductor layer is grown on the substrate such that the nitride semiconductor layer is grown on the substrate such that the nitride semiconductor layer is grown on the substrate such that the nitride semiconductor layer is grown on the substrate such that the nitride semiconductor layer is grown on the substrate such that the nitride semiconductor layer is grown on the substrate such that the nitride semiconductor layer is grown on the substrate such that the nitride semiconductor layer is grown on the substrate such that the nitride semiconductor layer is grown on the substrate such that the nitride semiconductor layer is grown on the substrate such that the nitride semiconductor layer is grown on the substrate such that the nitride semiconductor layer is grown on the substrate such that the nitride semiconductor layer is grown on the substrate such that the nitride semiconductor layer is grown on the substrate such that the nitride semiconductor layer is grown on the substrate such that the nitride semiconductor layer is grown on the substrate such that the nitride semiconductor layer is grown on the substrate such that the nitride semiconductor layer is grown on the substrate such that the nitride semiconductor layer is grown on the substrate such that the nitride semiconductor layer is grown on the substrate such that the nitride semiconductor layer is grown on the substrate such that the nitride semiconductor layer is grown on the substrate such that the nitride semiconductor layer is grown on the substrate such that the nitride semiconductor layer is grown on the substrate such that the nitride semiconductor layer is grown on the substrate such that the nitride semiconductor layer is grown on the substrate such that the nitride semiconductor layer is grown on the substrate such that the substrate such that the nitride semiconductor layer is grown on the substrate such that the nitride semiconductor layer is grown on the substrate such that the nitride semiconductor layer is grown on the substrate such that the nitride semiconductor layer is grown on the substrate such that the nitride semiconductor layer is grown on the substrate such that the nitride semiconductor layer is grown on the substrate such that the nitride semiconductor layer is grown on the substrate such that the nitride semiconductor layer is grown</p>"
            ]
          },
          "metadata": {}
        },
        {
          "output_type": "display_data",
          "data": {
            "text/plain": [
              "<IPython.core.display.HTML object>"
            ],
            "text/html": [
              "<hr/>"
            ]
          },
          "metadata": {}
        },
        {
          "output_type": "display_data",
          "data": {
            "text/plain": [
              "<IPython.core.display.HTML object>"
            ],
            "text/html": [
              "<h3>Original claim</h3>"
            ]
          },
          "metadata": {}
        },
        {
          "output_type": "display_data",
          "data": {
            "text/plain": [
              "<IPython.core.display.HTML object>"
            ],
            "text/html": [
              "<p>a secondary battery comprising: an electrode assembly; and an exterior member which seals the electrode assembly, wherein the exterior member comprises: a pouch which is flexible; and a can which is connected to the pouch and is formed of a material having a greater hardness than that of the pouch; the said pouch comprising a first sealing portion; a pouch body which is connected to the first sealing portion; and a second sealing portion which is arranged to face the first sealing portion and is connected to the pouch body; characterised in that the can is inserted into the pouch body and is connected to the first sealing portion, the second sealing portion, and the pouch body.</p>"
            ]
          },
          "metadata": {}
        },
        {
          "output_type": "display_data",
          "data": {
            "text/plain": [
              "<IPython.core.display.HTML object>"
            ],
            "text/html": [
              "<h3>Greedy search claim (ROUGE-L = 12.474849094567404)</h3>"
            ]
          },
          "metadata": {}
        },
        {
          "output_type": "display_data",
          "data": {
            "text/plain": [
              "<IPython.core.display.HTML object>"
            ],
            "text/html": [
              "<p>a secondary battery, comprising:a battery housing, the battery housing including a battery compartment ;a battery cell, the battery cell including a battery compartment and a battery cell housing, the battery cell including a battery cell housing and a battery cell housing, the battery cell including a battery cell housing and a battery cell housing, the battery cell including a battery cell housing and a battery cell housing, the battery cell including a battery cell housing and a battery cell housing, the battery cell including a battery cell housing and a battery cell housing, the battery cell including a battery cell housing and a battery cell housing, the battery cell including a battery cell housing and a battery cell housing, the battery cell including a battery cell housing and a battery cell housing, the battery cell including a battery cell housing and a battery cell housing, the battery cell including a battery cell housing and a battery cell housing, the battery cell including a battery cell housing and a battery cell housing, the battery cell including a battery cell housing and a battery cell housing, the battery cell including a battery cell housing and a battery cell housing, the battery cell including a battery cell housing and a battery cell housing, the battery cell including a battery cell housing and a battery cell housing, the battery cell including a battery cell housing and a battery cell housing, the battery cell including a battery cell housing and a battery cell housing, the battery cell including a battery cell housing and a battery cell housing, the battery cell including a battery cell housing and a battery cell housing, the battery cell including a battery cell housing and a battery cell housing, the battery cell including a battery cell housing and a battery cell housing, the battery cell including a battery cell housing and a battery cell housing, the battery cell including a battery cell housing and a battery cell housing, the battery cell including a battery cell housing and a battery cell housing, the battery cell including a battery cell housing and a battery cell housing, the battery cell including a battery cell housing and a battery cell housing, the battery cell including a battery cell housing and a battery cell housing.</p>"
            ]
          },
          "metadata": {}
        },
        {
          "output_type": "display_data",
          "data": {
            "text/plain": [
              "<IPython.core.display.HTML object>"
            ],
            "text/html": [
              "<hr/>"
            ]
          },
          "metadata": {}
        },
        {
          "output_type": "display_data",
          "data": {
            "text/plain": [
              "<IPython.core.display.HTML object>"
            ],
            "text/html": [
              "<h3>Original claim</h3>"
            ]
          },
          "metadata": {}
        },
        {
          "output_type": "display_data",
          "data": {
            "text/plain": [
              "<IPython.core.display.HTML object>"
            ],
            "text/html": [
              "<p>a compound selected from the group consisting of:</p>"
            ]
          },
          "metadata": {}
        },
        {
          "output_type": "display_data",
          "data": {
            "text/plain": [
              "<IPython.core.display.HTML object>"
            ],
            "text/html": [
              "<h3>Greedy search claim (ROUGE-L = 15.55555555555556)</h3>"
            ]
          },
          "metadata": {}
        },
        {
          "output_type": "display_data",
          "data": {
            "text/plain": [
              "<IPython.core.display.HTML object>"
            ],
            "text/html": [
              "<p>an organic light emitting device comprising an anode, a cathode, and an organic layer disposed between the anode and the cathode, the organic layer comprising one or more of the compounds of formula :wherein balq is the host;wherein rz is selected from the group consisting of alkyl, heteroalkyl, aryl, or heteroaryl groups;wherein rx and ry are each independently selected from the group consisting of hydrogen, alkyl, heteroalkyl, aryl, or heteroaryl groups; andwherein x cl, br, i, otf, ots or oh.</p>"
            ]
          },
          "metadata": {}
        },
        {
          "output_type": "display_data",
          "data": {
            "text/plain": [
              "<IPython.core.display.HTML object>"
            ],
            "text/html": [
              "<hr/>"
            ]
          },
          "metadata": {}
        },
        {
          "output_type": "display_data",
          "data": {
            "text/plain": [
              "<IPython.core.display.HTML object>"
            ],
            "text/html": [
              "<h3>Original claim</h3>"
            ]
          },
          "metadata": {}
        },
        {
          "output_type": "display_data",
          "data": {
            "text/plain": [
              "<IPython.core.display.HTML object>"
            ],
            "text/html": [
              "<p>a control system for controlling radiation direction of an antenna beam of an antenna unit , wherein the radiation direction is adjustable in accordance with an actuating signal, the control system comprising: a filtering means 403, 502 connected to a feeder cable 401, 501 configured to carry rf signals and a modulated control signal, wherein said filtering means 403, 502 is arranged to filter out said modulated control signal; an external control unit , attachable to said antenna unit , wherein said external control unit includes a detecting means 406, 602 and a control means , said detecting means 406, 602 is arranged to detect and demodulate said filtered out modulated control signal, and said control means  is arranged to produce the actuating signal in accordance with the detected and demodulated control signal, wherein said filtering means 403, 502 is directly connected to said detecting means 406, 602 located within said external control unit  so as to provide the filtered out modulated control signal directly to said detecting means 406, 602, and wherein said detecting means 406, 602 is arranged to provide said detected and demodulated control signal to said control means  in a format readable by said control means .</p>"
            ]
          },
          "metadata": {}
        },
        {
          "output_type": "display_data",
          "data": {
            "text/plain": [
              "<IPython.core.display.HTML object>"
            ],
            "text/html": [
              "<h3>Greedy search claim (ROUGE-L = 17.184643510054844)</h3>"
            ]
          },
          "metadata": {}
        },
        {
          "output_type": "display_data",
          "data": {
            "text/plain": [
              "<IPython.core.display.HTML object>"
            ],
            "text/html": [
              "<p>an antenna beam radiation direction control system for controlling radiation direction of an antenna beam, comprising:- a filtering means for filtering the radiation direction of the antenna beam ;- an external control unit ; and- a ret remote-controlled electrical down-tilt unit,wherein the filtering means and the external control unit are directly connected to each other,wherein the ret remote-controlled electrical down-tilt unit is connected to the ret remote-controlled electrical down-tilt unit,wherein the ret remote-controlled electrical down-tilt unit is connected to the ret remote-controlled electrical down-tilt unit,wherein the ret remote-controlled electrical down-tilt unit is connected to the ret remote-controlled electrical down-tilt unit,wherein the ret remote-controlled electrical down-tilt unit is connected to the ret remote-controlled electrical down-tilt unit,wherein the ret remote-controlled electrical down-tilt unit is connected to the ret remote-controlled electrical down-tilt unit,wherein the ret remote-controlled electrical down-tilt unit is connected to the ret remote-controlled electrical down-tilt unit,wherein the ret remote-controlled electrical down-tilt unit is connected to the ret remote-controlled electrical down-tilt unit,wherein the ret remote-controlled electrical down-tilt unit is connected to the ret remote-controlled electrical down-tilt unit,wherein the ret remote-controlled electrical down-tilt unit is connected to the ret remote-controlled electrical down-tilt unit,wherein the ret remote-controlled electrical down-tilt unit is connected to the ret remote-controlled electrical down-tilt unit,wherein the ret remote-controlled electrical down-tilt unit is connected to the ret remote-controlled electrical down-tilt unit,wherein the ret remote-controlled electrical down-tilt unit is connected to the ret remote-controlled electrical down-tilt unit,wherein the ret remote-controlled electrical down-tilt unit is connected to the ret remote-controlled electrical down-tilt unit,wherein the ret remote-controlled electrical down-tilt unit is connected to the ret remote-controlled electrical down-tilt unit,wherein the ret remote-controlled electrical down-tilt unit is connected to the ret remote</p>"
            ]
          },
          "metadata": {}
        },
        {
          "output_type": "display_data",
          "data": {
            "text/plain": [
              "<IPython.core.display.HTML object>"
            ],
            "text/html": [
              "<hr/>"
            ]
          },
          "metadata": {}
        },
        {
          "output_type": "display_data",
          "data": {
            "text/plain": [
              "<IPython.core.display.HTML object>"
            ],
            "text/html": [
              "<h3>Original claim</h3>"
            ]
          },
          "metadata": {}
        },
        {
          "output_type": "display_data",
          "data": {
            "text/plain": [
              "<IPython.core.display.HTML object>"
            ],
            "text/html": [
              "<p>a semiconductor light emitting element comprising: a first semiconductor layer  of a first conductivity type; a pit formation layer  formed on said first semiconductor layer  and having a pyramidal pit pt caused by a threading dislocation td generated in said first semiconductor layer ; an active layer  formed on said pit formation layer  and made of ingan-based semiconductor materials, said active layer  having a multi-quantum well structure having well layers wn and barrier layers bn that are laminated alternately in which each well layer and each barrier layer lie one upon another, and said active layer  having an embedded portion 14a formed so as to embed said pit pt; an electron blocking layer  formed on said active layer  to cover said embedded portion 14a; and a second semiconductor layer  formed on said electron blocking layer  and having a second conductivity type which is opposite to said first conductivity type, characterized in that said embedded portion 14a has embedded well portions iwn corresponding to said well layers wn respectively and embedded barrier portions ibn corresponding to said barrier layers bn respectively, each of said embedded well portions iwn and said embedded barrier portions ibn is configured such that, with respect to each iw, iw of said embedded well portions iwn and each ib, ib of said embedded barrier portions ibn which are situated adjacent to each other, a second apex angle y1,y2 of an apex pw, pw of said each of said embedded well portions iwn is smaller than a first apex angle x1, x2 of an apex pb , pb  of said each of said embedded barrier portions ibn wherein said each of said embedded well portions iwn is subsequently formed on said each of said embedded barrier portions ibn, said embedded well portions iwn are configured so as to have apex angles which are gradually increased respectively as the embedded well portions iwn approach said second semiconductor layer , said embedded barrier portions ibn are configured so as to have apex angles which are gradually increased respectively as the embedded barrier portions ibn approach said second semiconductor layer , so that said embedded portion 14a has a recess portion rc placed on an upper interface with said electron blocking layer  above said pyramidal pit pt, said recess portion rc has an apex 14p placed at a position existing in a layered direction of said active layer  within said active layer , the depth d of the apex 14p of said recess rc with regard to the interface between the active layer  and the electron blocking layer  outside the embedded portion 14a exceeding the well layer wn the nearest to said electron blocking layer  outside the embedded portion 14a.</p>"
            ]
          },
          "metadata": {}
        },
        {
          "output_type": "display_data",
          "data": {
            "text/plain": [
              "<IPython.core.display.HTML object>"
            ],
            "text/html": [
              "<h3>Greedy search claim (ROUGE-L = 19.66101694915254)</h3>"
            ]
          },
          "metadata": {}
        },
        {
          "output_type": "display_data",
          "data": {
            "text/plain": [
              "<IPython.core.display.HTML object>"
            ],
            "text/html": [
              "<p>a semiconductor light emitting element comprising:a p-type semiconductor layer grown on a substrate made of a material different from a nitride semiconductor such as a sapphire substrate;an n-type semiconductor layer grown on the p-type semiconductor layer ;a p-type semiconductor layer grown on the n-type semiconductor layer ;an electron blocking layer grown on the p-type semiconductor layer ; andan n-type active layer grown on the electron blocking layer,wherein the electron blocking layer comprises a first portion formed on the p-type semiconductor layer and a second portion formed on the n-type semiconductor layer,wherein the first portion and the second portion are different from each other, andwherein the first portion has a thickness smaller than that of the second portion, andwherein the second portion has a thickness smaller than that of the first portion.</p>"
            ]
          },
          "metadata": {}
        },
        {
          "output_type": "display_data",
          "data": {
            "text/plain": [
              "<IPython.core.display.HTML object>"
            ],
            "text/html": [
              "<hr/>"
            ]
          },
          "metadata": {}
        },
        {
          "output_type": "display_data",
          "data": {
            "text/plain": [
              "<IPython.core.display.HTML object>"
            ],
            "text/html": [
              "<h2>Beam search gen</h1>"
            ]
          },
          "metadata": {}
        },
        {
          "output_type": "display_data",
          "data": {
            "text/plain": [
              "<IPython.core.display.HTML object>"
            ],
            "text/html": [
              "<h3>Original claim</h3>"
            ]
          },
          "metadata": {}
        },
        {
          "output_type": "display_data",
          "data": {
            "text/plain": [
              "<IPython.core.display.HTML object>"
            ],
            "text/html": [
              "<p>a semiconductor light emitting element comprising: a first semiconductor layer  of a first conductivity type; a pit formation layer  formed on said first semiconductor layer  and having a pyramidal pit pt caused by a threading dislocation td generated in said first semiconductor layer  ; an active layer  formed on said pit formation layer  and made of ingan-based semiconductor materials, said active layer  having a multi-quantum well structure having well layers wn and barrier layers bn that are laminated alternately in which each well layer and each barrier layer lie one upon another, and said active layer  having a flat portion 14a and an embedded portion 14b which is formed so as to embed said pit; and a second semiconductor layer  formed on said active layer  and having a second conductivity type which is opposite to the first conductivity type, characterized in that said flat portion 14a has flat well portions fwn corresponding to said well layers wn, said embedded portion 14b has embedded well portions iwn corresponding to said well layers wn, each of said embedded well portions iwn has ring portions rwn each of which is formed in an interface with each of said flat well portions fwn so as to surround said threading dislocation td, each of said ring portions rwn has a band gap smaller than that of each of said flat well portions fwn, each of said ring portions rwn has a thickness d1 larger than a thickness d2 of each of said flat well portions fwn corresponding to each of said ring portions rwn, said embedded portion 14b has embedded barrier portions ibn corresponding to said barrier layers bn, said embedded well portions iwn and said embedded barrier portions ibn are configured such that a facet upper end p12 of one of said embedded well portions iwn is formed at a position closer to a center cp of said pit pt than a facet upper end p11 of an adjacent one of said embedded barrier portions ibn, wherein the one embedded well portion iwn is subsequently formed on the adjacent embedded barrier portion ibn.</p>"
            ]
          },
          "metadata": {}
        },
        {
          "output_type": "display_data",
          "data": {
            "text/plain": [
              "<IPython.core.display.HTML object>"
            ],
            "text/html": [
              "<h3>Beam search claim (ROUGE-L = 11.428571428571429)</h3>"
            ]
          },
          "metadata": {}
        },
        {
          "output_type": "display_data",
          "data": {
            "text/plain": [
              "<IPython.core.display.HTML object>"
            ],
            "text/html": [
              "<p>a semiconductor light emitting element comprising:a substrate made of a material different from a nitride semiconductor;a nitride semiconductor layer grown on the substrate ; andan active layer grown on the nitride semiconductor layer,wherein the nitride semiconductor layer is grown on the substrate such that the nitride semiconductor layer is grown on the substrate such that the nitride semiconductor layer is grown on the substrate such that the nitride semiconductor layer is grown on the substrate such that the nitride semiconductor layer is grown on the substrate such that the nitride semiconductor layer is grown on the substrate such that the nitride semiconductor layer is grown on the substrate such that the nitride semiconductor layer is grown on the substrate such that the nitride semiconductor layer is grown on the substrate such that the nitride semiconductor layer is grown on the substrate such that the nitride semiconductor layer is grown on the substrate such that the nitride semiconductor layer is grown on the substrate such that the nitride semiconductor layer is grown on the substrate such that the nitride semiconductor layer is grown on the substrate such that the nitride semiconductor layer is grown on the substrate such that the nitride semiconductor layer is grown on the substrate such that the nitride semiconductor layer is grown on the substrate such that the nitride semiconductor layer is grown on the substrate such that the nitride semiconductor layer is grown on the substrate such that the nitride semiconductor layer is grown on the substrate such that the nitride semiconductor layer is grown on the substrate such that the nitride semiconductor layer is grown on the substrate such that the nitride semiconductor layer is grown on the substrate such that the nitride semiconductor layer is grown on the substrate such that the nitride semiconductor layer is grown on the substrate such that the nitride semiconductor layer is grown on the substrate such that the nitride semiconductor layer is grown on the substrate such that the nitride semiconductor layer is grown on the substrate such that the nitride semiconductor layer is grown on the substrate such that the nitride semiconductor layer is grown on the substrate such that the nitride semiconductor layer is grown on the substrate such that the nitride semiconductor layer is grown on the substrate.</p>"
            ]
          },
          "metadata": {}
        },
        {
          "output_type": "display_data",
          "data": {
            "text/plain": [
              "<IPython.core.display.HTML object>"
            ],
            "text/html": [
              "<hr/>"
            ]
          },
          "metadata": {}
        },
        {
          "output_type": "display_data",
          "data": {
            "text/plain": [
              "<IPython.core.display.HTML object>"
            ],
            "text/html": [
              "<h3>Original claim</h3>"
            ]
          },
          "metadata": {}
        },
        {
          "output_type": "display_data",
          "data": {
            "text/plain": [
              "<IPython.core.display.HTML object>"
            ],
            "text/html": [
              "<p>a semiconductor light emitting element comprising: a first semiconductor layer  of a first conductivity type; a pit formation layer  formed on said first semiconductor layer  and having a pyramidal pit pt caused by a threading dislocation td generated in said first semiconductor layer ; an active layer  formed on said pit formation layer  and made of ingan-based semiconductor materials, said active layer  having a multi-quantum well structure having well layers wn and barrier layers bn that are laminated alternately in which each well layer and each barrier layer lie one upon another, and said active layer  having an embedded portion 14a formed so as to embed said pit pt; an electron blocking layer  formed on said active layer  to cover said embedded portion 14a; and a second semiconductor layer  formed on said electron blocking layer  and having a second conductivity type which is opposite to said first conductivity type, characterized in that said embedded portion 14a has embedded well portions iwn corresponding to said well layers wn respectively and embedded barrier portions ibn corresponding to said barrier layers bn respectively, each of said embedded well portions iwn and said embedded barrier portions ibn is configured such that, with respect to each iw, iw of said embedded well portions iwn and each ib, ib of said embedded barrier portions ibn which are situated adjacent to each other, a second apex angle y1,y2 of an apex pw, pw of said each of said embedded well portions iwn is smaller than a first apex angle x1, x2 of an apex pb , pb  of said each of said embedded barrier portions ibn wherein said each of said embedded well portions iwn is subsequently formed on said each of said embedded barrier portions ibn, said embedded well portions iwn are configured so as to have apex angles which are gradually increased respectively as the embedded well portions iwn approach said second semiconductor layer , said embedded barrier portions ibn are configured so as to have apex angles which are gradually increased respectively as the embedded barrier portions ibn approach said second semiconductor layer , so that said embedded portion 14a has a recess portion rc placed on an upper interface with said electron blocking layer  above said pyramidal pit pt, said recess portion rc has an apex 14p placed at a position existing in a layered direction of said active layer  within said active layer , the depth d of the apex 14p of said recess rc with regard to the interface between the active layer  and the electron blocking layer  outside the embedded portion 14a exceeding the well layer wn the nearest to said electron blocking layer  outside the embedded portion 14a.</p>"
            ]
          },
          "metadata": {}
        },
        {
          "output_type": "display_data",
          "data": {
            "text/plain": [
              "<IPython.core.display.HTML object>"
            ],
            "text/html": [
              "<h3>Beam search claim (ROUGE-L = 13.881748071979432)</h3>"
            ]
          },
          "metadata": {}
        },
        {
          "output_type": "display_data",
          "data": {
            "text/plain": [
              "<IPython.core.display.HTML object>"
            ],
            "text/html": [
              "<p>a semiconductor light emitting element comprising:a p-type semiconductor layer ;an n-type semiconductor layer ;a p-type electron blocking layer ;a p-type electron blocking layer ;an n-type electron blocking layer ;an n-type electron blocking layer ;a p-type electron blocking layer ;an n-type electron blocking layer ;an n-type electron blocking layer ;an n-type electron blocking layer ;an n-type electron blocking layer ;an n-type electron blocking layer ;an n-type electron blocking layer ;an n-type electron blocking layer ;an n-type electron blocking layer ;an n-type electron blocking layer ;an n-type electron blocking layer ;an n-type electron blocking layer ;an n-type electron blocking layer ;an n-type electron blocking layer ;an n-type electron blocking layer ;an n-type electron blocking layer ;an n-type electron blocking layer ;an n-type electron blocking layer ;an n-type electron blocking layer ;an n-type electron blocking layer ;an n-type electron blocking layer ;an n-type electron blocking layer ;an n-type electron blocking layer ;an n-type electron blocking layer ;an n-type electron blocking layer ;an n-type electron blocking layer ;an n-type electron blocking layer ;an n-type electron blocking layer ;an n-type electron blocking layer ;an n-type electron blocking layer ;an n-type electron blocking layer ;an n-type electron blocking layer ;an n-type electron blocking layer ;an n-type electron blocking layer ;an n-type electron blocking layer ;an n-type electron blocking layer ;an n-type electron blocking layer ;an n-type electron blocking layer ;an n-type electron blocking layer ;an n-type electron blocking layer ;an n-type blocking layer ;an n-type electron blocking layer ;an n-type blocking layer ;an n-type blocking layer ;an n-type blocking layer ;an n-type blocking layer ;an n-type blocking layer ;an n-type blocking layer ;an n-type blocking layer ;an n-type blocking layer </p>"
            ]
          },
          "metadata": {}
        },
        {
          "output_type": "display_data",
          "data": {
            "text/plain": [
              "<IPython.core.display.HTML object>"
            ],
            "text/html": [
              "<hr/>"
            ]
          },
          "metadata": {}
        },
        {
          "output_type": "display_data",
          "data": {
            "text/plain": [
              "<IPython.core.display.HTML object>"
            ],
            "text/html": [
              "<h3>Original claim</h3>"
            ]
          },
          "metadata": {}
        },
        {
          "output_type": "display_data",
          "data": {
            "text/plain": [
              "<IPython.core.display.HTML object>"
            ],
            "text/html": [
              "<p>a compound selected from the group consisting of:</p>"
            ]
          },
          "metadata": {}
        },
        {
          "output_type": "display_data",
          "data": {
            "text/plain": [
              "<IPython.core.display.HTML object>"
            ],
            "text/html": [
              "<h3>Beam search claim (ROUGE-L = 15.730337078651688)</h3>"
            ]
          },
          "metadata": {}
        },
        {
          "output_type": "display_data",
          "data": {
            "text/plain": [
              "<IPython.core.display.HTML object>"
            ],
            "text/html": [
              "<p>an organic light emitting device comprising:an anode ;a cathode ; andan organic layer disposed between the anode and the cathode, the organic layer comprising one or more of the compounds of formula :wherein balq is the host;wherein rz is selected from the group consisting of alkyl, heteroalkyl, aryl, or heteroaryl groups;wherein rx and ry are each independently selected from the group consisting of hydrogen, alkyl, heteroalkyl, aryl, or heteroaryl groups; andwherein x cl, br, i, otf, ots or oh.</p>"
            ]
          },
          "metadata": {}
        },
        {
          "output_type": "display_data",
          "data": {
            "text/plain": [
              "<IPython.core.display.HTML object>"
            ],
            "text/html": [
              "<hr/>"
            ]
          },
          "metadata": {}
        },
        {
          "output_type": "display_data",
          "data": {
            "text/plain": [
              "<IPython.core.display.HTML object>"
            ],
            "text/html": [
              "<h3>Original claim</h3>"
            ]
          },
          "metadata": {}
        },
        {
          "output_type": "display_data",
          "data": {
            "text/plain": [
              "<IPython.core.display.HTML object>"
            ],
            "text/html": [
              "<p>a power supply apparatus  comprising: a power supply means  that wirelessly supplies power to an electronic apparatus ; a communication means  that communicates with the electronic apparatus ; and a control means  configured to determine s508 whether information regarding the electronic apparatus  that is received from the electronic apparatus  is updated by the electronic apparatus , wherein, in a case where the information regarding the electronic apparatus  that is received from the electronic apparatus  is not updated by the electronic apparatus , the control means  controls power to be supplied from the power supply apparatus  to the electronic apparatus  to a first power s513, and, in a case where the information regarding the electronic apparatus  that is received from the electronic apparatus  is updated by the electronic apparatus , the control means  controls the power to be supplied from the power supply apparatus  to the electronic apparatus  to a second power greater than the first power s510.</p>"
            ]
          },
          "metadata": {}
        },
        {
          "output_type": "display_data",
          "data": {
            "text/plain": [
              "<IPython.core.display.HTML object>"
            ],
            "text/html": [
              "<h3>Beam search claim (ROUGE-L = 15.89403973509934)</h3>"
            ]
          },
          "metadata": {}
        },
        {
          "output_type": "display_data",
          "data": {
            "text/plain": [
              "<IPython.core.display.HTML object>"
            ],
            "text/html": [
              "<p>a power supply apparatus, comprising:a plurality of power supply terminals, each power supply terminal configured to receive a power supply voltage;a plurality of power supply power lines, each power supply power line configured to supply a power supply voltage to a corresponding power supply terminal ;a plurality of power supply current lines, each power supply current line configured to supply a corresponding power supply current to a corresponding power supply terminal ;a plurality of power supply current control lines, each power supply current control line configured to supply a corresponding power supply current to a corresponding power supply current control line ;a plurality of power supply current sensing lines, each power supply current sensing line configured to sense a power supply current flowing through a corresponding power supply current control line ;a plurality of power supply current control lines, each power supply current control line configured to sense a corresponding power supply current flowing through a corresponding power supply current control line ;a plurality of power supply current control lines, each power supply current control line configured to sense a corresponding power supply current flowing through a corresponding power supply current control line ; anda plurality of power supply current control lines, each power supply current control line configured to sense a corresponding power supply current flowing through a corresponding power supply current control line,wherein each power supply current control line is configured to control a corresponding power supply current flowing through a corresponding power supply current control line, andwherein each power supply current control line is configured to control a corresponding power supply current flowing through a corresponding power supply current control line, andwherein each power supply current control line is configured to control a corresponding power supply current flowing through a corresponding power supply current control line.</p>"
            ]
          },
          "metadata": {}
        },
        {
          "output_type": "display_data",
          "data": {
            "text/plain": [
              "<IPython.core.display.HTML object>"
            ],
            "text/html": [
              "<hr/>"
            ]
          },
          "metadata": {}
        },
        {
          "output_type": "display_data",
          "data": {
            "text/plain": [
              "<IPython.core.display.HTML object>"
            ],
            "text/html": [
              "<h3>Original claim</h3>"
            ]
          },
          "metadata": {}
        },
        {
          "output_type": "display_data",
          "data": {
            "text/plain": [
              "<IPython.core.display.HTML object>"
            ],
            "text/html": [
              "<p>a secondary battery comprising: an electrode assembly; and an exterior member which seals the electrode assembly, wherein the exterior member comprises: a pouch which is flexible; and a can which is connected to the pouch and is formed of a material having a greater hardness than that of the pouch; the said pouch comprising a first sealing portion; a pouch body which is connected to the first sealing portion; and a second sealing portion which is arranged to face the first sealing portion and is connected to the pouch body; characterised in that the can is inserted into the pouch body and is connected to the first sealing portion, the second sealing portion, and the pouch body.</p>"
            ]
          },
          "metadata": {}
        },
        {
          "output_type": "display_data",
          "data": {
            "text/plain": [
              "<IPython.core.display.HTML object>"
            ],
            "text/html": [
              "<h3>Beam search claim (ROUGE-L = 18.68131868131868)</h3>"
            ]
          },
          "metadata": {}
        },
        {
          "output_type": "display_data",
          "data": {
            "text/plain": [
              "<IPython.core.display.HTML object>"
            ],
            "text/html": [
              "<p>a secondary battery, comprising:a battery housing ;a battery electrode ; anda battery cell, wherein the battery electrode comprises:a first electrode ; anda second electrode, wherein the battery cell comprises:a first battery electrode ; anda second battery electrode, wherein the first battery electrode comprises:a first battery electrode ; anda second battery electrode, wherein the second battery electrode comprises:a first battery electrode ; anda second battery electrode, wherein the first battery electrode comprises:a first battery electrode ; anda second battery electrode, wherein the second battery electrode comprises:a first battery electrode ; anda second battery electrode, wherein the first battery electrode comprises:a first battery electrode ; anda second battery electrode, wherein the second battery electrode comprises:a first battery electrode ; anda second battery electrode, wherein the first battery electrode comprises:a first battery electrode ; anda second battery electrode, wherein the second battery electrode comprises:a first battery electrode ; anda second battery electrode, wherein the first battery electrode comprises:a first battery electrode ; anda second battery electrode, wherein the second battery electrode comprises:a first battery electrode ; anda second battery electrode, wherein the first battery electrode comprises:a first battery electrode ; anda second battery electrode, wherein the second battery electrode comprises:a first battery electrode ; anda second battery electrode, wherein the first battery electrode comprises:a first battery electrode ; anda second battery electrode, wherein the first battery electrode comprises:a first battery electrode ; anda second battery electrode, wherein the first battery electrode comprises:a first battery electrode ; anda second battery electrode.</p>"
            ]
          },
          "metadata": {}
        },
        {
          "output_type": "display_data",
          "data": {
            "text/plain": [
              "<IPython.core.display.HTML object>"
            ],
            "text/html": [
              "<hr/>"
            ]
          },
          "metadata": {}
        },
        {
          "output_type": "display_data",
          "data": {
            "text/plain": [
              "<IPython.core.display.HTML object>"
            ],
            "text/html": [
              "<h1>bigbird balanced</h1>"
            ]
          },
          "metadata": {}
        },
        {
          "output_type": "display_data",
          "data": {
            "text/plain": [
              "<IPython.core.display.HTML object>"
            ],
            "text/html": [
              "<h2>Greedy search gen</h1>"
            ]
          },
          "metadata": {}
        },
        {
          "output_type": "display_data",
          "data": {
            "text/plain": [
              "<IPython.core.display.HTML object>"
            ],
            "text/html": [
              "<h3>Original claim</h3>"
            ]
          },
          "metadata": {}
        },
        {
          "output_type": "display_data",
          "data": {
            "text/plain": [
              "<IPython.core.display.HTML object>"
            ],
            "text/html": [
              "<p>a compound selected from the group consisting of:</p>"
            ]
          },
          "metadata": {}
        },
        {
          "output_type": "display_data",
          "data": {
            "text/plain": [
              "<IPython.core.display.HTML object>"
            ],
            "text/html": [
              "<h3>Greedy search claim (ROUGE-L = 15.384615384615383)</h3>"
            ]
          },
          "metadata": {}
        },
        {
          "output_type": "display_data",
          "data": {
            "text/plain": [
              "<IPython.core.display.HTML object>"
            ],
            "text/html": [
              "<p>an organic light emitting device comprising an anode, a cathode, and an organic layer disposed between the anode and the cathode, the organic layer comprising one or more of the compounds.</p>"
            ]
          },
          "metadata": {}
        },
        {
          "output_type": "display_data",
          "data": {
            "text/plain": [
              "<IPython.core.display.HTML object>"
            ],
            "text/html": [
              "<hr/>"
            ]
          },
          "metadata": {}
        },
        {
          "output_type": "display_data",
          "data": {
            "text/plain": [
              "<IPython.core.display.HTML object>"
            ],
            "text/html": [
              "<h3>Original claim</h3>"
            ]
          },
          "metadata": {}
        },
        {
          "output_type": "display_data",
          "data": {
            "text/plain": [
              "<IPython.core.display.HTML object>"
            ],
            "text/html": [
              "<p>a semiconductor light emitting element comprising: a first semiconductor layer  of a first conductivity type; a pit formation layer  formed on said first semiconductor layer  and having a pyramidal pit pt caused by a threading dislocation td generated in said first semiconductor layer  ; an active layer  formed on said pit formation layer  and made of ingan-based semiconductor materials, said active layer  having a multi-quantum well structure having well layers wn and barrier layers bn that are laminated alternately in which each well layer and each barrier layer lie one upon another, and said active layer  having a flat portion 14a and an embedded portion 14b which is formed so as to embed said pit; and a second semiconductor layer  formed on said active layer  and having a second conductivity type which is opposite to the first conductivity type, characterized in that said flat portion 14a has flat well portions fwn corresponding to said well layers wn, said embedded portion 14b has embedded well portions iwn corresponding to said well layers wn, each of said embedded well portions iwn has ring portions rwn each of which is formed in an interface with each of said flat well portions fwn so as to surround said threading dislocation td, each of said ring portions rwn has a band gap smaller than that of each of said flat well portions fwn, each of said ring portions rwn has a thickness d1 larger than a thickness d2 of each of said flat well portions fwn corresponding to each of said ring portions rwn, said embedded portion 14b has embedded barrier portions ibn corresponding to said barrier layers bn, said embedded well portions iwn and said embedded barrier portions ibn are configured such that a facet upper end p12 of one of said embedded well portions iwn is formed at a position closer to a center cp of said pit pt than a facet upper end p11 of an adjacent one of said embedded barrier portions ibn, wherein the one embedded well portion iwn is subsequently formed on the adjacent embedded barrier portion ibn.</p>"
            ]
          },
          "metadata": {}
        },
        {
          "output_type": "display_data",
          "data": {
            "text/plain": [
              "<IPython.core.display.HTML object>"
            ],
            "text/html": [
              "<h3>Greedy search claim (ROUGE-L = 15.981735159817353)</h3>"
            ]
          },
          "metadata": {}
        },
        {
          "output_type": "display_data",
          "data": {
            "text/plain": [
              "<IPython.core.display.HTML object>"
            ],
            "text/html": [
              "<p>a semiconductor light emitting element comprising:a nitride semiconductor layer grown on a substrate made of a material different from a nitride semiconductor;a threading dislocation extending in a layered direction of the nitride semiconductor layer;a pit surrounding the threading dislocation, the pit having inclined side surfaces surrounding the threading dislocation; andan active layer grown on the pit after pit formation, the active layer being layered on the inclined side surface of the pit at a growth rate slower than that on the other portion flat portion.</p>"
            ]
          },
          "metadata": {}
        },
        {
          "output_type": "display_data",
          "data": {
            "text/plain": [
              "<IPython.core.display.HTML object>"
            ],
            "text/html": [
              "<hr/>"
            ]
          },
          "metadata": {}
        },
        {
          "output_type": "display_data",
          "data": {
            "text/plain": [
              "<IPython.core.display.HTML object>"
            ],
            "text/html": [
              "<h3>Original claim</h3>"
            ]
          },
          "metadata": {}
        },
        {
          "output_type": "display_data",
          "data": {
            "text/plain": [
              "<IPython.core.display.HTML object>"
            ],
            "text/html": [
              "<p>a secondary battery comprising: an electrode assembly; and an exterior member which seals the electrode assembly, wherein the exterior member comprises: a pouch which is flexible; and a can which is connected to the pouch and is formed of a material having a greater hardness than that of the pouch; the said pouch comprising a first sealing portion; a pouch body which is connected to the first sealing portion; and a second sealing portion which is arranged to face the first sealing portion and is connected to the pouch body; characterised in that the can is inserted into the pouch body and is connected to the first sealing portion, the second sealing portion, and the pouch body.</p>"
            ]
          },
          "metadata": {}
        },
        {
          "output_type": "display_data",
          "data": {
            "text/plain": [
              "<IPython.core.display.HTML object>"
            ],
            "text/html": [
              "<h3>Greedy search claim (ROUGE-L = 16.43835616438356)</h3>"
            ]
          },
          "metadata": {}
        },
        {
          "output_type": "display_data",
          "data": {
            "text/plain": [
              "<IPython.core.display.HTML object>"
            ],
            "text/html": [
              "<p>a secondary battery comprising:a housing ;a battery cell housed within the housing, the battery cell having a first end and a second end, the first end of the battery cell being connected to the housing and the second end of the battery cell being connected to the battery cell at the second end of the battery cell, the battery cell having a first shape when the battery cell is in the first end of the battery cell and a second shape when the battery cell is in the second end of the battery cell, the battery cell having a second shape when the battery cell is in the first end of the battery cell and the battery cell being in the second shape when the battery cell is in the second end of the battery cell, the battery cell having a third shape when the battery cell is in the first end of the battery cell and the battery cell being in the second shape when the battery cell is in the second end of the battery cell, the battery cell having a fourth shape when the battery cell is in the first end of the battery cell and the battery cell being in the third shape when the battery cell is in the second end of the battery cell, characterized in that the battery cell has a fourth shape when the battery cell is in the first end of the battery cell and the battery cell is in the third shape when the battery cell is in the second end of the battery cell, and the battery cell has a fifth shape when the battery cell is in the first end of the battery cell and the battery cell is in the third shape when the battery cell is in the second end of the battery cell, characterized in that the battery cell has a sixth shape when the battery cell is in the first end of the battery cell and the battery cell is in the third shape when the battery cell is in the second end of the battery cell, characterized in that the battery cell has a seventh shape when the battery cell is in the first end of the battery cell, characterized in that the battery cell has a eighth shape when the battery cell is in the second end of the battery, characterized in that the battery has a ninth shape when the battery is in the third end of the battery, characterized in that the battery has a tenth shape when the battery is in the third end of the battery, characterized in that the battery has a twelfth shape when the battery is in the fourth end of the battery, characterized in that the secondary battery has a</p>"
            ]
          },
          "metadata": {}
        },
        {
          "output_type": "display_data",
          "data": {
            "text/plain": [
              "<IPython.core.display.HTML object>"
            ],
            "text/html": [
              "<hr/>"
            ]
          },
          "metadata": {}
        },
        {
          "output_type": "display_data",
          "data": {
            "text/plain": [
              "<IPython.core.display.HTML object>"
            ],
            "text/html": [
              "<h3>Original claim</h3>"
            ]
          },
          "metadata": {}
        },
        {
          "output_type": "display_data",
          "data": {
            "text/plain": [
              "<IPython.core.display.HTML object>"
            ],
            "text/html": [
              "<p>a power supply apparatus  comprising: a power supply means  that wirelessly supplies power to an electronic apparatus ; a communication means  that communicates with the electronic apparatus ; and a control means  configured to determine s508 whether information regarding the electronic apparatus  that is received from the electronic apparatus  is updated by the electronic apparatus , wherein, in a case where the information regarding the electronic apparatus  that is received from the electronic apparatus  is not updated by the electronic apparatus , the control means  controls power to be supplied from the power supply apparatus  to the electronic apparatus  to a first power s513, and, in a case where the information regarding the electronic apparatus  that is received from the electronic apparatus  is updated by the electronic apparatus , the control means  controls the power to be supplied from the power supply apparatus  to the electronic apparatus  to a second power greater than the first power s510.</p>"
            ]
          },
          "metadata": {}
        },
        {
          "output_type": "display_data",
          "data": {
            "text/plain": [
              "<IPython.core.display.HTML object>"
            ],
            "text/html": [
              "<h3>Greedy search claim (ROUGE-L = 18.45140032948929)</h3>"
            ]
          },
          "metadata": {}
        },
        {
          "output_type": "display_data",
          "data": {
            "text/plain": [
              "<IPython.core.display.HTML object>"
            ],
            "text/html": [
              "<p>a power supply apparatus, comprising:a power supply unit for supplying a power to a load, wherein the power supply unit comprises a first power supply and a second power supply, and wherein the first power supply and the second power supply are connected to each other in series, and wherein the first power supply and the second power supply are connected to each other in parallel, and wherein the first power supply and the second power supply are connected to each other in parallel, and wherein the first power supply and the second power supply are connected to each other in parallel, and wherein the first power supply and the second power supply are connected to each other in parallel, and wherein the first power supply and the second power supply are connected to each other in parallel, and wherein the first power supply and the second power supply are connected to each other in parallel, and wherein the first power supply and the second power supply are connected to each other in parallel, and wherein the first power supply and the second power supply are connected to each other in parallel, and wherein the first power supply and the second power supply are connected to each other in parallel, and wherein the first power supply and the second power supply are connected to each other in parallel, and wherein the first power supply and the second power supply are connected to each other in parallel, and wherein the first power supply and the second power supply are connected to each other in parallel, and wherein the first power supply and the second power supply are connected to each other in parallel, and wherein the first power supply and the second power supply are connected to each other in parallel, and wherein the first power supply and the second power supply are connected to each other in parallel, and wherein the first power supply and the second power supply are connected to each other in parallel, and wherein the first power supply and the second power supply are connected to each other in parallel, and wherein the first power supply and the second power supply are connected to each other in parallel, and wherein the first power supply and the first power supply and the second power supply are connected to each other in parallel, and wherein the first power supply and the second power supply are connected to each other in parallel, and wherein the first power supply and the second power supply are connected to each other in parallel, and wherein the first power supply and the first power supply and the second power supply are connected to each other in parallel.</p>"
            ]
          },
          "metadata": {}
        },
        {
          "output_type": "display_data",
          "data": {
            "text/plain": [
              "<IPython.core.display.HTML object>"
            ],
            "text/html": [
              "<hr/>"
            ]
          },
          "metadata": {}
        },
        {
          "output_type": "display_data",
          "data": {
            "text/plain": [
              "<IPython.core.display.HTML object>"
            ],
            "text/html": [
              "<h3>Original claim</h3>"
            ]
          },
          "metadata": {}
        },
        {
          "output_type": "display_data",
          "data": {
            "text/plain": [
              "<IPython.core.display.HTML object>"
            ],
            "text/html": [
              "<p>a semiconductor light emitting element comprising: a first semiconductor layer  of a first conductivity type; a pit formation layer  formed on said first semiconductor layer  and having a pyramidal pit pt caused by a threading dislocation td generated in said first semiconductor layer ; an active layer  formed on said pit formation layer  and made of ingan-based semiconductor materials, said active layer  having a multi-quantum well structure having well layers wn and barrier layers bn that are laminated alternately in which each well layer and each barrier layer lie one upon another, and said active layer  having an embedded portion 14a formed so as to embed said pit pt; an electron blocking layer  formed on said active layer  to cover said embedded portion 14a; and a second semiconductor layer  formed on said electron blocking layer  and having a second conductivity type which is opposite to said first conductivity type, characterized in that said embedded portion 14a has embedded well portions iwn corresponding to said well layers wn respectively and embedded barrier portions ibn corresponding to said barrier layers bn respectively, each of said embedded well portions iwn and said embedded barrier portions ibn is configured such that, with respect to each iw, iw of said embedded well portions iwn and each ib, ib of said embedded barrier portions ibn which are situated adjacent to each other, a second apex angle y1,y2 of an apex pw, pw of said each of said embedded well portions iwn is smaller than a first apex angle x1, x2 of an apex pb , pb  of said each of said embedded barrier portions ibn wherein said each of said embedded well portions iwn is subsequently formed on said each of said embedded barrier portions ibn, said embedded well portions iwn are configured so as to have apex angles which are gradually increased respectively as the embedded well portions iwn approach said second semiconductor layer , said embedded barrier portions ibn are configured so as to have apex angles which are gradually increased respectively as the embedded barrier portions ibn approach said second semiconductor layer , so that said embedded portion 14a has a recess portion rc placed on an upper interface with said electron blocking layer  above said pyramidal pit pt, said recess portion rc has an apex 14p placed at a position existing in a layered direction of said active layer  within said active layer , the depth d of the apex 14p of said recess rc with regard to the interface between the active layer  and the electron blocking layer  outside the embedded portion 14a exceeding the well layer wn the nearest to said electron blocking layer  outside the embedded portion 14a.</p>"
            ]
          },
          "metadata": {}
        },
        {
          "output_type": "display_data",
          "data": {
            "text/plain": [
              "<IPython.core.display.HTML object>"
            ],
            "text/html": [
              "<h3>Greedy search claim (ROUGE-L = 18.82893226176808)</h3>"
            ]
          },
          "metadata": {}
        },
        {
          "output_type": "display_data",
          "data": {
            "text/plain": [
              "<IPython.core.display.HTML object>"
            ],
            "text/html": [
              "<p>a semiconductor light emitting element comprising:a p-type semiconductor layer grown on a substrate made of a material different from a nitride semiconductor layer ;a p-type semiconductor layer grown on the p-type semiconductor layer ;a nitride semiconductor layer grown on the p-type semiconductor layer ;a first electron blocking layer grown on the nitride semiconductor layer ;a second electron blocking layer grown on the p-type semiconductor layer ;a first electron blocking layer grown on the first electron blocking layer ;a second electron blocking layer grown on the second electron blocking layer ;a first electron blocking layer grown on the first electron blocking layer ;a second electron blocking layer grown on the second electron blocking layer ;a first electron blocking layer grown on the first electron blocking layer ;a second electron blocking layer grown on the second electron blocking layer ;a first electron blocking layer grown on the first electron blocking layer ;a second electron blocking layer grown on the second electron blocking layer ;a first electron blocking layer grown on the first electron blocking layer ;a second electron blocking layer grown on the second electron blocking layer ;a first electron blocking layer grown on the first electron blocking layer ;a second electron blocking layer grown on the second electron blocking layer ;a first electron blocking layer grown on the first electron blocking layer ;a second electron blocking layer grown on the second electron blocking layer ;a first electron blocking layer grown on the first electron blocking layer ;a second electron blocking layer grown on the second electron blocking layer ;a first electron blocking layer grown on the first electron blocking layer ;a first electron blocking layer grown on the first electron blocking layer ;a first electron blocking layer grown on the first electron blocking layer ;a first electron blocking layer grown on the first electron blocking layer ;a first electron blocking layer grown on the first electron blocking layer ;a first electron blocking layer grown on the first electron blocking layer ;a first electron blocking layer grown on the first electron blocking layer ;a first electron blocking layer grown on the first electron blocking layer ;a first electron blocking layer grown on the first electron blocking layer ;a first electron blocking layer grown on the first electron blocking layer ;a first electron blocking layer grown on the first electron blocking layer ;a first electron blocking layer grown on the first electron blocking layer ;a first electron blocking layer grown on the first electron blocking layer ;a first electron blocking layer </p>"
            ]
          },
          "metadata": {}
        },
        {
          "output_type": "display_data",
          "data": {
            "text/plain": [
              "<IPython.core.display.HTML object>"
            ],
            "text/html": [
              "<hr/>"
            ]
          },
          "metadata": {}
        },
        {
          "output_type": "display_data",
          "data": {
            "text/plain": [
              "<IPython.core.display.HTML object>"
            ],
            "text/html": [
              "<h2>Beam search gen</h1>"
            ]
          },
          "metadata": {}
        },
        {
          "output_type": "display_data",
          "data": {
            "text/plain": [
              "<IPython.core.display.HTML object>"
            ],
            "text/html": [
              "<h3>Original claim</h3>"
            ]
          },
          "metadata": {}
        },
        {
          "output_type": "display_data",
          "data": {
            "text/plain": [
              "<IPython.core.display.HTML object>"
            ],
            "text/html": [
              "<p>a secondary battery comprising: an electrode assembly; and an exterior member which seals the electrode assembly, wherein the exterior member comprises: a pouch which is flexible; and a can which is connected to the pouch and is formed of a material having a greater hardness than that of the pouch; the said pouch comprising a first sealing portion; a pouch body which is connected to the first sealing portion; and a second sealing portion which is arranged to face the first sealing portion and is connected to the pouch body; characterised in that the can is inserted into the pouch body and is connected to the first sealing portion, the second sealing portion, and the pouch body.</p>"
            ]
          },
          "metadata": {}
        },
        {
          "output_type": "display_data",
          "data": {
            "text/plain": [
              "<IPython.core.display.HTML object>"
            ],
            "text/html": [
              "<h3>Beam search claim (ROUGE-L = 9.574468085106384)</h3>"
            ]
          },
          "metadata": {}
        },
        {
          "output_type": "display_data",
          "data": {
            "text/plain": [
              "<IPython.core.display.HTML object>"
            ],
            "text/html": [
              "<p>a secondary battery comprising:a battery cell ; anda battery housing, the battery housing comprising a plurality of battery cell housing sections, each of the plurality of battery cell housing sections comprising a plurality of battery cell housing sections, each of the plurality of battery cell housing sections comprising a plurality of battery cell housing sections, each of the plurality of battery cell housing sections comprising a plurality of battery cell housing sections, each of the plurality of battery cell housing sections comprising a plurality of battery cell housing sections, each of the plurality of battery cell housing sections comprising a plurality of battery cell housing sections, each of the plurality of battery cell housing sections comprising a plurality of battery cell housing sections, each of the plurality of battery cell housing sections comprising a plurality of battery cell housing sections, each of the plurality of battery cell housing sections comprising a plurality of battery cell housing sections, each of the plurality of battery cell housing sections comprising a plurality of battery cell housing sections, each of the plurality of battery cell housing sections comprising a plurality of battery cell housing sections, each of the plurality of battery cell housing sections comprising a plurality of battery cell housing sections, each of the plurality of battery cell housing sections comprising a plurality of battery cell housing sections, each of the plurality of battery cell housing sections comprising a plurality of battery cell housing sections, each of the plurality of battery cell housing sections comprising a plurality of battery cell housing sections, each of the plurality of battery cell housing sections comprising a plurality of battery cell housing sections, each of the plurality of battery cell housing sections comprising a plurality of battery cell housing sections, each of the plurality of battery cell housing sections comprising a plurality of battery cell housing sections, each of the plurality of battery cell housing sections comprising a plurality of battery cell housing section, each of the plurality of battery cell housing sections comprising a plurality of battery cell housing section comprising a plurality of battery cell housing section, each of the battery cell housing sections comprising a plurality of battery cell housing section comprising a plurality of battery cell housing section, each of the plurality of battery cell housing sections comprising a plurality of battery cell section comprising a plurality of battery cell housing section, each of the battery cell housing comprising a plurality of battery cell section comprising a plurality of battery cell, each of the battery cell comprising a plurality of battery cell housing section comprising a plurality of battery cell housing section of a plurality of battery cell of battery</p>"
            ]
          },
          "metadata": {}
        },
        {
          "output_type": "display_data",
          "data": {
            "text/plain": [
              "<IPython.core.display.HTML object>"
            ],
            "text/html": [
              "<hr/>"
            ]
          },
          "metadata": {}
        },
        {
          "output_type": "display_data",
          "data": {
            "text/plain": [
              "<IPython.core.display.HTML object>"
            ],
            "text/html": [
              "<h3>Original claim</h3>"
            ]
          },
          "metadata": {}
        },
        {
          "output_type": "display_data",
          "data": {
            "text/plain": [
              "<IPython.core.display.HTML object>"
            ],
            "text/html": [
              "<p>a compound selected from the group consisting of:</p>"
            ]
          },
          "metadata": {}
        },
        {
          "output_type": "display_data",
          "data": {
            "text/plain": [
              "<IPython.core.display.HTML object>"
            ],
            "text/html": [
              "<h3>Beam search claim (ROUGE-L = 15.0)</h3>"
            ]
          },
          "metadata": {}
        },
        {
          "output_type": "display_data",
          "data": {
            "text/plain": [
              "<IPython.core.display.HTML object>"
            ],
            "text/html": [
              "<p>an organic light emitting device comprising an anode, a cathode, and an organic layer disposed between the anode and the cathode, wherein the organic layer comprises one or more of the compounds.</p>"
            ]
          },
          "metadata": {}
        },
        {
          "output_type": "display_data",
          "data": {
            "text/plain": [
              "<IPython.core.display.HTML object>"
            ],
            "text/html": [
              "<hr/>"
            ]
          },
          "metadata": {}
        },
        {
          "output_type": "display_data",
          "data": {
            "text/plain": [
              "<IPython.core.display.HTML object>"
            ],
            "text/html": [
              "<h3>Original claim</h3>"
            ]
          },
          "metadata": {}
        },
        {
          "output_type": "display_data",
          "data": {
            "text/plain": [
              "<IPython.core.display.HTML object>"
            ],
            "text/html": [
              "<p>a semiconductor light emitting element comprising: a first semiconductor layer  of a first conductivity type; a pit formation layer  formed on said first semiconductor layer  and having a pyramidal pit pt caused by a threading dislocation td generated in said first semiconductor layer ; an active layer  formed on said pit formation layer  and made of ingan-based semiconductor materials, said active layer  having a multi-quantum well structure having well layers wn and barrier layers bn that are laminated alternately in which each well layer and each barrier layer lie one upon another, and said active layer  having an embedded portion 14a formed so as to embed said pit pt; an electron blocking layer  formed on said active layer  to cover said embedded portion 14a; and a second semiconductor layer  formed on said electron blocking layer  and having a second conductivity type which is opposite to said first conductivity type, characterized in that said embedded portion 14a has embedded well portions iwn corresponding to said well layers wn respectively and embedded barrier portions ibn corresponding to said barrier layers bn respectively, each of said embedded well portions iwn and said embedded barrier portions ibn is configured such that, with respect to each iw, iw of said embedded well portions iwn and each ib, ib of said embedded barrier portions ibn which are situated adjacent to each other, a second apex angle y1,y2 of an apex pw, pw of said each of said embedded well portions iwn is smaller than a first apex angle x1, x2 of an apex pb , pb  of said each of said embedded barrier portions ibn wherein said each of said embedded well portions iwn is subsequently formed on said each of said embedded barrier portions ibn, said embedded well portions iwn are configured so as to have apex angles which are gradually increased respectively as the embedded well portions iwn approach said second semiconductor layer , said embedded barrier portions ibn are configured so as to have apex angles which are gradually increased respectively as the embedded barrier portions ibn approach said second semiconductor layer , so that said embedded portion 14a has a recess portion rc placed on an upper interface with said electron blocking layer  above said pyramidal pit pt, said recess portion rc has an apex 14p placed at a position existing in a layered direction of said active layer  within said active layer , the depth d of the apex 14p of said recess rc with regard to the interface between the active layer  and the electron blocking layer  outside the embedded portion 14a exceeding the well layer wn the nearest to said electron blocking layer  outside the embedded portion 14a.</p>"
            ]
          },
          "metadata": {}
        },
        {
          "output_type": "display_data",
          "data": {
            "text/plain": [
              "<IPython.core.display.HTML object>"
            ],
            "text/html": [
              "<h3>Beam search claim (ROUGE-L = 16.31205673758865)</h3>"
            ]
          },
          "metadata": {}
        },
        {
          "output_type": "display_data",
          "data": {
            "text/plain": [
              "<IPython.core.display.HTML object>"
            ],
            "text/html": [
              "<p>a semiconductor light emitting element comprising:a p-type semiconductor layer grown on a substrate ;a p-type semiconductor layer grown on the p-type semiconductor layer ;a nitride semiconductor layer grown on the p-type semiconductor layer ;a p-type semiconductor layer grown on the nitride semiconductor layer ;a nitride semiconductor layer grown on the p-type semiconductor layer ;a p-type semiconductor layer grown on the nitride semiconductor layer ;a nitride semiconductor layer grown on the p-type semiconductor layer ;a p-type semiconductor layer grown on the nitride semiconductor layer ;a nitride semiconductor layer grown on the p-type semiconductor layer ;a nitride semiconductor layer grown on the p-type semiconductor layer ;a nitride semiconductor layer grown on the p-type semiconductor layer ;a nitride semiconductor layer grown on the p-type semiconductor layer ;a nitride semiconductor layer grown on the p-type semiconductor layer ;a nitride semiconductor layer grown on the p-type semiconductor layer ;a nitride semiconductor layer grown on the p-type semiconductor layer ;a nitride semiconductor layer grown on the nitride semiconductor layer ;a nitride semiconductor layer grown on the p-type semiconductor layer ;a nitride semiconductor layer grown on the p-type semiconductor layer ;a nitride semiconductor layer grown on the nitride semiconductor layer ;a nitride semiconductor layer grown on the p-type semiconductor layer ;a nitride semiconductor layer grown on the nitride semiconductor layer ;a nitride semiconductor layer grown on the p-type semiconductor layer ;a nitride semiconductor layer grown on the nitride semiconductor layer ;a nitride semiconductor layer grown on the p-type semiconductor layer ;a nitride semiconductor layer grown on the nitride semiconductor layer ;a nitride semiconductor layer grown on the p-type semiconductor layer ;a nitride semiconductor layer grown on the nitride semiconductor layer ;a nitride semiconductor layer grown on the nitride semiconductor layer ;a nitride semiconductor layer grown on the p-type semiconductor layer ;a nitride semiconductor layer grown on the nitride semiconductor layer ;a nitride semiconductor layer grown on the nitride semiconductor layer ;a nitride semiconductor layer grown on the nitride semiconductor layer ;a nitride semiconductor layer grown on the nitride semiconductor layer ;a nitride semiconductor layer ;a semiconductor layer grown on the nitride semiconductor layer ;a nitride semiconductor layer grown on the nitride semiconductor layer ;a nitride semiconductor layer ;a semiconductor layer grown on the nitride semiconductor layer ;a semiconductor layer grown on the</p>"
            ]
          },
          "metadata": {}
        },
        {
          "output_type": "display_data",
          "data": {
            "text/plain": [
              "<IPython.core.display.HTML object>"
            ],
            "text/html": [
              "<hr/>"
            ]
          },
          "metadata": {}
        },
        {
          "output_type": "display_data",
          "data": {
            "text/plain": [
              "<IPython.core.display.HTML object>"
            ],
            "text/html": [
              "<h3>Original claim</h3>"
            ]
          },
          "metadata": {}
        },
        {
          "output_type": "display_data",
          "data": {
            "text/plain": [
              "<IPython.core.display.HTML object>"
            ],
            "text/html": [
              "<p>a semiconductor light emitting element comprising: a first semiconductor layer  of a first conductivity type; a pit formation layer  formed on said first semiconductor layer  and having a pyramidal pit pt caused by a threading dislocation td generated in said first semiconductor layer  ; an active layer  formed on said pit formation layer  and made of ingan-based semiconductor materials, said active layer  having a multi-quantum well structure having well layers wn and barrier layers bn that are laminated alternately in which each well layer and each barrier layer lie one upon another, and said active layer  having a flat portion 14a and an embedded portion 14b which is formed so as to embed said pit; and a second semiconductor layer  formed on said active layer  and having a second conductivity type which is opposite to the first conductivity type, characterized in that said flat portion 14a has flat well portions fwn corresponding to said well layers wn, said embedded portion 14b has embedded well portions iwn corresponding to said well layers wn, each of said embedded well portions iwn has ring portions rwn each of which is formed in an interface with each of said flat well portions fwn so as to surround said threading dislocation td, each of said ring portions rwn has a band gap smaller than that of each of said flat well portions fwn, each of said ring portions rwn has a thickness d1 larger than a thickness d2 of each of said flat well portions fwn corresponding to each of said ring portions rwn, said embedded portion 14b has embedded barrier portions ibn corresponding to said barrier layers bn, said embedded well portions iwn and said embedded barrier portions ibn are configured such that a facet upper end p12 of one of said embedded well portions iwn is formed at a position closer to a center cp of said pit pt than a facet upper end p11 of an adjacent one of said embedded barrier portions ibn, wherein the one embedded well portion iwn is subsequently formed on the adjacent embedded barrier portion ibn.</p>"
            ]
          },
          "metadata": {}
        },
        {
          "output_type": "display_data",
          "data": {
            "text/plain": [
              "<IPython.core.display.HTML object>"
            ],
            "text/html": [
              "<h3>Beam search claim (ROUGE-L = 16.587677725118482)</h3>"
            ]
          },
          "metadata": {}
        },
        {
          "output_type": "display_data",
          "data": {
            "text/plain": [
              "<IPython.core.display.HTML object>"
            ],
            "text/html": [
              "<p>a semiconductor light emitting element comprising:a nitride semiconductor layer grown on a substrate;a threading dislocation formed in the nitride semiconductor layer;a pit having inclined side surfaces surrounding the threading dislocation; andan active layer grown on the pit after pit formation, wherein the active layer is layered on the inclined side surface of the pit at a growth rate slower than that on the other portion of the active layer.</p>"
            ]
          },
          "metadata": {}
        },
        {
          "output_type": "display_data",
          "data": {
            "text/plain": [
              "<IPython.core.display.HTML object>"
            ],
            "text/html": [
              "<hr/>"
            ]
          },
          "metadata": {}
        },
        {
          "output_type": "display_data",
          "data": {
            "text/plain": [
              "<IPython.core.display.HTML object>"
            ],
            "text/html": [
              "<h3>Original claim</h3>"
            ]
          },
          "metadata": {}
        },
        {
          "output_type": "display_data",
          "data": {
            "text/plain": [
              "<IPython.core.display.HTML object>"
            ],
            "text/html": [
              "<p>a control system for controlling radiation direction of an antenna beam of an antenna unit , wherein the radiation direction is adjustable in accordance with an actuating signal, the control system comprising: a filtering means 403, 502 connected to a feeder cable 401, 501 configured to carry rf signals and a modulated control signal, wherein said filtering means 403, 502 is arranged to filter out said modulated control signal; an external control unit , attachable to said antenna unit , wherein said external control unit includes a detecting means 406, 602 and a control means , said detecting means 406, 602 is arranged to detect and demodulate said filtered out modulated control signal, and said control means  is arranged to produce the actuating signal in accordance with the detected and demodulated control signal, wherein said filtering means 403, 502 is directly connected to said detecting means 406, 602 located within said external control unit  so as to provide the filtered out modulated control signal directly to said detecting means 406, 602, and wherein said detecting means 406, 602 is arranged to provide said detected and demodulated control signal to said control means  in a format readable by said control means .</p>"
            ]
          },
          "metadata": {}
        },
        {
          "output_type": "display_data",
          "data": {
            "text/plain": [
              "<IPython.core.display.HTML object>"
            ],
            "text/html": [
              "<h3>Beam search claim (ROUGE-L = 23.715415019762844)</h3>"
            ]
          },
          "metadata": {}
        },
        {
          "output_type": "display_data",
          "data": {
            "text/plain": [
              "<IPython.core.display.HTML object>"
            ],
            "text/html": [
              "<p>an antenna beam radiation direction control system for controlling radiation direction of an antenna beam, comprising:- a ret remote-controlled electrical down-tilt unit ;- a filtering means ;- an external control unit ; and- a ret remote-controlled electrical down-tilt unit, characterized in that- the filtering means and the external control unit are directly connected to each other.</p>"
            ]
          },
          "metadata": {}
        },
        {
          "output_type": "display_data",
          "data": {
            "text/plain": [
              "<IPython.core.display.HTML object>"
            ],
            "text/html": [
              "<hr/>"
            ]
          },
          "metadata": {}
        },
        {
          "output_type": "display_data",
          "data": {
            "text/plain": [
              "<IPython.core.display.HTML object>"
            ],
            "text/html": [
              "<h1>bigbird less samples</h1>"
            ]
          },
          "metadata": {}
        },
        {
          "output_type": "display_data",
          "data": {
            "text/plain": [
              "<IPython.core.display.HTML object>"
            ],
            "text/html": [
              "<h2>Greedy search gen</h1>"
            ]
          },
          "metadata": {}
        },
        {
          "output_type": "display_data",
          "data": {
            "text/plain": [
              "<IPython.core.display.HTML object>"
            ],
            "text/html": [
              "<h3>Original claim</h3>"
            ]
          },
          "metadata": {}
        },
        {
          "output_type": "display_data",
          "data": {
            "text/plain": [
              "<IPython.core.display.HTML object>"
            ],
            "text/html": [
              "<p>a secondary battery comprising: an electrode assembly; and an exterior member which seals the electrode assembly, wherein the exterior member comprises: a pouch which is flexible; and a can which is connected to the pouch and is formed of a material having a greater hardness than that of the pouch; the said pouch comprising a first sealing portion; a pouch body which is connected to the first sealing portion; and a second sealing portion which is arranged to face the first sealing portion and is connected to the pouch body; characterised in that the can is inserted into the pouch body and is connected to the first sealing portion, the second sealing portion, and the pouch body.</p>"
            ]
          },
          "metadata": {}
        },
        {
          "output_type": "display_data",
          "data": {
            "text/plain": [
              "<IPython.core.display.HTML object>"
            ],
            "text/html": [
              "<h3>Greedy search claim (ROUGE-L = 8.133086876155268)</h3>"
            ]
          },
          "metadata": {}
        },
        {
          "output_type": "display_data",
          "data": {
            "text/plain": [
              "<IPython.core.display.HTML object>"
            ],
            "text/html": [
              "<p>according to the invention, a secondary battery comprises a battery cell and a battery cover, wherein said battery cell comprises a plurality of battery cells and said battery cover comprises a plurality of battery cells, and wherein said battery cells comprise a plurality of battery cells, and wherein said battery cells comprise a plurality of battery cells, and wherein said battery cells comprise a plurality of battery cells, and wherein said battery cells comprise a plurality of battery cells, and wherein said battery cells comprise a plurality of battery cells, and wherein said battery cells comprise a plurality of battery cells, and wherein said battery cells comprise a plurality of battery cells, and wherein said battery cells comprise a plurality of battery cells, and wherein said battery cells comprise a plurality of battery cells, and wherein said battery cells comprise a plurality of battery cells, and wherein said battery cells comprise a plurality of battery cells, and wherein said battery cells comprise a plurality of battery cells, and wherein said battery cells comprise a plurality of battery cells, and wherein said battery cells comprise a plurality of battery cells, and wherein said battery cells comprise a plurality of battery cells, and wherein said battery cells comprise a plurality of battery cells, and wherein said battery cells comprise a plurality of battery cells, and wherein said battery cells comprise a plurality of battery cells, and wherein said battery cells comprise a plurality of battery cells, and wherein said battery cells comprise a plurality of battery cells, and wherein said battery cells comprise a plurality of battery cells, and wherein said battery cells comprise a plurality of battery cells, and wherein said battery cells comprise a plurality of battery cells, and wherein said battery cell comprises a plurality of battery cells, and wherein said battery cell comprises a plurality of battery cell cover, and wherein said battery cell comprises a plurality of battery cells, and wherein said battery cell comprises a plurality of battery cells, and wherein said battery cover comprises a plurality of battery cover, and wherein said battery cover comprises a plurality of battery cover, and wherein said battery cover comprises a plurality of battery cell, and wherein said battery cover comprises a plurality of battery cell, and wherein said battery cover comprises a plurality of battery cell, and wherein said battery cell, and wherein said battery cells comprise a plurality of battery cell, and wherein said battery cover comprises a plurality of battery cell, and wherein said battery cover comprises a plurality of</p>"
            ]
          },
          "metadata": {}
        },
        {
          "output_type": "display_data",
          "data": {
            "text/plain": [
              "<IPython.core.display.HTML object>"
            ],
            "text/html": [
              "<hr/>"
            ]
          },
          "metadata": {}
        },
        {
          "output_type": "display_data",
          "data": {
            "text/plain": [
              "<IPython.core.display.HTML object>"
            ],
            "text/html": [
              "<h3>Original claim</h3>"
            ]
          },
          "metadata": {}
        },
        {
          "output_type": "display_data",
          "data": {
            "text/plain": [
              "<IPython.core.display.HTML object>"
            ],
            "text/html": [
              "<p>a semiconductor light emitting element comprising: a first semiconductor layer  of a first conductivity type; a pit formation layer  formed on said first semiconductor layer  and having a pyramidal pit pt caused by a threading dislocation td generated in said first semiconductor layer  ; an active layer  formed on said pit formation layer  and made of ingan-based semiconductor materials, said active layer  having a multi-quantum well structure having well layers wn and barrier layers bn that are laminated alternately in which each well layer and each barrier layer lie one upon another, and said active layer  having a flat portion 14a and an embedded portion 14b which is formed so as to embed said pit; and a second semiconductor layer  formed on said active layer  and having a second conductivity type which is opposite to the first conductivity type, characterized in that said flat portion 14a has flat well portions fwn corresponding to said well layers wn, said embedded portion 14b has embedded well portions iwn corresponding to said well layers wn, each of said embedded well portions iwn has ring portions rwn each of which is formed in an interface with each of said flat well portions fwn so as to surround said threading dislocation td, each of said ring portions rwn has a band gap smaller than that of each of said flat well portions fwn, each of said ring portions rwn has a thickness d1 larger than a thickness d2 of each of said flat well portions fwn corresponding to each of said ring portions rwn, said embedded portion 14b has embedded barrier portions ibn corresponding to said barrier layers bn, said embedded well portions iwn and said embedded barrier portions ibn are configured such that a facet upper end p12 of one of said embedded well portions iwn is formed at a position closer to a center cp of said pit pt than a facet upper end p11 of an adjacent one of said embedded barrier portions ibn, wherein the one embedded well portion iwn is subsequently formed on the adjacent embedded barrier portion ibn.</p>"
            ]
          },
          "metadata": {}
        },
        {
          "output_type": "display_data",
          "data": {
            "text/plain": [
              "<IPython.core.display.HTML object>"
            ],
            "text/html": [
              "<h3>Greedy search claim (ROUGE-L = 10.65989847715736)</h3>"
            ]
          },
          "metadata": {}
        },
        {
          "output_type": "display_data",
          "data": {
            "text/plain": [
              "<IPython.core.display.HTML object>"
            ],
            "text/html": [
              "<p>a semiconductor light emitting element comprising: a nitride semiconductor layer grown on a substrate made of a material different from a nitride semiconductor; and crystal defects misfit dislocations occur at an interface between the substrate and the semiconductor layer due to their lattice mismatch.</p>"
            ]
          },
          "metadata": {}
        },
        {
          "output_type": "display_data",
          "data": {
            "text/plain": [
              "<IPython.core.display.HTML object>"
            ],
            "text/html": [
              "<hr/>"
            ]
          },
          "metadata": {}
        },
        {
          "output_type": "display_data",
          "data": {
            "text/plain": [
              "<IPython.core.display.HTML object>"
            ],
            "text/html": [
              "<h3>Original claim</h3>"
            ]
          },
          "metadata": {}
        },
        {
          "output_type": "display_data",
          "data": {
            "text/plain": [
              "<IPython.core.display.HTML object>"
            ],
            "text/html": [
              "<p>a semiconductor light emitting element comprising: a first semiconductor layer  of a first conductivity type; a pit formation layer  formed on said first semiconductor layer  and having a pyramidal pit pt caused by a threading dislocation td generated in said first semiconductor layer ; an active layer  formed on said pit formation layer  and made of ingan-based semiconductor materials, said active layer  having a multi-quantum well structure having well layers wn and barrier layers bn that are laminated alternately in which each well layer and each barrier layer lie one upon another, and said active layer  having an embedded portion 14a formed so as to embed said pit pt; an electron blocking layer  formed on said active layer  to cover said embedded portion 14a; and a second semiconductor layer  formed on said electron blocking layer  and having a second conductivity type which is opposite to said first conductivity type, characterized in that said embedded portion 14a has embedded well portions iwn corresponding to said well layers wn respectively and embedded barrier portions ibn corresponding to said barrier layers bn respectively, each of said embedded well portions iwn and said embedded barrier portions ibn is configured such that, with respect to each iw, iw of said embedded well portions iwn and each ib, ib of said embedded barrier portions ibn which are situated adjacent to each other, a second apex angle y1,y2 of an apex pw, pw of said each of said embedded well portions iwn is smaller than a first apex angle x1, x2 of an apex pb , pb  of said each of said embedded barrier portions ibn wherein said each of said embedded well portions iwn is subsequently formed on said each of said embedded barrier portions ibn, said embedded well portions iwn are configured so as to have apex angles which are gradually increased respectively as the embedded well portions iwn approach said second semiconductor layer , said embedded barrier portions ibn are configured so as to have apex angles which are gradually increased respectively as the embedded barrier portions ibn approach said second semiconductor layer , so that said embedded portion 14a has a recess portion rc placed on an upper interface with said electron blocking layer  above said pyramidal pit pt, said recess portion rc has an apex 14p placed at a position existing in a layered direction of said active layer  within said active layer , the depth d of the apex 14p of said recess rc with regard to the interface between the active layer  and the electron blocking layer  outside the embedded portion 14a exceeding the well layer wn the nearest to said electron blocking layer  outside the embedded portion 14a.</p>"
            ]
          },
          "metadata": {}
        },
        {
          "output_type": "display_data",
          "data": {
            "text/plain": [
              "<IPython.core.display.HTML object>"
            ],
            "text/html": [
              "<h3>Greedy search claim (ROUGE-L = 16.81260945709282)</h3>"
            ]
          },
          "metadata": {}
        },
        {
          "output_type": "display_data",
          "data": {
            "text/plain": [
              "<IPython.core.display.HTML object>"
            ],
            "text/html": [
              "<p>a semiconductor light emitting element, comprising: a p-type semiconductor layer grown on a substrate made of a material different from a nitride semiconductor; a p-type semiconductor layer grown on the p-type semiconductor layer; a threading dislocation extending in a layered direction of the p-type semiconductor layer; and a threading dislocation misfit dislocation occurring at an interface between the substrate and the p-type semiconductor layer due to a lattice mismatch between the p-type semiconductor layer and the p-type semiconductor layer; and an electron blocking layer grown on the threading dislocation misfit dislocation, wherein the electron blocking layer is layered on the threading dislocation misfit dislocation at a growth rate slower than that on the other portion flat portion.</p>"
            ]
          },
          "metadata": {}
        },
        {
          "output_type": "display_data",
          "data": {
            "text/plain": [
              "<IPython.core.display.HTML object>"
            ],
            "text/html": [
              "<hr/>"
            ]
          },
          "metadata": {}
        },
        {
          "output_type": "display_data",
          "data": {
            "text/plain": [
              "<IPython.core.display.HTML object>"
            ],
            "text/html": [
              "<h3>Original claim</h3>"
            ]
          },
          "metadata": {}
        },
        {
          "output_type": "display_data",
          "data": {
            "text/plain": [
              "<IPython.core.display.HTML object>"
            ],
            "text/html": [
              "<p>a control system for controlling radiation direction of an antenna beam of an antenna unit , wherein the radiation direction is adjustable in accordance with an actuating signal, the control system comprising: a filtering means 403, 502 connected to a feeder cable 401, 501 configured to carry rf signals and a modulated control signal, wherein said filtering means 403, 502 is arranged to filter out said modulated control signal; an external control unit , attachable to said antenna unit , wherein said external control unit includes a detecting means 406, 602 and a control means , said detecting means 406, 602 is arranged to detect and demodulate said filtered out modulated control signal, and said control means  is arranged to produce the actuating signal in accordance with the detected and demodulated control signal, wherein said filtering means 403, 502 is directly connected to said detecting means 406, 602 located within said external control unit  so as to provide the filtered out modulated control signal directly to said detecting means 406, 602, and wherein said detecting means 406, 602 is arranged to provide said detected and demodulated control signal to said control means  in a format readable by said control means .</p>"
            ]
          },
          "metadata": {}
        },
        {
          "output_type": "display_data",
          "data": {
            "text/plain": [
              "<IPython.core.display.HTML object>"
            ],
            "text/html": [
              "<h3>Greedy search claim (ROUGE-L = 21.45214521452145)</h3>"
            ]
          },
          "metadata": {}
        },
        {
          "output_type": "display_data",
          "data": {
            "text/plain": [
              "<IPython.core.display.HTML object>"
            ],
            "text/html": [
              "<p>a system for controlling radiation direction of an antenna beam, comprising filtering means for filtering control signals superposed in an antenna beam, an external control unit for controlling the filtering means, and a ret remote-controlled electrical down-tilt unit for receiving the control signals superposed in the antenna beam, wherein the filtering means and the external control unit are connected to each other, and wherein the filtering means and the ret remote-controlled electrical down-tilt unit are connected to each other, and wherein the control signals superposed in the antenna beam are received by the ret remote-controlled electrical down-tilt unit, and wherein the control signals superposed in the antenna beam are filtered by the filtering means, and wherein the filtering means and the external control unit are connected to each other, and wherein the control signals superposed in the antenna beam are received by the ret remote-controlled electrical down-tilt unit, and wherein the filtering means and the ret remote-controlled electrical down-tilt unit are connected to each other, and wherein the filtering means and the ret remote-controlled electrical down-tilt unit are connected to each other, and wherein the filtering means and the ret remote-controlled electrical down-tilt unit are connected to each other, and wherein the control signals superposed in the antenna beam are received by the ret remote-controlled electrical down-tilt unit, and wherein the filtering means and the ret remote-controlled electrical down-tilt unit are connected to each other, and wherein the filtering means and the ret remote-controlled electrical down-tilt unit are connected to each other, and wherein the filtering means and the ret remote-controlled electrical down-tilt unit are connected to each other, and wherein the filtering means and the ret remote-controlled electrical down-tilt unit are connected to each other, and wherein the filtering means and the ret remote-controlled electrical down-tilt unit are connected to each other, and wherein the filtering means and the ret remote-controlled electrical down-tilt unit are connected to each other, and wherein the filtering means and the ret remote-controlled electrical down-tilt unit are connected to each other, and the filtering means and the ret remote-controlled electrical down-tilt unit are connected to each other, and wherein the filtering means and the ret remote-controlled electrical down-controlled electrical down-tilt unit are connected to each other, and wherein the</p>"
            ]
          },
          "metadata": {}
        },
        {
          "output_type": "display_data",
          "data": {
            "text/plain": [
              "<IPython.core.display.HTML object>"
            ],
            "text/html": [
              "<hr/>"
            ]
          },
          "metadata": {}
        },
        {
          "output_type": "display_data",
          "data": {
            "text/plain": [
              "<IPython.core.display.HTML object>"
            ],
            "text/html": [
              "<h3>Original claim</h3>"
            ]
          },
          "metadata": {}
        },
        {
          "output_type": "display_data",
          "data": {
            "text/plain": [
              "<IPython.core.display.HTML object>"
            ],
            "text/html": [
              "<p>a communication system comprising: a connection control apparatus  configured to receive a connection request message that requests a connection to a network  from a first communication apparatus  included in a plurality of communication apparatuses in which a synchronous communication is limited and allow the first communication apparatus  to be temporarily connected to the network  when the connection request message corresponds to a message that requests a temporary communication; and a communication timing control apparatus  configured to transmit, when the communication timing control apparatus  receives a communication timing request message that requests acquisition of the communication timing from the first communication apparatus  while the first communication apparatus  is allowed to be temporarily connected to the network , a communication allowable timing notification message indicating a communication timing to the first communication apparatus  while the first communication apparatus  is allowed to be temporarily connected to the network ; wherein the communication timing control apparatus  is configured to start a collective accept timer when the communication timing control apparatus  receives the communication timing request message from the first communication apparatus , and when the communication timing control apparatus  receives the communication timing request message from a second communication apparatus  included in the plurality of communication apparatuses while the collective accept timer is being activated, calculate a communication timing of the second communication apparatus  and update the communication timing of the first communication apparatus .</p>"
            ]
          },
          "metadata": {}
        },
        {
          "output_type": "display_data",
          "data": {
            "text/plain": [
              "<IPython.core.display.HTML object>"
            ],
            "text/html": [
              "<h3>Greedy search claim (ROUGE-L = 21.722846441947567)</h3>"
            ]
          },
          "metadata": {}
        },
        {
          "output_type": "display_data",
          "data": {
            "text/plain": [
              "<IPython.core.display.HTML object>"
            ],
            "text/html": [
              "<p>a communication system comprising a connection control apparatus configured to control a connection between a mobile device and a core network, wherein the connection control apparatus is configured to send a notification of a communication timing to the core network.</p>"
            ]
          },
          "metadata": {}
        },
        {
          "output_type": "display_data",
          "data": {
            "text/plain": [
              "<IPython.core.display.HTML object>"
            ],
            "text/html": [
              "<hr/>"
            ]
          },
          "metadata": {}
        },
        {
          "output_type": "display_data",
          "data": {
            "text/plain": [
              "<IPython.core.display.HTML object>"
            ],
            "text/html": [
              "<h2>Beam search gen</h1>"
            ]
          },
          "metadata": {}
        },
        {
          "output_type": "display_data",
          "data": {
            "text/plain": [
              "<IPython.core.display.HTML object>"
            ],
            "text/html": [
              "<h3>Original claim</h3>"
            ]
          },
          "metadata": {}
        },
        {
          "output_type": "display_data",
          "data": {
            "text/plain": [
              "<IPython.core.display.HTML object>"
            ],
            "text/html": [
              "<p>a secondary battery comprising: an electrode assembly; and an exterior member which seals the electrode assembly, wherein the exterior member comprises: a pouch which is flexible; and a can which is connected to the pouch and is formed of a material having a greater hardness than that of the pouch; the said pouch comprising a first sealing portion; a pouch body which is connected to the first sealing portion; and a second sealing portion which is arranged to face the first sealing portion and is connected to the pouch body; characterised in that the can is inserted into the pouch body and is connected to the first sealing portion, the second sealing portion, and the pouch body.</p>"
            ]
          },
          "metadata": {}
        },
        {
          "output_type": "display_data",
          "data": {
            "text/plain": [
              "<IPython.core.display.HTML object>"
            ],
            "text/html": [
              "<h3>Beam search claim (ROUGE-L = 8.133086876155268)</h3>"
            ]
          },
          "metadata": {}
        },
        {
          "output_type": "display_data",
          "data": {
            "text/plain": [
              "<IPython.core.display.HTML object>"
            ],
            "text/html": [
              "<p>according to the invention, a secondary battery comprises a battery cell and a battery cover, wherein said battery cell comprises a plurality of battery cells and said battery cover comprises a plurality of battery cells, and wherein said battery cells comprise a plurality of battery cells, and wherein said battery cells comprise a plurality of battery cells, and wherein said battery cells comprise a plurality of battery cells, and wherein said battery cells comprise a plurality of battery cells, and wherein said battery cells comprise a plurality of battery cells, and wherein said battery cells comprise a plurality of battery cells, and wherein said battery cells comprise a plurality of battery cells, and wherein said battery cells comprise a plurality of battery cells, and wherein said battery cells comprise a plurality of battery cells, and wherein said battery cells comprise a plurality of battery cells, and wherein said battery cells comprise a plurality of battery cells, and wherein said battery cells comprise a plurality of battery cells, and wherein said battery cells comprise a plurality of battery cells, and wherein said battery cells comprise a plurality of battery cells, and wherein said battery cells comprise a plurality of battery cells, and wherein said battery cells comprise a plurality of battery cells, and wherein said battery cells comprise a plurality of battery cells, and wherein said battery cells comprise a plurality of battery cells, and wherein said battery cells comprise a plurality of battery cells, and wherein said battery cells comprise a plurality of battery cells, and wherein said battery cells comprise a plurality of battery cells, and wherein said battery cells comprise a plurality of battery cells, and wherein said battery cells comprise a plurality of battery cells, and wherein said battery cell comprises a plurality of battery cell cover, and wherein said battery cover comprises a plurality of battery cell cell cell cover, and wherein said battery cover comprises a plurality of battery cells, and wherein said battery cover comprises a plurality of battery cell, and wherein said battery cover comprises a plurality of battery cover, and wherein said battery cover comprises a plurality of battery cell, and wherein said battery cover comprises a plurality of battery cell, and wherein said battery cover comprises a plurality of battery cell, and said battery cover, and wherein said battery cover comprises a plurality of battery cell, and wherein said battery cover comprises a plurality of battery cell, and wherein said battery cover comprises a plurality of battery cell, and wherein said battery cover comprises a</p>"
            ]
          },
          "metadata": {}
        },
        {
          "output_type": "display_data",
          "data": {
            "text/plain": [
              "<IPython.core.display.HTML object>"
            ],
            "text/html": [
              "<hr/>"
            ]
          },
          "metadata": {}
        },
        {
          "output_type": "display_data",
          "data": {
            "text/plain": [
              "<IPython.core.display.HTML object>"
            ],
            "text/html": [
              "<h3>Original claim</h3>"
            ]
          },
          "metadata": {}
        },
        {
          "output_type": "display_data",
          "data": {
            "text/plain": [
              "<IPython.core.display.HTML object>"
            ],
            "text/html": [
              "<p>a semiconductor light emitting element comprising: a first semiconductor layer  of a first conductivity type; a pit formation layer  formed on said first semiconductor layer  and having a pyramidal pit pt caused by a threading dislocation td generated in said first semiconductor layer  ; an active layer  formed on said pit formation layer  and made of ingan-based semiconductor materials, said active layer  having a multi-quantum well structure having well layers wn and barrier layers bn that are laminated alternately in which each well layer and each barrier layer lie one upon another, and said active layer  having a flat portion 14a and an embedded portion 14b which is formed so as to embed said pit; and a second semiconductor layer  formed on said active layer  and having a second conductivity type which is opposite to the first conductivity type, characterized in that said flat portion 14a has flat well portions fwn corresponding to said well layers wn, said embedded portion 14b has embedded well portions iwn corresponding to said well layers wn, each of said embedded well portions iwn has ring portions rwn each of which is formed in an interface with each of said flat well portions fwn so as to surround said threading dislocation td, each of said ring portions rwn has a band gap smaller than that of each of said flat well portions fwn, each of said ring portions rwn has a thickness d1 larger than a thickness d2 of each of said flat well portions fwn corresponding to each of said ring portions rwn, said embedded portion 14b has embedded barrier portions ibn corresponding to said barrier layers bn, said embedded well portions iwn and said embedded barrier portions ibn are configured such that a facet upper end p12 of one of said embedded well portions iwn is formed at a position closer to a center cp of said pit pt than a facet upper end p11 of an adjacent one of said embedded barrier portions ibn, wherein the one embedded well portion iwn is subsequently formed on the adjacent embedded barrier portion ibn.</p>"
            ]
          },
          "metadata": {}
        },
        {
          "output_type": "display_data",
          "data": {
            "text/plain": [
              "<IPython.core.display.HTML object>"
            ],
            "text/html": [
              "<h3>Beam search claim (ROUGE-L = 15.172413793103448)</h3>"
            ]
          },
          "metadata": {}
        },
        {
          "output_type": "display_data",
          "data": {
            "text/plain": [
              "<IPython.core.display.HTML object>"
            ],
            "text/html": [
              "<p>a semiconductor light emitting element comprising: a nitride semiconductor layer grown on a substrate made of a material different from a nitride semiconductor; a threading dislocation extending in a layered direction of the nitride semiconductor layer; and crystal defects misfit dislocations occurring at an interface between the substrate and the semiconductor layer due to their lattice mismatch, wherein the crystal defects misfit dislocations are formed so as to penetrate the nitride semiconductor layer in the layered direction of the nitride semiconductor layer during crystal growth.</p>"
            ]
          },
          "metadata": {}
        },
        {
          "output_type": "display_data",
          "data": {
            "text/plain": [
              "<IPython.core.display.HTML object>"
            ],
            "text/html": [
              "<hr/>"
            ]
          },
          "metadata": {}
        },
        {
          "output_type": "display_data",
          "data": {
            "text/plain": [
              "<IPython.core.display.HTML object>"
            ],
            "text/html": [
              "<h3>Original claim</h3>"
            ]
          },
          "metadata": {}
        },
        {
          "output_type": "display_data",
          "data": {
            "text/plain": [
              "<IPython.core.display.HTML object>"
            ],
            "text/html": [
              "<p>a semiconductor light emitting element comprising: a first semiconductor layer  of a first conductivity type; a pit formation layer  formed on said first semiconductor layer  and having a pyramidal pit pt caused by a threading dislocation td generated in said first semiconductor layer ; an active layer  formed on said pit formation layer  and made of ingan-based semiconductor materials, said active layer  having a multi-quantum well structure having well layers wn and barrier layers bn that are laminated alternately in which each well layer and each barrier layer lie one upon another, and said active layer  having an embedded portion 14a formed so as to embed said pit pt; an electron blocking layer  formed on said active layer  to cover said embedded portion 14a; and a second semiconductor layer  formed on said electron blocking layer  and having a second conductivity type which is opposite to said first conductivity type, characterized in that said embedded portion 14a has embedded well portions iwn corresponding to said well layers wn respectively and embedded barrier portions ibn corresponding to said barrier layers bn respectively, each of said embedded well portions iwn and said embedded barrier portions ibn is configured such that, with respect to each iw, iw of said embedded well portions iwn and each ib, ib of said embedded barrier portions ibn which are situated adjacent to each other, a second apex angle y1,y2 of an apex pw, pw of said each of said embedded well portions iwn is smaller than a first apex angle x1, x2 of an apex pb , pb  of said each of said embedded barrier portions ibn wherein said each of said embedded well portions iwn is subsequently formed on said each of said embedded barrier portions ibn, said embedded well portions iwn are configured so as to have apex angles which are gradually increased respectively as the embedded well portions iwn approach said second semiconductor layer , said embedded barrier portions ibn are configured so as to have apex angles which are gradually increased respectively as the embedded barrier portions ibn approach said second semiconductor layer , so that said embedded portion 14a has a recess portion rc placed on an upper interface with said electron blocking layer  above said pyramidal pit pt, said recess portion rc has an apex 14p placed at a position existing in a layered direction of said active layer  within said active layer , the depth d of the apex 14p of said recess rc with regard to the interface between the active layer  and the electron blocking layer  outside the embedded portion 14a exceeding the well layer wn the nearest to said electron blocking layer  outside the embedded portion 14a.</p>"
            ]
          },
          "metadata": {}
        },
        {
          "output_type": "display_data",
          "data": {
            "text/plain": [
              "<IPython.core.display.HTML object>"
            ],
            "text/html": [
              "<h3>Beam search claim (ROUGE-L = 16.931216931216934)</h3>"
            ]
          },
          "metadata": {}
        },
        {
          "output_type": "display_data",
          "data": {
            "text/plain": [
              "<IPython.core.display.HTML object>"
            ],
            "text/html": [
              "<p>a semiconductor light emitting element, comprising: a p-type semiconductor layer grown on a substrate made of a material different from a nitride semiconductor; a p-type semiconductor layer grown on the p-type semiconductor layer; a threading dislocation formed in the p-type semiconductor layer; and a threading dislocation misfit dislocation occurring at an interface between the substrate and the p-type semiconductor layer due to a lattice mismatch between the p-type semiconductor layer and the p-type semiconductor layer; and an electron blocking layer formed on the threading dislocation misfit dislocation, wherein the electron blocking layer is layered on the threading dislocation misfit dislocation at a growth rate slower than that on the other portion flat portion.</p>"
            ]
          },
          "metadata": {}
        },
        {
          "output_type": "display_data",
          "data": {
            "text/plain": [
              "<IPython.core.display.HTML object>"
            ],
            "text/html": [
              "<hr/>"
            ]
          },
          "metadata": {}
        },
        {
          "output_type": "display_data",
          "data": {
            "text/plain": [
              "<IPython.core.display.HTML object>"
            ],
            "text/html": [
              "<h3>Original claim</h3>"
            ]
          },
          "metadata": {}
        },
        {
          "output_type": "display_data",
          "data": {
            "text/plain": [
              "<IPython.core.display.HTML object>"
            ],
            "text/html": [
              "<p>a manufacturing method of a battery pack  having: battery cells ; a battery holder  holding the battery cells ; a waterproof bag  storing the battery holder  holding the battery cells  as a waterproof structure; and a potting resin  being injected in the waterproof bag ,wherein the waterproof bag  has a check valve  which opens only at the time of exhausting an inner air, the method comprising: an injecting step injecting the uncured pasty or liquid potting resin  into the waterproof bag  storing the battery holder , in a state that a circuit board  is located on an upper surface of the battery holder  holding the battery cells , characterizing in that: in the injecting step, the waterproof bag  is partially pushed from outside, and in this state the potting resin  is injected into the waterproof bag .</p>"
            ]
          },
          "metadata": {}
        },
        {
          "output_type": "display_data",
          "data": {
            "text/plain": [
              "<IPython.core.display.HTML object>"
            ],
            "text/html": [
              "<h3>Beam search claim (ROUGE-L = 19.54022988505747)</h3>"
            ]
          },
          "metadata": {}
        },
        {
          "output_type": "display_data",
          "data": {
            "text/plain": [
              "<IPython.core.display.HTML object>"
            ],
            "text/html": [
              "<p>a battery pack and the manufacturing method of the battery pack in which while a volume of an injected potting resin is a minimum, the potting resin tightly contacts a battery cell, and heat of the battery cell can be appropriately radiated.</p>"
            ]
          },
          "metadata": {}
        },
        {
          "output_type": "display_data",
          "data": {
            "text/plain": [
              "<IPython.core.display.HTML object>"
            ],
            "text/html": [
              "<hr/>"
            ]
          },
          "metadata": {}
        },
        {
          "output_type": "display_data",
          "data": {
            "text/plain": [
              "<IPython.core.display.HTML object>"
            ],
            "text/html": [
              "<h3>Original claim</h3>"
            ]
          },
          "metadata": {}
        },
        {
          "output_type": "display_data",
          "data": {
            "text/plain": [
              "<IPython.core.display.HTML object>"
            ],
            "text/html": [
              "<p>a power supply  comprising: a plurality of power modules pm1-pmn, input terminals of the plurality of power modules pm1-pmn being electrically connected in series, output terminals of the plurality of power modules pm1-pmn being electrically connected in parallel; wherein each of the plurality of power modules pm1-pmn comprises: a first converter  configured to convert an input voltage into an intermediate voltage, wherein the intermediate voltage is dc; and a second converter  configured to output a dc supply voltage according to the intermediate voltage, wherein the first converters  in the power modules pm1-pmn are configured to be controlled with at least one first common control signal having a common duty cycle, wherein the second converters  in the power modules pm1-pmn are configured to be controlled with at least one second common control signal having a common duty cycle, wherein the at least one first common control signal is determined according to the input voltage, an input current corresponding to the input voltage, and the intermediate voltages in the power modules pm1-pmn, and wherein the at least one second common control signal is determined according to the dc supply voltage.</p>"
            ]
          },
          "metadata": {}
        },
        {
          "output_type": "display_data",
          "data": {
            "text/plain": [
              "<IPython.core.display.HTML object>"
            ],
            "text/html": [
              "<h3>Beam search claim (ROUGE-L = 20.091324200913245)</h3>"
            ]
          },
          "metadata": {}
        },
        {
          "output_type": "display_data",
          "data": {
            "text/plain": [
              "<IPython.core.display.HTML object>"
            ],
            "text/html": [
              "<p>a power supply includes a plurality of power modules. each of the plurality of power modules includes a first converter and a second converter.</p>"
            ]
          },
          "metadata": {}
        },
        {
          "output_type": "display_data",
          "data": {
            "text/plain": [
              "<IPython.core.display.HTML object>"
            ],
            "text/html": [
              "<hr/>"
            ]
          },
          "metadata": {}
        }
      ]
    },
    {
      "cell_type": "markdown",
      "source": [
        "ROUGE score, in line with BLEU score, penalizes repeated n-grams."
      ],
      "metadata": {
        "id": "N6iQqOy5DbaE"
      },
      "id": "N6iQqOy5DbaE"
    },
    {
      "cell_type": "markdown",
      "source": [
        "### Best generated"
      ],
      "metadata": {
        "id": "Ra4gwE4nTtew"
      },
      "id": "Ra4gwE4nTtew"
    },
    {
      "cell_type": "code",
      "source": [
        "from IPython.display import display, HTML\n",
        "\n",
        "for model, metric in metrics.items():\n",
        "  display(HTML(f\"<h1>{model}</h1>\"))\n",
        "  display(HTML(f\"<h2>Greedy search gen</h1>\"))\n",
        "  badly_generated = metric.sort_values([\"greedy_gen_rougeL\"], ascending=False).iloc[:5]\n",
        "  for idx, bg in badly_generated.iterrows():\n",
        "    display(HTML(f\"<h3>Original claim</h3>\"))\n",
        "    display(HTML(f\"<p>{ bg.claim }</p>\"))\n",
        "    display(HTML(f\"<h3>Greedy search claim (ROUGE-L = {bg.greedy_gen_rougeL})</h3>\"))\n",
        "    display(HTML(f\"<p>{ bg.greedy_gen }</p>\"))\n",
        "    display(HTML(f\"<hr/>\"))\n",
        "\n",
        "  display(HTML(f\"<h2>Beam search gen</h1>\"))\n",
        "  badly_generated = metric.sort_values([\"beam1_gen_rougeL\"], ascending=False).iloc[:5]\n",
        "  for idx, bg in badly_generated.iterrows():\n",
        "    display(HTML(f\"<h3>Original claim</h3>\"))\n",
        "    display(HTML(f\"<p>{ bg.claim }</p>\"))\n",
        "    display(HTML(f\"<h3>Beam search claim (ROUGE-L = {bg.beam1_gen_rougeL})</h3>\"))\n",
        "    display(HTML(f\"<p>{ bg.beam1_gen }</p>\"))\n",
        "    display(HTML(f\"<hr/>\"))"
      ],
      "metadata": {
        "colab": {
          "base_uri": "https://localhost:8080/",
          "height": 1000
        },
        "id": "-zFhRWrqTynT",
        "outputId": "fa62c0a9-a28c-4078-e55a-c9b045c30f03"
      },
      "id": "-zFhRWrqTynT",
      "execution_count": 172,
      "outputs": [
        {
          "output_type": "display_data",
          "data": {
            "text/plain": [
              "<IPython.core.display.HTML object>"
            ],
            "text/html": [
              "<h1>bart</h1>"
            ]
          },
          "metadata": {}
        },
        {
          "output_type": "display_data",
          "data": {
            "text/plain": [
              "<IPython.core.display.HTML object>"
            ],
            "text/html": [
              "<h2>Greedy search gen</h1>"
            ]
          },
          "metadata": {}
        },
        {
          "output_type": "display_data",
          "data": {
            "text/plain": [
              "<IPython.core.display.HTML object>"
            ],
            "text/html": [
              "<h3>Original claim</h3>"
            ]
          },
          "metadata": {}
        },
        {
          "output_type": "display_data",
          "data": {
            "text/plain": [
              "<IPython.core.display.HTML object>"
            ],
            "text/html": [
              "<p>a pilot signal transmission method comprising: determining  m beams, and determining p ports corresponding to the m beams, wherein both m and p are positive integers greater than 1; grouping the p ports into q groups according to directions of the m beams; and sending  n pilot signals to a user equipment, ue, through the q groups of ports; wherein the q groups are obtained by grouping the p ports based on that each group comprises n ports, and both n and q are positive integers greater than 1; the ith port in each group is configured to send the ith pilot signal in the n pilot signals, wherein 1in, and i is a positive integer; and the pilot signal is a channel state information-reference signal, csi-rs.</p>"
            ]
          },
          "metadata": {}
        },
        {
          "output_type": "display_data",
          "data": {
            "text/plain": [
              "<IPython.core.display.HTML object>"
            ],
            "text/html": [
              "<h3>Greedy search claim (ROUGE-L = 90.5511811023622)</h3>"
            ]
          },
          "metadata": {}
        },
        {
          "output_type": "display_data",
          "data": {
            "text/plain": [
              "<IPython.core.display.HTML object>"
            ],
            "text/html": [
              "<p>a pilot signal transmission method, comprising:determining m beams, and determining p ports  corresponding to the m beams, where both m and p are positive integers greater than 1; grouping the p ports into q groups according to directions of the ue; and sending n pilot signals to a user equipment ue through q groups of ports, where the q groups are obtained by grouping said p ports based on that each group includes n ports, and both n and q are positive integer greater than1;the ith port in each group is configured to send the ith pilot signal in the n pilot signal, where 1in, and i is a positive integer; andthe pilot signal is a channel state information-reference signal, csi-rs.</p>"
            ]
          },
          "metadata": {}
        },
        {
          "output_type": "display_data",
          "data": {
            "text/plain": [
              "<IPython.core.display.HTML object>"
            ],
            "text/html": [
              "<hr/>"
            ]
          },
          "metadata": {}
        },
        {
          "output_type": "display_data",
          "data": {
            "text/plain": [
              "<IPython.core.display.HTML object>"
            ],
            "text/html": [
              "<h3>Original claim</h3>"
            ]
          },
          "metadata": {}
        },
        {
          "output_type": "display_data",
          "data": {
            "text/plain": [
              "<IPython.core.display.HTML object>"
            ],
            "text/html": [
              "<p>an apparatus  for transmitting wireless data by using a display backlight, comprising: a data storage unit  configured to store data to be transmitted; a main control unit  configured to read the data stored in the data storage unit  and control operation of a signal modulation unit ; the signal modulation unit  being configured to modulate the read data with a predetermined signal modulation method to generate and output a sequence of pulses; a light source driving circuit  configured to generate a backlight driving pulse signal according to the sequence of pulses; and a display backlight member  configured to output a sequence of light and dark signals, driven by the backlight driving pulse signal, wherein the predetermined signal modulation method is a signal modulation method of variable pulse period modulation, wherein the pulse period is variable, a pulse with a first pulse width representing a first digital bit state and another pulse with a second pulse width representing a second digital bit state is transmitted in one period, the first pulse width is different from the second pulse width, the period representing the first digital bit state and the period representing the second digital bit state are also different, wherein a ratio of a pulse low level time to a pulse high level time during the digital bit is transmitted is smaller than a predetermined threshold.</p>"
            ]
          },
          "metadata": {}
        },
        {
          "output_type": "display_data",
          "data": {
            "text/plain": [
              "<IPython.core.display.HTML object>"
            ],
            "text/html": [
              "<h3>Greedy search claim (ROUGE-L = 88.17204301075269)</h3>"
            ]
          },
          "metadata": {}
        },
        {
          "output_type": "display_data",
          "data": {
            "text/plain": [
              "<IPython.core.display.HTML object>"
            ],
            "text/html": [
              "<p>an apparatus for receiving wireless data transmitted from a transmitting apparatus by using a display backlight, comprising:a data storage unit  configured to store data to be transmitted;a main control unit  to read and control the data stored in the data storage device  and to control an operation of a signal modulation unit ; with the signal modulation units  being configured to modulate the read data with a predetermined signal modulation method to generate and output a sequence of pulses;a light source driving circuit configured to generate a backlight driving pulse signal according to the sequence of pulse; anda display back light member configured to output a first sequence of light and dark signals, driven by the backlight  driving pulse signals, wherein the predetermined signals modulation method is a signal- modulation method of variable pulse period modulation,wherein the pulse period is variable, a pulse with a first pulse width representing a first digital bit state and another pulse with the second pulse width represented a second digital bit of the transmitted in one period, the first pulses width is different from the second pulses width, the period representing the first digital bits state and the period  representing the second pixel bit state are also different, wherein a ratio of a pulse low level time to a pulse high level time during the digital bit being transmitted is smaller than a predetermined threshold,characterized in thatthe predetermined threshold is 1.</p>"
            ]
          },
          "metadata": {}
        },
        {
          "output_type": "display_data",
          "data": {
            "text/plain": [
              "<IPython.core.display.HTML object>"
            ],
            "text/html": [
              "<hr/>"
            ]
          },
          "metadata": {}
        },
        {
          "output_type": "display_data",
          "data": {
            "text/plain": [
              "<IPython.core.display.HTML object>"
            ],
            "text/html": [
              "<h3>Original claim</h3>"
            ]
          },
          "metadata": {}
        },
        {
          "output_type": "display_data",
          "data": {
            "text/plain": [
              "<IPython.core.display.HTML object>"
            ],
            "text/html": [
              "<p>an electronic device  comprising: a battery pack ; and a case frame 11,12 having an opening  forming a battery pack mount portion  in which the battery pack  is mounted and a sheet plate  blocking the opening  at a backside of the battery pack mount portion ; wherein the battery pack  comprises: a battery cell ; and first and second support bodies 22, 23 supporting the battery cell  on opposing ends of the battery cell ; wherein when the battery pack  is mounted the first and second support bodies 22, 23 are supported by the battery pack mount portion .</p>"
            ]
          },
          "metadata": {}
        },
        {
          "output_type": "display_data",
          "data": {
            "text/plain": [
              "<IPython.core.display.HTML object>"
            ],
            "text/html": [
              "<h3>Greedy search claim (ROUGE-L = 87.43169398907102)</h3>"
            ]
          },
          "metadata": {}
        },
        {
          "output_type": "display_data",
          "data": {
            "text/plain": [
              "<IPython.core.display.HTML object>"
            ],
            "text/html": [
              "<p>an electronic device comprising:a battery pack ; anda case frame  having an opening  forming a battery pack mount portion  in which the battery pack is mounted and a sheet plate  blocking the opening  at a backside of the battery battery mount portion ;characterized in thatthe battery pack comprises:- a battery cell ; and- first and second support bodies  supporting the battery cell  on opposing ends of said battery battery ;wherein when the battery  is mounted the first  and second  support bodies are supported by the battery and mount portion.</p>"
            ]
          },
          "metadata": {}
        },
        {
          "output_type": "display_data",
          "data": {
            "text/plain": [
              "<IPython.core.display.HTML object>"
            ],
            "text/html": [
              "<hr/>"
            ]
          },
          "metadata": {}
        },
        {
          "output_type": "display_data",
          "data": {
            "text/plain": [
              "<IPython.core.display.HTML object>"
            ],
            "text/html": [
              "<h3>Original claim</h3>"
            ]
          },
          "metadata": {}
        },
        {
          "output_type": "display_data",
          "data": {
            "text/plain": [
              "<IPython.core.display.HTML object>"
            ],
            "text/html": [
              "<p>a signal processing method, comprising: detecting s1, according to a check relationship set during forward error correction coding, whether a phase jump occurs in a data segment of a signal, and a quantity of degrees of the occurring phase jump; performing s2, according to the quantity of degrees of the phase jump, a phase correction on the data segment in which the phase jump occurs; performing s3 a confidence correction on the data segment in which the phase jump occurs and on which the phase correction has been performed, wherein the confidence correction refers to reduction of confidence; and performing s4 a forward error correction decision decoding on the data segment on which the confidence correction has been performed and based on the confidence of the data segment, to output the processed data segment.</p>"
            ]
          },
          "metadata": {}
        },
        {
          "output_type": "display_data",
          "data": {
            "text/plain": [
              "<IPython.core.display.HTML object>"
            ],
            "text/html": [
              "<h3>Greedy search claim (ROUGE-L = 87.21804511278195)</h3>"
            ]
          },
          "metadata": {}
        },
        {
          "output_type": "display_data",
          "data": {
            "text/plain": [
              "<IPython.core.display.HTML object>"
            ],
            "text/html": [
              "<p>a signal processing method, comprising the following steps:   detecting, according to a check relationship set during forward error correction coding, whether a phase jump occurs in a data segment of a signal, and a quantity of degrees of the occurring phase jump; performing, according to the quantity of degree of the phase jump, phase correction on the data segment in which the phase jumping occurs; performing confidence correction on said data segment  in which said phase jump  occurs and on which the confidence correction has been performed, wherein the confidence correcting refers to reduction of confidence; and performing forward error error correction decision decoding on said said data segments  on which said confidence correction having been performed and based on the confidence of the data segments, to output the processed data segment.</p>"
            ]
          },
          "metadata": {}
        },
        {
          "output_type": "display_data",
          "data": {
            "text/plain": [
              "<IPython.core.display.HTML object>"
            ],
            "text/html": [
              "<hr/>"
            ]
          },
          "metadata": {}
        },
        {
          "output_type": "display_data",
          "data": {
            "text/plain": [
              "<IPython.core.display.HTML object>"
            ],
            "text/html": [
              "<h3>Original claim</h3>"
            ]
          },
          "metadata": {}
        },
        {
          "output_type": "display_data",
          "data": {
            "text/plain": [
              "<IPython.core.display.HTML object>"
            ],
            "text/html": [
              "<p>a message processing method at a base station, comprising: determining s101, by a base station when receiving at least one overload message in an overload flow control state, a message type of the received overload message; updating s102 a message processing queue according to the message type of the received overload message; and sequentially processing s103 messages in the message processing queue, wherein message type priorities are preset in the base station, and the updating a message processing queue according to the message type of the received overload message comprises: sorting s202 received overload messages according to the message type priorities and according to message types of the received overload messages, to form an overload message sequence; and sequentially adding s203 messages in the overload message sequence to the message processing queue until a quantity of messages in the message processing queue is beyond a processing capability of the base station.</p>"
            ]
          },
          "metadata": {}
        },
        {
          "output_type": "display_data",
          "data": {
            "text/plain": [
              "<IPython.core.display.HTML object>"
            ],
            "text/html": [
              "<h3>Greedy search claim (ROUGE-L = 79.87012987012987)</h3>"
            ]
          },
          "metadata": {}
        },
        {
          "output_type": "display_data",
          "data": {
            "text/plain": [
              "<IPython.core.display.HTML object>"
            ],
            "text/html": [
              "<p>a message processing method, comprising:   determining, by a base station  when receiving at least one overload message in an overload flow control state, a message type of the received overload message; updating a message processing queue  according to the message type, and sequentially processing messages in the message processing queues, wherein:  based on the first aspect, in a first feasible implementation manner of the first instance, message type priorities are preset in the base station, and the updating  processing queue according to said message type; and updating  an overload message, wherein the overload message comprises:a sorting received overload messages according to which the messages type priorities and according to message types of the messages overload messages, to form a overload message sequence; and sequ sequentially adding messages  in the overload messages sequence to the messages processing queue until a quantity of messages in said message processing loop is beyond a processing capability of the base stations.</p>"
            ]
          },
          "metadata": {}
        },
        {
          "output_type": "display_data",
          "data": {
            "text/plain": [
              "<IPython.core.display.HTML object>"
            ],
            "text/html": [
              "<hr/>"
            ]
          },
          "metadata": {}
        },
        {
          "output_type": "display_data",
          "data": {
            "text/plain": [
              "<IPython.core.display.HTML object>"
            ],
            "text/html": [
              "<h2>Beam search gen</h1>"
            ]
          },
          "metadata": {}
        },
        {
          "output_type": "display_data",
          "data": {
            "text/plain": [
              "<IPython.core.display.HTML object>"
            ],
            "text/html": [
              "<h3>Original claim</h3>"
            ]
          },
          "metadata": {}
        },
        {
          "output_type": "display_data",
          "data": {
            "text/plain": [
              "<IPython.core.display.HTML object>"
            ],
            "text/html": [
              "<p>a multi-level flow table search method, wherein the method comprises: extracting s101 matching information of a data packet when the data packet is received; selecting s102 a keyword from the matching information of the data packet according to flow-table match-field configuration information; searching s103 for a match field of each-level flow table in a multi-level flow table starting from a first-level flow table in the multi-level flow table by using the keyword as a search keyword, and matching the search keyword with the match field; and if matching s104 of a match field of a current-level flow table is completed, executing a corresponding instruction, and if the current-level flow table is not a last-level flow table or there is an instruction for executing an action, executing a corresponding action.</p>"
            ]
          },
          "metadata": {}
        },
        {
          "output_type": "display_data",
          "data": {
            "text/plain": [
              "<IPython.core.display.HTML object>"
            ],
            "text/html": [
              "<h3>Beam search claim (ROUGE-L = 91.17647058823528)</h3>"
            ]
          },
          "metadata": {}
        },
        {
          "output_type": "display_data",
          "data": {
            "text/plain": [
              "<IPython.core.display.HTML object>"
            ],
            "text/html": [
              "<p>a multi-level flow table search method, where the method includes:   extracting matching information of a data packet when the data packet is received;selecting a keyword from the matching information  of the data data packet according to flow-table match-field configuration information; searching for a match field of each-level, in a multi,level, flow table starting from a first-level of the flow table in the multi-phase flow table by using the keyword as a search keyword, and matching the search keyword with the match field; andif matching of a match  of a current-level  is completed, executing a corresponding instruction, and if the current- level flow table is not a last-level-block flow table or there is an instruction for executing an action, executing the corresponding action.</p>"
            ]
          },
          "metadata": {}
        },
        {
          "output_type": "display_data",
          "data": {
            "text/plain": [
              "<IPython.core.display.HTML object>"
            ],
            "text/html": [
              "<hr/>"
            ]
          },
          "metadata": {}
        },
        {
          "output_type": "display_data",
          "data": {
            "text/plain": [
              "<IPython.core.display.HTML object>"
            ],
            "text/html": [
              "<h3>Original claim</h3>"
            ]
          },
          "metadata": {}
        },
        {
          "output_type": "display_data",
          "data": {
            "text/plain": [
              "<IPython.core.display.HTML object>"
            ],
            "text/html": [
              "<p>a pilot signal transmission method comprising: determining  m beams, and determining p ports corresponding to the m beams, wherein both m and p are positive integers greater than 1; grouping the p ports into q groups according to directions of the m beams; and sending  n pilot signals to a user equipment, ue, through the q groups of ports; wherein the q groups are obtained by grouping the p ports based on that each group comprises n ports, and both n and q are positive integers greater than 1; the ith port in each group is configured to send the ith pilot signal in the n pilot signals, wherein 1in, and i is a positive integer; and the pilot signal is a channel state information-reference signal, csi-rs.</p>"
            ]
          },
          "metadata": {}
        },
        {
          "output_type": "display_data",
          "data": {
            "text/plain": [
              "<IPython.core.display.HTML object>"
            ],
            "text/html": [
              "<h3>Beam search claim (ROUGE-L = 90.5511811023622)</h3>"
            ]
          },
          "metadata": {}
        },
        {
          "output_type": "display_data",
          "data": {
            "text/plain": [
              "<IPython.core.display.HTML object>"
            ],
            "text/html": [
              "<p>a pilot signal transmission method, comprising:determining m beams, and determining p ports  corresponding to the m beams, where both m and p are positive integers greater than 1; grouping the p ports into q groups according to directions of the ue; and sending n pilot signals to a user equipment ue through q groups of ports, where the q groups are obtained by grouping said p ports based on that each group includes n ports, and both n and q are positive integer greater than1;the ith port in each group is configured to send the ith pilot signal in the n pilot signal, where 1in, and i is a positive integer; andthe pilot signal is a channel state information-reference signal, csi-rs.</p>"
            ]
          },
          "metadata": {}
        },
        {
          "output_type": "display_data",
          "data": {
            "text/plain": [
              "<IPython.core.display.HTML object>"
            ],
            "text/html": [
              "<hr/>"
            ]
          },
          "metadata": {}
        },
        {
          "output_type": "display_data",
          "data": {
            "text/plain": [
              "<IPython.core.display.HTML object>"
            ],
            "text/html": [
              "<h3>Original claim</h3>"
            ]
          },
          "metadata": {}
        },
        {
          "output_type": "display_data",
          "data": {
            "text/plain": [
              "<IPython.core.display.HTML object>"
            ],
            "text/html": [
              "<p>a topology discovery method, comprising: acquiring , by a controller, a topology among all n routers in a network, where n is an integer greater than or equal to 1; and generating , by the controller, routing tables corresponding to the respective routers based on the topology; and transmitting the routing tables to the respective routers, wherein the routing table comprises routing information between a corresponding router and other n-1 routers and routing information between the corresponding router and the controller.</p>"
            ]
          },
          "metadata": {}
        },
        {
          "output_type": "display_data",
          "data": {
            "text/plain": [
              "<IPython.core.display.HTML object>"
            ],
            "text/html": [
              "<h3>Beam search claim (ROUGE-L = 89.74358974358975)</h3>"
            ]
          },
          "metadata": {}
        },
        {
          "output_type": "display_data",
          "data": {
            "text/plain": [
              "<IPython.core.display.HTML object>"
            ],
            "text/html": [
              "<p>a topology discovery method, comprising:a controller, a topology among all n routers in a network, where n is an integer greater than or equal to 1; andgenerating, by the controller, routing tables corresponding to the respective routers based on the topology; andtransmitting the routing tables to the other routers, where the routing table includes routing information between a corresponding router and other n-1 routers and routing information of the corresponding router, and the controller.</p>"
            ]
          },
          "metadata": {}
        },
        {
          "output_type": "display_data",
          "data": {
            "text/plain": [
              "<IPython.core.display.HTML object>"
            ],
            "text/html": [
              "<hr/>"
            ]
          },
          "metadata": {}
        },
        {
          "output_type": "display_data",
          "data": {
            "text/plain": [
              "<IPython.core.display.HTML object>"
            ],
            "text/html": [
              "<h3>Original claim</h3>"
            ]
          },
          "metadata": {}
        },
        {
          "output_type": "display_data",
          "data": {
            "text/plain": [
              "<IPython.core.display.HTML object>"
            ],
            "text/html": [
              "<p>an electronic device  comprising: a battery pack ; and a case frame 11,12 having an opening  forming a battery pack mount portion  in which the battery pack  is mounted and a sheet plate  blocking the opening  at a backside of the battery pack mount portion ; wherein the battery pack  comprises: a battery cell ; and first and second support bodies 22, 23 supporting the battery cell  on opposing ends of the battery cell ; wherein when the battery pack  is mounted the first and second support bodies 22, 23 are supported by the battery pack mount portion .</p>"
            ]
          },
          "metadata": {}
        },
        {
          "output_type": "display_data",
          "data": {
            "text/plain": [
              "<IPython.core.display.HTML object>"
            ],
            "text/html": [
              "<h3>Beam search claim (ROUGE-L = 89.50276243093923)</h3>"
            ]
          },
          "metadata": {}
        },
        {
          "output_type": "display_data",
          "data": {
            "text/plain": [
              "<IPython.core.display.HTML object>"
            ],
            "text/html": [
              "<p>an electronic device  comprising:a battery pack ; anda case frame  having an opening forming a battery pack mount portion  in which the battery pack is mounted and a sheet plate  blocking the opening at a backside of the battery battery mount portion ;whereinthe battery pack comprises:- a battery cell ; and- first and second support bodies  supporting the battery cell  on opposing ends of said battery cell, wherein when said battery pack  is mounted the first  and second  support bodies are supported by the battery  mount portion.</p>"
            ]
          },
          "metadata": {}
        },
        {
          "output_type": "display_data",
          "data": {
            "text/plain": [
              "<IPython.core.display.HTML object>"
            ],
            "text/html": [
              "<hr/>"
            ]
          },
          "metadata": {}
        },
        {
          "output_type": "display_data",
          "data": {
            "text/plain": [
              "<IPython.core.display.HTML object>"
            ],
            "text/html": [
              "<h3>Original claim</h3>"
            ]
          },
          "metadata": {}
        },
        {
          "output_type": "display_data",
          "data": {
            "text/plain": [
              "<IPython.core.display.HTML object>"
            ],
            "text/html": [
              "<p>an apparatus  for transmitting wireless data by using a display backlight, comprising: a data storage unit  configured to store data to be transmitted; a main control unit  configured to read the data stored in the data storage unit  and control operation of a signal modulation unit ; the signal modulation unit  being configured to modulate the read data with a predetermined signal modulation method to generate and output a sequence of pulses; a light source driving circuit  configured to generate a backlight driving pulse signal according to the sequence of pulses; and a display backlight member  configured to output a sequence of light and dark signals, driven by the backlight driving pulse signal, wherein the predetermined signal modulation method is a signal modulation method of variable pulse period modulation, wherein the pulse period is variable, a pulse with a first pulse width representing a first digital bit state and another pulse with a second pulse width representing a second digital bit state is transmitted in one period, the first pulse width is different from the second pulse width, the period representing the first digital bit state and the period representing the second digital bit state are also different, wherein a ratio of a pulse low level time to a pulse high level time during the digital bit is transmitted is smaller than a predetermined threshold.</p>"
            ]
          },
          "metadata": {}
        },
        {
          "output_type": "display_data",
          "data": {
            "text/plain": [
              "<IPython.core.display.HTML object>"
            ],
            "text/html": [
              "<h3>Beam search claim (ROUGE-L = 88.12095032397407)</h3>"
            ]
          },
          "metadata": {}
        },
        {
          "output_type": "display_data",
          "data": {
            "text/plain": [
              "<IPython.core.display.HTML object>"
            ],
            "text/html": [
              "<p>an apparatus for receiving wireless data transmitted from a transmitting apparatus by using a display backlight, comprising:a data storage unit  configured to store data to be transmitted;a main control unit  to read and control the data stored in the data storage device  and to control an operation of a signal modulation unit ; with the signal modulation units  being configured to modulate the read data with a predetermined signal modulation method to generate and output a sequence of pulses;a light source driving circuit configured to generate a backlight driving pulse signal according to the sequence of pulse; anda display back light member configured to output a first sequence of light and dark signals, driven by the backlight  driving pulse signals, wherein the predetermined signals modulation method is a signal- modulation method of variable pulse period modulation,wherein the pulse period is variable, a pulse with a first pulse width representing a first digital bit state and another pulse with the second pulse width represented a second digital bit of the transmitted in one period, the first pulses width is different from the second pulses width, the period representing the first digital bits state and the period represented the second digital part state are also different, wherein a ratio of a pulse low level time to a pulse high level time during the digital bit being transmitted is smaller than a predetermined threshold; andthe predetermined threshold is 1.</p>"
            ]
          },
          "metadata": {}
        },
        {
          "output_type": "display_data",
          "data": {
            "text/plain": [
              "<IPython.core.display.HTML object>"
            ],
            "text/html": [
              "<hr/>"
            ]
          },
          "metadata": {}
        },
        {
          "output_type": "display_data",
          "data": {
            "text/plain": [
              "<IPython.core.display.HTML object>"
            ],
            "text/html": [
              "<h1>bigbird</h1>"
            ]
          },
          "metadata": {}
        },
        {
          "output_type": "display_data",
          "data": {
            "text/plain": [
              "<IPython.core.display.HTML object>"
            ],
            "text/html": [
              "<h2>Greedy search gen</h1>"
            ]
          },
          "metadata": {}
        },
        {
          "output_type": "display_data",
          "data": {
            "text/plain": [
              "<IPython.core.display.HTML object>"
            ],
            "text/html": [
              "<h3>Original claim</h3>"
            ]
          },
          "metadata": {}
        },
        {
          "output_type": "display_data",
          "data": {
            "text/plain": [
              "<IPython.core.display.HTML object>"
            ],
            "text/html": [
              "<p>a method for signal compensation, comprising: receiving, by a receiver via n receiving antennas, a plurality of channel estimation preamble signals sent by m transmitting antennas of a remote transmitter, wherein the plurality of channel estimation preamble signals contain first pilot signals of the m transmitting antennas, and m and n are integers larger than 1; determining, by the receiver, channel estimation parameters from the m transmitting antennas to the n receiving antennas according to the first pilot signals of the m transmitting antennas contained in the plurality of channel estimation preamble signals; receiving, by the receiver via the n receiving antennas, data signals and second pilot signals sent on a first data symbol by the m transmitting antennas; determining, by the receiver, channel phase shift parameters from the m transmitting antennas to the n receiving antennas according to signals arrived at the n receiving antennas which come from the second pilot signals sent on the first data symbol by the m transmitting antennas; and determining, by the receiver according to the channel estimation parameters from the m transmitting antennas to the n receiving antennas and the channel phase shift parameters from the m transmitting antennas to the n receiving antennas, signal compensation for the data signals arrived at the n receiving antennas that are sent on the first data symbol by the m transmitting antennas.</p>"
            ]
          },
          "metadata": {}
        },
        {
          "output_type": "display_data",
          "data": {
            "text/plain": [
              "<IPython.core.display.HTML object>"
            ],
            "text/html": [
              "<h3>Greedy search claim (ROUGE-L = 99.33481152993348)</h3>"
            ]
          },
          "metadata": {}
        },
        {
          "output_type": "display_data",
          "data": {
            "text/plain": [
              "<IPython.core.display.HTML object>"
            ],
            "text/html": [
              "<p>a method for signal compensation, comprising:receiving, by a receiver via n receiving antennas, a plurality of channel estimation preamble signals sent by m transmitting antennas of a remote transmitter, wherein the plurality of channel estimation preamble signals contain first pilot signals of the m transmitting antennas, and m and n are integers larger than 1;determining, by the receiver, channel estimation parameters from the m transmitting antennas to the n receiving antennas according to the first pilot signals of the m transmitting antennas contained in the plurality of channel estimation preamble signals;receiving, by the receiver via the n receiving antennas, data signals and second pilot signals sent on a first data symbol by the m transmitting antennas;determining, by the receiver, channel phase shift parameters from the m transmitting antennas to the n receiving antennas according to signals arrived at the n receiving antennas which come from the second pilot signals sent on the first data symbol by the m transmitting antennas; anddetermining, by the receiver according to the channel estimation parameters from the m transmitting antennas to the n receiving antennas and the channel phase shift parameters from the m transmitting antennas to the n receiving antennas, signal compensation for the data signals arrived at the n receiving antennas that are sent on the first data symbol by the m transmitting antennas.</p>"
            ]
          },
          "metadata": {}
        },
        {
          "output_type": "display_data",
          "data": {
            "text/plain": [
              "<IPython.core.display.HTML object>"
            ],
            "text/html": [
              "<hr/>"
            ]
          },
          "metadata": {}
        },
        {
          "output_type": "display_data",
          "data": {
            "text/plain": [
              "<IPython.core.display.HTML object>"
            ],
            "text/html": [
              "<h3>Original claim</h3>"
            ]
          },
          "metadata": {}
        },
        {
          "output_type": "display_data",
          "data": {
            "text/plain": [
              "<IPython.core.display.HTML object>"
            ],
            "text/html": [
              "<p>an apparatus  for transmitting wireless data by using a display backlight, comprising: a data storage unit  configured to store data to be transmitted; a main control unit  configured to read the data stored in the data storage unit  and control operation of a signal modulation unit ; the signal modulation unit  being configured to modulate the read data with a predetermined signal modulation method to generate and output a sequence of pulses; a light source driving circuit  configured to generate a backlight driving pulse signal according to the sequence of pulses; and a display backlight member  configured to output a sequence of light and dark signals, driven by the backlight driving pulse signal, wherein the predetermined signal modulation method is a signal modulation method of variable pulse period modulation, wherein the pulse period is variable, a pulse with a first pulse width representing a first digital bit state and another pulse with a second pulse width representing a second digital bit state is transmitted in one period, the first pulse width is different from the second pulse width, the period representing the first digital bit state and the period representing the second digital bit state are also different, wherein a ratio of a pulse low level time to a pulse high level time during the digital bit is transmitted is smaller than a predetermined threshold.</p>"
            ]
          },
          "metadata": {}
        },
        {
          "output_type": "display_data",
          "data": {
            "text/plain": [
              "<IPython.core.display.HTML object>"
            ],
            "text/html": [
              "<h3>Greedy search claim (ROUGE-L = 97.78761061946904)</h3>"
            ]
          },
          "metadata": {}
        },
        {
          "output_type": "display_data",
          "data": {
            "text/plain": [
              "<IPython.core.display.HTML object>"
            ],
            "text/html": [
              "<p>an apparatus for transmitting wireless data by using a display backlight, comprising:a data storage unit configured to store data to be transmitted;a main control unit configured to read and control the data stored in the data storage unit and to control an operation of a signal modulation unit; with the signal modulation unit being configured to modulate the read data with a predetermined signal modulation method to generate and output a sequence of pulses;a light source driving circuit configured to generate a backlight driving pulse signal according to the sequence of pulses; anda display backlight member configured to output a sequence of light and dark signals, driven by the backlight driving pulse signal, wherein the predetermined signal modulation method is a signal modulation method of variable pulse period modulation, wherein the pulse period is variable, a pulse with a first pulse width representing a first digital bit state and another pulse with a second pulse width representing a second digital bit state is transmitted in one period, the first pulse width is different from the second pulse width, the period representing the first digital bit state and the period representing the second digital bit state are also different, wherein a ratio of a pulse low level time to a pulse high level time during the digital bit being transmitted is smaller than a predetermined threshold.</p>"
            ]
          },
          "metadata": {}
        },
        {
          "output_type": "display_data",
          "data": {
            "text/plain": [
              "<IPython.core.display.HTML object>"
            ],
            "text/html": [
              "<hr/>"
            ]
          },
          "metadata": {}
        },
        {
          "output_type": "display_data",
          "data": {
            "text/plain": [
              "<IPython.core.display.HTML object>"
            ],
            "text/html": [
              "<h3>Original claim</h3>"
            ]
          },
          "metadata": {}
        },
        {
          "output_type": "display_data",
          "data": {
            "text/plain": [
              "<IPython.core.display.HTML object>"
            ],
            "text/html": [
              "<p>a web application security access method, comprising: periodically detecting, by an application store server, whether locally stored backup source code is consistent with source code that is corresponding to a web application and that is in a web server, and if the locally stored backup source code is inconsistent with the source code that is corresponding to the web application and that is in the web server, adding an exception identifier to a version parameter stored on the application store server step 101; receiving, by the application store server, an access request that is for accessing the web application and that is sent by a user by using a client, wherein the access request comprises a user version parameter of source code corresponding to the web application installed on the client step 102; and if detecting that the exception identifier exists in the version parameter that is stored on the application store server and associated with the user version parameter, returning, by the application store server to the client, prompt information used to indicate to the user that there is a security risk in the access request step 103.</p>"
            ]
          },
          "metadata": {}
        },
        {
          "output_type": "display_data",
          "data": {
            "text/plain": [
              "<IPython.core.display.HTML object>"
            ],
            "text/html": [
              "<h3>Greedy search claim (ROUGE-L = 97.31182795698923)</h3>"
            ]
          },
          "metadata": {}
        },
        {
          "output_type": "display_data",
          "data": {
            "text/plain": [
              "<IPython.core.display.HTML object>"
            ],
            "text/html": [
              "<p>a web application security access method, comprising: periodically detecting, by an application store server, whether locally stored backup source code is consistent with source code that is corresponding to a web application and that is in a web server, and if the locally stored backup source code is inconsistent with the source code that is corresponding to the web application and that is in the web server, adding an exception identifier to a version parameter stored on the application store server; receiving, by the application store server, an access request that is for accessing the web application and that is sent by a user by using a client, where the access request includes a user version parameter of source code corresponding to the web application installed on the client; and if detecting that the exception identifier exists in the version parameter that is stored on the application store server and associated with the user version parameter, returning, by the application store server to the client, prompt information used to indicate to the user that there is a security risk in the access request.</p>"
            ]
          },
          "metadata": {}
        },
        {
          "output_type": "display_data",
          "data": {
            "text/plain": [
              "<IPython.core.display.HTML object>"
            ],
            "text/html": [
              "<hr/>"
            ]
          },
          "metadata": {}
        },
        {
          "output_type": "display_data",
          "data": {
            "text/plain": [
              "<IPython.core.display.HTML object>"
            ],
            "text/html": [
              "<h3>Original claim</h3>"
            ]
          },
          "metadata": {}
        },
        {
          "output_type": "display_data",
          "data": {
            "text/plain": [
              "<IPython.core.display.HTML object>"
            ],
            "text/html": [
              "<p>a service routing packet processing method, comprising: receiving s101, by a first service router, sr, a first service routing packet; querying s102, by the first sr, a service routing table according to path identification information and identification information of a source service node, sn, that are carried in the first service routing packet, to determine s103 identification information of a destination sn, wherein the service routing table comprises a correspondence between the path identification information, the identification information of the source sn, and the identification information of the destination sn, and wherein the source sn is a previous sn of the first service routing packet, and the destination sn is a next sn of the first service routing packet; generating s104, by the first sr, a second service routing packet according to the identification information of the destination sn and the first service routing packet; and sending s105, by the first sr, the second service routing packet to the destination sn.</p>"
            ]
          },
          "metadata": {}
        },
        {
          "output_type": "display_data",
          "data": {
            "text/plain": [
              "<IPython.core.display.HTML object>"
            ],
            "text/html": [
              "<h3>Greedy search claim (ROUGE-L = 96.20253164556962)</h3>"
            ]
          },
          "metadata": {}
        },
        {
          "output_type": "display_data",
          "data": {
            "text/plain": [
              "<IPython.core.display.HTML object>"
            ],
            "text/html": [
              "<p>a service routing packet processing method, comprising:receiving, by a first service router sr, a first service routing packet; querying, by the first sr, a service routing table according to path identification information and identification information of a source service node sn that are carried in the first service routing packet, to determine identification information of a destination sn, where the service routing table includes a correspondence between the path identification information, the identification information of the source sn, and the identification information of the destination sn, and wherein the source sn is a previous sn of the first service routing packet, and the destination sn is a next sn of the first service routing packet;generating, by the first sr, a second service routing packet according to the identification information of the destination sn and the first service routing packet; andsending, by the first sr, the second service routing packet to the destination sn.</p>"
            ]
          },
          "metadata": {}
        },
        {
          "output_type": "display_data",
          "data": {
            "text/plain": [
              "<IPython.core.display.HTML object>"
            ],
            "text/html": [
              "<hr/>"
            ]
          },
          "metadata": {}
        },
        {
          "output_type": "display_data",
          "data": {
            "text/plain": [
              "<IPython.core.display.HTML object>"
            ],
            "text/html": [
              "<h3>Original claim</h3>"
            ]
          },
          "metadata": {}
        },
        {
          "output_type": "display_data",
          "data": {
            "text/plain": [
              "<IPython.core.display.HTML object>"
            ],
            "text/html": [
              "<p>a photovoltaic device assembly  comprising a plurality of photovoltaic devices  arranged in at least two rows; the said photovoltaic devices  including a photovoltaic cell assembly  and a body portion ; wherein the devices are physically and electrically connected by connectors, edge pieces, spacer pieces, or any combination thereof; wherein the said photovoltaic devices  each comprise an active portion  and an inactive portion 135; the said edge pieces including: at least one connecting edge piece  located at the end of at least two rows of photovoltaic devices  wherein the said connecting edge piece  includes a body portion  and two or more edge connector assemblies  for connecting each respective row of photovoltaic devices; a starter edge piece ; and an end edge piece ; wherein said starter edge piece  and said end edge piece  each include a body portion  and a single edge connector assembly ; wherein the said at least one connecting edge piece  physically and electrically connects at least two rows of photovoltaic devices , wherein the said starter edge piece  connects a return circuit in a said row, and the said end edge piece  includes a pass-through electrical connector assembly  or electrical lead assembly; and wherein the main body portion  of said connecting edge pieces  i is stepped vertically to provide a complementary fit to two rows of stacked and layered photovoltaic devices ; or ii is staggered horizontally to provide a complimentary fit to two rows of offset photovoltaic devices .</p>"
            ]
          },
          "metadata": {}
        },
        {
          "output_type": "display_data",
          "data": {
            "text/plain": [
              "<IPython.core.display.HTML object>"
            ],
            "text/html": [
              "<h3>Greedy search claim (ROUGE-L = 95.82417582417582)</h3>"
            ]
          },
          "metadata": {}
        },
        {
          "output_type": "display_data",
          "data": {
            "text/plain": [
              "<IPython.core.display.HTML object>"
            ],
            "text/html": [
              "<p>a photovoltaic device assembly comprising a plurality of photovoltaic devices arranged in at least two rows; the said photovoltaic devices including a photovoltaic cell assembly and a body portion; wherein the said photovoltaic devices each comprise an active portion and an inactive portion; the said edge pieces including: at least one connecting edge piece located at the end of at least two rows of photovoltaic devices wherein the said connecting edge piece includes a body portion and two or more edge connector assemblies for connecting each respective row of photovoltaic devices; a starter edge piece; and an end edge piece; wherein said starter edge piece and said end edge piece each include a body portion and a single edge connector assembly; wherein the said at least one connecting edge piece physically and electrically connects at least two rows of photovoltaic devices, wherein the said starter edge piece connects a return circuit in a said row, and the said end edge piece includes a pass-through electrical connector assembly or electrical lead assembly; and wherein the main body portion of said connecting edge pieces i is stepped vertically to provide a complementary fit to two rows of stacked and layered photovoltaic devices; or ii is staggered horizontally to provide a complimentary fit to two rows of offset photovoltaic devices.</p>"
            ]
          },
          "metadata": {}
        },
        {
          "output_type": "display_data",
          "data": {
            "text/plain": [
              "<IPython.core.display.HTML object>"
            ],
            "text/html": [
              "<hr/>"
            ]
          },
          "metadata": {}
        },
        {
          "output_type": "display_data",
          "data": {
            "text/plain": [
              "<IPython.core.display.HTML object>"
            ],
            "text/html": [
              "<h2>Beam search gen</h1>"
            ]
          },
          "metadata": {}
        },
        {
          "output_type": "display_data",
          "data": {
            "text/plain": [
              "<IPython.core.display.HTML object>"
            ],
            "text/html": [
              "<h3>Original claim</h3>"
            ]
          },
          "metadata": {}
        },
        {
          "output_type": "display_data",
          "data": {
            "text/plain": [
              "<IPython.core.display.HTML object>"
            ],
            "text/html": [
              "<p>a method for signal compensation, comprising: receiving, by a receiver via n receiving antennas, a plurality of channel estimation preamble signals sent by m transmitting antennas of a remote transmitter, wherein the plurality of channel estimation preamble signals contain first pilot signals of the m transmitting antennas, and m and n are integers larger than 1; determining, by the receiver, channel estimation parameters from the m transmitting antennas to the n receiving antennas according to the first pilot signals of the m transmitting antennas contained in the plurality of channel estimation preamble signals; receiving, by the receiver via the n receiving antennas, data signals and second pilot signals sent on a first data symbol by the m transmitting antennas; determining, by the receiver, channel phase shift parameters from the m transmitting antennas to the n receiving antennas according to signals arrived at the n receiving antennas which come from the second pilot signals sent on the first data symbol by the m transmitting antennas; and determining, by the receiver according to the channel estimation parameters from the m transmitting antennas to the n receiving antennas and the channel phase shift parameters from the m transmitting antennas to the n receiving antennas, signal compensation for the data signals arrived at the n receiving antennas that are sent on the first data symbol by the m transmitting antennas.</p>"
            ]
          },
          "metadata": {}
        },
        {
          "output_type": "display_data",
          "data": {
            "text/plain": [
              "<IPython.core.display.HTML object>"
            ],
            "text/html": [
              "<h3>Beam search claim (ROUGE-L = 99.33481152993348)</h3>"
            ]
          },
          "metadata": {}
        },
        {
          "output_type": "display_data",
          "data": {
            "text/plain": [
              "<IPython.core.display.HTML object>"
            ],
            "text/html": [
              "<p>a method for signal compensation, comprising:receiving, by a receiver via n receiving antennas, a plurality of channel estimation preamble signals sent by m transmitting antennas of a remote transmitter, wherein the plurality of channel estimation preamble signals contain first pilot signals of the m transmitting antennas, and m and n are integers larger than 1;determining, by the receiver, channel estimation parameters from the m transmitting antennas to the n receiving antennas according to the first pilot signals of the m transmitting antennas contained in the plurality of channel estimation preamble signals;receiving, by the receiver via the n receiving antennas, data signals and second pilot signals sent on a first data symbol by the m transmitting antennas;determining, by the receiver, channel phase shift parameters from the m transmitting antennas to the n receiving antennas according to signals arrived at the n receiving antennas which come from the second pilot signals sent on the first data symbol by the m transmitting antennas; anddetermining, by the receiver according to the channel estimation parameters from the m transmitting antennas to the n receiving antennas and the channel phase shift parameters from the m transmitting antennas to the n receiving antennas, signal compensation for the data signals arrived at the n receiving antennas that are sent on the first data symbol by the m transmitting antennas.</p>"
            ]
          },
          "metadata": {}
        },
        {
          "output_type": "display_data",
          "data": {
            "text/plain": [
              "<IPython.core.display.HTML object>"
            ],
            "text/html": [
              "<hr/>"
            ]
          },
          "metadata": {}
        },
        {
          "output_type": "display_data",
          "data": {
            "text/plain": [
              "<IPython.core.display.HTML object>"
            ],
            "text/html": [
              "<h3>Original claim</h3>"
            ]
          },
          "metadata": {}
        },
        {
          "output_type": "display_data",
          "data": {
            "text/plain": [
              "<IPython.core.display.HTML object>"
            ],
            "text/html": [
              "<p>an apparatus  for transmitting wireless data by using a display backlight, comprising: a data storage unit  configured to store data to be transmitted; a main control unit  configured to read the data stored in the data storage unit  and control operation of a signal modulation unit ; the signal modulation unit  being configured to modulate the read data with a predetermined signal modulation method to generate and output a sequence of pulses; a light source driving circuit  configured to generate a backlight driving pulse signal according to the sequence of pulses; and a display backlight member  configured to output a sequence of light and dark signals, driven by the backlight driving pulse signal, wherein the predetermined signal modulation method is a signal modulation method of variable pulse period modulation, wherein the pulse period is variable, a pulse with a first pulse width representing a first digital bit state and another pulse with a second pulse width representing a second digital bit state is transmitted in one period, the first pulse width is different from the second pulse width, the period representing the first digital bit state and the period representing the second digital bit state are also different, wherein a ratio of a pulse low level time to a pulse high level time during the digital bit is transmitted is smaller than a predetermined threshold.</p>"
            ]
          },
          "metadata": {}
        },
        {
          "output_type": "display_data",
          "data": {
            "text/plain": [
              "<IPython.core.display.HTML object>"
            ],
            "text/html": [
              "<h3>Beam search claim (ROUGE-L = 97.78761061946904)</h3>"
            ]
          },
          "metadata": {}
        },
        {
          "output_type": "display_data",
          "data": {
            "text/plain": [
              "<IPython.core.display.HTML object>"
            ],
            "text/html": [
              "<p>an apparatus for transmitting wireless data by using a display backlight, comprising:a data storage unit configured to store data to be transmitted;a main control unit configured to read and control the data stored in the data storage unit and to control an operation of a signal modulation unit; with the signal modulation unit being configured to modulate the read data with a predetermined signal modulation method to generate and output a sequence of pulses;a light source driving circuit configured to generate a backlight driving pulse signal according to the sequence of pulses; anda display backlight member configured to output a sequence of light and dark signals, driven by the backlight driving pulse signal, wherein the predetermined signal modulation method is a signal modulation method of variable pulse period modulation, wherein the pulse period is variable, a pulse with a first pulse width representing a first digital bit state and another pulse with a second pulse width representing a second digital bit state is transmitted in one period, the first pulse width is different from the second pulse width, the period representing the first digital bit state and the period representing the second digital bit state are also different, wherein a ratio of a pulse low level time to a pulse high level time during the digital bit being transmitted is smaller than a predetermined threshold.</p>"
            ]
          },
          "metadata": {}
        },
        {
          "output_type": "display_data",
          "data": {
            "text/plain": [
              "<IPython.core.display.HTML object>"
            ],
            "text/html": [
              "<hr/>"
            ]
          },
          "metadata": {}
        },
        {
          "output_type": "display_data",
          "data": {
            "text/plain": [
              "<IPython.core.display.HTML object>"
            ],
            "text/html": [
              "<h3>Original claim</h3>"
            ]
          },
          "metadata": {}
        },
        {
          "output_type": "display_data",
          "data": {
            "text/plain": [
              "<IPython.core.display.HTML object>"
            ],
            "text/html": [
              "<p>a web application security access method, comprising: periodically detecting, by an application store server, whether locally stored backup source code is consistent with source code that is corresponding to a web application and that is in a web server, and if the locally stored backup source code is inconsistent with the source code that is corresponding to the web application and that is in the web server, adding an exception identifier to a version parameter stored on the application store server step 101; receiving, by the application store server, an access request that is for accessing the web application and that is sent by a user by using a client, wherein the access request comprises a user version parameter of source code corresponding to the web application installed on the client step 102; and if detecting that the exception identifier exists in the version parameter that is stored on the application store server and associated with the user version parameter, returning, by the application store server to the client, prompt information used to indicate to the user that there is a security risk in the access request step 103.</p>"
            ]
          },
          "metadata": {}
        },
        {
          "output_type": "display_data",
          "data": {
            "text/plain": [
              "<IPython.core.display.HTML object>"
            ],
            "text/html": [
              "<h3>Beam search claim (ROUGE-L = 97.31182795698923)</h3>"
            ]
          },
          "metadata": {}
        },
        {
          "output_type": "display_data",
          "data": {
            "text/plain": [
              "<IPython.core.display.HTML object>"
            ],
            "text/html": [
              "<p>a web application security access method, comprising: periodically detecting, by an application store server, whether locally stored backup source code is consistent with source code that is corresponding to a web application and that is in a web server, and if the locally stored backup source code is inconsistent with the source code that is corresponding to the web application and that is in the web server, adding an exception identifier to a version parameter stored on the application store server; receiving, by the application store server, an access request that is for accessing the web application and that is sent by a user by using a client, where the access request includes a user version parameter of source code corresponding to the web application installed on the client; and if detecting that the exception identifier exists in the version parameter that is stored on the application store server and associated with the user version parameter, returning, by the application store server to the client, prompt information used to indicate to the user that there is a security risk in the access request.</p>"
            ]
          },
          "metadata": {}
        },
        {
          "output_type": "display_data",
          "data": {
            "text/plain": [
              "<IPython.core.display.HTML object>"
            ],
            "text/html": [
              "<hr/>"
            ]
          },
          "metadata": {}
        },
        {
          "output_type": "display_data",
          "data": {
            "text/plain": [
              "<IPython.core.display.HTML object>"
            ],
            "text/html": [
              "<h3>Original claim</h3>"
            ]
          },
          "metadata": {}
        },
        {
          "output_type": "display_data",
          "data": {
            "text/plain": [
              "<IPython.core.display.HTML object>"
            ],
            "text/html": [
              "<p>a service routing packet processing method, comprising: receiving s101, by a first service router, sr, a first service routing packet; querying s102, by the first sr, a service routing table according to path identification information and identification information of a source service node, sn, that are carried in the first service routing packet, to determine s103 identification information of a destination sn, wherein the service routing table comprises a correspondence between the path identification information, the identification information of the source sn, and the identification information of the destination sn, and wherein the source sn is a previous sn of the first service routing packet, and the destination sn is a next sn of the first service routing packet; generating s104, by the first sr, a second service routing packet according to the identification information of the destination sn and the first service routing packet; and sending s105, by the first sr, the second service routing packet to the destination sn.</p>"
            ]
          },
          "metadata": {}
        },
        {
          "output_type": "display_data",
          "data": {
            "text/plain": [
              "<IPython.core.display.HTML object>"
            ],
            "text/html": [
              "<h3>Beam search claim (ROUGE-L = 96.20253164556962)</h3>"
            ]
          },
          "metadata": {}
        },
        {
          "output_type": "display_data",
          "data": {
            "text/plain": [
              "<IPython.core.display.HTML object>"
            ],
            "text/html": [
              "<p>a service routing packet processing method, comprising:receiving, by a first service router sr, a first service routing packet; querying, by the first sr, a service routing table according to path identification information and identification information of a source service node sn that are carried in the first service routing packet, to determine identification information of a destination sn, where the service routing table includes a correspondence between the path identification information, the identification information of the source sn, and the identification information of the destination sn, and wherein the source sn is a previous sn of the first service routing packet, and the destination sn is a next sn of the first service routing packet;generating, by the first sr, a second service routing packet according to the identification information of the destination sn and the first service routing packet; andsending, by the first sr, the second service routing packet to the destination sn.</p>"
            ]
          },
          "metadata": {}
        },
        {
          "output_type": "display_data",
          "data": {
            "text/plain": [
              "<IPython.core.display.HTML object>"
            ],
            "text/html": [
              "<hr/>"
            ]
          },
          "metadata": {}
        },
        {
          "output_type": "display_data",
          "data": {
            "text/plain": [
              "<IPython.core.display.HTML object>"
            ],
            "text/html": [
              "<h3>Original claim</h3>"
            ]
          },
          "metadata": {}
        },
        {
          "output_type": "display_data",
          "data": {
            "text/plain": [
              "<IPython.core.display.HTML object>"
            ],
            "text/html": [
              "<p>a photovoltaic device assembly  comprising a plurality of photovoltaic devices  arranged in at least two rows; the said photovoltaic devices  including a photovoltaic cell assembly  and a body portion ; wherein the devices are physically and electrically connected by connectors, edge pieces, spacer pieces, or any combination thereof; wherein the said photovoltaic devices  each comprise an active portion  and an inactive portion 135; the said edge pieces including: at least one connecting edge piece  located at the end of at least two rows of photovoltaic devices  wherein the said connecting edge piece  includes a body portion  and two or more edge connector assemblies  for connecting each respective row of photovoltaic devices; a starter edge piece ; and an end edge piece ; wherein said starter edge piece  and said end edge piece  each include a body portion  and a single edge connector assembly ; wherein the said at least one connecting edge piece  physically and electrically connects at least two rows of photovoltaic devices , wherein the said starter edge piece  connects a return circuit in a said row, and the said end edge piece  includes a pass-through electrical connector assembly  or electrical lead assembly; and wherein the main body portion  of said connecting edge pieces  i is stepped vertically to provide a complementary fit to two rows of stacked and layered photovoltaic devices ; or ii is staggered horizontally to provide a complimentary fit to two rows of offset photovoltaic devices .</p>"
            ]
          },
          "metadata": {}
        },
        {
          "output_type": "display_data",
          "data": {
            "text/plain": [
              "<IPython.core.display.HTML object>"
            ],
            "text/html": [
              "<h3>Beam search claim (ROUGE-L = 95.82417582417582)</h3>"
            ]
          },
          "metadata": {}
        },
        {
          "output_type": "display_data",
          "data": {
            "text/plain": [
              "<IPython.core.display.HTML object>"
            ],
            "text/html": [
              "<p>a photovoltaic device assembly comprising a plurality of photovoltaic devices arranged in at least two rows; the said photovoltaic devices including a photovoltaic cell assembly and a body portion; wherein the said photovoltaic devices each comprise an active portion and an inactive portion; the said edge pieces including: at least one connecting edge piece located at the end of at least two rows of photovoltaic devices wherein the said connecting edge piece includes a body portion and two or more edge connector assemblies for connecting each respective row of photovoltaic devices; a starter edge piece; and an end edge piece; wherein said starter edge piece and said end edge piece each include a body portion and a single edge connector assembly; wherein the said at least one connecting edge piece physically and electrically connects at least two rows of photovoltaic devices, wherein the said starter edge piece connects a return circuit in a said row, and the said end edge piece includes a pass-through electrical connector assembly or electrical lead assembly; and wherein the main body portion of said connecting edge pieces i is stepped vertically to provide a complementary fit to two rows of stacked and layered photovoltaic devices; or ii is staggered horizontally to provide a complimentary fit to two rows of offset photovoltaic devices.</p>"
            ]
          },
          "metadata": {}
        },
        {
          "output_type": "display_data",
          "data": {
            "text/plain": [
              "<IPython.core.display.HTML object>"
            ],
            "text/html": [
              "<hr/>"
            ]
          },
          "metadata": {}
        },
        {
          "output_type": "display_data",
          "data": {
            "text/plain": [
              "<IPython.core.display.HTML object>"
            ],
            "text/html": [
              "<h1>bigbird balanced</h1>"
            ]
          },
          "metadata": {}
        },
        {
          "output_type": "display_data",
          "data": {
            "text/plain": [
              "<IPython.core.display.HTML object>"
            ],
            "text/html": [
              "<h2>Greedy search gen</h1>"
            ]
          },
          "metadata": {}
        },
        {
          "output_type": "display_data",
          "data": {
            "text/plain": [
              "<IPython.core.display.HTML object>"
            ],
            "text/html": [
              "<h3>Original claim</h3>"
            ]
          },
          "metadata": {}
        },
        {
          "output_type": "display_data",
          "data": {
            "text/plain": [
              "<IPython.core.display.HTML object>"
            ],
            "text/html": [
              "<p>a photovoltaic device assembly  comprising a plurality of photovoltaic devices  arranged in at least two rows; the said photovoltaic devices  including a photovoltaic cell assembly  and a body portion ; wherein the devices are physically and electrically connected by connectors, edge pieces, spacer pieces, or any combination thereof; wherein the said photovoltaic devices  each comprise an active portion  and an inactive portion 135; the said edge pieces including: at least one connecting edge piece  located at the end of at least two rows of photovoltaic devices  wherein the said connecting edge piece  includes a body portion  and two or more edge connector assemblies  for connecting each respective row of photovoltaic devices; a starter edge piece ; and an end edge piece ; wherein said starter edge piece  and said end edge piece  each include a body portion  and a single edge connector assembly ; wherein the said at least one connecting edge piece  physically and electrically connects at least two rows of photovoltaic devices , wherein the said starter edge piece  connects a return circuit in a said row, and the said end edge piece  includes a pass-through electrical connector assembly  or electrical lead assembly; and wherein the main body portion  of said connecting edge pieces  i is stepped vertically to provide a complementary fit to two rows of stacked and layered photovoltaic devices ; or ii is staggered horizontally to provide a complimentary fit to two rows of offset photovoltaic devices .</p>"
            ]
          },
          "metadata": {}
        },
        {
          "output_type": "display_data",
          "data": {
            "text/plain": [
              "<IPython.core.display.HTML object>"
            ],
            "text/html": [
              "<h3>Greedy search claim (ROUGE-L = 99.57627118644066)</h3>"
            ]
          },
          "metadata": {}
        },
        {
          "output_type": "display_data",
          "data": {
            "text/plain": [
              "<IPython.core.display.HTML object>"
            ],
            "text/html": [
              "<p>a photovoltaic device assembly comprising a plurality of photovoltaic devices arranged in at least two rows; the said photovoltaic devices including a photovoltaic cell assembly and a body portion; wherein the devices are physically and electrically connected by connectors, edge pieces, spacer pieces, or any combination thereof; wherein the photovoltaic devices each comprise an active portion and an inactive portion; the said edge pieces including: at least one connecting edge piece located at the end of at least two rows of photovoltaic devices wherein the said connecting edge piece includes a body portion and two or more edge connector assemblies for connecting each respective row of photovoltaic devices; a starter edge piece; and an end edge piece; wherein said starter edge piece and said end edge piece each include a body portion and a single edge connector assembly; wherein the said at least one connecting edge piece physically and electrically connects at least two rows of photovoltaic devices, wherein the said starter edge piece connects a return circuit in a said row, and the said end edge piece includes a pass-through electrical connector assembly or electrical lead assembly; and wherein the main body portion of said connecting edge pieces i is stepped vertically to provide a complementary fit to two rows of stacked and layered photovoltaic devices; or ii is staggered horizontally to provide a complimentary fit to two rows of offset photovoltaic devices.</p>"
            ]
          },
          "metadata": {}
        },
        {
          "output_type": "display_data",
          "data": {
            "text/plain": [
              "<IPython.core.display.HTML object>"
            ],
            "text/html": [
              "<hr/>"
            ]
          },
          "metadata": {}
        },
        {
          "output_type": "display_data",
          "data": {
            "text/plain": [
              "<IPython.core.display.HTML object>"
            ],
            "text/html": [
              "<h3>Original claim</h3>"
            ]
          },
          "metadata": {}
        },
        {
          "output_type": "display_data",
          "data": {
            "text/plain": [
              "<IPython.core.display.HTML object>"
            ],
            "text/html": [
              "<p>a method for signal compensation, comprising: receiving, by a receiver via n receiving antennas, a plurality of channel estimation preamble signals sent by m transmitting antennas of a remote transmitter, wherein the plurality of channel estimation preamble signals contain first pilot signals of the m transmitting antennas, and m and n are integers larger than 1; determining, by the receiver, channel estimation parameters from the m transmitting antennas to the n receiving antennas according to the first pilot signals of the m transmitting antennas contained in the plurality of channel estimation preamble signals; receiving, by the receiver via the n receiving antennas, data signals and second pilot signals sent on a first data symbol by the m transmitting antennas; determining, by the receiver, channel phase shift parameters from the m transmitting antennas to the n receiving antennas according to signals arrived at the n receiving antennas which come from the second pilot signals sent on the first data symbol by the m transmitting antennas; and determining, by the receiver according to the channel estimation parameters from the m transmitting antennas to the n receiving antennas and the channel phase shift parameters from the m transmitting antennas to the n receiving antennas, signal compensation for the data signals arrived at the n receiving antennas that are sent on the first data symbol by the m transmitting antennas.</p>"
            ]
          },
          "metadata": {}
        },
        {
          "output_type": "display_data",
          "data": {
            "text/plain": [
              "<IPython.core.display.HTML object>"
            ],
            "text/html": [
              "<h3>Greedy search claim (ROUGE-L = 98.8962472406181)</h3>"
            ]
          },
          "metadata": {}
        },
        {
          "output_type": "display_data",
          "data": {
            "text/plain": [
              "<IPython.core.display.HTML object>"
            ],
            "text/html": [
              "<p>a method for signal compensation, the method comprising:receiving, by a receiver via n receiving antennas, a plurality of channel estimation preamble signals sent by m transmitting antennas of a remote transmitter, wherein the plurality of channel estimation preamble signals contain first pilot signals of the m transmitting antennas, and m and n are integers larger than 1;determining, by the receiver, channel estimation parameters from the m transmitting antennas to the n receiving antennas according to the first pilot signals of the m transmitting antennas contained in the plurality of channel estimation preamble signals;receiving, by the receiver via the n receiving antennas, data signals and second pilot signals sent on a first data symbol by the m transmitting antennas;determining, by the receiver, channel phase shift parameters from the m transmitting antennas to the n receiving antennas according to signals arrived at the n receiving antennas which come from the second pilot signals sent on the first data symbol by the m transmitting antennas; anddetermining, by the receiver according to the channel estimation parameters from the m transmitting antennas to the n receiving antennas and the channel phase shift parameters from the m transmitting antennas to the n receiving antennas, signal compensation for the data signals arrived at the n receiving antennas that are sent on the first data symbol by the m transmitting antennas.</p>"
            ]
          },
          "metadata": {}
        },
        {
          "output_type": "display_data",
          "data": {
            "text/plain": [
              "<IPython.core.display.HTML object>"
            ],
            "text/html": [
              "<hr/>"
            ]
          },
          "metadata": {}
        },
        {
          "output_type": "display_data",
          "data": {
            "text/plain": [
              "<IPython.core.display.HTML object>"
            ],
            "text/html": [
              "<h3>Original claim</h3>"
            ]
          },
          "metadata": {}
        },
        {
          "output_type": "display_data",
          "data": {
            "text/plain": [
              "<IPython.core.display.HTML object>"
            ],
            "text/html": [
              "<p>a method for establishing an optical bypass, applied to a core network architecture established by a network architecture combining an optical transmission device and a routing device, and the core network architecture comprising an optical transmission layer and a routing transmission layer, characterized by, the method comprising: determining, by a routing controller, a link in a target label switched path, lsp, for which an optical bypass needs to be established and the required bandwidth based on bandwidth occupation of each link in the target lsp; determining, by the routing controller, the ingress node and the egress node of the link; sending , by the routing controller, an optical bypass establishment request to an optical transmission controller, wherein the optical bypass establishment request carries information about the ingress node, the egress node and the required bandwidth, and wherein the ingress node and the egress node are routing devices; and when an establishment success notification sent by the optical transmission controller is received, setting , by the routing controller, a second stream forward entry corresponding to the optical bypass for the ingress node and the egress node, and sending, by the routing controller, the set second stream forward entry to the ingress node and the egress node, wherein the establishment success notification is configured to indicate that the optical transmission controller has allocated the optical bypass based on the optical bypass establishment request carrying the information about the ingress node, the egress node and the required bandwidth, set a first stream forward entry corresponding to the optical bypass for each optical transmission device in the optical bypass, and send the set first stream forward entry to the corresponding optical transmission device.</p>"
            ]
          },
          "metadata": {}
        },
        {
          "output_type": "display_data",
          "data": {
            "text/plain": [
              "<IPython.core.display.HTML object>"
            ],
            "text/html": [
              "<h3>Greedy search claim (ROUGE-L = 97.83393501805054)</h3>"
            ]
          },
          "metadata": {}
        },
        {
          "output_type": "display_data",
          "data": {
            "text/plain": [
              "<IPython.core.display.HTML object>"
            ],
            "text/html": [
              "<p>a method for establishing an optical bypass, the method being applied to a core network architecture established by a network architecture combining an optical transmission device and a routing device, and the core network architecture comprising an optical transmission layer and a routing transmission layer, the method comprising:determining, by a routing controller, a link in a target label switched path, lsp, for which an optical bypass needs to be established and the required bandwidth based on bandwidth occupation of each link in the target lsp;determining, by the routing controller, the ingress node and the egress node of the link;sending, by the routing controller, an optical bypass establishment request to an optical transmission controller, where the optical bypass establishment request carries information about the ingress node, the egress node and the required bandwidth, and wherein the ingress node and the egress node are routing devices; andwhen an establishment success notification sent by the optical transmission controller is received, setting, by the routing controller, a second stream forward entry corresponding to the optical bypass for the ingress node and the egress node, and sending, by the routing controller, the set second stream forward entry to the ingress node and the egress node, where the establishment success notification is configured to indicate that the optical transmission controller has allocated the optical bypass based on the optical bypass establishment request carrying the information about the ingress node, the egress node and the required bandwidth, set a first stream forward entry corresponding to the optical bypass for each optical transmission device in the optical bypass, and send the set first stream forward entry to the corresponding optical transmission device.</p>"
            ]
          },
          "metadata": {}
        },
        {
          "output_type": "display_data",
          "data": {
            "text/plain": [
              "<IPython.core.display.HTML object>"
            ],
            "text/html": [
              "<hr/>"
            ]
          },
          "metadata": {}
        },
        {
          "output_type": "display_data",
          "data": {
            "text/plain": [
              "<IPython.core.display.HTML object>"
            ],
            "text/html": [
              "<h3>Original claim</h3>"
            ]
          },
          "metadata": {}
        },
        {
          "output_type": "display_data",
          "data": {
            "text/plain": [
              "<IPython.core.display.HTML object>"
            ],
            "text/html": [
              "<p>an apparatus  for transmitting wireless data by using a display backlight, comprising: a data storage unit  configured to store data to be transmitted; a main control unit  configured to read the data stored in the data storage unit  and control operation of a signal modulation unit ; the signal modulation unit  being configured to modulate the read data with a predetermined signal modulation method to generate and output a sequence of pulses; a light source driving circuit  configured to generate a backlight driving pulse signal according to the sequence of pulses; and a display backlight member  configured to output a sequence of light and dark signals, driven by the backlight driving pulse signal, wherein the predetermined signal modulation method is a signal modulation method of variable pulse period modulation, wherein the pulse period is variable, a pulse with a first pulse width representing a first digital bit state and another pulse with a second pulse width representing a second digital bit state is transmitted in one period, the first pulse width is different from the second pulse width, the period representing the first digital bit state and the period representing the second digital bit state are also different, wherein a ratio of a pulse low level time to a pulse high level time during the digital bit is transmitted is smaller than a predetermined threshold.</p>"
            ]
          },
          "metadata": {}
        },
        {
          "output_type": "display_data",
          "data": {
            "text/plain": [
              "<IPython.core.display.HTML object>"
            ],
            "text/html": [
              "<h3>Greedy search claim (ROUGE-L = 97.78761061946904)</h3>"
            ]
          },
          "metadata": {}
        },
        {
          "output_type": "display_data",
          "data": {
            "text/plain": [
              "<IPython.core.display.HTML object>"
            ],
            "text/html": [
              "<p>an apparatus for transmitting wireless data by using a display backlight, comprising:a data storage unit configured to store data to be transmitted;a main control unit configured to read and control the data stored in the data storage unit and to control an operation of a signal modulation unit; with the signal modulation unit being configured to modulate the read data with a predetermined signal modulation method to generate and output a sequence of pulses;a light source driving circuit configured to generate a backlight driving pulse signal according to the sequence of pulses; anda display backlight member configured to output a sequence of light and dark signals, driven by the backlight driving pulse signal, wherein the predetermined signal modulation method is a signal modulation method of variable pulse period modulation, wherein the pulse period is variable, a pulse with a first pulse width representing a first digital bit state and another pulse with a second pulse width representing a second digital bit state is transmitted in one period, the first pulse width is different from the second pulse width, the period representing the first digital bit state and the period representing the second digital bit state are also different, wherein a ratio of a pulse low level time to a pulse high level time during the digital bit being transmitted is smaller than a predetermined threshold.</p>"
            ]
          },
          "metadata": {}
        },
        {
          "output_type": "display_data",
          "data": {
            "text/plain": [
              "<IPython.core.display.HTML object>"
            ],
            "text/html": [
              "<hr/>"
            ]
          },
          "metadata": {}
        },
        {
          "output_type": "display_data",
          "data": {
            "text/plain": [
              "<IPython.core.display.HTML object>"
            ],
            "text/html": [
              "<h3>Original claim</h3>"
            ]
          },
          "metadata": {}
        },
        {
          "output_type": "display_data",
          "data": {
            "text/plain": [
              "<IPython.core.display.HTML object>"
            ],
            "text/html": [
              "<p>a precoding method in wireless communication, comprising: acquiring all scheduled users on a resource block of orthogonal frequency division multiplexing, ofdm, system, and selecting, within a range of all the scheduled users on the resource block, a user set used for partial interference suppression for each scheduled user on the resource block; and computing a precoding vector for each scheduled user according to a matrix formed by channel estimations of all users in the user set used for the partial interference suppression corresponding to each scheduled user, and precoding data of each scheduled user according to the computed precoding vector for each scheduled user; characterized in that the selecting, within a range of all the scheduled users on the resource block, a user set used for partial interference suppression for each scheduled user on the resource block specifically comprises: selecting, according to distances between the scheduled users on the resource block and a transmitting end device, within the range of all the scheduled users on the resource block, the user set used for the partial interference suppression for each scheduled user on the resource block; or selecting, according to channel coherence between the scheduled users on the resource block, within the range of all the scheduled users on the resource block, the user set used for the partial interference suppression for each scheduled user on the resource block.</p>"
            ]
          },
          "metadata": {}
        },
        {
          "output_type": "display_data",
          "data": {
            "text/plain": [
              "<IPython.core.display.HTML object>"
            ],
            "text/html": [
              "<h3>Greedy search claim (ROUGE-L = 97.5609756097561)</h3>"
            ]
          },
          "metadata": {}
        },
        {
          "output_type": "display_data",
          "data": {
            "text/plain": [
              "<IPython.core.display.HTML object>"
            ],
            "text/html": [
              "<p>a precoding method in wireless communication, comprising:acquiring all scheduled users on a resource block of orthogonal frequency division multiplexing, ofdm, system;selecting, within a range of all the scheduled users on the resource block, a user set used for partial interference suppression for each scheduled user on the resource block; andcomputing a precoding vector for each scheduled user according to a matrix formed by channel estimations of all users in the user set used for the partial interference suppression corresponding to each scheduled user, and precoding data of each scheduled user according to the computed precoding vector for each scheduled user, wherein the selecting, within a range of all the scheduled users on the resource block, a user set used for partial interference suppression for each scheduled user on the resource block specifically comprises:selecting, according to distances between the scheduled users on the resource block and a transmitting end device, within the range of all the scheduled users on the resource block, the user set used for the partial interference suppression for each scheduled user on the resource block; orselecting, according to channel coherence between the scheduled users on the resource block, within the range of all the scheduled users on the resource block, the user set used for the partial interference suppression for each scheduled user on the resource block.</p>"
            ]
          },
          "metadata": {}
        },
        {
          "output_type": "display_data",
          "data": {
            "text/plain": [
              "<IPython.core.display.HTML object>"
            ],
            "text/html": [
              "<hr/>"
            ]
          },
          "metadata": {}
        },
        {
          "output_type": "display_data",
          "data": {
            "text/plain": [
              "<IPython.core.display.HTML object>"
            ],
            "text/html": [
              "<h2>Beam search gen</h1>"
            ]
          },
          "metadata": {}
        },
        {
          "output_type": "display_data",
          "data": {
            "text/plain": [
              "<IPython.core.display.HTML object>"
            ],
            "text/html": [
              "<h3>Original claim</h3>"
            ]
          },
          "metadata": {}
        },
        {
          "output_type": "display_data",
          "data": {
            "text/plain": [
              "<IPython.core.display.HTML object>"
            ],
            "text/html": [
              "<p>a photovoltaic device assembly  comprising a plurality of photovoltaic devices  arranged in at least two rows; the said photovoltaic devices  including a photovoltaic cell assembly  and a body portion ; wherein the devices are physically and electrically connected by connectors, edge pieces, spacer pieces, or any combination thereof; wherein the said photovoltaic devices  each comprise an active portion  and an inactive portion 135; the said edge pieces including: at least one connecting edge piece  located at the end of at least two rows of photovoltaic devices  wherein the said connecting edge piece  includes a body portion  and two or more edge connector assemblies  for connecting each respective row of photovoltaic devices; a starter edge piece ; and an end edge piece ; wherein said starter edge piece  and said end edge piece  each include a body portion  and a single edge connector assembly ; wherein the said at least one connecting edge piece  physically and electrically connects at least two rows of photovoltaic devices , wherein the said starter edge piece  connects a return circuit in a said row, and the said end edge piece  includes a pass-through electrical connector assembly  or electrical lead assembly; and wherein the main body portion  of said connecting edge pieces  i is stepped vertically to provide a complementary fit to two rows of stacked and layered photovoltaic devices ; or ii is staggered horizontally to provide a complimentary fit to two rows of offset photovoltaic devices .</p>"
            ]
          },
          "metadata": {}
        },
        {
          "output_type": "display_data",
          "data": {
            "text/plain": [
              "<IPython.core.display.HTML object>"
            ],
            "text/html": [
              "<h3>Beam search claim (ROUGE-L = 99.57627118644066)</h3>"
            ]
          },
          "metadata": {}
        },
        {
          "output_type": "display_data",
          "data": {
            "text/plain": [
              "<IPython.core.display.HTML object>"
            ],
            "text/html": [
              "<p>a photovoltaic device assembly comprising a plurality of photovoltaic devices arranged in at least two rows; the said photovoltaic devices including a photovoltaic cell assembly and a body portion; wherein the devices are physically and electrically connected by connectors, edge pieces, spacer pieces, or any combination thereof; wherein the photovoltaic devices each comprise an active portion and an inactive portion; the said edge pieces including: at least one connecting edge piece located at the end of at least two rows of photovoltaic devices wherein the said connecting edge piece includes a body portion and two or more edge connector assemblies for connecting each respective row of photovoltaic devices; a starter edge piece; and an end edge piece; wherein said starter edge piece and said end edge piece each include a body portion and a single edge connector assembly; wherein the said at least one connecting edge piece physically and electrically connects at least two rows of photovoltaic devices, wherein the said starter edge piece connects a return circuit in a said row, and the said end edge piece includes a pass-through electrical connector assembly or electrical lead assembly; and wherein the main body portion of said connecting edge pieces i is stepped vertically to provide a complementary fit to two rows of stacked and layered photovoltaic devices; or ii is staggered horizontally to provide a complimentary fit to two rows of offset photovoltaic devices.</p>"
            ]
          },
          "metadata": {}
        },
        {
          "output_type": "display_data",
          "data": {
            "text/plain": [
              "<IPython.core.display.HTML object>"
            ],
            "text/html": [
              "<hr/>"
            ]
          },
          "metadata": {}
        },
        {
          "output_type": "display_data",
          "data": {
            "text/plain": [
              "<IPython.core.display.HTML object>"
            ],
            "text/html": [
              "<h3>Original claim</h3>"
            ]
          },
          "metadata": {}
        },
        {
          "output_type": "display_data",
          "data": {
            "text/plain": [
              "<IPython.core.display.HTML object>"
            ],
            "text/html": [
              "<p>a method for signal compensation, comprising: receiving, by a receiver via n receiving antennas, a plurality of channel estimation preamble signals sent by m transmitting antennas of a remote transmitter, wherein the plurality of channel estimation preamble signals contain first pilot signals of the m transmitting antennas, and m and n are integers larger than 1; determining, by the receiver, channel estimation parameters from the m transmitting antennas to the n receiving antennas according to the first pilot signals of the m transmitting antennas contained in the plurality of channel estimation preamble signals; receiving, by the receiver via the n receiving antennas, data signals and second pilot signals sent on a first data symbol by the m transmitting antennas; determining, by the receiver, channel phase shift parameters from the m transmitting antennas to the n receiving antennas according to signals arrived at the n receiving antennas which come from the second pilot signals sent on the first data symbol by the m transmitting antennas; and determining, by the receiver according to the channel estimation parameters from the m transmitting antennas to the n receiving antennas and the channel phase shift parameters from the m transmitting antennas to the n receiving antennas, signal compensation for the data signals arrived at the n receiving antennas that are sent on the first data symbol by the m transmitting antennas.</p>"
            ]
          },
          "metadata": {}
        },
        {
          "output_type": "display_data",
          "data": {
            "text/plain": [
              "<IPython.core.display.HTML object>"
            ],
            "text/html": [
              "<h3>Beam search claim (ROUGE-L = 98.8962472406181)</h3>"
            ]
          },
          "metadata": {}
        },
        {
          "output_type": "display_data",
          "data": {
            "text/plain": [
              "<IPython.core.display.HTML object>"
            ],
            "text/html": [
              "<p>a method for signal compensation, the method comprising:receiving, by a receiver via n receiving antennas, a plurality of channel estimation preamble signals sent by m transmitting antennas of a remote transmitter, wherein the plurality of channel estimation preamble signals contain first pilot signals of the m transmitting antennas, and m and n are integers larger than 1;determining, by the receiver, channel estimation parameters from the m transmitting antennas to the n receiving antennas according to the first pilot signals of the m transmitting antennas contained in the plurality of channel estimation preamble signals;receiving, by the receiver via the n receiving antennas, data signals and second pilot signals sent on a first data symbol by the m transmitting antennas;determining, by the receiver, channel phase shift parameters from the m transmitting antennas to the n receiving antennas according to signals arrived at the n receiving antennas which come from the second pilot signals sent on the first data symbol by the m transmitting antennas; anddetermining, by the receiver according to the channel estimation parameters from the m transmitting antennas to the n receiving antennas and the channel phase shift parameters from the m transmitting antennas to the n receiving antennas, signal compensation for the data signals arrived at the n receiving antennas that are sent on the first data symbol by the m transmitting antennas.</p>"
            ]
          },
          "metadata": {}
        },
        {
          "output_type": "display_data",
          "data": {
            "text/plain": [
              "<IPython.core.display.HTML object>"
            ],
            "text/html": [
              "<hr/>"
            ]
          },
          "metadata": {}
        },
        {
          "output_type": "display_data",
          "data": {
            "text/plain": [
              "<IPython.core.display.HTML object>"
            ],
            "text/html": [
              "<h3>Original claim</h3>"
            ]
          },
          "metadata": {}
        },
        {
          "output_type": "display_data",
          "data": {
            "text/plain": [
              "<IPython.core.display.HTML object>"
            ],
            "text/html": [
              "<p>a method for establishing an optical bypass, applied to a core network architecture established by a network architecture combining an optical transmission device and a routing device, and the core network architecture comprising an optical transmission layer and a routing transmission layer, characterized by, the method comprising: determining, by a routing controller, a link in a target label switched path, lsp, for which an optical bypass needs to be established and the required bandwidth based on bandwidth occupation of each link in the target lsp; determining, by the routing controller, the ingress node and the egress node of the link; sending , by the routing controller, an optical bypass establishment request to an optical transmission controller, wherein the optical bypass establishment request carries information about the ingress node, the egress node and the required bandwidth, and wherein the ingress node and the egress node are routing devices; and when an establishment success notification sent by the optical transmission controller is received, setting , by the routing controller, a second stream forward entry corresponding to the optical bypass for the ingress node and the egress node, and sending, by the routing controller, the set second stream forward entry to the ingress node and the egress node, wherein the establishment success notification is configured to indicate that the optical transmission controller has allocated the optical bypass based on the optical bypass establishment request carrying the information about the ingress node, the egress node and the required bandwidth, set a first stream forward entry corresponding to the optical bypass for each optical transmission device in the optical bypass, and send the set first stream forward entry to the corresponding optical transmission device.</p>"
            ]
          },
          "metadata": {}
        },
        {
          "output_type": "display_data",
          "data": {
            "text/plain": [
              "<IPython.core.display.HTML object>"
            ],
            "text/html": [
              "<h3>Beam search claim (ROUGE-L = 97.83393501805054)</h3>"
            ]
          },
          "metadata": {}
        },
        {
          "output_type": "display_data",
          "data": {
            "text/plain": [
              "<IPython.core.display.HTML object>"
            ],
            "text/html": [
              "<p>a method for establishing an optical bypass, the method being applied to a core network architecture established by a network architecture combining an optical transmission device and a routing device, and the core network architecture comprising an optical transmission layer and a routing transmission layer, the method comprising:determining, by a routing controller, a link in a target label switched path, lsp, for which an optical bypass needs to be established and the required bandwidth based on bandwidth occupation of each link in the target lsp;determining, by the routing controller, the ingress node and the egress node of the link;sending, by the routing controller, an optical bypass establishment request to an optical transmission controller, where the optical bypass establishment request carries information about the ingress node, the egress node and the required bandwidth, and wherein the ingress node and the egress node are routing devices; andwhen an establishment success notification sent by the optical transmission controller is received, setting, by the routing controller, a second stream forward entry corresponding to the optical bypass for the ingress node and the egress node, and sending, by the routing controller, the set second stream forward entry to the ingress node and the egress node, where the establishment success notification is configured to indicate that the optical transmission controller has allocated the optical bypass based on the optical bypass establishment request carrying the information about the ingress node, the egress node and the required bandwidth, set a first stream forward entry corresponding to the optical bypass for each optical transmission device in the optical bypass, and send the set first stream forward entry to the corresponding optical transmission device.</p>"
            ]
          },
          "metadata": {}
        },
        {
          "output_type": "display_data",
          "data": {
            "text/plain": [
              "<IPython.core.display.HTML object>"
            ],
            "text/html": [
              "<hr/>"
            ]
          },
          "metadata": {}
        },
        {
          "output_type": "display_data",
          "data": {
            "text/plain": [
              "<IPython.core.display.HTML object>"
            ],
            "text/html": [
              "<h3>Original claim</h3>"
            ]
          },
          "metadata": {}
        },
        {
          "output_type": "display_data",
          "data": {
            "text/plain": [
              "<IPython.core.display.HTML object>"
            ],
            "text/html": [
              "<p>an apparatus  for transmitting wireless data by using a display backlight, comprising: a data storage unit  configured to store data to be transmitted; a main control unit  configured to read the data stored in the data storage unit  and control operation of a signal modulation unit ; the signal modulation unit  being configured to modulate the read data with a predetermined signal modulation method to generate and output a sequence of pulses; a light source driving circuit  configured to generate a backlight driving pulse signal according to the sequence of pulses; and a display backlight member  configured to output a sequence of light and dark signals, driven by the backlight driving pulse signal, wherein the predetermined signal modulation method is a signal modulation method of variable pulse period modulation, wherein the pulse period is variable, a pulse with a first pulse width representing a first digital bit state and another pulse with a second pulse width representing a second digital bit state is transmitted in one period, the first pulse width is different from the second pulse width, the period representing the first digital bit state and the period representing the second digital bit state are also different, wherein a ratio of a pulse low level time to a pulse high level time during the digital bit is transmitted is smaller than a predetermined threshold.</p>"
            ]
          },
          "metadata": {}
        },
        {
          "output_type": "display_data",
          "data": {
            "text/plain": [
              "<IPython.core.display.HTML object>"
            ],
            "text/html": [
              "<h3>Beam search claim (ROUGE-L = 97.56097560975608)</h3>"
            ]
          },
          "metadata": {}
        },
        {
          "output_type": "display_data",
          "data": {
            "text/plain": [
              "<IPython.core.display.HTML object>"
            ],
            "text/html": [
              "<p>apparatus for transmitting wireless data by using a display backlight, comprising:a data storage unit configured to store data to be transmitted;a main control unit configured to read and control the data stored in the data storage unit and to control an operation of a signal modulation unit ;with the signal modulation unit being configured to modulate the read data with a predetermined signal modulation method to generate and output a sequence of pulses;a light source driving circuit configured to generate a backlight driving pulse signal according to the sequence of pulses; anda display backlight member configured to output a sequence of light and dark signals, driven by the backlight driving pulse signal, wherein the predetermined signal modulation method is a signal modulation method of variable pulse period modulation, wherein the pulse period is variable, a pulse with a first pulse width representing a first digital bit state and another pulse with a second pulse width representing a second digital bit state is transmitted in one period, the first pulse width is different from the second pulse width, the period representing the first digital bit state and the period representing the second digital bit state are also different, wherein a ratio of a pulse low level time to a pulse high level time during the digital bit being transmitted is smaller than a predetermined threshold.</p>"
            ]
          },
          "metadata": {}
        },
        {
          "output_type": "display_data",
          "data": {
            "text/plain": [
              "<IPython.core.display.HTML object>"
            ],
            "text/html": [
              "<hr/>"
            ]
          },
          "metadata": {}
        },
        {
          "output_type": "display_data",
          "data": {
            "text/plain": [
              "<IPython.core.display.HTML object>"
            ],
            "text/html": [
              "<h3>Original claim</h3>"
            ]
          },
          "metadata": {}
        },
        {
          "output_type": "display_data",
          "data": {
            "text/plain": [
              "<IPython.core.display.HTML object>"
            ],
            "text/html": [
              "<p>a web application security access method, comprising: periodically detecting, by an application store server, whether locally stored backup source code is consistent with source code that is corresponding to a web application and that is in a web server, and if the locally stored backup source code is inconsistent with the source code that is corresponding to the web application and that is in the web server, adding an exception identifier to a version parameter stored on the application store server step 101; receiving, by the application store server, an access request that is for accessing the web application and that is sent by a user by using a client, wherein the access request comprises a user version parameter of source code corresponding to the web application installed on the client step 102; and if detecting that the exception identifier exists in the version parameter that is stored on the application store server and associated with the user version parameter, returning, by the application store server to the client, prompt information used to indicate to the user that there is a security risk in the access request step 103.</p>"
            ]
          },
          "metadata": {}
        },
        {
          "output_type": "display_data",
          "data": {
            "text/plain": [
              "<IPython.core.display.HTML object>"
            ],
            "text/html": [
              "<h3>Beam search claim (ROUGE-L = 97.31182795698923)</h3>"
            ]
          },
          "metadata": {}
        },
        {
          "output_type": "display_data",
          "data": {
            "text/plain": [
              "<IPython.core.display.HTML object>"
            ],
            "text/html": [
              "<p>a web application security access method, comprising:- periodically detecting, by an application store server, whether locally stored backup source code is consistent with source code that is corresponding to a web application and that is in a web server, and- if the locally stored backup source code is inconsistent with the source code that is corresponding to a web application and that is in a web server, adding an exception identifier to a version parameter stored on the application store server;- receiving, by the application store server, an access request that is for accessing the web application and that is sent by a user by using a client, wherein the access request comprises a user version parameter of source code corresponding to the web application installed on the client; and- if detecting that the exception identifier exists in the version parameter that is stored on the application store server and associated with the user version parameter, returning, by the application store server to the client, prompt information used to indicate to the user that there is a security risk in the access request.</p>"
            ]
          },
          "metadata": {}
        },
        {
          "output_type": "display_data",
          "data": {
            "text/plain": [
              "<IPython.core.display.HTML object>"
            ],
            "text/html": [
              "<hr/>"
            ]
          },
          "metadata": {}
        },
        {
          "output_type": "display_data",
          "data": {
            "text/plain": [
              "<IPython.core.display.HTML object>"
            ],
            "text/html": [
              "<h1>bigbird less samples</h1>"
            ]
          },
          "metadata": {}
        },
        {
          "output_type": "display_data",
          "data": {
            "text/plain": [
              "<IPython.core.display.HTML object>"
            ],
            "text/html": [
              "<h2>Greedy search gen</h1>"
            ]
          },
          "metadata": {}
        },
        {
          "output_type": "display_data",
          "data": {
            "text/plain": [
              "<IPython.core.display.HTML object>"
            ],
            "text/html": [
              "<h3>Original claim</h3>"
            ]
          },
          "metadata": {}
        },
        {
          "output_type": "display_data",
          "data": {
            "text/plain": [
              "<IPython.core.display.HTML object>"
            ],
            "text/html": [
              "<p>a method for signal compensation, comprising: receiving, by a receiver via n receiving antennas, a plurality of channel estimation preamble signals sent by m transmitting antennas of a remote transmitter, wherein the plurality of channel estimation preamble signals contain first pilot signals of the m transmitting antennas, and m and n are integers larger than 1; determining, by the receiver, channel estimation parameters from the m transmitting antennas to the n receiving antennas according to the first pilot signals of the m transmitting antennas contained in the plurality of channel estimation preamble signals; receiving, by the receiver via the n receiving antennas, data signals and second pilot signals sent on a first data symbol by the m transmitting antennas; determining, by the receiver, channel phase shift parameters from the m transmitting antennas to the n receiving antennas according to signals arrived at the n receiving antennas which come from the second pilot signals sent on the first data symbol by the m transmitting antennas; and determining, by the receiver according to the channel estimation parameters from the m transmitting antennas to the n receiving antennas and the channel phase shift parameters from the m transmitting antennas to the n receiving antennas, signal compensation for the data signals arrived at the n receiving antennas that are sent on the first data symbol by the m transmitting antennas.</p>"
            ]
          },
          "metadata": {}
        },
        {
          "output_type": "display_data",
          "data": {
            "text/plain": [
              "<IPython.core.display.HTML object>"
            ],
            "text/html": [
              "<h3>Greedy search claim (ROUGE-L = 98.6842105263158)</h3>"
            ]
          },
          "metadata": {}
        },
        {
          "output_type": "display_data",
          "data": {
            "text/plain": [
              "<IPython.core.display.HTML object>"
            ],
            "text/html": [
              "<p>a method for signal compensation, including: receiving, by a receiver via n receiving antennas, a plurality of channel estimation preamble signals sent by m transmitting antennas of a remote transmitter, wherein the plurality of channel estimation preamble signals contain first pilot signals of the m transmitting antennas, and m and n are integers larger than 1; determining, by the receiver, channel estimation parameters from the m transmitting antennas to the n receiving antennas according to the first pilot signals of the m transmitting antennas contained in the plurality of channel estimation preamble signals; receiving, by the receiver via the n receiving antennas, data signals and second pilot signals sent on a first data symbol by the m transmitting antennas; determining, by the receiver, channel phase shift parameters from the m transmitting antennas to the n receiving antennas according to signals arrived at the n receiving antennas which come from the second pilot signals sent on the first data symbol by the m transmitting antennas; and determining, by the receiver according to the channel estimation parameters from the m transmitting antennas to the n receiving antennas and the channel phase shift parameters from the m transmitting antennas to the n receiving antennas, signal compensation for the data signals arrived at the n receiving antennas that are sent on the first data symbol by the m transmitting antennas, wherein m 1,m.</p>"
            ]
          },
          "metadata": {}
        },
        {
          "output_type": "display_data",
          "data": {
            "text/plain": [
              "<IPython.core.display.HTML object>"
            ],
            "text/html": [
              "<hr/>"
            ]
          },
          "metadata": {}
        },
        {
          "output_type": "display_data",
          "data": {
            "text/plain": [
              "<IPython.core.display.HTML object>"
            ],
            "text/html": [
              "<h3>Original claim</h3>"
            ]
          },
          "metadata": {}
        },
        {
          "output_type": "display_data",
          "data": {
            "text/plain": [
              "<IPython.core.display.HTML object>"
            ],
            "text/html": [
              "<p>an apparatus  for transmitting wireless data by using a display backlight, comprising: a data storage unit  configured to store data to be transmitted; a main control unit  configured to read the data stored in the data storage unit  and control operation of a signal modulation unit ; the signal modulation unit  being configured to modulate the read data with a predetermined signal modulation method to generate and output a sequence of pulses; a light source driving circuit  configured to generate a backlight driving pulse signal according to the sequence of pulses; and a display backlight member  configured to output a sequence of light and dark signals, driven by the backlight driving pulse signal, wherein the predetermined signal modulation method is a signal modulation method of variable pulse period modulation, wherein the pulse period is variable, a pulse with a first pulse width representing a first digital bit state and another pulse with a second pulse width representing a second digital bit state is transmitted in one period, the first pulse width is different from the second pulse width, the period representing the first digital bit state and the period representing the second digital bit state are also different, wherein a ratio of a pulse low level time to a pulse high level time during the digital bit is transmitted is smaller than a predetermined threshold.</p>"
            ]
          },
          "metadata": {}
        },
        {
          "output_type": "display_data",
          "data": {
            "text/plain": [
              "<IPython.core.display.HTML object>"
            ],
            "text/html": [
              "<h3>Greedy search claim (ROUGE-L = 98.45474613686534)</h3>"
            ]
          },
          "metadata": {}
        },
        {
          "output_type": "display_data",
          "data": {
            "text/plain": [
              "<IPython.core.display.HTML object>"
            ],
            "text/html": [
              "<p>An apparatus for transmitting wireless data by using a display backlight, comprising: a data storage unit configured to store data to be transmitted; a main control unit configured to read and control the data stored in the data storage unit and to control an operation of a signal modulation unit; with the signal modulation unit being configured to modulate the read data with a predetermined signal modulation method to generate and output a sequence of pulses; a light source driving circuit configured to generate a backlight driving pulse signal according to the sequence of pulses; and a display backlight member configured to output a sequence of light and dark signals, driven by the backlight driving pulse signal; wherein the predetermined signal modulation method is a signal modulation method of variable pulse period modulation, wherein the pulse period is variable, a pulse with a first pulse width representing a first digital bit state and another pulse with a second pulse width representing a second digital bit state is transmitted in one period, the first pulse width is different from the second pulse width, the period representing the first digital bit state and the period representing the second digital bit state are also different, wherein a ratio of a pulse low level time to a pulse high level time during the digital bit being transmitted is smaller than a predetermined threshold.</p>"
            ]
          },
          "metadata": {}
        },
        {
          "output_type": "display_data",
          "data": {
            "text/plain": [
              "<IPython.core.display.HTML object>"
            ],
            "text/html": [
              "<hr/>"
            ]
          },
          "metadata": {}
        },
        {
          "output_type": "display_data",
          "data": {
            "text/plain": [
              "<IPython.core.display.HTML object>"
            ],
            "text/html": [
              "<h3>Original claim</h3>"
            ]
          },
          "metadata": {}
        },
        {
          "output_type": "display_data",
          "data": {
            "text/plain": [
              "<IPython.core.display.HTML object>"
            ],
            "text/html": [
              "<p>a signal processing method, comprising: detecting s1, according to a check relationship set during forward error correction coding, whether a phase jump occurs in a data segment of a signal, and a quantity of degrees of the occurring phase jump; performing s2, according to the quantity of degrees of the phase jump, a phase correction on the data segment in which the phase jump occurs; performing s3 a confidence correction on the data segment in which the phase jump occurs and on which the phase correction has been performed, wherein the confidence correction refers to reduction of confidence; and performing s4 a forward error correction decision decoding on the data segment on which the confidence correction has been performed and based on the confidence of the data segment, to output the processed data segment.</p>"
            ]
          },
          "metadata": {}
        },
        {
          "output_type": "display_data",
          "data": {
            "text/plain": [
              "<IPython.core.display.HTML object>"
            ],
            "text/html": [
              "<h3>Greedy search claim (ROUGE-L = 97.31800766283524)</h3>"
            ]
          },
          "metadata": {}
        },
        {
          "output_type": "display_data",
          "data": {
            "text/plain": [
              "<IPython.core.display.HTML object>"
            ],
            "text/html": [
              "<p>a signal processing method, comprising: detecting, according to a check relationship set during forward error correction coding, whether a phase jump occurs in a data segment of a signal, and a quantity of degrees of the occurring phase jump; performing, according to the quantity of degrees of the phase jump, phase correction on the data segment in which the phase jump occurs; performing confidence correction on the data segment in which the phase jump occurs and on which the phase correction has been performed, wherein the confidence correction refers to reduction of confidence; and performing forward error correction decision decoding on the data segment on which the confidence correction has been performed and based on the confidence of the data segment, to output the processed data segment.</p>"
            ]
          },
          "metadata": {}
        },
        {
          "output_type": "display_data",
          "data": {
            "text/plain": [
              "<IPython.core.display.HTML object>"
            ],
            "text/html": [
              "<hr/>"
            ]
          },
          "metadata": {}
        },
        {
          "output_type": "display_data",
          "data": {
            "text/plain": [
              "<IPython.core.display.HTML object>"
            ],
            "text/html": [
              "<h3>Original claim</h3>"
            ]
          },
          "metadata": {}
        },
        {
          "output_type": "display_data",
          "data": {
            "text/plain": [
              "<IPython.core.display.HTML object>"
            ],
            "text/html": [
              "<p>an electronic device  comprising: a battery pack ; and a case frame 11,12 having an opening  forming a battery pack mount portion  in which the battery pack  is mounted and a sheet plate  blocking the opening  at a backside of the battery pack mount portion ; wherein the battery pack  comprises: a battery cell ; and first and second support bodies 22, 23 supporting the battery cell  on opposing ends of the battery cell ; wherein when the battery pack  is mounted the first and second support bodies 22, 23 are supported by the battery pack mount portion .</p>"
            ]
          },
          "metadata": {}
        },
        {
          "output_type": "display_data",
          "data": {
            "text/plain": [
              "<IPython.core.display.HTML object>"
            ],
            "text/html": [
              "<h3>Greedy search claim (ROUGE-L = 96.7391304347826)</h3>"
            ]
          },
          "metadata": {}
        },
        {
          "output_type": "display_data",
          "data": {
            "text/plain": [
              "<IPython.core.display.HTML object>"
            ],
            "text/html": [
              "<p>An electronic device comprising: a battery pack; and a case frame having an opening forming a battery pack mount portion in which the battery pack is mounted and a sheet plate blocking the opening at a backside of the battery pack mount portion; wherein the battery pack comprises: a battery cell; and first and second support bodies supporting the battery cell on opposing ends of the battery cell; wherein when the battery pack is mounted the first and second support bodies are supported by the battery pack mount portion.</p>"
            ]
          },
          "metadata": {}
        },
        {
          "output_type": "display_data",
          "data": {
            "text/plain": [
              "<IPython.core.display.HTML object>"
            ],
            "text/html": [
              "<hr/>"
            ]
          },
          "metadata": {}
        },
        {
          "output_type": "display_data",
          "data": {
            "text/plain": [
              "<IPython.core.display.HTML object>"
            ],
            "text/html": [
              "<h3>Original claim</h3>"
            ]
          },
          "metadata": {}
        },
        {
          "output_type": "display_data",
          "data": {
            "text/plain": [
              "<IPython.core.display.HTML object>"
            ],
            "text/html": [
              "<p>a multi-level flow table search method, wherein the method comprises: extracting s101 matching information of a data packet when the data packet is received; selecting s102 a keyword from the matching information of the data packet according to flow-table match-field configuration information; searching s103 for a match field of each-level flow table in a multi-level flow table starting from a first-level flow table in the multi-level flow table by using the keyword as a search keyword, and matching the search keyword with the match field; and if matching s104 of a match field of a current-level flow table is completed, executing a corresponding instruction, and if the current-level flow table is not a last-level flow table or there is an instruction for executing an action, executing a corresponding action.</p>"
            ]
          },
          "metadata": {}
        },
        {
          "output_type": "display_data",
          "data": {
            "text/plain": [
              "<IPython.core.display.HTML object>"
            ],
            "text/html": [
              "<h3>Greedy search claim (ROUGE-L = 96.6789667896679)</h3>"
            ]
          },
          "metadata": {}
        },
        {
          "output_type": "display_data",
          "data": {
            "text/plain": [
              "<IPython.core.display.HTML object>"
            ],
            "text/html": [
              "<p>a multi-level flow table search method, comprising: extracting matching information of a data packet when the data packet is received; selecting a keyword from the matching information of the data packet according to flow-table match-field configuration information; searching for a match field of each-level flow table in a multi-level flow table starting from a first-level flow table in the multi-level flow table by using the keyword as a search keyword, and matching the search keyword with the match field; and if matching of a match field of a current-level flow table is completed, executing a corresponding instruction, and if the current-level flow table is not a last-level flow table or there is an instruction for executing an action, executing a corresponding action.</p>"
            ]
          },
          "metadata": {}
        },
        {
          "output_type": "display_data",
          "data": {
            "text/plain": [
              "<IPython.core.display.HTML object>"
            ],
            "text/html": [
              "<hr/>"
            ]
          },
          "metadata": {}
        },
        {
          "output_type": "display_data",
          "data": {
            "text/plain": [
              "<IPython.core.display.HTML object>"
            ],
            "text/html": [
              "<h2>Beam search gen</h1>"
            ]
          },
          "metadata": {}
        },
        {
          "output_type": "display_data",
          "data": {
            "text/plain": [
              "<IPython.core.display.HTML object>"
            ],
            "text/html": [
              "<h3>Original claim</h3>"
            ]
          },
          "metadata": {}
        },
        {
          "output_type": "display_data",
          "data": {
            "text/plain": [
              "<IPython.core.display.HTML object>"
            ],
            "text/html": [
              "<p>a method for signal compensation, comprising: receiving, by a receiver via n receiving antennas, a plurality of channel estimation preamble signals sent by m transmitting antennas of a remote transmitter, wherein the plurality of channel estimation preamble signals contain first pilot signals of the m transmitting antennas, and m and n are integers larger than 1; determining, by the receiver, channel estimation parameters from the m transmitting antennas to the n receiving antennas according to the first pilot signals of the m transmitting antennas contained in the plurality of channel estimation preamble signals; receiving, by the receiver via the n receiving antennas, data signals and second pilot signals sent on a first data symbol by the m transmitting antennas; determining, by the receiver, channel phase shift parameters from the m transmitting antennas to the n receiving antennas according to signals arrived at the n receiving antennas which come from the second pilot signals sent on the first data symbol by the m transmitting antennas; and determining, by the receiver according to the channel estimation parameters from the m transmitting antennas to the n receiving antennas and the channel phase shift parameters from the m transmitting antennas to the n receiving antennas, signal compensation for the data signals arrived at the n receiving antennas that are sent on the first data symbol by the m transmitting antennas.</p>"
            ]
          },
          "metadata": {}
        },
        {
          "output_type": "display_data",
          "data": {
            "text/plain": [
              "<IPython.core.display.HTML object>"
            ],
            "text/html": [
              "<h3>Beam search claim (ROUGE-L = 98.6842105263158)</h3>"
            ]
          },
          "metadata": {}
        },
        {
          "output_type": "display_data",
          "data": {
            "text/plain": [
              "<IPython.core.display.HTML object>"
            ],
            "text/html": [
              "<p>a method for signal compensation includes: receiving, by a receiver via n receiving antennas, a plurality of channel estimation preamble signals sent by m transmitting antennas of a remote transmitter, wherein the plurality of channel estimation preamble signals contain first pilot signals of the m transmitting antennas, and m and n are integers larger than 1; determining, by the receiver, channel estimation parameters from the m transmitting antennas to the n receiving antennas according to the first pilot signals of the m transmitting antennas contained in the plurality of channel estimation preamble signals; receiving, by the receiver via the n receiving antennas, data signals and second pilot signals sent on a first data symbol by the m transmitting antennas; determining, by the receiver, channel phase shift parameters from the m transmitting antennas to the n receiving antennas according to signals arrived at the n receiving antennas which come from the second pilot signals sent on the first data symbol by the m transmitting antennas; and determining, by the receiver according to the channel estimation parameters from the m transmitting antennas to the n receiving antennas and the channel phase shift parameters from the m transmitting antennas to the n receiving antennas, signal compensation for the data signals arrived at the n receiving antennas that are sent on the first data symbol by the m transmitting antennas, wherein m 1,m.</p>"
            ]
          },
          "metadata": {}
        },
        {
          "output_type": "display_data",
          "data": {
            "text/plain": [
              "<IPython.core.display.HTML object>"
            ],
            "text/html": [
              "<hr/>"
            ]
          },
          "metadata": {}
        },
        {
          "output_type": "display_data",
          "data": {
            "text/plain": [
              "<IPython.core.display.HTML object>"
            ],
            "text/html": [
              "<h3>Original claim</h3>"
            ]
          },
          "metadata": {}
        },
        {
          "output_type": "display_data",
          "data": {
            "text/plain": [
              "<IPython.core.display.HTML object>"
            ],
            "text/html": [
              "<p>an apparatus  for transmitting wireless data by using a display backlight, comprising: a data storage unit  configured to store data to be transmitted; a main control unit  configured to read the data stored in the data storage unit  and control operation of a signal modulation unit ; the signal modulation unit  being configured to modulate the read data with a predetermined signal modulation method to generate and output a sequence of pulses; a light source driving circuit  configured to generate a backlight driving pulse signal according to the sequence of pulses; and a display backlight member  configured to output a sequence of light and dark signals, driven by the backlight driving pulse signal, wherein the predetermined signal modulation method is a signal modulation method of variable pulse period modulation, wherein the pulse period is variable, a pulse with a first pulse width representing a first digital bit state and another pulse with a second pulse width representing a second digital bit state is transmitted in one period, the first pulse width is different from the second pulse width, the period representing the first digital bit state and the period representing the second digital bit state are also different, wherein a ratio of a pulse low level time to a pulse high level time during the digital bit is transmitted is smaller than a predetermined threshold.</p>"
            ]
          },
          "metadata": {}
        },
        {
          "output_type": "display_data",
          "data": {
            "text/plain": [
              "<IPython.core.display.HTML object>"
            ],
            "text/html": [
              "<h3>Beam search claim (ROUGE-L = 98.45474613686534)</h3>"
            ]
          },
          "metadata": {}
        },
        {
          "output_type": "display_data",
          "data": {
            "text/plain": [
              "<IPython.core.display.HTML object>"
            ],
            "text/html": [
              "<p>An apparatus for transmitting wireless data by using a display backlight, comprising: a data storage unit configured to store data to be transmitted; a main control unit configured to read and control the data stored in the data storage unit and to control an operation of a signal modulation unit; with the signal modulation unit being configured to modulate the read data with a predetermined signal modulation method to generate and output a sequence of pulses; a light source driving circuit configured to generate a backlight driving pulse signal according to the sequence of pulses; and a display backlight member configured to output a sequence of light and dark signals, driven by the backlight driving pulse signal; wherein the predetermined signal modulation method is a signal modulation method of variable pulse period modulation, wherein the pulse period is variable, a pulse with a first pulse width representing a first digital bit state and another pulse with a second pulse width representing a second digital bit state is transmitted in one period, the first pulse width is different from the second pulse width, the period representing the first digital bit state and the period representing the second digital bit state are also different, wherein a ratio of a pulse low level time to a pulse high level time during the digital bit being transmitted is smaller than a predetermined threshold.</p>"
            ]
          },
          "metadata": {}
        },
        {
          "output_type": "display_data",
          "data": {
            "text/plain": [
              "<IPython.core.display.HTML object>"
            ],
            "text/html": [
              "<hr/>"
            ]
          },
          "metadata": {}
        },
        {
          "output_type": "display_data",
          "data": {
            "text/plain": [
              "<IPython.core.display.HTML object>"
            ],
            "text/html": [
              "<h3>Original claim</h3>"
            ]
          },
          "metadata": {}
        },
        {
          "output_type": "display_data",
          "data": {
            "text/plain": [
              "<IPython.core.display.HTML object>"
            ],
            "text/html": [
              "<p>a signal processing method, comprising: detecting s1, according to a check relationship set during forward error correction coding, whether a phase jump occurs in a data segment of a signal, and a quantity of degrees of the occurring phase jump; performing s2, according to the quantity of degrees of the phase jump, a phase correction on the data segment in which the phase jump occurs; performing s3 a confidence correction on the data segment in which the phase jump occurs and on which the phase correction has been performed, wherein the confidence correction refers to reduction of confidence; and performing s4 a forward error correction decision decoding on the data segment on which the confidence correction has been performed and based on the confidence of the data segment, to output the processed data segment.</p>"
            ]
          },
          "metadata": {}
        },
        {
          "output_type": "display_data",
          "data": {
            "text/plain": [
              "<IPython.core.display.HTML object>"
            ],
            "text/html": [
              "<h3>Beam search claim (ROUGE-L = 97.31800766283524)</h3>"
            ]
          },
          "metadata": {}
        },
        {
          "output_type": "display_data",
          "data": {
            "text/plain": [
              "<IPython.core.display.HTML object>"
            ],
            "text/html": [
              "<p>a signal processing method, comprising: detecting, according to a check relationship set during forward error correction coding, whether a phase jump occurs in a data segment of a signal, and a quantity of degrees of the occurring phase jump; performing, according to the quantity of degrees of the phase jump, phase correction on the data segment in which the phase jump occurs; performing confidence correction on the data segment in which the phase jump occurs and on which the phase correction has been performed, wherein the confidence correction refers to reduction of confidence; and performing forward error correction decision decoding on the data segment on which the confidence correction has been performed and based on the confidence of the data segment, to output the processed data segment.</p>"
            ]
          },
          "metadata": {}
        },
        {
          "output_type": "display_data",
          "data": {
            "text/plain": [
              "<IPython.core.display.HTML object>"
            ],
            "text/html": [
              "<hr/>"
            ]
          },
          "metadata": {}
        },
        {
          "output_type": "display_data",
          "data": {
            "text/plain": [
              "<IPython.core.display.HTML object>"
            ],
            "text/html": [
              "<h3>Original claim</h3>"
            ]
          },
          "metadata": {}
        },
        {
          "output_type": "display_data",
          "data": {
            "text/plain": [
              "<IPython.core.display.HTML object>"
            ],
            "text/html": [
              "<p>an electronic device  comprising: a battery pack ; and a case frame 11,12 having an opening  forming a battery pack mount portion  in which the battery pack  is mounted and a sheet plate  blocking the opening  at a backside of the battery pack mount portion ; wherein the battery pack  comprises: a battery cell ; and first and second support bodies 22, 23 supporting the battery cell  on opposing ends of the battery cell ; wherein when the battery pack  is mounted the first and second support bodies 22, 23 are supported by the battery pack mount portion .</p>"
            ]
          },
          "metadata": {}
        },
        {
          "output_type": "display_data",
          "data": {
            "text/plain": [
              "<IPython.core.display.HTML object>"
            ],
            "text/html": [
              "<h3>Beam search claim (ROUGE-L = 96.7391304347826)</h3>"
            ]
          },
          "metadata": {}
        },
        {
          "output_type": "display_data",
          "data": {
            "text/plain": [
              "<IPython.core.display.HTML object>"
            ],
            "text/html": [
              "<p>An electronic device comprising: a battery pack; and a case frame having an opening forming a battery pack mount portion in which the battery pack is mounted and a sheet plate blocking the opening at a backside of the battery pack mount portion; wherein the battery pack comprises: a battery cell; and first and second support bodies supporting the battery cell on opposing ends of the battery cell; wherein when the battery pack is mounted the first and second support bodies are supported by the battery pack mount portion.</p>"
            ]
          },
          "metadata": {}
        },
        {
          "output_type": "display_data",
          "data": {
            "text/plain": [
              "<IPython.core.display.HTML object>"
            ],
            "text/html": [
              "<hr/>"
            ]
          },
          "metadata": {}
        },
        {
          "output_type": "display_data",
          "data": {
            "text/plain": [
              "<IPython.core.display.HTML object>"
            ],
            "text/html": [
              "<h3>Original claim</h3>"
            ]
          },
          "metadata": {}
        },
        {
          "output_type": "display_data",
          "data": {
            "text/plain": [
              "<IPython.core.display.HTML object>"
            ],
            "text/html": [
              "<p>a multi-level flow table search method, wherein the method comprises: extracting s101 matching information of a data packet when the data packet is received; selecting s102 a keyword from the matching information of the data packet according to flow-table match-field configuration information; searching s103 for a match field of each-level flow table in a multi-level flow table starting from a first-level flow table in the multi-level flow table by using the keyword as a search keyword, and matching the search keyword with the match field; and if matching s104 of a match field of a current-level flow table is completed, executing a corresponding instruction, and if the current-level flow table is not a last-level flow table or there is an instruction for executing an action, executing a corresponding action.</p>"
            ]
          },
          "metadata": {}
        },
        {
          "output_type": "display_data",
          "data": {
            "text/plain": [
              "<IPython.core.display.HTML object>"
            ],
            "text/html": [
              "<h3>Beam search claim (ROUGE-L = 96.6789667896679)</h3>"
            ]
          },
          "metadata": {}
        },
        {
          "output_type": "display_data",
          "data": {
            "text/plain": [
              "<IPython.core.display.HTML object>"
            ],
            "text/html": [
              "<p>a multi-level flow table search method, comprising: extracting matching information of a data packet when the data packet is received; selecting a keyword from the matching information of the data packet according to flow-table match-field configuration information; searching for a match field of each-level flow table in a multi-level flow table starting from a first-level flow table in the multi-level flow table by using the keyword as a search keyword, and matching the search keyword with the match field; and if matching of a match field of a current-level flow table is completed, executing a corresponding instruction, and if the current-level flow table is not a last-level flow table or there is an instruction for executing an action, executing a corresponding action.</p>"
            ]
          },
          "metadata": {}
        },
        {
          "output_type": "display_data",
          "data": {
            "text/plain": [
              "<IPython.core.display.HTML object>"
            ],
            "text/html": [
              "<hr/>"
            ]
          },
          "metadata": {}
        }
      ]
    }
  ],
  "metadata": {
    "kernelspec": {
      "display_name": "Python 3 (ipykernel)",
      "language": "python",
      "name": "python3"
    },
    "language_info": {
      "codemirror_mode": {
        "name": "ipython",
        "version": 3
      },
      "file_extension": ".py",
      "mimetype": "text/x-python",
      "name": "python",
      "nbconvert_exporter": "python",
      "pygments_lexer": "ipython3",
      "version": "3.9.7"
    },
    "colab": {
      "name": "error_analysis.ipynb",
      "provenance": [],
      "collapsed_sections": []
    }
  },
  "nbformat": 4,
  "nbformat_minor": 5
}