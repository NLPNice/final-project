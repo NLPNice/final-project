{
 "cells": [
  {
   "cell_type": "code",
   "execution_count": 1,
   "metadata": {},
   "outputs": [],
   "source": [
    "import pandas as pd"
   ]
  },
  {
   "cell_type": "code",
   "execution_count": 2,
   "metadata": {},
   "outputs": [],
   "source": [
    "data= pd.read_csv('EP3700000.txt', sep='\\t', header=None, names = [\"PatenType\", \"PatentNumber\", \"PublicationType\", \"Date\", \"Language\", \"Part\", \"Number\", \"Contents\"])"
   ]
  },
  {
   "cell_type": "code",
   "execution_count": 3,
   "metadata": {},
   "outputs": [
    {
     "data": {
      "text/html": [
       "<div>\n",
       "<style scoped>\n",
       "    .dataframe tbody tr th:only-of-type {\n",
       "        vertical-align: middle;\n",
       "    }\n",
       "\n",
       "    .dataframe tbody tr th {\n",
       "        vertical-align: top;\n",
       "    }\n",
       "\n",
       "    .dataframe thead th {\n",
       "        text-align: right;\n",
       "    }\n",
       "</style>\n",
       "<table border=\"1\" class=\"dataframe\">\n",
       "  <thead>\n",
       "    <tr style=\"text-align: right;\">\n",
       "      <th></th>\n",
       "      <th>PatenType</th>\n",
       "      <th>PatentNumber</th>\n",
       "      <th>PublicationType</th>\n",
       "      <th>Date</th>\n",
       "      <th>Language</th>\n",
       "      <th>Part</th>\n",
       "      <th>Number</th>\n",
       "      <th>Contents</th>\n",
       "    </tr>\n",
       "  </thead>\n",
       "  <tbody>\n",
       "    <tr>\n",
       "      <th>0</th>\n",
       "      <td>EP</td>\n",
       "      <td>3700031</td>\n",
       "      <td>A1</td>\n",
       "      <td>2020-08-26</td>\n",
       "      <td>de</td>\n",
       "      <td>TITLE</td>\n",
       "      <td>1</td>\n",
       "      <td>KABELRINNENABSCHNITT</td>\n",
       "    </tr>\n",
       "    <tr>\n",
       "      <th>1</th>\n",
       "      <td>EP</td>\n",
       "      <td>3700031</td>\n",
       "      <td>A1</td>\n",
       "      <td>2020-08-26</td>\n",
       "      <td>en</td>\n",
       "      <td>TITLE</td>\n",
       "      <td>1</td>\n",
       "      <td>CABLE TRAY SECTION</td>\n",
       "    </tr>\n",
       "    <tr>\n",
       "      <th>2</th>\n",
       "      <td>EP</td>\n",
       "      <td>3700031</td>\n",
       "      <td>A1</td>\n",
       "      <td>2020-08-26</td>\n",
       "      <td>fr</td>\n",
       "      <td>TITLE</td>\n",
       "      <td>1</td>\n",
       "      <td>ÉLÉMENT DE CHEMIN DE CÂBLES</td>\n",
       "    </tr>\n",
       "    <tr>\n",
       "      <th>3</th>\n",
       "      <td>EP</td>\n",
       "      <td>3700031</td>\n",
       "      <td>A1</td>\n",
       "      <td>2020-08-26</td>\n",
       "      <td>en</td>\n",
       "      <td>ABSTR</td>\n",
       "      <td>1</td>\n",
       "      <td>&lt;p id=\"pa01\" num=\"0001\"&gt;The present invention ...</td>\n",
       "    </tr>\n",
       "    <tr>\n",
       "      <th>4</th>\n",
       "      <td>EP</td>\n",
       "      <td>3700031</td>\n",
       "      <td>A1</td>\n",
       "      <td>2020-08-26</td>\n",
       "      <td>en</td>\n",
       "      <td>DESCR</td>\n",
       "      <td>1</td>\n",
       "      <td>&lt;!-- EPO &lt;DP n=\"1\"&gt; --&gt;&lt;heading id=\"h0001\"&gt;&lt;u&gt;...</td>\n",
       "    </tr>\n",
       "  </tbody>\n",
       "</table>\n",
       "</div>"
      ],
      "text/plain": [
       "  PatenType  PatentNumber PublicationType        Date Language   Part  Number  \\\n",
       "0        EP       3700031              A1  2020-08-26       de  TITLE       1   \n",
       "1        EP       3700031              A1  2020-08-26       en  TITLE       1   \n",
       "2        EP       3700031              A1  2020-08-26       fr  TITLE       1   \n",
       "3        EP       3700031              A1  2020-08-26       en  ABSTR       1   \n",
       "4        EP       3700031              A1  2020-08-26       en  DESCR       1   \n",
       "\n",
       "                                            Contents  \n",
       "0                               KABELRINNENABSCHNITT  \n",
       "1                                 CABLE TRAY SECTION  \n",
       "2                        ÉLÉMENT DE CHEMIN DE CÂBLES  \n",
       "3  <p id=\"pa01\" num=\"0001\">The present invention ...  \n",
       "4  <!-- EPO <DP n=\"1\"> --><heading id=\"h0001\"><u>...  "
      ]
     },
     "execution_count": 3,
     "metadata": {},
     "output_type": "execute_result"
    }
   ],
   "source": [
    "data.head()"
   ]
  },
  {
   "cell_type": "code",
   "execution_count": null,
   "metadata": {},
   "outputs": [],
   "source": []
  },
  {
   "cell_type": "code",
   "execution_count": 4,
   "metadata": {},
   "outputs": [],
   "source": [
    "data = data.loc[data[\"Language\"] == \"en\"]"
   ]
  },
  {
   "cell_type": "code",
   "execution_count": 5,
   "metadata": {},
   "outputs": [
    {
     "data": {
      "text/html": [
       "<div>\n",
       "<style scoped>\n",
       "    .dataframe tbody tr th:only-of-type {\n",
       "        vertical-align: middle;\n",
       "    }\n",
       "\n",
       "    .dataframe tbody tr th {\n",
       "        vertical-align: top;\n",
       "    }\n",
       "\n",
       "    .dataframe thead th {\n",
       "        text-align: right;\n",
       "    }\n",
       "</style>\n",
       "<table border=\"1\" class=\"dataframe\">\n",
       "  <thead>\n",
       "    <tr style=\"text-align: right;\">\n",
       "      <th></th>\n",
       "      <th>PatenType</th>\n",
       "      <th>PatentNumber</th>\n",
       "      <th>PublicationType</th>\n",
       "      <th>Date</th>\n",
       "      <th>Language</th>\n",
       "      <th>Part</th>\n",
       "      <th>Number</th>\n",
       "      <th>Contents</th>\n",
       "    </tr>\n",
       "  </thead>\n",
       "  <tbody>\n",
       "    <tr>\n",
       "      <th>1</th>\n",
       "      <td>EP</td>\n",
       "      <td>3700031</td>\n",
       "      <td>A1</td>\n",
       "      <td>2020-08-26</td>\n",
       "      <td>en</td>\n",
       "      <td>TITLE</td>\n",
       "      <td>1</td>\n",
       "      <td>CABLE TRAY SECTION</td>\n",
       "    </tr>\n",
       "    <tr>\n",
       "      <th>3</th>\n",
       "      <td>EP</td>\n",
       "      <td>3700031</td>\n",
       "      <td>A1</td>\n",
       "      <td>2020-08-26</td>\n",
       "      <td>en</td>\n",
       "      <td>ABSTR</td>\n",
       "      <td>1</td>\n",
       "      <td>&lt;p id=\"pa01\" num=\"0001\"&gt;The present invention ...</td>\n",
       "    </tr>\n",
       "    <tr>\n",
       "      <th>4</th>\n",
       "      <td>EP</td>\n",
       "      <td>3700031</td>\n",
       "      <td>A1</td>\n",
       "      <td>2020-08-26</td>\n",
       "      <td>en</td>\n",
       "      <td>DESCR</td>\n",
       "      <td>1</td>\n",
       "      <td>&lt;!-- EPO &lt;DP n=\"1\"&gt; --&gt;&lt;heading id=\"h0001\"&gt;&lt;u&gt;...</td>\n",
       "    </tr>\n",
       "    <tr>\n",
       "      <th>5</th>\n",
       "      <td>EP</td>\n",
       "      <td>3700031</td>\n",
       "      <td>A1</td>\n",
       "      <td>2020-08-26</td>\n",
       "      <td>en</td>\n",
       "      <td>CLAIM</td>\n",
       "      <td>1</td>\n",
       "      <td>&lt;!-- EPO &lt;DP n=\"7\"&gt; --&gt;&lt;claim id=\"c-en-0001\" n...</td>\n",
       "    </tr>\n",
       "    <tr>\n",
       "      <th>6</th>\n",
       "      <td>EP</td>\n",
       "      <td>3700031</td>\n",
       "      <td>A1</td>\n",
       "      <td>2020-08-26</td>\n",
       "      <td>en</td>\n",
       "      <td>PDFEP</td>\n",
       "      <td>1</td>\n",
       "      <td>https://data.epo.org/publication-server/pdf-do...</td>\n",
       "    </tr>\n",
       "  </tbody>\n",
       "</table>\n",
       "</div>"
      ],
      "text/plain": [
       "  PatenType  PatentNumber PublicationType        Date Language   Part  Number  \\\n",
       "1        EP       3700031              A1  2020-08-26       en  TITLE       1   \n",
       "3        EP       3700031              A1  2020-08-26       en  ABSTR       1   \n",
       "4        EP       3700031              A1  2020-08-26       en  DESCR       1   \n",
       "5        EP       3700031              A1  2020-08-26       en  CLAIM       1   \n",
       "6        EP       3700031              A1  2020-08-26       en  PDFEP       1   \n",
       "\n",
       "                                            Contents  \n",
       "1                                 CABLE TRAY SECTION  \n",
       "3  <p id=\"pa01\" num=\"0001\">The present invention ...  \n",
       "4  <!-- EPO <DP n=\"1\"> --><heading id=\"h0001\"><u>...  \n",
       "5  <!-- EPO <DP n=\"7\"> --><claim id=\"c-en-0001\" n...  \n",
       "6  https://data.epo.org/publication-server/pdf-do...  "
      ]
     },
     "execution_count": 5,
     "metadata": {},
     "output_type": "execute_result"
    }
   ],
   "source": [
    "data.head()"
   ]
  },
  {
   "cell_type": "code",
   "execution_count": 6,
   "metadata": {},
   "outputs": [],
   "source": [
    "data = data.loc[data[\"Part\"] != \"PDFEP\"]"
   ]
  },
  {
   "cell_type": "code",
   "execution_count": 7,
   "metadata": {},
   "outputs": [
    {
     "data": {
      "text/html": [
       "<div>\n",
       "<style scoped>\n",
       "    .dataframe tbody tr th:only-of-type {\n",
       "        vertical-align: middle;\n",
       "    }\n",
       "\n",
       "    .dataframe tbody tr th {\n",
       "        vertical-align: top;\n",
       "    }\n",
       "\n",
       "    .dataframe thead th {\n",
       "        text-align: right;\n",
       "    }\n",
       "</style>\n",
       "<table border=\"1\" class=\"dataframe\">\n",
       "  <thead>\n",
       "    <tr style=\"text-align: right;\">\n",
       "      <th></th>\n",
       "      <th>index</th>\n",
       "      <th>PatenType</th>\n",
       "      <th>PatentNumber</th>\n",
       "      <th>PublicationType</th>\n",
       "      <th>Date</th>\n",
       "      <th>Language</th>\n",
       "      <th>Part</th>\n",
       "      <th>Number</th>\n",
       "      <th>Contents</th>\n",
       "    </tr>\n",
       "  </thead>\n",
       "  <tbody>\n",
       "    <tr>\n",
       "      <th>0</th>\n",
       "      <td>1</td>\n",
       "      <td>EP</td>\n",
       "      <td>3700031</td>\n",
       "      <td>A1</td>\n",
       "      <td>2020-08-26</td>\n",
       "      <td>en</td>\n",
       "      <td>TITLE</td>\n",
       "      <td>1</td>\n",
       "      <td>CABLE TRAY SECTION</td>\n",
       "    </tr>\n",
       "    <tr>\n",
       "      <th>1</th>\n",
       "      <td>3</td>\n",
       "      <td>EP</td>\n",
       "      <td>3700031</td>\n",
       "      <td>A1</td>\n",
       "      <td>2020-08-26</td>\n",
       "      <td>en</td>\n",
       "      <td>ABSTR</td>\n",
       "      <td>1</td>\n",
       "      <td>&lt;p id=\"pa01\" num=\"0001\"&gt;The present invention ...</td>\n",
       "    </tr>\n",
       "    <tr>\n",
       "      <th>2</th>\n",
       "      <td>4</td>\n",
       "      <td>EP</td>\n",
       "      <td>3700031</td>\n",
       "      <td>A1</td>\n",
       "      <td>2020-08-26</td>\n",
       "      <td>en</td>\n",
       "      <td>DESCR</td>\n",
       "      <td>1</td>\n",
       "      <td>&lt;!-- EPO &lt;DP n=\"1\"&gt; --&gt;&lt;heading id=\"h0001\"&gt;&lt;u&gt;...</td>\n",
       "    </tr>\n",
       "    <tr>\n",
       "      <th>3</th>\n",
       "      <td>5</td>\n",
       "      <td>EP</td>\n",
       "      <td>3700031</td>\n",
       "      <td>A1</td>\n",
       "      <td>2020-08-26</td>\n",
       "      <td>en</td>\n",
       "      <td>CLAIM</td>\n",
       "      <td>1</td>\n",
       "      <td>&lt;!-- EPO &lt;DP n=\"7\"&gt; --&gt;&lt;claim id=\"c-en-0001\" n...</td>\n",
       "    </tr>\n",
       "    <tr>\n",
       "      <th>4</th>\n",
       "      <td>8</td>\n",
       "      <td>EP</td>\n",
       "      <td>3700032</td>\n",
       "      <td>A1</td>\n",
       "      <td>2020-08-26</td>\n",
       "      <td>en</td>\n",
       "      <td>TITLE</td>\n",
       "      <td>1</td>\n",
       "      <td>CABLE TRAY SECTION</td>\n",
       "    </tr>\n",
       "  </tbody>\n",
       "</table>\n",
       "</div>"
      ],
      "text/plain": [
       "   index PatenType  PatentNumber PublicationType        Date Language   Part  \\\n",
       "0      1        EP       3700031              A1  2020-08-26       en  TITLE   \n",
       "1      3        EP       3700031              A1  2020-08-26       en  ABSTR   \n",
       "2      4        EP       3700031              A1  2020-08-26       en  DESCR   \n",
       "3      5        EP       3700031              A1  2020-08-26       en  CLAIM   \n",
       "4      8        EP       3700032              A1  2020-08-26       en  TITLE   \n",
       "\n",
       "   Number                                           Contents  \n",
       "0       1                                 CABLE TRAY SECTION  \n",
       "1       1  <p id=\"pa01\" num=\"0001\">The present invention ...  \n",
       "2       1  <!-- EPO <DP n=\"1\"> --><heading id=\"h0001\"><u>...  \n",
       "3       1  <!-- EPO <DP n=\"7\"> --><claim id=\"c-en-0001\" n...  \n",
       "4       1                                 CABLE TRAY SECTION  "
      ]
     },
     "execution_count": 7,
     "metadata": {},
     "output_type": "execute_result"
    }
   ],
   "source": [
    "data = data.reset_index()\n",
    "data.head()"
   ]
  },
  {
   "cell_type": "code",
   "execution_count": 82,
   "metadata": {},
   "outputs": [],
   "source": [
    "df_Titles = data.loc[data[\"Part\"] == \"TITLE\"]\n",
    "df_Abstr = data.loc[data[\"Part\"] == \"ABSTR\"]\n",
    "df_Descr = data.loc[data[\"Part\"] == \"DESCR\"]\n",
    "df_Claim = data[data[\"Part\"] == \"CLAIM\"]"
   ]
  },
  {
   "cell_type": "code",
   "execution_count": 85,
   "metadata": {},
   "outputs": [
    {
     "ename": "KeyError",
     "evalue": "0",
     "output_type": "error",
     "traceback": [
      "\u001b[1;31m---------------------------------------------------------------------------\u001b[0m",
      "\u001b[1;31mKeyError\u001b[0m                                  Traceback (most recent call last)",
      "\u001b[1;32m~\\anaconda3\\lib\\site-packages\\pandas\\core\\indexes\\base.py\u001b[0m in \u001b[0;36mget_loc\u001b[1;34m(self, key, method, tolerance)\u001b[0m\n\u001b[0;32m   3360\u001b[0m             \u001b[1;32mtry\u001b[0m\u001b[1;33m:\u001b[0m\u001b[1;33m\u001b[0m\u001b[1;33m\u001b[0m\u001b[0m\n\u001b[1;32m-> 3361\u001b[1;33m                 \u001b[1;32mreturn\u001b[0m \u001b[0mself\u001b[0m\u001b[1;33m.\u001b[0m\u001b[0m_engine\u001b[0m\u001b[1;33m.\u001b[0m\u001b[0mget_loc\u001b[0m\u001b[1;33m(\u001b[0m\u001b[0mcasted_key\u001b[0m\u001b[1;33m)\u001b[0m\u001b[1;33m\u001b[0m\u001b[1;33m\u001b[0m\u001b[0m\n\u001b[0m\u001b[0;32m   3362\u001b[0m             \u001b[1;32mexcept\u001b[0m \u001b[0mKeyError\u001b[0m \u001b[1;32mas\u001b[0m \u001b[0merr\u001b[0m\u001b[1;33m:\u001b[0m\u001b[1;33m\u001b[0m\u001b[1;33m\u001b[0m\u001b[0m\n",
      "\u001b[1;32m~\\anaconda3\\lib\\site-packages\\pandas\\_libs\\index.pyx\u001b[0m in \u001b[0;36mpandas._libs.index.IndexEngine.get_loc\u001b[1;34m()\u001b[0m\n",
      "\u001b[1;32m~\\anaconda3\\lib\\site-packages\\pandas\\_libs\\index.pyx\u001b[0m in \u001b[0;36mpandas._libs.index.IndexEngine.get_loc\u001b[1;34m()\u001b[0m\n",
      "\u001b[1;32mpandas\\_libs\\hashtable_class_helper.pxi\u001b[0m in \u001b[0;36mpandas._libs.hashtable.Int64HashTable.get_item\u001b[1;34m()\u001b[0m\n",
      "\u001b[1;32mpandas\\_libs\\hashtable_class_helper.pxi\u001b[0m in \u001b[0;36mpandas._libs.hashtable.Int64HashTable.get_item\u001b[1;34m()\u001b[0m\n",
      "\u001b[1;31mKeyError\u001b[0m: 0",
      "\nThe above exception was the direct cause of the following exception:\n",
      "\u001b[1;31mKeyError\u001b[0m                                  Traceback (most recent call last)",
      "\u001b[1;32m<ipython-input-85-1ced27c8c0b9>\u001b[0m in \u001b[0;36m<module>\u001b[1;34m\u001b[0m\n\u001b[1;32m----> 1\u001b[1;33m \u001b[0mdf_Abstr\u001b[0m\u001b[1;33m[\u001b[0m\u001b[1;34m\"Contents\"\u001b[0m\u001b[1;33m]\u001b[0m\u001b[1;33m[\u001b[0m\u001b[1;36m0\u001b[0m\u001b[1;33m]\u001b[0m\u001b[1;33m\u001b[0m\u001b[1;33m\u001b[0m\u001b[0m\n\u001b[0m",
      "\u001b[1;32m~\\anaconda3\\lib\\site-packages\\pandas\\core\\series.py\u001b[0m in \u001b[0;36m__getitem__\u001b[1;34m(self, key)\u001b[0m\n\u001b[0;32m    940\u001b[0m \u001b[1;33m\u001b[0m\u001b[0m\n\u001b[0;32m    941\u001b[0m         \u001b[1;32melif\u001b[0m \u001b[0mkey_is_scalar\u001b[0m\u001b[1;33m:\u001b[0m\u001b[1;33m\u001b[0m\u001b[1;33m\u001b[0m\u001b[0m\n\u001b[1;32m--> 942\u001b[1;33m             \u001b[1;32mreturn\u001b[0m \u001b[0mself\u001b[0m\u001b[1;33m.\u001b[0m\u001b[0m_get_value\u001b[0m\u001b[1;33m(\u001b[0m\u001b[0mkey\u001b[0m\u001b[1;33m)\u001b[0m\u001b[1;33m\u001b[0m\u001b[1;33m\u001b[0m\u001b[0m\n\u001b[0m\u001b[0;32m    943\u001b[0m \u001b[1;33m\u001b[0m\u001b[0m\n\u001b[0;32m    944\u001b[0m         \u001b[1;32mif\u001b[0m \u001b[0mis_hashable\u001b[0m\u001b[1;33m(\u001b[0m\u001b[0mkey\u001b[0m\u001b[1;33m)\u001b[0m\u001b[1;33m:\u001b[0m\u001b[1;33m\u001b[0m\u001b[1;33m\u001b[0m\u001b[0m\n",
      "\u001b[1;32m~\\anaconda3\\lib\\site-packages\\pandas\\core\\series.py\u001b[0m in \u001b[0;36m_get_value\u001b[1;34m(self, label, takeable)\u001b[0m\n\u001b[0;32m   1049\u001b[0m \u001b[1;33m\u001b[0m\u001b[0m\n\u001b[0;32m   1050\u001b[0m         \u001b[1;31m# Similar to Index.get_value, but we do not fall back to positional\u001b[0m\u001b[1;33m\u001b[0m\u001b[1;33m\u001b[0m\u001b[1;33m\u001b[0m\u001b[0m\n\u001b[1;32m-> 1051\u001b[1;33m         \u001b[0mloc\u001b[0m \u001b[1;33m=\u001b[0m \u001b[0mself\u001b[0m\u001b[1;33m.\u001b[0m\u001b[0mindex\u001b[0m\u001b[1;33m.\u001b[0m\u001b[0mget_loc\u001b[0m\u001b[1;33m(\u001b[0m\u001b[0mlabel\u001b[0m\u001b[1;33m)\u001b[0m\u001b[1;33m\u001b[0m\u001b[1;33m\u001b[0m\u001b[0m\n\u001b[0m\u001b[0;32m   1052\u001b[0m         \u001b[1;32mreturn\u001b[0m \u001b[0mself\u001b[0m\u001b[1;33m.\u001b[0m\u001b[0mindex\u001b[0m\u001b[1;33m.\u001b[0m\u001b[0m_get_values_for_loc\u001b[0m\u001b[1;33m(\u001b[0m\u001b[0mself\u001b[0m\u001b[1;33m,\u001b[0m \u001b[0mloc\u001b[0m\u001b[1;33m,\u001b[0m \u001b[0mlabel\u001b[0m\u001b[1;33m)\u001b[0m\u001b[1;33m\u001b[0m\u001b[1;33m\u001b[0m\u001b[0m\n\u001b[0;32m   1053\u001b[0m \u001b[1;33m\u001b[0m\u001b[0m\n",
      "\u001b[1;32m~\\anaconda3\\lib\\site-packages\\pandas\\core\\indexes\\base.py\u001b[0m in \u001b[0;36mget_loc\u001b[1;34m(self, key, method, tolerance)\u001b[0m\n\u001b[0;32m   3361\u001b[0m                 \u001b[1;32mreturn\u001b[0m \u001b[0mself\u001b[0m\u001b[1;33m.\u001b[0m\u001b[0m_engine\u001b[0m\u001b[1;33m.\u001b[0m\u001b[0mget_loc\u001b[0m\u001b[1;33m(\u001b[0m\u001b[0mcasted_key\u001b[0m\u001b[1;33m)\u001b[0m\u001b[1;33m\u001b[0m\u001b[1;33m\u001b[0m\u001b[0m\n\u001b[0;32m   3362\u001b[0m             \u001b[1;32mexcept\u001b[0m \u001b[0mKeyError\u001b[0m \u001b[1;32mas\u001b[0m \u001b[0merr\u001b[0m\u001b[1;33m:\u001b[0m\u001b[1;33m\u001b[0m\u001b[1;33m\u001b[0m\u001b[0m\n\u001b[1;32m-> 3363\u001b[1;33m                 \u001b[1;32mraise\u001b[0m \u001b[0mKeyError\u001b[0m\u001b[1;33m(\u001b[0m\u001b[0mkey\u001b[0m\u001b[1;33m)\u001b[0m \u001b[1;32mfrom\u001b[0m \u001b[0merr\u001b[0m\u001b[1;33m\u001b[0m\u001b[1;33m\u001b[0m\u001b[0m\n\u001b[0m\u001b[0;32m   3364\u001b[0m \u001b[1;33m\u001b[0m\u001b[0m\n\u001b[0;32m   3365\u001b[0m         \u001b[1;32mif\u001b[0m \u001b[0mis_scalar\u001b[0m\u001b[1;33m(\u001b[0m\u001b[0mkey\u001b[0m\u001b[1;33m)\u001b[0m \u001b[1;32mand\u001b[0m \u001b[0misna\u001b[0m\u001b[1;33m(\u001b[0m\u001b[0mkey\u001b[0m\u001b[1;33m)\u001b[0m \u001b[1;32mand\u001b[0m \u001b[1;32mnot\u001b[0m \u001b[0mself\u001b[0m\u001b[1;33m.\u001b[0m\u001b[0mhasnans\u001b[0m\u001b[1;33m:\u001b[0m\u001b[1;33m\u001b[0m\u001b[1;33m\u001b[0m\u001b[0m\n",
      "\u001b[1;31mKeyError\u001b[0m: 0"
     ]
    }
   ],
   "source": [
    "df_Abstr[\"Contents\"][0]"
   ]
  },
  {
   "cell_type": "code",
   "execution_count": 75,
   "metadata": {},
   "outputs": [],
   "source": [
    "from lxml import etree, html"
   ]
  },
  {
   "cell_type": "code",
   "execution_count": null,
   "metadata": {},
   "outputs": [],
   "source": [
    "fun = lambda\n",
    "tree = html.fromstring(string)"
   ]
  },
  {
   "cell_type": "code",
   "execution_count": 72,
   "metadata": {},
   "outputs": [
    {
     "data": {
      "text/plain": [
       "2320"
      ]
     },
     "execution_count": 72,
     "metadata": {},
     "output_type": "execute_result"
    }
   ],
   "source": [
    "description_whole_text = tree.xpath(\"//text()\")\n",
    "\n",
    "# text is extracted on a list of strings\n",
    "# strip all elements\n",
    "description_whole_text = map(lambda s: s.strip(), description_whole_text)\n",
    "# remove empty strings\n",
    "description_whole_text = filter(lambda s: len(s) > 0, description_whole_text)\n",
    "description_whole_text = list(description_whole_text)\n",
    "\n",
    "len(''.join(description_whole_text).split())"
   ]
  },
  {
   "cell_type": "code",
   "execution_count": null,
   "metadata": {},
   "outputs": [],
   "source": []
  }
 ],
 "metadata": {
  "kernelspec": {
   "display_name": "Python 3",
   "language": "python",
   "name": "python3"
  },
  "language_info": {
   "codemirror_mode": {
    "name": "ipython",
    "version": 3
   },
   "file_extension": ".py",
   "mimetype": "text/x-python",
   "name": "python",
   "nbconvert_exporter": "python",
   "pygments_lexer": "ipython3",
   "version": "3.8.5"
  }
 },
 "nbformat": 4,
 "nbformat_minor": 4
}
