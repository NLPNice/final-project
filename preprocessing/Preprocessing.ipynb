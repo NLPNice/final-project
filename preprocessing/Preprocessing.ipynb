{
 "cells": [
  {
   "cell_type": "markdown",
   "metadata": {},
   "source": [
    "# Data preprocessing"
   ]
  },
  {
   "cell_type": "code",
   "execution_count": 1,
   "metadata": {},
   "outputs": [],
   "source": [
    "import pandas as pd\n",
    "import numpy as np\n",
    "import json\n",
    "\n",
    "claim_path = \"../data/out_claim.zip\"\n",
    "title_path = \"../data/out_title.zip\"\n",
    "description_path = \"../data/out_descr.zip\""
   ]
  },
  {
   "cell_type": "markdown",
   "metadata": {},
   "source": [
    "Load all the data into the dataframe `df`. Join all the different dataframes (claims, titles, descriptions) into a unique dataframe."
   ]
  },
  {
   "cell_type": "code",
   "execution_count": 2,
   "metadata": {},
   "outputs": [],
   "source": [
    "df = pd.read_csv(claim_path, compression=\"zip\") \\\n",
    "         .drop(columns=[\"Unnamed: 0\", \"Language\", \"PatenType\", \"PublicationType\", \"Language\", \"Part\", \"Number\"]) \\\n",
    "         .rename(columns={\"Contents\": \"claims\"}).rename(str.lower, axis=\"columns\") \\\n",
    "         .set_index(\"patentnumber\")"
   ]
  },
  {
   "cell_type": "code",
   "execution_count": 3,
   "metadata": {},
   "outputs": [],
   "source": [
    "title = pd.read_csv(title_path, compression=\"zip\") \\\n",
    "          .drop(columns=[\"Unnamed: 0\", \"Language\", \"PatenType\", \"PublicationType\", \"Language\", \"Part\", \"Number\", \"Date\"]) \\\n",
    "          .rename(columns={\"Contents\": \"title\"}).rename(str.lower, axis=\"columns\") \\\n",
    "          .set_index(\"patentnumber\")\n",
    "\n",
    "df = df.join(title)\n",
    "del title"
   ]
  },
  {
   "cell_type": "code",
   "execution_count": 4,
   "metadata": {},
   "outputs": [],
   "source": [
    "desc = pd.read_csv(description_path, compression=\"zip\") \\\n",
    "          .drop(columns=[\"Unnamed: 0\", \"Language\", \"PatenType\", \"PublicationType\", \"Language\", \"Part\", \"Number\", \"Date\"]) \\\n",
    "          .rename(columns={\"Contents\": \"description\"}).rename(str.lower, axis=\"columns\") \\\n",
    "          .set_index(\"patentnumber\")\n",
    "\n",
    "df = df.join(desc)\n",
    "del desc"
   ]
  },
  {
   "cell_type": "code",
   "execution_count": 5,
   "metadata": {},
   "outputs": [
    {
     "data": {
      "text/html": [
       "<div>\n",
       "<style scoped>\n",
       "    .dataframe tbody tr th:only-of-type {\n",
       "        vertical-align: middle;\n",
       "    }\n",
       "\n",
       "    .dataframe tbody tr th {\n",
       "        vertical-align: top;\n",
       "    }\n",
       "\n",
       "    .dataframe thead th {\n",
       "        text-align: right;\n",
       "    }\n",
       "</style>\n",
       "<table border=\"1\" class=\"dataframe\">\n",
       "  <thead>\n",
       "    <tr style=\"text-align: right;\">\n",
       "      <th></th>\n",
       "      <th>date</th>\n",
       "      <th>claims</th>\n",
       "      <th>title</th>\n",
       "      <th>description</th>\n",
       "    </tr>\n",
       "    <tr>\n",
       "      <th>patentnumber</th>\n",
       "      <th></th>\n",
       "      <th></th>\n",
       "      <th></th>\n",
       "      <th></th>\n",
       "    </tr>\n",
       "  </thead>\n",
       "  <tbody>\n",
       "    <tr>\n",
       "      <th>3000006</th>\n",
       "      <td>2018-02-28</td>\n",
       "      <td>['A complementary metal oxide semiconductor vo...</td>\n",
       "      <td>ALL-CMOS, LOW-VOLTAGE, WIDE-TEMPERATURE RANGE,...</td>\n",
       "      <td>{'BACKGROUND OF THE INVENTION': [], 'FIELD OF ...</td>\n",
       "    </tr>\n",
       "    <tr>\n",
       "      <th>3000007</th>\n",
       "      <td>2020-07-08</td>\n",
       "      <td>['A method for configuring a user interface of...</td>\n",
       "      <td>SYSTEM AND METHOD FOR OPTIMIZED APPLIANCE CONTROL</td>\n",
       "      <td>{'BACKGROUND': ['Controlling devices, for exam...</td>\n",
       "    </tr>\n",
       "    <tr>\n",
       "      <th>3000011</th>\n",
       "      <td>2017-05-03</td>\n",
       "      <td>['A method (400) of positioning one or more vi...</td>\n",
       "      <td>BODY-LOCKED PLACEMENT OF AUGMENTED REALITY OBJ...</td>\n",
       "      <td>{'BACKGROUND': ['An augmented reality computin...</td>\n",
       "    </tr>\n",
       "    <tr>\n",
       "      <th>3000012</th>\n",
       "      <td>2019-05-01</td>\n",
       "      <td>['A method of displaying a schedule in a weara...</td>\n",
       "      <td>METHOD AND APPARATUS FOR DISPLAYING SCHEDULE O...</td>\n",
       "      <td>{'Technical Field': ['The present disclosure r...</td>\n",
       "    </tr>\n",
       "    <tr>\n",
       "      <th>3000013</th>\n",
       "      <td>2020-05-06</td>\n",
       "      <td>['A remote controller adapted to interact with...</td>\n",
       "      <td>INTERACTIVE MULTI-TOUCH REMOTE CONTROL</td>\n",
       "      <td>{'BRIEF DESCRIPTION OF THE SEVERAL VIEWS OF TH...</td>\n",
       "    </tr>\n",
       "  </tbody>\n",
       "</table>\n",
       "</div>"
      ],
      "text/plain": [
       "                    date                                             claims  \\\n",
       "patentnumber                                                                  \n",
       "3000006       2018-02-28  ['A complementary metal oxide semiconductor vo...   \n",
       "3000007       2020-07-08  ['A method for configuring a user interface of...   \n",
       "3000011       2017-05-03  ['A method (400) of positioning one or more vi...   \n",
       "3000012       2019-05-01  ['A method of displaying a schedule in a weara...   \n",
       "3000013       2020-05-06  ['A remote controller adapted to interact with...   \n",
       "\n",
       "                                                          title  \\\n",
       "patentnumber                                                      \n",
       "3000006       ALL-CMOS, LOW-VOLTAGE, WIDE-TEMPERATURE RANGE,...   \n",
       "3000007       SYSTEM AND METHOD FOR OPTIMIZED APPLIANCE CONTROL   \n",
       "3000011       BODY-LOCKED PLACEMENT OF AUGMENTED REALITY OBJ...   \n",
       "3000012       METHOD AND APPARATUS FOR DISPLAYING SCHEDULE O...   \n",
       "3000013                  INTERACTIVE MULTI-TOUCH REMOTE CONTROL   \n",
       "\n",
       "                                                    description  \n",
       "patentnumber                                                     \n",
       "3000006       {'BACKGROUND OF THE INVENTION': [], 'FIELD OF ...  \n",
       "3000007       {'BACKGROUND': ['Controlling devices, for exam...  \n",
       "3000011       {'BACKGROUND': ['An augmented reality computin...  \n",
       "3000012       {'Technical Field': ['The present disclosure r...  \n",
       "3000013       {'BRIEF DESCRIPTION OF THE SEVERAL VIEWS OF TH...  "
      ]
     },
     "execution_count": 5,
     "metadata": {},
     "output_type": "execute_result"
    }
   ],
   "source": [
    "df.head()"
   ]
  },
  {
   "cell_type": "code",
   "execution_count": 6,
   "metadata": {},
   "outputs": [
    {
     "data": {
      "text/plain": [
       "(43182, 4)"
      ]
     },
     "execution_count": 6,
     "metadata": {},
     "output_type": "execute_result"
    }
   ],
   "source": [
    "df.shape"
   ]
  },
  {
   "cell_type": "code",
   "execution_count": 7,
   "metadata": {},
   "outputs": [
    {
     "data": {
      "text/plain": [
       "(43182, 4)"
      ]
     },
     "execution_count": 7,
     "metadata": {},
     "output_type": "execute_result"
    }
   ],
   "source": [
    "df = df.dropna()\n",
    "df.shape"
   ]
  },
  {
   "cell_type": "markdown",
   "metadata": {},
   "source": [
    "We have quite a lot of documents to process and each document contains a lot of text internally, we will process descriptions in batches to allow every machine to handle the amount of data despite the installed memory."
   ]
  },
  {
   "cell_type": "markdown",
   "metadata": {},
   "source": [
    "## Summary extraction\n",
    "\n",
    "Let's try to extract summaries from all documents first."
   ]
  },
  {
   "cell_type": "code",
   "execution_count": null,
   "metadata": {},
   "outputs": [],
   "source": [
    "df[\"summaries\"] = df[\"description\"].apply(\n",
    "    lambda r: [eval(r)[k] for k in eval(r).keys() if 'summary' in k.lower()],\n",
    "    convert_dtype=False)"
   ]
  },
  {
   "cell_type": "code",
   "execution_count": null,
   "metadata": {},
   "outputs": [],
   "source": [
    "# keep only 1 summary\n",
    "df = df[df['summaries'].apply(len) == 1]"
   ]
  },
  {
   "cell_type": "code",
   "execution_count": null,
   "metadata": {},
   "outputs": [],
   "source": [
    "# explode summaries newlines in 1 text\n",
    "df['summaries'] = df['summaries'].apply(lambda r: ' '.join(r[0]))"
   ]
  },
  {
   "cell_type": "code",
   "execution_count": null,
   "metadata": {},
   "outputs": [],
   "source": [
    "df['summary_title'] = df[\"description\"].apply(\n",
    "    lambda r: [k.lower() for k in eval(r).keys() if 'summary' in k.lower()][0],\n",
    "    convert_dtype=False)"
   ]
  },
  {
   "cell_type": "code",
   "execution_count": null,
   "metadata": {},
   "outputs": [],
   "source": [
    "import re\n",
    "from functools import reduce\n",
    "from nltk.corpus import stopwords\n",
    "\n",
    "\n",
    "REPLACE_BY_SPACE_RE = re.compile('[/(){}\\[\\]\\|@,;]')\n",
    "GOOD_SYMBOLS_RE = re.compile('[^0-9a-z ]')\n",
    "\n",
    "def replace_special_characters(text: str) -> str:\n",
    "    \"\"\"\n",
    "    Replaces special characters, such as paranthesis,\n",
    "    with spacing character\n",
    "    \"\"\"\n",
    "    return REPLACE_BY_SPACE_RE.sub(' ', text)\n",
    "\n",
    "def filter_out_uncommon_symbols(text: str) -> str:\n",
    "    \"\"\"\n",
    "    Removes any special character that is not in the\n",
    "    good symbols list (check regular expression)\n",
    "    \"\"\"\n",
    "    return GOOD_SYMBOLS_RE.sub('', text)\n",
    "\n",
    "def filter_out_stopwords(text):\n",
    "    return ' '.join([w for w in text.split() if w not in stopwords.words('english')])\n",
    "\n",
    "def strip_text(text: str) -> str:\n",
    "    \"\"\"\n",
    "    Removes any left or right spacing (including carriage return) from text.\n",
    "    Example:\n",
    "    Input: '  This assignment is cool\\n'\n",
    "    Output: 'This assignment is cool'\n",
    "    \"\"\"\n",
    "    return text.strip()\n",
    "\n",
    "PREPROCESSING_PIPELINE = [\n",
    "  replace_special_characters,\n",
    "  filter_out_uncommon_symbols,\n",
    "  strip_text\n",
    "]\n",
    "\n",
    "# Anchor method\n",
    "\n",
    "def text_prepare(text: str,\n",
    "                 filter_methods = None) -> str:\n",
    "    \"\"\"\n",
    "    Applies a list of pre-processing functions in sequence (reduce).\n",
    "    Note that the order is important here!\n",
    "    \"\"\"\n",
    "    filter_methods = filter_methods if filter_methods is not None else PREPROCESSING_PIPELINE\n",
    "    return reduce(lambda txt, f: f(txt), filter_methods, text)"
   ]
  },
  {
   "cell_type": "code",
   "execution_count": null,
   "metadata": {},
   "outputs": [],
   "source": [
    "with open('annotated.json') as f:\n",
    "    annotated = json.load(f)\n"
   ]
  },
  {
   "cell_type": "code",
   "execution_count": null,
   "metadata": {},
   "outputs": [],
   "source": [
    "good_headings = []\n",
    "\n",
    "for key in annotated.keys():\n",
    "    if annotated[key] == '1':\n",
    "        good_headings.append(key)\n",
    "\n",
    "good_headings"
   ]
  },
  {
   "cell_type": "code",
   "execution_count": null,
   "metadata": {},
   "outputs": [],
   "source": [
    "df = df[df['summary_title'].apply(lambda r: r in good_headings)]"
   ]
  },
  {
   "cell_type": "markdown",
   "metadata": {},
   "source": [
    "## Dataset creation"
   ]
  },
  {
   "cell_type": "code",
   "execution_count": null,
   "metadata": {},
   "outputs": [],
   "source": [
    "dataset = df[['summaries', 'claims']]"
   ]
  },
  {
   "cell_type": "code",
   "execution_count": null,
   "metadata": {},
   "outputs": [],
   "source": [
    "dataset['claims'] = dataset['claims'].apply(lambda r: eval(r)[0])"
   ]
  },
  {
   "cell_type": "code",
   "execution_count": null,
   "metadata": {},
   "outputs": [],
   "source": [
    "import re\n",
    "from functools import reduce\n",
    "\n",
    "REPLACE_BY_SPACE_RE = re.compile('\\(\\d+\\)')\n",
    "\n",
    "def filter_out_numbers(text: str) -> str:\n",
    "    return REPLACE_BY_SPACE_RE.sub('', text)\n",
    "\n",
    "def lower_text(text: str) -> str:\n",
    "    return text.lower()\n",
    "\n",
    "def strip_text(text: str) -> str:\n",
    "    return text.strip()\n",
    "\n",
    "PREPROCESSING_PIPELINE = [\n",
    "  strip_text,\n",
    "  lower_text,\n",
    "  filter_out_numbers,\n",
    "]\n",
    "\n",
    "# Anchor method\n",
    "\n",
    "def dataset_text_prepare(text: str,\n",
    "                 filter_methods = None) -> str:\n",
    "    \"\"\"\n",
    "    Applies a list of pre-processing functions in sequence (reduce).\n",
    "    Note that the order is important here!\n",
    "    \"\"\"\n",
    "    filter_methods = filter_methods if filter_methods is not None else PREPROCESSING_PIPELINE\n",
    "    return reduce(lambda txt, f: f(txt), filter_methods, text)"
   ]
  },
  {
   "cell_type": "code",
   "execution_count": null,
   "metadata": {},
   "outputs": [],
   "source": [
    "dataset['summaries'] = dataset['summaries'].apply(dataset_text_prepare)\n",
    "dataset['claims'] = dataset['claims'].apply(dataset_text_prepare)"
   ]
  },
  {
   "cell_type": "code",
   "execution_count": null,
   "metadata": {},
   "outputs": [],
   "source": [
    "dataset"
   ]
  },
  {
   "cell_type": "code",
   "execution_count": null,
   "metadata": {},
   "outputs": [],
   "source": [
    "\n",
    "with open('title.json', 'w') as f:\n",
    "    json.dump(list(titles), f)"
   ]
  }
 ],
 "metadata": {
  "kernelspec": {
   "display_name": "Python 3",
   "language": "python",
   "name": "python3"
  },
  "language_info": {
   "codemirror_mode": {
    "name": "ipython",
    "version": 3
   },
   "file_extension": ".py",
   "mimetype": "text/x-python",
   "name": "python",
   "nbconvert_exporter": "python",
   "pygments_lexer": "ipython3",
   "version": "3.8.5"
  }
 },
 "nbformat": 4,
 "nbformat_minor": 5
}
