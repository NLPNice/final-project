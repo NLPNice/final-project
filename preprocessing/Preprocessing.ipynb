{
 "cells": [
  {
   "cell_type": "markdown",
   "id": "e2079e5c",
   "metadata": {},
   "source": [
    "# Data preprocessing"
   ]
  },
  {
   "cell_type": "code",
   "execution_count": 1,
   "id": "ff2eda89",
   "metadata": {},
   "outputs": [],
   "source": [
    "import pandas as pd\n",
    "import numpy as np\n",
    "import json\n",
    "# used to inject progress bar into pandas apply function\n",
    "from tqdm.notebook import tqdm\n",
    "tqdm.pandas()\n",
    "\n",
    "claim_path = \"../data/out_claim.zip\"\n",
    "title_path = \"../data/out_title.zip\"\n",
    "description_path = \"../data/out_descr.zip\""
   ]
  },
  {
   "cell_type": "markdown",
   "id": "2f114fb2",
   "metadata": {},
   "source": [
    "We will first load all the data into the dataframe `df` by joining all the different dataframes (claims, titles, descriptions) into a unique dataframe."
   ]
  },
  {
   "cell_type": "code",
   "execution_count": 2,
   "id": "d4e057e8",
   "metadata": {},
   "outputs": [],
   "source": [
    "df = pd.read_csv(claim_path, compression=\"zip\") \\\n",
    "         .drop(columns=[\"Unnamed: 0\", \"Language\", \"PatenType\", \"PublicationType\", \"Language\", \"Part\", \"Number\"]) \\\n",
    "         .rename(columns={\"Contents\": \"claims\"}).rename(str.lower, axis=\"columns\") \\\n",
    "         .set_index(\"patentnumber\")"
   ]
  },
  {
   "cell_type": "code",
   "execution_count": 3,
   "id": "d8abf7ce",
   "metadata": {},
   "outputs": [],
   "source": [
    "title = pd.read_csv(title_path, compression=\"zip\") \\\n",
    "          .drop(columns=[\"Unnamed: 0\", \"Language\", \"PatenType\", \"PublicationType\", \"Language\", \"Part\", \"Number\", \"Date\"]) \\\n",
    "          .rename(columns={\"Contents\": \"title\"}).rename(str.lower, axis=\"columns\") \\\n",
    "          .set_index(\"patentnumber\")\n",
    "\n",
    "df = df.join(title)\n",
    "del title"
   ]
  },
  {
   "cell_type": "code",
   "execution_count": 4,
   "id": "5115946d",
   "metadata": {},
   "outputs": [],
   "source": [
    "desc = pd.read_csv(description_path, compression=\"zip\") \\\n",
    "          .drop(columns=[\"Unnamed: 0\", \"Language\", \"PatenType\", \"PublicationType\", \"Language\", \"Part\", \"Number\", \"Date\"]) \\\n",
    "          .rename(columns={\"Contents\": \"description\"}).rename(str.lower, axis=\"columns\") \\\n",
    "          .set_index(\"patentnumber\")\n",
    "\n",
    "df = df.join(desc)\n",
    "del desc"
   ]
  },
  {
   "cell_type": "code",
   "execution_count": 5,
   "id": "35ff42bd",
   "metadata": {},
   "outputs": [
    {
     "data": {
      "text/html": [
       "<div>\n",
       "<style scoped>\n",
       "    .dataframe tbody tr th:only-of-type {\n",
       "        vertical-align: middle;\n",
       "    }\n",
       "\n",
       "    .dataframe tbody tr th {\n",
       "        vertical-align: top;\n",
       "    }\n",
       "\n",
       "    .dataframe thead th {\n",
       "        text-align: right;\n",
       "    }\n",
       "</style>\n",
       "<table border=\"1\" class=\"dataframe\">\n",
       "  <thead>\n",
       "    <tr style=\"text-align: right;\">\n",
       "      <th></th>\n",
       "      <th>date</th>\n",
       "      <th>claims</th>\n",
       "      <th>title</th>\n",
       "      <th>description</th>\n",
       "    </tr>\n",
       "    <tr>\n",
       "      <th>patentnumber</th>\n",
       "      <th></th>\n",
       "      <th></th>\n",
       "      <th></th>\n",
       "      <th></th>\n",
       "    </tr>\n",
       "  </thead>\n",
       "  <tbody>\n",
       "    <tr>\n",
       "      <th>3000006</th>\n",
       "      <td>2018-02-28</td>\n",
       "      <td>['A complementary metal oxide semiconductor vo...</td>\n",
       "      <td>ALL-CMOS, LOW-VOLTAGE, WIDE-TEMPERATURE RANGE,...</td>\n",
       "      <td>{'BACKGROUND OF THE INVENTION': [], 'FIELD OF ...</td>\n",
       "    </tr>\n",
       "    <tr>\n",
       "      <th>3000007</th>\n",
       "      <td>2020-07-08</td>\n",
       "      <td>['A method for configuring a user interface of...</td>\n",
       "      <td>SYSTEM AND METHOD FOR OPTIMIZED APPLIANCE CONTROL</td>\n",
       "      <td>{'BACKGROUND': ['Controlling devices, for exam...</td>\n",
       "    </tr>\n",
       "    <tr>\n",
       "      <th>3000011</th>\n",
       "      <td>2017-05-03</td>\n",
       "      <td>['A method (400) of positioning one or more vi...</td>\n",
       "      <td>BODY-LOCKED PLACEMENT OF AUGMENTED REALITY OBJ...</td>\n",
       "      <td>{'BACKGROUND': ['An augmented reality computin...</td>\n",
       "    </tr>\n",
       "    <tr>\n",
       "      <th>3000012</th>\n",
       "      <td>2019-05-01</td>\n",
       "      <td>['A method of displaying a schedule in a weara...</td>\n",
       "      <td>METHOD AND APPARATUS FOR DISPLAYING SCHEDULE O...</td>\n",
       "      <td>{'Technical Field': ['The present disclosure r...</td>\n",
       "    </tr>\n",
       "    <tr>\n",
       "      <th>3000013</th>\n",
       "      <td>2020-05-06</td>\n",
       "      <td>['A remote controller adapted to interact with...</td>\n",
       "      <td>INTERACTIVE MULTI-TOUCH REMOTE CONTROL</td>\n",
       "      <td>{'BRIEF DESCRIPTION OF THE SEVERAL VIEWS OF TH...</td>\n",
       "    </tr>\n",
       "  </tbody>\n",
       "</table>\n",
       "</div>"
      ],
      "text/plain": [
       "                    date                                             claims  \\\n",
       "patentnumber                                                                  \n",
       "3000006       2018-02-28  ['A complementary metal oxide semiconductor vo...   \n",
       "3000007       2020-07-08  ['A method for configuring a user interface of...   \n",
       "3000011       2017-05-03  ['A method (400) of positioning one or more vi...   \n",
       "3000012       2019-05-01  ['A method of displaying a schedule in a weara...   \n",
       "3000013       2020-05-06  ['A remote controller adapted to interact with...   \n",
       "\n",
       "                                                          title  \\\n",
       "patentnumber                                                      \n",
       "3000006       ALL-CMOS, LOW-VOLTAGE, WIDE-TEMPERATURE RANGE,...   \n",
       "3000007       SYSTEM AND METHOD FOR OPTIMIZED APPLIANCE CONTROL   \n",
       "3000011       BODY-LOCKED PLACEMENT OF AUGMENTED REALITY OBJ...   \n",
       "3000012       METHOD AND APPARATUS FOR DISPLAYING SCHEDULE O...   \n",
       "3000013                  INTERACTIVE MULTI-TOUCH REMOTE CONTROL   \n",
       "\n",
       "                                                    description  \n",
       "patentnumber                                                     \n",
       "3000006       {'BACKGROUND OF THE INVENTION': [], 'FIELD OF ...  \n",
       "3000007       {'BACKGROUND': ['Controlling devices, for exam...  \n",
       "3000011       {'BACKGROUND': ['An augmented reality computin...  \n",
       "3000012       {'Technical Field': ['The present disclosure r...  \n",
       "3000013       {'BRIEF DESCRIPTION OF THE SEVERAL VIEWS OF TH...  "
      ]
     },
     "execution_count": 5,
     "metadata": {},
     "output_type": "execute_result"
    }
   ],
   "source": [
    "df.head()"
   ]
  },
  {
   "cell_type": "markdown",
   "id": "792abe63",
   "metadata": {},
   "source": [
    "## Summary extraction\n",
    "\n",
    "Each patent is usually composed of several different sections each containing different information.\n",
    "In order to generate the first indipendent claim not all the sections are needed."
   ]
  },
  {
   "cell_type": "code",
   "execution_count": 6,
   "id": "1bcfeb5e",
   "metadata": {},
   "outputs": [
    {
     "data": {
      "application/vnd.jupyter.widget-view+json": {
       "model_id": "0db2956af0c7413fb86d431574fe8274",
       "version_major": 2,
       "version_minor": 0
      },
      "text/plain": [
       "  0%|          | 0/43182 [00:00<?, ?it/s]"
      ]
     },
     "metadata": {},
     "output_type": "display_data"
    },
    {
     "name": "stdout",
     "output_type": "stream",
     "text": [
      "276701 different headings in the whole dataset.\n"
     ]
    }
   ],
   "source": [
    "# extract all the headings\n",
    "headings = df[\"description\"].progress_apply(\n",
    "    lambda r: [k.lower() for k in eval(r).keys()],\n",
    "    convert_dtype=False)\n",
    "\n",
    "headings_set = set(headings.explode())\n",
    "print(f\"{len(headings_set)} different headings in the whole dataset.\")"
   ]
  },
  {
   "cell_type": "markdown",
   "id": "c54ad294",
   "metadata": {},
   "source": [
    "We end up with $\\geq 276000$ different headings."
   ]
  },
  {
   "cell_type": "code",
   "execution_count": 7,
   "id": "f2dbd63d",
   "metadata": {},
   "outputs": [
    {
     "name": "stdout",
     "output_type": "stream",
     "text": [
      "brief description of the drawings   | 22006 times\n",
      "background                          | 15364 times\n",
      "technical field                     | 13180 times\n",
      "detailed description                | 12998 times\n",
      "summary of the invention            | 12388 times\n",
      "summary                             | 12098 times\n",
      "background of the invention         |  9785 times\n",
      "field of the invention              |  7953 times\n",
      "background art                      |  6521 times\n",
      "examples                            |  6305 times\n"
     ]
    }
   ],
   "source": [
    "from collections import Counter\n",
    "counts = Counter(headings.explode().tolist())\n",
    "top10_headings = sorted(dict(counts), key=counts.get, reverse=True)[:10]\n",
    "\n",
    "for h in top10_headings:\n",
    "  print(f\"{h.ljust(35)} | {str(counts[h]).rjust(5)} times\")\n"
   ]
  },
  {
   "cell_type": "markdown",
   "id": "5448cb6e",
   "metadata": {},
   "source": [
    "Most of them are, as we could expect, repeated lots of time.\n",
    "To obtain a corpus whose content is composed of meaningful descriptions of the patent we will extract those sections that constitutes a summary of the whole description. \n",
    "\n",
    "A simple way to accomplish it is to extract only those descriptions whose title contains the term *summary*."
   ]
  },
  {
   "cell_type": "code",
   "execution_count": 8,
   "id": "e3081f63",
   "metadata": {},
   "outputs": [
    {
     "data": {
      "application/vnd.jupyter.widget-view+json": {
       "model_id": "11e686a7ddd24a9dbfe3175308b53325",
       "version_major": 2,
       "version_minor": 0
      },
      "text/plain": [
       "  0%|          | 0/43182 [00:00<?, ?it/s]"
      ]
     },
     "metadata": {},
     "output_type": "display_data"
    }
   ],
   "source": [
    "df[\"summaries\"] = df[\"description\"].progress_apply(\n",
    "    lambda r: [eval(r)[k] for k in eval(r).keys() if 'summary' in k.lower()],\n",
    "    convert_dtype=False)"
   ]
  },
  {
   "cell_type": "code",
   "execution_count": 9,
   "id": "4d818ece",
   "metadata": {},
   "outputs": [
    {
     "data": {
      "application/vnd.jupyter.widget-view+json": {
       "model_id": "f1f8f6afc6644bd1a7c37aea8391d4c3",
       "version_major": 2,
       "version_minor": 0
      },
      "text/plain": [
       "  0%|          | 0/43182 [00:00<?, ?it/s]"
      ]
     },
     "metadata": {},
     "output_type": "display_data"
    }
   ],
   "source": [
    "# filter out all the patents that contains more than one section named summary\n",
    "df = df[df['summaries'].progress_apply(len) == 1]"
   ]
  },
  {
   "cell_type": "code",
   "execution_count": 10,
   "id": "d53afe62",
   "metadata": {},
   "outputs": [
    {
     "name": "stdout",
     "output_type": "stream",
     "text": [
      "30824 patents with one section containing the term summary\n"
     ]
    }
   ],
   "source": [
    "print(f\"{df.shape[0]} patents with one section containing the term summary\")"
   ]
  },
  {
   "cell_type": "markdown",
   "id": "655934dd",
   "metadata": {},
   "source": [
    "Indeed we end up with roughly $30000$ documents."
   ]
  },
  {
   "cell_type": "code",
   "execution_count": 11,
   "id": "9ff2865e",
   "metadata": {},
   "outputs": [],
   "source": [
    "# summaries end up being a list of paragraphs, join all the paragraph in one\n",
    "# big text corpora\n",
    "df['summaries'] = df['summaries'].apply(lambda r: ' '.join(r[0]))\n",
    "df = df.rename(columns={\"summaries\": \"summary\"})"
   ]
  },
  {
   "cell_type": "code",
   "execution_count": 12,
   "id": "1d84d6c8",
   "metadata": {},
   "outputs": [
    {
     "data": {
      "application/vnd.jupyter.widget-view+json": {
       "model_id": "851e24b2a8cc498a819253aebbc76c75",
       "version_major": 2,
       "version_minor": 0
      },
      "text/plain": [
       "  0%|          | 0/30824 [00:00<?, ?it/s]"
      ]
     },
     "metadata": {},
     "output_type": "display_data"
    }
   ],
   "source": [
    "# extract summary titles as well\n",
    "df['summary_title'] = df[\"description\"].progress_apply(\n",
    "    lambda r: [k.lower() for k in eval(r).keys() if 'summary' in k.lower()][0],\n",
    "    convert_dtype=False)"
   ]
  },
  {
   "cell_type": "code",
   "execution_count": 13,
   "id": "fd360ea5",
   "metadata": {},
   "outputs": [
    {
     "data": {
      "text/html": [
       "<div>\n",
       "<style scoped>\n",
       "    .dataframe tbody tr th:only-of-type {\n",
       "        vertical-align: middle;\n",
       "    }\n",
       "\n",
       "    .dataframe tbody tr th {\n",
       "        vertical-align: top;\n",
       "    }\n",
       "\n",
       "    .dataframe thead th {\n",
       "        text-align: right;\n",
       "    }\n",
       "</style>\n",
       "<table border=\"1\" class=\"dataframe\">\n",
       "  <thead>\n",
       "    <tr style=\"text-align: right;\">\n",
       "      <th></th>\n",
       "      <th>summary</th>\n",
       "      <th>summary_title</th>\n",
       "    </tr>\n",
       "    <tr>\n",
       "      <th>patentnumber</th>\n",
       "      <th></th>\n",
       "      <th></th>\n",
       "    </tr>\n",
       "  </thead>\n",
       "  <tbody>\n",
       "    <tr>\n",
       "      <th>3000006</th>\n",
       "      <td>The present invention is a voltage reference. ...</td>\n",
       "      <td>brief summary of the invention</td>\n",
       "    </tr>\n",
       "    <tr>\n",
       "      <th>3000007</th>\n",
       "      <td>According to the invention, a method according...</td>\n",
       "      <td>summary of the invention</td>\n",
       "    </tr>\n",
       "    <tr>\n",
       "      <th>3000011</th>\n",
       "      <td>Embodiments are disclosed that relate to posit...</td>\n",
       "      <td>summary</td>\n",
       "    </tr>\n",
       "    <tr>\n",
       "      <th>3000019</th>\n",
       "      <td>In a first aspect there is provided a method a...</td>\n",
       "      <td>brief summary</td>\n",
       "    </tr>\n",
       "    <tr>\n",
       "      <th>3000020</th>\n",
       "      <td>Embodiments of the present technology relate t...</td>\n",
       "      <td>summary</td>\n",
       "    </tr>\n",
       "    <tr>\n",
       "      <th>...</th>\n",
       "      <td>...</td>\n",
       "      <td>...</td>\n",
       "    </tr>\n",
       "    <tr>\n",
       "      <th>3099989</th>\n",
       "      <td>The present applicant has mitigated the above ...</td>\n",
       "      <td>summary of invention</td>\n",
       "    </tr>\n",
       "    <tr>\n",
       "      <th>3099990</th>\n",
       "      <td>The present invention is a distillation column...</td>\n",
       "      <td>summary of the invention</td>\n",
       "    </tr>\n",
       "    <tr>\n",
       "      <th>3099991</th>\n",
       "      <td>The present invention is set forth and charact...</td>\n",
       "      <td>summary of the invention</td>\n",
       "    </tr>\n",
       "    <tr>\n",
       "      <th>3099992</th>\n",
       "      <td>The present invention is set forth and charact...</td>\n",
       "      <td>summary of the invention</td>\n",
       "    </tr>\n",
       "    <tr>\n",
       "      <th>3099998</th>\n",
       "      <td>According to various embodiments of the invent...</td>\n",
       "      <td>summary of the invention</td>\n",
       "    </tr>\n",
       "  </tbody>\n",
       "</table>\n",
       "<p>30824 rows × 2 columns</p>\n",
       "</div>"
      ],
      "text/plain": [
       "                                                        summary  \\\n",
       "patentnumber                                                      \n",
       "3000006       The present invention is a voltage reference. ...   \n",
       "3000007       According to the invention, a method according...   \n",
       "3000011       Embodiments are disclosed that relate to posit...   \n",
       "3000019       In a first aspect there is provided a method a...   \n",
       "3000020       Embodiments of the present technology relate t...   \n",
       "...                                                         ...   \n",
       "3099989       The present applicant has mitigated the above ...   \n",
       "3099990       The present invention is a distillation column...   \n",
       "3099991       The present invention is set forth and charact...   \n",
       "3099992       The present invention is set forth and charact...   \n",
       "3099998       According to various embodiments of the invent...   \n",
       "\n",
       "                               summary_title  \n",
       "patentnumber                                  \n",
       "3000006       brief summary of the invention  \n",
       "3000007             summary of the invention  \n",
       "3000011                              summary  \n",
       "3000019                        brief summary  \n",
       "3000020                              summary  \n",
       "...                                      ...  \n",
       "3099989                 summary of invention  \n",
       "3099990             summary of the invention  \n",
       "3099991             summary of the invention  \n",
       "3099992             summary of the invention  \n",
       "3099998             summary of the invention  \n",
       "\n",
       "[30824 rows x 2 columns]"
      ]
     },
     "execution_count": 13,
     "metadata": {},
     "output_type": "execute_result"
    }
   ],
   "source": [
    "df[[\"summary\", \"summary_title\"]]"
   ]
  },
  {
   "cell_type": "markdown",
   "id": "df938871",
   "metadata": {},
   "source": [
    "Extracting summaries in such a way, while based on an extremely simple heuristic, might add unwanted noise into the corpora. For instance if *summary of the results* is present, it would be used as the patent description.\n",
    "\n",
    "Since we only have $\\approx 250$ different titles we will annotate them manually by using a simple script ([annotate_summaries.py](./annotate_summaries.py)) that will output a JSON file containing the human made annotation."
   ]
  },
  {
   "cell_type": "code",
   "execution_count": null,
   "id": "ce081f12",
   "metadata": {},
   "outputs": [],
   "source": [
    "with open(\"titles.json\", \"w\") as fp:\n",
    "  json.dump(df[\"title\"].unique().tolist(), fp)"
   ]
  },
  {
   "cell_type": "code",
   "execution_count": 14,
   "id": "452ed539",
   "metadata": {},
   "outputs": [],
   "source": [
    "# load annotations\n",
    "with open('annotated.json') as f:\n",
    "    annotated = json.load(f)\n",
    "    annotated = {k: int(v) for k, v in annotated.items() }"
   ]
  },
  {
   "cell_type": "code",
   "execution_count": 15,
   "id": "baa0294f",
   "metadata": {},
   "outputs": [
    {
     "name": "stdout",
     "output_type": "stream",
     "text": [
      "*summary of the described embodiments* is a proper summary\n",
      "*brief summary of some examples* is not a proper summary\n"
     ]
    }
   ],
   "source": [
    "summary_title = next(filter(lambda x: annotated.get(x), annotated.keys()))\n",
    "not_summary_title = next(filter(lambda x: not annotated.get(x), annotated.keys()))\n",
    "\n",
    "print(f\"*{summary_title}* is a proper summary\")\n",
    "print(f\"*{not_summary_title}* is not a proper summary\")"
   ]
  },
  {
   "cell_type": "markdown",
   "id": "fbd8f267",
   "metadata": {},
   "source": [
    "We can try to build a decision tree out of the annotated titles in order to better understand, from a natural language understanding point of view, how to effectively recognize summaries from other sections.\n",
    "\n",
    "We will vectorize the text by relying on a simple bag of word method."
   ]
  },
  {
   "cell_type": "code",
   "execution_count": 17,
   "id": "d0425b8a",
   "metadata": {},
   "outputs": [
    {
     "data": {
      "image/png": "[encoded data removed]",
      "text/plain": [
       "<Figure size 720x720 with 1 Axes>"
      ]
     },
     "metadata": {
      "needs_background": "light"
     },
     "output_type": "display_data"
    }
   ],
   "source": [
    "from sklearn.feature_extraction.text import CountVectorizer\n",
    "from sklearn import tree\n",
    "import matplotlib.pyplot as plt\n",
    "\n",
    "count_vect = CountVectorizer()\n",
    "X = count_vect.fit_transform(annotated.keys())\n",
    "y = list(annotated.values())\n",
    "\n",
    "clf = tree.DecisionTreeClassifier()\n",
    "clf = clf.fit(X, y)\n",
    "\n",
    "plt.figure(figsize=(10, 10))\n",
    "_ = tree.plot_tree(clf, feature_names=count_vect.get_feature_names_out())"
   ]
  },
  {
   "cell_type": "markdown",
   "id": "4cfd228d",
   "metadata": {},
   "source": [
    "The plot looks a bit intimidating but we can easily try to interpret the produced tree: whenever *results*, *inventive* or *figures* is present the title is flagged as negative.\n",
    "\n",
    "When we get to the term *the*, however, only the presence of the term *examples* is considered a problem while other terms are further taken into consideration given the context (the presence, or absence, of other terms).\n",
    "\n",
    "We already have enough data by simply taking those patents whose section's title is flagged as summary, however it would be easy (and apparently effective) to build a decision tree on top of the annotations we made."
   ]
  },
  {
   "cell_type": "code",
   "execution_count": 18,
   "id": "61d12ab2",
   "metadata": {},
   "outputs": [],
   "source": [
    "# filter out patents without a summary\n",
    "df = df[df['summary_title'].apply(lambda r: r in annotated and annotated[r] == 1)]"
   ]
  },
  {
   "cell_type": "markdown",
   "id": "1d6c34e9",
   "metadata": {},
   "source": [
    "## Dataset creation\n",
    "\n",
    "We can now extract summaries and the first indipendent claims for the dataset generation."
   ]
  },
  {
   "cell_type": "code",
   "execution_count": 19,
   "id": "31888d40",
   "metadata": {},
   "outputs": [],
   "source": [
    "dataset = df[['summary', 'claims']].rename(columns={\"claims\":\"claim\"})\n",
    "# extract first claim\n",
    "dataset['claim'] = dataset['claim'].apply(lambda r: eval(r)[0])"
   ]
  },
  {
   "cell_type": "code",
   "execution_count": 26,
   "id": "1a6a7987",
   "metadata": {},
   "outputs": [
    {
     "data": {
      "text/html": [
       "<div>\n",
       "<style scoped>\n",
       "    .dataframe tbody tr th:only-of-type {\n",
       "        vertical-align: middle;\n",
       "    }\n",
       "\n",
       "    .dataframe tbody tr th {\n",
       "        vertical-align: top;\n",
       "    }\n",
       "\n",
       "    .dataframe thead th {\n",
       "        text-align: right;\n",
       "    }\n",
       "</style>\n",
       "<table border=\"1\" class=\"dataframe\">\n",
       "  <thead>\n",
       "    <tr style=\"text-align: right;\">\n",
       "      <th></th>\n",
       "      <th>summary</th>\n",
       "      <th>claim</th>\n",
       "    </tr>\n",
       "    <tr>\n",
       "      <th>patentnumber</th>\n",
       "      <th></th>\n",
       "      <th></th>\n",
       "    </tr>\n",
       "  </thead>\n",
       "  <tbody>\n",
       "    <tr>\n",
       "      <th>3000006</th>\n",
       "      <td>The present invention is a voltage reference. ...</td>\n",
       "      <td>A complementary metal oxide semiconductor volt...</td>\n",
       "    </tr>\n",
       "    <tr>\n",
       "      <th>3000007</th>\n",
       "      <td>According to the invention, a method according...</td>\n",
       "      <td>A method for configuring a user interface of a...</td>\n",
       "    </tr>\n",
       "    <tr>\n",
       "      <th>3000011</th>\n",
       "      <td>Embodiments are disclosed that relate to posit...</td>\n",
       "      <td>A method (400) of positioning one or more virt...</td>\n",
       "    </tr>\n",
       "    <tr>\n",
       "      <th>3000019</th>\n",
       "      <td>In a first aspect there is provided a method a...</td>\n",
       "      <td>A method comprising:displaying at a mobile app...</td>\n",
       "    </tr>\n",
       "    <tr>\n",
       "      <th>3000020</th>\n",
       "      <td>Embodiments of the present technology relate t...</td>\n",
       "      <td>A system (10) for presenting a mixed reality e...</td>\n",
       "    </tr>\n",
       "  </tbody>\n",
       "</table>\n",
       "</div>"
      ],
      "text/plain": [
       "                                                        summary  \\\n",
       "patentnumber                                                      \n",
       "3000006       The present invention is a voltage reference. ...   \n",
       "3000007       According to the invention, a method according...   \n",
       "3000011       Embodiments are disclosed that relate to posit...   \n",
       "3000019       In a first aspect there is provided a method a...   \n",
       "3000020       Embodiments of the present technology relate t...   \n",
       "\n",
       "                                                          claim  \n",
       "patentnumber                                                     \n",
       "3000006       A complementary metal oxide semiconductor volt...  \n",
       "3000007       A method for configuring a user interface of a...  \n",
       "3000011       A method (400) of positioning one or more virt...  \n",
       "3000019       A method comprising:displaying at a mobile app...  \n",
       "3000020       A system (10) for presenting a mixed reality e...  "
      ]
     },
     "execution_count": 26,
     "metadata": {},
     "output_type": "execute_result"
    }
   ],
   "source": [
    "dataset.head()"
   ]
  },
  {
   "cell_type": "markdown",
   "id": "a233ef73",
   "metadata": {},
   "source": [
    "We will preprocess the text using a rather simple pipeline: all the text will be stripped out of unnecessary spaces and tabs and lowercased.\n",
    "We will also remove all the symbols except the set of symbols $\\{. , : ;\\}$.\n",
    "\n",
    "The first indipendent claim might contain references to particular part of the description. While this might be an interesting aspect to exploit we will remove all of those references, which are usually in the form $(some\\ number)$"
   ]
  },
  {
   "cell_type": "code",
   "execution_count": 77,
   "id": "d29701d2",
   "metadata": {},
   "outputs": [],
   "source": [
    "import re\n",
    "from functools import reduce\n",
    "\n",
    "NUMERIC_REFERENCES_RE = re.compile('\\(\\s*\\d+\\s*\\)')\n",
    "NOT_ALLOWED_SYMBOLS = re.compile('[^a-z.;,:\\-0-9\\s]')\n",
    "\n",
    "PREPROCESSING_PIPELINE = [\n",
    "  str.lower,\n",
    "  str.strip,\n",
    "  lambda t: NUMERIC_REFERENCES_RE.sub(\"\", t),\n",
    "  lambda t: NOT_ALLOWED_SYMBOLS.sub(\"\", t),\n",
    "]\n",
    "\n",
    "preprocess_text = lambda i: reduce(lambda txt, f: f(txt), PREPROCESSING_PIPELINE, i)"
   ]
  },
  {
   "cell_type": "code",
   "execution_count": 81,
   "id": "77d310d2",
   "metadata": {},
   "outputs": [
    {
     "data": {
      "application/vnd.jupyter.widget-view+json": {
       "model_id": "4be36ecfda334e58a00eb38044cd81bd",
       "version_major": 2,
       "version_minor": 0
      },
      "text/plain": [
       "  0%|          | 0/29866 [00:00<?, ?it/s]"
      ]
     },
     "metadata": {},
     "output_type": "display_data"
    },
    {
     "data": {
      "application/vnd.jupyter.widget-view+json": {
       "model_id": "f6a98ee3145d4a0491a8fd178cae9d22",
       "version_major": 2,
       "version_minor": 0
      },
      "text/plain": [
       "  0%|          | 0/29866 [00:00<?, ?it/s]"
      ]
     },
     "metadata": {},
     "output_type": "display_data"
    }
   ],
   "source": [
    "dataset['summary'] = dataset['summary'].progress_apply(dataset_text_prepare)\n",
    "dataset['claim'] = dataset['claim'].progress_apply(dataset_text_prepare)"
   ]
  },
  {
   "cell_type": "code",
   "execution_count": 84,
   "id": "e9c40ca6",
   "metadata": {},
   "outputs": [],
   "source": [
    "dataset.to_csv(\"summaries_claims.zip\", compression={\"method\": \"zip\", \"archive_name\": \"summaries_claims.csv\"})"
   ]
  }
 ],
 "metadata": {
  "interpreter": {
   "hash": "b370fcf750218deb763a1bfd4328b432277b45bfff13146ccae9650b7201ecb8"
  },
  "kernelspec": {
   "display_name": "Python 3 (ipykernel)",
   "language": "python",
   "name": "python3"
  },
  "language_info": {
   "codemirror_mode": {
    "name": "ipython",
    "version": 3
   },
   "file_extension": ".py",
   "mimetype": "text/x-python",
   "name": "python",
   "nbconvert_exporter": "python",
   "pygments_lexer": "ipython3",
   "version": "3.9.7"
  }
 },
 "nbformat": 4,
 "nbformat_minor": 5
}
