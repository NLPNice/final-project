{
 "cells": [
  {
   "cell_type": "markdown",
   "id": "1b4cfdd5-2ba7-477b-93cb-a2cc432559ca",
   "metadata": {},
   "source": [
    "# Data preprocessing"
   ]
  },
  {
   "cell_type": "code",
   "execution_count": 273,
   "id": "b577f8e7-ee35-4044-a311-7f777763c2a2",
   "metadata": {},
   "outputs": [],
   "source": [
    "import pandas as pd\n",
    "import numpy as np\n",
    "\n",
    "claim_path = \"../data/out/out_claim.csv\"\n",
    "title_path = \"../data/out/out_title.csv\"\n",
    "description_path = \"../data/out/out_descr.csv\""
   ]
  },
  {
   "cell_type": "markdown",
   "id": "17958556-65fe-434a-8a6e-395c5a38ef38",
   "metadata": {},
   "source": [
    "Load all the data into the dataframe `df`. Join all the different dataframes (claims, titles, descriptions) into a unique dataframe."
   ]
  },
  {
   "cell_type": "code",
   "execution_count": 25,
   "id": "8e8b220b-cce7-40c6-a2ff-44a5cfa38778",
   "metadata": {},
   "outputs": [],
   "source": [
    "df = pd.read_csv(claim_path) \\\n",
    "         .drop(columns=[\"Unnamed: 0\", \"Language\", \"PatenType\", \"PublicationType\", \"Language\", \"Part\", \"Number\"]) \\\n",
    "         .rename(columns={\"Contents\": \"claims\"}).rename(str.lower, axis=\"columns\") \\\n",
    "         .set_index(\"patentnumber\")"
   ]
  },
  {
   "cell_type": "code",
   "execution_count": 26,
   "id": "2531e28e-6696-4196-953b-db5e138a6121",
   "metadata": {},
   "outputs": [],
   "source": [
    "title = pd.read_csv(title_path) \\\n",
    "          .drop(columns=[\"Unnamed: 0\", \"Language\", \"PatenType\", \"PublicationType\", \"Language\", \"Part\", \"Number\", \"Date\"]) \\\n",
    "          .rename(columns={\"Contents\": \"title\"}).rename(str.lower, axis=\"columns\") \\\n",
    "          .set_index(\"patentnumber\")\n",
    "\n",
    "df = df.join(title)\n",
    "del title"
   ]
  },
  {
   "cell_type": "code",
   "execution_count": 30,
   "id": "aeead8a6-56ba-4f33-a70e-39bb70a3f034",
   "metadata": {},
   "outputs": [
    {
     "data": {
      "text/html": [
       "<div>\n",
       "<style scoped>\n",
       "    .dataframe tbody tr th:only-of-type {\n",
       "        vertical-align: middle;\n",
       "    }\n",
       "\n",
       "    .dataframe tbody tr th {\n",
       "        vertical-align: top;\n",
       "    }\n",
       "\n",
       "    .dataframe thead th {\n",
       "        text-align: right;\n",
       "    }\n",
       "</style>\n",
       "<table border=\"1\" class=\"dataframe\">\n",
       "  <thead>\n",
       "    <tr style=\"text-align: right;\">\n",
       "      <th></th>\n",
       "      <th>date</th>\n",
       "      <th>claims</th>\n",
       "      <th>title</th>\n",
       "    </tr>\n",
       "    <tr>\n",
       "      <th>patentnumber</th>\n",
       "      <th></th>\n",
       "      <th></th>\n",
       "      <th></th>\n",
       "    </tr>\n",
       "  </thead>\n",
       "  <tbody>\n",
       "    <tr>\n",
       "      <th>3000006</th>\n",
       "      <td>2018-02-28</td>\n",
       "      <td>['A complementary metal oxide semiconductor vo...</td>\n",
       "      <td>ALL-CMOS, LOW-VOLTAGE, WIDE-TEMPERATURE RANGE,...</td>\n",
       "    </tr>\n",
       "    <tr>\n",
       "      <th>3000007</th>\n",
       "      <td>2020-07-08</td>\n",
       "      <td>['A method for configuring a user interface of...</td>\n",
       "      <td>SYSTEM AND METHOD FOR OPTIMIZED APPLIANCE CONTROL</td>\n",
       "    </tr>\n",
       "    <tr>\n",
       "      <th>3000011</th>\n",
       "      <td>2017-05-03</td>\n",
       "      <td>['A method (400) of positioning one or more vi...</td>\n",
       "      <td>BODY-LOCKED PLACEMENT OF AUGMENTED REALITY OBJ...</td>\n",
       "    </tr>\n",
       "    <tr>\n",
       "      <th>3000012</th>\n",
       "      <td>2019-05-01</td>\n",
       "      <td>['A method of displaying a schedule in a weara...</td>\n",
       "      <td>METHOD AND APPARATUS FOR DISPLAYING SCHEDULE O...</td>\n",
       "    </tr>\n",
       "    <tr>\n",
       "      <th>3000013</th>\n",
       "      <td>2020-05-06</td>\n",
       "      <td>['A remote controller adapted to interact with...</td>\n",
       "      <td>INTERACTIVE MULTI-TOUCH REMOTE CONTROL</td>\n",
       "    </tr>\n",
       "  </tbody>\n",
       "</table>\n",
       "</div>"
      ],
      "text/plain": [
       "                    date                                             claims  \\\n",
       "patentnumber                                                                  \n",
       "3000006       2018-02-28  ['A complementary metal oxide semiconductor vo...   \n",
       "3000007       2020-07-08  ['A method for configuring a user interface of...   \n",
       "3000011       2017-05-03  ['A method (400) of positioning one or more vi...   \n",
       "3000012       2019-05-01  ['A method of displaying a schedule in a weara...   \n",
       "3000013       2020-05-06  ['A remote controller adapted to interact with...   \n",
       "\n",
       "                                                          title  \n",
       "patentnumber                                                     \n",
       "3000006       ALL-CMOS, LOW-VOLTAGE, WIDE-TEMPERATURE RANGE,...  \n",
       "3000007       SYSTEM AND METHOD FOR OPTIMIZED APPLIANCE CONTROL  \n",
       "3000011       BODY-LOCKED PLACEMENT OF AUGMENTED REALITY OBJ...  \n",
       "3000012       METHOD AND APPARATUS FOR DISPLAYING SCHEDULE O...  \n",
       "3000013                  INTERACTIVE MULTI-TOUCH REMOTE CONTROL  "
      ]
     },
     "execution_count": 30,
     "metadata": {},
     "output_type": "execute_result"
    }
   ],
   "source": [
    "df.head()"
   ]
  },
  {
   "cell_type": "code",
   "execution_count": 31,
   "id": "e342e2b3-565f-493a-b530-63f85cc5a4f1",
   "metadata": {},
   "outputs": [
    {
     "data": {
      "text/plain": [
       "(43114, 3)"
      ]
     },
     "execution_count": 31,
     "metadata": {},
     "output_type": "execute_result"
    }
   ],
   "source": [
    "df.shape"
   ]
  },
  {
   "cell_type": "markdown",
   "id": "c66e1ad7-99b4-416d-ad40-30065908b997",
   "metadata": {},
   "source": [
    "We have quite a lot of documents to process and each document contains a lot of text internally, we will process descriptions in batches to allow every machine to handle the amount of data despite the installed memory."
   ]
  },
  {
   "cell_type": "markdown",
   "id": "7b1da5ca-a07f-4c77-b535-ca06a7c4d234",
   "metadata": {},
   "source": [
    "## Summary extraction\n",
    "\n",
    "Let's try to extract summaries from all documents first."
   ]
  },
  {
   "cell_type": "code",
   "execution_count": 295,
   "id": "dd3f379f-a3e8-409a-a390-e3ddd338c089",
   "metadata": {},
   "outputs": [],
   "source": [
    "# 5000 documents at time\n",
    "reader = pd.read_csv(description_path, nrows=1000, chunksize=100)"
   ]
  },
  {
   "cell_type": "code",
   "execution_count": 296,
   "id": "ecd01bda-5f06-4e73-929e-417f9753eb47",
   "metadata": {},
   "outputs": [],
   "source": [
    "row = reader.get_chunk(100)"
   ]
  },
  {
   "cell_type": "code",
   "execution_count": 297,
   "id": "3fd28aa3-a0a6-444f-92ec-1d1e5c24f22a",
   "metadata": {},
   "outputs": [],
   "source": [
    "def filter_out_without_summary(chunk):\n",
    "  # extract summary if present, elese None\n",
    "  chunk[\"Contents\"] = chunk[\"Contents\"].apply(\n",
    "    lambda r: eval(r)[\"SUMMARY\"] if \"SUMMARY\" in eval(r).keys() else None,\n",
    "    convert_dtype=False)\n",
    "  \n",
    "  # drop all documents with no summary\n",
    "  chunk = chunk.dropna()\n",
    "  \n",
    "  # merge all summary text together\n",
    "  chunk[\"Contents\"] = chunk[\"Contents\"].apply(lambda t: \" \".join(t))\n",
    "  \n",
    "  return chunk"
   ]
  },
  {
   "cell_type": "code",
   "execution_count": 299,
   "id": "e3027bce-d491-49a5-8d56-08c7b3f57c9c",
   "metadata": {},
   "outputs": [
    {
     "ename": "TypeError",
     "evalue": "'TextFileReader' object is not subscriptable",
     "output_type": "error",
     "traceback": [
      "\u001b[0;31m---------------------------------------------------------------------------\u001b[0m",
      "\u001b[0;31mTypeError\u001b[0m                                 Traceback (most recent call last)",
      "\u001b[0;32m/tmp/ipykernel_14510/3061509751.py\u001b[0m in \u001b[0;36m<module>\u001b[0;34m\u001b[0m\n\u001b[1;32m      1\u001b[0m \u001b[0;32mfor\u001b[0m \u001b[0mchunk\u001b[0m \u001b[0;32min\u001b[0m \u001b[0mreader\u001b[0m\u001b[0;34m:\u001b[0m\u001b[0;34m\u001b[0m\u001b[0m\n\u001b[0;32m----> 2\u001b[0;31m   \u001b[0mwith_summary\u001b[0m \u001b[0;34m=\u001b[0m \u001b[0mfilter_out_without_summary\u001b[0m\u001b[0;34m(\u001b[0m\u001b[0mreader\u001b[0m\u001b[0;34m)\u001b[0m\u001b[0;34m\u001b[0m\u001b[0m\n\u001b[0m",
      "\u001b[0;32m/tmp/ipykernel_14510/2744054930.py\u001b[0m in \u001b[0;36mfilter_out_without_summary\u001b[0;34m(chunk)\u001b[0m\n\u001b[1;32m      1\u001b[0m \u001b[0;32mdef\u001b[0m \u001b[0mfilter_out_without_summary\u001b[0m\u001b[0;34m(\u001b[0m\u001b[0mchunk\u001b[0m\u001b[0;34m)\u001b[0m\u001b[0;34m:\u001b[0m\u001b[0;34m\u001b[0m\u001b[0m\n\u001b[1;32m      2\u001b[0m   \u001b[0;31m# extract summary if present, elese None\u001b[0m\u001b[0;34m\u001b[0m\u001b[0;34m\u001b[0m\u001b[0m\n\u001b[0;32m----> 3\u001b[0;31m   chunk[\"Contents\"] = chunk[\"Contents\"].apply(\n\u001b[0m\u001b[1;32m      4\u001b[0m     \u001b[0;32mlambda\u001b[0m \u001b[0mr\u001b[0m\u001b[0;34m:\u001b[0m \u001b[0meval\u001b[0m\u001b[0;34m(\u001b[0m\u001b[0mr\u001b[0m\u001b[0;34m)\u001b[0m\u001b[0;34m[\u001b[0m\u001b[0;34m\"SUMMARY\"\u001b[0m\u001b[0;34m]\u001b[0m \u001b[0;32mif\u001b[0m \u001b[0;34m\"SUMMARY\"\u001b[0m \u001b[0;32min\u001b[0m \u001b[0meval\u001b[0m\u001b[0;34m(\u001b[0m\u001b[0mr\u001b[0m\u001b[0;34m)\u001b[0m\u001b[0;34m.\u001b[0m\u001b[0mkeys\u001b[0m\u001b[0;34m(\u001b[0m\u001b[0;34m)\u001b[0m \u001b[0;32melse\u001b[0m \u001b[0;32mNone\u001b[0m\u001b[0;34m,\u001b[0m\u001b[0;34m\u001b[0m\u001b[0m\n\u001b[1;32m      5\u001b[0m     convert_dtype=False)\n",
      "\u001b[0;31mTypeError\u001b[0m: 'TextFileReader' object is not subscriptable"
     ]
    }
   ],
   "source": [
    "for chunk in reader:\n",
    "  with_summary = filter_out_without_summary(reader)"
   ]
  },
  {
   "cell_type": "code",
   "execution_count": 292,
   "id": "d9c49107-2d26-4b1e-80ec-2faea94db33c",
   "metadata": {},
   "outputs": [
    {
     "data": {
      "text/plain": [
       "0     Certain embodiments relate to a system for dis...\n",
       "23    The object of the present disclosure is to pro...\n",
       "30    According to an embodiment of the present inve...\n",
       "35    Disclosed, in various embodiments, are energy ...\n",
       "36    The invention is defined by the features of th...\n",
       "40    This Summary is provided to introduce, in a si...\n",
       "42    Various implementations of systems, methods an...\n",
       "43    The Summary is provided to introduce a selecti...\n",
       "55    In accordance with the present invention, prod...\n",
       "60    In order to improve flux and quality of the ne...\n",
       "66    An object is to improve the conservation of en...\n",
       "67    An object of the present invention is thus to ...\n",
       "68    There is presented a method for detecting a re...\n",
       "76    The problems underlying the present invention ...\n",
       "77    In order to improve flux and quality of the ne...\n",
       "78    This disclosure is based on the unexpected dis...\n",
       "82    An object is to enable improved user experienc...\n",
       "88    A method is implemented by a network device ex...\n",
       "97    One object of the invention is thus to provide...\n",
       "Name: Contents, dtype: object"
      ]
     },
     "execution_count": 292,
     "metadata": {},
     "output_type": "execute_result"
    }
   ],
   "source": [
    "idx[\"Contents\"]"
   ]
  },
  {
   "cell_type": "code",
   "execution_count": 199,
   "id": "c38a7448-279b-49ea-a13c-634f942d8de6",
   "metadata": {},
   "outputs": [
    {
     "ename": "SyntaxError",
     "evalue": "invalid syntax (<string>, line 1)",
     "output_type": "error",
     "traceback": [
      "Traceback \u001b[0;36m(most recent call last)\u001b[0m:\n",
      "  File \u001b[1;32m\"/opt/anaconda3/envs/nlp/lib/python3.7/site-packages/IPython/core/interactiveshell.py\"\u001b[0m, line \u001b[1;32m3457\u001b[0m, in \u001b[1;35mrun_code\u001b[0m\n    exec(code_obj, self.user_global_ns, self.user_ns)\n",
      "  File \u001b[1;32m\"/tmp/ipykernel_14510/1876096738.py\"\u001b[0m, line \u001b[1;32m1\u001b[0m, in \u001b[1;35m<module>\u001b[0m\n    row[\"Contents\"].apply(lambda r: eval(r)[\"SUMMARY\"][0] if \"SUMMARY\" in eval(r).keys() else None, convert_dtype=False)\n",
      "  File \u001b[1;32m\"/opt/anaconda3/envs/nlp/lib/python3.7/site-packages/pandas/core/series.py\"\u001b[0m, line \u001b[1;32m4213\u001b[0m, in \u001b[1;35mapply\u001b[0m\n    mapped = lib.map_infer(values, f, convert=convert_dtype)\n",
      "  File \u001b[1;32m\"pandas/_libs/lib.pyx\"\u001b[0m, line \u001b[1;32m2403\u001b[0m, in \u001b[1;35mpandas._libs.lib.map_infer\u001b[0m\n",
      "\u001b[0;36m  File \u001b[0;32m\"/tmp/ipykernel_14510/1876096738.py\"\u001b[0;36m, line \u001b[0;32m1\u001b[0;36m, in \u001b[0;35m<lambda>\u001b[0;36m\u001b[0m\n\u001b[0;31m    row[\"Contents\"].apply(lambda r: eval(r)[\"SUMMARY\"][0] if \"SUMMARY\" in eval(r).keys() else None, convert_dtype=False)\u001b[0m\n",
      "\u001b[0;36m  File \u001b[0;32m\"<string>\"\u001b[0;36m, line \u001b[0;32m1\u001b[0m\n\u001b[0;31m    Certain embodiments relate to a system for dissecting an eye for the introduction of a photosensitizer into tissue of an eye, the system comprising the apparatus and the cannula device. Certain embodiments relate to an apparatus for dissecting an eye for the introduction of a photosensitizer into tissue of an eye, and the apparatus comprises a source for laser radiation, a system for guiding and focusing the laser radiation relative to the tissue of an eye and a computer for controlling the aforementioned system.\u001b[0m\n\u001b[0m                      ^\u001b[0m\n\u001b[0;31mSyntaxError\u001b[0m\u001b[0;31m:\u001b[0m invalid syntax\n"
     ]
    }
   ],
   "source": [
    "row[\"Contents\"].apply(lambda r: eval(r)[\"SUMMARY\"][0] if \"SUMMARY\" in eval(r).keys() else None, convert_dtype=False)"
   ]
  },
  {
   "cell_type": "code",
   "execution_count": 109,
   "id": "2ca01f32-5c1b-40da-a845-c705393403f8",
   "metadata": {},
   "outputs": [],
   "source": [
    "x = map(extract_summary, reader)"
   ]
  },
  {
   "cell_type": "code",
   "execution_count": 110,
   "id": "6e37acff-5f2c-4dc8-b7ad-a5cf0eb24a45",
   "metadata": {},
   "outputs": [
    {
     "data": {
      "text/plain": [
       "[]"
      ]
     },
     "execution_count": 110,
     "metadata": {},
     "output_type": "execute_result"
    }
   ],
   "source": [
    "list(x)"
   ]
  },
  {
   "cell_type": "code",
   "execution_count": 57,
   "id": "c7a52fa4-7f67-45f3-ad72-a4a8351f6c81",
   "metadata": {},
   "outputs": [
    {
     "data": {
      "text/plain": [
       "True"
      ]
     },
     "execution_count": 57,
     "metadata": {},
     "output_type": "execute_result"
    }
   ],
   "source": [
    "\"summary\" in map(str.lower, eval(x.iloc[0][\"Contents\"]).keys())"
   ]
  },
  {
   "cell_type": "code",
   "execution_count": 7,
   "id": "2593023b-87e6-438c-beb3-87d629c4f71f",
   "metadata": {},
   "outputs": [
    {
     "ename": "AttributeError",
     "evalue": "__enter__",
     "output_type": "error",
     "traceback": [
      "\u001b[0;31m---------------------------------------------------------------------------\u001b[0m",
      "\u001b[0;31mAttributeError\u001b[0m                            Traceback (most recent call last)",
      "\u001b[0;32m/tmp/ipykernel_14510/1430118782.py\u001b[0m in \u001b[0;36m<module>\u001b[0;34m\u001b[0m\n\u001b[1;32m      1\u001b[0m \u001b[0mchunksize\u001b[0m \u001b[0;34m=\u001b[0m \u001b[0;36m5e3\u001b[0m\u001b[0;34m\u001b[0m\u001b[0m\n\u001b[0;32m----> 2\u001b[0;31m \u001b[0;32mwith\u001b[0m \u001b[0mpd\u001b[0m\u001b[0;34m.\u001b[0m\u001b[0mread_csv\u001b[0m\u001b[0;34m(\u001b[0m\u001b[0mdescription_path\u001b[0m\u001b[0;34m,\u001b[0m \u001b[0mchunksize\u001b[0m\u001b[0;34m=\u001b[0m\u001b[0mchunksize\u001b[0m\u001b[0;34m)\u001b[0m \u001b[0;32mas\u001b[0m \u001b[0mreader\u001b[0m\u001b[0;34m:\u001b[0m\u001b[0;34m\u001b[0m\u001b[0m\n\u001b[0m\u001b[1;32m      3\u001b[0m     \u001b[0;32mfor\u001b[0m \u001b[0mchunk\u001b[0m \u001b[0;32min\u001b[0m \u001b[0mreader\u001b[0m\u001b[0;34m:\u001b[0m\u001b[0;34m\u001b[0m\u001b[0m\n\u001b[1;32m      4\u001b[0m         \u001b[0mprint\u001b[0m\u001b[0;34m(\u001b[0m\u001b[0mchunk\u001b[0m\u001b[0;34m.\u001b[0m\u001b[0mhead\u001b[0m\u001b[0;34m(\u001b[0m\u001b[0;34m)\u001b[0m\u001b[0;34m)\u001b[0m\u001b[0;34m\u001b[0m\u001b[0m\n\u001b[1;32m      5\u001b[0m         \u001b[0;32mbreak\u001b[0m\u001b[0;34m\u001b[0m\u001b[0m\n",
      "\u001b[0;31mAttributeError\u001b[0m: __enter__"
     ]
    }
   ],
   "source": [
    "chunksize = 5e3\n",
    "with pd.read_csv(description_path, chunksize=chunksize) as reader:\n",
    "    for chunk in reader:\n",
    "        print(chunk.head())\n",
    "        break"
   ]
  },
  {
   "cell_type": "code",
   "execution_count": 5,
   "id": "388f7f1b-c8b5-4828-b22c-fb72b06d69e7",
   "metadata": {},
   "outputs": [
    {
     "ename": "KeyboardInterrupt",
     "evalue": "",
     "output_type": "error",
     "traceback": [
      "\u001b[0;31m---------------------------------------------------------------------------\u001b[0m",
      "\u001b[0;31mKeyboardInterrupt\u001b[0m                         Traceback (most recent call last)",
      "\u001b[0;32m/tmp/ipykernel_14510/2507781768.py\u001b[0m in \u001b[0;36m<module>\u001b[0;34m\u001b[0m\n\u001b[0;32m----> 1\u001b[0;31m \u001b[0mdescription\u001b[0m \u001b[0;34m=\u001b[0m \u001b[0mpd\u001b[0m\u001b[0;34m.\u001b[0m\u001b[0mread_csv\u001b[0m\u001b[0;34m(\u001b[0m\u001b[0mdescription_path\u001b[0m\u001b[0;34m)\u001b[0m\u001b[0;31m \u001b[0m\u001b[0;31m\\\u001b[0m\u001b[0;34m\u001b[0m\u001b[0m\n\u001b[0m\u001b[1;32m      2\u001b[0m                 \u001b[0;34m.\u001b[0m\u001b[0mdrop\u001b[0m\u001b[0;34m(\u001b[0m\u001b[0mcolumns\u001b[0m\u001b[0;34m=\u001b[0m\u001b[0;34m[\u001b[0m\u001b[0;34m\"Unnamed: 0\"\u001b[0m\u001b[0;34m,\u001b[0m \u001b[0;34m\"Language\"\u001b[0m\u001b[0;34m,\u001b[0m \u001b[0;34m\"PatenType\"\u001b[0m\u001b[0;34m,\u001b[0m \u001b[0;34m\"PublicationType\"\u001b[0m\u001b[0;34m,\u001b[0m \u001b[0;34m\"Language\"\u001b[0m\u001b[0;34m,\u001b[0m \u001b[0;34m\"Part\"\u001b[0m\u001b[0;34m,\u001b[0m \u001b[0;34m\"Number\"\u001b[0m\u001b[0;34m]\u001b[0m\u001b[0;34m)\u001b[0m\u001b[0;31m \u001b[0m\u001b[0;31m\\\u001b[0m\u001b[0;34m\u001b[0m\u001b[0m\n\u001b[1;32m      3\u001b[0m                 \u001b[0;34m.\u001b[0m\u001b[0mrename\u001b[0m\u001b[0;34m(\u001b[0m\u001b[0mcolumns\u001b[0m\u001b[0;34m=\u001b[0m\u001b[0;34m{\u001b[0m\u001b[0;34m\"Contents\"\u001b[0m\u001b[0;34m:\u001b[0m \u001b[0;34m\"description\"\u001b[0m\u001b[0;34m}\u001b[0m\u001b[0;34m)\u001b[0m\u001b[0;34m.\u001b[0m\u001b[0mrename\u001b[0m\u001b[0;34m(\u001b[0m\u001b[0mstr\u001b[0m\u001b[0;34m.\u001b[0m\u001b[0mlower\u001b[0m\u001b[0;34m,\u001b[0m \u001b[0maxis\u001b[0m\u001b[0;34m=\u001b[0m\u001b[0;34m\"columns\"\u001b[0m\u001b[0;34m)\u001b[0m\u001b[0;31m \u001b[0m\u001b[0;31m\\\u001b[0m\u001b[0;34m\u001b[0m\u001b[0m\n\u001b[1;32m      4\u001b[0m                 \u001b[0;34m.\u001b[0m\u001b[0mset_index\u001b[0m\u001b[0;34m(\u001b[0m\u001b[0;34m\"patentnumber\"\u001b[0m\u001b[0;34m)\u001b[0m\u001b[0;34m\u001b[0m\u001b[0m\n",
      "\u001b[0;32m/opt/anaconda3/envs/nlp/lib/python3.7/site-packages/pandas/io/parsers.py\u001b[0m in \u001b[0;36mread_csv\u001b[0;34m(filepath_or_buffer, sep, delimiter, header, names, index_col, usecols, squeeze, prefix, mangle_dupe_cols, dtype, engine, converters, true_values, false_values, skipinitialspace, skiprows, skipfooter, nrows, na_values, keep_default_na, na_filter, verbose, skip_blank_lines, parse_dates, infer_datetime_format, keep_date_col, date_parser, dayfirst, cache_dates, iterator, chunksize, compression, thousands, decimal, lineterminator, quotechar, quoting, doublequote, escapechar, comment, encoding, dialect, error_bad_lines, warn_bad_lines, delim_whitespace, low_memory, memory_map, float_precision)\u001b[0m\n\u001b[1;32m    686\u001b[0m     )\n\u001b[1;32m    687\u001b[0m \u001b[0;34m\u001b[0m\u001b[0m\n\u001b[0;32m--> 688\u001b[0;31m     \u001b[0;32mreturn\u001b[0m \u001b[0m_read\u001b[0m\u001b[0;34m(\u001b[0m\u001b[0mfilepath_or_buffer\u001b[0m\u001b[0;34m,\u001b[0m \u001b[0mkwds\u001b[0m\u001b[0;34m)\u001b[0m\u001b[0;34m\u001b[0m\u001b[0m\n\u001b[0m\u001b[1;32m    689\u001b[0m \u001b[0;34m\u001b[0m\u001b[0m\n\u001b[1;32m    690\u001b[0m \u001b[0;34m\u001b[0m\u001b[0m\n",
      "\u001b[0;32m/opt/anaconda3/envs/nlp/lib/python3.7/site-packages/pandas/io/parsers.py\u001b[0m in \u001b[0;36m_read\u001b[0;34m(filepath_or_buffer, kwds)\u001b[0m\n\u001b[1;32m    458\u001b[0m \u001b[0;34m\u001b[0m\u001b[0m\n\u001b[1;32m    459\u001b[0m     \u001b[0;32mtry\u001b[0m\u001b[0;34m:\u001b[0m\u001b[0;34m\u001b[0m\u001b[0m\n\u001b[0;32m--> 460\u001b[0;31m         \u001b[0mdata\u001b[0m \u001b[0;34m=\u001b[0m \u001b[0mparser\u001b[0m\u001b[0;34m.\u001b[0m\u001b[0mread\u001b[0m\u001b[0;34m(\u001b[0m\u001b[0mnrows\u001b[0m\u001b[0;34m)\u001b[0m\u001b[0;34m\u001b[0m\u001b[0m\n\u001b[0m\u001b[1;32m    461\u001b[0m     \u001b[0;32mfinally\u001b[0m\u001b[0;34m:\u001b[0m\u001b[0;34m\u001b[0m\u001b[0m\n\u001b[1;32m    462\u001b[0m         \u001b[0mparser\u001b[0m\u001b[0;34m.\u001b[0m\u001b[0mclose\u001b[0m\u001b[0;34m(\u001b[0m\u001b[0;34m)\u001b[0m\u001b[0;34m\u001b[0m\u001b[0m\n",
      "\u001b[0;32m/opt/anaconda3/envs/nlp/lib/python3.7/site-packages/pandas/io/parsers.py\u001b[0m in \u001b[0;36mread\u001b[0;34m(self, nrows)\u001b[0m\n\u001b[1;32m   1196\u001b[0m     \u001b[0;32mdef\u001b[0m \u001b[0mread\u001b[0m\u001b[0;34m(\u001b[0m\u001b[0mself\u001b[0m\u001b[0;34m,\u001b[0m \u001b[0mnrows\u001b[0m\u001b[0;34m=\u001b[0m\u001b[0;32mNone\u001b[0m\u001b[0;34m)\u001b[0m\u001b[0;34m:\u001b[0m\u001b[0;34m\u001b[0m\u001b[0m\n\u001b[1;32m   1197\u001b[0m         \u001b[0mnrows\u001b[0m \u001b[0;34m=\u001b[0m \u001b[0m_validate_integer\u001b[0m\u001b[0;34m(\u001b[0m\u001b[0;34m\"nrows\"\u001b[0m\u001b[0;34m,\u001b[0m \u001b[0mnrows\u001b[0m\u001b[0;34m)\u001b[0m\u001b[0;34m\u001b[0m\u001b[0m\n\u001b[0;32m-> 1198\u001b[0;31m         \u001b[0mret\u001b[0m \u001b[0;34m=\u001b[0m \u001b[0mself\u001b[0m\u001b[0;34m.\u001b[0m\u001b[0m_engine\u001b[0m\u001b[0;34m.\u001b[0m\u001b[0mread\u001b[0m\u001b[0;34m(\u001b[0m\u001b[0mnrows\u001b[0m\u001b[0;34m)\u001b[0m\u001b[0;34m\u001b[0m\u001b[0m\n\u001b[0m\u001b[1;32m   1199\u001b[0m \u001b[0;34m\u001b[0m\u001b[0m\n\u001b[1;32m   1200\u001b[0m         \u001b[0;31m# May alter columns / col_dict\u001b[0m\u001b[0;34m\u001b[0m\u001b[0;34m\u001b[0m\u001b[0m\n",
      "\u001b[0;32m/opt/anaconda3/envs/nlp/lib/python3.7/site-packages/pandas/io/parsers.py\u001b[0m in \u001b[0;36mread\u001b[0;34m(self, nrows)\u001b[0m\n\u001b[1;32m   2155\u001b[0m     \u001b[0;32mdef\u001b[0m \u001b[0mread\u001b[0m\u001b[0;34m(\u001b[0m\u001b[0mself\u001b[0m\u001b[0;34m,\u001b[0m \u001b[0mnrows\u001b[0m\u001b[0;34m=\u001b[0m\u001b[0;32mNone\u001b[0m\u001b[0;34m)\u001b[0m\u001b[0;34m:\u001b[0m\u001b[0;34m\u001b[0m\u001b[0m\n\u001b[1;32m   2156\u001b[0m         \u001b[0;32mtry\u001b[0m\u001b[0;34m:\u001b[0m\u001b[0;34m\u001b[0m\u001b[0m\n\u001b[0;32m-> 2157\u001b[0;31m             \u001b[0mdata\u001b[0m \u001b[0;34m=\u001b[0m \u001b[0mself\u001b[0m\u001b[0;34m.\u001b[0m\u001b[0m_reader\u001b[0m\u001b[0;34m.\u001b[0m\u001b[0mread\u001b[0m\u001b[0;34m(\u001b[0m\u001b[0mnrows\u001b[0m\u001b[0;34m)\u001b[0m\u001b[0;34m\u001b[0m\u001b[0m\n\u001b[0m\u001b[1;32m   2158\u001b[0m         \u001b[0;32mexcept\u001b[0m \u001b[0mStopIteration\u001b[0m\u001b[0;34m:\u001b[0m\u001b[0;34m\u001b[0m\u001b[0m\n\u001b[1;32m   2159\u001b[0m             \u001b[0;32mif\u001b[0m \u001b[0mself\u001b[0m\u001b[0;34m.\u001b[0m\u001b[0m_first_chunk\u001b[0m\u001b[0;34m:\u001b[0m\u001b[0;34m\u001b[0m\u001b[0m\n",
      "\u001b[0;32mpandas/_libs/parsers.pyx\u001b[0m in \u001b[0;36mpandas._libs.parsers.TextReader.read\u001b[0;34m()\u001b[0m\n",
      "\u001b[0;32mpandas/_libs/parsers.pyx\u001b[0m in \u001b[0;36mpandas._libs.parsers.TextReader._read_low_memory\u001b[0;34m()\u001b[0m\n",
      "\u001b[0;32mpandas/_libs/parsers.pyx\u001b[0m in \u001b[0;36mpandas._libs.parsers._concatenate_chunks\u001b[0;34m()\u001b[0m\n",
      "\u001b[0;32m/opt/anaconda3/envs/nlp/lib/python3.7/site-packages/pandas/core/dtypes/common.py\u001b[0m in \u001b[0;36mis_categorical_dtype\u001b[0;34m(arr_or_dtype)\u001b[0m\n\u001b[1;32m    528\u001b[0m \u001b[0;34m\u001b[0m\u001b[0m\n\u001b[1;32m    529\u001b[0m \u001b[0;34m\u001b[0m\u001b[0m\n\u001b[0;32m--> 530\u001b[0;31m \u001b[0;32mdef\u001b[0m \u001b[0mis_categorical_dtype\u001b[0m\u001b[0;34m(\u001b[0m\u001b[0marr_or_dtype\u001b[0m\u001b[0;34m)\u001b[0m \u001b[0;34m->\u001b[0m \u001b[0mbool\u001b[0m\u001b[0;34m:\u001b[0m\u001b[0;34m\u001b[0m\u001b[0m\n\u001b[0m\u001b[1;32m    531\u001b[0m     \"\"\"\n\u001b[1;32m    532\u001b[0m     \u001b[0mCheck\u001b[0m \u001b[0mwhether\u001b[0m \u001b[0man\u001b[0m \u001b[0marray\u001b[0m\u001b[0;34m-\u001b[0m\u001b[0mlike\u001b[0m \u001b[0;32mor\u001b[0m \u001b[0mdtype\u001b[0m \u001b[0;32mis\u001b[0m \u001b[0mof\u001b[0m \u001b[0mthe\u001b[0m \u001b[0mCategorical\u001b[0m \u001b[0mdtype\u001b[0m\u001b[0;34m.\u001b[0m\u001b[0;34m\u001b[0m\u001b[0m\n",
      "\u001b[0;31mKeyboardInterrupt\u001b[0m: "
     ]
    }
   ],
   "source": [
    "description = pd.read_csv(description_path) \\\n",
    "                .drop(columns=[\"Unnamed: 0\", \"Language\", \"PatenType\", \"PublicationType\", \"Language\", \"Part\", \"Number\"]) \\\n",
    "                .rename(columns={\"Contents\": \"description\"}).rename(str.lower, axis=\"columns\") \\\n",
    "                .set_index(\"patentnumber\")"
   ]
  },
  {
   "cell_type": "code",
   "execution_count": 40,
   "id": "b057316c-d354-4885-a0f5-c1648e1ed56b",
   "metadata": {},
   "outputs": [
    {
     "data": {
      "text/plain": [
       "((43080, 2), (43080, 2))"
      ]
     },
     "execution_count": 40,
     "metadata": {},
     "output_type": "execute_result"
    }
   ],
   "source": [
    "title.shape, claims.shape, description.shape"
   ]
  },
  {
   "cell_type": "code",
   "execution_count": null,
   "id": "6a27f5b1-ad9d-4ce6-98b5-dae00d29af2f",
   "metadata": {},
   "outputs": [],
   "source": []
  }
 ],
 "metadata": {
  "kernelspec": {
   "display_name": "Python 3 (ipykernel)",
   "language": "python",
   "name": "python3"
  },
  "language_info": {
   "codemirror_mode": {
    "name": "ipython",
    "version": 3
   },
   "file_extension": ".py",
   "mimetype": "text/x-python",
   "name": "python",
   "nbconvert_exporter": "python",
   "pygments_lexer": "ipython3",
   "version": "3.7.0"
  }
 },
 "nbformat": 4,
 "nbformat_minor": 5
}
