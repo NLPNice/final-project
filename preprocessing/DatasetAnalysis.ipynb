{
 "cells": [
  {
   "cell_type": "markdown",
   "metadata": {},
   "source": [
    "# Dataset analysis\n",
    "\n",
    "In the following notebook we will analyse the data to check how balanced are the summaries and the claims."
   ]
  },
  {
   "cell_type": "code",
   "execution_count": 1,
   "id": "d2fbb3fb-4212-4a75-9219-75f96c986056",
   "metadata": {},
   "outputs": [],
   "source": [
    "import pandas as pd\n",
    "import numpy as np\n",
    "\n",
    "DATASET_PATH = \"../data/summaries_claims.zip\""
   ]
  },
  {
   "cell_type": "code",
   "execution_count": 2,
   "id": "0fcd9f4b-093c-4521-aa72-7cbad0ba5487",
   "metadata": {},
   "outputs": [],
   "source": [
    "df = pd.read_csv(DATASET_PATH) \n",
    "df = df.dropna()"
   ]
  },
  {
   "cell_type": "markdown",
   "id": "a2352733-12c7-4f62-856b-303e4dbf7ac8",
   "metadata": {},
   "source": [
    "Let's check how summaries lengths are distributed."
   ]
  },
  {
   "cell_type": "code",
   "execution_count": 3,
   "id": "5c06e891-a978-45cf-9a19-86c6480819a1",
   "metadata": {},
   "outputs": [
    {
     "data": {
      "text/plain": [
       "count    26035.000000\n",
       "mean       980.091185\n",
       "std       1355.620430\n",
       "min          7.000000\n",
       "25%        251.000000\n",
       "50%        596.000000\n",
       "75%       1204.000000\n",
       "max      37829.000000\n",
       "Name: summary, dtype: float64"
      ]
     },
     "execution_count": 3,
     "metadata": {},
     "output_type": "execute_result"
    }
   ],
   "source": [
    "summaries_length = df[\"summary\"].astype(str).apply(lambda summary: len(summary.split()))\n",
    "claims_length = df[\"claim\"].astype(str).apply(lambda c: len(c.split()))\n",
    "\n",
    "summaries_length.describe()"
   ]
  },
  {
   "cell_type": "markdown",
   "id": "a08a7e22-62d7-4c11-b237-513a143c6e9e",
   "metadata": {},
   "source": [
    "Mean length is $\\approx 980$ tokens but maximum and minimum are wildly far apart ($37829$ and $7$ respectively)."
   ]
  },
  {
   "cell_type": "code",
   "execution_count": 4,
   "id": "cdb463b3-5334-4f5e-840c-73b5ed5e6335",
   "metadata": {},
   "outputs": [
    {
     "data": {
      "image/png": "[encoded data removed]",
      "text/plain": [
       "<Figure size 432x288 with 1 Axes>"
      ]
     },
     "metadata": {
      "needs_background": "light"
     },
     "output_type": "display_data"
    }
   ],
   "source": [
    "import matplotlib.pyplot as plt\n",
    "plt.hist(summaries_length)\n",
    "plt.title(\"Length distribution\")\n",
    "plt.xlabel(\"Tokens\")\n",
    "plt.ylabel(\"Samples\")\n",
    "plt.show()"
   ]
  },
  {
   "cell_type": "markdown",
   "id": "49ef0d33-e736-4320-b10d-0bf6af3e9e14",
   "metadata": {},
   "source": [
    "Indeed summaries longer than $10000$ tokens are exceptionally rare. In fact even summaries with more than $4000$ tokens are uncommon."
   ]
  },
  {
   "cell_type": "code",
   "execution_count": 5,
   "id": "19d66b27-f341-417b-b3d1-ea8464914dde",
   "metadata": {},
   "outputs": [
    {
     "data": {
      "text/plain": [
       "0.9710389859804109"
      ]
     },
     "execution_count": 5,
     "metadata": {},
     "output_type": "execute_result"
    }
   ],
   "source": [
    "sum(summaries_length < 4000) / summaries_length.shape[0]"
   ]
  },
  {
   "cell_type": "markdown",
   "id": "52e18043-bd16-4f54-bcc2-5263d1add55f",
   "metadata": {},
   "source": [
    "Summaries whose length is over $4000$ only accounts for $\\lt 3\\%$ of all the samples.\n",
    "Let's throw all of those samples with more than $4000$ tokens and see what remaining ones looks like."
   ]
  },
  {
   "cell_type": "code",
   "execution_count": 6,
   "id": "cc971377-28ae-4b9f-8121-bacdb1ffaada",
   "metadata": {},
   "outputs": [
    {
     "name": "stdout",
     "output_type": "stream",
     "text": [
      "count    25281.000000\n",
      "mean       815.789051\n",
      "std        785.447507\n",
      "min          7.000000\n",
      "25%        243.000000\n",
      "50%        569.000000\n",
      "75%       1127.000000\n",
      "max       3998.000000\n",
      "Name: summary, dtype: float64\n"
     ]
    },
    {
     "data": {
      "image/png": "[encoded data removed]",
      "text/plain": [
       "<Figure size 432x288 with 1 Axes>"
      ]
     },
     "metadata": {
      "needs_background": "light"
     },
     "output_type": "display_data"
    }
   ],
   "source": [
    "outliers = summaries_length > 4000\n",
    "\n",
    "print(summaries_length[~outliers].describe())\n",
    "plt.hist(summaries_length[~outliers])\n",
    "plt.title(\"Length distribution\")\n",
    "plt.xlabel(\"Tokens\")\n",
    "plt.ylabel(\"Samples\")\n",
    "plt.show()\n",
    "plt.show()"
   ]
  },
  {
   "cell_type": "markdown",
   "id": "014e5c41-a102-46d4-bc05-e0445c327cb2",
   "metadata": {},
   "source": [
    "Now the distribution looks more like a zipf distribution. This is not a problem per-se but might be a problem when we end up training a neural network on that kind of data.\n",
    "\n",
    "Let's try to see how summaries with less than $500$ tokens are distributed."
   ]
  },
  {
   "cell_type": "code",
   "execution_count": 7,
   "id": "74fc2d11-5b2a-423c-8802-949ee45aa461",
   "metadata": {},
   "outputs": [
    {
     "name": "stdout",
     "output_type": "stream",
     "text": [
      "count    11490.000000\n",
      "mean       227.664317\n",
      "std        143.443748\n",
      "min          7.000000\n",
      "25%        100.000000\n",
      "50%        218.000000\n",
      "75%        349.000000\n",
      "max        499.000000\n",
      "Name: summary, dtype: float64\n"
     ]
    },
    {
     "data": {
      "image/png": "[encoded data removed]",
      "text/plain": [
       "<Figure size 432x288 with 1 Axes>"
      ]
     },
     "metadata": {
      "needs_background": "light"
     },
     "output_type": "display_data"
    }
   ],
   "source": [
    "short = summaries_length < 500\n",
    "\n",
    "print(summaries_length[short].describe())\n",
    "plt.hist(summaries_length[short])\n",
    "plt.title(\"Length distribution\")\n",
    "plt.xlabel(\"Tokens\")\n",
    "plt.ylabel(\"Samples\")\n",
    "plt.show()\n",
    "plt.show()"
   ]
  },
  {
   "cell_type": "markdown",
   "id": "84bc3382-b20c-4ef9-91ae-6e04f015726f",
   "metadata": {},
   "source": [
    "The concentration of summaries with length $\\leq 50$ is quite high"
   ]
  },
  {
   "cell_type": "code",
   "execution_count": 8,
   "id": "26245149-7f0e-4001-a87a-1edaf2635650",
   "metadata": {},
   "outputs": [
    {
     "name": "stdout",
     "output_type": "stream",
     "text": [
      "count    1532.000000\n",
      "mean       27.582898\n",
      "std        11.573367\n",
      "min         7.000000\n",
      "25%        18.000000\n",
      "50%        27.000000\n",
      "75%        37.000000\n",
      "max        49.000000\n",
      "Name: summary, dtype: float64\n"
     ]
    },
    {
     "data": {
      "image/png": "[encoded data removed]",
      "text/plain": [
       "<Figure size 432x288 with 1 Axes>"
      ]
     },
     "metadata": {
      "needs_background": "light"
     },
     "output_type": "display_data"
    }
   ],
   "source": [
    "short = summaries_length < 50\n",
    "\n",
    "print(summaries_length[short].describe())\n",
    "plt.hist(summaries_length[short])\n",
    "plt.title(\"Length distribution\")\n",
    "plt.xlabel(\"Tokens\")\n",
    "plt.ylabel(\"Samples\")\n",
    "plt.show()\n",
    "plt.show()"
   ]
  },
  {
   "cell_type": "markdown",
   "id": "59bf6266-e779-48dc-89e3-575163bda999",
   "metadata": {},
   "source": [
    "Arguably, it's pretty difficult to generate a meaningful claim if the description of the patent itself is shorter than the actual claim we wish to generate."
   ]
  },
  {
   "cell_type": "code",
   "execution_count": 9,
   "id": "69be4816-b48e-4633-a2d7-988584e9836c",
   "metadata": {},
   "outputs": [
    {
     "data": {
      "text/plain": [
       "0.17242173996543114"
      ]
     },
     "execution_count": 9,
     "metadata": {},
     "output_type": "execute_result"
    }
   ],
   "source": [
    "sum(summaries_length < claims_length) / summaries_length.shape[0]"
   ]
  },
  {
   "cell_type": "markdown",
   "id": "3c4507f7-8bd4-4c16-b77c-bafa23138372",
   "metadata": {},
   "source": [
    "$\\approx 17\\%$ of all the documents have a longer claim compared to the description."
   ]
  },
  {
   "cell_type": "code",
   "execution_count": 10,
   "id": "98cd99e0-6626-47ba-a9b8-1044667bce67",
   "metadata": {},
   "outputs": [
    {
     "data": {
      "image/png": "[encoded data removed]",
      "text/plain": [
       "<Figure size 432x288 with 1 Axes>"
      ]
     },
     "metadata": {
      "needs_background": "light"
     },
     "output_type": "display_data"
    }
   ],
   "source": [
    "plt.hist(summaries_length[summaries_length < claims_length])\n",
    "plt.title(\"Length distribution\")\n",
    "plt.xlabel(\"Tokens\")\n",
    "plt.ylabel(\"Samples\")\n",
    "plt.show()\n",
    "plt.show()"
   ]
  },
  {
   "cell_type": "markdown",
   "id": "3cb7aee3-be7f-4ddf-b9d8-8481b6a65500",
   "metadata": {},
   "source": [
    "As we could expect these are mostly documents whose description length is $< 500$.\n",
    "For this reasons we will remove all the documents whose length is $\\leq 500$ along with all those documents whose claim is longer than the summary."
   ]
  },
  {
   "cell_type": "code",
   "execution_count": 11,
   "id": "14b2bee8-1ac5-4392-9f4c-13cbac2fc3a1",
   "metadata": {},
   "outputs": [
    {
     "data": {
      "image/png": "[encoded data removed]",
      "text/plain": [
       "<Figure size 432x288 with 1 Axes>"
      ]
     },
     "metadata": {
      "needs_background": "light"
     },
     "output_type": "display_data"
    }
   ],
   "source": [
    "outliers = outliers | (summaries_length < 500) | (claims_length > summaries_length)\n",
    "\n",
    "plt.hist(summaries_length[~outliers])\n",
    "plt.title(\"Length distribution\")\n",
    "plt.xlabel(\"Tokens\")\n",
    "plt.ylabel(\"Samples\")\n",
    "plt.show()\n",
    "plt.show()"
   ]
  },
  {
   "cell_type": "markdown",
   "id": "047cd74c-54ec-4509-8dfa-e20a6a764d03",
   "metadata": {},
   "source": [
    "Unfortunately, we will be working with limited resources, hence "
   ]
  },
  {
   "cell_type": "markdown",
   "id": "03c8fa1e-3188-4b1e-9ede-640325acf254",
   "metadata": {},
   "source": [
    "The distribution still looks skewed towards shorter documents.\n",
    "To address this problem we will partition the documents by summary length in bins of size $200$ and sample $80$ documents in each bin."
   ]
  },
  {
   "cell_type": "code",
   "execution_count": 23,
   "id": "a479050b-a322-4998-a2dc-ac392d0ccbee",
   "metadata": {},
   "outputs": [],
   "source": [
    "MIN_LENGTH = 500\n",
    "MAX_LENGTH = 4000\n",
    "BIN_SIZE = 200\n",
    "SAMPLES_PER_BIN = 80\n",
    "\n",
    "balanced_df = pd.DataFrame()\n",
    "\n",
    "for b in range(MIN_LENGTH, MAX_LENGTH, BIN_SIZE):\n",
    "  in_bin = (summaries_length > b) & (summaries_length < b + BIN_SIZE)\n",
    "  balanced_df = pd.concat([balanced_df, \n",
    "                           df[in_bin].sample(n=SAMPLES_PER_BIN)])"
   ]
  },
  {
   "cell_type": "code",
   "execution_count": 25,
   "id": "e44a6286-8b3e-4fa2-b86b-0f558cb2de4d",
   "metadata": {},
   "outputs": [
    {
     "data": {
      "image/png": "[encoded data removed]",
      "text/plain": [
       "<Figure size 432x288 with 1 Axes>"
      ]
     },
     "metadata": {
      "needs_background": "light"
     },
     "output_type": "display_data"
    }
   ],
   "source": [
    "plt.hist(balanced_df[\"summary\"].astype(str).apply(lambda x: len(x.split())))\n",
    "plt.title(\"Length distribution\")\n",
    "plt.xlabel(\"Tokens\")\n",
    "plt.ylabel(\"Samples\")\n",
    "plt.show()\n",
    "plt.show()"
   ]
  },
  {
   "cell_type": "markdown",
   "id": "12c7a53a-61dd-4b81-9b5f-953aea54322f",
   "metadata": {},
   "source": [
    "We end up with a smaller dataset, $1440$ documents, which is however balanced in the length of the summary. This is an important aspect as longer documents will articulate the first indipindent claim in a rather different way with respect to shorter documents."
   ]
  },
  {
   "cell_type": "code",
   "execution_count": 26,
   "id": "8d9394cf-aa78-4ed7-8833-20404df9b42e",
   "metadata": {},
   "outputs": [],
   "source": [
    "balanced_df.to_csv(\"balanced_summaries_claims.zip\", compression={\"method\": \"zip\", \"archive_name\": \"balanced_summaries_claims.csv\"})"
   ]
  }
 ],
 "metadata": {
  "interpreter": {
   "hash": "b370fcf750218deb763a1bfd4328b432277b45bfff13146ccae9650b7201ecb8"
  },
  "kernelspec": {
   "display_name": "Python 3.9.7 64-bit ('nlpnice': conda)",
   "name": "python3"
  },
  "language_info": {
   "codemirror_mode": {
    "name": "ipython",
    "version": 3
   },
   "file_extension": ".py",
   "mimetype": "text/x-python",
   "name": "python",
   "nbconvert_exporter": "python",
   "pygments_lexer": "ipython3",
   "version": "3.9.7"
  }
 },
 "nbformat": 4,
 "nbformat_minor": 5
}
