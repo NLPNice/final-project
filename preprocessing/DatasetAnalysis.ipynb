{
 "cells": [
  {
   "cell_type": "code",
   "execution_count": 1,
   "id": "d2fbb3fb-4212-4a75-9219-75f96c986056",
   "metadata": {},
   "outputs": [],
   "source": [
    "import pandas as pd\n",
    "import numpy as np\n",
    "\n",
    "DATASET_PATH = \"./summaries_claims.csv\""
   ]
  },
  {
   "cell_type": "code",
   "execution_count": 2,
   "id": "0fcd9f4b-093c-4521-aa72-7cbad0ba5487",
   "metadata": {},
   "outputs": [],
   "source": [
    "df = pd.read_csv(DATASET_PATH) \n",
    "df = df.dropna()"
   ]
  },
  {
   "cell_type": "markdown",
   "id": "a2352733-12c7-4f62-856b-303e4dbf7ac8",
   "metadata": {},
   "source": [
    "Let's check how summaries lengths are distributed."
   ]
  },
  {
   "cell_type": "code",
   "execution_count": 3,
   "id": "5c06e891-a978-45cf-9a19-86c6480819a1",
   "metadata": {},
   "outputs": [
    {
     "data": {
      "text/plain": [
       "count    26035.000000\n",
       "mean       980.620588\n",
       "std       1356.827247\n",
       "min          7.000000\n",
       "25%        251.000000\n",
       "50%        596.000000\n",
       "75%       1204.000000\n",
       "max      37845.000000\n",
       "Name: summaries, dtype: float64"
      ]
     },
     "execution_count": 3,
     "metadata": {},
     "output_type": "execute_result"
    }
   ],
   "source": [
    "summaries_length = df[\"summaries\"].astype(str).apply(lambda summary: len(summary.split()))\n",
    "claims_length = df[\"claims\"].astype(str).apply(lambda c: len(c.split()))\n",
    "\n",
    "summaries_length.describe()"
   ]
  },
  {
   "cell_type": "markdown",
   "id": "a08a7e22-62d7-4c11-b237-513a143c6e9e",
   "metadata": {},
   "source": [
    "Mean length is $\\approx 850$ tokens but maximum and minimum are wildly far apart ($37845$ and $1$ respectively)."
   ]
  },
  {
   "cell_type": "code",
   "execution_count": 4,
   "id": "cdb463b3-5334-4f5e-840c-73b5ed5e6335",
   "metadata": {},
   "outputs": [
    {
     "data": {
      "image/png": "[encoded data removed]",
      "text/plain": [
       "<Figure size 432x288 with 1 Axes>"
      ]
     },
     "metadata": {
      "needs_background": "light"
     },
     "output_type": "display_data"
    }
   ],
   "source": [
    "import matplotlib.pyplot as plt\n",
    "plt.hist(summaries_length)\n",
    "plt.title(\"Length distribution\")\n",
    "plt.xlabel(\"Tokens\")\n",
    "plt.ylabel(\"Samples\")\n",
    "plt.show()"
   ]
  },
  {
   "cell_type": "markdown",
   "id": "49ef0d33-e736-4320-b10d-0bf6af3e9e14",
   "metadata": {},
   "source": [
    "And indeed summaries longer than $10000$ tokens are exceptionally rare. In fact even summaries with more than $4000$ tokens are uncommon."
   ]
  },
  {
   "cell_type": "code",
   "execution_count": 5,
   "id": "19d66b27-f341-417b-b3d1-ea8464914dde",
   "metadata": {},
   "outputs": [
    {
     "data": {
      "text/plain": [
       "0.9710005761474938"
      ]
     },
     "execution_count": 5,
     "metadata": {},
     "output_type": "execute_result"
    }
   ],
   "source": [
    "sum(summaries_length < 4000) / summaries_length.shape[0]"
   ]
  },
  {
   "cell_type": "markdown",
   "id": "52e18043-bd16-4f54-bcc2-5263d1add55f",
   "metadata": {},
   "source": [
    "Summaries whose length is over $4000$ only accounts for $\\lt 3\\%$ of all the samples.\n",
    "Let's throw all of those samples with more than $4000$ tokens and see what remaining ones looks like."
   ]
  },
  {
   "cell_type": "code",
   "execution_count": 6,
   "id": "cc971377-28ae-4b9f-8121-bacdb1ffaada",
   "metadata": {},
   "outputs": [
    {
     "name": "stdout",
     "output_type": "stream",
     "text": [
      "count    25280.00000\n",
      "mean       816.05360\n",
      "std        785.58842\n",
      "min          7.00000\n",
      "25%        243.00000\n",
      "50%        569.50000\n",
      "75%       1127.00000\n",
      "max       3998.00000\n",
      "Name: summaries, dtype: float64\n"
     ]
    },
    {
     "data": {
      "image/png": "[encoded data removed]",
      "text/plain": [
       "<Figure size 432x288 with 1 Axes>"
      ]
     },
     "metadata": {
      "needs_background": "light"
     },
     "output_type": "display_data"
    }
   ],
   "source": [
    "not_outliers = summaries_length < 4000\n",
    "\n",
    "print(summaries_length[not_outliers].describe())\n",
    "plt.hist(summaries_length[not_outliers])\n",
    "plt.title(\"Length distribution\")\n",
    "plt.xlabel(\"Tokens\")\n",
    "plt.ylabel(\"Samples\")\n",
    "plt.show()\n",
    "plt.show()"
   ]
  },
  {
   "cell_type": "markdown",
   "id": "014e5c41-a102-46d4-bc05-e0445c327cb2",
   "metadata": {},
   "source": [
    "Now the distribution looks more like a Power Law distribution. This is not a problem per-se but might be a problem when we end up training a neural network on that kind of data.\n",
    "\n",
    "Let's try to see how summaries with less than $500$ tokens are distributed."
   ]
  },
  {
   "cell_type": "code",
   "execution_count": 7,
   "id": "74fc2d11-5b2a-423c-8802-949ee45aa461",
   "metadata": {},
   "outputs": [
    {
     "name": "stdout",
     "output_type": "stream",
     "text": [
      "count    11489.000000\n",
      "mean       227.749587\n",
      "std        143.512320\n",
      "min          7.000000\n",
      "25%        100.000000\n",
      "50%        218.000000\n",
      "75%        349.000000\n",
      "max        499.000000\n",
      "Name: summaries, dtype: float64\n"
     ]
    },
    {
     "data": {
      "image/png": "[encoded data removed]",
      "text/plain": [
       "<Figure size 432x288 with 1 Axes>"
      ]
     },
     "metadata": {
      "needs_background": "light"
     },
     "output_type": "display_data"
    }
   ],
   "source": [
    "short = summaries_length < 500\n",
    "\n",
    "print(summaries_length[short].describe())\n",
    "plt.hist(summaries_length[short])\n",
    "plt.title(\"Length distribution\")\n",
    "plt.xlabel(\"Tokens\")\n",
    "plt.ylabel(\"Samples\")\n",
    "plt.show()\n",
    "plt.show()"
   ]
  },
  {
   "cell_type": "markdown",
   "id": "84bc3382-b20c-4ef9-91ae-6e04f015726f",
   "metadata": {},
   "source": [
    "The concentratio of summaries with length $\\leq 50$ is quite high"
   ]
  },
  {
   "cell_type": "code",
   "execution_count": 8,
   "id": "26245149-7f0e-4001-a87a-1edaf2635650",
   "metadata": {},
   "outputs": [
    {
     "name": "stdout",
     "output_type": "stream",
     "text": [
      "count    1532.000000\n",
      "mean       27.584856\n",
      "std        11.575159\n",
      "min         7.000000\n",
      "25%        18.000000\n",
      "50%        27.000000\n",
      "75%        37.000000\n",
      "max        49.000000\n",
      "Name: summaries, dtype: float64\n"
     ]
    },
    {
     "data": {
      "image/png": "[encoded data removed]",
      "text/plain": [
       "<Figure size 432x288 with 1 Axes>"
      ]
     },
     "metadata": {
      "needs_background": "light"
     },
     "output_type": "display_data"
    }
   ],
   "source": [
    "short = summaries_length < 50\n",
    "\n",
    "print(summaries_length[short].describe())\n",
    "plt.hist(summaries_length[short])\n",
    "plt.title(\"Length distribution\")\n",
    "plt.xlabel(\"Tokens\")\n",
    "plt.ylabel(\"Samples\")\n",
    "plt.show()\n",
    "plt.show()"
   ]
  },
  {
   "cell_type": "markdown",
   "id": "4b8b973c-c9e4-497c-86e9-5402829407fd",
   "metadata": {},
   "source": [
    "Most summaries with length $\\leq 50$ ends up having a length $\\leq 10$. These are most definetely wrongly parsed documents so let's remove those samples from all the summaries.\n",
    "\n",
    "We will end up with documents that have summaries length $\\in [50, 4000]$."
   ]
  },
  {
   "cell_type": "code",
   "execution_count": 9,
   "id": "14b2bee8-1ac5-4392-9f4c-13cbac2fc3a1",
   "metadata": {},
   "outputs": [
    {
     "data": {
      "image/png": "[encoded data removed]",
      "text/plain": [
       "<Figure size 432x288 with 1 Axes>"
      ]
     },
     "metadata": {
      "needs_background": "light"
     },
     "output_type": "display_data"
    }
   ],
   "source": [
    "not_outliers = not_outliers & ((summaries_length >= 512) & (summaries_length < 2048))\n",
    "\n",
    "plt.hist(summaries_length[not_outliers])\n",
    "plt.title(\"Length distribution\")\n",
    "plt.xlabel(\"Tokens\")\n",
    "plt.ylabel(\"Samples\")\n",
    "plt.show()\n",
    "plt.show()"
   ]
  },
  {
   "cell_type": "markdown",
   "id": "03c8fa1e-3188-4b1e-9ede-640325acf254",
   "metadata": {},
   "source": [
    "The distribution looks skewed towards shorter documents."
   ]
  },
  {
   "cell_type": "code",
   "execution_count": 10,
   "id": "fdca6dd8-ae5b-479f-8107-c6a8a3cb3df4",
   "metadata": {},
   "outputs": [
    {
     "data": {
      "image/png": "[encoded data removed]",
      "text/plain": [
       "<Figure size 432x288 with 1 Axes>"
      ]
     },
     "metadata": {
      "needs_background": "light"
     },
     "output_type": "display_data"
    }
   ],
   "source": [
    "not_outliers = not_outliers & ((claims_length / summaries_length) < 1 )\n",
    "out = plt.hist(summaries_length[not_outliers])\n",
    "plt.title(\"Length distribution\")\n",
    "plt.xlabel(\"Tokens\")\n",
    "plt.ylabel(\"Samples\")\n",
    "plt.show()\n",
    "plt.show()"
   ]
  },
  {
   "cell_type": "code",
   "execution_count": 13,
   "id": "a479050b-a322-4998-a2dc-ac392d0ccbee",
   "metadata": {},
   "outputs": [],
   "source": [
    "MIN_LENGTH = 512\n",
    "MAX_LENGTH = 2000\n",
    "BIN_SIZE = 200\n",
    "SAMPLES_PER_BIN = 100\n",
    "\n",
    "balanced_df = pd.DataFrame()\n",
    "\n",
    "for b in range(512, 2000, 200):\n",
    "  in_bin = (summaries_length > b) & (summaries_length < b + BIN_SIZE)\n",
    "  balanced_df = pd.concat([balanced_df, \n",
    "                           df[in_bin].sample(n=SAMPLES_PER_BIN)])"
   ]
  },
  {
   "cell_type": "code",
   "execution_count": 14,
   "id": "e44a6286-8b3e-4fa2-b86b-0f558cb2de4d",
   "metadata": {},
   "outputs": [
    {
     "data": {
      "image/png": "[encoded data removed]",
      "text/plain": [
       "<Figure size 432x288 with 1 Axes>"
      ]
     },
     "metadata": {
      "needs_background": "light"
     },
     "output_type": "display_data"
    }
   ],
   "source": [
    "plt.hist(balanced_df[\"summaries\"].astype(str).apply(lambda x: len(x.split())))\n",
    "plt.title(\"Length distribution\")\n",
    "plt.xlabel(\"Tokens\")\n",
    "plt.ylabel(\"Samples\")\n",
    "plt.show()\n",
    "plt.show()"
   ]
  },
  {
   "cell_type": "code",
   "execution_count": 15,
   "id": "8d9394cf-aa78-4ed7-8833-20404df9b42e",
   "metadata": {},
   "outputs": [],
   "source": [
    "balanced_df.to_csv(\"balanced_csv_naive_small.csv\")"
   ]
  },
  {
   "cell_type": "code",
   "execution_count": 16,
   "id": "25190d40-f348-4745-a729-b3c787c31640",
   "metadata": {},
   "outputs": [
    {
     "data": {
      "text/plain": [
       "(800, 3)"
      ]
     },
     "execution_count": 16,
     "metadata": {},
     "output_type": "execute_result"
    }
   ],
   "source": [
    "balanced_df.shape"
   ]
  }
 ],
 "metadata": {
  "kernelspec": {
   "display_name": "Python 3 (ipykernel)",
   "language": "python",
   "name": "python3"
  },
  "language_info": {
   "codemirror_mode": {
    "name": "ipython",
    "version": 3
   },
   "file_extension": ".py",
   "mimetype": "text/x-python",
   "name": "python",
   "nbconvert_exporter": "python",
   "pygments_lexer": "ipython3",
   "version": "3.7.0"
  }
 },
 "nbformat": 4,
 "nbformat_minor": 5
}
