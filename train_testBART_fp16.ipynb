{
  "cells": [
    {
      "cell_type": "markdown",
      "metadata": {
        "id": "view-in-github",
        "colab_type": "text"
      },
      "source": [
        "<a href=\"https://colab.research.google.com/github/NLPNice/final-project/blob/main/train_testBART_fp16.ipynb\" target=\"_parent\"><img src=\"https://colab.research.google.com/assets/colab-badge.svg\" alt=\"Open In Colab\"/></a>"
      ]
    },
    {
      "cell_type": "code",
      "execution_count": null,
      "metadata": {
        "colab": {
          "base_uri": "https://localhost:8080/"
        },
        "id": "6Dxgcl0g0iUw",
        "outputId": "17397864-1619-485b-942c-44223ec80f27"
      },
      "outputs": [
        {
          "output_type": "stream",
          "name": "stdout",
          "text": [
            "Thu Mar 10 09:02:45 2022       \n",
            "+-----------------------------------------------------------------------------+\n",
            "| NVIDIA-SMI 460.32.03    Driver Version: 460.32.03    CUDA Version: 11.2     |\n",
            "|-------------------------------+----------------------+----------------------+\n",
            "| GPU  Name        Persistence-M| Bus-Id        Disp.A | Volatile Uncorr. ECC |\n",
            "| Fan  Temp  Perf  Pwr:Usage/Cap|         Memory-Usage | GPU-Util  Compute M. |\n",
            "|                               |                      |               MIG M. |\n",
            "|===============================+======================+======================|\n",
            "|   0  Tesla T4            Off  | 00000000:00:04.0 Off |                    0 |\n",
            "| N/A   42C    P8    10W /  70W |      0MiB / 15109MiB |      0%      Default |\n",
            "|                               |                      |                  N/A |\n",
            "+-------------------------------+----------------------+----------------------+\n",
            "                                                                               \n",
            "+-----------------------------------------------------------------------------+\n",
            "| Processes:                                                                  |\n",
            "|  GPU   GI   CI        PID   Type   Process name                  GPU Memory |\n",
            "|        ID   ID                                                   Usage      |\n",
            "|=============================================================================|\n",
            "|  No running processes found                                                 |\n",
            "+-----------------------------------------------------------------------------+\n"
          ]
        }
      ],
      "source": [
        "!nvidia-smi"
      ]
    },
    {
      "cell_type": "code",
      "execution_count": null,
      "metadata": {
        "id": "Gy6_XE7M2hOo",
        "colab": {
          "base_uri": "https://localhost:8080/"
        },
        "outputId": "6c219e47-d16d-4ec1-ce9f-ee28380fc90a"
      },
      "outputs": [
        {
          "output_type": "stream",
          "name": "stdout",
          "text": [
            "\u001b[K     |████████████████████████████████| 3.8 MB 9.6 MB/s \n",
            "\u001b[K     |████████████████████████████████| 312 kB 47.3 MB/s \n",
            "\u001b[K     |████████████████████████████████| 352 kB 53.5 MB/s \n",
            "\u001b[K     |████████████████████████████████| 1.2 MB 41.7 MB/s \n",
            "\u001b[K     |████████████████████████████████| 895 kB 26.6 MB/s \n",
            "\u001b[K     |████████████████████████████████| 596 kB 49.4 MB/s \n",
            "\u001b[K     |████████████████████████████████| 6.5 MB 17.1 MB/s \n",
            "\u001b[K     |████████████████████████████████| 67 kB 4.8 MB/s \n",
            "\u001b[K     |████████████████████████████████| 212 kB 69.2 MB/s \n",
            "\u001b[K     |████████████████████████████████| 1.1 MB 50.8 MB/s \n",
            "\u001b[K     |████████████████████████████████| 134 kB 62.8 MB/s \n",
            "\u001b[K     |████████████████████████████████| 127 kB 52.9 MB/s \n",
            "\u001b[K     |████████████████████████████████| 271 kB 72.5 MB/s \n",
            "\u001b[K     |████████████████████████████████| 144 kB 67.1 MB/s \n",
            "\u001b[K     |████████████████████████████████| 94 kB 4.0 MB/s \n",
            "\u001b[K     |████████████████████████████████| 462 kB 61.0 MB/s \n",
            "\u001b[?25h  Building wheel for BLEURT (setup.py) ... \u001b[?25l\u001b[?25hdone\n",
            "\u001b[31mERROR: pip's dependency resolver does not currently take into account all the packages that are installed. This behaviour is the source of the following dependency conflicts.\n",
            "datascience 0.10.6 requires folium==0.2.1, but you have folium 0.8.3 which is incompatible.\u001b[0m\n"
          ]
        }
      ],
      "source": [
        "!pip install -q transformers datasets torchinfo rouge_score git+https://github.com/google-research/bleurt.git"
      ]
    },
    {
      "cell_type": "code",
      "source": [
        "from google.colab import drive\n",
        "\n",
        "drive.flush_and_unmount()"
      ],
      "metadata": {
        "id": "0y3R2Y9djqYA",
        "colab": {
          "base_uri": "https://localhost:8080/"
        },
        "outputId": "c4293ff3-34ed-4d89-ada8-1e73bac4e7a0"
      },
      "execution_count": null,
      "outputs": [
        {
          "output_type": "stream",
          "name": "stdout",
          "text": [
            "Drive not mounted, so nothing to flush and unmount.\n"
          ]
        }
      ]
    },
    {
      "cell_type": "code",
      "execution_count": null,
      "metadata": {
        "colab": {
          "base_uri": "https://localhost:8080/"
        },
        "id": "SiKi_g-93-nG",
        "outputId": "61e17cfa-bb6b-4e14-8d69-edac8d651259"
      },
      "outputs": [
        {
          "output_type": "stream",
          "name": "stdout",
          "text": [
            "Mounted at /gdrive\n"
          ]
        }
      ],
      "source": [
        "from google.colab import drive\n",
        "drive.mount('/gdrive')"
      ]
    },
    {
      "cell_type": "code",
      "execution_count": null,
      "metadata": {
        "id": "kUyFtE2WbINv"
      },
      "outputs": [],
      "source": [
        "RANDOM_SEED = 42"
      ]
    },
    {
      "cell_type": "markdown",
      "metadata": {
        "id": "qMgX8uQt9oCy"
      },
      "source": [
        "# Dataset tokenization\n",
        "\n",
        "We will tokenize the whole data by making use of the `datasets` library, which works seamlessly with the huggingface library."
      ]
    },
    {
      "cell_type": "code",
      "execution_count": null,
      "metadata": {
        "id": "TMDMMsUOPjkw"
      },
      "outputs": [],
      "source": [
        "from datasets import load_dataset, load_from_disk\n",
        "import os\n",
        "\n",
        "GDRIVE_DATASET_PATH = \"/gdrive/MyDrive/university/tokenized_dataset\"\n",
        "SUMMARIES_CLAIMS_CSV_PATH = \"/gdrive/MyDrive/university/summaries_claims.csv\""
      ]
    },
    {
      "cell_type": "markdown",
      "metadata": {
        "id": "pUycMXT-MrXx"
      },
      "source": [
        "## Memory concerns\n",
        "\n",
        "Unfortunately finetuning such a huge model requires a lot of memory in GPU. \n",
        "Google colab limit is $\\approx$ 12 GB which is not enough for the whole dataset."
      ]
    },
    {
      "cell_type": "code",
      "execution_count": null,
      "metadata": {
        "id": "T4HuiUzWJ9Bw"
      },
      "outputs": [],
      "source": [
        "import sys\n",
        "import pandas as pd\n",
        "import csv\n",
        "\n",
        "csv.field_size_limit(sys.maxsize)\n",
        "# load into memory for analysis\n",
        "df = pd.read_csv(SUMMARIES_CLAIMS_CSV_PATH, engine=\"python\")\n",
        "# some descriptions are NaNs so let's drop them\n",
        "df = df.dropna()\n"
      ]
    },
    {
      "cell_type": "markdown",
      "metadata": {
        "id": "Vre4jAajORYl"
      },
      "source": [
        "Let's check how many samples we would be able to use by using a lower amount of data."
      ]
    },
    {
      "cell_type": "code",
      "execution_count": null,
      "metadata": {
        "colab": {
          "base_uri": "https://localhost:8080/"
        },
        "id": "jmHdlj7vNFPb",
        "outputId": "8850e285-e462-4ba7-9de9-5c1736391227"
      },
      "outputs": [
        {
          "output_type": "stream",
          "name": "stdout",
          "text": [
            "11707 summaries have <= 512 tokens (44.97%)\n",
            "25371 claims have <= 512 tokens (97.45%)\n",
            "18100 summaries have <= 1024 tokens (69.52%)\n",
            "25970 claims have <= 1024 tokens (99.75%)\n",
            "23065 summaries have <= 2048 tokens (88.59%)\n",
            "26026 claims have <= 2048 tokens (99.97%)\n",
            "25311 summaries have <= 4096 tokens (97.22%)\n",
            "26033 claims have <= 4096 tokens (99.99%)\n"
          ]
        }
      ],
      "source": [
        "SIZES = [512, 1024, 2048, 4096]\n",
        "\n",
        "summary_tokens = df[\"summaries\"].apply(lambda x: len(x.split(\" \")))\n",
        "claims_tokens = df[\"claims\"].apply(lambda x: len(x.split(\" \")))\n",
        "\n",
        "for size in SIZES:\n",
        "  ok_summaries = summary_tokens <= size\n",
        "  ok_claims = claims_tokens <= size  \n",
        "  print(f\"{ok_summaries.sum()} summaries have <= {size} tokens ({ok_summaries.sum() / len(summary_tokens) * 100:2.2f}%)\")\n",
        "  print(f\"{ok_claims.sum()} claims have <= {size} tokens ({ok_claims.sum() / len(ok_claims) * 100:2.2f}%)\")"
      ]
    },
    {
      "cell_type": "markdown",
      "metadata": {
        "id": "Kri9SAv6OYeI"
      },
      "source": [
        "We can safely see that by using 512 as maximum length we obtain most of the claims ($97.45\\%$).\n",
        "\n",
        "For the description, however, we can't really go that low or we would lose most of the sample. While using 4096 tokens, which is the maximum length handled by bigbird, would allow us to use all the data in the dataset we don't have adequate resources for such a job.\n",
        "\n",
        "We will therefore make use of only those summaries whose length is $\\leq 2048$, which accounts for $\\approx 88\\%$ of all the available data."
      ]
    },
    {
      "cell_type": "code",
      "execution_count": null,
      "metadata": {
        "colab": {
          "base_uri": "https://localhost:8080/",
          "height": 130,
          "referenced_widgets": [
            "8b096a95baf94df985b28e1135656364",
            "b66035937b83409fa9a95568dc1d0e72",
            "2c58a9479e0646ec94254c442934abff",
            "8b79d5cdf57d4e51b444d8fdc14fc5ec",
            "86b6468b55a54ff3afb7dae3cfd80338",
            "4cc48bb31416457facbed83334640f69",
            "4f7d86672351421985075262d2a20f34",
            "bd0b940958a5429d82d9951188cfeaff",
            "84997fd4f21246c2ac3e156b26434c28",
            "647d86c89c8144fb84736edee92ce396",
            "7693d8953834441ea5db6f07aa923fa8",
            "08af6417e62b41e4bea872663d778d48",
            "50646dd73bc942babf8f9d8090e6205f",
            "a260056f9aa7409988892877f3ce8c8f",
            "43fe6992560149ef8e3dff9c8898d192",
            "48940476c93241e0b965ad4dc9483316",
            "7c901504929a4dfda7d2883629c3d5da",
            "a11ce063f64c4cddb70193d3f51b14e9",
            "bc22a9db65af43cc8d6bbb692a843841",
            "0aefaa52cab24d9886606d7305f79969",
            "450992c2d11a459b8cee55826fdec927",
            "47add184de4745bf89cbe393caa8386b",
            "8c2635b985bd4c15aec325b33bbf0449",
            "084c71c87c414739ab1de648591dad3e",
            "df72dc5793f04c43b658c2be45c1359c",
            "d141620ca19d41e292f18bef521d8d61",
            "439fe90c6e9a4f6ca3158d789d9c7f91",
            "064711c6c61a4173a2af035b6a81f5b6",
            "192c64eb10a447c9a39eb394e7905aba",
            "b1c3044c77814ba5bc9a59e330a070f0",
            "b2b48ad83b0147c1843b365cc35a94fa",
            "ccac2b61f45a4941be4215b9919cc34f",
            "0f00389895a9441aa80dfcc240946c61"
          ]
        },
        "id": "_3DzDN88-Dc9",
        "outputId": "7855c386-8ac2-43ed-dfce-0b764bc6c562"
      },
      "outputs": [
        {
          "output_type": "display_data",
          "data": {
            "application/vnd.jupyter.widget-view+json": {
              "model_id": "8b096a95baf94df985b28e1135656364",
              "version_minor": 0,
              "version_major": 2
            },
            "text/plain": [
              "Downloading:   0%|          | 0.00/878k [00:00<?, ?B/s]"
            ]
          },
          "metadata": {}
        },
        {
          "output_type": "display_data",
          "data": {
            "application/vnd.jupyter.widget-view+json": {
              "model_id": "08af6417e62b41e4bea872663d778d48",
              "version_minor": 0,
              "version_major": 2
            },
            "text/plain": [
              "Downloading:   0%|          | 0.00/446k [00:00<?, ?B/s]"
            ]
          },
          "metadata": {}
        },
        {
          "output_type": "display_data",
          "data": {
            "application/vnd.jupyter.widget-view+json": {
              "model_id": "8c2635b985bd4c15aec325b33bbf0449",
              "version_minor": 0,
              "version_major": 2
            },
            "text/plain": [
              "Downloading:   0%|          | 0.00/1.55k [00:00<?, ?B/s]"
            ]
          },
          "metadata": {}
        },
        {
          "output_type": "stream",
          "name": "stdout",
          "text": [
            "Dataset loaded\n"
          ]
        }
      ],
      "source": [
        "#@title Tokenize data\n",
        "from transformers import BartTokenizer\n",
        "\n",
        "MIN_SUMMARY_LEN =  128#@param {type: \"number\"}\n",
        "MIN_CLAIM_LEN =  64#@param {type: \"number\"}\n",
        "SUMMARY_LEN = 512 #@param {type: \"number\"}\n",
        "CLAIM_LEN = 256 #@param {type: \"number\"}\n",
        "tokenizer = BartTokenizer.from_pretrained(\"facebook/bart-large-cnn\")\n",
        "#tokenizer.pad_token = 0\n",
        "\n",
        "\n",
        "# let's check if we can load the dataset from disk first.\n",
        "# this will save us the burden of loading the tokenizer\n",
        "# and tokenizing all the data we need\n",
        "if os.path.exists(GDRIVE_DATASET_PATH):\n",
        "  dataset = load_from_disk(GDRIVE_DATASET_PATH)\n",
        "  print(\"Dataset loaded\")\n",
        "else:\n",
        "  from datasets import Dataset\n",
        "  reduced_df = df[(claims_tokens <= CLAIM_LEN) & (summary_tokens <= SUMMARY_LEN) & (claims_tokens >= MIN_CLAIM_LEN) & (summary_tokens >= MIN_SUMMARY_LEN)]\n",
        "  dataset = Dataset.from_pandas(reduced_df)\n",
        "\n",
        "  # first let's rename data in the way the model expect\n",
        "  dataset = dataset.rename_column(\"summaries\", \"input_ids\") \\\n",
        "    .rename_column(\"claims\", \"decoder_input_ids\") \\\n",
        "    .remove_columns(\"patentnumber\") \\\n",
        "    .remove_columns(\"__index_level_0__\")\n",
        "\n",
        "  # even though we carefully preprocessed data some descriptions are still empty.\n",
        "  # we will filter them out\n",
        "  dataset = dataset.filter(lambda r: r[\"input_ids\"] is not None)\n",
        "\n",
        "  def encoder_tokenize_function(row):\n",
        "    \"\"\"\n",
        "    Tokenize the summary into input_ids and attention_mask\n",
        "    \"\"\"\n",
        "    return tokenizer(row[\"input_ids\"], max_length=SUMMARY_LEN, padding=\"max_length\", truncation=True)\n",
        "\n",
        "  # tokenize the summaries\n",
        "  dataset = dataset.map(encoder_tokenize_function, batched=True)\n",
        "\n",
        "  def decoder_tokenize_function(row):\n",
        "    \"\"\"\n",
        "    Tokenize claim into the expected output from the decoder \n",
        "    (decoder_input_ids and decoder_attention_mask)\n",
        "    \"\"\"\n",
        "    tokenized = tokenizer(row[\"decoder_input_ids\"], max_length=CLAIM_LEN, padding=\"max_length\", truncation=True)\n",
        "\n",
        "    return {\n",
        "        \"decoder_input_ids\": tokenized[\"input_ids\"],\n",
        "        \"decoder_attention_mask\": tokenized[\"attention_mask\"]\n",
        "    }\n",
        "\n",
        "  # tokenize the claim\n",
        "  dataset = dataset.map(decoder_tokenize_function, batched=True)\n",
        "\n",
        "  def compute_labels(row):\n",
        "    \"\"\"\n",
        "    Compute labels based on decoder_input_ids where padding token is represented as -100\n",
        "    \"\"\"\n",
        "    labels = row[\"decoder_input_ids\"]\n",
        "    labels = [-100 if t == 0 else t for t in labels]\n",
        "    return {\"labels\" : labels}\n",
        "  \n",
        "  dataset = dataset.map(compute_labels, batched=True)\n",
        "\n",
        "  # export the dataset to disk for future loading\n",
        "  dataset.save_to_disk(GDRIVE_DATASET_PATH)\n",
        "  print(\"Dataset computed and saved\")"
      ]
    },
    {
      "cell_type": "markdown",
      "metadata": {
        "id": "ct0k9AX4CLmO"
      },
      "source": [
        "We saw that, with the suggested configuration, we can manage to achieve $\\approx 0.55 \\ \\text{it/s}$."
      ]
    },
    {
      "cell_type": "code",
      "execution_count": null,
      "metadata": {
        "colab": {
          "base_uri": "https://localhost:8080/"
        },
        "id": "3foAF12BC91q",
        "outputId": "3a4b15a5-255a-4f2b-ba6e-c53f3df02c1c"
      },
      "outputs": [
        {
          "output_type": "stream",
          "name": "stdout",
          "text": [
            "Approximately we would need 2:42:53 to train the whole dataset for 3 epochs\n"
          ]
        }
      ],
      "source": [
        "from datetime import timedelta\n",
        "\n",
        "def format(seconds):\n",
        "    h, rem = divmod(seconds, 3600)\n",
        "    m, s = divmod(rem, 60)\n",
        "    return round(h), round(m), round(s)\n",
        "\n",
        "time_per_epoch = len(dataset) * 0.55\n",
        "total_time = time_per_epoch * 3\n",
        "h, m, s = format(total_time)\n",
        "\n",
        "print(f\"Approximately we would need {h}:{m}:{s} to train the whole dataset for 3 epochs\")"
      ]
    },
    {
      "cell_type": "markdown",
      "metadata": {
        "id": "WYakYEpgao7F"
      },
      "source": [
        "# Dataset splits\n",
        "\n",
        "We will divide the overall dataset into the usual splits: training and testing respectively $90\\%$ and $10\\%$ of the overall data.\n",
        "\n",
        "We will further extract $10\\%$ from training data and use it as validation during training."
      ]
    },
    {
      "cell_type": "code",
      "execution_count": null,
      "metadata": {
        "id": "7mPyx-eCbLD9",
        "colab": {
          "base_uri": "https://localhost:8080/"
        },
        "outputId": "5ffd33ee-3f89-46d6-d093-5e35c8a0f38c"
      },
      "outputs": [
        {
          "output_type": "stream",
          "name": "stderr",
          "text": [
            "Loading cached split indices for dataset at /gdrive/MyDrive/university/tokenized_dataset/cache-e0fd9cde5288d88e.arrow and /gdrive/MyDrive/university/tokenized_dataset/cache-4c007ea6cf3b28eb.arrow\n",
            "Loading cached split indices for dataset at /gdrive/MyDrive/university/tokenized_dataset/cache-c66f33cd0cf3a2c7.arrow and /gdrive/MyDrive/university/tokenized_dataset/cache-85006177df905995.arrow\n"
          ]
        }
      ],
      "source": [
        "train_test = dataset.train_test_split(test_size=0.15, seed=RANDOM_SEED)\n",
        "test_valid = train_test[\"train\"].train_test_split(test_size=0.1, seed=RANDOM_SEED)\n",
        "train_test[\"train\"] = test_valid[\"train\"]\n",
        "train_test[\"valid\"] = test_valid[\"test\"]\n",
        "dataset = train_test\n",
        "\n",
        "# delete from memory unused values\n",
        "del train_test\n",
        "del test_valid"
      ]
    },
    {
      "cell_type": "code",
      "execution_count": null,
      "metadata": {
        "colab": {
          "base_uri": "https://localhost:8080/"
        },
        "id": "gbS0JPhCcrE9",
        "outputId": "0def08d6-edf4-4713-9e9a-d7fdc6ea1d24"
      },
      "outputs": [
        {
          "output_type": "stream",
          "name": "stdout",
          "text": [
            "Train: 4530 samples\n",
            "Test: 889 samples\n",
            "Valid: 504 samples\n"
          ]
        }
      ],
      "source": [
        "print(f\"Train: {len(dataset['train'])} samples\")\n",
        "print(f\"Test: {len(dataset['test'])} samples\")\n",
        "print(f\"Valid: {len(dataset['valid'])} samples\")"
      ]
    },
    {
      "cell_type": "markdown",
      "metadata": {
        "id": "iIggHc80KgIm"
      },
      "source": [
        "# Neural model\n",
        "\n"
      ]
    },
    {
      "cell_type": "code",
      "execution_count": null,
      "metadata": {
        "colab": {
          "base_uri": "https://localhost:8080/"
        },
        "id": "8-ul_ktbMf4a",
        "outputId": "fa18093a-0cf4-4e53-8668-5e3a4fb6c84e"
      },
      "outputs": [
        {
          "output_type": "execute_result",
          "data": {
            "text/plain": [
              "================================================================================\n",
              "Layer (type:depth-idx)                                  Param #\n",
              "================================================================================\n",
              "BartForConditionalGeneration                            --\n",
              "├─BartModel: 1-1                                        --\n",
              "│    └─Embedding: 2-1                                   51,470,336\n",
              "│    └─BartEncoder: 2-2                                 --\n",
              "│    │    └─Embedding: 3-1                              (recursive)\n",
              "│    │    └─BartLearnedPositionalEmbedding: 3-2         1,050,624\n",
              "│    │    └─ModuleList: 3-3                             151,154,688\n",
              "│    │    └─LayerNorm: 3-4                              2,048\n",
              "│    └─BartDecoder: 2-3                                 --\n",
              "│    │    └─Embedding: 3-5                              (recursive)\n",
              "│    │    └─BartLearnedPositionalEmbedding: 3-6         1,050,624\n",
              "│    │    └─ModuleList: 3-7                             201,560,064\n",
              "│    │    └─LayerNorm: 3-8                              2,048\n",
              "├─Linear: 1-2                                           51,470,336\n",
              "================================================================================\n",
              "Total params: 457,760,768\n",
              "Trainable params: 457,760,768\n",
              "Non-trainable params: 0\n",
              "================================================================================"
            ]
          },
          "metadata": {},
          "execution_count": 12
        }
      ],
      "source": [
        "from transformers import BartForConditionalGeneration\n",
        "from torchinfo import summary\n",
        "\n",
        "batch_size = 4\n",
        "\n",
        "model = BartForConditionalGeneration.from_pretrained(\n",
        "    \"/gdrive/MyDrive/university/BARTModelFineTune/checkpoint-500\",\n",
        "    #block_size=16,\n",
        "    #num_random_blocks=3,\n",
        "    #attention_type=\"block_sparse\",\n",
        "    use_cache=False) # required for fp16\n",
        "model.gradient_checkpointing_enable()\n",
        "summary(model, dtypes=[\"torch.IntTensor\"])"
      ]
    },
    {
      "cell_type": "code",
      "execution_count": null,
      "metadata": {
        "colab": {
          "base_uri": "https://localhost:8080/",
          "height": 368,
          "referenced_widgets": [
            "8c08690ba58544bfa0a0080a5904bc7d",
            "65a2cf2fc9bb455985b8ba92c444f91d",
            "4615142a40264462be57d5b08ac50873",
            "c760b9bda1344e53862fdc4f156d61e4",
            "f1dc82d6c1714545a1a94189e8f9b117",
            "2b3960fcfe3d44248a697a985a5d7b9f",
            "e1da27d774264c5789c29f9e7a64f97e",
            "6b4ea521a2f34f98b1dcadd6dce72e88",
            "e380479fcbfc4a88ac2d8ba7d664ae05",
            "ebf7d37377084846a04c96062da95af3",
            "3f117fda42384133abf7e6845fc099d5",
            "e4b02407cddd4119ae9538bb737367f4",
            "cdf303ed153a4c3f9c046b0c8c8ebc51",
            "4a445fcc042b4dbbb8bb81dff07f0dd2",
            "3928f79be99a4376a4a19fabeae271c7",
            "95c17d222a324652a1d8db9775bf7215",
            "00d1982438734cf0bee0e0dfe60472df",
            "ca0d3986f0ba424d9b6fd28dbc153d51",
            "db43f5675b5e4aa19fb03a0c0fb30b72",
            "6c6285259c6f4dba8409d7f9c8f4eb6f",
            "a2051dc46a4c483cace633f77ee30ac5",
            "ed103177492c4a94bbaf9a7634d02215",
            "301501f5c79b46c9a872ba02d0b461da",
            "0ebec932f5084264a4775c6122aa7aef",
            "d3f490b3f946450a8725238129b69ba0",
            "7756f2d9478f4e56bda2c05feb0c7cce",
            "af0221b3b4e642db8880c3d3904ecba1",
            "0b84e6fd45944afc9c83ca85a3d83895",
            "956248a895d747b6ade5c287e89a3a14",
            "5429f9243dc746cd9c1193fd7a5eaae9",
            "2f583634ca4a495c99aaf4a4895a5201",
            "7ca4a1cf13774995a071e1d9ee4c9132",
            "d722aed3329242e787d461a88c750451"
          ]
        },
        "id": "prbrphb2fkN2",
        "outputId": "ef888d23-54bb-4ce8-8f09-3081b2bcb331"
      },
      "outputs": [
        {
          "output_type": "display_data",
          "data": {
            "application/vnd.jupyter.widget-view+json": {
              "model_id": "8c08690ba58544bfa0a0080a5904bc7d",
              "version_minor": 0,
              "version_major": 2
            },
            "text/plain": [
              "Downloading:   0%|          | 0.00/2.16k [00:00<?, ?B/s]"
            ]
          },
          "metadata": {}
        },
        {
          "output_type": "display_data",
          "data": {
            "application/vnd.jupyter.widget-view+json": {
              "model_id": "e4b02407cddd4119ae9538bb737367f4",
              "version_minor": 0,
              "version_major": 2
            },
            "text/plain": [
              "Downloading:   0%|          | 0.00/1.97k [00:00<?, ?B/s]"
            ]
          },
          "metadata": {}
        },
        {
          "output_type": "display_data",
          "data": {
            "application/vnd.jupyter.widget-view+json": {
              "model_id": "301501f5c79b46c9a872ba02d0b461da",
              "version_minor": 0,
              "version_major": 2
            },
            "text/plain": [
              "Downloading:   0%|          | 0.00/1.24G [00:00<?, ?B/s]"
            ]
          },
          "metadata": {}
        },
        {
          "output_type": "stream",
          "name": "stdout",
          "text": [
            "INFO:tensorflow:Reading checkpoint /root/.cache/huggingface/metrics/bleurt/bleurt-large-512/downloads/extracted/299e33e80b83c78cc60e485384c7804f6ec1fb36c2013c5078257c17a82719ca/bleurt-large-512.\n",
            "INFO:tensorflow:Config file found, reading.\n",
            "INFO:tensorflow:Will load checkpoint bert_custom\n",
            "INFO:tensorflow:Loads full paths and checks that files exists.\n",
            "INFO:tensorflow:... name:bert_custom\n",
            "INFO:tensorflow:... vocab_file:vocab.txt\n",
            "INFO:tensorflow:... bert_config_file:bert_config.json\n",
            "INFO:tensorflow:... do_lower_case:True\n",
            "INFO:tensorflow:... max_seq_length:512\n",
            "INFO:tensorflow:Creating BLEURT scorer.\n",
            "INFO:tensorflow:Creating WordPiece tokenizer.\n",
            "INFO:tensorflow:WordPiece tokenizer instantiated.\n",
            "INFO:tensorflow:Creating Eager Mode predictor.\n",
            "INFO:tensorflow:Loading model.\n",
            "INFO:tensorflow:BLEURT initialized.\n"
          ]
        }
      ],
      "source": [
        "from datasets import load_metric\n",
        "import nltk\n",
        "\n",
        "ROUGE = load_metric('rouge')\n",
        "BLEURT = load_metric('bleurt', 'bleurt-large-512')\n",
        "\n",
        "def postprocess_text(preds, labels):\n",
        "  preds = [pred.strip() for pred in preds]\n",
        "  labels = [label.strip() for label in labels]\n",
        "\n",
        "  # rougeLSum expects newline after each sentence\n",
        "  preds = [\"\\n\".join(nltk.sent_tokenize(pred)) for pred in preds]\n",
        "  labels = [\"\\n\".join(nltk.sent_tokenize(label)) for label in labels]\n",
        "\n",
        "  return preds, labels\n",
        "\n",
        "def compute_metrics(eval_preds):\n",
        "  preds, labels = eval_preds\n",
        "  if isinstance(preds, tuple):\n",
        "      preds = preds[0]\n",
        "\n",
        "  decoded_preds = tokenizer.batch_decode(preds, skip_special_tokens=True)\n",
        "  # Replace -100 in the labels to actual padding\n",
        "  labels = np.where(labels != -100, labels, tokenizer.pad_token_id)\n",
        "  decoded_labels = tokenizer.batch_decode(labels, skip_special_tokens=True)\n",
        "\n",
        "  # Some simple post-processing\n",
        "  decoded_preds, decoded_labels = postprocess_text(decoded_preds, decoded_labels)\n",
        "\n",
        "  rouge_score = ROUGE.compute(predictions=preds, references=labels)\n",
        "  rouge_score = { k: v.mid.fmeasure for k, v in rouge_score.items() }\n",
        "\n",
        "  bleurt_score = BLEURT.compute(predictions=preds, references=labels)[\"scores\"]\n",
        "  bleurt_score = {\"bleurt\": bleurt_score}\n",
        "\n",
        "  return {**rouge_score, **bleurt_score}"
      ]
    },
    {
      "cell_type": "code",
      "execution_count": null,
      "metadata": {
        "id": "GqLy7-vl5wnq"
      },
      "outputs": [],
      "source": [
        "FINETUNE_MODEL_PATH = \"/gdrive/MyDrive/university/BARTModelFineTune/\""
      ]
    },
    {
      "cell_type": "code",
      "execution_count": null,
      "metadata": {
        "colab": {
          "base_uri": "https://localhost:8080/"
        },
        "id": "Y9Ps5DqAja7P",
        "outputId": "c514bacf-b757-4d9d-ddb5-089a85bf632a"
      },
      "outputs": [
        {
          "output_type": "execute_result",
          "data": {
            "text/plain": [
              "13736"
            ]
          },
          "metadata": {},
          "execution_count": 15
        }
      ],
      "source": [
        "import gc\n",
        "gc.collect()"
      ]
    },
    {
      "cell_type": "code",
      "execution_count": null,
      "metadata": {
        "id": "Ue7Jzvknuskl"
      },
      "outputs": [],
      "source": [
        "from transformers import  Seq2SeqTrainingArguments, DataCollatorForSeq2Seq, Seq2SeqTrainer\n",
        "from torch.utils.checkpoint import checkpoint \n",
        "\n",
        "# setup training arguments, mainly batch size of 4\n",
        "# accumulating gradient over 2 consecutive steps and training for 3 epochs.\n",
        "# Saves the model every 900 steps and evaluates it every 300 steps.\n",
        "# Only keeps the most recent 2 models.\n",
        "# Training is made by means of gradient checkpointing and mixed-precision to \n",
        "# make the training process faster and lighter.\n",
        "training_args =  Seq2SeqTrainingArguments(\n",
        "    output_dir=FINETUNE_MODEL_PATH,\n",
        "    overwrite_output_dir=True, # used to keep training\n",
        "    gradient_accumulation_steps=2, # lower memory usage: perform backprop every 2 steps\n",
        "    num_train_epochs=1,\n",
        "    per_device_train_batch_size=batch_size,\n",
        "    per_device_eval_batch_size=batch_size,\n",
        "    weight_decay=0.01,\n",
        "    logging_first_step=True,\n",
        "    logging_strategy=\"steps\",\n",
        "    logging_steps=1,\n",
        "    save_strategy=\"steps\",\n",
        "    save_steps=500,\n",
        "    save_total_limit=1, # save at most two checkpoints, delete the older ones\n",
        "    fp16=True, # faster and lighter on memory but possibly less precise on convergence\n",
        "    predict_with_generate=True,\n",
        "    gradient_checkpointing=True)"
      ]
    },
    {
      "cell_type": "code",
      "source": [
        "data_collator = DataCollatorForSeq2Seq(tokenizer, model=model)"
      ],
      "metadata": {
        "id": "724R4wQM9-xy"
      },
      "execution_count": null,
      "outputs": []
    },
    {
      "cell_type": "code",
      "execution_count": null,
      "metadata": {
        "id": "5gL4AH3yggpT"
      },
      "outputs": [],
      "source": [
        "trainer = Seq2SeqTrainer(\n",
        "    model=model, \n",
        "    args=training_args,\n",
        "    eval_dataset=dataset[\"valid\"],\n",
        "    train_dataset=dataset[\"train\"],\n",
        "    data_collator=data_collator,\n",
        "    compute_metrics=compute_metrics\n",
        ")\n",
        "\n"
      ]
    },
    {
      "cell_type": "code",
      "source": [
        "trainer.train()"
      ],
      "metadata": {
        "id": "WA3HelUc-PB1"
      },
      "execution_count": null,
      "outputs": []
    },
    {
      "cell_type": "markdown",
      "source": [
        "###GENERATION"
      ],
      "metadata": {
        "id": "DfjM3a_zZTwS"
      }
    },
    {
      "cell_type": "code",
      "source": [
        "inputs = []\n",
        "ref = []\n",
        "sum = []\n",
        "pred = []\n",
        "NUM_SAMPLES =  10#@param {type: \"number\"}\n",
        "\n",
        "dataset[\"test\"] = dataset[\"test\"].shuffle()\n",
        "\n",
        "for idx in range(NUM_SAMPLES):\n",
        "\n",
        "  SUMMARY = tokenizer.decode(dataset[\"test\"][\"input_ids\"][idx], skip_special_tokens=True, truncation=True)\n",
        "  sum.append(SUMMARY)\n",
        "  ref.append(tokenizer.decode(dataset[\"test\"][\"decoder_input_ids\"][idx], skip_special_tokens=True, truncation=True))\n",
        "  inputs.append(tokenizer([SUMMARY], return_tensors=\"pt\"))\n",
        "\n",
        "for idx in range(NUM_SAMPLES):\n",
        "\n",
        "  output_ids = model.generate(inputs[idx][\"input_ids\"],\n",
        "      max_length=128,\n",
        "      do_sample=True, \n",
        "      top_k=20, \n",
        "      top_p=0.90, \n",
        "      #num_beams=5, \n",
        "      #no_repeat_ngram_size=2, \n",
        "      #num_return_sequences=2, \n",
        "      early_stopping=True)\n",
        "  \n",
        "  print(\"DESCRIPTION N.\", idx+1 ,\": \\n\")\n",
        "  print(sum[idx], end=\"\\n\\n\")\n",
        "  print(\"OUTPUT N.\", idx+1 , \": \\n\")\n",
        "  print(tokenizer.batch_decode(output_ids, skip_special_tokens=True, clean_up_tokenization_spaces=False),end = \"\\n\\n\")\n",
        "  print(\"CLAIM N.\", idx+1 ,\": \\n\")\n",
        "  print(ref[idx], end=\"\\n\\n\")\n",
        "  \n",
        "  pred.append(tokenizer.batch_decode(output_ids, skip_special_tokens=True, clean_up_tokenization_spaces=False))"
      ],
      "metadata": {
        "colab": {
          "base_uri": "https://localhost:8080/"
        },
        "id": "wXXfjvVZ6-zY",
        "outputId": "cb4a985c-6dc2-4559-8f9a-7fd38a206a37"
      },
      "execution_count": null,
      "outputs": [
        {
          "output_type": "stream",
          "name": "stdout",
          "text": [
            "DESCRIPTION N. 1 : \n",
            "\n",
            "in a case where a type of the laser beam machining apparatus disclosed in jp 2012-256062 a is used, because the irradiation head is not displaced, it is difficult to measure laser scanning velocity. the invention provides a measuring method that enables measurement of laser scanning velocity in a laser beam machining apparatus structured so that laser scanning is performed by an operation of a mirror. an aspect of the invention is a measuring method for measuring laser scanning velocity for a laser beam machining apparatus, according to claim 1. the laser beam machining apparatus includes a mirror, and is configured to process a work by irradiating pulsed laser. the laser is irradiated by operating the mirror. the measuring method includes measuring processing sound of the work while it is processed by the laser using the laser beam machining apparatus. further, the measuring method includes calculating the laser scanning velocity by analyzing a frequency of said measured processing sound. in the above-mentioned aspect, the laser scanning velocity may be measured by using the laser beam machining apparatus that is structured to scan with laser by operating the mirror. in the above aspect, the step of calculating may comprise calculating the laser scanning velocity based on a frequency shift amount of the processing sound caused by a doppler effect. in the foregoing aspect, the method may further comprise performing averaging processing of the processing sound. the frequency of the averaged processing sound is analyzed. in the foregoing aspect, the laser scanning velocity is measured highly accurately by using the laser beam machining apparatus that is structured to scan with laser by operating the mirror.\n",
            "\n",
            "OUTPUT N. 1 : \n",
            "\n",
            "['a measuring method for measuring laser scanning velocity for a laser beam machining apparatus, comprising:a mirror  configured to process a work by irradiating pulsed laser, wherein the laser is irradiated by operating the mirror; anda processing head  that is configured to measure processing sound of the work while it is processed by the laser using the mirror,wherein the measuring method comprises the steps of:measuring processing sound while the work is processed using the laser; andcalculating the laser scanner velocity by analyzing a frequency of said measured processing sound based on a frequency shift amount of the processing sound caused by a']\n",
            "\n",
            "CLAIM N. 1 : \n",
            "\n",
            "a measuring method for measuring laser scanning velocity for a laser beam machining apparatus, the laser beam machining apparatus  including a mirror (7,8), and being configured to process a work by irradiating pulsed laser (pl), the laser (pl) being irradiated by operating the mirror (7,8), the measuring method comprising:measuring processing sound of the work while it is processed by the laser (pl) using the laser beam machining apparatus ; andcharacterized by comprising :calculating scanning velocity of the laser (pl) by analyzing a frequency of said measured processing sound.\n",
            "\n",
            "DESCRIPTION N. 2 : \n",
            "\n",
            "the invention relates to a system according to claim 1 and to a method according to claim 14 suitable for performing continuous observation and video-based monitoring on animals, such as mice, in a cage rack system. in one embodiment, the system for video-based monitoring includes an enclosure compatible with many existing cages and rack systems, such that the enclosures can be used to monitor laboratory animals in their home cages within the rack system. the present disclosure also relates to systems and methods of video processing to identify and analyze the behavior of the animals in their home cages. in particular, the systems and methods can be used to study multiple animals in a single home cage. the system includes an application executable by processor to automatically detect and track multiple animals. the application also carries out methods to resolve occlusions, including non-severe occlusions, which may arise in a home cage containing multiple animals.\n",
            "\n",
            "OUTPUT N. 2 : \n",
            "\n",
            "['a system for video-based monitoring, comprising:an enclosure  compatible with many existing cages and rack systems, wherein the enclosure  is configured to monitor laboratory animals in their home cages within the rack system;a processor  configured to:automatically detect and track a plurality of animals in the enclosure ; andinstructively resolve occlusions, including non-severe occlusion, which may arise in a home cage  containing multiple animals; andinformalize the behavior of the home cages  with an application  of the enclosure , wherein the application  is executable by the processor  to automatically detect']\n",
            "\n",
            "CLAIM N. 2 : \n",
            "\n",
            "a system  for monitoring an animal in a home cage, the system comprising:• a home cage enclosure  to enclose the home cage ; where the home cage enclosure  comprises:- a door  hingedly engaged to at least one sidewall  of the home cage enclosure ;- a front camera (122a) engaged to a first lens (124a) and the front camera (122a) is further engaged to the door ;- a rear camera (122b) engaged to a second lens (124b) and the rear camera (122b) engaged to a rear wall of the home cage enclosure, where the rear wall is engaged to the at least one sidewall  and disposed opposite the door ;- at least one near-infrared light source ; and- a light diffuser.\n",
            "\n",
            "DESCRIPTION N. 3 : \n",
            "\n",
            "described herein is a selection method based on the inactivation of a gene which confers resistance to a toxic substrate, in particular the uridine-5'-monophosphate synthase (umps) and the nitrate reductase gene. the inactivation of these genes has been shown to confer respectively the resistance to 5-fluoroorotic acid (foa) (sakaguchi, nakajima et al. 2011) and chlorate (daboussi, djeballi et al. 1989). this method is particularly suitable for the selection of inactivated gene transformed cells by co-transformation of the nuclease targeting one of selectable marker genes with another protein of interest. the protein of interest can be a nuclease targeting a gene of interest to inactivate or a protein which increases the usability value of the algae in biotechnological applications. this co-transformation could be performed using multiple plasmids or using only one plasmid. thus, we increase the proportion of transformed cells resistant to positive selection marker (5-foa or chlorate) containing the nuclease targeting the gene of interest. the delivery could be done by biolistic transformation, electroporation, micro-injection but also protein delivery using cell penetrating peptides, thus allowing the generation of no genetically modified organisms without transgene integration within the genome.\n",
            "\n",
            "OUTPUT N. 3 : \n",
            "\n",
            "[\"a selection method based on the inactivation of a gene which confers resistance to a toxic substrate, in particular the uridine-5'-monophosphate synthase (umps) and the nitrate reductase gene, wherein the inactivating of these genes has been shown to confer respectively the resistance to 5-fluoroorotic acid (foa) and chlorate (daboussi, djeballi et al. 1989), the method comprising:selecting the inactivated gene transformed cells by co-transformation of the nuclease targeting one of selectable marker genes with another protein\"]\n",
            "\n",
            "CLAIM N. 3 : \n",
            "\n",
            "a method of modifying a diatom comprising:(a) selecting a selectable marker gene within the genome of a diatom which encodes a protein rendering a cell sensitive to a toxic substrate;(b) providing a tale-nuclease which specifically recognizes and cleaves a target sequence within said selectable marker gene;(c) introducing said tale-nuclease into diatoms such that said nuclease cleavage inactivates said selectable marker gene;(d) culturing said diatoms with said toxic substrate and;(e) selecting diatoms which are resistant to the toxic substrate,wherein said selectable marker gene and said toxic substrate are chosen from:- said selectable marker gene is the uridine-5'-monophosphate synthase (umps) gene and said toxic substrate is the 5-fluoroorotic acid (5-foa), and- said selectable marker gene is the nitrate reductase gene and said toxic substrate is chlorate,wherein said tale-nuclease recognizes a target sequence selected from seq id no:3 and seq id no:4, or a target sequence having at least 90% identity with seq id no:3 or seq id no:4; and\n",
            "\n",
            "DESCRIPTION N. 4 : \n",
            "\n",
            "to overcome the drawbacks of the prior art, the object of the patent application is to provide a pull-rod type digital camera, to overcome the drawbacks that it is very inconvenient to use the existing digital camera in some special occasions such as news interview, taking a selfie, etc. the technical solution used for solving the technical problem is providing a pull-rod type digital camera according to claim 1. the pull-rod type digital camera comprises a shooting assembly and a control assembly. the shooting assembly comprises a camera. the digital camera further comprises a telescopic rod. one end of the telescopic rod is arranged movably inside the control assembly, and the other end of the telescopic rod is rotationally connected with the shooting assembly. the control assembly comprises a control handle and a display, and the display is rotationally connected with the control handle.the control handle is provided with a universal ball, and the display is connected with the control handle by rotating the universal ball. the control handle is provided with several function keys which at least comprise a power key, a shutter key, a focusing key and a menu key. the telescopic rod comprises several telescopic joints, and a top telescopic joint is rotationally connected with the shooting assembly, a bottom telescopic joint is movably arranged inside the control handle. the top telescopic joint is a little longer than the control handle, and other telescopic joints match with the control handle in length. optional, the control handle is provided with a memory card slot. optional, the control handle is also provided with a usb interface. optional, the top telescopic joint is connected with the shooting assembly by a hinge. optional, the digital camera further comprises a microphone arranged on the control handle. the patent application can achieve the following beneficial effects: through arranging the one end of the telescopic rod inside the control assembly movably, and rotationally connecting the other end with the shooting assembly, the shooting assembly can be separated from the control assembly to a certain distance when stretching the telescopic rod, and it will be convenient to take a selfie and carry out other operations by rotating the shooting assembly to a proper position.\n",
            "\n",
            "OUTPUT N. 4 : \n",
            "\n",
            "['a pull-rod type digital camera , comprising:a shooting assembly  and a control assembly , the shooting assembly comprising a camera ;a telescopic rod  arranged movably inside the control assembly ; anda display , and the display  is rotationally connected with the control handle ,wherein:the control handle  is provided with a universal ball, and the universal ball  is configured to rotate to rotate with the camera ; andthe control assembly  comprises a control handle and a display , the display being provided with several function keys  which at least comprise a power key, a shutter key , a focusing key ']\n",
            "\n",
            "CLAIM N. 4 : \n",
            "\n",
            "a pull-rod type digital camera, comprising:a shooting assembly ; anda control assembly,wherein the shooting assembly  comprises a camera ; the pull-rod type digital camera further comprises atelescopic rod, one end of the telescopic rod  is arranged movably inside the control assembly, and the other end of the telescopic rod  is rotationally connected with the shooting assembly ; the control assembly  comprises a control handle ; the control handle  is provided with function keys  which at least comprise a power key, a shutter key, a focusing key and a menu key;said control assembly  further comprises a display, and the display  is rotationally connected with the control handle ;the control handle  of the control assembly further comprises a universal ball, the display  is connected with the control handle  by the universal ball ; andwherein the telescopic rod  comprises several telescopic joints, and a top telescopic joint  is rotationally connected with the shooting assembly, a bottom telescopic joint  is movably arranged inside the control handle ; the top telescopic joint  is a little longer than the control handle, and other telescopic joints match with the control handle  in length.\n",
            "\n",
            "DESCRIPTION N. 5 : \n",
            "\n",
            "some embodiments relate to a wireless power transfer apparatus. the wireless power transfer apparatus includes a support structure having an upper surface and a side surface. the support structure is configured to accommodate a first electronic device at the side surface of the support structure and a second electronic device at the upper surface of the support structure, wherein the first electronic device is a wearable device and the second electronic device is a mobile device. the wireless power transfer apparatus also includes an upper transmit coil and a lower transmit coil within the support structure, the upper and lower transmit coils having current that flows in opposite directions to produce magnetic fields that constructively interfere with one another at the side surface. the plurality of transmit coils are configured to wirelessly transmit power to the mobile device on the upper surface and the wearable device at the side surface. some embodiments relate to a wireless power transfer apparatus. the wireless power transfer apparatus includes a support structure configured to accommodate an electronic device at a side surface of the support structure. the wireless power transfer apparatus also includes an upper transmit coil and a lower transmit coil within the support structure. the upper and lower transmit coils have current that flows in opposite directions and produce magnetic fields that constructively interfere with one another at the side surface. some embodiments relate to a method of operating a wireless power transfer apparatus. the method includes energizing the upper and lower transmit coils with current that flows in opposite directions to produce magnetic fields that constructively interfere with one another at a side surface of a support structure. the foregoing summary is provided by way of illustration and is not intended to be limiting.\n",
            "\n",
            "OUTPUT N. 5 : \n",
            "\n",
            "['a wireless power transfer apparatus  comprising:a support structure  having an upper surface  and a side surface , the support structure configured to accommodate a first electronic device  at the side surface  of the support Structure and a second electronic device at the upper surface , wherein the first electronic devices is a wearable device  and the second electronic devices  is a mobile device ;a plurality of transmit coils  configured to wirelessly transmit power to the mobile device  on the lower side of the lower surface and the wearable device , the plurality of transmitter coils  including an upper transmit coil  and an lower transmit coil , the upper']\n",
            "\n",
            "CLAIM N. 5 : \n",
            "\n",
            "a wireless power transfer apparatus, comprising:a support structure (2; 202) configured to accommodate an electronic device (11,12); andan upper transmit coil  and a lower transmit coil  within the support structure, the upper and lower transmit coils having current that flows in opposite directions to produce magnetic fields that constructively interfere with one another at a side surface,wherein the support structure  is configured to accommodate a first electronic device  at the side surface of the support structure and a second electronic device  at an upper surface  of the support structure, wherein the first electronic device is a wearable device and the second electronic device is a mobile device.\n",
            "\n",
            "DESCRIPTION N. 6 : \n",
            "\n",
            "a method of indoor positioning using fine timing measurement (ftm) protocol with multi-antenna access point (ap) is proposed. in a wireless local area network, an ap has multiple antennas that are strategically located in different physical locations. the ap is used to exchange ftm frames with a wireless station for timing measurement of the ftm frames via its multiple antennas independently. the timing measurement result (e.g., timestamps corresponding to the departure time of transmitting and the arrival time of the receiving ftm frames) is then used to determine an absolute location of the station. a simplified indoor location operation with simplified deployment is achieved. in a first embodiment, a wireless station (sta) requests ftm measurement with an access point (ap) using wi-fi technology in an indoor wireless local area network. the ap exchanges ftm frames with the station via a first antenna and measures a first set of timestamps associated with the first antenna. the ap also exchanges ftm frames with the station via a second antenna and measures a second set of timestamps associated with the second antenna. the ap then transmits the first and the second set of timestamps to the station. alternately, ap can exchange ftm frames with the station via only one of its antenna and simultaneously measure the timestamps (of the ftm frame arrival times) from all its antennas. in a second embodiment, an access point (ap) transmits an ftm request to a wireless station (sta) using wi-fi technology in an indoor wireless local area network. the ap exchanges ftm frames with the station via a first antenna and receives a first set of timestamps associated with the first antenna. the ap also exchanges ftm frames with the station via a second antenna and receives a second set of timestamps associated with the second antenna. the ap then determines a location of the station based at least in part on the first and the second set of timestamps. alternately, ap can request ftm frames with the station via only one of its antenna and simultaneously measure the timestamps (of the ftm frame arrival times) from all its antennas. other embodiments and advantages are described in the detailed description below. this summary does not purport to define the invention. the invention is defined by the claims.\n",
            "\n",
            "OUTPUT N. 6 : \n",
            "\n",
            "['a method of indoor positioning using fine timing measurement, ftm, protocol with multi-antenna access point, ap, comprising:in a wireless local area network, an ap has multiple antennas that are strategically located in different physical locations;wherein the ap is used to exchange ftm frames with a wireless station for timing measurement of the ftm frame arrival times via its multiple antennas independently, wherein the timing measurement result (e.g., timestamps corresponding to the departure time of transmitting and the arrival time of the receiving ftmframe arrival times) is then used to determine an absolute location of the station;']\n",
            "\n",
            "CLAIM N. 6 : \n",
            "\n",
            "a method comprising:(a) receiving one or more fine time measurement, ftm, requests from a wireless station by an access point, ap, in an indoor wireless local area network, wherein the ap has multiple antennas strategically placed in different locations via long extending cables ;(b) exchanging ftm frames with the station via a first antenna and measuring a first set of timestamps associated with the first antenna, wherein the first set of timestamps are transmitted to the station ; and(c) exchanging ftm frames with the station via a second antenna and measuring a second set of timestamps associated with the second antenna, wherein the second set of timestamps are transmitted to the station.\n",
            "\n"
          ]
        }
      ]
    },
    {
      "cell_type": "code",
      "source": [
        "pred = [item for sublist in pred for item in sublist]\n",
        "\n",
        "predictions = [sum, pred]\n",
        "references= [sum, ref]\n"
      ],
      "metadata": {
        "id": "qfPLHAHcXSaJ"
      },
      "execution_count": null,
      "outputs": []
    },
    {
      "cell_type": "code",
      "source": [
        "BLEURT.compute(predictions=predictions, references=references)"
      ],
      "metadata": {
        "id": "HpWDpe8hgQFw"
      },
      "execution_count": null,
      "outputs": []
    },
    {
      "cell_type": "code",
      "source": [
        "ROUGE.compute(predictions=predictions, references=references)"
      ],
      "metadata": {
        "id": "BXVnqHsggVcp"
      },
      "execution_count": null,
      "outputs": []
    },
    {
      "cell_type": "code",
      "source": [
        "# import pandas as pd\n",
        "import pandas as pd\n",
        "\n",
        "df = pd.DataFrame(list(zip(sum, ref, pred)),\n",
        "\t\t\tcolumns =['Desc', 'Claim', 'Out'])\n",
        "df.to_csv(\"/gdrive/MyDrive/university/BARTModelFineTune/out.csv\", mode='a', header=False)"
      ],
      "metadata": {
        "id": "PWERMLLbcdtx"
      },
      "execution_count": null,
      "outputs": []
    },
    {
      "cell_type": "code",
      "source": [
        "df"
      ],
      "metadata": {
        "id": "0tIxZ2rd3nRe"
      },
      "execution_count": null,
      "outputs": []
    },
    {
      "cell_type": "code",
      "source": [
        ""
      ],
      "metadata": {
        "id": "K7lnCEaG5HPJ"
      },
      "execution_count": null,
      "outputs": []
    }
  ],
  "metadata": {
    "accelerator": "GPU",
    "colab": {
      "name": "trainingBART_fp16.ipynb",
      "provenance": [],
      "collapsed_sections": [],
      "include_colab_link": true
    },
    "kernelspec": {
      "display_name": "Python 3",
      "name": "python3"
    },
    "language_info": {
      "name": "python"
    },
    "widgets": {
      "application/vnd.jupyter.widget-state+json": {
        "8b096a95baf94df985b28e1135656364": {
          "model_module": "@jupyter-widgets/controls",
          "model_name": "HBoxModel",
          "model_module_version": "1.5.0",
          "state": {
            "_view_name": "HBoxView",
            "_dom_classes": [],
            "_model_name": "HBoxModel",
            "_view_module": "@jupyter-widgets/controls",
            "_model_module_version": "1.5.0",
            "_view_count": null,
            "_view_module_version": "1.5.0",
            "box_style": "",
            "layout": "IPY_MODEL_b66035937b83409fa9a95568dc1d0e72",
            "_model_module": "@jupyter-widgets/controls",
            "children": [
              "IPY_MODEL_2c58a9479e0646ec94254c442934abff",
              "IPY_MODEL_8b79d5cdf57d4e51b444d8fdc14fc5ec",
              "IPY_MODEL_86b6468b55a54ff3afb7dae3cfd80338"
            ]
          }
        },
        "b66035937b83409fa9a95568dc1d0e72": {
          "model_module": "@jupyter-widgets/base",
          "model_name": "LayoutModel",
          "model_module_version": "1.2.0",
          "state": {
            "_view_name": "LayoutView",
            "grid_template_rows": null,
            "right": null,
            "justify_content": null,
            "_view_module": "@jupyter-widgets/base",
            "overflow": null,
            "_model_module_version": "1.2.0",
            "_view_count": null,
            "flex_flow": null,
            "width": null,
            "min_width": null,
            "border": null,
            "align_items": null,
            "bottom": null,
            "_model_module": "@jupyter-widgets/base",
            "top": null,
            "grid_column": null,
            "overflow_y": null,
            "overflow_x": null,
            "grid_auto_flow": null,
            "grid_area": null,
            "grid_template_columns": null,
            "flex": null,
            "_model_name": "LayoutModel",
            "justify_items": null,
            "grid_row": null,
            "max_height": null,
            "align_content": null,
            "visibility": null,
            "align_self": null,
            "height": null,
            "min_height": null,
            "padding": null,
            "grid_auto_rows": null,
            "grid_gap": null,
            "max_width": null,
            "order": null,
            "_view_module_version": "1.2.0",
            "grid_template_areas": null,
            "object_position": null,
            "object_fit": null,
            "grid_auto_columns": null,
            "margin": null,
            "display": null,
            "left": null
          }
        },
        "2c58a9479e0646ec94254c442934abff": {
          "model_module": "@jupyter-widgets/controls",
          "model_name": "HTMLModel",
          "model_module_version": "1.5.0",
          "state": {
            "_view_name": "HTMLView",
            "style": "IPY_MODEL_4cc48bb31416457facbed83334640f69",
            "_dom_classes": [],
            "description": "",
            "_model_name": "HTMLModel",
            "placeholder": "​",
            "_view_module": "@jupyter-widgets/controls",
            "_model_module_version": "1.5.0",
            "value": "Downloading: 100%",
            "_view_count": null,
            "_view_module_version": "1.5.0",
            "description_tooltip": null,
            "_model_module": "@jupyter-widgets/controls",
            "layout": "IPY_MODEL_4f7d86672351421985075262d2a20f34"
          }
        },
        "8b79d5cdf57d4e51b444d8fdc14fc5ec": {
          "model_module": "@jupyter-widgets/controls",
          "model_name": "FloatProgressModel",
          "model_module_version": "1.5.0",
          "state": {
            "_view_name": "ProgressView",
            "style": "IPY_MODEL_bd0b940958a5429d82d9951188cfeaff",
            "_dom_classes": [],
            "description": "",
            "_model_name": "FloatProgressModel",
            "bar_style": "success",
            "max": 898823,
            "_view_module": "@jupyter-widgets/controls",
            "_model_module_version": "1.5.0",
            "value": 898823,
            "_view_count": null,
            "_view_module_version": "1.5.0",
            "orientation": "horizontal",
            "min": 0,
            "description_tooltip": null,
            "_model_module": "@jupyter-widgets/controls",
            "layout": "IPY_MODEL_84997fd4f21246c2ac3e156b26434c28"
          }
        },
        "86b6468b55a54ff3afb7dae3cfd80338": {
          "model_module": "@jupyter-widgets/controls",
          "model_name": "HTMLModel",
          "model_module_version": "1.5.0",
          "state": {
            "_view_name": "HTMLView",
            "style": "IPY_MODEL_647d86c89c8144fb84736edee92ce396",
            "_dom_classes": [],
            "description": "",
            "_model_name": "HTMLModel",
            "placeholder": "​",
            "_view_module": "@jupyter-widgets/controls",
            "_model_module_version": "1.5.0",
            "value": " 878k/878k [00:00&lt;00:00, 2.89MB/s]",
            "_view_count": null,
            "_view_module_version": "1.5.0",
            "description_tooltip": null,
            "_model_module": "@jupyter-widgets/controls",
            "layout": "IPY_MODEL_7693d8953834441ea5db6f07aa923fa8"
          }
        },
        "4cc48bb31416457facbed83334640f69": {
          "model_module": "@jupyter-widgets/controls",
          "model_name": "DescriptionStyleModel",
          "model_module_version": "1.5.0",
          "state": {
            "_view_name": "StyleView",
            "_model_name": "DescriptionStyleModel",
            "description_width": "",
            "_view_module": "@jupyter-widgets/base",
            "_model_module_version": "1.5.0",
            "_view_count": null,
            "_view_module_version": "1.2.0",
            "_model_module": "@jupyter-widgets/controls"
          }
        },
        "4f7d86672351421985075262d2a20f34": {
          "model_module": "@jupyter-widgets/base",
          "model_name": "LayoutModel",
          "model_module_version": "1.2.0",
          "state": {
            "_view_name": "LayoutView",
            "grid_template_rows": null,
            "right": null,
            "justify_content": null,
            "_view_module": "@jupyter-widgets/base",
            "overflow": null,
            "_model_module_version": "1.2.0",
            "_view_count": null,
            "flex_flow": null,
            "width": null,
            "min_width": null,
            "border": null,
            "align_items": null,
            "bottom": null,
            "_model_module": "@jupyter-widgets/base",
            "top": null,
            "grid_column": null,
            "overflow_y": null,
            "overflow_x": null,
            "grid_auto_flow": null,
            "grid_area": null,
            "grid_template_columns": null,
            "flex": null,
            "_model_name": "LayoutModel",
            "justify_items": null,
            "grid_row": null,
            "max_height": null,
            "align_content": null,
            "visibility": null,
            "align_self": null,
            "height": null,
            "min_height": null,
            "padding": null,
            "grid_auto_rows": null,
            "grid_gap": null,
            "max_width": null,
            "order": null,
            "_view_module_version": "1.2.0",
            "grid_template_areas": null,
            "object_position": null,
            "object_fit": null,
            "grid_auto_columns": null,
            "margin": null,
            "display": null,
            "left": null
          }
        },
        "bd0b940958a5429d82d9951188cfeaff": {
          "model_module": "@jupyter-widgets/controls",
          "model_name": "ProgressStyleModel",
          "model_module_version": "1.5.0",
          "state": {
            "_view_name": "StyleView",
            "_model_name": "ProgressStyleModel",
            "description_width": "",
            "_view_module": "@jupyter-widgets/base",
            "_model_module_version": "1.5.0",
            "_view_count": null,
            "_view_module_version": "1.2.0",
            "bar_color": null,
            "_model_module": "@jupyter-widgets/controls"
          }
        },
        "84997fd4f21246c2ac3e156b26434c28": {
          "model_module": "@jupyter-widgets/base",
          "model_name": "LayoutModel",
          "model_module_version": "1.2.0",
          "state": {
            "_view_name": "LayoutView",
            "grid_template_rows": null,
            "right": null,
            "justify_content": null,
            "_view_module": "@jupyter-widgets/base",
            "overflow": null,
            "_model_module_version": "1.2.0",
            "_view_count": null,
            "flex_flow": null,
            "width": null,
            "min_width": null,
            "border": null,
            "align_items": null,
            "bottom": null,
            "_model_module": "@jupyter-widgets/base",
            "top": null,
            "grid_column": null,
            "overflow_y": null,
            "overflow_x": null,
            "grid_auto_flow": null,
            "grid_area": null,
            "grid_template_columns": null,
            "flex": null,
            "_model_name": "LayoutModel",
            "justify_items": null,
            "grid_row": null,
            "max_height": null,
            "align_content": null,
            "visibility": null,
            "align_self": null,
            "height": null,
            "min_height": null,
            "padding": null,
            "grid_auto_rows": null,
            "grid_gap": null,
            "max_width": null,
            "order": null,
            "_view_module_version": "1.2.0",
            "grid_template_areas": null,
            "object_position": null,
            "object_fit": null,
            "grid_auto_columns": null,
            "margin": null,
            "display": null,
            "left": null
          }
        },
        "647d86c89c8144fb84736edee92ce396": {
          "model_module": "@jupyter-widgets/controls",
          "model_name": "DescriptionStyleModel",
          "model_module_version": "1.5.0",
          "state": {
            "_view_name": "StyleView",
            "_model_name": "DescriptionStyleModel",
            "description_width": "",
            "_view_module": "@jupyter-widgets/base",
            "_model_module_version": "1.5.0",
            "_view_count": null,
            "_view_module_version": "1.2.0",
            "_model_module": "@jupyter-widgets/controls"
          }
        },
        "7693d8953834441ea5db6f07aa923fa8": {
          "model_module": "@jupyter-widgets/base",
          "model_name": "LayoutModel",
          "model_module_version": "1.2.0",
          "state": {
            "_view_name": "LayoutView",
            "grid_template_rows": null,
            "right": null,
            "justify_content": null,
            "_view_module": "@jupyter-widgets/base",
            "overflow": null,
            "_model_module_version": "1.2.0",
            "_view_count": null,
            "flex_flow": null,
            "width": null,
            "min_width": null,
            "border": null,
            "align_items": null,
            "bottom": null,
            "_model_module": "@jupyter-widgets/base",
            "top": null,
            "grid_column": null,
            "overflow_y": null,
            "overflow_x": null,
            "grid_auto_flow": null,
            "grid_area": null,
            "grid_template_columns": null,
            "flex": null,
            "_model_name": "LayoutModel",
            "justify_items": null,
            "grid_row": null,
            "max_height": null,
            "align_content": null,
            "visibility": null,
            "align_self": null,
            "height": null,
            "min_height": null,
            "padding": null,
            "grid_auto_rows": null,
            "grid_gap": null,
            "max_width": null,
            "order": null,
            "_view_module_version": "1.2.0",
            "grid_template_areas": null,
            "object_position": null,
            "object_fit": null,
            "grid_auto_columns": null,
            "margin": null,
            "display": null,
            "left": null
          }
        },
        "08af6417e62b41e4bea872663d778d48": {
          "model_module": "@jupyter-widgets/controls",
          "model_name": "HBoxModel",
          "model_module_version": "1.5.0",
          "state": {
            "_view_name": "HBoxView",
            "_dom_classes": [],
            "_model_name": "HBoxModel",
            "_view_module": "@jupyter-widgets/controls",
            "_model_module_version": "1.5.0",
            "_view_count": null,
            "_view_module_version": "1.5.0",
            "box_style": "",
            "layout": "IPY_MODEL_50646dd73bc942babf8f9d8090e6205f",
            "_model_module": "@jupyter-widgets/controls",
            "children": [
              "IPY_MODEL_a260056f9aa7409988892877f3ce8c8f",
              "IPY_MODEL_43fe6992560149ef8e3dff9c8898d192",
              "IPY_MODEL_48940476c93241e0b965ad4dc9483316"
            ]
          }
        },
        "50646dd73bc942babf8f9d8090e6205f": {
          "model_module": "@jupyter-widgets/base",
          "model_name": "LayoutModel",
          "model_module_version": "1.2.0",
          "state": {
            "_view_name": "LayoutView",
            "grid_template_rows": null,
            "right": null,
            "justify_content": null,
            "_view_module": "@jupyter-widgets/base",
            "overflow": null,
            "_model_module_version": "1.2.0",
            "_view_count": null,
            "flex_flow": null,
            "width": null,
            "min_width": null,
            "border": null,
            "align_items": null,
            "bottom": null,
            "_model_module": "@jupyter-widgets/base",
            "top": null,
            "grid_column": null,
            "overflow_y": null,
            "overflow_x": null,
            "grid_auto_flow": null,
            "grid_area": null,
            "grid_template_columns": null,
            "flex": null,
            "_model_name": "LayoutModel",
            "justify_items": null,
            "grid_row": null,
            "max_height": null,
            "align_content": null,
            "visibility": null,
            "align_self": null,
            "height": null,
            "min_height": null,
            "padding": null,
            "grid_auto_rows": null,
            "grid_gap": null,
            "max_width": null,
            "order": null,
            "_view_module_version": "1.2.0",
            "grid_template_areas": null,
            "object_position": null,
            "object_fit": null,
            "grid_auto_columns": null,
            "margin": null,
            "display": null,
            "left": null
          }
        },
        "a260056f9aa7409988892877f3ce8c8f": {
          "model_module": "@jupyter-widgets/controls",
          "model_name": "HTMLModel",
          "model_module_version": "1.5.0",
          "state": {
            "_view_name": "HTMLView",
            "style": "IPY_MODEL_7c901504929a4dfda7d2883629c3d5da",
            "_dom_classes": [],
            "description": "",
            "_model_name": "HTMLModel",
            "placeholder": "​",
            "_view_module": "@jupyter-widgets/controls",
            "_model_module_version": "1.5.0",
            "value": "Downloading: 100%",
            "_view_count": null,
            "_view_module_version": "1.5.0",
            "description_tooltip": null,
            "_model_module": "@jupyter-widgets/controls",
            "layout": "IPY_MODEL_a11ce063f64c4cddb70193d3f51b14e9"
          }
        },
        "43fe6992560149ef8e3dff9c8898d192": {
          "model_module": "@jupyter-widgets/controls",
          "model_name": "FloatProgressModel",
          "model_module_version": "1.5.0",
          "state": {
            "_view_name": "ProgressView",
            "style": "IPY_MODEL_bc22a9db65af43cc8d6bbb692a843841",
            "_dom_classes": [],
            "description": "",
            "_model_name": "FloatProgressModel",
            "bar_style": "success",
            "max": 456318,
            "_view_module": "@jupyter-widgets/controls",
            "_model_module_version": "1.5.0",
            "value": 456318,
            "_view_count": null,
            "_view_module_version": "1.5.0",
            "orientation": "horizontal",
            "min": 0,
            "description_tooltip": null,
            "_model_module": "@jupyter-widgets/controls",
            "layout": "IPY_MODEL_0aefaa52cab24d9886606d7305f79969"
          }
        },
        "48940476c93241e0b965ad4dc9483316": {
          "model_module": "@jupyter-widgets/controls",
          "model_name": "HTMLModel",
          "model_module_version": "1.5.0",
          "state": {
            "_view_name": "HTMLView",
            "style": "IPY_MODEL_450992c2d11a459b8cee55826fdec927",
            "_dom_classes": [],
            "description": "",
            "_model_name": "HTMLModel",
            "placeholder": "​",
            "_view_module": "@jupyter-widgets/controls",
            "_model_module_version": "1.5.0",
            "value": " 446k/446k [00:00&lt;00:00, 897kB/s]",
            "_view_count": null,
            "_view_module_version": "1.5.0",
            "description_tooltip": null,
            "_model_module": "@jupyter-widgets/controls",
            "layout": "IPY_MODEL_47add184de4745bf89cbe393caa8386b"
          }
        },
        "7c901504929a4dfda7d2883629c3d5da": {
          "model_module": "@jupyter-widgets/controls",
          "model_name": "DescriptionStyleModel",
          "model_module_version": "1.5.0",
          "state": {
            "_view_name": "StyleView",
            "_model_name": "DescriptionStyleModel",
            "description_width": "",
            "_view_module": "@jupyter-widgets/base",
            "_model_module_version": "1.5.0",
            "_view_count": null,
            "_view_module_version": "1.2.0",
            "_model_module": "@jupyter-widgets/controls"
          }
        },
        "a11ce063f64c4cddb70193d3f51b14e9": {
          "model_module": "@jupyter-widgets/base",
          "model_name": "LayoutModel",
          "model_module_version": "1.2.0",
          "state": {
            "_view_name": "LayoutView",
            "grid_template_rows": null,
            "right": null,
            "justify_content": null,
            "_view_module": "@jupyter-widgets/base",
            "overflow": null,
            "_model_module_version": "1.2.0",
            "_view_count": null,
            "flex_flow": null,
            "width": null,
            "min_width": null,
            "border": null,
            "align_items": null,
            "bottom": null,
            "_model_module": "@jupyter-widgets/base",
            "top": null,
            "grid_column": null,
            "overflow_y": null,
            "overflow_x": null,
            "grid_auto_flow": null,
            "grid_area": null,
            "grid_template_columns": null,
            "flex": null,
            "_model_name": "LayoutModel",
            "justify_items": null,
            "grid_row": null,
            "max_height": null,
            "align_content": null,
            "visibility": null,
            "align_self": null,
            "height": null,
            "min_height": null,
            "padding": null,
            "grid_auto_rows": null,
            "grid_gap": null,
            "max_width": null,
            "order": null,
            "_view_module_version": "1.2.0",
            "grid_template_areas": null,
            "object_position": null,
            "object_fit": null,
            "grid_auto_columns": null,
            "margin": null,
            "display": null,
            "left": null
          }
        },
        "bc22a9db65af43cc8d6bbb692a843841": {
          "model_module": "@jupyter-widgets/controls",
          "model_name": "ProgressStyleModel",
          "model_module_version": "1.5.0",
          "state": {
            "_view_name": "StyleView",
            "_model_name": "ProgressStyleModel",
            "description_width": "",
            "_view_module": "@jupyter-widgets/base",
            "_model_module_version": "1.5.0",
            "_view_count": null,
            "_view_module_version": "1.2.0",
            "bar_color": null,
            "_model_module": "@jupyter-widgets/controls"
          }
        },
        "0aefaa52cab24d9886606d7305f79969": {
          "model_module": "@jupyter-widgets/base",
          "model_name": "LayoutModel",
          "model_module_version": "1.2.0",
          "state": {
            "_view_name": "LayoutView",
            "grid_template_rows": null,
            "right": null,
            "justify_content": null,
            "_view_module": "@jupyter-widgets/base",
            "overflow": null,
            "_model_module_version": "1.2.0",
            "_view_count": null,
            "flex_flow": null,
            "width": null,
            "min_width": null,
            "border": null,
            "align_items": null,
            "bottom": null,
            "_model_module": "@jupyter-widgets/base",
            "top": null,
            "grid_column": null,
            "overflow_y": null,
            "overflow_x": null,
            "grid_auto_flow": null,
            "grid_area": null,
            "grid_template_columns": null,
            "flex": null,
            "_model_name": "LayoutModel",
            "justify_items": null,
            "grid_row": null,
            "max_height": null,
            "align_content": null,
            "visibility": null,
            "align_self": null,
            "height": null,
            "min_height": null,
            "padding": null,
            "grid_auto_rows": null,
            "grid_gap": null,
            "max_width": null,
            "order": null,
            "_view_module_version": "1.2.0",
            "grid_template_areas": null,
            "object_position": null,
            "object_fit": null,
            "grid_auto_columns": null,
            "margin": null,
            "display": null,
            "left": null
          }
        },
        "450992c2d11a459b8cee55826fdec927": {
          "model_module": "@jupyter-widgets/controls",
          "model_name": "DescriptionStyleModel",
          "model_module_version": "1.5.0",
          "state": {
            "_view_name": "StyleView",
            "_model_name": "DescriptionStyleModel",
            "description_width": "",
            "_view_module": "@jupyter-widgets/base",
            "_model_module_version": "1.5.0",
            "_view_count": null,
            "_view_module_version": "1.2.0",
            "_model_module": "@jupyter-widgets/controls"
          }
        },
        "47add184de4745bf89cbe393caa8386b": {
          "model_module": "@jupyter-widgets/base",
          "model_name": "LayoutModel",
          "model_module_version": "1.2.0",
          "state": {
            "_view_name": "LayoutView",
            "grid_template_rows": null,
            "right": null,
            "justify_content": null,
            "_view_module": "@jupyter-widgets/base",
            "overflow": null,
            "_model_module_version": "1.2.0",
            "_view_count": null,
            "flex_flow": null,
            "width": null,
            "min_width": null,
            "border": null,
            "align_items": null,
            "bottom": null,
            "_model_module": "@jupyter-widgets/base",
            "top": null,
            "grid_column": null,
            "overflow_y": null,
            "overflow_x": null,
            "grid_auto_flow": null,
            "grid_area": null,
            "grid_template_columns": null,
            "flex": null,
            "_model_name": "LayoutModel",
            "justify_items": null,
            "grid_row": null,
            "max_height": null,
            "align_content": null,
            "visibility": null,
            "align_self": null,
            "height": null,
            "min_height": null,
            "padding": null,
            "grid_auto_rows": null,
            "grid_gap": null,
            "max_width": null,
            "order": null,
            "_view_module_version": "1.2.0",
            "grid_template_areas": null,
            "object_position": null,
            "object_fit": null,
            "grid_auto_columns": null,
            "margin": null,
            "display": null,
            "left": null
          }
        },
        "8c2635b985bd4c15aec325b33bbf0449": {
          "model_module": "@jupyter-widgets/controls",
          "model_name": "HBoxModel",
          "model_module_version": "1.5.0",
          "state": {
            "_view_name": "HBoxView",
            "_dom_classes": [],
            "_model_name": "HBoxModel",
            "_view_module": "@jupyter-widgets/controls",
            "_model_module_version": "1.5.0",
            "_view_count": null,
            "_view_module_version": "1.5.0",
            "box_style": "",
            "layout": "IPY_MODEL_084c71c87c414739ab1de648591dad3e",
            "_model_module": "@jupyter-widgets/controls",
            "children": [
              "IPY_MODEL_df72dc5793f04c43b658c2be45c1359c",
              "IPY_MODEL_d141620ca19d41e292f18bef521d8d61",
              "IPY_MODEL_439fe90c6e9a4f6ca3158d789d9c7f91"
            ]
          }
        },
        "084c71c87c414739ab1de648591dad3e": {
          "model_module": "@jupyter-widgets/base",
          "model_name": "LayoutModel",
          "model_module_version": "1.2.0",
          "state": {
            "_view_name": "LayoutView",
            "grid_template_rows": null,
            "right": null,
            "justify_content": null,
            "_view_module": "@jupyter-widgets/base",
            "overflow": null,
            "_model_module_version": "1.2.0",
            "_view_count": null,
            "flex_flow": null,
            "width": null,
            "min_width": null,
            "border": null,
            "align_items": null,
            "bottom": null,
            "_model_module": "@jupyter-widgets/base",
            "top": null,
            "grid_column": null,
            "overflow_y": null,
            "overflow_x": null,
            "grid_auto_flow": null,
            "grid_area": null,
            "grid_template_columns": null,
            "flex": null,
            "_model_name": "LayoutModel",
            "justify_items": null,
            "grid_row": null,
            "max_height": null,
            "align_content": null,
            "visibility": null,
            "align_self": null,
            "height": null,
            "min_height": null,
            "padding": null,
            "grid_auto_rows": null,
            "grid_gap": null,
            "max_width": null,
            "order": null,
            "_view_module_version": "1.2.0",
            "grid_template_areas": null,
            "object_position": null,
            "object_fit": null,
            "grid_auto_columns": null,
            "margin": null,
            "display": null,
            "left": null
          }
        },
        "df72dc5793f04c43b658c2be45c1359c": {
          "model_module": "@jupyter-widgets/controls",
          "model_name": "HTMLModel",
          "model_module_version": "1.5.0",
          "state": {
            "_view_name": "HTMLView",
            "style": "IPY_MODEL_064711c6c61a4173a2af035b6a81f5b6",
            "_dom_classes": [],
            "description": "",
            "_model_name": "HTMLModel",
            "placeholder": "​",
            "_view_module": "@jupyter-widgets/controls",
            "_model_module_version": "1.5.0",
            "value": "Downloading: 100%",
            "_view_count": null,
            "_view_module_version": "1.5.0",
            "description_tooltip": null,
            "_model_module": "@jupyter-widgets/controls",
            "layout": "IPY_MODEL_192c64eb10a447c9a39eb394e7905aba"
          }
        },
        "d141620ca19d41e292f18bef521d8d61": {
          "model_module": "@jupyter-widgets/controls",
          "model_name": "FloatProgressModel",
          "model_module_version": "1.5.0",
          "state": {
            "_view_name": "ProgressView",
            "style": "IPY_MODEL_b1c3044c77814ba5bc9a59e330a070f0",
            "_dom_classes": [],
            "description": "",
            "_model_name": "FloatProgressModel",
            "bar_style": "success",
            "max": 1585,
            "_view_module": "@jupyter-widgets/controls",
            "_model_module_version": "1.5.0",
            "value": 1585,
            "_view_count": null,
            "_view_module_version": "1.5.0",
            "orientation": "horizontal",
            "min": 0,
            "description_tooltip": null,
            "_model_module": "@jupyter-widgets/controls",
            "layout": "IPY_MODEL_b2b48ad83b0147c1843b365cc35a94fa"
          }
        },
        "439fe90c6e9a4f6ca3158d789d9c7f91": {
          "model_module": "@jupyter-widgets/controls",
          "model_name": "HTMLModel",
          "model_module_version": "1.5.0",
          "state": {
            "_view_name": "HTMLView",
            "style": "IPY_MODEL_ccac2b61f45a4941be4215b9919cc34f",
            "_dom_classes": [],
            "description": "",
            "_model_name": "HTMLModel",
            "placeholder": "​",
            "_view_module": "@jupyter-widgets/controls",
            "_model_module_version": "1.5.0",
            "value": " 1.55k/1.55k [00:00&lt;00:00, 52.7kB/s]",
            "_view_count": null,
            "_view_module_version": "1.5.0",
            "description_tooltip": null,
            "_model_module": "@jupyter-widgets/controls",
            "layout": "IPY_MODEL_0f00389895a9441aa80dfcc240946c61"
          }
        },
        "064711c6c61a4173a2af035b6a81f5b6": {
          "model_module": "@jupyter-widgets/controls",
          "model_name": "DescriptionStyleModel",
          "model_module_version": "1.5.0",
          "state": {
            "_view_name": "StyleView",
            "_model_name": "DescriptionStyleModel",
            "description_width": "",
            "_view_module": "@jupyter-widgets/base",
            "_model_module_version": "1.5.0",
            "_view_count": null,
            "_view_module_version": "1.2.0",
            "_model_module": "@jupyter-widgets/controls"
          }
        },
        "192c64eb10a447c9a39eb394e7905aba": {
          "model_module": "@jupyter-widgets/base",
          "model_name": "LayoutModel",
          "model_module_version": "1.2.0",
          "state": {
            "_view_name": "LayoutView",
            "grid_template_rows": null,
            "right": null,
            "justify_content": null,
            "_view_module": "@jupyter-widgets/base",
            "overflow": null,
            "_model_module_version": "1.2.0",
            "_view_count": null,
            "flex_flow": null,
            "width": null,
            "min_width": null,
            "border": null,
            "align_items": null,
            "bottom": null,
            "_model_module": "@jupyter-widgets/base",
            "top": null,
            "grid_column": null,
            "overflow_y": null,
            "overflow_x": null,
            "grid_auto_flow": null,
            "grid_area": null,
            "grid_template_columns": null,
            "flex": null,
            "_model_name": "LayoutModel",
            "justify_items": null,
            "grid_row": null,
            "max_height": null,
            "align_content": null,
            "visibility": null,
            "align_self": null,
            "height": null,
            "min_height": null,
            "padding": null,
            "grid_auto_rows": null,
            "grid_gap": null,
            "max_width": null,
            "order": null,
            "_view_module_version": "1.2.0",
            "grid_template_areas": null,
            "object_position": null,
            "object_fit": null,
            "grid_auto_columns": null,
            "margin": null,
            "display": null,
            "left": null
          }
        },
        "b1c3044c77814ba5bc9a59e330a070f0": {
          "model_module": "@jupyter-widgets/controls",
          "model_name": "ProgressStyleModel",
          "model_module_version": "1.5.0",
          "state": {
            "_view_name": "StyleView",
            "_model_name": "ProgressStyleModel",
            "description_width": "",
            "_view_module": "@jupyter-widgets/base",
            "_model_module_version": "1.5.0",
            "_view_count": null,
            "_view_module_version": "1.2.0",
            "bar_color": null,
            "_model_module": "@jupyter-widgets/controls"
          }
        },
        "b2b48ad83b0147c1843b365cc35a94fa": {
          "model_module": "@jupyter-widgets/base",
          "model_name": "LayoutModel",
          "model_module_version": "1.2.0",
          "state": {
            "_view_name": "LayoutView",
            "grid_template_rows": null,
            "right": null,
            "justify_content": null,
            "_view_module": "@jupyter-widgets/base",
            "overflow": null,
            "_model_module_version": "1.2.0",
            "_view_count": null,
            "flex_flow": null,
            "width": null,
            "min_width": null,
            "border": null,
            "align_items": null,
            "bottom": null,
            "_model_module": "@jupyter-widgets/base",
            "top": null,
            "grid_column": null,
            "overflow_y": null,
            "overflow_x": null,
            "grid_auto_flow": null,
            "grid_area": null,
            "grid_template_columns": null,
            "flex": null,
            "_model_name": "LayoutModel",
            "justify_items": null,
            "grid_row": null,
            "max_height": null,
            "align_content": null,
            "visibility": null,
            "align_self": null,
            "height": null,
            "min_height": null,
            "padding": null,
            "grid_auto_rows": null,
            "grid_gap": null,
            "max_width": null,
            "order": null,
            "_view_module_version": "1.2.0",
            "grid_template_areas": null,
            "object_position": null,
            "object_fit": null,
            "grid_auto_columns": null,
            "margin": null,
            "display": null,
            "left": null
          }
        },
        "ccac2b61f45a4941be4215b9919cc34f": {
          "model_module": "@jupyter-widgets/controls",
          "model_name": "DescriptionStyleModel",
          "model_module_version": "1.5.0",
          "state": {
            "_view_name": "StyleView",
            "_model_name": "DescriptionStyleModel",
            "description_width": "",
            "_view_module": "@jupyter-widgets/base",
            "_model_module_version": "1.5.0",
            "_view_count": null,
            "_view_module_version": "1.2.0",
            "_model_module": "@jupyter-widgets/controls"
          }
        },
        "0f00389895a9441aa80dfcc240946c61": {
          "model_module": "@jupyter-widgets/base",
          "model_name": "LayoutModel",
          "model_module_version": "1.2.0",
          "state": {
            "_view_name": "LayoutView",
            "grid_template_rows": null,
            "right": null,
            "justify_content": null,
            "_view_module": "@jupyter-widgets/base",
            "overflow": null,
            "_model_module_version": "1.2.0",
            "_view_count": null,
            "flex_flow": null,
            "width": null,
            "min_width": null,
            "border": null,
            "align_items": null,
            "bottom": null,
            "_model_module": "@jupyter-widgets/base",
            "top": null,
            "grid_column": null,
            "overflow_y": null,
            "overflow_x": null,
            "grid_auto_flow": null,
            "grid_area": null,
            "grid_template_columns": null,
            "flex": null,
            "_model_name": "LayoutModel",
            "justify_items": null,
            "grid_row": null,
            "max_height": null,
            "align_content": null,
            "visibility": null,
            "align_self": null,
            "height": null,
            "min_height": null,
            "padding": null,
            "grid_auto_rows": null,
            "grid_gap": null,
            "max_width": null,
            "order": null,
            "_view_module_version": "1.2.0",
            "grid_template_areas": null,
            "object_position": null,
            "object_fit": null,
            "grid_auto_columns": null,
            "margin": null,
            "display": null,
            "left": null
          }
        },
        "8c08690ba58544bfa0a0080a5904bc7d": {
          "model_module": "@jupyter-widgets/controls",
          "model_name": "HBoxModel",
          "model_module_version": "1.5.0",
          "state": {
            "_view_name": "HBoxView",
            "_dom_classes": [],
            "_model_name": "HBoxModel",
            "_view_module": "@jupyter-widgets/controls",
            "_model_module_version": "1.5.0",
            "_view_count": null,
            "_view_module_version": "1.5.0",
            "box_style": "",
            "layout": "IPY_MODEL_65a2cf2fc9bb455985b8ba92c444f91d",
            "_model_module": "@jupyter-widgets/controls",
            "children": [
              "IPY_MODEL_4615142a40264462be57d5b08ac50873",
              "IPY_MODEL_c760b9bda1344e53862fdc4f156d61e4",
              "IPY_MODEL_f1dc82d6c1714545a1a94189e8f9b117"
            ]
          }
        },
        "65a2cf2fc9bb455985b8ba92c444f91d": {
          "model_module": "@jupyter-widgets/base",
          "model_name": "LayoutModel",
          "model_module_version": "1.2.0",
          "state": {
            "_view_name": "LayoutView",
            "grid_template_rows": null,
            "right": null,
            "justify_content": null,
            "_view_module": "@jupyter-widgets/base",
            "overflow": null,
            "_model_module_version": "1.2.0",
            "_view_count": null,
            "flex_flow": null,
            "width": null,
            "min_width": null,
            "border": null,
            "align_items": null,
            "bottom": null,
            "_model_module": "@jupyter-widgets/base",
            "top": null,
            "grid_column": null,
            "overflow_y": null,
            "overflow_x": null,
            "grid_auto_flow": null,
            "grid_area": null,
            "grid_template_columns": null,
            "flex": null,
            "_model_name": "LayoutModel",
            "justify_items": null,
            "grid_row": null,
            "max_height": null,
            "align_content": null,
            "visibility": null,
            "align_self": null,
            "height": null,
            "min_height": null,
            "padding": null,
            "grid_auto_rows": null,
            "grid_gap": null,
            "max_width": null,
            "order": null,
            "_view_module_version": "1.2.0",
            "grid_template_areas": null,
            "object_position": null,
            "object_fit": null,
            "grid_auto_columns": null,
            "margin": null,
            "display": null,
            "left": null
          }
        },
        "4615142a40264462be57d5b08ac50873": {
          "model_module": "@jupyter-widgets/controls",
          "model_name": "HTMLModel",
          "model_module_version": "1.5.0",
          "state": {
            "_view_name": "HTMLView",
            "style": "IPY_MODEL_2b3960fcfe3d44248a697a985a5d7b9f",
            "_dom_classes": [],
            "description": "",
            "_model_name": "HTMLModel",
            "placeholder": "​",
            "_view_module": "@jupyter-widgets/controls",
            "_model_module_version": "1.5.0",
            "value": "Downloading: ",
            "_view_count": null,
            "_view_module_version": "1.5.0",
            "description_tooltip": null,
            "_model_module": "@jupyter-widgets/controls",
            "layout": "IPY_MODEL_e1da27d774264c5789c29f9e7a64f97e"
          }
        },
        "c760b9bda1344e53862fdc4f156d61e4": {
          "model_module": "@jupyter-widgets/controls",
          "model_name": "FloatProgressModel",
          "model_module_version": "1.5.0",
          "state": {
            "_view_name": "ProgressView",
            "style": "IPY_MODEL_6b4ea521a2f34f98b1dcadd6dce72e88",
            "_dom_classes": [],
            "description": "",
            "_model_name": "FloatProgressModel",
            "bar_style": "success",
            "max": 2161,
            "_view_module": "@jupyter-widgets/controls",
            "_model_module_version": "1.5.0",
            "value": 2161,
            "_view_count": null,
            "_view_module_version": "1.5.0",
            "orientation": "horizontal",
            "min": 0,
            "description_tooltip": null,
            "_model_module": "@jupyter-widgets/controls",
            "layout": "IPY_MODEL_e380479fcbfc4a88ac2d8ba7d664ae05"
          }
        },
        "f1dc82d6c1714545a1a94189e8f9b117": {
          "model_module": "@jupyter-widgets/controls",
          "model_name": "HTMLModel",
          "model_module_version": "1.5.0",
          "state": {
            "_view_name": "HTMLView",
            "style": "IPY_MODEL_ebf7d37377084846a04c96062da95af3",
            "_dom_classes": [],
            "description": "",
            "_model_name": "HTMLModel",
            "placeholder": "​",
            "_view_module": "@jupyter-widgets/controls",
            "_model_module_version": "1.5.0",
            "value": " 5.60k/? [00:00&lt;00:00, 151kB/s]",
            "_view_count": null,
            "_view_module_version": "1.5.0",
            "description_tooltip": null,
            "_model_module": "@jupyter-widgets/controls",
            "layout": "IPY_MODEL_3f117fda42384133abf7e6845fc099d5"
          }
        },
        "2b3960fcfe3d44248a697a985a5d7b9f": {
          "model_module": "@jupyter-widgets/controls",
          "model_name": "DescriptionStyleModel",
          "model_module_version": "1.5.0",
          "state": {
            "_view_name": "StyleView",
            "_model_name": "DescriptionStyleModel",
            "description_width": "",
            "_view_module": "@jupyter-widgets/base",
            "_model_module_version": "1.5.0",
            "_view_count": null,
            "_view_module_version": "1.2.0",
            "_model_module": "@jupyter-widgets/controls"
          }
        },
        "e1da27d774264c5789c29f9e7a64f97e": {
          "model_module": "@jupyter-widgets/base",
          "model_name": "LayoutModel",
          "model_module_version": "1.2.0",
          "state": {
            "_view_name": "LayoutView",
            "grid_template_rows": null,
            "right": null,
            "justify_content": null,
            "_view_module": "@jupyter-widgets/base",
            "overflow": null,
            "_model_module_version": "1.2.0",
            "_view_count": null,
            "flex_flow": null,
            "width": null,
            "min_width": null,
            "border": null,
            "align_items": null,
            "bottom": null,
            "_model_module": "@jupyter-widgets/base",
            "top": null,
            "grid_column": null,
            "overflow_y": null,
            "overflow_x": null,
            "grid_auto_flow": null,
            "grid_area": null,
            "grid_template_columns": null,
            "flex": null,
            "_model_name": "LayoutModel",
            "justify_items": null,
            "grid_row": null,
            "max_height": null,
            "align_content": null,
            "visibility": null,
            "align_self": null,
            "height": null,
            "min_height": null,
            "padding": null,
            "grid_auto_rows": null,
            "grid_gap": null,
            "max_width": null,
            "order": null,
            "_view_module_version": "1.2.0",
            "grid_template_areas": null,
            "object_position": null,
            "object_fit": null,
            "grid_auto_columns": null,
            "margin": null,
            "display": null,
            "left": null
          }
        },
        "6b4ea521a2f34f98b1dcadd6dce72e88": {
          "model_module": "@jupyter-widgets/controls",
          "model_name": "ProgressStyleModel",
          "model_module_version": "1.5.0",
          "state": {
            "_view_name": "StyleView",
            "_model_name": "ProgressStyleModel",
            "description_width": "",
            "_view_module": "@jupyter-widgets/base",
            "_model_module_version": "1.5.0",
            "_view_count": null,
            "_view_module_version": "1.2.0",
            "bar_color": null,
            "_model_module": "@jupyter-widgets/controls"
          }
        },
        "e380479fcbfc4a88ac2d8ba7d664ae05": {
          "model_module": "@jupyter-widgets/base",
          "model_name": "LayoutModel",
          "model_module_version": "1.2.0",
          "state": {
            "_view_name": "LayoutView",
            "grid_template_rows": null,
            "right": null,
            "justify_content": null,
            "_view_module": "@jupyter-widgets/base",
            "overflow": null,
            "_model_module_version": "1.2.0",
            "_view_count": null,
            "flex_flow": null,
            "width": null,
            "min_width": null,
            "border": null,
            "align_items": null,
            "bottom": null,
            "_model_module": "@jupyter-widgets/base",
            "top": null,
            "grid_column": null,
            "overflow_y": null,
            "overflow_x": null,
            "grid_auto_flow": null,
            "grid_area": null,
            "grid_template_columns": null,
            "flex": null,
            "_model_name": "LayoutModel",
            "justify_items": null,
            "grid_row": null,
            "max_height": null,
            "align_content": null,
            "visibility": null,
            "align_self": null,
            "height": null,
            "min_height": null,
            "padding": null,
            "grid_auto_rows": null,
            "grid_gap": null,
            "max_width": null,
            "order": null,
            "_view_module_version": "1.2.0",
            "grid_template_areas": null,
            "object_position": null,
            "object_fit": null,
            "grid_auto_columns": null,
            "margin": null,
            "display": null,
            "left": null
          }
        },
        "ebf7d37377084846a04c96062da95af3": {
          "model_module": "@jupyter-widgets/controls",
          "model_name": "DescriptionStyleModel",
          "model_module_version": "1.5.0",
          "state": {
            "_view_name": "StyleView",
            "_model_name": "DescriptionStyleModel",
            "description_width": "",
            "_view_module": "@jupyter-widgets/base",
            "_model_module_version": "1.5.0",
            "_view_count": null,
            "_view_module_version": "1.2.0",
            "_model_module": "@jupyter-widgets/controls"
          }
        },
        "3f117fda42384133abf7e6845fc099d5": {
          "model_module": "@jupyter-widgets/base",
          "model_name": "LayoutModel",
          "model_module_version": "1.2.0",
          "state": {
            "_view_name": "LayoutView",
            "grid_template_rows": null,
            "right": null,
            "justify_content": null,
            "_view_module": "@jupyter-widgets/base",
            "overflow": null,
            "_model_module_version": "1.2.0",
            "_view_count": null,
            "flex_flow": null,
            "width": null,
            "min_width": null,
            "border": null,
            "align_items": null,
            "bottom": null,
            "_model_module": "@jupyter-widgets/base",
            "top": null,
            "grid_column": null,
            "overflow_y": null,
            "overflow_x": null,
            "grid_auto_flow": null,
            "grid_area": null,
            "grid_template_columns": null,
            "flex": null,
            "_model_name": "LayoutModel",
            "justify_items": null,
            "grid_row": null,
            "max_height": null,
            "align_content": null,
            "visibility": null,
            "align_self": null,
            "height": null,
            "min_height": null,
            "padding": null,
            "grid_auto_rows": null,
            "grid_gap": null,
            "max_width": null,
            "order": null,
            "_view_module_version": "1.2.0",
            "grid_template_areas": null,
            "object_position": null,
            "object_fit": null,
            "grid_auto_columns": null,
            "margin": null,
            "display": null,
            "left": null
          }
        },
        "e4b02407cddd4119ae9538bb737367f4": {
          "model_module": "@jupyter-widgets/controls",
          "model_name": "HBoxModel",
          "model_module_version": "1.5.0",
          "state": {
            "_view_name": "HBoxView",
            "_dom_classes": [],
            "_model_name": "HBoxModel",
            "_view_module": "@jupyter-widgets/controls",
            "_model_module_version": "1.5.0",
            "_view_count": null,
            "_view_module_version": "1.5.0",
            "box_style": "",
            "layout": "IPY_MODEL_cdf303ed153a4c3f9c046b0c8c8ebc51",
            "_model_module": "@jupyter-widgets/controls",
            "children": [
              "IPY_MODEL_4a445fcc042b4dbbb8bb81dff07f0dd2",
              "IPY_MODEL_3928f79be99a4376a4a19fabeae271c7",
              "IPY_MODEL_95c17d222a324652a1d8db9775bf7215"
            ]
          }
        },
        "cdf303ed153a4c3f9c046b0c8c8ebc51": {
          "model_module": "@jupyter-widgets/base",
          "model_name": "LayoutModel",
          "model_module_version": "1.2.0",
          "state": {
            "_view_name": "LayoutView",
            "grid_template_rows": null,
            "right": null,
            "justify_content": null,
            "_view_module": "@jupyter-widgets/base",
            "overflow": null,
            "_model_module_version": "1.2.0",
            "_view_count": null,
            "flex_flow": null,
            "width": null,
            "min_width": null,
            "border": null,
            "align_items": null,
            "bottom": null,
            "_model_module": "@jupyter-widgets/base",
            "top": null,
            "grid_column": null,
            "overflow_y": null,
            "overflow_x": null,
            "grid_auto_flow": null,
            "grid_area": null,
            "grid_template_columns": null,
            "flex": null,
            "_model_name": "LayoutModel",
            "justify_items": null,
            "grid_row": null,
            "max_height": null,
            "align_content": null,
            "visibility": null,
            "align_self": null,
            "height": null,
            "min_height": null,
            "padding": null,
            "grid_auto_rows": null,
            "grid_gap": null,
            "max_width": null,
            "order": null,
            "_view_module_version": "1.2.0",
            "grid_template_areas": null,
            "object_position": null,
            "object_fit": null,
            "grid_auto_columns": null,
            "margin": null,
            "display": null,
            "left": null
          }
        },
        "4a445fcc042b4dbbb8bb81dff07f0dd2": {
          "model_module": "@jupyter-widgets/controls",
          "model_name": "HTMLModel",
          "model_module_version": "1.5.0",
          "state": {
            "_view_name": "HTMLView",
            "style": "IPY_MODEL_00d1982438734cf0bee0e0dfe60472df",
            "_dom_classes": [],
            "description": "",
            "_model_name": "HTMLModel",
            "placeholder": "​",
            "_view_module": "@jupyter-widgets/controls",
            "_model_module_version": "1.5.0",
            "value": "Downloading: ",
            "_view_count": null,
            "_view_module_version": "1.5.0",
            "description_tooltip": null,
            "_model_module": "@jupyter-widgets/controls",
            "layout": "IPY_MODEL_ca0d3986f0ba424d9b6fd28dbc153d51"
          }
        },
        "3928f79be99a4376a4a19fabeae271c7": {
          "model_module": "@jupyter-widgets/controls",
          "model_name": "FloatProgressModel",
          "model_module_version": "1.5.0",
          "state": {
            "_view_name": "ProgressView",
            "style": "IPY_MODEL_db43f5675b5e4aa19fb03a0c0fb30b72",
            "_dom_classes": [],
            "description": "",
            "_model_name": "FloatProgressModel",
            "bar_style": "success",
            "max": 1967,
            "_view_module": "@jupyter-widgets/controls",
            "_model_module_version": "1.5.0",
            "value": 1967,
            "_view_count": null,
            "_view_module_version": "1.5.0",
            "orientation": "horizontal",
            "min": 0,
            "description_tooltip": null,
            "_model_module": "@jupyter-widgets/controls",
            "layout": "IPY_MODEL_6c6285259c6f4dba8409d7f9c8f4eb6f"
          }
        },
        "95c17d222a324652a1d8db9775bf7215": {
          "model_module": "@jupyter-widgets/controls",
          "model_name": "HTMLModel",
          "model_module_version": "1.5.0",
          "state": {
            "_view_name": "HTMLView",
            "style": "IPY_MODEL_a2051dc46a4c483cace633f77ee30ac5",
            "_dom_classes": [],
            "description": "",
            "_model_name": "HTMLModel",
            "placeholder": "​",
            "_view_module": "@jupyter-widgets/controls",
            "_model_module_version": "1.5.0",
            "value": " 5.19k/? [00:00&lt;00:00, 154kB/s]",
            "_view_count": null,
            "_view_module_version": "1.5.0",
            "description_tooltip": null,
            "_model_module": "@jupyter-widgets/controls",
            "layout": "IPY_MODEL_ed103177492c4a94bbaf9a7634d02215"
          }
        },
        "00d1982438734cf0bee0e0dfe60472df": {
          "model_module": "@jupyter-widgets/controls",
          "model_name": "DescriptionStyleModel",
          "model_module_version": "1.5.0",
          "state": {
            "_view_name": "StyleView",
            "_model_name": "DescriptionStyleModel",
            "description_width": "",
            "_view_module": "@jupyter-widgets/base",
            "_model_module_version": "1.5.0",
            "_view_count": null,
            "_view_module_version": "1.2.0",
            "_model_module": "@jupyter-widgets/controls"
          }
        },
        "ca0d3986f0ba424d9b6fd28dbc153d51": {
          "model_module": "@jupyter-widgets/base",
          "model_name": "LayoutModel",
          "model_module_version": "1.2.0",
          "state": {
            "_view_name": "LayoutView",
            "grid_template_rows": null,
            "right": null,
            "justify_content": null,
            "_view_module": "@jupyter-widgets/base",
            "overflow": null,
            "_model_module_version": "1.2.0",
            "_view_count": null,
            "flex_flow": null,
            "width": null,
            "min_width": null,
            "border": null,
            "align_items": null,
            "bottom": null,
            "_model_module": "@jupyter-widgets/base",
            "top": null,
            "grid_column": null,
            "overflow_y": null,
            "overflow_x": null,
            "grid_auto_flow": null,
            "grid_area": null,
            "grid_template_columns": null,
            "flex": null,
            "_model_name": "LayoutModel",
            "justify_items": null,
            "grid_row": null,
            "max_height": null,
            "align_content": null,
            "visibility": null,
            "align_self": null,
            "height": null,
            "min_height": null,
            "padding": null,
            "grid_auto_rows": null,
            "grid_gap": null,
            "max_width": null,
            "order": null,
            "_view_module_version": "1.2.0",
            "grid_template_areas": null,
            "object_position": null,
            "object_fit": null,
            "grid_auto_columns": null,
            "margin": null,
            "display": null,
            "left": null
          }
        },
        "db43f5675b5e4aa19fb03a0c0fb30b72": {
          "model_module": "@jupyter-widgets/controls",
          "model_name": "ProgressStyleModel",
          "model_module_version": "1.5.0",
          "state": {
            "_view_name": "StyleView",
            "_model_name": "ProgressStyleModel",
            "description_width": "",
            "_view_module": "@jupyter-widgets/base",
            "_model_module_version": "1.5.0",
            "_view_count": null,
            "_view_module_version": "1.2.0",
            "bar_color": null,
            "_model_module": "@jupyter-widgets/controls"
          }
        },
        "6c6285259c6f4dba8409d7f9c8f4eb6f": {
          "model_module": "@jupyter-widgets/base",
          "model_name": "LayoutModel",
          "model_module_version": "1.2.0",
          "state": {
            "_view_name": "LayoutView",
            "grid_template_rows": null,
            "right": null,
            "justify_content": null,
            "_view_module": "@jupyter-widgets/base",
            "overflow": null,
            "_model_module_version": "1.2.0",
            "_view_count": null,
            "flex_flow": null,
            "width": null,
            "min_width": null,
            "border": null,
            "align_items": null,
            "bottom": null,
            "_model_module": "@jupyter-widgets/base",
            "top": null,
            "grid_column": null,
            "overflow_y": null,
            "overflow_x": null,
            "grid_auto_flow": null,
            "grid_area": null,
            "grid_template_columns": null,
            "flex": null,
            "_model_name": "LayoutModel",
            "justify_items": null,
            "grid_row": null,
            "max_height": null,
            "align_content": null,
            "visibility": null,
            "align_self": null,
            "height": null,
            "min_height": null,
            "padding": null,
            "grid_auto_rows": null,
            "grid_gap": null,
            "max_width": null,
            "order": null,
            "_view_module_version": "1.2.0",
            "grid_template_areas": null,
            "object_position": null,
            "object_fit": null,
            "grid_auto_columns": null,
            "margin": null,
            "display": null,
            "left": null
          }
        },
        "a2051dc46a4c483cace633f77ee30ac5": {
          "model_module": "@jupyter-widgets/controls",
          "model_name": "DescriptionStyleModel",
          "model_module_version": "1.5.0",
          "state": {
            "_view_name": "StyleView",
            "_model_name": "DescriptionStyleModel",
            "description_width": "",
            "_view_module": "@jupyter-widgets/base",
            "_model_module_version": "1.5.0",
            "_view_count": null,
            "_view_module_version": "1.2.0",
            "_model_module": "@jupyter-widgets/controls"
          }
        },
        "ed103177492c4a94bbaf9a7634d02215": {
          "model_module": "@jupyter-widgets/base",
          "model_name": "LayoutModel",
          "model_module_version": "1.2.0",
          "state": {
            "_view_name": "LayoutView",
            "grid_template_rows": null,
            "right": null,
            "justify_content": null,
            "_view_module": "@jupyter-widgets/base",
            "overflow": null,
            "_model_module_version": "1.2.0",
            "_view_count": null,
            "flex_flow": null,
            "width": null,
            "min_width": null,
            "border": null,
            "align_items": null,
            "bottom": null,
            "_model_module": "@jupyter-widgets/base",
            "top": null,
            "grid_column": null,
            "overflow_y": null,
            "overflow_x": null,
            "grid_auto_flow": null,
            "grid_area": null,
            "grid_template_columns": null,
            "flex": null,
            "_model_name": "LayoutModel",
            "justify_items": null,
            "grid_row": null,
            "max_height": null,
            "align_content": null,
            "visibility": null,
            "align_self": null,
            "height": null,
            "min_height": null,
            "padding": null,
            "grid_auto_rows": null,
            "grid_gap": null,
            "max_width": null,
            "order": null,
            "_view_module_version": "1.2.0",
            "grid_template_areas": null,
            "object_position": null,
            "object_fit": null,
            "grid_auto_columns": null,
            "margin": null,
            "display": null,
            "left": null
          }
        },
        "301501f5c79b46c9a872ba02d0b461da": {
          "model_module": "@jupyter-widgets/controls",
          "model_name": "HBoxModel",
          "model_module_version": "1.5.0",
          "state": {
            "_view_name": "HBoxView",
            "_dom_classes": [],
            "_model_name": "HBoxModel",
            "_view_module": "@jupyter-widgets/controls",
            "_model_module_version": "1.5.0",
            "_view_count": null,
            "_view_module_version": "1.5.0",
            "box_style": "",
            "layout": "IPY_MODEL_0ebec932f5084264a4775c6122aa7aef",
            "_model_module": "@jupyter-widgets/controls",
            "children": [
              "IPY_MODEL_d3f490b3f946450a8725238129b69ba0",
              "IPY_MODEL_7756f2d9478f4e56bda2c05feb0c7cce",
              "IPY_MODEL_af0221b3b4e642db8880c3d3904ecba1"
            ]
          }
        },
        "0ebec932f5084264a4775c6122aa7aef": {
          "model_module": "@jupyter-widgets/base",
          "model_name": "LayoutModel",
          "model_module_version": "1.2.0",
          "state": {
            "_view_name": "LayoutView",
            "grid_template_rows": null,
            "right": null,
            "justify_content": null,
            "_view_module": "@jupyter-widgets/base",
            "overflow": null,
            "_model_module_version": "1.2.0",
            "_view_count": null,
            "flex_flow": null,
            "width": null,
            "min_width": null,
            "border": null,
            "align_items": null,
            "bottom": null,
            "_model_module": "@jupyter-widgets/base",
            "top": null,
            "grid_column": null,
            "overflow_y": null,
            "overflow_x": null,
            "grid_auto_flow": null,
            "grid_area": null,
            "grid_template_columns": null,
            "flex": null,
            "_model_name": "LayoutModel",
            "justify_items": null,
            "grid_row": null,
            "max_height": null,
            "align_content": null,
            "visibility": null,
            "align_self": null,
            "height": null,
            "min_height": null,
            "padding": null,
            "grid_auto_rows": null,
            "grid_gap": null,
            "max_width": null,
            "order": null,
            "_view_module_version": "1.2.0",
            "grid_template_areas": null,
            "object_position": null,
            "object_fit": null,
            "grid_auto_columns": null,
            "margin": null,
            "display": null,
            "left": null
          }
        },
        "d3f490b3f946450a8725238129b69ba0": {
          "model_module": "@jupyter-widgets/controls",
          "model_name": "HTMLModel",
          "model_module_version": "1.5.0",
          "state": {
            "_view_name": "HTMLView",
            "style": "IPY_MODEL_0b84e6fd45944afc9c83ca85a3d83895",
            "_dom_classes": [],
            "description": "",
            "_model_name": "HTMLModel",
            "placeholder": "​",
            "_view_module": "@jupyter-widgets/controls",
            "_model_module_version": "1.5.0",
            "value": "Downloading: 100%",
            "_view_count": null,
            "_view_module_version": "1.5.0",
            "description_tooltip": null,
            "_model_module": "@jupyter-widgets/controls",
            "layout": "IPY_MODEL_956248a895d747b6ade5c287e89a3a14"
          }
        },
        "7756f2d9478f4e56bda2c05feb0c7cce": {
          "model_module": "@jupyter-widgets/controls",
          "model_name": "FloatProgressModel",
          "model_module_version": "1.5.0",
          "state": {
            "_view_name": "ProgressView",
            "style": "IPY_MODEL_5429f9243dc746cd9c1193fd7a5eaae9",
            "_dom_classes": [],
            "description": "",
            "_model_name": "FloatProgressModel",
            "bar_style": "success",
            "max": 1243915708,
            "_view_module": "@jupyter-widgets/controls",
            "_model_module_version": "1.5.0",
            "value": 1243915708,
            "_view_count": null,
            "_view_module_version": "1.5.0",
            "orientation": "horizontal",
            "min": 0,
            "description_tooltip": null,
            "_model_module": "@jupyter-widgets/controls",
            "layout": "IPY_MODEL_2f583634ca4a495c99aaf4a4895a5201"
          }
        },
        "af0221b3b4e642db8880c3d3904ecba1": {
          "model_module": "@jupyter-widgets/controls",
          "model_name": "HTMLModel",
          "model_module_version": "1.5.0",
          "state": {
            "_view_name": "HTMLView",
            "style": "IPY_MODEL_7ca4a1cf13774995a071e1d9ee4c9132",
            "_dom_classes": [],
            "description": "",
            "_model_name": "HTMLModel",
            "placeholder": "​",
            "_view_module": "@jupyter-widgets/controls",
            "_model_module_version": "1.5.0",
            "value": " 1.24G/1.24G [00:25&lt;00:00, 57.7MB/s]",
            "_view_count": null,
            "_view_module_version": "1.5.0",
            "description_tooltip": null,
            "_model_module": "@jupyter-widgets/controls",
            "layout": "IPY_MODEL_d722aed3329242e787d461a88c750451"
          }
        },
        "0b84e6fd45944afc9c83ca85a3d83895": {
          "model_module": "@jupyter-widgets/controls",
          "model_name": "DescriptionStyleModel",
          "model_module_version": "1.5.0",
          "state": {
            "_view_name": "StyleView",
            "_model_name": "DescriptionStyleModel",
            "description_width": "",
            "_view_module": "@jupyter-widgets/base",
            "_model_module_version": "1.5.0",
            "_view_count": null,
            "_view_module_version": "1.2.0",
            "_model_module": "@jupyter-widgets/controls"
          }
        },
        "956248a895d747b6ade5c287e89a3a14": {
          "model_module": "@jupyter-widgets/base",
          "model_name": "LayoutModel",
          "model_module_version": "1.2.0",
          "state": {
            "_view_name": "LayoutView",
            "grid_template_rows": null,
            "right": null,
            "justify_content": null,
            "_view_module": "@jupyter-widgets/base",
            "overflow": null,
            "_model_module_version": "1.2.0",
            "_view_count": null,
            "flex_flow": null,
            "width": null,
            "min_width": null,
            "border": null,
            "align_items": null,
            "bottom": null,
            "_model_module": "@jupyter-widgets/base",
            "top": null,
            "grid_column": null,
            "overflow_y": null,
            "overflow_x": null,
            "grid_auto_flow": null,
            "grid_area": null,
            "grid_template_columns": null,
            "flex": null,
            "_model_name": "LayoutModel",
            "justify_items": null,
            "grid_row": null,
            "max_height": null,
            "align_content": null,
            "visibility": null,
            "align_self": null,
            "height": null,
            "min_height": null,
            "padding": null,
            "grid_auto_rows": null,
            "grid_gap": null,
            "max_width": null,
            "order": null,
            "_view_module_version": "1.2.0",
            "grid_template_areas": null,
            "object_position": null,
            "object_fit": null,
            "grid_auto_columns": null,
            "margin": null,
            "display": null,
            "left": null
          }
        },
        "5429f9243dc746cd9c1193fd7a5eaae9": {
          "model_module": "@jupyter-widgets/controls",
          "model_name": "ProgressStyleModel",
          "model_module_version": "1.5.0",
          "state": {
            "_view_name": "StyleView",
            "_model_name": "ProgressStyleModel",
            "description_width": "",
            "_view_module": "@jupyter-widgets/base",
            "_model_module_version": "1.5.0",
            "_view_count": null,
            "_view_module_version": "1.2.0",
            "bar_color": null,
            "_model_module": "@jupyter-widgets/controls"
          }
        },
        "2f583634ca4a495c99aaf4a4895a5201": {
          "model_module": "@jupyter-widgets/base",
          "model_name": "LayoutModel",
          "model_module_version": "1.2.0",
          "state": {
            "_view_name": "LayoutView",
            "grid_template_rows": null,
            "right": null,
            "justify_content": null,
            "_view_module": "@jupyter-widgets/base",
            "overflow": null,
            "_model_module_version": "1.2.0",
            "_view_count": null,
            "flex_flow": null,
            "width": null,
            "min_width": null,
            "border": null,
            "align_items": null,
            "bottom": null,
            "_model_module": "@jupyter-widgets/base",
            "top": null,
            "grid_column": null,
            "overflow_y": null,
            "overflow_x": null,
            "grid_auto_flow": null,
            "grid_area": null,
            "grid_template_columns": null,
            "flex": null,
            "_model_name": "LayoutModel",
            "justify_items": null,
            "grid_row": null,
            "max_height": null,
            "align_content": null,
            "visibility": null,
            "align_self": null,
            "height": null,
            "min_height": null,
            "padding": null,
            "grid_auto_rows": null,
            "grid_gap": null,
            "max_width": null,
            "order": null,
            "_view_module_version": "1.2.0",
            "grid_template_areas": null,
            "object_position": null,
            "object_fit": null,
            "grid_auto_columns": null,
            "margin": null,
            "display": null,
            "left": null
          }
        },
        "7ca4a1cf13774995a071e1d9ee4c9132": {
          "model_module": "@jupyter-widgets/controls",
          "model_name": "DescriptionStyleModel",
          "model_module_version": "1.5.0",
          "state": {
            "_view_name": "StyleView",
            "_model_name": "DescriptionStyleModel",
            "description_width": "",
            "_view_module": "@jupyter-widgets/base",
            "_model_module_version": "1.5.0",
            "_view_count": null,
            "_view_module_version": "1.2.0",
            "_model_module": "@jupyter-widgets/controls"
          }
        },
        "d722aed3329242e787d461a88c750451": {
          "model_module": "@jupyter-widgets/base",
          "model_name": "LayoutModel",
          "model_module_version": "1.2.0",
          "state": {
            "_view_name": "LayoutView",
            "grid_template_rows": null,
            "right": null,
            "justify_content": null,
            "_view_module": "@jupyter-widgets/base",
            "overflow": null,
            "_model_module_version": "1.2.0",
            "_view_count": null,
            "flex_flow": null,
            "width": null,
            "min_width": null,
            "border": null,
            "align_items": null,
            "bottom": null,
            "_model_module": "@jupyter-widgets/base",
            "top": null,
            "grid_column": null,
            "overflow_y": null,
            "overflow_x": null,
            "grid_auto_flow": null,
            "grid_area": null,
            "grid_template_columns": null,
            "flex": null,
            "_model_name": "LayoutModel",
            "justify_items": null,
            "grid_row": null,
            "max_height": null,
            "align_content": null,
            "visibility": null,
            "align_self": null,
            "height": null,
            "min_height": null,
            "padding": null,
            "grid_auto_rows": null,
            "grid_gap": null,
            "max_width": null,
            "order": null,
            "_view_module_version": "1.2.0",
            "grid_template_areas": null,
            "object_position": null,
            "object_fit": null,
            "grid_auto_columns": null,
            "margin": null,
            "display": null,
            "left": null
          }
        }
      }
    }
  },
  "nbformat": 4,
  "nbformat_minor": 0
}